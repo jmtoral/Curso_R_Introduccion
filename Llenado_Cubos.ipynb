{
  "nbformat": 4,
  "nbformat_minor": 0,
  "metadata": {
    "colab": {
      "name": "Llenado_Cubos",
      "provenance": [],
      "collapsed_sections": [
        "jaHvPMBX3aQd",
        "XNmXEDGq3Mk9",
        "G0JUjt7FKl1J",
        "Tt5zQ2xRF5G_",
        "jDK49UW1GA0z",
        "I6wuzgbVlLyy"
      ],
      "toc_visible": true,
      "include_colab_link": true
    },
    "kernelspec": {
      "display_name": "R",
      "name": "ir"
    },
    "language_info": {
      "name": "R"
    }
  },
  "cells": [
    {
      "cell_type": "markdown",
      "metadata": {
        "id": "view-in-github",
        "colab_type": "text"
      },
      "source": [
        "<a href=\"https://colab.research.google.com/github/jmtoral/Curso_R_Introduccion/blob/master/Llenado_Cubos.ipynb\" target=\"_parent\"><img src=\"https://colab.research.google.com/assets/colab-badge.svg\" alt=\"Open In Colab\"/></a>"
      ]
    },
    {
      "cell_type": "markdown",
      "metadata": {
        "id": "_-LKlnBizAkJ"
      },
      "source": [
        "#Llenado de las tablas con cubo de datos (Reportes Estadísticos)\n",
        "\n",
        "- **Autores:** Daniel Pachecho, Héctor Sandoval, Manuel Toral\n",
        "- **Fecha de escritura:** 19 de marzo de 2019\n",
        "- **Fecha de última actualización**: 19 de marzo de 2019\n",
        "- **Descripción**: Las secciones 1, 2 y 3 tienen una serie de cuadros que se pueden llenar con los datos del cubo elaborado por la STEA. La idea de este script es generar la información en la estructura adecuada para su captura.\n"
      ]
    },
    {
      "cell_type": "markdown",
      "metadata": {
        "id": "jaHvPMBX3aQd"
      },
      "source": [
        "##Bibliotecas"
      ]
    },
    {
      "cell_type": "code",
      "metadata": {
        "colab": {
          "base_uri": "https://localhost:8080/"
        },
        "id": "LgaAE42c97mH",
        "outputId": "d7857dd5-d1cd-4e69-b75f-97f260e77e2e"
      },
      "source": [
        "install.packages(\"janitor\")"
      ],
      "execution_count": null,
      "outputs": [
        {
          "output_type": "stream",
          "text": [
            "Installing package into ‘/usr/local/lib/R/site-library’\n",
            "(as ‘lib’ is unspecified)\n",
            "\n",
            "also installing the dependency ‘snakecase’\n",
            "\n",
            "\n"
          ],
          "name": "stderr"
        }
      ]
    },
    {
      "cell_type": "code",
      "metadata": {
        "id": "Nj-Zwms5y6NH",
        "colab": {
          "base_uri": "https://localhost:8080/"
        },
        "outputId": "3d6b90de-462c-4d74-80c2-552cf9e0c764"
      },
      "source": [
        "library(tidyverse)\n",
        "library(readxl)\n",
        "library(janitor)\n",
        "\n",
        "library(dplyr)\n",
        "library(readr)\n",
        "library(tidyverse)\n",
        "library(stringr)\n"
      ],
      "execution_count": null,
      "outputs": [
        {
          "output_type": "stream",
          "text": [
            "Warning message in system(\"timedatectl\", intern = TRUE):\n",
            "“running command 'timedatectl' had status 1”\n",
            "── \u001b[1mAttaching packages\u001b[22m ─────────────────────────────────────── tidyverse 1.3.0 ──\n",
            "\n",
            "\u001b[32m✔\u001b[39m \u001b[34mggplot2\u001b[39m 3.3.3     \u001b[32m✔\u001b[39m \u001b[34mpurrr  \u001b[39m 0.3.4\n",
            "\u001b[32m✔\u001b[39m \u001b[34mtibble \u001b[39m 3.1.0     \u001b[32m✔\u001b[39m \u001b[34mdplyr  \u001b[39m 1.0.5\n",
            "\u001b[32m✔\u001b[39m \u001b[34mtidyr  \u001b[39m 1.1.3     \u001b[32m✔\u001b[39m \u001b[34mstringr\u001b[39m 1.4.0\n",
            "\u001b[32m✔\u001b[39m \u001b[34mreadr  \u001b[39m 1.4.0     \u001b[32m✔\u001b[39m \u001b[34mforcats\u001b[39m 0.5.1\n",
            "\n",
            "── \u001b[1mConflicts\u001b[22m ────────────────────────────────────────── tidyverse_conflicts() ──\n",
            "\u001b[31m✖\u001b[39m \u001b[34mdplyr\u001b[39m::\u001b[32mfilter()\u001b[39m masks \u001b[34mstats\u001b[39m::filter()\n",
            "\u001b[31m✖\u001b[39m \u001b[34mdplyr\u001b[39m::\u001b[32mlag()\u001b[39m    masks \u001b[34mstats\u001b[39m::lag()\n",
            "\n",
            "\n",
            "Attaching package: ‘janitor’\n",
            "\n",
            "\n",
            "The following objects are masked from ‘package:stats’:\n",
            "\n",
            "    chisq.test, fisher.test\n",
            "\n",
            "\n"
          ],
          "name": "stderr"
        }
      ]
    },
    {
      "cell_type": "markdown",
      "metadata": {
        "id": "FpEhL3ZX3edy"
      },
      "source": [
        "## Datos"
      ]
    },
    {
      "cell_type": "code",
      "metadata": {
        "colab": {
          "base_uri": "https://localhost:8080/"
        },
        "id": "-DNzEcy61uW8",
        "outputId": "26629a7f-b67f-4110-c29e-6919bf6419ef"
      },
      "source": [
        "cubo <- read.csv(\"/content/cubo_reporte_estadistico_cnijf2021_17032021.csv\", header=T, stringsAsFactors=FALSE, fileEncoding=\"latin1\") %>%\n",
        "          as_tibble()\n",
        "\n",
        "glimpse(cubo)"
      ],
      "execution_count": null,
      "outputs": [
        {
          "output_type": "stream",
          "text": [
            "Rows: 19,226\n",
            "Columns: 17\n",
            "$ Periodo            \u001b[3m\u001b[90m<int>\u001b[39m\u001b[23m 2020, 2020, 2020, 2020, 2020, 2020, 2020, 2020, 202…\n",
            "$ circuito           \u001b[3m\u001b[90m<chr>\u001b[39m\u001b[23m \"Primer Circuito/ Ciudad de México\", \"Segundo Circu…\n",
            "$ tp_organo          \u001b[3m\u001b[90m<chr>\u001b[39m\u001b[23m \"Juzgados de Distrito\", \"Juzgados de Distrito\", \"Ju…\n",
            "$ materia_asunto     \u001b[3m\u001b[90m<chr>\u001b[39m\u001b[23m \"Penal\", \"Penal\", \"Penal\", \"Penal\", \"Penal\", \"Penal…\n",
            "$ tp_asunto          \u001b[3m\u001b[90m<chr>\u001b[39m\u001b[23m \"amparo indirecto\", \"amparo indirecto\", \"amparo ind…\n",
            "$ tp_procedimiento   \u001b[3m\u001b[90m<chr>\u001b[39m\u001b[23m \"\", \"\", \"\", \"\", \"\", \"\", \"\", \"\", \"\", \"\", \"\", \"\", \"\",…\n",
            "$ sentido_RE         \u001b[3m\u001b[90m<chr>\u001b[39m\u001b[23m \"\", \"\", \"\", \"\", \"\", \"\", \"\", \"\", \"\", \"\", \"\", \"\", \"\",…\n",
            "$ sentido            \u001b[3m\u001b[90m<chr>\u001b[39m\u001b[23m \"\", \"\", \"\", \"\", \"\", \"\", \"\", \"\", \"\", \"\", \"\", \"\", \"\",…\n",
            "$ existencia_inicial \u001b[3m\u001b[90m<int>\u001b[39m\u001b[23m 2032, 1375, 1429, 643, 340, 738, 1067, 562, 358, 62…\n",
            "$ ingresos           \u001b[3m\u001b[90m<int>\u001b[39m\u001b[23m 12188, 10447, 7775, 3511, 1609, 5523, 3599, 2562, 1…\n",
            "$ ingresos_nuevos    \u001b[3m\u001b[90m<int>\u001b[39m\u001b[23m 11576, 10100, 7493, 3414, 1548, 5399, 3469, 2512, 1…\n",
            "$ reingresos         \u001b[3m\u001b[90m<int>\u001b[39m\u001b[23m 585, 347, 282, 97, 61, 124, 130, 50, 34, 83, 28, 34…\n",
            "$ ingresos_acuerdo   \u001b[3m\u001b[90m<int>\u001b[39m\u001b[23m 27, 0, 0, 0, 0, 0, 0, 0, 0, 0, 0, 0, 0, 0, 0, 0, 0,…\n",
            "$ ingresos_arch_prov \u001b[3m\u001b[90m<int>\u001b[39m\u001b[23m 0, 0, 0, 0, 0, 0, 0, 0, 0, 0, 0, 0, 0, 0, 0, 0, 0, …\n",
            "$ egresos            \u001b[3m\u001b[90m<int>\u001b[39m\u001b[23m 0, 0, 0, 0, 0, 0, 0, 0, 0, 0, 0, 0, 0, 0, 0, 0, 0, …\n",
            "$ egresos_acuerdo    \u001b[3m\u001b[90m<int>\u001b[39m\u001b[23m 7, 2, 5, 0, 0, 10, 5, 0, 0, 1, 0, 0, 0, 2, 0, 19, 1…\n",
            "$ Existencia_final   \u001b[3m\u001b[90m<int>\u001b[39m\u001b[23m 3105, 2706, 1908, 979, 506, 1168, 1472, 965, 479, 7…\n"
          ],
          "name": "stdout"
        }
      ]
    },
    {
      "cell_type": "code",
      "metadata": {
        "id": "vxY_eozhBykU"
      },
      "source": [
        "### Orden de los circuitos\n",
        "orden_circuitos = c(\n",
        "\"Primer Circuito/ Ciudad de México\",\t\t\t\t\t\t\n",
        "\"Segundo Circuito/ México\",\t\t\t\t\t\n",
        "\"Tercer Circuito/ Jalisco\",\t\t\t\t\t\t\n",
        "\"Cuarto Circuito/ Nuevo León\",\t\t\t\t\t\t\n",
        "\"Quinto Circuito/ Sonora\",\t\t\t\t\t\t\n",
        "\"Sexto Circuito/ Puebla\",\t\t\t\t\t\t\n",
        "\"Séptimo Circuito/ Veracruz de Ignacio de la Llave\",\t\t\t\t\t\n",
        "\"Octavo Circuito/ Coahuila de Zaragoza\",\n",
        "\"Noveno Circuito/ San Luis Potosí\",\t\t\t\t\t\t\n",
        "\"Décimo Circuito/ Tabasco-Veracruz\",\t\t\t\t\t\t\n",
        "\"Decimoprimer Circuito/ Michoacán de Ocampo\",\t\t\t\t\t\t\n",
        "\"Decimosegundo Circuito/ Sinaloa\",\t\t\t\t\t\n",
        "\"Decimotercer Circuito/ Oaxaca\",\t\t\t\t\t\n",
        "\"Decimocuarto Circuito/ Yucatán\",\t\t\t\t\t\t\n",
        "\"Decimoquinto Circuito/ Baja California\",\t\t\t\t\t\t\n",
        "\"Decimosexto Circuito/ Guanajuato\",\t\t\t\t\t\t\n",
        "\"Decimoséptimo Circuito/ Chihuahua\",\t\t\t\t\t\t\n",
        "\"Decimoctavo Circuito/ Morelos\",\t\t\t\n",
        "\"Decimonoveno Circuito/ Tamaulipas\",\t\t\t\t\t\t\n",
        "\"Vigésimo Circuito/ Chiapas\",\t\t\n",
        "\"Vigésimo Primer Circuito/ Guerrero\",\t\t\t\t\t\t\n",
        "\"Vigésimo Segundo Circuito/ Querétaro\",\t\t\t\t\t\t\n",
        "\"Vigésimo Tercer Circuito/ Zacatecas\",\t\t\t\t\t\t\n",
        "\"Vigésimo Cuarto Circuito/ Nayarit\",\t\t\t\t\t\t\n",
        "\"Vigésimo Quinto Circuito/ Durango\",\t\t\t\t\t\t\n",
        "\"Vigésimo Sexto Circuito/ Baja California Sur\",\t\t\t\t\t\t\n",
        "\"Vigésimo Séptimo Circuito/ Quintana Roo\",\t\t\t\t\t\t\n",
        "\"Vigésimo Octavo Circuito/ Tlaxcala\",\t\t\t\t\t\t\n",
        "\"Vigésimo Noveno Circuito/ Hidalgo\",\t\t\t\t\t\t\n",
        "\"Trigésimo Circuito/ Aguascalientes\",\t\t\t\t\t\t\n",
        "\"Trigésimo Primer Circuito/ Campeche\",\t\t\t\t\t\t\n",
        "\"Trigésimo Segundo Circuito/ Colima\"\t\t\n",
        ")\t\t\t\t"
      ],
      "execution_count": null,
      "outputs": []
    },
    {
      "cell_type": "code",
      "metadata": {
        "colab": {
          "base_uri": "https://localhost:8080/"
        },
        "id": "nlAA9GftDsFZ",
        "outputId": "186bb9d8-dea6-483d-d060-213925942fdd"
      },
      "source": [
        "cubo %>%\n",
        "distinct(tp_asunto) %>%\n",
        "arrange(tp_asunto)\n",
        "\n",
        "cubo %>%\n",
        "distinct(tp_procedimiento) %>%\n",
        "arrange(tp_procedimiento)"
      ],
      "execution_count": null,
      "outputs": [
        {
          "output_type": "display_data",
          "data": {
            "text/plain": [
              "   tp_asunto                                                        \n",
              "1                                                                   \n",
              "2  amparo directo                                                   \n",
              "3  amparo en revisión                                               \n",
              "4  amparo indirecto                                                 \n",
              "5  causa penal                                                      \n",
              "6  conflictos competenciales                                        \n",
              "7  conflictos de acumulación                                        \n",
              "8  denuncia repetición del acto reclamado                           \n",
              "9  extinción de dominio                                             \n",
              "10 impedimentos                                                     \n",
              "11 incidente de reconocimiento de inocencia                         \n",
              "12 Incidente de reconocimiento de inocencia                         \n",
              "13 incidentes de inejecución                                        \n",
              "14 inconformidad                                                    \n",
              "15 juicio oral mercantil                                            \n",
              "16 procesos administrativos y civiles                               \n",
              "17 procesos federales administrativos y civiles en segunda instancia\n",
              "18 procesos federales penales en segunda instancia                  \n",
              "19 queja                                                            \n",
              "20 reclamaciones                                                    \n",
              "21 reconocimiento de inocencia y anulación de sentencia             \n",
              "22 Reconocimiento de inocencia y anulación de sentencia             \n",
              "23 revisión contenciosa administrativa                              \n",
              "24 revisión fiscal                                                  \n",
              "25 varios                                                           "
            ],
            "text/latex": "A tibble: 25 × 1\n\\begin{tabular}{l}\n tp\\_asunto\\\\\n <chr>\\\\\n\\hline\n\t                                                                  \\\\\n\t amparo directo                                                   \\\\\n\t amparo en revisión                                               \\\\\n\t amparo indirecto                                                 \\\\\n\t causa penal                                                      \\\\\n\t conflictos competenciales                                        \\\\\n\t conflictos de acumulación                                        \\\\\n\t denuncia repetición del acto reclamado                           \\\\\n\t extinción de dominio                                             \\\\\n\t impedimentos                                                     \\\\\n\t incidente de reconocimiento de inocencia                         \\\\\n\t Incidente de reconocimiento de inocencia                         \\\\\n\t incidentes de inejecución                                        \\\\\n\t inconformidad                                                    \\\\\n\t juicio oral mercantil                                            \\\\\n\t procesos administrativos y civiles                               \\\\\n\t procesos federales administrativos y civiles en segunda instancia\\\\\n\t procesos federales penales en segunda instancia                  \\\\\n\t queja                                                            \\\\\n\t reclamaciones                                                    \\\\\n\t reconocimiento de inocencia y anulación de sentencia             \\\\\n\t Reconocimiento de inocencia y anulación de sentencia             \\\\\n\t revisión contenciosa administrativa                              \\\\\n\t revisión fiscal                                                  \\\\\n\t varios                                                           \\\\\n\\end{tabular}\n",
            "text/markdown": "\nA tibble: 25 × 1\n\n| tp_asunto &lt;chr&gt; |\n|---|\n| <!----> |\n| amparo directo                                                    |\n| amparo en revisión                                                |\n| amparo indirecto                                                  |\n| causa penal                                                       |\n| conflictos competenciales                                         |\n| conflictos de acumulación                                         |\n| denuncia repetición del acto reclamado                            |\n| extinción de dominio                                              |\n| impedimentos                                                      |\n| incidente de reconocimiento de inocencia                          |\n| Incidente de reconocimiento de inocencia                          |\n| incidentes de inejecución                                         |\n| inconformidad                                                     |\n| juicio oral mercantil                                             |\n| procesos administrativos y civiles                                |\n| procesos federales administrativos y civiles en segunda instancia |\n| procesos federales penales en segunda instancia                   |\n| queja                                                             |\n| reclamaciones                                                     |\n| reconocimiento de inocencia y anulación de sentencia              |\n| Reconocimiento de inocencia y anulación de sentencia              |\n| revisión contenciosa administrativa                               |\n| revisión fiscal                                                   |\n| varios                                                            |\n\n",
            "text/html": [
              "<table class=\"dataframe\">\n",
              "<caption>A tibble: 25 × 1</caption>\n",
              "<thead>\n",
              "\t<tr><th scope=col>tp_asunto</th></tr>\n",
              "\t<tr><th scope=col>&lt;chr&gt;</th></tr>\n",
              "</thead>\n",
              "<tbody>\n",
              "\t<tr><td>                                                                 </td></tr>\n",
              "\t<tr><td>amparo directo                                                   </td></tr>\n",
              "\t<tr><td>amparo en revisión                                               </td></tr>\n",
              "\t<tr><td>amparo indirecto                                                 </td></tr>\n",
              "\t<tr><td>causa penal                                                      </td></tr>\n",
              "\t<tr><td>conflictos competenciales                                        </td></tr>\n",
              "\t<tr><td>conflictos de acumulación                                        </td></tr>\n",
              "\t<tr><td>denuncia repetición del acto reclamado                           </td></tr>\n",
              "\t<tr><td>extinción de dominio                                             </td></tr>\n",
              "\t<tr><td>impedimentos                                                     </td></tr>\n",
              "\t<tr><td>incidente de reconocimiento de inocencia                         </td></tr>\n",
              "\t<tr><td>Incidente de reconocimiento de inocencia                         </td></tr>\n",
              "\t<tr><td>incidentes de inejecución                                        </td></tr>\n",
              "\t<tr><td>inconformidad                                                    </td></tr>\n",
              "\t<tr><td>juicio oral mercantil                                            </td></tr>\n",
              "\t<tr><td>procesos administrativos y civiles                               </td></tr>\n",
              "\t<tr><td>procesos federales administrativos y civiles en segunda instancia</td></tr>\n",
              "\t<tr><td>procesos federales penales en segunda instancia                  </td></tr>\n",
              "\t<tr><td>queja                                                            </td></tr>\n",
              "\t<tr><td>reclamaciones                                                    </td></tr>\n",
              "\t<tr><td>reconocimiento de inocencia y anulación de sentencia             </td></tr>\n",
              "\t<tr><td>Reconocimiento de inocencia y anulación de sentencia             </td></tr>\n",
              "\t<tr><td>revisión contenciosa administrativa                              </td></tr>\n",
              "\t<tr><td>revisión fiscal                                                  </td></tr>\n",
              "\t<tr><td>varios                                                           </td></tr>\n",
              "</tbody>\n",
              "</table>\n"
            ]
          },
          "metadata": {
            "tags": []
          }
        },
        {
          "output_type": "display_data",
          "data": {
            "text/plain": [
              "   tp_procedimiento           \n",
              "1                             \n",
              "2  Anulación de sentencia     \n",
              "3  Anulación de Sentencia     \n",
              "4  Apelación                  \n",
              "5  Competencia entre jueces   \n",
              "6  Conflicto de acumulación   \n",
              "7  Conflicto de Acumulación   \n",
              "8  Conflicto De Acumulación   \n",
              "9  Denegada apelación         \n",
              "10 Denegada Apelación         \n",
              "11 Impedimento                \n",
              "12 Otro                       \n",
              "13 Queja                      \n",
              "14 Reconocimiento de inocencia\n",
              "15 Reconocimiento de Inocencia"
            ],
            "text/latex": "A tibble: 15 × 1\n\\begin{tabular}{l}\n tp\\_procedimiento\\\\\n <chr>\\\\\n\\hline\n\t                            \\\\\n\t Anulación de sentencia     \\\\\n\t Anulación de Sentencia     \\\\\n\t Apelación                  \\\\\n\t Competencia entre jueces   \\\\\n\t Conflicto de acumulación   \\\\\n\t Conflicto de Acumulación   \\\\\n\t Conflicto De Acumulación   \\\\\n\t Denegada apelación         \\\\\n\t Denegada Apelación         \\\\\n\t Impedimento                \\\\\n\t Otro                       \\\\\n\t Queja                      \\\\\n\t Reconocimiento de inocencia\\\\\n\t Reconocimiento de Inocencia\\\\\n\\end{tabular}\n",
            "text/markdown": "\nA tibble: 15 × 1\n\n| tp_procedimiento &lt;chr&gt; |\n|---|\n| <!----> |\n| Anulación de sentencia      |\n| Anulación de Sentencia      |\n| Apelación                   |\n| Competencia entre jueces    |\n| Conflicto de acumulación    |\n| Conflicto de Acumulación    |\n| Conflicto De Acumulación    |\n| Denegada apelación          |\n| Denegada Apelación          |\n| Impedimento                 |\n| Otro                        |\n| Queja                       |\n| Reconocimiento de inocencia |\n| Reconocimiento de Inocencia |\n\n",
            "text/html": [
              "<table class=\"dataframe\">\n",
              "<caption>A tibble: 15 × 1</caption>\n",
              "<thead>\n",
              "\t<tr><th scope=col>tp_procedimiento</th></tr>\n",
              "\t<tr><th scope=col>&lt;chr&gt;</th></tr>\n",
              "</thead>\n",
              "<tbody>\n",
              "\t<tr><td>                           </td></tr>\n",
              "\t<tr><td>Anulación de sentencia     </td></tr>\n",
              "\t<tr><td>Anulación de Sentencia     </td></tr>\n",
              "\t<tr><td>Apelación                  </td></tr>\n",
              "\t<tr><td>Competencia entre jueces   </td></tr>\n",
              "\t<tr><td>Conflicto de acumulación   </td></tr>\n",
              "\t<tr><td>Conflicto de Acumulación   </td></tr>\n",
              "\t<tr><td>Conflicto De Acumulación   </td></tr>\n",
              "\t<tr><td>Denegada apelación         </td></tr>\n",
              "\t<tr><td>Denegada Apelación         </td></tr>\n",
              "\t<tr><td>Impedimento                </td></tr>\n",
              "\t<tr><td>Otro                       </td></tr>\n",
              "\t<tr><td>Queja                      </td></tr>\n",
              "\t<tr><td>Reconocimiento de inocencia</td></tr>\n",
              "\t<tr><td>Reconocimiento de Inocencia</td></tr>\n",
              "</tbody>\n",
              "</table>\n"
            ]
          },
          "metadata": {
            "tags": []
          }
        }
      ]
    },
    {
      "cell_type": "code",
      "metadata": {
        "colab": {
          "base_uri": "https://localhost:8080/"
        },
        "id": "bZXyJNGCGC_j",
        "outputId": "bcbcf56c-370b-47e1-8dbe-74dfba4de27e"
      },
      "source": [
        "cubo %>%\n",
        "distinct(tp_organo) %>%\n",
        "arrange(tp_organo)"
      ],
      "execution_count": null,
      "outputs": [
        {
          "output_type": "display_data",
          "data": {
            "text/plain": [
              "  tp_organo                        \n",
              "1                                  \n",
              "2 Juzgados de Distrito             \n",
              "3 Tribunales Colegiados de Circuito\n",
              "4 Tribunales Unitarios de Circuito "
            ],
            "text/latex": "A tibble: 4 × 1\n\\begin{tabular}{l}\n tp\\_organo\\\\\n <chr>\\\\\n\\hline\n\t                                  \\\\\n\t Juzgados de Distrito             \\\\\n\t Tribunales Colegiados de Circuito\\\\\n\t Tribunales Unitarios de Circuito \\\\\n\\end{tabular}\n",
            "text/markdown": "\nA tibble: 4 × 1\n\n| tp_organo &lt;chr&gt; |\n|---|\n| <!----> |\n| Juzgados de Distrito              |\n| Tribunales Colegiados de Circuito |\n| Tribunales Unitarios de Circuito  |\n\n",
            "text/html": [
              "<table class=\"dataframe\">\n",
              "<caption>A tibble: 4 × 1</caption>\n",
              "<thead>\n",
              "\t<tr><th scope=col>tp_organo</th></tr>\n",
              "\t<tr><th scope=col>&lt;chr&gt;</th></tr>\n",
              "</thead>\n",
              "<tbody>\n",
              "\t<tr><td>                                 </td></tr>\n",
              "\t<tr><td>Juzgados de Distrito             </td></tr>\n",
              "\t<tr><td>Tribunales Colegiados de Circuito</td></tr>\n",
              "\t<tr><td>Tribunales Unitarios de Circuito </td></tr>\n",
              "</tbody>\n",
              "</table>\n"
            ]
          },
          "metadata": {
            "tags": []
          }
        }
      ]
    },
    {
      "cell_type": "code",
      "metadata": {
        "colab": {
          "base_uri": "https://localhost:8080/"
        },
        "id": "cd_YJAlRv9Uy",
        "outputId": "793f9586-912f-4dbf-f726-554d9a67aab4"
      },
      "source": [
        "unique(cubo$tp_procedimiento)"
      ],
      "execution_count": null,
      "outputs": [
        {
          "output_type": "display_data",
          "data": {
            "text/plain": [
              " [1] \"\"                            \"Apelación\"                  \n",
              " [3] \"Competencia entre jueces\"    \"Conflicto De Acumulación\"   \n",
              " [5] \"Denegada Apelación\"          \"Impedimento\"                \n",
              " [7] \"Otro\"                        \"Queja\"                      \n",
              " [9] \"Anulación de sentencia\"      \"Reconocimiento de inocencia\"\n",
              "[11] \"Conflicto de Acumulación\"    \"Anulación de Sentencia\"     \n",
              "[13] \"Reconocimiento de Inocencia\" \"Denegada apelación\"         \n",
              "[15] \"Conflicto de acumulación\"   "
            ],
            "text/latex": "\\begin{enumerate*}\n\\item ''\n\\item 'Apelación'\n\\item 'Competencia entre jueces'\n\\item 'Conflicto De Acumulación'\n\\item 'Denegada Apelación'\n\\item 'Impedimento'\n\\item 'Otro'\n\\item 'Queja'\n\\item 'Anulación de sentencia'\n\\item 'Reconocimiento de inocencia'\n\\item 'Conflicto de Acumulación'\n\\item 'Anulación de Sentencia'\n\\item 'Reconocimiento de Inocencia'\n\\item 'Denegada apelación'\n\\item 'Conflicto de acumulación'\n\\end{enumerate*}\n",
            "text/markdown": "1. ''\n2. 'Apelación'\n3. 'Competencia entre jueces'\n4. 'Conflicto De Acumulación'\n5. 'Denegada Apelación'\n6. 'Impedimento'\n7. 'Otro'\n8. 'Queja'\n9. 'Anulación de sentencia'\n10. 'Reconocimiento de inocencia'\n11. 'Conflicto de Acumulación'\n12. 'Anulación de Sentencia'\n13. 'Reconocimiento de Inocencia'\n14. 'Denegada apelación'\n15. 'Conflicto de acumulación'\n\n\n",
            "text/html": [
              "<style>\n",
              ".list-inline {list-style: none; margin:0; padding: 0}\n",
              ".list-inline>li {display: inline-block}\n",
              ".list-inline>li:not(:last-child)::after {content: \"\\00b7\"; padding: 0 .5ex}\n",
              "</style>\n",
              "<ol class=list-inline><li>''</li><li>'Apelación'</li><li>'Competencia entre jueces'</li><li>'Conflicto De Acumulación'</li><li>'Denegada Apelación'</li><li>'Impedimento'</li><li>'Otro'</li><li>'Queja'</li><li>'Anulación de sentencia'</li><li>'Reconocimiento de inocencia'</li><li>'Conflicto de Acumulación'</li><li>'Anulación de Sentencia'</li><li>'Reconocimiento de Inocencia'</li><li>'Denegada apelación'</li><li>'Conflicto de acumulación'</li></ol>\n"
            ]
          },
          "metadata": {
            "tags": []
          }
        }
      ]
    },
    {
      "cell_type": "markdown",
      "metadata": {
        "id": "XNmXEDGq3Mk9"
      },
      "source": [
        "## Sección 1: Tribunales Colegiados de Circuito"
      ]
    },
    {
      "cell_type": "markdown",
      "metadata": {
        "id": "rNelkqYK_sZd"
      },
      "source": [
        "### Pregunta 1.1"
      ]
    },
    {
      "cell_type": "code",
      "metadata": {
        "colab": {
          "base_uri": "https://localhost:8080/",
          "height": 562
        },
        "id": "EwwyLfqmRMlN",
        "outputId": "64c5139a-eaa6-48a6-eaab-313ab6444f45"
      },
      "source": [
        "cubo %>%\n",
        "filter(tp_organo == \"Tribunales Colegiados de Circuito\") %>%\n",
        "count(tp_asunto, tp_procedimiento)"
      ],
      "execution_count": null,
      "outputs": [
        {
          "output_type": "display_data",
          "data": {
            "text/html": [
              "<table class=\"dataframe\">\n",
              "<caption>A tibble: 15 × 3</caption>\n",
              "<thead>\n",
              "\t<tr><th scope=col>tp_asunto</th><th scope=col>tp_procedimiento</th><th scope=col>n</th></tr>\n",
              "\t<tr><th scope=col>&lt;chr&gt;</th><th scope=col>&lt;chr&gt;</th><th scope=col>&lt;int&gt;</th></tr>\n",
              "</thead>\n",
              "<tbody>\n",
              "\t<tr><td>amparo directo                          </td><td></td><td> 768</td></tr>\n",
              "\t<tr><td>amparo en revisión                      </td><td></td><td>1024</td></tr>\n",
              "\t<tr><td>conflictos competenciales               </td><td></td><td> 640</td></tr>\n",
              "\t<tr><td>conflictos de acumulación               </td><td></td><td> 512</td></tr>\n",
              "\t<tr><td>denuncia repetición del acto reclamado  </td><td></td><td>1280</td></tr>\n",
              "\t<tr><td>impedimentos                            </td><td></td><td> 640</td></tr>\n",
              "\t<tr><td>incidente de reconocimiento de inocencia</td><td></td><td>  32</td></tr>\n",
              "\t<tr><td>Incidente de reconocimiento de inocencia</td><td></td><td> 160</td></tr>\n",
              "\t<tr><td>incidentes de inejecución               </td><td></td><td>1280</td></tr>\n",
              "\t<tr><td>inconformidad                           </td><td></td><td> 768</td></tr>\n",
              "\t<tr><td>queja                                   </td><td></td><td> 768</td></tr>\n",
              "\t<tr><td>reclamaciones                           </td><td></td><td> 768</td></tr>\n",
              "\t<tr><td>revisión contenciosa administrativa     </td><td></td><td> 288</td></tr>\n",
              "\t<tr><td>revisión fiscal                         </td><td></td><td> 288</td></tr>\n",
              "\t<tr><td>varios                                  </td><td></td><td> 256</td></tr>\n",
              "</tbody>\n",
              "</table>\n"
            ],
            "text/latex": "A tibble: 15 × 3\n\\begin{tabular}{lll}\n tp\\_asunto & tp\\_procedimiento & n\\\\\n <chr> & <chr> & <int>\\\\\n\\hline\n\t amparo directo                           &  &  768\\\\\n\t amparo en revisión                       &  & 1024\\\\\n\t conflictos competenciales                &  &  640\\\\\n\t conflictos de acumulación                &  &  512\\\\\n\t denuncia repetición del acto reclamado   &  & 1280\\\\\n\t impedimentos                             &  &  640\\\\\n\t incidente de reconocimiento de inocencia &  &   32\\\\\n\t Incidente de reconocimiento de inocencia &  &  160\\\\\n\t incidentes de inejecución                &  & 1280\\\\\n\t inconformidad                            &  &  768\\\\\n\t queja                                    &  &  768\\\\\n\t reclamaciones                            &  &  768\\\\\n\t revisión contenciosa administrativa      &  &  288\\\\\n\t revisión fiscal                          &  &  288\\\\\n\t varios                                   &  &  256\\\\\n\\end{tabular}\n",
            "text/markdown": "\nA tibble: 15 × 3\n\n| tp_asunto &lt;chr&gt; | tp_procedimiento &lt;chr&gt; | n &lt;int&gt; |\n|---|---|---|\n| amparo directo                           | <!----> |  768 |\n| amparo en revisión                       | <!----> | 1024 |\n| conflictos competenciales                | <!----> |  640 |\n| conflictos de acumulación                | <!----> |  512 |\n| denuncia repetición del acto reclamado   | <!----> | 1280 |\n| impedimentos                             | <!----> |  640 |\n| incidente de reconocimiento de inocencia | <!----> |   32 |\n| Incidente de reconocimiento de inocencia | <!----> |  160 |\n| incidentes de inejecución                | <!----> | 1280 |\n| inconformidad                            | <!----> |  768 |\n| queja                                    | <!----> |  768 |\n| reclamaciones                            | <!----> |  768 |\n| revisión contenciosa administrativa      | <!----> |  288 |\n| revisión fiscal                          | <!----> |  288 |\n| varios                                   | <!----> |  256 |\n\n",
            "text/plain": [
              "   tp_asunto                                tp_procedimiento n   \n",
              "1  amparo directo                                             768\n",
              "2  amparo en revisión                                        1024\n",
              "3  conflictos competenciales                                  640\n",
              "4  conflictos de acumulación                                  512\n",
              "5  denuncia repetición del acto reclamado                    1280\n",
              "6  impedimentos                                               640\n",
              "7  incidente de reconocimiento de inocencia                    32\n",
              "8  Incidente de reconocimiento de inocencia                   160\n",
              "9  incidentes de inejecución                                 1280\n",
              "10 inconformidad                                              768\n",
              "11 queja                                                      768\n",
              "12 reclamaciones                                              768\n",
              "13 revisión contenciosa administrativa                        288\n",
              "14 revisión fiscal                                            288\n",
              "15 varios                                                     256"
            ]
          },
          "metadata": {
            "tags": []
          }
        }
      ]
    },
    {
      "cell_type": "code",
      "metadata": {
        "colab": {
          "base_uri": "https://localhost:8080/",
          "height": 252
        },
        "id": "FnvcGO4p2tNU",
        "outputId": "af3962cf-3b33-461c-eccc-26381ec6dbb1"
      },
      "source": [
        "cubo %>%\n",
        "filter(tp_organo == \"Tribunales Colegiados de Circuito\") %>%\n",
        "mutate(egresos = egresos + egresos_acuerdo) %>% # egresos + egresos por acuerdo?\n",
        "select(materia_asunto, existencia_inicial, ingresos, egresos, Existencia_final) %>%\n",
        "mutate(materia_asunto = factor(materia_asunto, levels = c('Penal', \n",
        "       'Civil', 'Administrativa',  'Trabajo', \n",
        "        'Mercantil'))) %>% \n",
        "group_by(materia_asunto) %>%\n",
        "summarise_all(list(sum))%>%\n",
        "filter(!is.na(existencia_inicial))  %>%\n",
        "adorn_totals()"
      ],
      "execution_count": null,
      "outputs": [
        {
          "output_type": "display_data",
          "data": {
            "text/html": [
              "<table class=\"dataframe\">\n",
              "<caption>A tabyl: 5 × 5</caption>\n",
              "<thead>\n",
              "\t<tr><th scope=col>materia_asunto</th><th scope=col>existencia_inicial</th><th scope=col>ingresos</th><th scope=col>egresos</th><th scope=col>Existencia_final</th></tr>\n",
              "\t<tr><th scope=col>&lt;chr&gt;</th><th scope=col>&lt;int&gt;</th><th scope=col>&lt;int&gt;</th><th scope=col>&lt;int&gt;</th><th scope=col>&lt;int&gt;</th></tr>\n",
              "</thead>\n",
              "<tbody>\n",
              "\t<tr><td>Penal         </td><td> 14493</td><td> 26083</td><td> 28268</td><td> 12259</td></tr>\n",
              "\t<tr><td>Civil         </td><td> 33448</td><td> 63180</td><td> 67860</td><td> 28743</td></tr>\n",
              "\t<tr><td>Administrativa</td><td> 63369</td><td> 88552</td><td>104570</td><td> 47339</td></tr>\n",
              "\t<tr><td>Trabajo       </td><td> 42862</td><td> 59558</td><td> 65769</td><td> 36540</td></tr>\n",
              "\t<tr><td>Total         </td><td>154172</td><td>237373</td><td>266467</td><td>124881</td></tr>\n",
              "</tbody>\n",
              "</table>\n"
            ],
            "text/latex": "A tabyl: 5 × 5\n\\begin{tabular}{lllll}\n materia\\_asunto & existencia\\_inicial & ingresos & egresos & Existencia\\_final\\\\\n <chr> & <int> & <int> & <int> & <int>\\\\\n\\hline\n\t Penal          &  14493 &  26083 &  28268 &  12259\\\\\n\t Civil          &  33448 &  63180 &  67860 &  28743\\\\\n\t Administrativa &  63369 &  88552 & 104570 &  47339\\\\\n\t Trabajo        &  42862 &  59558 &  65769 &  36540\\\\\n\t Total          & 154172 & 237373 & 266467 & 124881\\\\\n\\end{tabular}\n",
            "text/markdown": "\nA tabyl: 5 × 5\n\n| materia_asunto &lt;chr&gt; | existencia_inicial &lt;int&gt; | ingresos &lt;int&gt; | egresos &lt;int&gt; | Existencia_final &lt;int&gt; |\n|---|---|---|---|---|\n| Penal          |  14493 |  26083 |  28268 |  12259 |\n| Civil          |  33448 |  63180 |  67860 |  28743 |\n| Administrativa |  63369 |  88552 | 104570 |  47339 |\n| Trabajo        |  42862 |  59558 |  65769 |  36540 |\n| Total          | 154172 | 237373 | 266467 | 124881 |\n\n",
            "text/plain": [
              "  materia_asunto existencia_inicial ingresos egresos Existencia_final\n",
              "1 Penal           14493              26083    28268   12259          \n",
              "2 Civil           33448              63180    67860   28743          \n",
              "3 Administrativa  63369              88552   104570   47339          \n",
              "4 Trabajo         42862              59558    65769   36540          \n",
              "5 Total          154172             237373   266467  124881          "
            ]
          },
          "metadata": {
            "tags": []
          }
        }
      ]
    },
    {
      "cell_type": "markdown",
      "metadata": {
        "id": "Me_IptpY-ovU"
      },
      "source": [
        "### Pregunta 1.2\n"
      ]
    },
    {
      "cell_type": "code",
      "metadata": {
        "colab": {
          "base_uri": "https://localhost:8080/",
          "height": 562
        },
        "id": "r3KiIXXwAkoE",
        "outputId": "8bef5e5e-0228-4f08-a7e5-f89386ff2bbf"
      },
      "source": [
        "cubo %>%\n",
        "filter(tp_organo == \"Tribunales Colegiados de Circuito\")%>%\n",
        "group_by(tp_asunto) %>%\n",
        "summarise(ingresos = sum(ingresos)) %>%\n",
        "arrange(-ingresos)"
      ],
      "execution_count": null,
      "outputs": [
        {
          "output_type": "display_data",
          "data": {
            "text/html": [
              "<table class=\"dataframe\">\n",
              "<caption>A tibble: 15 × 2</caption>\n",
              "<thead>\n",
              "\t<tr><th scope=col>tp_asunto</th><th scope=col>ingresos</th></tr>\n",
              "\t<tr><th scope=col>&lt;chr&gt;</th><th scope=col>&lt;int&gt;</th></tr>\n",
              "</thead>\n",
              "<tbody>\n",
              "\t<tr><td>amparo directo                          </td><td>111270</td></tr>\n",
              "\t<tr><td>amparo en revisión                      </td><td> 50531</td></tr>\n",
              "\t<tr><td>queja                                   </td><td> 46614</td></tr>\n",
              "\t<tr><td>revisión fiscal                         </td><td> 12585</td></tr>\n",
              "\t<tr><td>inconformidad                           </td><td>  4221</td></tr>\n",
              "\t<tr><td>reclamaciones                           </td><td>  4082</td></tr>\n",
              "\t<tr><td>conflictos competenciales               </td><td>  2835</td></tr>\n",
              "\t<tr><td>impedimentos                            </td><td>  1828</td></tr>\n",
              "\t<tr><td>revisión contenciosa administrativa     </td><td>  1189</td></tr>\n",
              "\t<tr><td>incidentes de inejecución               </td><td>  1117</td></tr>\n",
              "\t<tr><td>varios                                  </td><td>   882</td></tr>\n",
              "\t<tr><td>denuncia repetición del acto reclamado  </td><td>   165</td></tr>\n",
              "\t<tr><td>incidente de reconocimiento de inocencia</td><td>    34</td></tr>\n",
              "\t<tr><td>conflictos de acumulación               </td><td>    20</td></tr>\n",
              "\t<tr><td>Incidente de reconocimiento de inocencia</td><td>     0</td></tr>\n",
              "</tbody>\n",
              "</table>\n"
            ],
            "text/latex": "A tibble: 15 × 2\n\\begin{tabular}{ll}\n tp\\_asunto & ingresos\\\\\n <chr> & <int>\\\\\n\\hline\n\t amparo directo                           & 111270\\\\\n\t amparo en revisión                       &  50531\\\\\n\t queja                                    &  46614\\\\\n\t revisión fiscal                          &  12585\\\\\n\t inconformidad                            &   4221\\\\\n\t reclamaciones                            &   4082\\\\\n\t conflictos competenciales                &   2835\\\\\n\t impedimentos                             &   1828\\\\\n\t revisión contenciosa administrativa      &   1189\\\\\n\t incidentes de inejecución                &   1117\\\\\n\t varios                                   &    882\\\\\n\t denuncia repetición del acto reclamado   &    165\\\\\n\t incidente de reconocimiento de inocencia &     34\\\\\n\t conflictos de acumulación                &     20\\\\\n\t Incidente de reconocimiento de inocencia &      0\\\\\n\\end{tabular}\n",
            "text/markdown": "\nA tibble: 15 × 2\n\n| tp_asunto &lt;chr&gt; | ingresos &lt;int&gt; |\n|---|---|\n| amparo directo                           | 111270 |\n| amparo en revisión                       |  50531 |\n| queja                                    |  46614 |\n| revisión fiscal                          |  12585 |\n| inconformidad                            |   4221 |\n| reclamaciones                            |   4082 |\n| conflictos competenciales                |   2835 |\n| impedimentos                             |   1828 |\n| revisión contenciosa administrativa      |   1189 |\n| incidentes de inejecución                |   1117 |\n| varios                                   |    882 |\n| denuncia repetición del acto reclamado   |    165 |\n| incidente de reconocimiento de inocencia |     34 |\n| conflictos de acumulación                |     20 |\n| Incidente de reconocimiento de inocencia |      0 |\n\n",
            "text/plain": [
              "   tp_asunto                                ingresos\n",
              "1  amparo directo                           111270  \n",
              "2  amparo en revisión                        50531  \n",
              "3  queja                                     46614  \n",
              "4  revisión fiscal                           12585  \n",
              "5  inconformidad                              4221  \n",
              "6  reclamaciones                              4082  \n",
              "7  conflictos competenciales                  2835  \n",
              "8  impedimentos                               1828  \n",
              "9  revisión contenciosa administrativa        1189  \n",
              "10 incidentes de inejecución                  1117  \n",
              "11 varios                                      882  \n",
              "12 denuncia repetición del acto reclamado      165  \n",
              "13 incidente de reconocimiento de inocencia     34  \n",
              "14 conflictos de acumulación                    20  \n",
              "15 Incidente de reconocimiento de inocencia      0  "
            ]
          },
          "metadata": {
            "tags": []
          }
        }
      ]
    },
    {
      "cell_type": "markdown",
      "metadata": {
        "id": "vXpVCSzd-uJk"
      },
      "source": [
        "### Pregunta 1.3\n"
      ]
    },
    {
      "cell_type": "code",
      "metadata": {
        "colab": {
          "base_uri": "https://localhost:8080/"
        },
        "id": "ms3kPn2G-82S",
        "outputId": "55171149-960d-4de9-dfa4-cb0c10a03e6b"
      },
      "source": [
        "# Amparo directo\n",
        "\n",
        "cubo %>%\n",
        "filter(tp_organo == \"Tribunales Colegiados de Circuito\") %>%\n",
        "filter(tp_asunto == \"amparo directo\") %>%\n",
        "mutate(egresos = egresos + egresos_acuerdo) %>% # egresos + egresos por acuerdo?\n",
        "select(circuito,  existencia_inicial, ingresos, egresos, Existencia_final) %>%\n",
        "mutate(circuito = factor(circuito, levels = orden_circuitos)) %>%\n",
        "group_by(circuito) %>%\n",
        "summarise_all(list(sum))%>%\n",
        "filter(!is.na(existencia_inicial))  %>%\n",
        "adorn_totals()"
      ],
      "execution_count": null,
      "outputs": [
        {
          "output_type": "display_data",
          "data": {
            "text/html": [
              "<table class=\"dataframe\">\n",
              "<caption>A tabyl: 33 × 5</caption>\n",
              "<thead>\n",
              "\t<tr><th scope=col>circuito</th><th scope=col>existencia_inicial</th><th scope=col>ingresos</th><th scope=col>egresos</th><th scope=col>Existencia_final</th></tr>\n",
              "\t<tr><th scope=col>&lt;chr&gt;</th><th scope=col>&lt;int&gt;</th><th scope=col>&lt;int&gt;</th><th scope=col>&lt;int&gt;</th><th scope=col>&lt;int&gt;</th></tr>\n",
              "</thead>\n",
              "<tbody>\n",
              "\t<tr><td>Primer Circuito/ Ciudad de México                </td><td>14312</td><td> 27854</td><td> 31787</td><td>10379</td></tr>\n",
              "\t<tr><td>Segundo Circuito/ México                         </td><td> 5346</td><td>  7718</td><td>  7762</td><td> 5302</td></tr>\n",
              "\t<tr><td>Tercer Circuito/ Jalisco                         </td><td> 6845</td><td>  8735</td><td>  9197</td><td> 6406</td></tr>\n",
              "\t<tr><td>Cuarto Circuito/ Nuevo León                      </td><td> 7685</td><td>  8212</td><td>  7974</td><td> 7923</td></tr>\n",
              "\t<tr><td>Quinto Circuito/ Sonora                          </td><td> 2598</td><td>  2415</td><td>  2339</td><td> 2674</td></tr>\n",
              "\t<tr><td>Sexto Circuito/ Puebla                           </td><td> 2378</td><td>  2810</td><td>  3373</td><td> 1815</td></tr>\n",
              "\t<tr><td>Séptimo Circuito/ Veracruz de Ignacio de la Llave</td><td> 3118</td><td>  3336</td><td>  3977</td><td> 2477</td></tr>\n",
              "\t<tr><td>Octavo Circuito/ Coahuila de Zaragoza            </td><td> 2141</td><td>  3326</td><td>  2867</td><td> 2600</td></tr>\n",
              "\t<tr><td>Noveno Circuito/ San Luis Potosí                 </td><td> 1485</td><td>  2093</td><td>  2276</td><td> 1302</td></tr>\n",
              "\t<tr><td>Décimo Circuito/ Tabasco-Veracruz                </td><td> 3904</td><td>  2536</td><td>  4313</td><td> 2127</td></tr>\n",
              "\t<tr><td>Decimoprimer Circuito/ Michoacán de Ocampo       </td><td> 1522</td><td>  2888</td><td>  2855</td><td> 1555</td></tr>\n",
              "\t<tr><td>Decimosegundo Circuito/ Sinaloa                  </td><td> 2767</td><td>  3145</td><td>  2926</td><td> 2986</td></tr>\n",
              "\t<tr><td>Decimotercer Circuito/ Oaxaca                    </td><td> 1968</td><td>  1379</td><td>  2062</td><td> 1285</td></tr>\n",
              "\t<tr><td>Decimocuarto Circuito/ Yucatán                   </td><td>  926</td><td>  1131</td><td>  1479</td><td>  578</td></tr>\n",
              "\t<tr><td>Decimoquinto Circuito/ Baja California           </td><td> 2373</td><td>  2476</td><td>  2920</td><td> 1929</td></tr>\n",
              "\t<tr><td>Decimosexto Circuito/ Guanajuato                 </td><td> 3245</td><td>  5503</td><td>  5293</td><td> 3455</td></tr>\n",
              "\t<tr><td>Decimoséptimo Circuito/ Chihuahua                </td><td> 2127</td><td>  3377</td><td>  3578</td><td> 1926</td></tr>\n",
              "\t<tr><td>Decimoctavo Circuito/ Morelos                    </td><td> 1880</td><td>  2669</td><td>  3294</td><td> 1255</td></tr>\n",
              "\t<tr><td>Decimonoveno Circuito/ Tamaulipas                </td><td> 2893</td><td>  3477</td><td>  3894</td><td> 2476</td></tr>\n",
              "\t<tr><td>Vigésimo Circuito/ Chiapas                       </td><td> 1395</td><td>  1321</td><td>  2070</td><td>  646</td></tr>\n",
              "\t<tr><td>Vigésimo Primer Circuito/ Guerrero               </td><td> 1776</td><td>  1435</td><td>  2080</td><td> 1131</td></tr>\n",
              "\t<tr><td>Vigésimo Segundo Circuito/ Querétaro             </td><td> 1336</td><td>  2748</td><td>  2680</td><td> 1404</td></tr>\n",
              "\t<tr><td>Vigésimo Tercer Circuito/ Zacatecas              </td><td>  963</td><td>   619</td><td>  1384</td><td>  198</td></tr>\n",
              "\t<tr><td>Vigésimo Cuarto Circuito/ Nayarit                </td><td>  954</td><td>   854</td><td>   998</td><td>  810</td></tr>\n",
              "\t<tr><td>Vigésimo Quinto Circuito/ Durango                </td><td>  692</td><td>  1124</td><td>  1500</td><td>  316</td></tr>\n",
              "\t<tr><td>Vigésimo Sexto Circuito/ Baja California Sur     </td><td>  574</td><td>   658</td><td>   690</td><td>  542</td></tr>\n",
              "\t<tr><td>Vigésimo Séptimo Circuito/ Quintana Roo          </td><td>  870</td><td>  1325</td><td>  1270</td><td>  925</td></tr>\n",
              "\t<tr><td>Vigésimo Octavo Circuito/ Tlaxcala               </td><td> 1475</td><td>  1007</td><td>  1893</td><td>  589</td></tr>\n",
              "\t<tr><td>Vigésimo Noveno Circuito/ Hidalgo                </td><td> 1954</td><td>  1801</td><td>  2648</td><td> 1107</td></tr>\n",
              "\t<tr><td>Trigésimo Circuito/ Aguascalientes               </td><td>  834</td><td>  1823</td><td>  1905</td><td>  752</td></tr>\n",
              "\t<tr><td>Trigésimo Primer Circuito/ Campeche              </td><td>  935</td><td>   867</td><td>  1189</td><td>  613</td></tr>\n",
              "\t<tr><td>Trigésimo Segundo Circuito/ Colima               </td><td>  333</td><td>   608</td><td>   668</td><td>  273</td></tr>\n",
              "\t<tr><td>Total                                            </td><td>83604</td><td>111270</td><td>125141</td><td>69756</td></tr>\n",
              "</tbody>\n",
              "</table>\n"
            ],
            "text/latex": "A tabyl: 33 × 5\n\\begin{tabular}{lllll}\n circuito & existencia\\_inicial & ingresos & egresos & Existencia\\_final\\\\\n <chr> & <int> & <int> & <int> & <int>\\\\\n\\hline\n\t Primer Circuito/ Ciudad de México                 & 14312 &  27854 &  31787 & 10379\\\\\n\t Segundo Circuito/ México                          &  5346 &   7718 &   7762 &  5302\\\\\n\t Tercer Circuito/ Jalisco                          &  6845 &   8735 &   9197 &  6406\\\\\n\t Cuarto Circuito/ Nuevo León                       &  7685 &   8212 &   7974 &  7923\\\\\n\t Quinto Circuito/ Sonora                           &  2598 &   2415 &   2339 &  2674\\\\\n\t Sexto Circuito/ Puebla                            &  2378 &   2810 &   3373 &  1815\\\\\n\t Séptimo Circuito/ Veracruz de Ignacio de la Llave &  3118 &   3336 &   3977 &  2477\\\\\n\t Octavo Circuito/ Coahuila de Zaragoza             &  2141 &   3326 &   2867 &  2600\\\\\n\t Noveno Circuito/ San Luis Potosí                  &  1485 &   2093 &   2276 &  1302\\\\\n\t Décimo Circuito/ Tabasco-Veracruz                 &  3904 &   2536 &   4313 &  2127\\\\\n\t Decimoprimer Circuito/ Michoacán de Ocampo        &  1522 &   2888 &   2855 &  1555\\\\\n\t Decimosegundo Circuito/ Sinaloa                   &  2767 &   3145 &   2926 &  2986\\\\\n\t Decimotercer Circuito/ Oaxaca                     &  1968 &   1379 &   2062 &  1285\\\\\n\t Decimocuarto Circuito/ Yucatán                    &   926 &   1131 &   1479 &   578\\\\\n\t Decimoquinto Circuito/ Baja California            &  2373 &   2476 &   2920 &  1929\\\\\n\t Decimosexto Circuito/ Guanajuato                  &  3245 &   5503 &   5293 &  3455\\\\\n\t Decimoséptimo Circuito/ Chihuahua                 &  2127 &   3377 &   3578 &  1926\\\\\n\t Decimoctavo Circuito/ Morelos                     &  1880 &   2669 &   3294 &  1255\\\\\n\t Decimonoveno Circuito/ Tamaulipas                 &  2893 &   3477 &   3894 &  2476\\\\\n\t Vigésimo Circuito/ Chiapas                        &  1395 &   1321 &   2070 &   646\\\\\n\t Vigésimo Primer Circuito/ Guerrero                &  1776 &   1435 &   2080 &  1131\\\\\n\t Vigésimo Segundo Circuito/ Querétaro              &  1336 &   2748 &   2680 &  1404\\\\\n\t Vigésimo Tercer Circuito/ Zacatecas               &   963 &    619 &   1384 &   198\\\\\n\t Vigésimo Cuarto Circuito/ Nayarit                 &   954 &    854 &    998 &   810\\\\\n\t Vigésimo Quinto Circuito/ Durango                 &   692 &   1124 &   1500 &   316\\\\\n\t Vigésimo Sexto Circuito/ Baja California Sur      &   574 &    658 &    690 &   542\\\\\n\t Vigésimo Séptimo Circuito/ Quintana Roo           &   870 &   1325 &   1270 &   925\\\\\n\t Vigésimo Octavo Circuito/ Tlaxcala                &  1475 &   1007 &   1893 &   589\\\\\n\t Vigésimo Noveno Circuito/ Hidalgo                 &  1954 &   1801 &   2648 &  1107\\\\\n\t Trigésimo Circuito/ Aguascalientes                &   834 &   1823 &   1905 &   752\\\\\n\t Trigésimo Primer Circuito/ Campeche               &   935 &    867 &   1189 &   613\\\\\n\t Trigésimo Segundo Circuito/ Colima                &   333 &    608 &    668 &   273\\\\\n\t Total                                             & 83604 & 111270 & 125141 & 69756\\\\\n\\end{tabular}\n",
            "text/markdown": "\nA tabyl: 33 × 5\n\n| circuito &lt;chr&gt; | existencia_inicial &lt;int&gt; | ingresos &lt;int&gt; | egresos &lt;int&gt; | Existencia_final &lt;int&gt; |\n|---|---|---|---|---|\n| Primer Circuito/ Ciudad de México                 | 14312 |  27854 |  31787 | 10379 |\n| Segundo Circuito/ México                          |  5346 |   7718 |   7762 |  5302 |\n| Tercer Circuito/ Jalisco                          |  6845 |   8735 |   9197 |  6406 |\n| Cuarto Circuito/ Nuevo León                       |  7685 |   8212 |   7974 |  7923 |\n| Quinto Circuito/ Sonora                           |  2598 |   2415 |   2339 |  2674 |\n| Sexto Circuito/ Puebla                            |  2378 |   2810 |   3373 |  1815 |\n| Séptimo Circuito/ Veracruz de Ignacio de la Llave |  3118 |   3336 |   3977 |  2477 |\n| Octavo Circuito/ Coahuila de Zaragoza             |  2141 |   3326 |   2867 |  2600 |\n| Noveno Circuito/ San Luis Potosí                  |  1485 |   2093 |   2276 |  1302 |\n| Décimo Circuito/ Tabasco-Veracruz                 |  3904 |   2536 |   4313 |  2127 |\n| Decimoprimer Circuito/ Michoacán de Ocampo        |  1522 |   2888 |   2855 |  1555 |\n| Decimosegundo Circuito/ Sinaloa                   |  2767 |   3145 |   2926 |  2986 |\n| Decimotercer Circuito/ Oaxaca                     |  1968 |   1379 |   2062 |  1285 |\n| Decimocuarto Circuito/ Yucatán                    |   926 |   1131 |   1479 |   578 |\n| Decimoquinto Circuito/ Baja California            |  2373 |   2476 |   2920 |  1929 |\n| Decimosexto Circuito/ Guanajuato                  |  3245 |   5503 |   5293 |  3455 |\n| Decimoséptimo Circuito/ Chihuahua                 |  2127 |   3377 |   3578 |  1926 |\n| Decimoctavo Circuito/ Morelos                     |  1880 |   2669 |   3294 |  1255 |\n| Decimonoveno Circuito/ Tamaulipas                 |  2893 |   3477 |   3894 |  2476 |\n| Vigésimo Circuito/ Chiapas                        |  1395 |   1321 |   2070 |   646 |\n| Vigésimo Primer Circuito/ Guerrero                |  1776 |   1435 |   2080 |  1131 |\n| Vigésimo Segundo Circuito/ Querétaro              |  1336 |   2748 |   2680 |  1404 |\n| Vigésimo Tercer Circuito/ Zacatecas               |   963 |    619 |   1384 |   198 |\n| Vigésimo Cuarto Circuito/ Nayarit                 |   954 |    854 |    998 |   810 |\n| Vigésimo Quinto Circuito/ Durango                 |   692 |   1124 |   1500 |   316 |\n| Vigésimo Sexto Circuito/ Baja California Sur      |   574 |    658 |    690 |   542 |\n| Vigésimo Séptimo Circuito/ Quintana Roo           |   870 |   1325 |   1270 |   925 |\n| Vigésimo Octavo Circuito/ Tlaxcala                |  1475 |   1007 |   1893 |   589 |\n| Vigésimo Noveno Circuito/ Hidalgo                 |  1954 |   1801 |   2648 |  1107 |\n| Trigésimo Circuito/ Aguascalientes                |   834 |   1823 |   1905 |   752 |\n| Trigésimo Primer Circuito/ Campeche               |   935 |    867 |   1189 |   613 |\n| Trigésimo Segundo Circuito/ Colima                |   333 |    608 |    668 |   273 |\n| Total                                             | 83604 | 111270 | 125141 | 69756 |\n\n",
            "text/plain": [
              "   circuito                                          existencia_inicial\n",
              "1  Primer Circuito/ Ciudad de México                 14312             \n",
              "2  Segundo Circuito/ México                           5346             \n",
              "3  Tercer Circuito/ Jalisco                           6845             \n",
              "4  Cuarto Circuito/ Nuevo León                        7685             \n",
              "5  Quinto Circuito/ Sonora                            2598             \n",
              "6  Sexto Circuito/ Puebla                             2378             \n",
              "7  Séptimo Circuito/ Veracruz de Ignacio de la Llave  3118             \n",
              "8  Octavo Circuito/ Coahuila de Zaragoza              2141             \n",
              "9  Noveno Circuito/ San Luis Potosí                   1485             \n",
              "10 Décimo Circuito/ Tabasco-Veracruz                  3904             \n",
              "11 Decimoprimer Circuito/ Michoacán de Ocampo         1522             \n",
              "12 Decimosegundo Circuito/ Sinaloa                    2767             \n",
              "13 Decimotercer Circuito/ Oaxaca                      1968             \n",
              "14 Decimocuarto Circuito/ Yucatán                      926             \n",
              "15 Decimoquinto Circuito/ Baja California             2373             \n",
              "16 Decimosexto Circuito/ Guanajuato                   3245             \n",
              "17 Decimoséptimo Circuito/ Chihuahua                  2127             \n",
              "18 Decimoctavo Circuito/ Morelos                      1880             \n",
              "19 Decimonoveno Circuito/ Tamaulipas                  2893             \n",
              "20 Vigésimo Circuito/ Chiapas                         1395             \n",
              "21 Vigésimo Primer Circuito/ Guerrero                 1776             \n",
              "22 Vigésimo Segundo Circuito/ Querétaro               1336             \n",
              "23 Vigésimo Tercer Circuito/ Zacatecas                 963             \n",
              "24 Vigésimo Cuarto Circuito/ Nayarit                   954             \n",
              "25 Vigésimo Quinto Circuito/ Durango                   692             \n",
              "26 Vigésimo Sexto Circuito/ Baja California Sur        574             \n",
              "27 Vigésimo Séptimo Circuito/ Quintana Roo             870             \n",
              "28 Vigésimo Octavo Circuito/ Tlaxcala                 1475             \n",
              "29 Vigésimo Noveno Circuito/ Hidalgo                  1954             \n",
              "30 Trigésimo Circuito/ Aguascalientes                  834             \n",
              "31 Trigésimo Primer Circuito/ Campeche                 935             \n",
              "32 Trigésimo Segundo Circuito/ Colima                  333             \n",
              "33 Total                                             83604             \n",
              "   ingresos egresos Existencia_final\n",
              "1   27854    31787  10379           \n",
              "2    7718     7762   5302           \n",
              "3    8735     9197   6406           \n",
              "4    8212     7974   7923           \n",
              "5    2415     2339   2674           \n",
              "6    2810     3373   1815           \n",
              "7    3336     3977   2477           \n",
              "8    3326     2867   2600           \n",
              "9    2093     2276   1302           \n",
              "10   2536     4313   2127           \n",
              "11   2888     2855   1555           \n",
              "12   3145     2926   2986           \n",
              "13   1379     2062   1285           \n",
              "14   1131     1479    578           \n",
              "15   2476     2920   1929           \n",
              "16   5503     5293   3455           \n",
              "17   3377     3578   1926           \n",
              "18   2669     3294   1255           \n",
              "19   3477     3894   2476           \n",
              "20   1321     2070    646           \n",
              "21   1435     2080   1131           \n",
              "22   2748     2680   1404           \n",
              "23    619     1384    198           \n",
              "24    854      998    810           \n",
              "25   1124     1500    316           \n",
              "26    658      690    542           \n",
              "27   1325     1270    925           \n",
              "28   1007     1893    589           \n",
              "29   1801     2648   1107           \n",
              "30   1823     1905    752           \n",
              "31    867     1189    613           \n",
              "32    608      668    273           \n",
              "33 111270   125141  69756           "
            ]
          },
          "metadata": {
            "tags": []
          }
        }
      ]
    },
    {
      "cell_type": "code",
      "metadata": {
        "colab": {
          "base_uri": "https://localhost:8080/"
        },
        "id": "NtFt_YjLEL7E",
        "outputId": "aaa4763c-ca1d-4a59-92a1-c76f09d6149e"
      },
      "source": [
        "# Amparo en revisión\n",
        "\n",
        "cubo %>%\n",
        "filter(tp_organo == \"Tribunales Colegiados de Circuito\") %>%\n",
        "filter(tp_asunto == \"amparo en revisión\") %>%\n",
        "mutate(egresos = egresos + egresos_acuerdo) %>% # egresos + egresos por acuerdo?\n",
        "select(circuito,  existencia_inicial, ingresos, egresos, Existencia_final) %>%\n",
        "mutate(circuito = factor(circuito, levels = orden_circuitos)) %>%\n",
        "group_by(circuito) %>%\n",
        "summarise_all(list(sum))%>%\n",
        "filter(!is.na(existencia_inicial))  %>%\n",
        "adorn_totals()"
      ],
      "execution_count": null,
      "outputs": [
        {
          "output_type": "display_data",
          "data": {
            "text/html": [
              "<table class=\"dataframe\">\n",
              "<caption>A tabyl: 33 × 5</caption>\n",
              "<thead>\n",
              "\t<tr><th scope=col>circuito</th><th scope=col>existencia_inicial</th><th scope=col>ingresos</th><th scope=col>egresos</th><th scope=col>Existencia_final</th></tr>\n",
              "\t<tr><th scope=col>&lt;chr&gt;</th><th scope=col>&lt;int&gt;</th><th scope=col>&lt;int&gt;</th><th scope=col>&lt;int&gt;</th><th scope=col>&lt;int&gt;</th></tr>\n",
              "</thead>\n",
              "<tbody>\n",
              "\t<tr><td>Primer Circuito/ Ciudad de México                </td><td> 9402</td><td>12822</td><td>15733</td><td> 6489</td></tr>\n",
              "\t<tr><td>Segundo Circuito/ México                         </td><td> 2318</td><td> 3142</td><td> 3839</td><td> 1621</td></tr>\n",
              "\t<tr><td>Tercer Circuito/ Jalisco                         </td><td> 4367</td><td> 4845</td><td> 6119</td><td> 3106</td></tr>\n",
              "\t<tr><td>Cuarto Circuito/ Nuevo León                      </td><td> 3067</td><td> 1971</td><td> 3260</td><td> 1778</td></tr>\n",
              "\t<tr><td>Quinto Circuito/ Sonora                          </td><td> 2174</td><td> 1723</td><td> 2125</td><td> 1772</td></tr>\n",
              "\t<tr><td>Sexto Circuito/ Puebla                           </td><td> 2468</td><td> 2568</td><td> 3218</td><td> 1818</td></tr>\n",
              "\t<tr><td>Séptimo Circuito/ Veracruz de Ignacio de la Llave</td><td> 1172</td><td> 1666</td><td> 1904</td><td>  934</td></tr>\n",
              "\t<tr><td>Octavo Circuito/ Coahuila de Zaragoza            </td><td> 2296</td><td> 1733</td><td> 2824</td><td> 1205</td></tr>\n",
              "\t<tr><td>Noveno Circuito/ San Luis Potosí                 </td><td>  739</td><td>  858</td><td> 1170</td><td>  427</td></tr>\n",
              "\t<tr><td>Décimo Circuito/ Tabasco-Veracruz                </td><td> 2600</td><td> 1106</td><td> 1413</td><td> 2293</td></tr>\n",
              "\t<tr><td>Decimoprimer Circuito/ Michoacán de Ocampo       </td><td>  814</td><td>  812</td><td> 1113</td><td>  513</td></tr>\n",
              "\t<tr><td>Decimosegundo Circuito/ Sinaloa                  </td><td> 1194</td><td>  830</td><td> 1371</td><td>  653</td></tr>\n",
              "\t<tr><td>Decimotercer Circuito/ Oaxaca                    </td><td> 1606</td><td>  954</td><td> 1649</td><td>  911</td></tr>\n",
              "\t<tr><td>Decimocuarto Circuito/ Yucatán                   </td><td>  766</td><td>  781</td><td>  879</td><td>  668</td></tr>\n",
              "\t<tr><td>Decimoquinto Circuito/ Baja California           </td><td> 1979</td><td> 2191</td><td> 2851</td><td> 1319</td></tr>\n",
              "\t<tr><td>Decimosexto Circuito/ Guanajuato                 </td><td> 1015</td><td> 1198</td><td> 1516</td><td>  697</td></tr>\n",
              "\t<tr><td>Decimoséptimo Circuito/ Chihuahua                </td><td> 1375</td><td> 1299</td><td> 1753</td><td>  921</td></tr>\n",
              "\t<tr><td>Decimoctavo Circuito/ Morelos                    </td><td> 1200</td><td> 1245</td><td> 1891</td><td>  554</td></tr>\n",
              "\t<tr><td>Decimonoveno Circuito/ Tamaulipas                </td><td> 1082</td><td> 1105</td><td> 1286</td><td>  901</td></tr>\n",
              "\t<tr><td>Vigésimo Circuito/ Chiapas                       </td><td>  812</td><td>  997</td><td> 1198</td><td>  611</td></tr>\n",
              "\t<tr><td>Vigésimo Primer Circuito/ Guerrero               </td><td> 1083</td><td>  749</td><td> 1305</td><td>  527</td></tr>\n",
              "\t<tr><td>Vigésimo Segundo Circuito/ Querétaro             </td><td> 1574</td><td> 1458</td><td> 2185</td><td>  847</td></tr>\n",
              "\t<tr><td>Vigésimo Tercer Circuito/ Zacatecas              </td><td>  653</td><td>  243</td><td>  703</td><td>  193</td></tr>\n",
              "\t<tr><td>Vigésimo Cuarto Circuito/ Nayarit                </td><td> 1234</td><td>  755</td><td> 1216</td><td>  773</td></tr>\n",
              "\t<tr><td>Vigésimo Quinto Circuito/ Durango                </td><td>  249</td><td>  340</td><td>  429</td><td>  160</td></tr>\n",
              "\t<tr><td>Vigésimo Sexto Circuito/ Baja California Sur     </td><td>  740</td><td>  298</td><td>  644</td><td>  394</td></tr>\n",
              "\t<tr><td>Vigésimo Séptimo Circuito/ Quintana Roo          </td><td>  867</td><td>  819</td><td> 1059</td><td>  627</td></tr>\n",
              "\t<tr><td>Vigésimo Octavo Circuito/ Tlaxcala               </td><td>  588</td><td>  381</td><td>  698</td><td>  271</td></tr>\n",
              "\t<tr><td>Vigésimo Noveno Circuito/ Hidalgo                </td><td>  553</td><td>  501</td><td>  730</td><td>  324</td></tr>\n",
              "\t<tr><td>Trigésimo Circuito/ Aguascalientes               </td><td>  451</td><td>  599</td><td>  717</td><td>  333</td></tr>\n",
              "\t<tr><td>Trigésimo Primer Circuito/ Campeche              </td><td>  274</td><td>  241</td><td>  348</td><td>  167</td></tr>\n",
              "\t<tr><td>Trigésimo Segundo Circuito/ Colima               </td><td>  416</td><td>  301</td><td>  477</td><td>  240</td></tr>\n",
              "\t<tr><td>Total                                            </td><td>51128</td><td>50531</td><td>67623</td><td>34047</td></tr>\n",
              "</tbody>\n",
              "</table>\n"
            ],
            "text/latex": "A tabyl: 33 × 5\n\\begin{tabular}{lllll}\n circuito & existencia\\_inicial & ingresos & egresos & Existencia\\_final\\\\\n <chr> & <int> & <int> & <int> & <int>\\\\\n\\hline\n\t Primer Circuito/ Ciudad de México                 &  9402 & 12822 & 15733 &  6489\\\\\n\t Segundo Circuito/ México                          &  2318 &  3142 &  3839 &  1621\\\\\n\t Tercer Circuito/ Jalisco                          &  4367 &  4845 &  6119 &  3106\\\\\n\t Cuarto Circuito/ Nuevo León                       &  3067 &  1971 &  3260 &  1778\\\\\n\t Quinto Circuito/ Sonora                           &  2174 &  1723 &  2125 &  1772\\\\\n\t Sexto Circuito/ Puebla                            &  2468 &  2568 &  3218 &  1818\\\\\n\t Séptimo Circuito/ Veracruz de Ignacio de la Llave &  1172 &  1666 &  1904 &   934\\\\\n\t Octavo Circuito/ Coahuila de Zaragoza             &  2296 &  1733 &  2824 &  1205\\\\\n\t Noveno Circuito/ San Luis Potosí                  &   739 &   858 &  1170 &   427\\\\\n\t Décimo Circuito/ Tabasco-Veracruz                 &  2600 &  1106 &  1413 &  2293\\\\\n\t Decimoprimer Circuito/ Michoacán de Ocampo        &   814 &   812 &  1113 &   513\\\\\n\t Decimosegundo Circuito/ Sinaloa                   &  1194 &   830 &  1371 &   653\\\\\n\t Decimotercer Circuito/ Oaxaca                     &  1606 &   954 &  1649 &   911\\\\\n\t Decimocuarto Circuito/ Yucatán                    &   766 &   781 &   879 &   668\\\\\n\t Decimoquinto Circuito/ Baja California            &  1979 &  2191 &  2851 &  1319\\\\\n\t Decimosexto Circuito/ Guanajuato                  &  1015 &  1198 &  1516 &   697\\\\\n\t Decimoséptimo Circuito/ Chihuahua                 &  1375 &  1299 &  1753 &   921\\\\\n\t Decimoctavo Circuito/ Morelos                     &  1200 &  1245 &  1891 &   554\\\\\n\t Decimonoveno Circuito/ Tamaulipas                 &  1082 &  1105 &  1286 &   901\\\\\n\t Vigésimo Circuito/ Chiapas                        &   812 &   997 &  1198 &   611\\\\\n\t Vigésimo Primer Circuito/ Guerrero                &  1083 &   749 &  1305 &   527\\\\\n\t Vigésimo Segundo Circuito/ Querétaro              &  1574 &  1458 &  2185 &   847\\\\\n\t Vigésimo Tercer Circuito/ Zacatecas               &   653 &   243 &   703 &   193\\\\\n\t Vigésimo Cuarto Circuito/ Nayarit                 &  1234 &   755 &  1216 &   773\\\\\n\t Vigésimo Quinto Circuito/ Durango                 &   249 &   340 &   429 &   160\\\\\n\t Vigésimo Sexto Circuito/ Baja California Sur      &   740 &   298 &   644 &   394\\\\\n\t Vigésimo Séptimo Circuito/ Quintana Roo           &   867 &   819 &  1059 &   627\\\\\n\t Vigésimo Octavo Circuito/ Tlaxcala                &   588 &   381 &   698 &   271\\\\\n\t Vigésimo Noveno Circuito/ Hidalgo                 &   553 &   501 &   730 &   324\\\\\n\t Trigésimo Circuito/ Aguascalientes                &   451 &   599 &   717 &   333\\\\\n\t Trigésimo Primer Circuito/ Campeche               &   274 &   241 &   348 &   167\\\\\n\t Trigésimo Segundo Circuito/ Colima                &   416 &   301 &   477 &   240\\\\\n\t Total                                             & 51128 & 50531 & 67623 & 34047\\\\\n\\end{tabular}\n",
            "text/markdown": "\nA tabyl: 33 × 5\n\n| circuito &lt;chr&gt; | existencia_inicial &lt;int&gt; | ingresos &lt;int&gt; | egresos &lt;int&gt; | Existencia_final &lt;int&gt; |\n|---|---|---|---|---|\n| Primer Circuito/ Ciudad de México                 |  9402 | 12822 | 15733 |  6489 |\n| Segundo Circuito/ México                          |  2318 |  3142 |  3839 |  1621 |\n| Tercer Circuito/ Jalisco                          |  4367 |  4845 |  6119 |  3106 |\n| Cuarto Circuito/ Nuevo León                       |  3067 |  1971 |  3260 |  1778 |\n| Quinto Circuito/ Sonora                           |  2174 |  1723 |  2125 |  1772 |\n| Sexto Circuito/ Puebla                            |  2468 |  2568 |  3218 |  1818 |\n| Séptimo Circuito/ Veracruz de Ignacio de la Llave |  1172 |  1666 |  1904 |   934 |\n| Octavo Circuito/ Coahuila de Zaragoza             |  2296 |  1733 |  2824 |  1205 |\n| Noveno Circuito/ San Luis Potosí                  |   739 |   858 |  1170 |   427 |\n| Décimo Circuito/ Tabasco-Veracruz                 |  2600 |  1106 |  1413 |  2293 |\n| Decimoprimer Circuito/ Michoacán de Ocampo        |   814 |   812 |  1113 |   513 |\n| Decimosegundo Circuito/ Sinaloa                   |  1194 |   830 |  1371 |   653 |\n| Decimotercer Circuito/ Oaxaca                     |  1606 |   954 |  1649 |   911 |\n| Decimocuarto Circuito/ Yucatán                    |   766 |   781 |   879 |   668 |\n| Decimoquinto Circuito/ Baja California            |  1979 |  2191 |  2851 |  1319 |\n| Decimosexto Circuito/ Guanajuato                  |  1015 |  1198 |  1516 |   697 |\n| Decimoséptimo Circuito/ Chihuahua                 |  1375 |  1299 |  1753 |   921 |\n| Decimoctavo Circuito/ Morelos                     |  1200 |  1245 |  1891 |   554 |\n| Decimonoveno Circuito/ Tamaulipas                 |  1082 |  1105 |  1286 |   901 |\n| Vigésimo Circuito/ Chiapas                        |   812 |   997 |  1198 |   611 |\n| Vigésimo Primer Circuito/ Guerrero                |  1083 |   749 |  1305 |   527 |\n| Vigésimo Segundo Circuito/ Querétaro              |  1574 |  1458 |  2185 |   847 |\n| Vigésimo Tercer Circuito/ Zacatecas               |   653 |   243 |   703 |   193 |\n| Vigésimo Cuarto Circuito/ Nayarit                 |  1234 |   755 |  1216 |   773 |\n| Vigésimo Quinto Circuito/ Durango                 |   249 |   340 |   429 |   160 |\n| Vigésimo Sexto Circuito/ Baja California Sur      |   740 |   298 |   644 |   394 |\n| Vigésimo Séptimo Circuito/ Quintana Roo           |   867 |   819 |  1059 |   627 |\n| Vigésimo Octavo Circuito/ Tlaxcala                |   588 |   381 |   698 |   271 |\n| Vigésimo Noveno Circuito/ Hidalgo                 |   553 |   501 |   730 |   324 |\n| Trigésimo Circuito/ Aguascalientes                |   451 |   599 |   717 |   333 |\n| Trigésimo Primer Circuito/ Campeche               |   274 |   241 |   348 |   167 |\n| Trigésimo Segundo Circuito/ Colima                |   416 |   301 |   477 |   240 |\n| Total                                             | 51128 | 50531 | 67623 | 34047 |\n\n",
            "text/plain": [
              "   circuito                                          existencia_inicial\n",
              "1  Primer Circuito/ Ciudad de México                  9402             \n",
              "2  Segundo Circuito/ México                           2318             \n",
              "3  Tercer Circuito/ Jalisco                           4367             \n",
              "4  Cuarto Circuito/ Nuevo León                        3067             \n",
              "5  Quinto Circuito/ Sonora                            2174             \n",
              "6  Sexto Circuito/ Puebla                             2468             \n",
              "7  Séptimo Circuito/ Veracruz de Ignacio de la Llave  1172             \n",
              "8  Octavo Circuito/ Coahuila de Zaragoza              2296             \n",
              "9  Noveno Circuito/ San Luis Potosí                    739             \n",
              "10 Décimo Circuito/ Tabasco-Veracruz                  2600             \n",
              "11 Decimoprimer Circuito/ Michoacán de Ocampo          814             \n",
              "12 Decimosegundo Circuito/ Sinaloa                    1194             \n",
              "13 Decimotercer Circuito/ Oaxaca                      1606             \n",
              "14 Decimocuarto Circuito/ Yucatán                      766             \n",
              "15 Decimoquinto Circuito/ Baja California             1979             \n",
              "16 Decimosexto Circuito/ Guanajuato                   1015             \n",
              "17 Decimoséptimo Circuito/ Chihuahua                  1375             \n",
              "18 Decimoctavo Circuito/ Morelos                      1200             \n",
              "19 Decimonoveno Circuito/ Tamaulipas                  1082             \n",
              "20 Vigésimo Circuito/ Chiapas                          812             \n",
              "21 Vigésimo Primer Circuito/ Guerrero                 1083             \n",
              "22 Vigésimo Segundo Circuito/ Querétaro               1574             \n",
              "23 Vigésimo Tercer Circuito/ Zacatecas                 653             \n",
              "24 Vigésimo Cuarto Circuito/ Nayarit                  1234             \n",
              "25 Vigésimo Quinto Circuito/ Durango                   249             \n",
              "26 Vigésimo Sexto Circuito/ Baja California Sur        740             \n",
              "27 Vigésimo Séptimo Circuito/ Quintana Roo             867             \n",
              "28 Vigésimo Octavo Circuito/ Tlaxcala                  588             \n",
              "29 Vigésimo Noveno Circuito/ Hidalgo                   553             \n",
              "30 Trigésimo Circuito/ Aguascalientes                  451             \n",
              "31 Trigésimo Primer Circuito/ Campeche                 274             \n",
              "32 Trigésimo Segundo Circuito/ Colima                  416             \n",
              "33 Total                                             51128             \n",
              "   ingresos egresos Existencia_final\n",
              "1  12822    15733    6489           \n",
              "2   3142     3839    1621           \n",
              "3   4845     6119    3106           \n",
              "4   1971     3260    1778           \n",
              "5   1723     2125    1772           \n",
              "6   2568     3218    1818           \n",
              "7   1666     1904     934           \n",
              "8   1733     2824    1205           \n",
              "9    858     1170     427           \n",
              "10  1106     1413    2293           \n",
              "11   812     1113     513           \n",
              "12   830     1371     653           \n",
              "13   954     1649     911           \n",
              "14   781      879     668           \n",
              "15  2191     2851    1319           \n",
              "16  1198     1516     697           \n",
              "17  1299     1753     921           \n",
              "18  1245     1891     554           \n",
              "19  1105     1286     901           \n",
              "20   997     1198     611           \n",
              "21   749     1305     527           \n",
              "22  1458     2185     847           \n",
              "23   243      703     193           \n",
              "24   755     1216     773           \n",
              "25   340      429     160           \n",
              "26   298      644     394           \n",
              "27   819     1059     627           \n",
              "28   381      698     271           \n",
              "29   501      730     324           \n",
              "30   599      717     333           \n",
              "31   241      348     167           \n",
              "32   301      477     240           \n",
              "33 50531    67623   34047           "
            ]
          },
          "metadata": {
            "tags": []
          }
        }
      ]
    },
    {
      "cell_type": "code",
      "metadata": {
        "colab": {
          "base_uri": "https://localhost:8080/"
        },
        "id": "5loyXe8eEXjH",
        "outputId": "29f2875b-b826-4986-f4e8-58ba307f9f71"
      },
      "source": [
        "# Conflictos competenciales\n",
        "\n",
        "cubo %>%\n",
        "filter(tp_organo == \"Tribunales Colegiados de Circuito\") %>%\n",
        "filter(tp_asunto == \"conflictos competenciales\") %>%\n",
        "mutate(egresos = egresos + egresos_acuerdo) %>% # egresos + egresos por acuerdo?\n",
        "select(circuito,  existencia_inicial, ingresos, egresos, Existencia_final) %>%\n",
        "mutate(circuito = factor(circuito, levels = orden_circuitos)) %>%\n",
        "group_by(circuito) %>%\n",
        "summarise_all(list(sum))%>%\n",
        "filter(!is.na(existencia_inicial))  %>%\n",
        "adorn_totals()"
      ],
      "execution_count": null,
      "outputs": [
        {
          "output_type": "display_data",
          "data": {
            "text/html": [
              "<table class=\"dataframe\">\n",
              "<caption>A tabyl: 33 × 5</caption>\n",
              "<thead>\n",
              "\t<tr><th scope=col>circuito</th><th scope=col>existencia_inicial</th><th scope=col>ingresos</th><th scope=col>egresos</th><th scope=col>Existencia_final</th></tr>\n",
              "\t<tr><th scope=col>&lt;chr&gt;</th><th scope=col>&lt;int&gt;</th><th scope=col>&lt;int&gt;</th><th scope=col>&lt;int&gt;</th><th scope=col>&lt;int&gt;</th></tr>\n",
              "</thead>\n",
              "<tbody>\n",
              "\t<tr><td>Primer Circuito/ Ciudad de México                </td><td>113</td><td> 768</td><td> 751</td><td> 95</td></tr>\n",
              "\t<tr><td>Segundo Circuito/ México                         </td><td> 39</td><td> 204</td><td> 157</td><td> 61</td></tr>\n",
              "\t<tr><td>Tercer Circuito/ Jalisco                         </td><td> 23</td><td> 147</td><td>  99</td><td> 53</td></tr>\n",
              "\t<tr><td>Cuarto Circuito/ Nuevo León                      </td><td> 18</td><td> 219</td><td> 128</td><td>103</td></tr>\n",
              "\t<tr><td>Quinto Circuito/ Sonora                          </td><td> 16</td><td>  45</td><td>  45</td><td> 11</td></tr>\n",
              "\t<tr><td>Sexto Circuito/ Puebla                           </td><td>  6</td><td>  61</td><td>  51</td><td> 13</td></tr>\n",
              "\t<tr><td>Séptimo Circuito/ Veracruz de Ignacio de la Llave</td><td> 17</td><td>  84</td><td>  72</td><td> 15</td></tr>\n",
              "\t<tr><td>Octavo Circuito/ Coahuila de Zaragoza            </td><td> 24</td><td>  87</td><td>  74</td><td> 22</td></tr>\n",
              "\t<tr><td>Noveno Circuito/ San Luis Potosí                 </td><td>  6</td><td>  61</td><td>  39</td><td> 25</td></tr>\n",
              "\t<tr><td>Décimo Circuito/ Tabasco-Veracruz                </td><td> 21</td><td>  50</td><td>  53</td><td> 16</td></tr>\n",
              "\t<tr><td>Decimoprimer Circuito/ Michoacán de Ocampo       </td><td>  7</td><td>  36</td><td>  36</td><td>  5</td></tr>\n",
              "\t<tr><td>Decimosegundo Circuito/ Sinaloa                  </td><td> 10</td><td>  71</td><td>  41</td><td> 39</td></tr>\n",
              "\t<tr><td>Decimotercer Circuito/ Oaxaca                    </td><td> 20</td><td>  42</td><td>  39</td><td> 21</td></tr>\n",
              "\t<tr><td>Decimocuarto Circuito/ Yucatán                   </td><td>  7</td><td>  10</td><td>  14</td><td>  2</td></tr>\n",
              "\t<tr><td>Decimoquinto Circuito/ Baja California           </td><td> 19</td><td>  88</td><td>  70</td><td> 28</td></tr>\n",
              "\t<tr><td>Decimosexto Circuito/ Guanajuato                 </td><td> 15</td><td> 193</td><td> 111</td><td> 79</td></tr>\n",
              "\t<tr><td>Decimoséptimo Circuito/ Chihuahua                </td><td> 18</td><td>  53</td><td>  48</td><td> 11</td></tr>\n",
              "\t<tr><td>Decimoctavo Circuito/ Morelos                    </td><td> 18</td><td>  74</td><td>  58</td><td> 23</td></tr>\n",
              "\t<tr><td>Decimonoveno Circuito/ Tamaulipas                </td><td> 50</td><td> 165</td><td> 103</td><td> 85</td></tr>\n",
              "\t<tr><td>Vigésimo Circuito/ Chiapas                       </td><td> 18</td><td>  51</td><td>  40</td><td> 23</td></tr>\n",
              "\t<tr><td>Vigésimo Primer Circuito/ Guerrero               </td><td> 18</td><td>  39</td><td>  38</td><td> 18</td></tr>\n",
              "\t<tr><td>Vigésimo Segundo Circuito/ Querétaro             </td><td>  2</td><td>  30</td><td>  23</td><td>  9</td></tr>\n",
              "\t<tr><td>Vigésimo Tercer Circuito/ Zacatecas              </td><td>  4</td><td>  17</td><td>  17</td><td>  3</td></tr>\n",
              "\t<tr><td>Vigésimo Cuarto Circuito/ Nayarit                </td><td> 21</td><td>  64</td><td>  50</td><td> 33</td></tr>\n",
              "\t<tr><td>Vigésimo Quinto Circuito/ Durango                </td><td>  3</td><td>  32</td><td>  22</td><td> 10</td></tr>\n",
              "\t<tr><td>Vigésimo Sexto Circuito/ Baja California Sur     </td><td> 21</td><td>  37</td><td>  21</td><td> 33</td></tr>\n",
              "\t<tr><td>Vigésimo Séptimo Circuito/ Quintana Roo          </td><td>  5</td><td>  44</td><td>  31</td><td>  8</td></tr>\n",
              "\t<tr><td>Vigésimo Octavo Circuito/ Tlaxcala               </td><td>  6</td><td>  15</td><td>  12</td><td>  4</td></tr>\n",
              "\t<tr><td>Vigésimo Noveno Circuito/ Hidalgo                </td><td>  1</td><td>  22</td><td>  16</td><td>  4</td></tr>\n",
              "\t<tr><td>Trigésimo Circuito/ Aguascalientes               </td><td>  1</td><td>  17</td><td>  16</td><td>  0</td></tr>\n",
              "\t<tr><td>Trigésimo Primer Circuito/ Campeche              </td><td>  2</td><td>   3</td><td>   4</td><td>  1</td></tr>\n",
              "\t<tr><td>Trigésimo Segundo Circuito/ Colima               </td><td> 10</td><td>   6</td><td>  11</td><td>  2</td></tr>\n",
              "\t<tr><td>Total                                            </td><td>559</td><td>2835</td><td>2290</td><td>855</td></tr>\n",
              "</tbody>\n",
              "</table>\n"
            ],
            "text/latex": "A tabyl: 33 × 5\n\\begin{tabular}{lllll}\n circuito & existencia\\_inicial & ingresos & egresos & Existencia\\_final\\\\\n <chr> & <int> & <int> & <int> & <int>\\\\\n\\hline\n\t Primer Circuito/ Ciudad de México                 & 113 &  768 &  751 &  95\\\\\n\t Segundo Circuito/ México                          &  39 &  204 &  157 &  61\\\\\n\t Tercer Circuito/ Jalisco                          &  23 &  147 &   99 &  53\\\\\n\t Cuarto Circuito/ Nuevo León                       &  18 &  219 &  128 & 103\\\\\n\t Quinto Circuito/ Sonora                           &  16 &   45 &   45 &  11\\\\\n\t Sexto Circuito/ Puebla                            &   6 &   61 &   51 &  13\\\\\n\t Séptimo Circuito/ Veracruz de Ignacio de la Llave &  17 &   84 &   72 &  15\\\\\n\t Octavo Circuito/ Coahuila de Zaragoza             &  24 &   87 &   74 &  22\\\\\n\t Noveno Circuito/ San Luis Potosí                  &   6 &   61 &   39 &  25\\\\\n\t Décimo Circuito/ Tabasco-Veracruz                 &  21 &   50 &   53 &  16\\\\\n\t Decimoprimer Circuito/ Michoacán de Ocampo        &   7 &   36 &   36 &   5\\\\\n\t Decimosegundo Circuito/ Sinaloa                   &  10 &   71 &   41 &  39\\\\\n\t Decimotercer Circuito/ Oaxaca                     &  20 &   42 &   39 &  21\\\\\n\t Decimocuarto Circuito/ Yucatán                    &   7 &   10 &   14 &   2\\\\\n\t Decimoquinto Circuito/ Baja California            &  19 &   88 &   70 &  28\\\\\n\t Decimosexto Circuito/ Guanajuato                  &  15 &  193 &  111 &  79\\\\\n\t Decimoséptimo Circuito/ Chihuahua                 &  18 &   53 &   48 &  11\\\\\n\t Decimoctavo Circuito/ Morelos                     &  18 &   74 &   58 &  23\\\\\n\t Decimonoveno Circuito/ Tamaulipas                 &  50 &  165 &  103 &  85\\\\\n\t Vigésimo Circuito/ Chiapas                        &  18 &   51 &   40 &  23\\\\\n\t Vigésimo Primer Circuito/ Guerrero                &  18 &   39 &   38 &  18\\\\\n\t Vigésimo Segundo Circuito/ Querétaro              &   2 &   30 &   23 &   9\\\\\n\t Vigésimo Tercer Circuito/ Zacatecas               &   4 &   17 &   17 &   3\\\\\n\t Vigésimo Cuarto Circuito/ Nayarit                 &  21 &   64 &   50 &  33\\\\\n\t Vigésimo Quinto Circuito/ Durango                 &   3 &   32 &   22 &  10\\\\\n\t Vigésimo Sexto Circuito/ Baja California Sur      &  21 &   37 &   21 &  33\\\\\n\t Vigésimo Séptimo Circuito/ Quintana Roo           &   5 &   44 &   31 &   8\\\\\n\t Vigésimo Octavo Circuito/ Tlaxcala                &   6 &   15 &   12 &   4\\\\\n\t Vigésimo Noveno Circuito/ Hidalgo                 &   1 &   22 &   16 &   4\\\\\n\t Trigésimo Circuito/ Aguascalientes                &   1 &   17 &   16 &   0\\\\\n\t Trigésimo Primer Circuito/ Campeche               &   2 &    3 &    4 &   1\\\\\n\t Trigésimo Segundo Circuito/ Colima                &  10 &    6 &   11 &   2\\\\\n\t Total                                             & 559 & 2835 & 2290 & 855\\\\\n\\end{tabular}\n",
            "text/markdown": "\nA tabyl: 33 × 5\n\n| circuito &lt;chr&gt; | existencia_inicial &lt;int&gt; | ingresos &lt;int&gt; | egresos &lt;int&gt; | Existencia_final &lt;int&gt; |\n|---|---|---|---|---|\n| Primer Circuito/ Ciudad de México                 | 113 |  768 |  751 |  95 |\n| Segundo Circuito/ México                          |  39 |  204 |  157 |  61 |\n| Tercer Circuito/ Jalisco                          |  23 |  147 |   99 |  53 |\n| Cuarto Circuito/ Nuevo León                       |  18 |  219 |  128 | 103 |\n| Quinto Circuito/ Sonora                           |  16 |   45 |   45 |  11 |\n| Sexto Circuito/ Puebla                            |   6 |   61 |   51 |  13 |\n| Séptimo Circuito/ Veracruz de Ignacio de la Llave |  17 |   84 |   72 |  15 |\n| Octavo Circuito/ Coahuila de Zaragoza             |  24 |   87 |   74 |  22 |\n| Noveno Circuito/ San Luis Potosí                  |   6 |   61 |   39 |  25 |\n| Décimo Circuito/ Tabasco-Veracruz                 |  21 |   50 |   53 |  16 |\n| Decimoprimer Circuito/ Michoacán de Ocampo        |   7 |   36 |   36 |   5 |\n| Decimosegundo Circuito/ Sinaloa                   |  10 |   71 |   41 |  39 |\n| Decimotercer Circuito/ Oaxaca                     |  20 |   42 |   39 |  21 |\n| Decimocuarto Circuito/ Yucatán                    |   7 |   10 |   14 |   2 |\n| Decimoquinto Circuito/ Baja California            |  19 |   88 |   70 |  28 |\n| Decimosexto Circuito/ Guanajuato                  |  15 |  193 |  111 |  79 |\n| Decimoséptimo Circuito/ Chihuahua                 |  18 |   53 |   48 |  11 |\n| Decimoctavo Circuito/ Morelos                     |  18 |   74 |   58 |  23 |\n| Decimonoveno Circuito/ Tamaulipas                 |  50 |  165 |  103 |  85 |\n| Vigésimo Circuito/ Chiapas                        |  18 |   51 |   40 |  23 |\n| Vigésimo Primer Circuito/ Guerrero                |  18 |   39 |   38 |  18 |\n| Vigésimo Segundo Circuito/ Querétaro              |   2 |   30 |   23 |   9 |\n| Vigésimo Tercer Circuito/ Zacatecas               |   4 |   17 |   17 |   3 |\n| Vigésimo Cuarto Circuito/ Nayarit                 |  21 |   64 |   50 |  33 |\n| Vigésimo Quinto Circuito/ Durango                 |   3 |   32 |   22 |  10 |\n| Vigésimo Sexto Circuito/ Baja California Sur      |  21 |   37 |   21 |  33 |\n| Vigésimo Séptimo Circuito/ Quintana Roo           |   5 |   44 |   31 |   8 |\n| Vigésimo Octavo Circuito/ Tlaxcala                |   6 |   15 |   12 |   4 |\n| Vigésimo Noveno Circuito/ Hidalgo                 |   1 |   22 |   16 |   4 |\n| Trigésimo Circuito/ Aguascalientes                |   1 |   17 |   16 |   0 |\n| Trigésimo Primer Circuito/ Campeche               |   2 |    3 |    4 |   1 |\n| Trigésimo Segundo Circuito/ Colima                |  10 |    6 |   11 |   2 |\n| Total                                             | 559 | 2835 | 2290 | 855 |\n\n",
            "text/plain": [
              "   circuito                                          existencia_inicial\n",
              "1  Primer Circuito/ Ciudad de México                 113               \n",
              "2  Segundo Circuito/ México                           39               \n",
              "3  Tercer Circuito/ Jalisco                           23               \n",
              "4  Cuarto Circuito/ Nuevo León                        18               \n",
              "5  Quinto Circuito/ Sonora                            16               \n",
              "6  Sexto Circuito/ Puebla                              6               \n",
              "7  Séptimo Circuito/ Veracruz de Ignacio de la Llave  17               \n",
              "8  Octavo Circuito/ Coahuila de Zaragoza              24               \n",
              "9  Noveno Circuito/ San Luis Potosí                    6               \n",
              "10 Décimo Circuito/ Tabasco-Veracruz                  21               \n",
              "11 Decimoprimer Circuito/ Michoacán de Ocampo          7               \n",
              "12 Decimosegundo Circuito/ Sinaloa                    10               \n",
              "13 Decimotercer Circuito/ Oaxaca                      20               \n",
              "14 Decimocuarto Circuito/ Yucatán                      7               \n",
              "15 Decimoquinto Circuito/ Baja California             19               \n",
              "16 Decimosexto Circuito/ Guanajuato                   15               \n",
              "17 Decimoséptimo Circuito/ Chihuahua                  18               \n",
              "18 Decimoctavo Circuito/ Morelos                      18               \n",
              "19 Decimonoveno Circuito/ Tamaulipas                  50               \n",
              "20 Vigésimo Circuito/ Chiapas                         18               \n",
              "21 Vigésimo Primer Circuito/ Guerrero                 18               \n",
              "22 Vigésimo Segundo Circuito/ Querétaro                2               \n",
              "23 Vigésimo Tercer Circuito/ Zacatecas                 4               \n",
              "24 Vigésimo Cuarto Circuito/ Nayarit                  21               \n",
              "25 Vigésimo Quinto Circuito/ Durango                   3               \n",
              "26 Vigésimo Sexto Circuito/ Baja California Sur       21               \n",
              "27 Vigésimo Séptimo Circuito/ Quintana Roo             5               \n",
              "28 Vigésimo Octavo Circuito/ Tlaxcala                  6               \n",
              "29 Vigésimo Noveno Circuito/ Hidalgo                   1               \n",
              "30 Trigésimo Circuito/ Aguascalientes                  1               \n",
              "31 Trigésimo Primer Circuito/ Campeche                 2               \n",
              "32 Trigésimo Segundo Circuito/ Colima                 10               \n",
              "33 Total                                             559               \n",
              "   ingresos egresos Existencia_final\n",
              "1   768      751     95             \n",
              "2   204      157     61             \n",
              "3   147       99     53             \n",
              "4   219      128    103             \n",
              "5    45       45     11             \n",
              "6    61       51     13             \n",
              "7    84       72     15             \n",
              "8    87       74     22             \n",
              "9    61       39     25             \n",
              "10   50       53     16             \n",
              "11   36       36      5             \n",
              "12   71       41     39             \n",
              "13   42       39     21             \n",
              "14   10       14      2             \n",
              "15   88       70     28             \n",
              "16  193      111     79             \n",
              "17   53       48     11             \n",
              "18   74       58     23             \n",
              "19  165      103     85             \n",
              "20   51       40     23             \n",
              "21   39       38     18             \n",
              "22   30       23      9             \n",
              "23   17       17      3             \n",
              "24   64       50     33             \n",
              "25   32       22     10             \n",
              "26   37       21     33             \n",
              "27   44       31      8             \n",
              "28   15       12      4             \n",
              "29   22       16      4             \n",
              "30   17       16      0             \n",
              "31    3        4      1             \n",
              "32    6       11      2             \n",
              "33 2835     2290    855             "
            ]
          },
          "metadata": {
            "tags": []
          }
        }
      ]
    },
    {
      "cell_type": "code",
      "metadata": {
        "colab": {
          "base_uri": "https://localhost:8080/"
        },
        "id": "of4uZ2AQF2lN",
        "outputId": "9859584b-6593-47ef-83ad-b4bcc56f445b"
      },
      "source": [
        "# Impedimentos\n",
        "\n",
        "cubo %>%\n",
        "filter(tp_organo == \"Tribunales Colegiados de Circuito\") %>%\n",
        "filter(tp_asunto == \"impedimentos\") %>%\n",
        "mutate(egresos = egresos + egresos_acuerdo) %>% # egresos + egresos por acuerdo?\n",
        "select(circuito,  existencia_inicial, ingresos, egresos, Existencia_final) %>%\n",
        "mutate(circuito = factor(circuito, levels = orden_circuitos)) %>%\n",
        "group_by(circuito) %>%\n",
        "summarise_all(list(sum))%>%\n",
        "filter(!is.na(existencia_inicial))  %>%\n",
        "adorn_totals()"
      ],
      "execution_count": null,
      "outputs": [
        {
          "output_type": "display_data",
          "data": {
            "text/html": [
              "<table class=\"dataframe\">\n",
              "<caption>A tabyl: 33 × 5</caption>\n",
              "<thead>\n",
              "\t<tr><th scope=col>circuito</th><th scope=col>existencia_inicial</th><th scope=col>ingresos</th><th scope=col>egresos</th><th scope=col>Existencia_final</th></tr>\n",
              "\t<tr><th scope=col>&lt;chr&gt;</th><th scope=col>&lt;int&gt;</th><th scope=col>&lt;int&gt;</th><th scope=col>&lt;int&gt;</th><th scope=col>&lt;int&gt;</th></tr>\n",
              "</thead>\n",
              "<tbody>\n",
              "\t<tr><td>Primer Circuito/ Ciudad de México                </td><td> 45</td><td> 328</td><td> 338</td><td> 35</td></tr>\n",
              "\t<tr><td>Segundo Circuito/ México                         </td><td> 15</td><td>  85</td><td>  86</td><td> 14</td></tr>\n",
              "\t<tr><td>Tercer Circuito/ Jalisco                         </td><td> 71</td><td> 264</td><td> 272</td><td> 63</td></tr>\n",
              "\t<tr><td>Cuarto Circuito/ Nuevo León                      </td><td> 41</td><td> 111</td><td> 131</td><td> 21</td></tr>\n",
              "\t<tr><td>Quinto Circuito/ Sonora                          </td><td>  2</td><td>  19</td><td>  21</td><td>  0</td></tr>\n",
              "\t<tr><td>Sexto Circuito/ Puebla                           </td><td> 23</td><td>  83</td><td>  91</td><td> 15</td></tr>\n",
              "\t<tr><td>Séptimo Circuito/ Veracruz de Ignacio de la Llave</td><td>  9</td><td>  41</td><td>  49</td><td>  1</td></tr>\n",
              "\t<tr><td>Octavo Circuito/ Coahuila de Zaragoza            </td><td> 18</td><td>  37</td><td>  43</td><td> 12</td></tr>\n",
              "\t<tr><td>Noveno Circuito/ San Luis Potosí                 </td><td> 12</td><td>  30</td><td>  41</td><td>  1</td></tr>\n",
              "\t<tr><td>Décimo Circuito/ Tabasco-Veracruz                </td><td> 10</td><td>  41</td><td>  46</td><td>  5</td></tr>\n",
              "\t<tr><td>Decimoprimer Circuito/ Michoacán de Ocampo       </td><td>  6</td><td>  45</td><td>  42</td><td>  9</td></tr>\n",
              "\t<tr><td>Decimosegundo Circuito/ Sinaloa                  </td><td> 13</td><td>  47</td><td>  53</td><td>  7</td></tr>\n",
              "\t<tr><td>Decimotercer Circuito/ Oaxaca                    </td><td>  3</td><td>  60</td><td>  55</td><td>  8</td></tr>\n",
              "\t<tr><td>Decimocuarto Circuito/ Yucatán                   </td><td>  2</td><td>  12</td><td>  13</td><td>  1</td></tr>\n",
              "\t<tr><td>Decimoquinto Circuito/ Baja California           </td><td> 14</td><td> 106</td><td> 102</td><td> 18</td></tr>\n",
              "\t<tr><td>Decimosexto Circuito/ Guanajuato                 </td><td>  8</td><td>  43</td><td>  42</td><td>  9</td></tr>\n",
              "\t<tr><td>Decimoséptimo Circuito/ Chihuahua                </td><td> 10</td><td> 114</td><td>  47</td><td> 77</td></tr>\n",
              "\t<tr><td>Decimoctavo Circuito/ Morelos                    </td><td>  6</td><td>  49</td><td>  48</td><td>  7</td></tr>\n",
              "\t<tr><td>Decimonoveno Circuito/ Tamaulipas                </td><td> 10</td><td> 108</td><td> 101</td><td> 17</td></tr>\n",
              "\t<tr><td>Vigésimo Circuito/ Chiapas                       </td><td> 17</td><td>  15</td><td>  28</td><td>  4</td></tr>\n",
              "\t<tr><td>Vigésimo Primer Circuito/ Guerrero               </td><td>  3</td><td>  14</td><td>  15</td><td>  2</td></tr>\n",
              "\t<tr><td>Vigésimo Segundo Circuito/ Querétaro             </td><td>  2</td><td>  16</td><td>  16</td><td>  2</td></tr>\n",
              "\t<tr><td>Vigésimo Tercer Circuito/ Zacatecas              </td><td> 10</td><td>   7</td><td>  17</td><td>  0</td></tr>\n",
              "\t<tr><td>Vigésimo Cuarto Circuito/ Nayarit                </td><td> 49</td><td>  12</td><td>  52</td><td>  9</td></tr>\n",
              "\t<tr><td>Vigésimo Quinto Circuito/ Durango                </td><td>  2</td><td>  36</td><td>  35</td><td>  3</td></tr>\n",
              "\t<tr><td>Vigésimo Sexto Circuito/ Baja California Sur     </td><td> 14</td><td>  10</td><td>  15</td><td>  9</td></tr>\n",
              "\t<tr><td>Vigésimo Séptimo Circuito/ Quintana Roo          </td><td>  5</td><td>  20</td><td>  19</td><td>  6</td></tr>\n",
              "\t<tr><td>Vigésimo Octavo Circuito/ Tlaxcala               </td><td>  1</td><td>   1</td><td>   2</td><td>  0</td></tr>\n",
              "\t<tr><td>Vigésimo Noveno Circuito/ Hidalgo                </td><td>  0</td><td>   6</td><td>   4</td><td>  2</td></tr>\n",
              "\t<tr><td>Trigésimo Circuito/ Aguascalientes               </td><td>  0</td><td>  14</td><td>  14</td><td>  0</td></tr>\n",
              "\t<tr><td>Trigésimo Primer Circuito/ Campeche              </td><td>  3</td><td>  20</td><td>  23</td><td>  0</td></tr>\n",
              "\t<tr><td>Trigésimo Segundo Circuito/ Colima               </td><td> 13</td><td>  34</td><td>  28</td><td> 19</td></tr>\n",
              "\t<tr><td>Total                                            </td><td>437</td><td>1828</td><td>1889</td><td>376</td></tr>\n",
              "</tbody>\n",
              "</table>\n"
            ],
            "text/latex": "A tabyl: 33 × 5\n\\begin{tabular}{lllll}\n circuito & existencia\\_inicial & ingresos & egresos & Existencia\\_final\\\\\n <chr> & <int> & <int> & <int> & <int>\\\\\n\\hline\n\t Primer Circuito/ Ciudad de México                 &  45 &  328 &  338 &  35\\\\\n\t Segundo Circuito/ México                          &  15 &   85 &   86 &  14\\\\\n\t Tercer Circuito/ Jalisco                          &  71 &  264 &  272 &  63\\\\\n\t Cuarto Circuito/ Nuevo León                       &  41 &  111 &  131 &  21\\\\\n\t Quinto Circuito/ Sonora                           &   2 &   19 &   21 &   0\\\\\n\t Sexto Circuito/ Puebla                            &  23 &   83 &   91 &  15\\\\\n\t Séptimo Circuito/ Veracruz de Ignacio de la Llave &   9 &   41 &   49 &   1\\\\\n\t Octavo Circuito/ Coahuila de Zaragoza             &  18 &   37 &   43 &  12\\\\\n\t Noveno Circuito/ San Luis Potosí                  &  12 &   30 &   41 &   1\\\\\n\t Décimo Circuito/ Tabasco-Veracruz                 &  10 &   41 &   46 &   5\\\\\n\t Decimoprimer Circuito/ Michoacán de Ocampo        &   6 &   45 &   42 &   9\\\\\n\t Decimosegundo Circuito/ Sinaloa                   &  13 &   47 &   53 &   7\\\\\n\t Decimotercer Circuito/ Oaxaca                     &   3 &   60 &   55 &   8\\\\\n\t Decimocuarto Circuito/ Yucatán                    &   2 &   12 &   13 &   1\\\\\n\t Decimoquinto Circuito/ Baja California            &  14 &  106 &  102 &  18\\\\\n\t Decimosexto Circuito/ Guanajuato                  &   8 &   43 &   42 &   9\\\\\n\t Decimoséptimo Circuito/ Chihuahua                 &  10 &  114 &   47 &  77\\\\\n\t Decimoctavo Circuito/ Morelos                     &   6 &   49 &   48 &   7\\\\\n\t Decimonoveno Circuito/ Tamaulipas                 &  10 &  108 &  101 &  17\\\\\n\t Vigésimo Circuito/ Chiapas                        &  17 &   15 &   28 &   4\\\\\n\t Vigésimo Primer Circuito/ Guerrero                &   3 &   14 &   15 &   2\\\\\n\t Vigésimo Segundo Circuito/ Querétaro              &   2 &   16 &   16 &   2\\\\\n\t Vigésimo Tercer Circuito/ Zacatecas               &  10 &    7 &   17 &   0\\\\\n\t Vigésimo Cuarto Circuito/ Nayarit                 &  49 &   12 &   52 &   9\\\\\n\t Vigésimo Quinto Circuito/ Durango                 &   2 &   36 &   35 &   3\\\\\n\t Vigésimo Sexto Circuito/ Baja California Sur      &  14 &   10 &   15 &   9\\\\\n\t Vigésimo Séptimo Circuito/ Quintana Roo           &   5 &   20 &   19 &   6\\\\\n\t Vigésimo Octavo Circuito/ Tlaxcala                &   1 &    1 &    2 &   0\\\\\n\t Vigésimo Noveno Circuito/ Hidalgo                 &   0 &    6 &    4 &   2\\\\\n\t Trigésimo Circuito/ Aguascalientes                &   0 &   14 &   14 &   0\\\\\n\t Trigésimo Primer Circuito/ Campeche               &   3 &   20 &   23 &   0\\\\\n\t Trigésimo Segundo Circuito/ Colima                &  13 &   34 &   28 &  19\\\\\n\t Total                                             & 437 & 1828 & 1889 & 376\\\\\n\\end{tabular}\n",
            "text/markdown": "\nA tabyl: 33 × 5\n\n| circuito &lt;chr&gt; | existencia_inicial &lt;int&gt; | ingresos &lt;int&gt; | egresos &lt;int&gt; | Existencia_final &lt;int&gt; |\n|---|---|---|---|---|\n| Primer Circuito/ Ciudad de México                 |  45 |  328 |  338 |  35 |\n| Segundo Circuito/ México                          |  15 |   85 |   86 |  14 |\n| Tercer Circuito/ Jalisco                          |  71 |  264 |  272 |  63 |\n| Cuarto Circuito/ Nuevo León                       |  41 |  111 |  131 |  21 |\n| Quinto Circuito/ Sonora                           |   2 |   19 |   21 |   0 |\n| Sexto Circuito/ Puebla                            |  23 |   83 |   91 |  15 |\n| Séptimo Circuito/ Veracruz de Ignacio de la Llave |   9 |   41 |   49 |   1 |\n| Octavo Circuito/ Coahuila de Zaragoza             |  18 |   37 |   43 |  12 |\n| Noveno Circuito/ San Luis Potosí                  |  12 |   30 |   41 |   1 |\n| Décimo Circuito/ Tabasco-Veracruz                 |  10 |   41 |   46 |   5 |\n| Decimoprimer Circuito/ Michoacán de Ocampo        |   6 |   45 |   42 |   9 |\n| Decimosegundo Circuito/ Sinaloa                   |  13 |   47 |   53 |   7 |\n| Decimotercer Circuito/ Oaxaca                     |   3 |   60 |   55 |   8 |\n| Decimocuarto Circuito/ Yucatán                    |   2 |   12 |   13 |   1 |\n| Decimoquinto Circuito/ Baja California            |  14 |  106 |  102 |  18 |\n| Decimosexto Circuito/ Guanajuato                  |   8 |   43 |   42 |   9 |\n| Decimoséptimo Circuito/ Chihuahua                 |  10 |  114 |   47 |  77 |\n| Decimoctavo Circuito/ Morelos                     |   6 |   49 |   48 |   7 |\n| Decimonoveno Circuito/ Tamaulipas                 |  10 |  108 |  101 |  17 |\n| Vigésimo Circuito/ Chiapas                        |  17 |   15 |   28 |   4 |\n| Vigésimo Primer Circuito/ Guerrero                |   3 |   14 |   15 |   2 |\n| Vigésimo Segundo Circuito/ Querétaro              |   2 |   16 |   16 |   2 |\n| Vigésimo Tercer Circuito/ Zacatecas               |  10 |    7 |   17 |   0 |\n| Vigésimo Cuarto Circuito/ Nayarit                 |  49 |   12 |   52 |   9 |\n| Vigésimo Quinto Circuito/ Durango                 |   2 |   36 |   35 |   3 |\n| Vigésimo Sexto Circuito/ Baja California Sur      |  14 |   10 |   15 |   9 |\n| Vigésimo Séptimo Circuito/ Quintana Roo           |   5 |   20 |   19 |   6 |\n| Vigésimo Octavo Circuito/ Tlaxcala                |   1 |    1 |    2 |   0 |\n| Vigésimo Noveno Circuito/ Hidalgo                 |   0 |    6 |    4 |   2 |\n| Trigésimo Circuito/ Aguascalientes                |   0 |   14 |   14 |   0 |\n| Trigésimo Primer Circuito/ Campeche               |   3 |   20 |   23 |   0 |\n| Trigésimo Segundo Circuito/ Colima                |  13 |   34 |   28 |  19 |\n| Total                                             | 437 | 1828 | 1889 | 376 |\n\n",
            "text/plain": [
              "   circuito                                          existencia_inicial\n",
              "1  Primer Circuito/ Ciudad de México                  45               \n",
              "2  Segundo Circuito/ México                           15               \n",
              "3  Tercer Circuito/ Jalisco                           71               \n",
              "4  Cuarto Circuito/ Nuevo León                        41               \n",
              "5  Quinto Circuito/ Sonora                             2               \n",
              "6  Sexto Circuito/ Puebla                             23               \n",
              "7  Séptimo Circuito/ Veracruz de Ignacio de la Llave   9               \n",
              "8  Octavo Circuito/ Coahuila de Zaragoza              18               \n",
              "9  Noveno Circuito/ San Luis Potosí                   12               \n",
              "10 Décimo Circuito/ Tabasco-Veracruz                  10               \n",
              "11 Decimoprimer Circuito/ Michoacán de Ocampo          6               \n",
              "12 Decimosegundo Circuito/ Sinaloa                    13               \n",
              "13 Decimotercer Circuito/ Oaxaca                       3               \n",
              "14 Decimocuarto Circuito/ Yucatán                      2               \n",
              "15 Decimoquinto Circuito/ Baja California             14               \n",
              "16 Decimosexto Circuito/ Guanajuato                    8               \n",
              "17 Decimoséptimo Circuito/ Chihuahua                  10               \n",
              "18 Decimoctavo Circuito/ Morelos                       6               \n",
              "19 Decimonoveno Circuito/ Tamaulipas                  10               \n",
              "20 Vigésimo Circuito/ Chiapas                         17               \n",
              "21 Vigésimo Primer Circuito/ Guerrero                  3               \n",
              "22 Vigésimo Segundo Circuito/ Querétaro                2               \n",
              "23 Vigésimo Tercer Circuito/ Zacatecas                10               \n",
              "24 Vigésimo Cuarto Circuito/ Nayarit                  49               \n",
              "25 Vigésimo Quinto Circuito/ Durango                   2               \n",
              "26 Vigésimo Sexto Circuito/ Baja California Sur       14               \n",
              "27 Vigésimo Séptimo Circuito/ Quintana Roo             5               \n",
              "28 Vigésimo Octavo Circuito/ Tlaxcala                  1               \n",
              "29 Vigésimo Noveno Circuito/ Hidalgo                   0               \n",
              "30 Trigésimo Circuito/ Aguascalientes                  0               \n",
              "31 Trigésimo Primer Circuito/ Campeche                 3               \n",
              "32 Trigésimo Segundo Circuito/ Colima                 13               \n",
              "33 Total                                             437               \n",
              "   ingresos egresos Existencia_final\n",
              "1   328      338     35             \n",
              "2    85       86     14             \n",
              "3   264      272     63             \n",
              "4   111      131     21             \n",
              "5    19       21      0             \n",
              "6    83       91     15             \n",
              "7    41       49      1             \n",
              "8    37       43     12             \n",
              "9    30       41      1             \n",
              "10   41       46      5             \n",
              "11   45       42      9             \n",
              "12   47       53      7             \n",
              "13   60       55      8             \n",
              "14   12       13      1             \n",
              "15  106      102     18             \n",
              "16   43       42      9             \n",
              "17  114       47     77             \n",
              "18   49       48      7             \n",
              "19  108      101     17             \n",
              "20   15       28      4             \n",
              "21   14       15      2             \n",
              "22   16       16      2             \n",
              "23    7       17      0             \n",
              "24   12       52      9             \n",
              "25   36       35      3             \n",
              "26   10       15      9             \n",
              "27   20       19      6             \n",
              "28    1        2      0             \n",
              "29    6        4      2             \n",
              "30   14       14      0             \n",
              "31   20       23      0             \n",
              "32   34       28     19             \n",
              "33 1828     1889    376             "
            ]
          },
          "metadata": {
            "tags": []
          }
        }
      ]
    },
    {
      "cell_type": "code",
      "metadata": {
        "colab": {
          "base_uri": "https://localhost:8080/"
        },
        "id": "62YN0OLcGewA",
        "outputId": "14633fbd-b2d4-44d1-819c-69ec27fb15f5"
      },
      "source": [
        "# Revisión contenciosa administrativa\n",
        "\n",
        "### ¿Por qué sólo en Michoacán?\n",
        "\n",
        "cubo %>%\n",
        "filter(tp_organo == \"Tribunales Colegiados de Circuito\") %>%\n",
        "filter(tp_asunto == \"revisión contenciosa administrativa\") %>%\n",
        "mutate(egresos = egresos + egresos_acuerdo) %>% # egresos + egresos por acuerdo?\n",
        "select(circuito,  existencia_inicial, ingresos, egresos, Existencia_final) %>%\n",
        "mutate(circuito = factor(circuito, levels = orden_circuitos)) %>%\n",
        "group_by(circuito) %>%\n",
        "summarise_all(list(sum))%>%\n",
        "filter(!is.na(existencia_inicial))  %>%\n",
        "adorn_totals()"
      ],
      "execution_count": null,
      "outputs": [
        {
          "output_type": "display_data",
          "data": {
            "text/html": [
              "<table class=\"dataframe\">\n",
              "<caption>A tabyl: 33 × 5</caption>\n",
              "<thead>\n",
              "\t<tr><th scope=col>circuito</th><th scope=col>existencia_inicial</th><th scope=col>ingresos</th><th scope=col>egresos</th><th scope=col>Existencia_final</th></tr>\n",
              "\t<tr><th scope=col>&lt;chr&gt;</th><th scope=col>&lt;int&gt;</th><th scope=col>&lt;int&gt;</th><th scope=col>&lt;int&gt;</th><th scope=col>&lt;int&gt;</th></tr>\n",
              "</thead>\n",
              "<tbody>\n",
              "\t<tr><td>Primer Circuito/ Ciudad de México                </td><td>53</td><td> 896</td><td> 898</td><td> 51</td></tr>\n",
              "\t<tr><td>Segundo Circuito/ México                         </td><td> 0</td><td>   0</td><td>   0</td><td>  0</td></tr>\n",
              "\t<tr><td>Tercer Circuito/ Jalisco                         </td><td> 0</td><td>   0</td><td>   0</td><td>  0</td></tr>\n",
              "\t<tr><td>Cuarto Circuito/ Nuevo León                      </td><td> 0</td><td>   0</td><td>   0</td><td>  0</td></tr>\n",
              "\t<tr><td>Quinto Circuito/ Sonora                          </td><td> 0</td><td>   0</td><td>   0</td><td>  0</td></tr>\n",
              "\t<tr><td>Sexto Circuito/ Puebla                           </td><td> 0</td><td>   1</td><td>   1</td><td>  0</td></tr>\n",
              "\t<tr><td>Séptimo Circuito/ Veracruz de Ignacio de la Llave</td><td> 0</td><td>   0</td><td>   0</td><td>  0</td></tr>\n",
              "\t<tr><td>Octavo Circuito/ Coahuila de Zaragoza            </td><td> 0</td><td>   0</td><td>   0</td><td>  0</td></tr>\n",
              "\t<tr><td>Noveno Circuito/ San Luis Potosí                 </td><td> 0</td><td>   0</td><td>   0</td><td>  0</td></tr>\n",
              "\t<tr><td>Décimo Circuito/ Tabasco-Veracruz                </td><td> 0</td><td>   0</td><td>   0</td><td>  0</td></tr>\n",
              "\t<tr><td>Decimoprimer Circuito/ Michoacán de Ocampo       </td><td>46</td><td> 286</td><td> 135</td><td>197</td></tr>\n",
              "\t<tr><td>Decimosegundo Circuito/ Sinaloa                  </td><td> 0</td><td>   0</td><td>   0</td><td>  0</td></tr>\n",
              "\t<tr><td>Decimotercer Circuito/ Oaxaca                    </td><td> 0</td><td>   0</td><td>   0</td><td>  0</td></tr>\n",
              "\t<tr><td>Decimocuarto Circuito/ Yucatán                   </td><td> 0</td><td>   0</td><td>   0</td><td>  0</td></tr>\n",
              "\t<tr><td>Decimoquinto Circuito/ Baja California           </td><td> 0</td><td>   0</td><td>   0</td><td>  0</td></tr>\n",
              "\t<tr><td>Decimosexto Circuito/ Guanajuato                 </td><td> 0</td><td>   6</td><td>   2</td><td>  4</td></tr>\n",
              "\t<tr><td>Decimoséptimo Circuito/ Chihuahua                </td><td> 0</td><td>   0</td><td>   0</td><td>  0</td></tr>\n",
              "\t<tr><td>Decimoctavo Circuito/ Morelos                    </td><td> 0</td><td>   0</td><td>   0</td><td>  0</td></tr>\n",
              "\t<tr><td>Decimonoveno Circuito/ Tamaulipas                </td><td> 0</td><td>   0</td><td>   0</td><td>  0</td></tr>\n",
              "\t<tr><td>Vigésimo Circuito/ Chiapas                       </td><td> 0</td><td>   0</td><td>   0</td><td>  0</td></tr>\n",
              "\t<tr><td>Vigésimo Primer Circuito/ Guerrero               </td><td> 0</td><td>   0</td><td>   0</td><td>  0</td></tr>\n",
              "\t<tr><td>Vigésimo Segundo Circuito/ Querétaro             </td><td> 0</td><td>   0</td><td>   0</td><td>  0</td></tr>\n",
              "\t<tr><td>Vigésimo Tercer Circuito/ Zacatecas              </td><td> 0</td><td>   0</td><td>   0</td><td>  0</td></tr>\n",
              "\t<tr><td>Vigésimo Cuarto Circuito/ Nayarit                </td><td> 0</td><td>   0</td><td>   0</td><td>  0</td></tr>\n",
              "\t<tr><td>Vigésimo Quinto Circuito/ Durango                </td><td> 0</td><td>   0</td><td>   0</td><td>  0</td></tr>\n",
              "\t<tr><td>Vigésimo Sexto Circuito/ Baja California Sur     </td><td> 0</td><td>   0</td><td>   0</td><td>  0</td></tr>\n",
              "\t<tr><td>Vigésimo Séptimo Circuito/ Quintana Roo          </td><td> 0</td><td>   0</td><td>   0</td><td>  0</td></tr>\n",
              "\t<tr><td>Vigésimo Octavo Circuito/ Tlaxcala               </td><td> 0</td><td>   0</td><td>   0</td><td>  0</td></tr>\n",
              "\t<tr><td>Vigésimo Noveno Circuito/ Hidalgo                </td><td> 0</td><td>   0</td><td>   0</td><td>  0</td></tr>\n",
              "\t<tr><td>Trigésimo Circuito/ Aguascalientes               </td><td> 0</td><td>   0</td><td>   0</td><td>  0</td></tr>\n",
              "\t<tr><td>Trigésimo Primer Circuito/ Campeche              </td><td> 0</td><td>   0</td><td>   0</td><td>  0</td></tr>\n",
              "\t<tr><td>Trigésimo Segundo Circuito/ Colima               </td><td> 0</td><td>   0</td><td>   0</td><td>  0</td></tr>\n",
              "\t<tr><td>Total                                            </td><td>99</td><td>1189</td><td>1036</td><td>252</td></tr>\n",
              "</tbody>\n",
              "</table>\n"
            ],
            "text/latex": "A tabyl: 33 × 5\n\\begin{tabular}{lllll}\n circuito & existencia\\_inicial & ingresos & egresos & Existencia\\_final\\\\\n <chr> & <int> & <int> & <int> & <int>\\\\\n\\hline\n\t Primer Circuito/ Ciudad de México                 & 53 &  896 &  898 &  51\\\\\n\t Segundo Circuito/ México                          &  0 &    0 &    0 &   0\\\\\n\t Tercer Circuito/ Jalisco                          &  0 &    0 &    0 &   0\\\\\n\t Cuarto Circuito/ Nuevo León                       &  0 &    0 &    0 &   0\\\\\n\t Quinto Circuito/ Sonora                           &  0 &    0 &    0 &   0\\\\\n\t Sexto Circuito/ Puebla                            &  0 &    1 &    1 &   0\\\\\n\t Séptimo Circuito/ Veracruz de Ignacio de la Llave &  0 &    0 &    0 &   0\\\\\n\t Octavo Circuito/ Coahuila de Zaragoza             &  0 &    0 &    0 &   0\\\\\n\t Noveno Circuito/ San Luis Potosí                  &  0 &    0 &    0 &   0\\\\\n\t Décimo Circuito/ Tabasco-Veracruz                 &  0 &    0 &    0 &   0\\\\\n\t Decimoprimer Circuito/ Michoacán de Ocampo        & 46 &  286 &  135 & 197\\\\\n\t Decimosegundo Circuito/ Sinaloa                   &  0 &    0 &    0 &   0\\\\\n\t Decimotercer Circuito/ Oaxaca                     &  0 &    0 &    0 &   0\\\\\n\t Decimocuarto Circuito/ Yucatán                    &  0 &    0 &    0 &   0\\\\\n\t Decimoquinto Circuito/ Baja California            &  0 &    0 &    0 &   0\\\\\n\t Decimosexto Circuito/ Guanajuato                  &  0 &    6 &    2 &   4\\\\\n\t Decimoséptimo Circuito/ Chihuahua                 &  0 &    0 &    0 &   0\\\\\n\t Decimoctavo Circuito/ Morelos                     &  0 &    0 &    0 &   0\\\\\n\t Decimonoveno Circuito/ Tamaulipas                 &  0 &    0 &    0 &   0\\\\\n\t Vigésimo Circuito/ Chiapas                        &  0 &    0 &    0 &   0\\\\\n\t Vigésimo Primer Circuito/ Guerrero                &  0 &    0 &    0 &   0\\\\\n\t Vigésimo Segundo Circuito/ Querétaro              &  0 &    0 &    0 &   0\\\\\n\t Vigésimo Tercer Circuito/ Zacatecas               &  0 &    0 &    0 &   0\\\\\n\t Vigésimo Cuarto Circuito/ Nayarit                 &  0 &    0 &    0 &   0\\\\\n\t Vigésimo Quinto Circuito/ Durango                 &  0 &    0 &    0 &   0\\\\\n\t Vigésimo Sexto Circuito/ Baja California Sur      &  0 &    0 &    0 &   0\\\\\n\t Vigésimo Séptimo Circuito/ Quintana Roo           &  0 &    0 &    0 &   0\\\\\n\t Vigésimo Octavo Circuito/ Tlaxcala                &  0 &    0 &    0 &   0\\\\\n\t Vigésimo Noveno Circuito/ Hidalgo                 &  0 &    0 &    0 &   0\\\\\n\t Trigésimo Circuito/ Aguascalientes                &  0 &    0 &    0 &   0\\\\\n\t Trigésimo Primer Circuito/ Campeche               &  0 &    0 &    0 &   0\\\\\n\t Trigésimo Segundo Circuito/ Colima                &  0 &    0 &    0 &   0\\\\\n\t Total                                             & 99 & 1189 & 1036 & 252\\\\\n\\end{tabular}\n",
            "text/markdown": "\nA tabyl: 33 × 5\n\n| circuito &lt;chr&gt; | existencia_inicial &lt;int&gt; | ingresos &lt;int&gt; | egresos &lt;int&gt; | Existencia_final &lt;int&gt; |\n|---|---|---|---|---|\n| Primer Circuito/ Ciudad de México                 | 53 |  896 |  898 |  51 |\n| Segundo Circuito/ México                          |  0 |    0 |    0 |   0 |\n| Tercer Circuito/ Jalisco                          |  0 |    0 |    0 |   0 |\n| Cuarto Circuito/ Nuevo León                       |  0 |    0 |    0 |   0 |\n| Quinto Circuito/ Sonora                           |  0 |    0 |    0 |   0 |\n| Sexto Circuito/ Puebla                            |  0 |    1 |    1 |   0 |\n| Séptimo Circuito/ Veracruz de Ignacio de la Llave |  0 |    0 |    0 |   0 |\n| Octavo Circuito/ Coahuila de Zaragoza             |  0 |    0 |    0 |   0 |\n| Noveno Circuito/ San Luis Potosí                  |  0 |    0 |    0 |   0 |\n| Décimo Circuito/ Tabasco-Veracruz                 |  0 |    0 |    0 |   0 |\n| Decimoprimer Circuito/ Michoacán de Ocampo        | 46 |  286 |  135 | 197 |\n| Decimosegundo Circuito/ Sinaloa                   |  0 |    0 |    0 |   0 |\n| Decimotercer Circuito/ Oaxaca                     |  0 |    0 |    0 |   0 |\n| Decimocuarto Circuito/ Yucatán                    |  0 |    0 |    0 |   0 |\n| Decimoquinto Circuito/ Baja California            |  0 |    0 |    0 |   0 |\n| Decimosexto Circuito/ Guanajuato                  |  0 |    6 |    2 |   4 |\n| Decimoséptimo Circuito/ Chihuahua                 |  0 |    0 |    0 |   0 |\n| Decimoctavo Circuito/ Morelos                     |  0 |    0 |    0 |   0 |\n| Decimonoveno Circuito/ Tamaulipas                 |  0 |    0 |    0 |   0 |\n| Vigésimo Circuito/ Chiapas                        |  0 |    0 |    0 |   0 |\n| Vigésimo Primer Circuito/ Guerrero                |  0 |    0 |    0 |   0 |\n| Vigésimo Segundo Circuito/ Querétaro              |  0 |    0 |    0 |   0 |\n| Vigésimo Tercer Circuito/ Zacatecas               |  0 |    0 |    0 |   0 |\n| Vigésimo Cuarto Circuito/ Nayarit                 |  0 |    0 |    0 |   0 |\n| Vigésimo Quinto Circuito/ Durango                 |  0 |    0 |    0 |   0 |\n| Vigésimo Sexto Circuito/ Baja California Sur      |  0 |    0 |    0 |   0 |\n| Vigésimo Séptimo Circuito/ Quintana Roo           |  0 |    0 |    0 |   0 |\n| Vigésimo Octavo Circuito/ Tlaxcala                |  0 |    0 |    0 |   0 |\n| Vigésimo Noveno Circuito/ Hidalgo                 |  0 |    0 |    0 |   0 |\n| Trigésimo Circuito/ Aguascalientes                |  0 |    0 |    0 |   0 |\n| Trigésimo Primer Circuito/ Campeche               |  0 |    0 |    0 |   0 |\n| Trigésimo Segundo Circuito/ Colima                |  0 |    0 |    0 |   0 |\n| Total                                             | 99 | 1189 | 1036 | 252 |\n\n",
            "text/plain": [
              "   circuito                                          existencia_inicial\n",
              "1  Primer Circuito/ Ciudad de México                 53                \n",
              "2  Segundo Circuito/ México                           0                \n",
              "3  Tercer Circuito/ Jalisco                           0                \n",
              "4  Cuarto Circuito/ Nuevo León                        0                \n",
              "5  Quinto Circuito/ Sonora                            0                \n",
              "6  Sexto Circuito/ Puebla                             0                \n",
              "7  Séptimo Circuito/ Veracruz de Ignacio de la Llave  0                \n",
              "8  Octavo Circuito/ Coahuila de Zaragoza              0                \n",
              "9  Noveno Circuito/ San Luis Potosí                   0                \n",
              "10 Décimo Circuito/ Tabasco-Veracruz                  0                \n",
              "11 Decimoprimer Circuito/ Michoacán de Ocampo        46                \n",
              "12 Decimosegundo Circuito/ Sinaloa                    0                \n",
              "13 Decimotercer Circuito/ Oaxaca                      0                \n",
              "14 Decimocuarto Circuito/ Yucatán                     0                \n",
              "15 Decimoquinto Circuito/ Baja California             0                \n",
              "16 Decimosexto Circuito/ Guanajuato                   0                \n",
              "17 Decimoséptimo Circuito/ Chihuahua                  0                \n",
              "18 Decimoctavo Circuito/ Morelos                      0                \n",
              "19 Decimonoveno Circuito/ Tamaulipas                  0                \n",
              "20 Vigésimo Circuito/ Chiapas                         0                \n",
              "21 Vigésimo Primer Circuito/ Guerrero                 0                \n",
              "22 Vigésimo Segundo Circuito/ Querétaro               0                \n",
              "23 Vigésimo Tercer Circuito/ Zacatecas                0                \n",
              "24 Vigésimo Cuarto Circuito/ Nayarit                  0                \n",
              "25 Vigésimo Quinto Circuito/ Durango                  0                \n",
              "26 Vigésimo Sexto Circuito/ Baja California Sur       0                \n",
              "27 Vigésimo Séptimo Circuito/ Quintana Roo            0                \n",
              "28 Vigésimo Octavo Circuito/ Tlaxcala                 0                \n",
              "29 Vigésimo Noveno Circuito/ Hidalgo                  0                \n",
              "30 Trigésimo Circuito/ Aguascalientes                 0                \n",
              "31 Trigésimo Primer Circuito/ Campeche                0                \n",
              "32 Trigésimo Segundo Circuito/ Colima                 0                \n",
              "33 Total                                             99                \n",
              "   ingresos egresos Existencia_final\n",
              "1   896      898     51             \n",
              "2     0        0      0             \n",
              "3     0        0      0             \n",
              "4     0        0      0             \n",
              "5     0        0      0             \n",
              "6     1        1      0             \n",
              "7     0        0      0             \n",
              "8     0        0      0             \n",
              "9     0        0      0             \n",
              "10    0        0      0             \n",
              "11  286      135    197             \n",
              "12    0        0      0             \n",
              "13    0        0      0             \n",
              "14    0        0      0             \n",
              "15    0        0      0             \n",
              "16    6        2      4             \n",
              "17    0        0      0             \n",
              "18    0        0      0             \n",
              "19    0        0      0             \n",
              "20    0        0      0             \n",
              "21    0        0      0             \n",
              "22    0        0      0             \n",
              "23    0        0      0             \n",
              "24    0        0      0             \n",
              "25    0        0      0             \n",
              "26    0        0      0             \n",
              "27    0        0      0             \n",
              "28    0        0      0             \n",
              "29    0        0      0             \n",
              "30    0        0      0             \n",
              "31    0        0      0             \n",
              "32    0        0      0             \n",
              "33 1189     1036    252             "
            ]
          },
          "metadata": {
            "tags": []
          }
        }
      ]
    },
    {
      "cell_type": "code",
      "metadata": {
        "colab": {
          "base_uri": "https://localhost:8080/"
        },
        "id": "mR2f3oXQH8cX",
        "outputId": "0fee194b-2433-4ff5-99ab-6d5bec09e0e0"
      },
      "source": [
        "# Queja\n",
        "\n",
        "cubo %>%\n",
        "filter(tp_organo == \"Tribunales Colegiados de Circuito\") %>%\n",
        "filter(tp_asunto == \"queja\") %>%\n",
        "mutate(egresos = egresos + egresos_acuerdo) %>% # egresos + egresos por acuerdo?\n",
        "select(circuito,  existencia_inicial, ingresos, egresos, Existencia_final) %>%\n",
        "mutate(circuito = factor(circuito, levels = orden_circuitos)) %>%\n",
        "group_by(circuito) %>%\n",
        "summarise_all(list(sum))%>%\n",
        "filter(!is.na(existencia_inicial))  %>%\n",
        "adorn_totals()"
      ],
      "execution_count": null,
      "outputs": [
        {
          "output_type": "display_data",
          "data": {
            "text/html": [
              "<table class=\"dataframe\">\n",
              "<caption>A tabyl: 33 × 5</caption>\n",
              "<thead>\n",
              "\t<tr><th scope=col>circuito</th><th scope=col>existencia_inicial</th><th scope=col>ingresos</th><th scope=col>egresos</th><th scope=col>Existencia_final</th></tr>\n",
              "\t<tr><th scope=col>&lt;chr&gt;</th><th scope=col>&lt;int&gt;</th><th scope=col>&lt;int&gt;</th><th scope=col>&lt;int&gt;</th><th scope=col>&lt;int&gt;</th></tr>\n",
              "</thead>\n",
              "<tbody>\n",
              "\t<tr><td>Primer Circuito/ Ciudad de México                </td><td>2225</td><td>11650</td><td>11686</td><td> 2188</td></tr>\n",
              "\t<tr><td>Segundo Circuito/ México                         </td><td> 560</td><td> 3312</td><td> 2992</td><td>  880</td></tr>\n",
              "\t<tr><td>Tercer Circuito/ Jalisco                         </td><td> 997</td><td> 5798</td><td> 5337</td><td> 1477</td></tr>\n",
              "\t<tr><td>Cuarto Circuito/ Nuevo León                      </td><td> 435</td><td> 1981</td><td> 1770</td><td>  646</td></tr>\n",
              "\t<tr><td>Quinto Circuito/ Sonora                          </td><td> 309</td><td> 1195</td><td> 1055</td><td>  449</td></tr>\n",
              "\t<tr><td>Sexto Circuito/ Puebla                           </td><td> 356</td><td> 2115</td><td> 1945</td><td>  526</td></tr>\n",
              "\t<tr><td>Séptimo Circuito/ Veracruz de Ignacio de la Llave</td><td> 344</td><td> 2130</td><td> 2050</td><td>  424</td></tr>\n",
              "\t<tr><td>Octavo Circuito/ Coahuila de Zaragoza            </td><td> 318</td><td> 1158</td><td> 1141</td><td>  335</td></tr>\n",
              "\t<tr><td>Noveno Circuito/ San Luis Potosí                 </td><td> 148</td><td>  881</td><td>  803</td><td>  226</td></tr>\n",
              "\t<tr><td>Décimo Circuito/ Tabasco-Veracruz                </td><td> 349</td><td> 1136</td><td> 1026</td><td>  459</td></tr>\n",
              "\t<tr><td>Decimoprimer Circuito/ Michoacán de Ocampo       </td><td> 125</td><td>  858</td><td>  826</td><td>  157</td></tr>\n",
              "\t<tr><td>Decimosegundo Circuito/ Sinaloa                  </td><td> 185</td><td>  966</td><td>  906</td><td>  245</td></tr>\n",
              "\t<tr><td>Decimotercer Circuito/ Oaxaca                    </td><td> 277</td><td>  881</td><td>  902</td><td>  256</td></tr>\n",
              "\t<tr><td>Decimocuarto Circuito/ Yucatán                   </td><td> 118</td><td>  650</td><td>  617</td><td>  151</td></tr>\n",
              "\t<tr><td>Decimoquinto Circuito/ Baja California           </td><td> 256</td><td> 1188</td><td> 1178</td><td>  266</td></tr>\n",
              "\t<tr><td>Decimosexto Circuito/ Guanajuato                 </td><td> 180</td><td> 1159</td><td> 1013</td><td>  326</td></tr>\n",
              "\t<tr><td>Decimoséptimo Circuito/ Chihuahua                </td><td> 185</td><td> 1184</td><td> 1068</td><td>  301</td></tr>\n",
              "\t<tr><td>Decimoctavo Circuito/ Morelos                    </td><td> 233</td><td> 1182</td><td> 1134</td><td>  281</td></tr>\n",
              "\t<tr><td>Decimonoveno Circuito/ Tamaulipas                </td><td> 169</td><td> 1000</td><td>  824</td><td>  345</td></tr>\n",
              "\t<tr><td>Vigésimo Circuito/ Chiapas                       </td><td> 235</td><td>  733</td><td>  760</td><td>  208</td></tr>\n",
              "\t<tr><td>Vigésimo Primer Circuito/ Guerrero               </td><td> 194</td><td>  712</td><td>  671</td><td>  235</td></tr>\n",
              "\t<tr><td>Vigésimo Segundo Circuito/ Querétaro             </td><td> 131</td><td>  642</td><td>  607</td><td>  166</td></tr>\n",
              "\t<tr><td>Vigésimo Tercer Circuito/ Zacatecas              </td><td>  16</td><td>  106</td><td>  113</td><td>    9</td></tr>\n",
              "\t<tr><td>Vigésimo Cuarto Circuito/ Nayarit                </td><td> 428</td><td>  790</td><td>  715</td><td>  503</td></tr>\n",
              "\t<tr><td>Vigésimo Quinto Circuito/ Durango                </td><td>  47</td><td>  213</td><td>  234</td><td>   26</td></tr>\n",
              "\t<tr><td>Vigésimo Sexto Circuito/ Baja California Sur     </td><td> 173</td><td>  323</td><td>  313</td><td>  183</td></tr>\n",
              "\t<tr><td>Vigésimo Séptimo Circuito/ Quintana Roo          </td><td> 163</td><td>  859</td><td>  866</td><td>  156</td></tr>\n",
              "\t<tr><td>Vigésimo Octavo Circuito/ Tlaxcala               </td><td>  69</td><td>  218</td><td>  229</td><td>   58</td></tr>\n",
              "\t<tr><td>Vigésimo Noveno Circuito/ Hidalgo                </td><td>  77</td><td>  484</td><td>  460</td><td>  101</td></tr>\n",
              "\t<tr><td>Trigésimo Circuito/ Aguascalientes               </td><td>  40</td><td>  486</td><td>  480</td><td>   46</td></tr>\n",
              "\t<tr><td>Trigésimo Primer Circuito/ Campeche              </td><td>  59</td><td>  321</td><td>  263</td><td>  117</td></tr>\n",
              "\t<tr><td>Trigésimo Segundo Circuito/ Colima               </td><td>  93</td><td>  303</td><td>  279</td><td>  117</td></tr>\n",
              "\t<tr><td>Total                                            </td><td>9494</td><td>46614</td><td>44263</td><td>11863</td></tr>\n",
              "</tbody>\n",
              "</table>\n"
            ],
            "text/latex": "A tabyl: 33 × 5\n\\begin{tabular}{lllll}\n circuito & existencia\\_inicial & ingresos & egresos & Existencia\\_final\\\\\n <chr> & <int> & <int> & <int> & <int>\\\\\n\\hline\n\t Primer Circuito/ Ciudad de México                 & 2225 & 11650 & 11686 &  2188\\\\\n\t Segundo Circuito/ México                          &  560 &  3312 &  2992 &   880\\\\\n\t Tercer Circuito/ Jalisco                          &  997 &  5798 &  5337 &  1477\\\\\n\t Cuarto Circuito/ Nuevo León                       &  435 &  1981 &  1770 &   646\\\\\n\t Quinto Circuito/ Sonora                           &  309 &  1195 &  1055 &   449\\\\\n\t Sexto Circuito/ Puebla                            &  356 &  2115 &  1945 &   526\\\\\n\t Séptimo Circuito/ Veracruz de Ignacio de la Llave &  344 &  2130 &  2050 &   424\\\\\n\t Octavo Circuito/ Coahuila de Zaragoza             &  318 &  1158 &  1141 &   335\\\\\n\t Noveno Circuito/ San Luis Potosí                  &  148 &   881 &   803 &   226\\\\\n\t Décimo Circuito/ Tabasco-Veracruz                 &  349 &  1136 &  1026 &   459\\\\\n\t Decimoprimer Circuito/ Michoacán de Ocampo        &  125 &   858 &   826 &   157\\\\\n\t Decimosegundo Circuito/ Sinaloa                   &  185 &   966 &   906 &   245\\\\\n\t Decimotercer Circuito/ Oaxaca                     &  277 &   881 &   902 &   256\\\\\n\t Decimocuarto Circuito/ Yucatán                    &  118 &   650 &   617 &   151\\\\\n\t Decimoquinto Circuito/ Baja California            &  256 &  1188 &  1178 &   266\\\\\n\t Decimosexto Circuito/ Guanajuato                  &  180 &  1159 &  1013 &   326\\\\\n\t Decimoséptimo Circuito/ Chihuahua                 &  185 &  1184 &  1068 &   301\\\\\n\t Decimoctavo Circuito/ Morelos                     &  233 &  1182 &  1134 &   281\\\\\n\t Decimonoveno Circuito/ Tamaulipas                 &  169 &  1000 &   824 &   345\\\\\n\t Vigésimo Circuito/ Chiapas                        &  235 &   733 &   760 &   208\\\\\n\t Vigésimo Primer Circuito/ Guerrero                &  194 &   712 &   671 &   235\\\\\n\t Vigésimo Segundo Circuito/ Querétaro              &  131 &   642 &   607 &   166\\\\\n\t Vigésimo Tercer Circuito/ Zacatecas               &   16 &   106 &   113 &     9\\\\\n\t Vigésimo Cuarto Circuito/ Nayarit                 &  428 &   790 &   715 &   503\\\\\n\t Vigésimo Quinto Circuito/ Durango                 &   47 &   213 &   234 &    26\\\\\n\t Vigésimo Sexto Circuito/ Baja California Sur      &  173 &   323 &   313 &   183\\\\\n\t Vigésimo Séptimo Circuito/ Quintana Roo           &  163 &   859 &   866 &   156\\\\\n\t Vigésimo Octavo Circuito/ Tlaxcala                &   69 &   218 &   229 &    58\\\\\n\t Vigésimo Noveno Circuito/ Hidalgo                 &   77 &   484 &   460 &   101\\\\\n\t Trigésimo Circuito/ Aguascalientes                &   40 &   486 &   480 &    46\\\\\n\t Trigésimo Primer Circuito/ Campeche               &   59 &   321 &   263 &   117\\\\\n\t Trigésimo Segundo Circuito/ Colima                &   93 &   303 &   279 &   117\\\\\n\t Total                                             & 9494 & 46614 & 44263 & 11863\\\\\n\\end{tabular}\n",
            "text/markdown": "\nA tabyl: 33 × 5\n\n| circuito &lt;chr&gt; | existencia_inicial &lt;int&gt; | ingresos &lt;int&gt; | egresos &lt;int&gt; | Existencia_final &lt;int&gt; |\n|---|---|---|---|---|\n| Primer Circuito/ Ciudad de México                 | 2225 | 11650 | 11686 |  2188 |\n| Segundo Circuito/ México                          |  560 |  3312 |  2992 |   880 |\n| Tercer Circuito/ Jalisco                          |  997 |  5798 |  5337 |  1477 |\n| Cuarto Circuito/ Nuevo León                       |  435 |  1981 |  1770 |   646 |\n| Quinto Circuito/ Sonora                           |  309 |  1195 |  1055 |   449 |\n| Sexto Circuito/ Puebla                            |  356 |  2115 |  1945 |   526 |\n| Séptimo Circuito/ Veracruz de Ignacio de la Llave |  344 |  2130 |  2050 |   424 |\n| Octavo Circuito/ Coahuila de Zaragoza             |  318 |  1158 |  1141 |   335 |\n| Noveno Circuito/ San Luis Potosí                  |  148 |   881 |   803 |   226 |\n| Décimo Circuito/ Tabasco-Veracruz                 |  349 |  1136 |  1026 |   459 |\n| Decimoprimer Circuito/ Michoacán de Ocampo        |  125 |   858 |   826 |   157 |\n| Decimosegundo Circuito/ Sinaloa                   |  185 |   966 |   906 |   245 |\n| Decimotercer Circuito/ Oaxaca                     |  277 |   881 |   902 |   256 |\n| Decimocuarto Circuito/ Yucatán                    |  118 |   650 |   617 |   151 |\n| Decimoquinto Circuito/ Baja California            |  256 |  1188 |  1178 |   266 |\n| Decimosexto Circuito/ Guanajuato                  |  180 |  1159 |  1013 |   326 |\n| Decimoséptimo Circuito/ Chihuahua                 |  185 |  1184 |  1068 |   301 |\n| Decimoctavo Circuito/ Morelos                     |  233 |  1182 |  1134 |   281 |\n| Decimonoveno Circuito/ Tamaulipas                 |  169 |  1000 |   824 |   345 |\n| Vigésimo Circuito/ Chiapas                        |  235 |   733 |   760 |   208 |\n| Vigésimo Primer Circuito/ Guerrero                |  194 |   712 |   671 |   235 |\n| Vigésimo Segundo Circuito/ Querétaro              |  131 |   642 |   607 |   166 |\n| Vigésimo Tercer Circuito/ Zacatecas               |   16 |   106 |   113 |     9 |\n| Vigésimo Cuarto Circuito/ Nayarit                 |  428 |   790 |   715 |   503 |\n| Vigésimo Quinto Circuito/ Durango                 |   47 |   213 |   234 |    26 |\n| Vigésimo Sexto Circuito/ Baja California Sur      |  173 |   323 |   313 |   183 |\n| Vigésimo Séptimo Circuito/ Quintana Roo           |  163 |   859 |   866 |   156 |\n| Vigésimo Octavo Circuito/ Tlaxcala                |   69 |   218 |   229 |    58 |\n| Vigésimo Noveno Circuito/ Hidalgo                 |   77 |   484 |   460 |   101 |\n| Trigésimo Circuito/ Aguascalientes                |   40 |   486 |   480 |    46 |\n| Trigésimo Primer Circuito/ Campeche               |   59 |   321 |   263 |   117 |\n| Trigésimo Segundo Circuito/ Colima                |   93 |   303 |   279 |   117 |\n| Total                                             | 9494 | 46614 | 44263 | 11863 |\n\n",
            "text/plain": [
              "   circuito                                          existencia_inicial\n",
              "1  Primer Circuito/ Ciudad de México                 2225              \n",
              "2  Segundo Circuito/ México                           560              \n",
              "3  Tercer Circuito/ Jalisco                           997              \n",
              "4  Cuarto Circuito/ Nuevo León                        435              \n",
              "5  Quinto Circuito/ Sonora                            309              \n",
              "6  Sexto Circuito/ Puebla                             356              \n",
              "7  Séptimo Circuito/ Veracruz de Ignacio de la Llave  344              \n",
              "8  Octavo Circuito/ Coahuila de Zaragoza              318              \n",
              "9  Noveno Circuito/ San Luis Potosí                   148              \n",
              "10 Décimo Circuito/ Tabasco-Veracruz                  349              \n",
              "11 Decimoprimer Circuito/ Michoacán de Ocampo         125              \n",
              "12 Decimosegundo Circuito/ Sinaloa                    185              \n",
              "13 Decimotercer Circuito/ Oaxaca                      277              \n",
              "14 Decimocuarto Circuito/ Yucatán                     118              \n",
              "15 Decimoquinto Circuito/ Baja California             256              \n",
              "16 Decimosexto Circuito/ Guanajuato                   180              \n",
              "17 Decimoséptimo Circuito/ Chihuahua                  185              \n",
              "18 Decimoctavo Circuito/ Morelos                      233              \n",
              "19 Decimonoveno Circuito/ Tamaulipas                  169              \n",
              "20 Vigésimo Circuito/ Chiapas                         235              \n",
              "21 Vigésimo Primer Circuito/ Guerrero                 194              \n",
              "22 Vigésimo Segundo Circuito/ Querétaro               131              \n",
              "23 Vigésimo Tercer Circuito/ Zacatecas                 16              \n",
              "24 Vigésimo Cuarto Circuito/ Nayarit                  428              \n",
              "25 Vigésimo Quinto Circuito/ Durango                   47              \n",
              "26 Vigésimo Sexto Circuito/ Baja California Sur       173              \n",
              "27 Vigésimo Séptimo Circuito/ Quintana Roo            163              \n",
              "28 Vigésimo Octavo Circuito/ Tlaxcala                  69              \n",
              "29 Vigésimo Noveno Circuito/ Hidalgo                   77              \n",
              "30 Trigésimo Circuito/ Aguascalientes                  40              \n",
              "31 Trigésimo Primer Circuito/ Campeche                 59              \n",
              "32 Trigésimo Segundo Circuito/ Colima                  93              \n",
              "33 Total                                             9494              \n",
              "   ingresos egresos Existencia_final\n",
              "1  11650    11686    2188           \n",
              "2   3312     2992     880           \n",
              "3   5798     5337    1477           \n",
              "4   1981     1770     646           \n",
              "5   1195     1055     449           \n",
              "6   2115     1945     526           \n",
              "7   2130     2050     424           \n",
              "8   1158     1141     335           \n",
              "9    881      803     226           \n",
              "10  1136     1026     459           \n",
              "11   858      826     157           \n",
              "12   966      906     245           \n",
              "13   881      902     256           \n",
              "14   650      617     151           \n",
              "15  1188     1178     266           \n",
              "16  1159     1013     326           \n",
              "17  1184     1068     301           \n",
              "18  1182     1134     281           \n",
              "19  1000      824     345           \n",
              "20   733      760     208           \n",
              "21   712      671     235           \n",
              "22   642      607     166           \n",
              "23   106      113       9           \n",
              "24   790      715     503           \n",
              "25   213      234      26           \n",
              "26   323      313     183           \n",
              "27   859      866     156           \n",
              "28   218      229      58           \n",
              "29   484      460     101           \n",
              "30   486      480      46           \n",
              "31   321      263     117           \n",
              "32   303      279     117           \n",
              "33 46614    44263   11863           "
            ]
          },
          "metadata": {
            "tags": []
          }
        }
      ]
    },
    {
      "cell_type": "code",
      "metadata": {
        "colab": {
          "base_uri": "https://localhost:8080/"
        },
        "id": "V79bumWSIYjD",
        "outputId": "222bb380-ec88-46a2-ead3-922aafc75f71"
      },
      "source": [
        "# Revisión fiscal\n",
        "\n",
        "cubo %>%\n",
        "filter(tp_organo == \"Tribunales Colegiados de Circuito\") %>%\n",
        "filter(tp_asunto == \"revisión fiscal\") %>%\n",
        "mutate(egresos = egresos + egresos_acuerdo) %>% # egresos + egresos por acuerdo?\n",
        "select(circuito,  existencia_inicial, ingresos, egresos, Existencia_final) %>%\n",
        "mutate(circuito = factor(circuito, levels = orden_circuitos)) %>%\n",
        "group_by(circuito) %>%\n",
        "summarise_all(list(sum))%>%\n",
        "filter(!is.na(existencia_inicial))  %>%\n",
        "adorn_totals()"
      ],
      "execution_count": null,
      "outputs": [
        {
          "output_type": "display_data",
          "data": {
            "text/html": [
              "<table class=\"dataframe\">\n",
              "<caption>A tabyl: 33 × 5</caption>\n",
              "<thead>\n",
              "\t<tr><th scope=col>circuito</th><th scope=col>existencia_inicial</th><th scope=col>ingresos</th><th scope=col>egresos</th><th scope=col>Existencia_final</th></tr>\n",
              "\t<tr><th scope=col>&lt;chr&gt;</th><th scope=col>&lt;int&gt;</th><th scope=col>&lt;int&gt;</th><th scope=col>&lt;int&gt;</th><th scope=col>&lt;int&gt;</th></tr>\n",
              "</thead>\n",
              "<tbody>\n",
              "\t<tr><td>Primer Circuito/ Ciudad de México                </td><td>2305</td><td> 7333</td><td> 7682</td><td>1955</td></tr>\n",
              "\t<tr><td>Segundo Circuito/ México                         </td><td> 169</td><td>  557</td><td>  537</td><td> 189</td></tr>\n",
              "\t<tr><td>Tercer Circuito/ Jalisco                         </td><td> 282</td><td>  361</td><td>  412</td><td> 234</td></tr>\n",
              "\t<tr><td>Cuarto Circuito/ Nuevo León                      </td><td> 149</td><td>  288</td><td>  299</td><td> 138</td></tr>\n",
              "\t<tr><td>Quinto Circuito/ Sonora                          </td><td>  98</td><td>  152</td><td>  118</td><td> 132</td></tr>\n",
              "\t<tr><td>Sexto Circuito/ Puebla                           </td><td>  91</td><td>  110</td><td>  114</td><td>  87</td></tr>\n",
              "\t<tr><td>Séptimo Circuito/ Veracruz de Ignacio de la Llave</td><td> 182</td><td>  163</td><td>  252</td><td>  93</td></tr>\n",
              "\t<tr><td>Octavo Circuito/ Coahuila de Zaragoza            </td><td> 159</td><td>  113</td><td>  185</td><td>  87</td></tr>\n",
              "\t<tr><td>Noveno Circuito/ San Luis Potosí                 </td><td>  56</td><td>  425</td><td>  471</td><td>  10</td></tr>\n",
              "\t<tr><td>Décimo Circuito/ Tabasco-Veracruz                </td><td>  76</td><td>   93</td><td>   64</td><td> 105</td></tr>\n",
              "\t<tr><td>Decimoprimer Circuito/ Michoacán de Ocampo       </td><td>  52</td><td>  179</td><td>  114</td><td> 117</td></tr>\n",
              "\t<tr><td>Decimosegundo Circuito/ Sinaloa                  </td><td> 472</td><td>  289</td><td>  555</td><td> 206</td></tr>\n",
              "\t<tr><td>Decimotercer Circuito/ Oaxaca                    </td><td> 510</td><td>  341</td><td>  650</td><td> 201</td></tr>\n",
              "\t<tr><td>Decimocuarto Circuito/ Yucatán                   </td><td> 107</td><td>  174</td><td>  156</td><td> 125</td></tr>\n",
              "\t<tr><td>Decimoquinto Circuito/ Baja California           </td><td>  95</td><td>  147</td><td>  175</td><td>  67</td></tr>\n",
              "\t<tr><td>Decimosexto Circuito/ Guanajuato                 </td><td>  62</td><td>  188</td><td>  175</td><td>  75</td></tr>\n",
              "\t<tr><td>Decimoséptimo Circuito/ Chihuahua                </td><td>  52</td><td>   80</td><td>   83</td><td>  49</td></tr>\n",
              "\t<tr><td>Decimoctavo Circuito/ Morelos                    </td><td>  67</td><td>   92</td><td>  125</td><td>  34</td></tr>\n",
              "\t<tr><td>Decimonoveno Circuito/ Tamaulipas                </td><td>  20</td><td>   32</td><td>   42</td><td>  10</td></tr>\n",
              "\t<tr><td>Vigésimo Circuito/ Chiapas                       </td><td>  45</td><td>   31</td><td>   45</td><td>  31</td></tr>\n",
              "\t<tr><td>Vigésimo Primer Circuito/ Guerrero               </td><td>  85</td><td>  135</td><td>  183</td><td>  37</td></tr>\n",
              "\t<tr><td>Vigésimo Segundo Circuito/ Querétaro             </td><td>  73</td><td>  128</td><td>  133</td><td>  68</td></tr>\n",
              "\t<tr><td>Vigésimo Tercer Circuito/ Zacatecas              </td><td>  59</td><td>  285</td><td>  175</td><td> 169</td></tr>\n",
              "\t<tr><td>Vigésimo Cuarto Circuito/ Nayarit                </td><td>   0</td><td>    0</td><td>    0</td><td>   0</td></tr>\n",
              "\t<tr><td>Vigésimo Quinto Circuito/ Durango                </td><td>  45</td><td>   27</td><td>   66</td><td>   6</td></tr>\n",
              "\t<tr><td>Vigésimo Sexto Circuito/ Baja California Sur     </td><td>   0</td><td>    0</td><td>    0</td><td>   0</td></tr>\n",
              "\t<tr><td>Vigésimo Séptimo Circuito/ Quintana Roo          </td><td>  12</td><td>   44</td><td>   30</td><td>  26</td></tr>\n",
              "\t<tr><td>Vigésimo Octavo Circuito/ Tlaxcala               </td><td>  36</td><td>   17</td><td>   43</td><td>  10</td></tr>\n",
              "\t<tr><td>Vigésimo Noveno Circuito/ Hidalgo                </td><td>  31</td><td>  115</td><td>   71</td><td>  75</td></tr>\n",
              "\t<tr><td>Trigésimo Circuito/ Aguascalientes               </td><td> 108</td><td>  686</td><td>  313</td><td> 481</td></tr>\n",
              "\t<tr><td>Trigésimo Primer Circuito/ Campeche              </td><td>   0</td><td>    0</td><td>    0</td><td>   0</td></tr>\n",
              "\t<tr><td>Trigésimo Segundo Circuito/ Colima               </td><td>   0</td><td>    0</td><td>    0</td><td>   0</td></tr>\n",
              "\t<tr><td>Total                                            </td><td>5498</td><td>12585</td><td>13268</td><td>4817</td></tr>\n",
              "</tbody>\n",
              "</table>\n"
            ],
            "text/latex": "A tabyl: 33 × 5\n\\begin{tabular}{lllll}\n circuito & existencia\\_inicial & ingresos & egresos & Existencia\\_final\\\\\n <chr> & <int> & <int> & <int> & <int>\\\\\n\\hline\n\t Primer Circuito/ Ciudad de México                 & 2305 &  7333 &  7682 & 1955\\\\\n\t Segundo Circuito/ México                          &  169 &   557 &   537 &  189\\\\\n\t Tercer Circuito/ Jalisco                          &  282 &   361 &   412 &  234\\\\\n\t Cuarto Circuito/ Nuevo León                       &  149 &   288 &   299 &  138\\\\\n\t Quinto Circuito/ Sonora                           &   98 &   152 &   118 &  132\\\\\n\t Sexto Circuito/ Puebla                            &   91 &   110 &   114 &   87\\\\\n\t Séptimo Circuito/ Veracruz de Ignacio de la Llave &  182 &   163 &   252 &   93\\\\\n\t Octavo Circuito/ Coahuila de Zaragoza             &  159 &   113 &   185 &   87\\\\\n\t Noveno Circuito/ San Luis Potosí                  &   56 &   425 &   471 &   10\\\\\n\t Décimo Circuito/ Tabasco-Veracruz                 &   76 &    93 &    64 &  105\\\\\n\t Decimoprimer Circuito/ Michoacán de Ocampo        &   52 &   179 &   114 &  117\\\\\n\t Decimosegundo Circuito/ Sinaloa                   &  472 &   289 &   555 &  206\\\\\n\t Decimotercer Circuito/ Oaxaca                     &  510 &   341 &   650 &  201\\\\\n\t Decimocuarto Circuito/ Yucatán                    &  107 &   174 &   156 &  125\\\\\n\t Decimoquinto Circuito/ Baja California            &   95 &   147 &   175 &   67\\\\\n\t Decimosexto Circuito/ Guanajuato                  &   62 &   188 &   175 &   75\\\\\n\t Decimoséptimo Circuito/ Chihuahua                 &   52 &    80 &    83 &   49\\\\\n\t Decimoctavo Circuito/ Morelos                     &   67 &    92 &   125 &   34\\\\\n\t Decimonoveno Circuito/ Tamaulipas                 &   20 &    32 &    42 &   10\\\\\n\t Vigésimo Circuito/ Chiapas                        &   45 &    31 &    45 &   31\\\\\n\t Vigésimo Primer Circuito/ Guerrero                &   85 &   135 &   183 &   37\\\\\n\t Vigésimo Segundo Circuito/ Querétaro              &   73 &   128 &   133 &   68\\\\\n\t Vigésimo Tercer Circuito/ Zacatecas               &   59 &   285 &   175 &  169\\\\\n\t Vigésimo Cuarto Circuito/ Nayarit                 &    0 &     0 &     0 &    0\\\\\n\t Vigésimo Quinto Circuito/ Durango                 &   45 &    27 &    66 &    6\\\\\n\t Vigésimo Sexto Circuito/ Baja California Sur      &    0 &     0 &     0 &    0\\\\\n\t Vigésimo Séptimo Circuito/ Quintana Roo           &   12 &    44 &    30 &   26\\\\\n\t Vigésimo Octavo Circuito/ Tlaxcala                &   36 &    17 &    43 &   10\\\\\n\t Vigésimo Noveno Circuito/ Hidalgo                 &   31 &   115 &    71 &   75\\\\\n\t Trigésimo Circuito/ Aguascalientes                &  108 &   686 &   313 &  481\\\\\n\t Trigésimo Primer Circuito/ Campeche               &    0 &     0 &     0 &    0\\\\\n\t Trigésimo Segundo Circuito/ Colima                &    0 &     0 &     0 &    0\\\\\n\t Total                                             & 5498 & 12585 & 13268 & 4817\\\\\n\\end{tabular}\n",
            "text/markdown": "\nA tabyl: 33 × 5\n\n| circuito &lt;chr&gt; | existencia_inicial &lt;int&gt; | ingresos &lt;int&gt; | egresos &lt;int&gt; | Existencia_final &lt;int&gt; |\n|---|---|---|---|---|\n| Primer Circuito/ Ciudad de México                 | 2305 |  7333 |  7682 | 1955 |\n| Segundo Circuito/ México                          |  169 |   557 |   537 |  189 |\n| Tercer Circuito/ Jalisco                          |  282 |   361 |   412 |  234 |\n| Cuarto Circuito/ Nuevo León                       |  149 |   288 |   299 |  138 |\n| Quinto Circuito/ Sonora                           |   98 |   152 |   118 |  132 |\n| Sexto Circuito/ Puebla                            |   91 |   110 |   114 |   87 |\n| Séptimo Circuito/ Veracruz de Ignacio de la Llave |  182 |   163 |   252 |   93 |\n| Octavo Circuito/ Coahuila de Zaragoza             |  159 |   113 |   185 |   87 |\n| Noveno Circuito/ San Luis Potosí                  |   56 |   425 |   471 |   10 |\n| Décimo Circuito/ Tabasco-Veracruz                 |   76 |    93 |    64 |  105 |\n| Decimoprimer Circuito/ Michoacán de Ocampo        |   52 |   179 |   114 |  117 |\n| Decimosegundo Circuito/ Sinaloa                   |  472 |   289 |   555 |  206 |\n| Decimotercer Circuito/ Oaxaca                     |  510 |   341 |   650 |  201 |\n| Decimocuarto Circuito/ Yucatán                    |  107 |   174 |   156 |  125 |\n| Decimoquinto Circuito/ Baja California            |   95 |   147 |   175 |   67 |\n| Decimosexto Circuito/ Guanajuato                  |   62 |   188 |   175 |   75 |\n| Decimoséptimo Circuito/ Chihuahua                 |   52 |    80 |    83 |   49 |\n| Decimoctavo Circuito/ Morelos                     |   67 |    92 |   125 |   34 |\n| Decimonoveno Circuito/ Tamaulipas                 |   20 |    32 |    42 |   10 |\n| Vigésimo Circuito/ Chiapas                        |   45 |    31 |    45 |   31 |\n| Vigésimo Primer Circuito/ Guerrero                |   85 |   135 |   183 |   37 |\n| Vigésimo Segundo Circuito/ Querétaro              |   73 |   128 |   133 |   68 |\n| Vigésimo Tercer Circuito/ Zacatecas               |   59 |   285 |   175 |  169 |\n| Vigésimo Cuarto Circuito/ Nayarit                 |    0 |     0 |     0 |    0 |\n| Vigésimo Quinto Circuito/ Durango                 |   45 |    27 |    66 |    6 |\n| Vigésimo Sexto Circuito/ Baja California Sur      |    0 |     0 |     0 |    0 |\n| Vigésimo Séptimo Circuito/ Quintana Roo           |   12 |    44 |    30 |   26 |\n| Vigésimo Octavo Circuito/ Tlaxcala                |   36 |    17 |    43 |   10 |\n| Vigésimo Noveno Circuito/ Hidalgo                 |   31 |   115 |    71 |   75 |\n| Trigésimo Circuito/ Aguascalientes                |  108 |   686 |   313 |  481 |\n| Trigésimo Primer Circuito/ Campeche               |    0 |     0 |     0 |    0 |\n| Trigésimo Segundo Circuito/ Colima                |    0 |     0 |     0 |    0 |\n| Total                                             | 5498 | 12585 | 13268 | 4817 |\n\n",
            "text/plain": [
              "   circuito                                          existencia_inicial\n",
              "1  Primer Circuito/ Ciudad de México                 2305              \n",
              "2  Segundo Circuito/ México                           169              \n",
              "3  Tercer Circuito/ Jalisco                           282              \n",
              "4  Cuarto Circuito/ Nuevo León                        149              \n",
              "5  Quinto Circuito/ Sonora                             98              \n",
              "6  Sexto Circuito/ Puebla                              91              \n",
              "7  Séptimo Circuito/ Veracruz de Ignacio de la Llave  182              \n",
              "8  Octavo Circuito/ Coahuila de Zaragoza              159              \n",
              "9  Noveno Circuito/ San Luis Potosí                    56              \n",
              "10 Décimo Circuito/ Tabasco-Veracruz                   76              \n",
              "11 Decimoprimer Circuito/ Michoacán de Ocampo          52              \n",
              "12 Decimosegundo Circuito/ Sinaloa                    472              \n",
              "13 Decimotercer Circuito/ Oaxaca                      510              \n",
              "14 Decimocuarto Circuito/ Yucatán                     107              \n",
              "15 Decimoquinto Circuito/ Baja California              95              \n",
              "16 Decimosexto Circuito/ Guanajuato                    62              \n",
              "17 Decimoséptimo Circuito/ Chihuahua                   52              \n",
              "18 Decimoctavo Circuito/ Morelos                       67              \n",
              "19 Decimonoveno Circuito/ Tamaulipas                   20              \n",
              "20 Vigésimo Circuito/ Chiapas                          45              \n",
              "21 Vigésimo Primer Circuito/ Guerrero                  85              \n",
              "22 Vigésimo Segundo Circuito/ Querétaro                73              \n",
              "23 Vigésimo Tercer Circuito/ Zacatecas                 59              \n",
              "24 Vigésimo Cuarto Circuito/ Nayarit                    0              \n",
              "25 Vigésimo Quinto Circuito/ Durango                   45              \n",
              "26 Vigésimo Sexto Circuito/ Baja California Sur         0              \n",
              "27 Vigésimo Séptimo Circuito/ Quintana Roo             12              \n",
              "28 Vigésimo Octavo Circuito/ Tlaxcala                  36              \n",
              "29 Vigésimo Noveno Circuito/ Hidalgo                   31              \n",
              "30 Trigésimo Circuito/ Aguascalientes                 108              \n",
              "31 Trigésimo Primer Circuito/ Campeche                  0              \n",
              "32 Trigésimo Segundo Circuito/ Colima                   0              \n",
              "33 Total                                             5498              \n",
              "   ingresos egresos Existencia_final\n",
              "1   7333     7682   1955            \n",
              "2    557      537    189            \n",
              "3    361      412    234            \n",
              "4    288      299    138            \n",
              "5    152      118    132            \n",
              "6    110      114     87            \n",
              "7    163      252     93            \n",
              "8    113      185     87            \n",
              "9    425      471     10            \n",
              "10    93       64    105            \n",
              "11   179      114    117            \n",
              "12   289      555    206            \n",
              "13   341      650    201            \n",
              "14   174      156    125            \n",
              "15   147      175     67            \n",
              "16   188      175     75            \n",
              "17    80       83     49            \n",
              "18    92      125     34            \n",
              "19    32       42     10            \n",
              "20    31       45     31            \n",
              "21   135      183     37            \n",
              "22   128      133     68            \n",
              "23   285      175    169            \n",
              "24     0        0      0            \n",
              "25    27       66      6            \n",
              "26     0        0      0            \n",
              "27    44       30     26            \n",
              "28    17       43     10            \n",
              "29   115       71     75            \n",
              "30   686      313    481            \n",
              "31     0        0      0            \n",
              "32     0        0      0            \n",
              "33 12585    13268   4817            "
            ]
          },
          "metadata": {
            "tags": []
          }
        }
      ]
    },
    {
      "cell_type": "code",
      "metadata": {
        "colab": {
          "base_uri": "https://localhost:8080/"
        },
        "id": "FYRzIoMMI0f6",
        "outputId": "6e0d322a-c967-4074-b18c-972aa15915a3"
      },
      "source": [
        "# conflictos de acumulación\n",
        "\n",
        "cubo %>%\n",
        "filter(tp_organo == \"Tribunales Colegiados de Circuito\") %>%\n",
        "filter(tp_asunto == \"conflictos de acumulación\") %>%\n",
        "mutate(egresos = egresos + egresos_acuerdo) %>% # egresos + egresos por acuerdo?\n",
        "select(circuito,  existencia_inicial, ingresos, egresos, Existencia_final) %>%\n",
        "mutate(circuito = factor(circuito, levels = orden_circuitos)) %>%\n",
        "group_by(circuito) %>%\n",
        "summarise_all(list(sum))%>%\n",
        "filter(!is.na(existencia_inicial))  %>%\n",
        "adorn_totals()"
      ],
      "execution_count": null,
      "outputs": [
        {
          "output_type": "display_data",
          "data": {
            "text/html": [
              "<table class=\"dataframe\">\n",
              "<caption>A tabyl: 33 × 5</caption>\n",
              "<thead>\n",
              "\t<tr><th scope=col>circuito</th><th scope=col>existencia_inicial</th><th scope=col>ingresos</th><th scope=col>egresos</th><th scope=col>Existencia_final</th></tr>\n",
              "\t<tr><th scope=col>&lt;chr&gt;</th><th scope=col>&lt;int&gt;</th><th scope=col>&lt;int&gt;</th><th scope=col>&lt;int&gt;</th><th scope=col>&lt;int&gt;</th></tr>\n",
              "</thead>\n",
              "<tbody>\n",
              "\t<tr><td>Primer Circuito/ Ciudad de México                </td><td>0</td><td> 2</td><td> 2</td><td>0</td></tr>\n",
              "\t<tr><td>Segundo Circuito/ México                         </td><td>0</td><td> 6</td><td> 4</td><td>2</td></tr>\n",
              "\t<tr><td>Tercer Circuito/ Jalisco                         </td><td>4</td><td>10</td><td>11</td><td>3</td></tr>\n",
              "\t<tr><td>Cuarto Circuito/ Nuevo León                      </td><td>0</td><td> 0</td><td> 0</td><td>0</td></tr>\n",
              "\t<tr><td>Quinto Circuito/ Sonora                          </td><td>0</td><td> 0</td><td> 0</td><td>0</td></tr>\n",
              "\t<tr><td>Sexto Circuito/ Puebla                           </td><td>0</td><td> 0</td><td> 0</td><td>0</td></tr>\n",
              "\t<tr><td>Séptimo Circuito/ Veracruz de Ignacio de la Llave</td><td>0</td><td> 0</td><td> 0</td><td>0</td></tr>\n",
              "\t<tr><td>Octavo Circuito/ Coahuila de Zaragoza            </td><td>0</td><td> 0</td><td> 0</td><td>0</td></tr>\n",
              "\t<tr><td>Noveno Circuito/ San Luis Potosí                 </td><td>0</td><td> 0</td><td> 0</td><td>0</td></tr>\n",
              "\t<tr><td>Décimo Circuito/ Tabasco-Veracruz                </td><td>0</td><td> 0</td><td> 0</td><td>0</td></tr>\n",
              "\t<tr><td>Decimoprimer Circuito/ Michoacán de Ocampo       </td><td>0</td><td> 0</td><td> 0</td><td>0</td></tr>\n",
              "\t<tr><td>Decimosegundo Circuito/ Sinaloa                  </td><td>0</td><td> 0</td><td> 0</td><td>0</td></tr>\n",
              "\t<tr><td>Decimotercer Circuito/ Oaxaca                    </td><td>0</td><td> 0</td><td> 0</td><td>0</td></tr>\n",
              "\t<tr><td>Decimocuarto Circuito/ Yucatán                   </td><td>0</td><td> 0</td><td> 0</td><td>0</td></tr>\n",
              "\t<tr><td>Decimoquinto Circuito/ Baja California           </td><td>0</td><td> 0</td><td> 0</td><td>0</td></tr>\n",
              "\t<tr><td>Decimosexto Circuito/ Guanajuato                 </td><td>0</td><td> 0</td><td> 0</td><td>0</td></tr>\n",
              "\t<tr><td>Decimoséptimo Circuito/ Chihuahua                </td><td>0</td><td> 0</td><td> 0</td><td>0</td></tr>\n",
              "\t<tr><td>Decimoctavo Circuito/ Morelos                    </td><td>0</td><td> 0</td><td> 0</td><td>0</td></tr>\n",
              "\t<tr><td>Decimonoveno Circuito/ Tamaulipas                </td><td>0</td><td> 0</td><td> 0</td><td>0</td></tr>\n",
              "\t<tr><td>Vigésimo Circuito/ Chiapas                       </td><td>0</td><td> 0</td><td> 0</td><td>0</td></tr>\n",
              "\t<tr><td>Vigésimo Primer Circuito/ Guerrero               </td><td>1</td><td> 0</td><td> 1</td><td>0</td></tr>\n",
              "\t<tr><td>Vigésimo Segundo Circuito/ Querétaro             </td><td>0</td><td> 1</td><td> 1</td><td>0</td></tr>\n",
              "\t<tr><td>Vigésimo Tercer Circuito/ Zacatecas              </td><td>0</td><td> 0</td><td> 0</td><td>0</td></tr>\n",
              "\t<tr><td>Vigésimo Cuarto Circuito/ Nayarit                </td><td>0</td><td> 0</td><td> 0</td><td>0</td></tr>\n",
              "\t<tr><td>Vigésimo Quinto Circuito/ Durango                </td><td>0</td><td> 0</td><td> 0</td><td>0</td></tr>\n",
              "\t<tr><td>Vigésimo Sexto Circuito/ Baja California Sur     </td><td>0</td><td> 0</td><td> 0</td><td>0</td></tr>\n",
              "\t<tr><td>Vigésimo Séptimo Circuito/ Quintana Roo          </td><td>0</td><td> 0</td><td> 0</td><td>0</td></tr>\n",
              "\t<tr><td>Vigésimo Octavo Circuito/ Tlaxcala               </td><td>0</td><td> 0</td><td> 0</td><td>0</td></tr>\n",
              "\t<tr><td>Vigésimo Noveno Circuito/ Hidalgo                </td><td>0</td><td> 0</td><td> 0</td><td>0</td></tr>\n",
              "\t<tr><td>Trigésimo Circuito/ Aguascalientes               </td><td>0</td><td> 0</td><td> 0</td><td>0</td></tr>\n",
              "\t<tr><td>Trigésimo Primer Circuito/ Campeche              </td><td>0</td><td> 0</td><td> 0</td><td>0</td></tr>\n",
              "\t<tr><td>Trigésimo Segundo Circuito/ Colima               </td><td>0</td><td> 1</td><td> 1</td><td>0</td></tr>\n",
              "\t<tr><td>Total                                            </td><td>5</td><td>20</td><td>20</td><td>5</td></tr>\n",
              "</tbody>\n",
              "</table>\n"
            ],
            "text/latex": "A tabyl: 33 × 5\n\\begin{tabular}{lllll}\n circuito & existencia\\_inicial & ingresos & egresos & Existencia\\_final\\\\\n <chr> & <int> & <int> & <int> & <int>\\\\\n\\hline\n\t Primer Circuito/ Ciudad de México                 & 0 &  2 &  2 & 0\\\\\n\t Segundo Circuito/ México                          & 0 &  6 &  4 & 2\\\\\n\t Tercer Circuito/ Jalisco                          & 4 & 10 & 11 & 3\\\\\n\t Cuarto Circuito/ Nuevo León                       & 0 &  0 &  0 & 0\\\\\n\t Quinto Circuito/ Sonora                           & 0 &  0 &  0 & 0\\\\\n\t Sexto Circuito/ Puebla                            & 0 &  0 &  0 & 0\\\\\n\t Séptimo Circuito/ Veracruz de Ignacio de la Llave & 0 &  0 &  0 & 0\\\\\n\t Octavo Circuito/ Coahuila de Zaragoza             & 0 &  0 &  0 & 0\\\\\n\t Noveno Circuito/ San Luis Potosí                  & 0 &  0 &  0 & 0\\\\\n\t Décimo Circuito/ Tabasco-Veracruz                 & 0 &  0 &  0 & 0\\\\\n\t Decimoprimer Circuito/ Michoacán de Ocampo        & 0 &  0 &  0 & 0\\\\\n\t Decimosegundo Circuito/ Sinaloa                   & 0 &  0 &  0 & 0\\\\\n\t Decimotercer Circuito/ Oaxaca                     & 0 &  0 &  0 & 0\\\\\n\t Decimocuarto Circuito/ Yucatán                    & 0 &  0 &  0 & 0\\\\\n\t Decimoquinto Circuito/ Baja California            & 0 &  0 &  0 & 0\\\\\n\t Decimosexto Circuito/ Guanajuato                  & 0 &  0 &  0 & 0\\\\\n\t Decimoséptimo Circuito/ Chihuahua                 & 0 &  0 &  0 & 0\\\\\n\t Decimoctavo Circuito/ Morelos                     & 0 &  0 &  0 & 0\\\\\n\t Decimonoveno Circuito/ Tamaulipas                 & 0 &  0 &  0 & 0\\\\\n\t Vigésimo Circuito/ Chiapas                        & 0 &  0 &  0 & 0\\\\\n\t Vigésimo Primer Circuito/ Guerrero                & 1 &  0 &  1 & 0\\\\\n\t Vigésimo Segundo Circuito/ Querétaro              & 0 &  1 &  1 & 0\\\\\n\t Vigésimo Tercer Circuito/ Zacatecas               & 0 &  0 &  0 & 0\\\\\n\t Vigésimo Cuarto Circuito/ Nayarit                 & 0 &  0 &  0 & 0\\\\\n\t Vigésimo Quinto Circuito/ Durango                 & 0 &  0 &  0 & 0\\\\\n\t Vigésimo Sexto Circuito/ Baja California Sur      & 0 &  0 &  0 & 0\\\\\n\t Vigésimo Séptimo Circuito/ Quintana Roo           & 0 &  0 &  0 & 0\\\\\n\t Vigésimo Octavo Circuito/ Tlaxcala                & 0 &  0 &  0 & 0\\\\\n\t Vigésimo Noveno Circuito/ Hidalgo                 & 0 &  0 &  0 & 0\\\\\n\t Trigésimo Circuito/ Aguascalientes                & 0 &  0 &  0 & 0\\\\\n\t Trigésimo Primer Circuito/ Campeche               & 0 &  0 &  0 & 0\\\\\n\t Trigésimo Segundo Circuito/ Colima                & 0 &  1 &  1 & 0\\\\\n\t Total                                             & 5 & 20 & 20 & 5\\\\\n\\end{tabular}\n",
            "text/markdown": "\nA tabyl: 33 × 5\n\n| circuito &lt;chr&gt; | existencia_inicial &lt;int&gt; | ingresos &lt;int&gt; | egresos &lt;int&gt; | Existencia_final &lt;int&gt; |\n|---|---|---|---|---|\n| Primer Circuito/ Ciudad de México                 | 0 |  2 |  2 | 0 |\n| Segundo Circuito/ México                          | 0 |  6 |  4 | 2 |\n| Tercer Circuito/ Jalisco                          | 4 | 10 | 11 | 3 |\n| Cuarto Circuito/ Nuevo León                       | 0 |  0 |  0 | 0 |\n| Quinto Circuito/ Sonora                           | 0 |  0 |  0 | 0 |\n| Sexto Circuito/ Puebla                            | 0 |  0 |  0 | 0 |\n| Séptimo Circuito/ Veracruz de Ignacio de la Llave | 0 |  0 |  0 | 0 |\n| Octavo Circuito/ Coahuila de Zaragoza             | 0 |  0 |  0 | 0 |\n| Noveno Circuito/ San Luis Potosí                  | 0 |  0 |  0 | 0 |\n| Décimo Circuito/ Tabasco-Veracruz                 | 0 |  0 |  0 | 0 |\n| Decimoprimer Circuito/ Michoacán de Ocampo        | 0 |  0 |  0 | 0 |\n| Decimosegundo Circuito/ Sinaloa                   | 0 |  0 |  0 | 0 |\n| Decimotercer Circuito/ Oaxaca                     | 0 |  0 |  0 | 0 |\n| Decimocuarto Circuito/ Yucatán                    | 0 |  0 |  0 | 0 |\n| Decimoquinto Circuito/ Baja California            | 0 |  0 |  0 | 0 |\n| Decimosexto Circuito/ Guanajuato                  | 0 |  0 |  0 | 0 |\n| Decimoséptimo Circuito/ Chihuahua                 | 0 |  0 |  0 | 0 |\n| Decimoctavo Circuito/ Morelos                     | 0 |  0 |  0 | 0 |\n| Decimonoveno Circuito/ Tamaulipas                 | 0 |  0 |  0 | 0 |\n| Vigésimo Circuito/ Chiapas                        | 0 |  0 |  0 | 0 |\n| Vigésimo Primer Circuito/ Guerrero                | 1 |  0 |  1 | 0 |\n| Vigésimo Segundo Circuito/ Querétaro              | 0 |  1 |  1 | 0 |\n| Vigésimo Tercer Circuito/ Zacatecas               | 0 |  0 |  0 | 0 |\n| Vigésimo Cuarto Circuito/ Nayarit                 | 0 |  0 |  0 | 0 |\n| Vigésimo Quinto Circuito/ Durango                 | 0 |  0 |  0 | 0 |\n| Vigésimo Sexto Circuito/ Baja California Sur      | 0 |  0 |  0 | 0 |\n| Vigésimo Séptimo Circuito/ Quintana Roo           | 0 |  0 |  0 | 0 |\n| Vigésimo Octavo Circuito/ Tlaxcala                | 0 |  0 |  0 | 0 |\n| Vigésimo Noveno Circuito/ Hidalgo                 | 0 |  0 |  0 | 0 |\n| Trigésimo Circuito/ Aguascalientes                | 0 |  0 |  0 | 0 |\n| Trigésimo Primer Circuito/ Campeche               | 0 |  0 |  0 | 0 |\n| Trigésimo Segundo Circuito/ Colima                | 0 |  1 |  1 | 0 |\n| Total                                             | 5 | 20 | 20 | 5 |\n\n",
            "text/plain": [
              "   circuito                                          existencia_inicial\n",
              "1  Primer Circuito/ Ciudad de México                 0                 \n",
              "2  Segundo Circuito/ México                          0                 \n",
              "3  Tercer Circuito/ Jalisco                          4                 \n",
              "4  Cuarto Circuito/ Nuevo León                       0                 \n",
              "5  Quinto Circuito/ Sonora                           0                 \n",
              "6  Sexto Circuito/ Puebla                            0                 \n",
              "7  Séptimo Circuito/ Veracruz de Ignacio de la Llave 0                 \n",
              "8  Octavo Circuito/ Coahuila de Zaragoza             0                 \n",
              "9  Noveno Circuito/ San Luis Potosí                  0                 \n",
              "10 Décimo Circuito/ Tabasco-Veracruz                 0                 \n",
              "11 Decimoprimer Circuito/ Michoacán de Ocampo        0                 \n",
              "12 Decimosegundo Circuito/ Sinaloa                   0                 \n",
              "13 Decimotercer Circuito/ Oaxaca                     0                 \n",
              "14 Decimocuarto Circuito/ Yucatán                    0                 \n",
              "15 Decimoquinto Circuito/ Baja California            0                 \n",
              "16 Decimosexto Circuito/ Guanajuato                  0                 \n",
              "17 Decimoséptimo Circuito/ Chihuahua                 0                 \n",
              "18 Decimoctavo Circuito/ Morelos                     0                 \n",
              "19 Decimonoveno Circuito/ Tamaulipas                 0                 \n",
              "20 Vigésimo Circuito/ Chiapas                        0                 \n",
              "21 Vigésimo Primer Circuito/ Guerrero                1                 \n",
              "22 Vigésimo Segundo Circuito/ Querétaro              0                 \n",
              "23 Vigésimo Tercer Circuito/ Zacatecas               0                 \n",
              "24 Vigésimo Cuarto Circuito/ Nayarit                 0                 \n",
              "25 Vigésimo Quinto Circuito/ Durango                 0                 \n",
              "26 Vigésimo Sexto Circuito/ Baja California Sur      0                 \n",
              "27 Vigésimo Séptimo Circuito/ Quintana Roo           0                 \n",
              "28 Vigésimo Octavo Circuito/ Tlaxcala                0                 \n",
              "29 Vigésimo Noveno Circuito/ Hidalgo                 0                 \n",
              "30 Trigésimo Circuito/ Aguascalientes                0                 \n",
              "31 Trigésimo Primer Circuito/ Campeche               0                 \n",
              "32 Trigésimo Segundo Circuito/ Colima                0                 \n",
              "33 Total                                             5                 \n",
              "   ingresos egresos Existencia_final\n",
              "1   2        2      0               \n",
              "2   6        4      2               \n",
              "3  10       11      3               \n",
              "4   0        0      0               \n",
              "5   0        0      0               \n",
              "6   0        0      0               \n",
              "7   0        0      0               \n",
              "8   0        0      0               \n",
              "9   0        0      0               \n",
              "10  0        0      0               \n",
              "11  0        0      0               \n",
              "12  0        0      0               \n",
              "13  0        0      0               \n",
              "14  0        0      0               \n",
              "15  0        0      0               \n",
              "16  0        0      0               \n",
              "17  0        0      0               \n",
              "18  0        0      0               \n",
              "19  0        0      0               \n",
              "20  0        0      0               \n",
              "21  0        1      0               \n",
              "22  1        1      0               \n",
              "23  0        0      0               \n",
              "24  0        0      0               \n",
              "25  0        0      0               \n",
              "26  0        0      0               \n",
              "27  0        0      0               \n",
              "28  0        0      0               \n",
              "29  0        0      0               \n",
              "30  0        0      0               \n",
              "31  0        0      0               \n",
              "32  1        1      0               \n",
              "33 20       20      5               "
            ]
          },
          "metadata": {
            "tags": []
          }
        }
      ]
    },
    {
      "cell_type": "code",
      "metadata": {
        "colab": {
          "base_uri": "https://localhost:8080/"
        },
        "id": "C4hbatnnJIoP",
        "outputId": "89dc4944-5fd1-4ab2-94e5-09af409c6315"
      },
      "source": [
        "# reclamaciones\n",
        "\n",
        "cubo %>%\n",
        "filter(tp_organo == \"Tribunales Colegiados de Circuito\") %>%\n",
        "filter(tp_asunto == \"reclamaciones\") %>%\n",
        "mutate(egresos = egresos + egresos_acuerdo) %>% # egresos + egresos por acuerdo?\n",
        "select(circuito,  existencia_inicial, ingresos, egresos, Existencia_final) %>%\n",
        "mutate(circuito = factor(circuito, levels = orden_circuitos)) %>%\n",
        "group_by(circuito) %>%\n",
        "summarise_all(list(sum))%>%\n",
        "filter(!is.na(existencia_inicial))  %>%\n",
        "adorn_totals()"
      ],
      "execution_count": null,
      "outputs": [
        {
          "output_type": "display_data",
          "data": {
            "text/html": [
              "<table class=\"dataframe\">\n",
              "<caption>A tabyl: 33 × 5</caption>\n",
              "<thead>\n",
              "\t<tr><th scope=col>circuito</th><th scope=col>existencia_inicial</th><th scope=col>ingresos</th><th scope=col>egresos</th><th scope=col>Existencia_final</th></tr>\n",
              "\t<tr><th scope=col>&lt;chr&gt;</th><th scope=col>&lt;int&gt;</th><th scope=col>&lt;int&gt;</th><th scope=col>&lt;int&gt;</th><th scope=col>&lt;int&gt;</th></tr>\n",
              "</thead>\n",
              "<tbody>\n",
              "\t<tr><td>Primer Circuito/ Ciudad de México                </td><td>188</td><td>1318</td><td>1354</td><td>152</td></tr>\n",
              "\t<tr><td>Segundo Circuito/ México                         </td><td> 49</td><td> 347</td><td> 334</td><td> 62</td></tr>\n",
              "\t<tr><td>Tercer Circuito/ Jalisco                         </td><td>118</td><td> 542</td><td> 509</td><td>151</td></tr>\n",
              "\t<tr><td>Cuarto Circuito/ Nuevo León                      </td><td> 33</td><td>  98</td><td>  99</td><td> 32</td></tr>\n",
              "\t<tr><td>Quinto Circuito/ Sonora                          </td><td> 17</td><td>  55</td><td>  55</td><td> 17</td></tr>\n",
              "\t<tr><td>Sexto Circuito/ Puebla                           </td><td> 31</td><td> 148</td><td> 140</td><td> 39</td></tr>\n",
              "\t<tr><td>Séptimo Circuito/ Veracruz de Ignacio de la Llave</td><td> 12</td><td> 111</td><td> 114</td><td>  9</td></tr>\n",
              "\t<tr><td>Octavo Circuito/ Coahuila de Zaragoza            </td><td> 24</td><td>  76</td><td>  82</td><td> 18</td></tr>\n",
              "\t<tr><td>Noveno Circuito/ San Luis Potosí                 </td><td> 16</td><td>  74</td><td>  76</td><td> 14</td></tr>\n",
              "\t<tr><td>Décimo Circuito/ Tabasco-Veracruz                </td><td> 40</td><td>  64</td><td>  85</td><td> 19</td></tr>\n",
              "\t<tr><td>Decimoprimer Circuito/ Michoacán de Ocampo       </td><td>  6</td><td>  54</td><td>  44</td><td> 16</td></tr>\n",
              "\t<tr><td>Decimosegundo Circuito/ Sinaloa                  </td><td>  8</td><td>  47</td><td>  44</td><td> 11</td></tr>\n",
              "\t<tr><td>Decimotercer Circuito/ Oaxaca                    </td><td> 28</td><td>  59</td><td>  77</td><td> 10</td></tr>\n",
              "\t<tr><td>Decimocuarto Circuito/ Yucatán                   </td><td>  9</td><td>  63</td><td>  57</td><td> 15</td></tr>\n",
              "\t<tr><td>Decimoquinto Circuito/ Baja California           </td><td> 24</td><td>  60</td><td>  70</td><td> 14</td></tr>\n",
              "\t<tr><td>Decimosexto Circuito/ Guanajuato                 </td><td> 15</td><td>  86</td><td>  82</td><td> 19</td></tr>\n",
              "\t<tr><td>Decimoséptimo Circuito/ Chihuahua                </td><td>  9</td><td> 106</td><td>  94</td><td> 21</td></tr>\n",
              "\t<tr><td>Decimoctavo Circuito/ Morelos                    </td><td>  9</td><td>  86</td><td>  86</td><td>  9</td></tr>\n",
              "\t<tr><td>Decimonoveno Circuito/ Tamaulipas                </td><td> 13</td><td>  50</td><td>  42</td><td> 21</td></tr>\n",
              "\t<tr><td>Vigésimo Circuito/ Chiapas                       </td><td> 18</td><td>  55</td><td>  58</td><td> 15</td></tr>\n",
              "\t<tr><td>Vigésimo Primer Circuito/ Guerrero               </td><td> 20</td><td>  48</td><td>  57</td><td> 11</td></tr>\n",
              "\t<tr><td>Vigésimo Segundo Circuito/ Querétaro             </td><td> 12</td><td>  59</td><td>  59</td><td> 12</td></tr>\n",
              "\t<tr><td>Vigésimo Tercer Circuito/ Zacatecas              </td><td>  1</td><td>  12</td><td>  10</td><td>  3</td></tr>\n",
              "\t<tr><td>Vigésimo Cuarto Circuito/ Nayarit                </td><td> 21</td><td>  87</td><td>  65</td><td> 43</td></tr>\n",
              "\t<tr><td>Vigésimo Quinto Circuito/ Durango                </td><td>  4</td><td>  16</td><td>  18</td><td>  2</td></tr>\n",
              "\t<tr><td>Vigésimo Sexto Circuito/ Baja California Sur     </td><td> 15</td><td>  27</td><td>  30</td><td> 12</td></tr>\n",
              "\t<tr><td>Vigésimo Séptimo Circuito/ Quintana Roo          </td><td>  3</td><td>  99</td><td>  89</td><td> 13</td></tr>\n",
              "\t<tr><td>Vigésimo Octavo Circuito/ Tlaxcala               </td><td>  6</td><td>  59</td><td>  53</td><td> 12</td></tr>\n",
              "\t<tr><td>Vigésimo Noveno Circuito/ Hidalgo                </td><td>  6</td><td>  56</td><td>  41</td><td> 21</td></tr>\n",
              "\t<tr><td>Trigésimo Circuito/ Aguascalientes               </td><td>  0</td><td>  56</td><td>  55</td><td>  1</td></tr>\n",
              "\t<tr><td>Trigésimo Primer Circuito/ Campeche              </td><td>  3</td><td>  38</td><td>  38</td><td>  3</td></tr>\n",
              "\t<tr><td>Trigésimo Segundo Circuito/ Colima               </td><td>  8</td><td>  26</td><td>  18</td><td> 16</td></tr>\n",
              "\t<tr><td>Total                                            </td><td>766</td><td>4082</td><td>4035</td><td>813</td></tr>\n",
              "</tbody>\n",
              "</table>\n"
            ],
            "text/latex": "A tabyl: 33 × 5\n\\begin{tabular}{lllll}\n circuito & existencia\\_inicial & ingresos & egresos & Existencia\\_final\\\\\n <chr> & <int> & <int> & <int> & <int>\\\\\n\\hline\n\t Primer Circuito/ Ciudad de México                 & 188 & 1318 & 1354 & 152\\\\\n\t Segundo Circuito/ México                          &  49 &  347 &  334 &  62\\\\\n\t Tercer Circuito/ Jalisco                          & 118 &  542 &  509 & 151\\\\\n\t Cuarto Circuito/ Nuevo León                       &  33 &   98 &   99 &  32\\\\\n\t Quinto Circuito/ Sonora                           &  17 &   55 &   55 &  17\\\\\n\t Sexto Circuito/ Puebla                            &  31 &  148 &  140 &  39\\\\\n\t Séptimo Circuito/ Veracruz de Ignacio de la Llave &  12 &  111 &  114 &   9\\\\\n\t Octavo Circuito/ Coahuila de Zaragoza             &  24 &   76 &   82 &  18\\\\\n\t Noveno Circuito/ San Luis Potosí                  &  16 &   74 &   76 &  14\\\\\n\t Décimo Circuito/ Tabasco-Veracruz                 &  40 &   64 &   85 &  19\\\\\n\t Decimoprimer Circuito/ Michoacán de Ocampo        &   6 &   54 &   44 &  16\\\\\n\t Decimosegundo Circuito/ Sinaloa                   &   8 &   47 &   44 &  11\\\\\n\t Decimotercer Circuito/ Oaxaca                     &  28 &   59 &   77 &  10\\\\\n\t Decimocuarto Circuito/ Yucatán                    &   9 &   63 &   57 &  15\\\\\n\t Decimoquinto Circuito/ Baja California            &  24 &   60 &   70 &  14\\\\\n\t Decimosexto Circuito/ Guanajuato                  &  15 &   86 &   82 &  19\\\\\n\t Decimoséptimo Circuito/ Chihuahua                 &   9 &  106 &   94 &  21\\\\\n\t Decimoctavo Circuito/ Morelos                     &   9 &   86 &   86 &   9\\\\\n\t Decimonoveno Circuito/ Tamaulipas                 &  13 &   50 &   42 &  21\\\\\n\t Vigésimo Circuito/ Chiapas                        &  18 &   55 &   58 &  15\\\\\n\t Vigésimo Primer Circuito/ Guerrero                &  20 &   48 &   57 &  11\\\\\n\t Vigésimo Segundo Circuito/ Querétaro              &  12 &   59 &   59 &  12\\\\\n\t Vigésimo Tercer Circuito/ Zacatecas               &   1 &   12 &   10 &   3\\\\\n\t Vigésimo Cuarto Circuito/ Nayarit                 &  21 &   87 &   65 &  43\\\\\n\t Vigésimo Quinto Circuito/ Durango                 &   4 &   16 &   18 &   2\\\\\n\t Vigésimo Sexto Circuito/ Baja California Sur      &  15 &   27 &   30 &  12\\\\\n\t Vigésimo Séptimo Circuito/ Quintana Roo           &   3 &   99 &   89 &  13\\\\\n\t Vigésimo Octavo Circuito/ Tlaxcala                &   6 &   59 &   53 &  12\\\\\n\t Vigésimo Noveno Circuito/ Hidalgo                 &   6 &   56 &   41 &  21\\\\\n\t Trigésimo Circuito/ Aguascalientes                &   0 &   56 &   55 &   1\\\\\n\t Trigésimo Primer Circuito/ Campeche               &   3 &   38 &   38 &   3\\\\\n\t Trigésimo Segundo Circuito/ Colima                &   8 &   26 &   18 &  16\\\\\n\t Total                                             & 766 & 4082 & 4035 & 813\\\\\n\\end{tabular}\n",
            "text/markdown": "\nA tabyl: 33 × 5\n\n| circuito &lt;chr&gt; | existencia_inicial &lt;int&gt; | ingresos &lt;int&gt; | egresos &lt;int&gt; | Existencia_final &lt;int&gt; |\n|---|---|---|---|---|\n| Primer Circuito/ Ciudad de México                 | 188 | 1318 | 1354 | 152 |\n| Segundo Circuito/ México                          |  49 |  347 |  334 |  62 |\n| Tercer Circuito/ Jalisco                          | 118 |  542 |  509 | 151 |\n| Cuarto Circuito/ Nuevo León                       |  33 |   98 |   99 |  32 |\n| Quinto Circuito/ Sonora                           |  17 |   55 |   55 |  17 |\n| Sexto Circuito/ Puebla                            |  31 |  148 |  140 |  39 |\n| Séptimo Circuito/ Veracruz de Ignacio de la Llave |  12 |  111 |  114 |   9 |\n| Octavo Circuito/ Coahuila de Zaragoza             |  24 |   76 |   82 |  18 |\n| Noveno Circuito/ San Luis Potosí                  |  16 |   74 |   76 |  14 |\n| Décimo Circuito/ Tabasco-Veracruz                 |  40 |   64 |   85 |  19 |\n| Decimoprimer Circuito/ Michoacán de Ocampo        |   6 |   54 |   44 |  16 |\n| Decimosegundo Circuito/ Sinaloa                   |   8 |   47 |   44 |  11 |\n| Decimotercer Circuito/ Oaxaca                     |  28 |   59 |   77 |  10 |\n| Decimocuarto Circuito/ Yucatán                    |   9 |   63 |   57 |  15 |\n| Decimoquinto Circuito/ Baja California            |  24 |   60 |   70 |  14 |\n| Decimosexto Circuito/ Guanajuato                  |  15 |   86 |   82 |  19 |\n| Decimoséptimo Circuito/ Chihuahua                 |   9 |  106 |   94 |  21 |\n| Decimoctavo Circuito/ Morelos                     |   9 |   86 |   86 |   9 |\n| Decimonoveno Circuito/ Tamaulipas                 |  13 |   50 |   42 |  21 |\n| Vigésimo Circuito/ Chiapas                        |  18 |   55 |   58 |  15 |\n| Vigésimo Primer Circuito/ Guerrero                |  20 |   48 |   57 |  11 |\n| Vigésimo Segundo Circuito/ Querétaro              |  12 |   59 |   59 |  12 |\n| Vigésimo Tercer Circuito/ Zacatecas               |   1 |   12 |   10 |   3 |\n| Vigésimo Cuarto Circuito/ Nayarit                 |  21 |   87 |   65 |  43 |\n| Vigésimo Quinto Circuito/ Durango                 |   4 |   16 |   18 |   2 |\n| Vigésimo Sexto Circuito/ Baja California Sur      |  15 |   27 |   30 |  12 |\n| Vigésimo Séptimo Circuito/ Quintana Roo           |   3 |   99 |   89 |  13 |\n| Vigésimo Octavo Circuito/ Tlaxcala                |   6 |   59 |   53 |  12 |\n| Vigésimo Noveno Circuito/ Hidalgo                 |   6 |   56 |   41 |  21 |\n| Trigésimo Circuito/ Aguascalientes                |   0 |   56 |   55 |   1 |\n| Trigésimo Primer Circuito/ Campeche               |   3 |   38 |   38 |   3 |\n| Trigésimo Segundo Circuito/ Colima                |   8 |   26 |   18 |  16 |\n| Total                                             | 766 | 4082 | 4035 | 813 |\n\n",
            "text/plain": [
              "   circuito                                          existencia_inicial\n",
              "1  Primer Circuito/ Ciudad de México                 188               \n",
              "2  Segundo Circuito/ México                           49               \n",
              "3  Tercer Circuito/ Jalisco                          118               \n",
              "4  Cuarto Circuito/ Nuevo León                        33               \n",
              "5  Quinto Circuito/ Sonora                            17               \n",
              "6  Sexto Circuito/ Puebla                             31               \n",
              "7  Séptimo Circuito/ Veracruz de Ignacio de la Llave  12               \n",
              "8  Octavo Circuito/ Coahuila de Zaragoza              24               \n",
              "9  Noveno Circuito/ San Luis Potosí                   16               \n",
              "10 Décimo Circuito/ Tabasco-Veracruz                  40               \n",
              "11 Decimoprimer Circuito/ Michoacán de Ocampo          6               \n",
              "12 Decimosegundo Circuito/ Sinaloa                     8               \n",
              "13 Decimotercer Circuito/ Oaxaca                      28               \n",
              "14 Decimocuarto Circuito/ Yucatán                      9               \n",
              "15 Decimoquinto Circuito/ Baja California             24               \n",
              "16 Decimosexto Circuito/ Guanajuato                   15               \n",
              "17 Decimoséptimo Circuito/ Chihuahua                   9               \n",
              "18 Decimoctavo Circuito/ Morelos                       9               \n",
              "19 Decimonoveno Circuito/ Tamaulipas                  13               \n",
              "20 Vigésimo Circuito/ Chiapas                         18               \n",
              "21 Vigésimo Primer Circuito/ Guerrero                 20               \n",
              "22 Vigésimo Segundo Circuito/ Querétaro               12               \n",
              "23 Vigésimo Tercer Circuito/ Zacatecas                 1               \n",
              "24 Vigésimo Cuarto Circuito/ Nayarit                  21               \n",
              "25 Vigésimo Quinto Circuito/ Durango                   4               \n",
              "26 Vigésimo Sexto Circuito/ Baja California Sur       15               \n",
              "27 Vigésimo Séptimo Circuito/ Quintana Roo             3               \n",
              "28 Vigésimo Octavo Circuito/ Tlaxcala                  6               \n",
              "29 Vigésimo Noveno Circuito/ Hidalgo                   6               \n",
              "30 Trigésimo Circuito/ Aguascalientes                  0               \n",
              "31 Trigésimo Primer Circuito/ Campeche                 3               \n",
              "32 Trigésimo Segundo Circuito/ Colima                  8               \n",
              "33 Total                                             766               \n",
              "   ingresos egresos Existencia_final\n",
              "1  1318     1354    152             \n",
              "2   347      334     62             \n",
              "3   542      509    151             \n",
              "4    98       99     32             \n",
              "5    55       55     17             \n",
              "6   148      140     39             \n",
              "7   111      114      9             \n",
              "8    76       82     18             \n",
              "9    74       76     14             \n",
              "10   64       85     19             \n",
              "11   54       44     16             \n",
              "12   47       44     11             \n",
              "13   59       77     10             \n",
              "14   63       57     15             \n",
              "15   60       70     14             \n",
              "16   86       82     19             \n",
              "17  106       94     21             \n",
              "18   86       86      9             \n",
              "19   50       42     21             \n",
              "20   55       58     15             \n",
              "21   48       57     11             \n",
              "22   59       59     12             \n",
              "23   12       10      3             \n",
              "24   87       65     43             \n",
              "25   16       18      2             \n",
              "26   27       30     12             \n",
              "27   99       89     13             \n",
              "28   59       53     12             \n",
              "29   56       41     21             \n",
              "30   56       55      1             \n",
              "31   38       38      3             \n",
              "32   26       18     16             \n",
              "33 4082     4035    813             "
            ]
          },
          "metadata": {
            "tags": []
          }
        }
      ]
    },
    {
      "cell_type": "code",
      "metadata": {
        "colab": {
          "base_uri": "https://localhost:8080/"
        },
        "id": "JdiffwMfKtgO",
        "outputId": "e97bb1ab-46dc-49e5-a3da-a9fbde1ba5fc"
      },
      "source": [
        "# incidentes de inejecución\n",
        "\n",
        "cubo %>%\n",
        "filter(tp_organo == \"Tribunales Colegiados de Circuito\") %>%\n",
        "filter(tp_asunto == \"incidentes de inejecución\") %>%\n",
        "mutate(egresos = egresos + egresos_acuerdo) %>% # egresos + egresos por acuerdo?\n",
        "select(circuito,  existencia_inicial, ingresos, egresos, Existencia_final) %>%\n",
        "mutate(circuito = factor(circuito, levels = orden_circuitos)) %>%\n",
        "group_by(circuito) %>%\n",
        "summarise_all(list(sum))%>%\n",
        "filter(!is.na(existencia_inicial))  %>%\n",
        "adorn_totals()\n"
      ],
      "execution_count": null,
      "outputs": [
        {
          "output_type": "display_data",
          "data": {
            "text/html": [
              "<table class=\"dataframe\">\n",
              "<caption>A tabyl: 33 × 5</caption>\n",
              "<thead>\n",
              "\t<tr><th scope=col>circuito</th><th scope=col>existencia_inicial</th><th scope=col>ingresos</th><th scope=col>egresos</th><th scope=col>Existencia_final</th></tr>\n",
              "\t<tr><th scope=col>&lt;chr&gt;</th><th scope=col>&lt;int&gt;</th><th scope=col>&lt;int&gt;</th><th scope=col>&lt;int&gt;</th><th scope=col>&lt;int&gt;</th></tr>\n",
              "</thead>\n",
              "<tbody>\n",
              "\t<tr><td>Primer Circuito/ Ciudad de México                </td><td>103</td><td> 227</td><td> 285</td><td> 45</td></tr>\n",
              "\t<tr><td>Segundo Circuito/ México                         </td><td> 26</td><td>  39</td><td>  48</td><td> 17</td></tr>\n",
              "\t<tr><td>Tercer Circuito/ Jalisco                         </td><td> 51</td><td> 142</td><td> 118</td><td> 75</td></tr>\n",
              "\t<tr><td>Cuarto Circuito/ Nuevo León                      </td><td>  9</td><td>  27</td><td>  19</td><td> 17</td></tr>\n",
              "\t<tr><td>Quinto Circuito/ Sonora                          </td><td> 35</td><td>  64</td><td>  71</td><td> 28</td></tr>\n",
              "\t<tr><td>Sexto Circuito/ Puebla                           </td><td> 16</td><td>  31</td><td>  33</td><td> 14</td></tr>\n",
              "\t<tr><td>Séptimo Circuito/ Veracruz de Ignacio de la Llave</td><td> 10</td><td>  24</td><td>  25</td><td>  9</td></tr>\n",
              "\t<tr><td>Octavo Circuito/ Coahuila de Zaragoza            </td><td> 24</td><td>  30</td><td>  40</td><td> 14</td></tr>\n",
              "\t<tr><td>Noveno Circuito/ San Luis Potosí                 </td><td>  8</td><td>   8</td><td>  12</td><td>  4</td></tr>\n",
              "\t<tr><td>Décimo Circuito/ Tabasco-Veracruz                </td><td> 39</td><td>  27</td><td>  46</td><td> 20</td></tr>\n",
              "\t<tr><td>Decimoprimer Circuito/ Michoacán de Ocampo       </td><td>  6</td><td>  12</td><td>  18</td><td>  0</td></tr>\n",
              "\t<tr><td>Decimosegundo Circuito/ Sinaloa                  </td><td> 11</td><td>  22</td><td>  20</td><td> 13</td></tr>\n",
              "\t<tr><td>Decimotercer Circuito/ Oaxaca                    </td><td> 23</td><td>  23</td><td>  36</td><td> 10</td></tr>\n",
              "\t<tr><td>Decimocuarto Circuito/ Yucatán                   </td><td> 19</td><td>  16</td><td>  30</td><td>  5</td></tr>\n",
              "\t<tr><td>Decimoquinto Circuito/ Baja California           </td><td> 10</td><td>  27</td><td>  28</td><td>  9</td></tr>\n",
              "\t<tr><td>Decimosexto Circuito/ Guanajuato                 </td><td>  5</td><td>  15</td><td>  15</td><td>  5</td></tr>\n",
              "\t<tr><td>Decimoséptimo Circuito/ Chihuahua                </td><td> 38</td><td> 132</td><td> 143</td><td> 27</td></tr>\n",
              "\t<tr><td>Decimoctavo Circuito/ Morelos                    </td><td> 16</td><td>  18</td><td>  30</td><td>  4</td></tr>\n",
              "\t<tr><td>Decimonoveno Circuito/ Tamaulipas                </td><td> 41</td><td>  32</td><td>  57</td><td> 16</td></tr>\n",
              "\t<tr><td>Vigésimo Circuito/ Chiapas                       </td><td> 46</td><td>  46</td><td>  68</td><td> 24</td></tr>\n",
              "\t<tr><td>Vigésimo Primer Circuito/ Guerrero               </td><td> 19</td><td>  13</td><td>  20</td><td> 12</td></tr>\n",
              "\t<tr><td>Vigésimo Segundo Circuito/ Querétaro             </td><td>  6</td><td>  16</td><td>  18</td><td>  4</td></tr>\n",
              "\t<tr><td>Vigésimo Tercer Circuito/ Zacatecas              </td><td>  4</td><td>   4</td><td>   6</td><td>  2</td></tr>\n",
              "\t<tr><td>Vigésimo Cuarto Circuito/ Nayarit                </td><td> 42</td><td>  21</td><td>  43</td><td> 20</td></tr>\n",
              "\t<tr><td>Vigésimo Quinto Circuito/ Durango                </td><td>  4</td><td>  16</td><td>  17</td><td>  3</td></tr>\n",
              "\t<tr><td>Vigésimo Sexto Circuito/ Baja California Sur     </td><td> 32</td><td>  16</td><td>  37</td><td> 11</td></tr>\n",
              "\t<tr><td>Vigésimo Séptimo Circuito/ Quintana Roo          </td><td>  8</td><td>  32</td><td>  31</td><td>  9</td></tr>\n",
              "\t<tr><td>Vigésimo Octavo Circuito/ Tlaxcala               </td><td>  3</td><td>   3</td><td>   4</td><td>  2</td></tr>\n",
              "\t<tr><td>Vigésimo Noveno Circuito/ Hidalgo                </td><td>  3</td><td>  14</td><td>  11</td><td>  6</td></tr>\n",
              "\t<tr><td>Trigésimo Circuito/ Aguascalientes               </td><td>  1</td><td>  11</td><td>  10</td><td>  2</td></tr>\n",
              "\t<tr><td>Trigésimo Primer Circuito/ Campeche              </td><td>  5</td><td>   0</td><td>   5</td><td>  0</td></tr>\n",
              "\t<tr><td>Trigésimo Segundo Circuito/ Colima               </td><td>  0</td><td>   9</td><td>   2</td><td>  7</td></tr>\n",
              "\t<tr><td>Total                                            </td><td>663</td><td>1117</td><td>1346</td><td>434</td></tr>\n",
              "</tbody>\n",
              "</table>\n"
            ],
            "text/latex": "A tabyl: 33 × 5\n\\begin{tabular}{lllll}\n circuito & existencia\\_inicial & ingresos & egresos & Existencia\\_final\\\\\n <chr> & <int> & <int> & <int> & <int>\\\\\n\\hline\n\t Primer Circuito/ Ciudad de México                 & 103 &  227 &  285 &  45\\\\\n\t Segundo Circuito/ México                          &  26 &   39 &   48 &  17\\\\\n\t Tercer Circuito/ Jalisco                          &  51 &  142 &  118 &  75\\\\\n\t Cuarto Circuito/ Nuevo León                       &   9 &   27 &   19 &  17\\\\\n\t Quinto Circuito/ Sonora                           &  35 &   64 &   71 &  28\\\\\n\t Sexto Circuito/ Puebla                            &  16 &   31 &   33 &  14\\\\\n\t Séptimo Circuito/ Veracruz de Ignacio de la Llave &  10 &   24 &   25 &   9\\\\\n\t Octavo Circuito/ Coahuila de Zaragoza             &  24 &   30 &   40 &  14\\\\\n\t Noveno Circuito/ San Luis Potosí                  &   8 &    8 &   12 &   4\\\\\n\t Décimo Circuito/ Tabasco-Veracruz                 &  39 &   27 &   46 &  20\\\\\n\t Decimoprimer Circuito/ Michoacán de Ocampo        &   6 &   12 &   18 &   0\\\\\n\t Decimosegundo Circuito/ Sinaloa                   &  11 &   22 &   20 &  13\\\\\n\t Decimotercer Circuito/ Oaxaca                     &  23 &   23 &   36 &  10\\\\\n\t Decimocuarto Circuito/ Yucatán                    &  19 &   16 &   30 &   5\\\\\n\t Decimoquinto Circuito/ Baja California            &  10 &   27 &   28 &   9\\\\\n\t Decimosexto Circuito/ Guanajuato                  &   5 &   15 &   15 &   5\\\\\n\t Decimoséptimo Circuito/ Chihuahua                 &  38 &  132 &  143 &  27\\\\\n\t Decimoctavo Circuito/ Morelos                     &  16 &   18 &   30 &   4\\\\\n\t Decimonoveno Circuito/ Tamaulipas                 &  41 &   32 &   57 &  16\\\\\n\t Vigésimo Circuito/ Chiapas                        &  46 &   46 &   68 &  24\\\\\n\t Vigésimo Primer Circuito/ Guerrero                &  19 &   13 &   20 &  12\\\\\n\t Vigésimo Segundo Circuito/ Querétaro              &   6 &   16 &   18 &   4\\\\\n\t Vigésimo Tercer Circuito/ Zacatecas               &   4 &    4 &    6 &   2\\\\\n\t Vigésimo Cuarto Circuito/ Nayarit                 &  42 &   21 &   43 &  20\\\\\n\t Vigésimo Quinto Circuito/ Durango                 &   4 &   16 &   17 &   3\\\\\n\t Vigésimo Sexto Circuito/ Baja California Sur      &  32 &   16 &   37 &  11\\\\\n\t Vigésimo Séptimo Circuito/ Quintana Roo           &   8 &   32 &   31 &   9\\\\\n\t Vigésimo Octavo Circuito/ Tlaxcala                &   3 &    3 &    4 &   2\\\\\n\t Vigésimo Noveno Circuito/ Hidalgo                 &   3 &   14 &   11 &   6\\\\\n\t Trigésimo Circuito/ Aguascalientes                &   1 &   11 &   10 &   2\\\\\n\t Trigésimo Primer Circuito/ Campeche               &   5 &    0 &    5 &   0\\\\\n\t Trigésimo Segundo Circuito/ Colima                &   0 &    9 &    2 &   7\\\\\n\t Total                                             & 663 & 1117 & 1346 & 434\\\\\n\\end{tabular}\n",
            "text/markdown": "\nA tabyl: 33 × 5\n\n| circuito &lt;chr&gt; | existencia_inicial &lt;int&gt; | ingresos &lt;int&gt; | egresos &lt;int&gt; | Existencia_final &lt;int&gt; |\n|---|---|---|---|---|\n| Primer Circuito/ Ciudad de México                 | 103 |  227 |  285 |  45 |\n| Segundo Circuito/ México                          |  26 |   39 |   48 |  17 |\n| Tercer Circuito/ Jalisco                          |  51 |  142 |  118 |  75 |\n| Cuarto Circuito/ Nuevo León                       |   9 |   27 |   19 |  17 |\n| Quinto Circuito/ Sonora                           |  35 |   64 |   71 |  28 |\n| Sexto Circuito/ Puebla                            |  16 |   31 |   33 |  14 |\n| Séptimo Circuito/ Veracruz de Ignacio de la Llave |  10 |   24 |   25 |   9 |\n| Octavo Circuito/ Coahuila de Zaragoza             |  24 |   30 |   40 |  14 |\n| Noveno Circuito/ San Luis Potosí                  |   8 |    8 |   12 |   4 |\n| Décimo Circuito/ Tabasco-Veracruz                 |  39 |   27 |   46 |  20 |\n| Decimoprimer Circuito/ Michoacán de Ocampo        |   6 |   12 |   18 |   0 |\n| Decimosegundo Circuito/ Sinaloa                   |  11 |   22 |   20 |  13 |\n| Decimotercer Circuito/ Oaxaca                     |  23 |   23 |   36 |  10 |\n| Decimocuarto Circuito/ Yucatán                    |  19 |   16 |   30 |   5 |\n| Decimoquinto Circuito/ Baja California            |  10 |   27 |   28 |   9 |\n| Decimosexto Circuito/ Guanajuato                  |   5 |   15 |   15 |   5 |\n| Decimoséptimo Circuito/ Chihuahua                 |  38 |  132 |  143 |  27 |\n| Decimoctavo Circuito/ Morelos                     |  16 |   18 |   30 |   4 |\n| Decimonoveno Circuito/ Tamaulipas                 |  41 |   32 |   57 |  16 |\n| Vigésimo Circuito/ Chiapas                        |  46 |   46 |   68 |  24 |\n| Vigésimo Primer Circuito/ Guerrero                |  19 |   13 |   20 |  12 |\n| Vigésimo Segundo Circuito/ Querétaro              |   6 |   16 |   18 |   4 |\n| Vigésimo Tercer Circuito/ Zacatecas               |   4 |    4 |    6 |   2 |\n| Vigésimo Cuarto Circuito/ Nayarit                 |  42 |   21 |   43 |  20 |\n| Vigésimo Quinto Circuito/ Durango                 |   4 |   16 |   17 |   3 |\n| Vigésimo Sexto Circuito/ Baja California Sur      |  32 |   16 |   37 |  11 |\n| Vigésimo Séptimo Circuito/ Quintana Roo           |   8 |   32 |   31 |   9 |\n| Vigésimo Octavo Circuito/ Tlaxcala                |   3 |    3 |    4 |   2 |\n| Vigésimo Noveno Circuito/ Hidalgo                 |   3 |   14 |   11 |   6 |\n| Trigésimo Circuito/ Aguascalientes                |   1 |   11 |   10 |   2 |\n| Trigésimo Primer Circuito/ Campeche               |   5 |    0 |    5 |   0 |\n| Trigésimo Segundo Circuito/ Colima                |   0 |    9 |    2 |   7 |\n| Total                                             | 663 | 1117 | 1346 | 434 |\n\n",
            "text/plain": [
              "   circuito                                          existencia_inicial\n",
              "1  Primer Circuito/ Ciudad de México                 103               \n",
              "2  Segundo Circuito/ México                           26               \n",
              "3  Tercer Circuito/ Jalisco                           51               \n",
              "4  Cuarto Circuito/ Nuevo León                         9               \n",
              "5  Quinto Circuito/ Sonora                            35               \n",
              "6  Sexto Circuito/ Puebla                             16               \n",
              "7  Séptimo Circuito/ Veracruz de Ignacio de la Llave  10               \n",
              "8  Octavo Circuito/ Coahuila de Zaragoza              24               \n",
              "9  Noveno Circuito/ San Luis Potosí                    8               \n",
              "10 Décimo Circuito/ Tabasco-Veracruz                  39               \n",
              "11 Decimoprimer Circuito/ Michoacán de Ocampo          6               \n",
              "12 Decimosegundo Circuito/ Sinaloa                    11               \n",
              "13 Decimotercer Circuito/ Oaxaca                      23               \n",
              "14 Decimocuarto Circuito/ Yucatán                     19               \n",
              "15 Decimoquinto Circuito/ Baja California             10               \n",
              "16 Decimosexto Circuito/ Guanajuato                    5               \n",
              "17 Decimoséptimo Circuito/ Chihuahua                  38               \n",
              "18 Decimoctavo Circuito/ Morelos                      16               \n",
              "19 Decimonoveno Circuito/ Tamaulipas                  41               \n",
              "20 Vigésimo Circuito/ Chiapas                         46               \n",
              "21 Vigésimo Primer Circuito/ Guerrero                 19               \n",
              "22 Vigésimo Segundo Circuito/ Querétaro                6               \n",
              "23 Vigésimo Tercer Circuito/ Zacatecas                 4               \n",
              "24 Vigésimo Cuarto Circuito/ Nayarit                  42               \n",
              "25 Vigésimo Quinto Circuito/ Durango                   4               \n",
              "26 Vigésimo Sexto Circuito/ Baja California Sur       32               \n",
              "27 Vigésimo Séptimo Circuito/ Quintana Roo             8               \n",
              "28 Vigésimo Octavo Circuito/ Tlaxcala                  3               \n",
              "29 Vigésimo Noveno Circuito/ Hidalgo                   3               \n",
              "30 Trigésimo Circuito/ Aguascalientes                  1               \n",
              "31 Trigésimo Primer Circuito/ Campeche                 5               \n",
              "32 Trigésimo Segundo Circuito/ Colima                  0               \n",
              "33 Total                                             663               \n",
              "   ingresos egresos Existencia_final\n",
              "1   227      285     45             \n",
              "2    39       48     17             \n",
              "3   142      118     75             \n",
              "4    27       19     17             \n",
              "5    64       71     28             \n",
              "6    31       33     14             \n",
              "7    24       25      9             \n",
              "8    30       40     14             \n",
              "9     8       12      4             \n",
              "10   27       46     20             \n",
              "11   12       18      0             \n",
              "12   22       20     13             \n",
              "13   23       36     10             \n",
              "14   16       30      5             \n",
              "15   27       28      9             \n",
              "16   15       15      5             \n",
              "17  132      143     27             \n",
              "18   18       30      4             \n",
              "19   32       57     16             \n",
              "20   46       68     24             \n",
              "21   13       20     12             \n",
              "22   16       18      4             \n",
              "23    4        6      2             \n",
              "24   21       43     20             \n",
              "25   16       17      3             \n",
              "26   16       37     11             \n",
              "27   32       31      9             \n",
              "28    3        4      2             \n",
              "29   14       11      6             \n",
              "30   11       10      2             \n",
              "31    0        5      0             \n",
              "32    9        2      7             \n",
              "33 1117     1346    434             "
            ]
          },
          "metadata": {
            "tags": []
          }
        }
      ]
    },
    {
      "cell_type": "code",
      "metadata": {
        "colab": {
          "base_uri": "https://localhost:8080/"
        },
        "id": "SZI3D8ilLJq9",
        "outputId": "e27f30b4-819a-46e7-ac66-146f4aa85d5b"
      },
      "source": [
        "#denuncia repetición del acto reclamado\n",
        "\n",
        "cubo %>%\n",
        "filter(tp_organo == \"Tribunales Colegiados de Circuito\") %>%\n",
        "filter(tp_asunto == \"denuncia repetición del acto reclamado\") %>%\n",
        "mutate(egresos = egresos + egresos_acuerdo) %>% # egresos + egresos por acuerdo?\n",
        "select(circuito,  existencia_inicial, ingresos, egresos, Existencia_final) %>%\n",
        "mutate(circuito = factor(circuito, levels = orden_circuitos)) %>%\n",
        "group_by(circuito) %>%\n",
        "summarise_all(list(sum))%>%\n",
        "filter(!is.na(existencia_inicial))  %>%\n",
        "adorn_totals()\n"
      ],
      "execution_count": null,
      "outputs": [
        {
          "output_type": "display_data",
          "data": {
            "text/html": [
              "<table class=\"dataframe\">\n",
              "<caption>A tabyl: 33 × 5</caption>\n",
              "<thead>\n",
              "\t<tr><th scope=col>circuito</th><th scope=col>existencia_inicial</th><th scope=col>ingresos</th><th scope=col>egresos</th><th scope=col>Existencia_final</th></tr>\n",
              "\t<tr><th scope=col>&lt;chr&gt;</th><th scope=col>&lt;int&gt;</th><th scope=col>&lt;int&gt;</th><th scope=col>&lt;int&gt;</th><th scope=col>&lt;int&gt;</th></tr>\n",
              "</thead>\n",
              "<tbody>\n",
              "\t<tr><td>Primer Circuito/ Ciudad de México                </td><td> 8</td><td> 41</td><td> 41</td><td> 8</td></tr>\n",
              "\t<tr><td>Segundo Circuito/ México                         </td><td> 3</td><td>  8</td><td>  7</td><td> 4</td></tr>\n",
              "\t<tr><td>Tercer Circuito/ Jalisco                         </td><td> 7</td><td> 11</td><td> 15</td><td> 3</td></tr>\n",
              "\t<tr><td>Cuarto Circuito/ Nuevo León                      </td><td> 3</td><td>  2</td><td>  4</td><td> 1</td></tr>\n",
              "\t<tr><td>Quinto Circuito/ Sonora                          </td><td> 4</td><td>  3</td><td>  6</td><td> 1</td></tr>\n",
              "\t<tr><td>Sexto Circuito/ Puebla                           </td><td> 3</td><td>  5</td><td>  7</td><td> 1</td></tr>\n",
              "\t<tr><td>Séptimo Circuito/ Veracruz de Ignacio de la Llave</td><td> 2</td><td>  2</td><td>  4</td><td> 0</td></tr>\n",
              "\t<tr><td>Octavo Circuito/ Coahuila de Zaragoza            </td><td> 1</td><td>  1</td><td>  2</td><td> 0</td></tr>\n",
              "\t<tr><td>Noveno Circuito/ San Luis Potosí                 </td><td> 0</td><td>  2</td><td>  2</td><td> 0</td></tr>\n",
              "\t<tr><td>Décimo Circuito/ Tabasco-Veracruz                </td><td> 1</td><td>  6</td><td>  5</td><td> 2</td></tr>\n",
              "\t<tr><td>Decimoprimer Circuito/ Michoacán de Ocampo       </td><td> 1</td><td>  4</td><td>  4</td><td> 1</td></tr>\n",
              "\t<tr><td>Decimosegundo Circuito/ Sinaloa                  </td><td> 1</td><td>  3</td><td>  2</td><td> 2</td></tr>\n",
              "\t<tr><td>Decimotercer Circuito/ Oaxaca                    </td><td> 3</td><td>  2</td><td>  3</td><td> 2</td></tr>\n",
              "\t<tr><td>Decimocuarto Circuito/ Yucatán                   </td><td> 0</td><td>  1</td><td>  1</td><td> 0</td></tr>\n",
              "\t<tr><td>Decimoquinto Circuito/ Baja California           </td><td> 4</td><td>  5</td><td>  7</td><td> 2</td></tr>\n",
              "\t<tr><td>Decimosexto Circuito/ Guanajuato                 </td><td> 0</td><td>  0</td><td>  0</td><td> 0</td></tr>\n",
              "\t<tr><td>Decimoséptimo Circuito/ Chihuahua                </td><td> 4</td><td> 11</td><td>  9</td><td> 6</td></tr>\n",
              "\t<tr><td>Decimoctavo Circuito/ Morelos                    </td><td> 1</td><td>  9</td><td>  9</td><td> 1</td></tr>\n",
              "\t<tr><td>Decimonoveno Circuito/ Tamaulipas                </td><td> 0</td><td>  8</td><td>  4</td><td> 4</td></tr>\n",
              "\t<tr><td>Vigésimo Circuito/ Chiapas                       </td><td> 0</td><td>  1</td><td>  1</td><td> 0</td></tr>\n",
              "\t<tr><td>Vigésimo Primer Circuito/ Guerrero               </td><td> 6</td><td>  7</td><td>  9</td><td> 4</td></tr>\n",
              "\t<tr><td>Vigésimo Segundo Circuito/ Querétaro             </td><td> 1</td><td> 14</td><td>  7</td><td> 8</td></tr>\n",
              "\t<tr><td>Vigésimo Tercer Circuito/ Zacatecas              </td><td> 0</td><td>  1</td><td>  1</td><td> 0</td></tr>\n",
              "\t<tr><td>Vigésimo Cuarto Circuito/ Nayarit                </td><td> 4</td><td>  2</td><td>  3</td><td> 3</td></tr>\n",
              "\t<tr><td>Vigésimo Quinto Circuito/ Durango                </td><td> 1</td><td>  2</td><td>  3</td><td> 0</td></tr>\n",
              "\t<tr><td>Vigésimo Sexto Circuito/ Baja California Sur     </td><td> 1</td><td>  1</td><td>  0</td><td> 2</td></tr>\n",
              "\t<tr><td>Vigésimo Séptimo Circuito/ Quintana Roo          </td><td> 0</td><td>  2</td><td>  1</td><td> 1</td></tr>\n",
              "\t<tr><td>Vigésimo Octavo Circuito/ Tlaxcala               </td><td> 0</td><td>  0</td><td>  0</td><td> 0</td></tr>\n",
              "\t<tr><td>Vigésimo Noveno Circuito/ Hidalgo                </td><td> 1</td><td>  2</td><td>  2</td><td> 1</td></tr>\n",
              "\t<tr><td>Trigésimo Circuito/ Aguascalientes               </td><td> 0</td><td>  5</td><td>  5</td><td> 0</td></tr>\n",
              "\t<tr><td>Trigésimo Primer Circuito/ Campeche              </td><td> 0</td><td>  3</td><td>  2</td><td> 1</td></tr>\n",
              "\t<tr><td>Trigésimo Segundo Circuito/ Colima               </td><td> 2</td><td>  1</td><td>  2</td><td> 1</td></tr>\n",
              "\t<tr><td>Total                                            </td><td>62</td><td>165</td><td>168</td><td>59</td></tr>\n",
              "</tbody>\n",
              "</table>\n"
            ],
            "text/latex": "A tabyl: 33 × 5\n\\begin{tabular}{lllll}\n circuito & existencia\\_inicial & ingresos & egresos & Existencia\\_final\\\\\n <chr> & <int> & <int> & <int> & <int>\\\\\n\\hline\n\t Primer Circuito/ Ciudad de México                 &  8 &  41 &  41 &  8\\\\\n\t Segundo Circuito/ México                          &  3 &   8 &   7 &  4\\\\\n\t Tercer Circuito/ Jalisco                          &  7 &  11 &  15 &  3\\\\\n\t Cuarto Circuito/ Nuevo León                       &  3 &   2 &   4 &  1\\\\\n\t Quinto Circuito/ Sonora                           &  4 &   3 &   6 &  1\\\\\n\t Sexto Circuito/ Puebla                            &  3 &   5 &   7 &  1\\\\\n\t Séptimo Circuito/ Veracruz de Ignacio de la Llave &  2 &   2 &   4 &  0\\\\\n\t Octavo Circuito/ Coahuila de Zaragoza             &  1 &   1 &   2 &  0\\\\\n\t Noveno Circuito/ San Luis Potosí                  &  0 &   2 &   2 &  0\\\\\n\t Décimo Circuito/ Tabasco-Veracruz                 &  1 &   6 &   5 &  2\\\\\n\t Decimoprimer Circuito/ Michoacán de Ocampo        &  1 &   4 &   4 &  1\\\\\n\t Decimosegundo Circuito/ Sinaloa                   &  1 &   3 &   2 &  2\\\\\n\t Decimotercer Circuito/ Oaxaca                     &  3 &   2 &   3 &  2\\\\\n\t Decimocuarto Circuito/ Yucatán                    &  0 &   1 &   1 &  0\\\\\n\t Decimoquinto Circuito/ Baja California            &  4 &   5 &   7 &  2\\\\\n\t Decimosexto Circuito/ Guanajuato                  &  0 &   0 &   0 &  0\\\\\n\t Decimoséptimo Circuito/ Chihuahua                 &  4 &  11 &   9 &  6\\\\\n\t Decimoctavo Circuito/ Morelos                     &  1 &   9 &   9 &  1\\\\\n\t Decimonoveno Circuito/ Tamaulipas                 &  0 &   8 &   4 &  4\\\\\n\t Vigésimo Circuito/ Chiapas                        &  0 &   1 &   1 &  0\\\\\n\t Vigésimo Primer Circuito/ Guerrero                &  6 &   7 &   9 &  4\\\\\n\t Vigésimo Segundo Circuito/ Querétaro              &  1 &  14 &   7 &  8\\\\\n\t Vigésimo Tercer Circuito/ Zacatecas               &  0 &   1 &   1 &  0\\\\\n\t Vigésimo Cuarto Circuito/ Nayarit                 &  4 &   2 &   3 &  3\\\\\n\t Vigésimo Quinto Circuito/ Durango                 &  1 &   2 &   3 &  0\\\\\n\t Vigésimo Sexto Circuito/ Baja California Sur      &  1 &   1 &   0 &  2\\\\\n\t Vigésimo Séptimo Circuito/ Quintana Roo           &  0 &   2 &   1 &  1\\\\\n\t Vigésimo Octavo Circuito/ Tlaxcala                &  0 &   0 &   0 &  0\\\\\n\t Vigésimo Noveno Circuito/ Hidalgo                 &  1 &   2 &   2 &  1\\\\\n\t Trigésimo Circuito/ Aguascalientes                &  0 &   5 &   5 &  0\\\\\n\t Trigésimo Primer Circuito/ Campeche               &  0 &   3 &   2 &  1\\\\\n\t Trigésimo Segundo Circuito/ Colima                &  2 &   1 &   2 &  1\\\\\n\t Total                                             & 62 & 165 & 168 & 59\\\\\n\\end{tabular}\n",
            "text/markdown": "\nA tabyl: 33 × 5\n\n| circuito &lt;chr&gt; | existencia_inicial &lt;int&gt; | ingresos &lt;int&gt; | egresos &lt;int&gt; | Existencia_final &lt;int&gt; |\n|---|---|---|---|---|\n| Primer Circuito/ Ciudad de México                 |  8 |  41 |  41 |  8 |\n| Segundo Circuito/ México                          |  3 |   8 |   7 |  4 |\n| Tercer Circuito/ Jalisco                          |  7 |  11 |  15 |  3 |\n| Cuarto Circuito/ Nuevo León                       |  3 |   2 |   4 |  1 |\n| Quinto Circuito/ Sonora                           |  4 |   3 |   6 |  1 |\n| Sexto Circuito/ Puebla                            |  3 |   5 |   7 |  1 |\n| Séptimo Circuito/ Veracruz de Ignacio de la Llave |  2 |   2 |   4 |  0 |\n| Octavo Circuito/ Coahuila de Zaragoza             |  1 |   1 |   2 |  0 |\n| Noveno Circuito/ San Luis Potosí                  |  0 |   2 |   2 |  0 |\n| Décimo Circuito/ Tabasco-Veracruz                 |  1 |   6 |   5 |  2 |\n| Decimoprimer Circuito/ Michoacán de Ocampo        |  1 |   4 |   4 |  1 |\n| Decimosegundo Circuito/ Sinaloa                   |  1 |   3 |   2 |  2 |\n| Decimotercer Circuito/ Oaxaca                     |  3 |   2 |   3 |  2 |\n| Decimocuarto Circuito/ Yucatán                    |  0 |   1 |   1 |  0 |\n| Decimoquinto Circuito/ Baja California            |  4 |   5 |   7 |  2 |\n| Decimosexto Circuito/ Guanajuato                  |  0 |   0 |   0 |  0 |\n| Decimoséptimo Circuito/ Chihuahua                 |  4 |  11 |   9 |  6 |\n| Decimoctavo Circuito/ Morelos                     |  1 |   9 |   9 |  1 |\n| Decimonoveno Circuito/ Tamaulipas                 |  0 |   8 |   4 |  4 |\n| Vigésimo Circuito/ Chiapas                        |  0 |   1 |   1 |  0 |\n| Vigésimo Primer Circuito/ Guerrero                |  6 |   7 |   9 |  4 |\n| Vigésimo Segundo Circuito/ Querétaro              |  1 |  14 |   7 |  8 |\n| Vigésimo Tercer Circuito/ Zacatecas               |  0 |   1 |   1 |  0 |\n| Vigésimo Cuarto Circuito/ Nayarit                 |  4 |   2 |   3 |  3 |\n| Vigésimo Quinto Circuito/ Durango                 |  1 |   2 |   3 |  0 |\n| Vigésimo Sexto Circuito/ Baja California Sur      |  1 |   1 |   0 |  2 |\n| Vigésimo Séptimo Circuito/ Quintana Roo           |  0 |   2 |   1 |  1 |\n| Vigésimo Octavo Circuito/ Tlaxcala                |  0 |   0 |   0 |  0 |\n| Vigésimo Noveno Circuito/ Hidalgo                 |  1 |   2 |   2 |  1 |\n| Trigésimo Circuito/ Aguascalientes                |  0 |   5 |   5 |  0 |\n| Trigésimo Primer Circuito/ Campeche               |  0 |   3 |   2 |  1 |\n| Trigésimo Segundo Circuito/ Colima                |  2 |   1 |   2 |  1 |\n| Total                                             | 62 | 165 | 168 | 59 |\n\n",
            "text/plain": [
              "   circuito                                          existencia_inicial\n",
              "1  Primer Circuito/ Ciudad de México                  8                \n",
              "2  Segundo Circuito/ México                           3                \n",
              "3  Tercer Circuito/ Jalisco                           7                \n",
              "4  Cuarto Circuito/ Nuevo León                        3                \n",
              "5  Quinto Circuito/ Sonora                            4                \n",
              "6  Sexto Circuito/ Puebla                             3                \n",
              "7  Séptimo Circuito/ Veracruz de Ignacio de la Llave  2                \n",
              "8  Octavo Circuito/ Coahuila de Zaragoza              1                \n",
              "9  Noveno Circuito/ San Luis Potosí                   0                \n",
              "10 Décimo Circuito/ Tabasco-Veracruz                  1                \n",
              "11 Decimoprimer Circuito/ Michoacán de Ocampo         1                \n",
              "12 Decimosegundo Circuito/ Sinaloa                    1                \n",
              "13 Decimotercer Circuito/ Oaxaca                      3                \n",
              "14 Decimocuarto Circuito/ Yucatán                     0                \n",
              "15 Decimoquinto Circuito/ Baja California             4                \n",
              "16 Decimosexto Circuito/ Guanajuato                   0                \n",
              "17 Decimoséptimo Circuito/ Chihuahua                  4                \n",
              "18 Decimoctavo Circuito/ Morelos                      1                \n",
              "19 Decimonoveno Circuito/ Tamaulipas                  0                \n",
              "20 Vigésimo Circuito/ Chiapas                         0                \n",
              "21 Vigésimo Primer Circuito/ Guerrero                 6                \n",
              "22 Vigésimo Segundo Circuito/ Querétaro               1                \n",
              "23 Vigésimo Tercer Circuito/ Zacatecas                0                \n",
              "24 Vigésimo Cuarto Circuito/ Nayarit                  4                \n",
              "25 Vigésimo Quinto Circuito/ Durango                  1                \n",
              "26 Vigésimo Sexto Circuito/ Baja California Sur       1                \n",
              "27 Vigésimo Séptimo Circuito/ Quintana Roo            0                \n",
              "28 Vigésimo Octavo Circuito/ Tlaxcala                 0                \n",
              "29 Vigésimo Noveno Circuito/ Hidalgo                  1                \n",
              "30 Trigésimo Circuito/ Aguascalientes                 0                \n",
              "31 Trigésimo Primer Circuito/ Campeche                0                \n",
              "32 Trigésimo Segundo Circuito/ Colima                 2                \n",
              "33 Total                                             62                \n",
              "   ingresos egresos Existencia_final\n",
              "1   41       41      8              \n",
              "2    8        7      4              \n",
              "3   11       15      3              \n",
              "4    2        4      1              \n",
              "5    3        6      1              \n",
              "6    5        7      1              \n",
              "7    2        4      0              \n",
              "8    1        2      0              \n",
              "9    2        2      0              \n",
              "10   6        5      2              \n",
              "11   4        4      1              \n",
              "12   3        2      2              \n",
              "13   2        3      2              \n",
              "14   1        1      0              \n",
              "15   5        7      2              \n",
              "16   0        0      0              \n",
              "17  11        9      6              \n",
              "18   9        9      1              \n",
              "19   8        4      4              \n",
              "20   1        1      0              \n",
              "21   7        9      4              \n",
              "22  14        7      8              \n",
              "23   1        1      0              \n",
              "24   2        3      3              \n",
              "25   2        3      0              \n",
              "26   1        0      2              \n",
              "27   2        1      1              \n",
              "28   0        0      0              \n",
              "29   2        2      1              \n",
              "30   5        5      0              \n",
              "31   3        2      1              \n",
              "32   1        2      1              \n",
              "33 165      168     59              "
            ]
          },
          "metadata": {
            "tags": []
          }
        }
      ]
    },
    {
      "cell_type": "code",
      "metadata": {
        "colab": {
          "base_uri": "https://localhost:8080/"
        },
        "id": "D_SpOLpQjLPw",
        "outputId": "19f1088a-2557-42c7-b29d-93f993480d34"
      },
      "source": [
        "#inconformidad\n",
        "\n",
        "cubo %>%\n",
        "filter(tp_organo == \"Tribunales Colegiados de Circuito\") %>%\n",
        "filter(tp_asunto == \"inconformidad\") %>%\n",
        "mutate(egresos = egresos + egresos_acuerdo) %>% # egresos + egresos por acuerdo?\n",
        "select(circuito,  existencia_inicial, ingresos, egresos, Existencia_final) %>%\n",
        "mutate(circuito = factor(circuito, levels = orden_circuitos)) %>%\n",
        "group_by(circuito) %>%\n",
        "summarise_all(list(sum))%>%\n",
        "filter(!is.na(existencia_inicial))  %>%\n",
        "adorn_totals()\n"
      ],
      "execution_count": null,
      "outputs": [
        {
          "output_type": "display_data",
          "data": {
            "text/html": [
              "<table class=\"dataframe\">\n",
              "<caption>A tabyl: 33 × 5</caption>\n",
              "<thead>\n",
              "\t<tr><th scope=col>circuito</th><th scope=col>existencia_inicial</th><th scope=col>ingresos</th><th scope=col>egresos</th><th scope=col>Existencia_final</th></tr>\n",
              "\t<tr><th scope=col>&lt;chr&gt;</th><th scope=col>&lt;int&gt;</th><th scope=col>&lt;int&gt;</th><th scope=col>&lt;int&gt;</th><th scope=col>&lt;int&gt;</th></tr>\n",
              "</thead>\n",
              "<tbody>\n",
              "\t<tr><td>Primer Circuito/ Ciudad de México                </td><td> 361</td><td>1094</td><td>1240</td><td> 215</td></tr>\n",
              "\t<tr><td>Segundo Circuito/ México                         </td><td> 129</td><td> 371</td><td> 392</td><td> 108</td></tr>\n",
              "\t<tr><td>Tercer Circuito/ Jalisco                         </td><td> 111</td><td> 440</td><td> 403</td><td> 148</td></tr>\n",
              "\t<tr><td>Cuarto Circuito/ Nuevo León                      </td><td>  48</td><td>  85</td><td>  93</td><td>  40</td></tr>\n",
              "\t<tr><td>Quinto Circuito/ Sonora                          </td><td>  58</td><td>  90</td><td>  90</td><td>  58</td></tr>\n",
              "\t<tr><td>Sexto Circuito/ Puebla                           </td><td>  75</td><td> 184</td><td> 190</td><td>  69</td></tr>\n",
              "\t<tr><td>Séptimo Circuito/ Veracruz de Ignacio de la Llave</td><td>  44</td><td> 139</td><td> 138</td><td>  45</td></tr>\n",
              "\t<tr><td>Octavo Circuito/ Coahuila de Zaragoza            </td><td>  70</td><td> 104</td><td> 136</td><td>  38</td></tr>\n",
              "\t<tr><td>Noveno Circuito/ San Luis Potosí                 </td><td>  12</td><td>  47</td><td>  38</td><td>  21</td></tr>\n",
              "\t<tr><td>Décimo Circuito/ Tabasco-Veracruz                </td><td>  72</td><td> 123</td><td> 153</td><td>  42</td></tr>\n",
              "\t<tr><td>Decimoprimer Circuito/ Michoacán de Ocampo       </td><td>  17</td><td>  62</td><td>  63</td><td>  16</td></tr>\n",
              "\t<tr><td>Decimosegundo Circuito/ Sinaloa                  </td><td>  36</td><td>  67</td><td>  74</td><td>  29</td></tr>\n",
              "\t<tr><td>Decimotercer Circuito/ Oaxaca                    </td><td>  78</td><td>  75</td><td> 109</td><td>  44</td></tr>\n",
              "\t<tr><td>Decimocuarto Circuito/ Yucatán                   </td><td>  21</td><td>  48</td><td>  56</td><td>  13</td></tr>\n",
              "\t<tr><td>Decimoquinto Circuito/ Baja California           </td><td>  57</td><td> 294</td><td> 273</td><td>  76</td></tr>\n",
              "\t<tr><td>Decimosexto Circuito/ Guanajuato                 </td><td>  25</td><td>  82</td><td>  85</td><td>  22</td></tr>\n",
              "\t<tr><td>Decimoséptimo Circuito/ Chihuahua                </td><td>  46</td><td>  80</td><td>  95</td><td>  31</td></tr>\n",
              "\t<tr><td>Decimoctavo Circuito/ Morelos                    </td><td>  57</td><td> 121</td><td> 137</td><td>  41</td></tr>\n",
              "\t<tr><td>Decimonoveno Circuito/ Tamaulipas                </td><td>  53</td><td> 111</td><td> 117</td><td>  47</td></tr>\n",
              "\t<tr><td>Vigésimo Circuito/ Chiapas                       </td><td>  45</td><td>  97</td><td> 102</td><td>  40</td></tr>\n",
              "\t<tr><td>Vigésimo Primer Circuito/ Guerrero               </td><td>  65</td><td>  83</td><td> 112</td><td>  36</td></tr>\n",
              "\t<tr><td>Vigésimo Segundo Circuito/ Querétaro             </td><td>  37</td><td>  71</td><td>  80</td><td>  28</td></tr>\n",
              "\t<tr><td>Vigésimo Tercer Circuito/ Zacatecas              </td><td>   4</td><td>  20</td><td>  16</td><td>   8</td></tr>\n",
              "\t<tr><td>Vigésimo Cuarto Circuito/ Nayarit                </td><td> 108</td><td>  43</td><td> 102</td><td>  49</td></tr>\n",
              "\t<tr><td>Vigésimo Quinto Circuito/ Durango                </td><td>   7</td><td>  39</td><td>  36</td><td>  10</td></tr>\n",
              "\t<tr><td>Vigésimo Sexto Circuito/ Baja California Sur     </td><td>  29</td><td>  25</td><td>  36</td><td>  18</td></tr>\n",
              "\t<tr><td>Vigésimo Séptimo Circuito/ Quintana Roo          </td><td>  22</td><td>  59</td><td>  64</td><td>  17</td></tr>\n",
              "\t<tr><td>Vigésimo Octavo Circuito/ Tlaxcala               </td><td>  13</td><td>  29</td><td>  37</td><td>   5</td></tr>\n",
              "\t<tr><td>Vigésimo Noveno Circuito/ Hidalgo                </td><td>  15</td><td>  52</td><td>  54</td><td>  13</td></tr>\n",
              "\t<tr><td>Trigésimo Circuito/ Aguascalientes               </td><td>   4</td><td>  34</td><td>  31</td><td>   7</td></tr>\n",
              "\t<tr><td>Trigésimo Primer Circuito/ Campeche              </td><td>  19</td><td>  27</td><td>  35</td><td>  11</td></tr>\n",
              "\t<tr><td>Trigésimo Segundo Circuito/ Colima               </td><td>   6</td><td>  25</td><td>  20</td><td>  11</td></tr>\n",
              "\t<tr><td>Total                                            </td><td>1744</td><td>4221</td><td>4607</td><td>1356</td></tr>\n",
              "</tbody>\n",
              "</table>\n"
            ],
            "text/latex": "A tabyl: 33 × 5\n\\begin{tabular}{lllll}\n circuito & existencia\\_inicial & ingresos & egresos & Existencia\\_final\\\\\n <chr> & <int> & <int> & <int> & <int>\\\\\n\\hline\n\t Primer Circuito/ Ciudad de México                 &  361 & 1094 & 1240 &  215\\\\\n\t Segundo Circuito/ México                          &  129 &  371 &  392 &  108\\\\\n\t Tercer Circuito/ Jalisco                          &  111 &  440 &  403 &  148\\\\\n\t Cuarto Circuito/ Nuevo León                       &   48 &   85 &   93 &   40\\\\\n\t Quinto Circuito/ Sonora                           &   58 &   90 &   90 &   58\\\\\n\t Sexto Circuito/ Puebla                            &   75 &  184 &  190 &   69\\\\\n\t Séptimo Circuito/ Veracruz de Ignacio de la Llave &   44 &  139 &  138 &   45\\\\\n\t Octavo Circuito/ Coahuila de Zaragoza             &   70 &  104 &  136 &   38\\\\\n\t Noveno Circuito/ San Luis Potosí                  &   12 &   47 &   38 &   21\\\\\n\t Décimo Circuito/ Tabasco-Veracruz                 &   72 &  123 &  153 &   42\\\\\n\t Decimoprimer Circuito/ Michoacán de Ocampo        &   17 &   62 &   63 &   16\\\\\n\t Decimosegundo Circuito/ Sinaloa                   &   36 &   67 &   74 &   29\\\\\n\t Decimotercer Circuito/ Oaxaca                     &   78 &   75 &  109 &   44\\\\\n\t Decimocuarto Circuito/ Yucatán                    &   21 &   48 &   56 &   13\\\\\n\t Decimoquinto Circuito/ Baja California            &   57 &  294 &  273 &   76\\\\\n\t Decimosexto Circuito/ Guanajuato                  &   25 &   82 &   85 &   22\\\\\n\t Decimoséptimo Circuito/ Chihuahua                 &   46 &   80 &   95 &   31\\\\\n\t Decimoctavo Circuito/ Morelos                     &   57 &  121 &  137 &   41\\\\\n\t Decimonoveno Circuito/ Tamaulipas                 &   53 &  111 &  117 &   47\\\\\n\t Vigésimo Circuito/ Chiapas                        &   45 &   97 &  102 &   40\\\\\n\t Vigésimo Primer Circuito/ Guerrero                &   65 &   83 &  112 &   36\\\\\n\t Vigésimo Segundo Circuito/ Querétaro              &   37 &   71 &   80 &   28\\\\\n\t Vigésimo Tercer Circuito/ Zacatecas               &    4 &   20 &   16 &    8\\\\\n\t Vigésimo Cuarto Circuito/ Nayarit                 &  108 &   43 &  102 &   49\\\\\n\t Vigésimo Quinto Circuito/ Durango                 &    7 &   39 &   36 &   10\\\\\n\t Vigésimo Sexto Circuito/ Baja California Sur      &   29 &   25 &   36 &   18\\\\\n\t Vigésimo Séptimo Circuito/ Quintana Roo           &   22 &   59 &   64 &   17\\\\\n\t Vigésimo Octavo Circuito/ Tlaxcala                &   13 &   29 &   37 &    5\\\\\n\t Vigésimo Noveno Circuito/ Hidalgo                 &   15 &   52 &   54 &   13\\\\\n\t Trigésimo Circuito/ Aguascalientes                &    4 &   34 &   31 &    7\\\\\n\t Trigésimo Primer Circuito/ Campeche               &   19 &   27 &   35 &   11\\\\\n\t Trigésimo Segundo Circuito/ Colima                &    6 &   25 &   20 &   11\\\\\n\t Total                                             & 1744 & 4221 & 4607 & 1356\\\\\n\\end{tabular}\n",
            "text/markdown": "\nA tabyl: 33 × 5\n\n| circuito &lt;chr&gt; | existencia_inicial &lt;int&gt; | ingresos &lt;int&gt; | egresos &lt;int&gt; | Existencia_final &lt;int&gt; |\n|---|---|---|---|---|\n| Primer Circuito/ Ciudad de México                 |  361 | 1094 | 1240 |  215 |\n| Segundo Circuito/ México                          |  129 |  371 |  392 |  108 |\n| Tercer Circuito/ Jalisco                          |  111 |  440 |  403 |  148 |\n| Cuarto Circuito/ Nuevo León                       |   48 |   85 |   93 |   40 |\n| Quinto Circuito/ Sonora                           |   58 |   90 |   90 |   58 |\n| Sexto Circuito/ Puebla                            |   75 |  184 |  190 |   69 |\n| Séptimo Circuito/ Veracruz de Ignacio de la Llave |   44 |  139 |  138 |   45 |\n| Octavo Circuito/ Coahuila de Zaragoza             |   70 |  104 |  136 |   38 |\n| Noveno Circuito/ San Luis Potosí                  |   12 |   47 |   38 |   21 |\n| Décimo Circuito/ Tabasco-Veracruz                 |   72 |  123 |  153 |   42 |\n| Decimoprimer Circuito/ Michoacán de Ocampo        |   17 |   62 |   63 |   16 |\n| Decimosegundo Circuito/ Sinaloa                   |   36 |   67 |   74 |   29 |\n| Decimotercer Circuito/ Oaxaca                     |   78 |   75 |  109 |   44 |\n| Decimocuarto Circuito/ Yucatán                    |   21 |   48 |   56 |   13 |\n| Decimoquinto Circuito/ Baja California            |   57 |  294 |  273 |   76 |\n| Decimosexto Circuito/ Guanajuato                  |   25 |   82 |   85 |   22 |\n| Decimoséptimo Circuito/ Chihuahua                 |   46 |   80 |   95 |   31 |\n| Decimoctavo Circuito/ Morelos                     |   57 |  121 |  137 |   41 |\n| Decimonoveno Circuito/ Tamaulipas                 |   53 |  111 |  117 |   47 |\n| Vigésimo Circuito/ Chiapas                        |   45 |   97 |  102 |   40 |\n| Vigésimo Primer Circuito/ Guerrero                |   65 |   83 |  112 |   36 |\n| Vigésimo Segundo Circuito/ Querétaro              |   37 |   71 |   80 |   28 |\n| Vigésimo Tercer Circuito/ Zacatecas               |    4 |   20 |   16 |    8 |\n| Vigésimo Cuarto Circuito/ Nayarit                 |  108 |   43 |  102 |   49 |\n| Vigésimo Quinto Circuito/ Durango                 |    7 |   39 |   36 |   10 |\n| Vigésimo Sexto Circuito/ Baja California Sur      |   29 |   25 |   36 |   18 |\n| Vigésimo Séptimo Circuito/ Quintana Roo           |   22 |   59 |   64 |   17 |\n| Vigésimo Octavo Circuito/ Tlaxcala                |   13 |   29 |   37 |    5 |\n| Vigésimo Noveno Circuito/ Hidalgo                 |   15 |   52 |   54 |   13 |\n| Trigésimo Circuito/ Aguascalientes                |    4 |   34 |   31 |    7 |\n| Trigésimo Primer Circuito/ Campeche               |   19 |   27 |   35 |   11 |\n| Trigésimo Segundo Circuito/ Colima                |    6 |   25 |   20 |   11 |\n| Total                                             | 1744 | 4221 | 4607 | 1356 |\n\n",
            "text/plain": [
              "   circuito                                          existencia_inicial\n",
              "1  Primer Circuito/ Ciudad de México                  361              \n",
              "2  Segundo Circuito/ México                           129              \n",
              "3  Tercer Circuito/ Jalisco                           111              \n",
              "4  Cuarto Circuito/ Nuevo León                         48              \n",
              "5  Quinto Circuito/ Sonora                             58              \n",
              "6  Sexto Circuito/ Puebla                              75              \n",
              "7  Séptimo Circuito/ Veracruz de Ignacio de la Llave   44              \n",
              "8  Octavo Circuito/ Coahuila de Zaragoza               70              \n",
              "9  Noveno Circuito/ San Luis Potosí                    12              \n",
              "10 Décimo Circuito/ Tabasco-Veracruz                   72              \n",
              "11 Decimoprimer Circuito/ Michoacán de Ocampo          17              \n",
              "12 Decimosegundo Circuito/ Sinaloa                     36              \n",
              "13 Decimotercer Circuito/ Oaxaca                       78              \n",
              "14 Decimocuarto Circuito/ Yucatán                      21              \n",
              "15 Decimoquinto Circuito/ Baja California              57              \n",
              "16 Decimosexto Circuito/ Guanajuato                    25              \n",
              "17 Decimoséptimo Circuito/ Chihuahua                   46              \n",
              "18 Decimoctavo Circuito/ Morelos                       57              \n",
              "19 Decimonoveno Circuito/ Tamaulipas                   53              \n",
              "20 Vigésimo Circuito/ Chiapas                          45              \n",
              "21 Vigésimo Primer Circuito/ Guerrero                  65              \n",
              "22 Vigésimo Segundo Circuito/ Querétaro                37              \n",
              "23 Vigésimo Tercer Circuito/ Zacatecas                  4              \n",
              "24 Vigésimo Cuarto Circuito/ Nayarit                  108              \n",
              "25 Vigésimo Quinto Circuito/ Durango                    7              \n",
              "26 Vigésimo Sexto Circuito/ Baja California Sur        29              \n",
              "27 Vigésimo Séptimo Circuito/ Quintana Roo             22              \n",
              "28 Vigésimo Octavo Circuito/ Tlaxcala                  13              \n",
              "29 Vigésimo Noveno Circuito/ Hidalgo                   15              \n",
              "30 Trigésimo Circuito/ Aguascalientes                   4              \n",
              "31 Trigésimo Primer Circuito/ Campeche                 19              \n",
              "32 Trigésimo Segundo Circuito/ Colima                   6              \n",
              "33 Total                                             1744              \n",
              "   ingresos egresos Existencia_final\n",
              "1  1094     1240     215            \n",
              "2   371      392     108            \n",
              "3   440      403     148            \n",
              "4    85       93      40            \n",
              "5    90       90      58            \n",
              "6   184      190      69            \n",
              "7   139      138      45            \n",
              "8   104      136      38            \n",
              "9    47       38      21            \n",
              "10  123      153      42            \n",
              "11   62       63      16            \n",
              "12   67       74      29            \n",
              "13   75      109      44            \n",
              "14   48       56      13            \n",
              "15  294      273      76            \n",
              "16   82       85      22            \n",
              "17   80       95      31            \n",
              "18  121      137      41            \n",
              "19  111      117      47            \n",
              "20   97      102      40            \n",
              "21   83      112      36            \n",
              "22   71       80      28            \n",
              "23   20       16       8            \n",
              "24   43      102      49            \n",
              "25   39       36      10            \n",
              "26   25       36      18            \n",
              "27   59       64      17            \n",
              "28   29       37       5            \n",
              "29   52       54      13            \n",
              "30   34       31       7            \n",
              "31   27       35      11            \n",
              "32   25       20      11            \n",
              "33 4221     4607    1356            "
            ]
          },
          "metadata": {
            "tags": []
          }
        }
      ]
    },
    {
      "cell_type": "code",
      "metadata": {
        "colab": {
          "base_uri": "https://localhost:8080/"
        },
        "id": "ky-dUV9JjmJI",
        "outputId": "5522aba3-39d1-4b13-efd0-e916ab1dd4ab"
      },
      "source": [
        "#incidente de reconocimiento de inocencia\n",
        "#Incidente de reconocimiento de inocencia\n",
        "\n",
        "cubo %>%\n",
        "filter(tp_organo == \"Tribunales Colegiados de Circuito\") %>%\n",
        "filter(tp_asunto %in% c(\"incidente de reconocimiento de inocencia\",\n",
        "                      \"Incidente de reconocimiento de inocencia\")) %>%\n",
        "mutate(egresos = egresos + egresos_acuerdo) %>% # egresos + egresos por acuerdo?\n",
        "select(circuito,  existencia_inicial, ingresos, egresos, Existencia_final) %>%\n",
        "mutate(circuito = factor(circuito, levels = orden_circuitos)) %>%\n",
        "group_by(circuito) %>%\n",
        "summarise_all(list(sum))%>%\n",
        "filter(!is.na(existencia_inicial))  %>%\n",
        "adorn_totals()"
      ],
      "execution_count": null,
      "outputs": [
        {
          "output_type": "display_data",
          "data": {
            "text/html": [
              "<table class=\"dataframe\">\n",
              "<caption>A tabyl: 33 × 5</caption>\n",
              "<thead>\n",
              "\t<tr><th scope=col>circuito</th><th scope=col>existencia_inicial</th><th scope=col>ingresos</th><th scope=col>egresos</th><th scope=col>Existencia_final</th></tr>\n",
              "\t<tr><th scope=col>&lt;chr&gt;</th><th scope=col>&lt;int&gt;</th><th scope=col>&lt;int&gt;</th><th scope=col>&lt;int&gt;</th><th scope=col>&lt;int&gt;</th></tr>\n",
              "</thead>\n",
              "<tbody>\n",
              "\t<tr><td>Primer Circuito/ Ciudad de México                </td><td> 0</td><td> 1</td><td> 0</td><td> 1</td></tr>\n",
              "\t<tr><td>Segundo Circuito/ México                         </td><td> 4</td><td> 8</td><td> 8</td><td> 4</td></tr>\n",
              "\t<tr><td>Tercer Circuito/ Jalisco                         </td><td> 0</td><td> 7</td><td> 7</td><td> 0</td></tr>\n",
              "\t<tr><td>Cuarto Circuito/ Nuevo León                      </td><td> 2</td><td> 2</td><td> 3</td><td> 1</td></tr>\n",
              "\t<tr><td>Quinto Circuito/ Sonora                          </td><td> 0</td><td> 1</td><td> 0</td><td> 1</td></tr>\n",
              "\t<tr><td>Sexto Circuito/ Puebla                           </td><td> 0</td><td> 3</td><td> 3</td><td> 0</td></tr>\n",
              "\t<tr><td>Séptimo Circuito/ Veracruz de Ignacio de la Llave</td><td> 0</td><td> 1</td><td> 1</td><td> 0</td></tr>\n",
              "\t<tr><td>Octavo Circuito/ Coahuila de Zaragoza            </td><td> 0</td><td> 0</td><td> 0</td><td> 0</td></tr>\n",
              "\t<tr><td>Noveno Circuito/ San Luis Potosí                 </td><td> 0</td><td> 1</td><td> 1</td><td> 0</td></tr>\n",
              "\t<tr><td>Décimo Circuito/ Tabasco-Veracruz                </td><td> 0</td><td> 0</td><td> 0</td><td> 0</td></tr>\n",
              "\t<tr><td>Decimoprimer Circuito/ Michoacán de Ocampo       </td><td> 2</td><td> 0</td><td> 2</td><td> 0</td></tr>\n",
              "\t<tr><td>Decimosegundo Circuito/ Sinaloa                  </td><td> 0</td><td> 1</td><td> 0</td><td> 1</td></tr>\n",
              "\t<tr><td>Decimotercer Circuito/ Oaxaca                    </td><td> 0</td><td> 0</td><td> 0</td><td> 0</td></tr>\n",
              "\t<tr><td>Decimocuarto Circuito/ Yucatán                   </td><td> 0</td><td> 0</td><td> 0</td><td> 0</td></tr>\n",
              "\t<tr><td>Decimoquinto Circuito/ Baja California           </td><td> 0</td><td> 0</td><td> 0</td><td> 0</td></tr>\n",
              "\t<tr><td>Decimosexto Circuito/ Guanajuato                 </td><td> 0</td><td> 0</td><td> 0</td><td> 0</td></tr>\n",
              "\t<tr><td>Decimoséptimo Circuito/ Chihuahua                </td><td> 0</td><td> 3</td><td> 2</td><td> 1</td></tr>\n",
              "\t<tr><td>Decimoctavo Circuito/ Morelos                    </td><td> 1</td><td> 0</td><td> 0</td><td> 1</td></tr>\n",
              "\t<tr><td>Decimonoveno Circuito/ Tamaulipas                </td><td> 0</td><td> 2</td><td> 0</td><td> 2</td></tr>\n",
              "\t<tr><td>Vigésimo Circuito/ Chiapas                       </td><td> 0</td><td> 0</td><td> 0</td><td> 0</td></tr>\n",
              "\t<tr><td>Vigésimo Primer Circuito/ Guerrero               </td><td> 0</td><td> 1</td><td> 1</td><td> 0</td></tr>\n",
              "\t<tr><td>Vigésimo Segundo Circuito/ Querétaro             </td><td> 0</td><td> 0</td><td> 0</td><td> 0</td></tr>\n",
              "\t<tr><td>Vigésimo Tercer Circuito/ Zacatecas              </td><td> 0</td><td> 0</td><td> 0</td><td> 0</td></tr>\n",
              "\t<tr><td>Vigésimo Cuarto Circuito/ Nayarit                </td><td> 0</td><td> 0</td><td> 0</td><td> 0</td></tr>\n",
              "\t<tr><td>Vigésimo Quinto Circuito/ Durango                </td><td> 0</td><td> 0</td><td> 0</td><td> 0</td></tr>\n",
              "\t<tr><td>Vigésimo Sexto Circuito/ Baja California Sur     </td><td> 0</td><td> 0</td><td> 0</td><td> 0</td></tr>\n",
              "\t<tr><td>Vigésimo Séptimo Circuito/ Quintana Roo          </td><td> 0</td><td> 0</td><td> 0</td><td> 0</td></tr>\n",
              "\t<tr><td>Vigésimo Octavo Circuito/ Tlaxcala               </td><td> 0</td><td> 0</td><td> 0</td><td> 0</td></tr>\n",
              "\t<tr><td>Vigésimo Noveno Circuito/ Hidalgo                </td><td> 0</td><td> 0</td><td> 0</td><td> 0</td></tr>\n",
              "\t<tr><td>Trigésimo Circuito/ Aguascalientes               </td><td> 0</td><td> 1</td><td> 0</td><td> 1</td></tr>\n",
              "\t<tr><td>Trigésimo Primer Circuito/ Campeche              </td><td> 1</td><td> 2</td><td> 1</td><td> 2</td></tr>\n",
              "\t<tr><td>Trigésimo Segundo Circuito/ Colima               </td><td> 0</td><td> 0</td><td> 0</td><td> 0</td></tr>\n",
              "\t<tr><td>Total                                            </td><td>10</td><td>34</td><td>29</td><td>15</td></tr>\n",
              "</tbody>\n",
              "</table>\n"
            ],
            "text/latex": "A tabyl: 33 × 5\n\\begin{tabular}{lllll}\n circuito & existencia\\_inicial & ingresos & egresos & Existencia\\_final\\\\\n <chr> & <int> & <int> & <int> & <int>\\\\\n\\hline\n\t Primer Circuito/ Ciudad de México                 &  0 &  1 &  0 &  1\\\\\n\t Segundo Circuito/ México                          &  4 &  8 &  8 &  4\\\\\n\t Tercer Circuito/ Jalisco                          &  0 &  7 &  7 &  0\\\\\n\t Cuarto Circuito/ Nuevo León                       &  2 &  2 &  3 &  1\\\\\n\t Quinto Circuito/ Sonora                           &  0 &  1 &  0 &  1\\\\\n\t Sexto Circuito/ Puebla                            &  0 &  3 &  3 &  0\\\\\n\t Séptimo Circuito/ Veracruz de Ignacio de la Llave &  0 &  1 &  1 &  0\\\\\n\t Octavo Circuito/ Coahuila de Zaragoza             &  0 &  0 &  0 &  0\\\\\n\t Noveno Circuito/ San Luis Potosí                  &  0 &  1 &  1 &  0\\\\\n\t Décimo Circuito/ Tabasco-Veracruz                 &  0 &  0 &  0 &  0\\\\\n\t Decimoprimer Circuito/ Michoacán de Ocampo        &  2 &  0 &  2 &  0\\\\\n\t Decimosegundo Circuito/ Sinaloa                   &  0 &  1 &  0 &  1\\\\\n\t Decimotercer Circuito/ Oaxaca                     &  0 &  0 &  0 &  0\\\\\n\t Decimocuarto Circuito/ Yucatán                    &  0 &  0 &  0 &  0\\\\\n\t Decimoquinto Circuito/ Baja California            &  0 &  0 &  0 &  0\\\\\n\t Decimosexto Circuito/ Guanajuato                  &  0 &  0 &  0 &  0\\\\\n\t Decimoséptimo Circuito/ Chihuahua                 &  0 &  3 &  2 &  1\\\\\n\t Decimoctavo Circuito/ Morelos                     &  1 &  0 &  0 &  1\\\\\n\t Decimonoveno Circuito/ Tamaulipas                 &  0 &  2 &  0 &  2\\\\\n\t Vigésimo Circuito/ Chiapas                        &  0 &  0 &  0 &  0\\\\\n\t Vigésimo Primer Circuito/ Guerrero                &  0 &  1 &  1 &  0\\\\\n\t Vigésimo Segundo Circuito/ Querétaro              &  0 &  0 &  0 &  0\\\\\n\t Vigésimo Tercer Circuito/ Zacatecas               &  0 &  0 &  0 &  0\\\\\n\t Vigésimo Cuarto Circuito/ Nayarit                 &  0 &  0 &  0 &  0\\\\\n\t Vigésimo Quinto Circuito/ Durango                 &  0 &  0 &  0 &  0\\\\\n\t Vigésimo Sexto Circuito/ Baja California Sur      &  0 &  0 &  0 &  0\\\\\n\t Vigésimo Séptimo Circuito/ Quintana Roo           &  0 &  0 &  0 &  0\\\\\n\t Vigésimo Octavo Circuito/ Tlaxcala                &  0 &  0 &  0 &  0\\\\\n\t Vigésimo Noveno Circuito/ Hidalgo                 &  0 &  0 &  0 &  0\\\\\n\t Trigésimo Circuito/ Aguascalientes                &  0 &  1 &  0 &  1\\\\\n\t Trigésimo Primer Circuito/ Campeche               &  1 &  2 &  1 &  2\\\\\n\t Trigésimo Segundo Circuito/ Colima                &  0 &  0 &  0 &  0\\\\\n\t Total                                             & 10 & 34 & 29 & 15\\\\\n\\end{tabular}\n",
            "text/markdown": "\nA tabyl: 33 × 5\n\n| circuito &lt;chr&gt; | existencia_inicial &lt;int&gt; | ingresos &lt;int&gt; | egresos &lt;int&gt; | Existencia_final &lt;int&gt; |\n|---|---|---|---|---|\n| Primer Circuito/ Ciudad de México                 |  0 |  1 |  0 |  1 |\n| Segundo Circuito/ México                          |  4 |  8 |  8 |  4 |\n| Tercer Circuito/ Jalisco                          |  0 |  7 |  7 |  0 |\n| Cuarto Circuito/ Nuevo León                       |  2 |  2 |  3 |  1 |\n| Quinto Circuito/ Sonora                           |  0 |  1 |  0 |  1 |\n| Sexto Circuito/ Puebla                            |  0 |  3 |  3 |  0 |\n| Séptimo Circuito/ Veracruz de Ignacio de la Llave |  0 |  1 |  1 |  0 |\n| Octavo Circuito/ Coahuila de Zaragoza             |  0 |  0 |  0 |  0 |\n| Noveno Circuito/ San Luis Potosí                  |  0 |  1 |  1 |  0 |\n| Décimo Circuito/ Tabasco-Veracruz                 |  0 |  0 |  0 |  0 |\n| Decimoprimer Circuito/ Michoacán de Ocampo        |  2 |  0 |  2 |  0 |\n| Decimosegundo Circuito/ Sinaloa                   |  0 |  1 |  0 |  1 |\n| Decimotercer Circuito/ Oaxaca                     |  0 |  0 |  0 |  0 |\n| Decimocuarto Circuito/ Yucatán                    |  0 |  0 |  0 |  0 |\n| Decimoquinto Circuito/ Baja California            |  0 |  0 |  0 |  0 |\n| Decimosexto Circuito/ Guanajuato                  |  0 |  0 |  0 |  0 |\n| Decimoséptimo Circuito/ Chihuahua                 |  0 |  3 |  2 |  1 |\n| Decimoctavo Circuito/ Morelos                     |  1 |  0 |  0 |  1 |\n| Decimonoveno Circuito/ Tamaulipas                 |  0 |  2 |  0 |  2 |\n| Vigésimo Circuito/ Chiapas                        |  0 |  0 |  0 |  0 |\n| Vigésimo Primer Circuito/ Guerrero                |  0 |  1 |  1 |  0 |\n| Vigésimo Segundo Circuito/ Querétaro              |  0 |  0 |  0 |  0 |\n| Vigésimo Tercer Circuito/ Zacatecas               |  0 |  0 |  0 |  0 |\n| Vigésimo Cuarto Circuito/ Nayarit                 |  0 |  0 |  0 |  0 |\n| Vigésimo Quinto Circuito/ Durango                 |  0 |  0 |  0 |  0 |\n| Vigésimo Sexto Circuito/ Baja California Sur      |  0 |  0 |  0 |  0 |\n| Vigésimo Séptimo Circuito/ Quintana Roo           |  0 |  0 |  0 |  0 |\n| Vigésimo Octavo Circuito/ Tlaxcala                |  0 |  0 |  0 |  0 |\n| Vigésimo Noveno Circuito/ Hidalgo                 |  0 |  0 |  0 |  0 |\n| Trigésimo Circuito/ Aguascalientes                |  0 |  1 |  0 |  1 |\n| Trigésimo Primer Circuito/ Campeche               |  1 |  2 |  1 |  2 |\n| Trigésimo Segundo Circuito/ Colima                |  0 |  0 |  0 |  0 |\n| Total                                             | 10 | 34 | 29 | 15 |\n\n",
            "text/plain": [
              "   circuito                                          existencia_inicial\n",
              "1  Primer Circuito/ Ciudad de México                  0                \n",
              "2  Segundo Circuito/ México                           4                \n",
              "3  Tercer Circuito/ Jalisco                           0                \n",
              "4  Cuarto Circuito/ Nuevo León                        2                \n",
              "5  Quinto Circuito/ Sonora                            0                \n",
              "6  Sexto Circuito/ Puebla                             0                \n",
              "7  Séptimo Circuito/ Veracruz de Ignacio de la Llave  0                \n",
              "8  Octavo Circuito/ Coahuila de Zaragoza              0                \n",
              "9  Noveno Circuito/ San Luis Potosí                   0                \n",
              "10 Décimo Circuito/ Tabasco-Veracruz                  0                \n",
              "11 Decimoprimer Circuito/ Michoacán de Ocampo         2                \n",
              "12 Decimosegundo Circuito/ Sinaloa                    0                \n",
              "13 Decimotercer Circuito/ Oaxaca                      0                \n",
              "14 Decimocuarto Circuito/ Yucatán                     0                \n",
              "15 Decimoquinto Circuito/ Baja California             0                \n",
              "16 Decimosexto Circuito/ Guanajuato                   0                \n",
              "17 Decimoséptimo Circuito/ Chihuahua                  0                \n",
              "18 Decimoctavo Circuito/ Morelos                      1                \n",
              "19 Decimonoveno Circuito/ Tamaulipas                  0                \n",
              "20 Vigésimo Circuito/ Chiapas                         0                \n",
              "21 Vigésimo Primer Circuito/ Guerrero                 0                \n",
              "22 Vigésimo Segundo Circuito/ Querétaro               0                \n",
              "23 Vigésimo Tercer Circuito/ Zacatecas                0                \n",
              "24 Vigésimo Cuarto Circuito/ Nayarit                  0                \n",
              "25 Vigésimo Quinto Circuito/ Durango                  0                \n",
              "26 Vigésimo Sexto Circuito/ Baja California Sur       0                \n",
              "27 Vigésimo Séptimo Circuito/ Quintana Roo            0                \n",
              "28 Vigésimo Octavo Circuito/ Tlaxcala                 0                \n",
              "29 Vigésimo Noveno Circuito/ Hidalgo                  0                \n",
              "30 Trigésimo Circuito/ Aguascalientes                 0                \n",
              "31 Trigésimo Primer Circuito/ Campeche                1                \n",
              "32 Trigésimo Segundo Circuito/ Colima                 0                \n",
              "33 Total                                             10                \n",
              "   ingresos egresos Existencia_final\n",
              "1   1        0       1              \n",
              "2   8        8       4              \n",
              "3   7        7       0              \n",
              "4   2        3       1              \n",
              "5   1        0       1              \n",
              "6   3        3       0              \n",
              "7   1        1       0              \n",
              "8   0        0       0              \n",
              "9   1        1       0              \n",
              "10  0        0       0              \n",
              "11  0        2       0              \n",
              "12  1        0       1              \n",
              "13  0        0       0              \n",
              "14  0        0       0              \n",
              "15  0        0       0              \n",
              "16  0        0       0              \n",
              "17  3        2       1              \n",
              "18  0        0       1              \n",
              "19  2        0       2              \n",
              "20  0        0       0              \n",
              "21  1        1       0              \n",
              "22  0        0       0              \n",
              "23  0        0       0              \n",
              "24  0        0       0              \n",
              "25  0        0       0              \n",
              "26  0        0       0              \n",
              "27  0        0       0              \n",
              "28  0        0       0              \n",
              "29  0        0       0              \n",
              "30  1        0       1              \n",
              "31  2        1       2              \n",
              "32  0        0       0              \n",
              "33 34       29      15              "
            ]
          },
          "metadata": {
            "tags": []
          }
        }
      ]
    },
    {
      "cell_type": "code",
      "metadata": {
        "colab": {
          "base_uri": "https://localhost:8080/"
        },
        "id": "vfOjlRnRj7qV",
        "outputId": "b2ebca5c-4a89-451b-f88f-244369a0abfb"
      },
      "source": [
        "#Varios\n",
        "\n",
        "cubo %>%\n",
        "filter(tp_organo == \"Tribunales Colegiados de Circuito\") %>%\n",
        "filter(tp_asunto %in% c(\"varios\")) %>%\n",
        "mutate(egresos = egresos + egresos_acuerdo) %>% # egresos + egresos por acuerdo?\n",
        "select(circuito, existencia_inicial, ingresos, egresos, Existencia_final) %>%\n",
        "mutate(circuito = factor(circuito, levels = orden_circuitos)) %>%\n",
        "group_by(circuito) %>%\n",
        "summarise_all(list(sum))%>%\n",
        "#filter(!is.na(existencia_inicial))  %>%\n",
        "adorn_totals()"
      ],
      "execution_count": null,
      "outputs": [
        {
          "output_type": "display_data",
          "data": {
            "text/html": [
              "<table class=\"dataframe\">\n",
              "<caption>A tabyl: 33 × 5</caption>\n",
              "<thead>\n",
              "\t<tr><th scope=col>circuito</th><th scope=col>existencia_inicial</th><th scope=col>ingresos</th><th scope=col>egresos</th><th scope=col>Existencia_final</th></tr>\n",
              "\t<tr><th scope=col>&lt;chr&gt;</th><th scope=col>&lt;int&gt;</th><th scope=col>&lt;int&gt;</th><th scope=col>&lt;int&gt;</th><th scope=col>&lt;int&gt;</th></tr>\n",
              "</thead>\n",
              "<tbody>\n",
              "\t<tr><td>Primer Circuito/ Ciudad de México                </td><td> 12</td><td>165</td><td>129</td><td> 48</td></tr>\n",
              "\t<tr><td>Segundo Circuito/ México                         </td><td>  6</td><td>118</td><td>100</td><td> 24</td></tr>\n",
              "\t<tr><td>Tercer Circuito/ Jalisco                         </td><td> 11</td><td>136</td><td>111</td><td> 36</td></tr>\n",
              "\t<tr><td>Cuarto Circuito/ Nuevo León                      </td><td>  3</td><td> 45</td><td> 45</td><td>  3</td></tr>\n",
              "\t<tr><td>Quinto Circuito/ Sonora                          </td><td>  3</td><td>  2</td><td>  1</td><td>  4</td></tr>\n",
              "\t<tr><td>Sexto Circuito/ Puebla                           </td><td>  2</td><td> 43</td><td> 39</td><td>  6</td></tr>\n",
              "\t<tr><td>Séptimo Circuito/ Veracruz de Ignacio de la Llave</td><td>  0</td><td>  3</td><td>  1</td><td>  2</td></tr>\n",
              "\t<tr><td>Octavo Circuito/ Coahuila de Zaragoza            </td><td>  6</td><td> 32</td><td> 13</td><td> 25</td></tr>\n",
              "\t<tr><td>Noveno Circuito/ San Luis Potosí                 </td><td>  0</td><td>  5</td><td>  5</td><td>  0</td></tr>\n",
              "\t<tr><td>Décimo Circuito/ Tabasco-Veracruz                </td><td>  8</td><td> 11</td><td> 11</td><td>  8</td></tr>\n",
              "\t<tr><td>Decimoprimer Circuito/ Michoacán de Ocampo       </td><td>  1</td><td> 18</td><td> 19</td><td>  0</td></tr>\n",
              "\t<tr><td>Decimosegundo Circuito/ Sinaloa                  </td><td> 11</td><td>  4</td><td> 10</td><td>  5</td></tr>\n",
              "\t<tr><td>Decimotercer Circuito/ Oaxaca                    </td><td>  1</td><td> 12</td><td> 11</td><td>  2</td></tr>\n",
              "\t<tr><td>Decimocuarto Circuito/ Yucatán                   </td><td>  4</td><td> 33</td><td> 35</td><td>  2</td></tr>\n",
              "\t<tr><td>Decimoquinto Circuito/ Baja California           </td><td>  1</td><td>  9</td><td>  5</td><td>  5</td></tr>\n",
              "\t<tr><td>Decimosexto Circuito/ Guanajuato                 </td><td>  9</td><td> 25</td><td> 22</td><td> 12</td></tr>\n",
              "\t<tr><td>Decimoséptimo Circuito/ Chihuahua                </td><td> 10</td><td> 74</td><td> 65</td><td> 19</td></tr>\n",
              "\t<tr><td>Decimoctavo Circuito/ Morelos                    </td><td>  1</td><td>  9</td><td>  7</td><td>  3</td></tr>\n",
              "\t<tr><td>Decimonoveno Circuito/ Tamaulipas                </td><td>  2</td><td> 22</td><td> 12</td><td> 12</td></tr>\n",
              "\t<tr><td>Vigésimo Circuito/ Chiapas                       </td><td>  2</td><td>  5</td><td>  3</td><td>  4</td></tr>\n",
              "\t<tr><td>Vigésimo Primer Circuito/ Guerrero               </td><td>  1</td><td> 10</td><td>  9</td><td>  2</td></tr>\n",
              "\t<tr><td>Vigésimo Segundo Circuito/ Querétaro             </td><td>  0</td><td> 46</td><td> 45</td><td>  1</td></tr>\n",
              "\t<tr><td>Vigésimo Tercer Circuito/ Zacatecas              </td><td>  0</td><td>  0</td><td>  0</td><td>  0</td></tr>\n",
              "\t<tr><td>Vigésimo Cuarto Circuito/ Nayarit                </td><td>  1</td><td>  5</td><td>  6</td><td>  0</td></tr>\n",
              "\t<tr><td>Vigésimo Quinto Circuito/ Durango                </td><td>  6</td><td> 39</td><td> 39</td><td>  6</td></tr>\n",
              "\t<tr><td>Vigésimo Sexto Circuito/ Baja California Sur     </td><td>  0</td><td>  0</td><td>  0</td><td>  0</td></tr>\n",
              "\t<tr><td>Vigésimo Séptimo Circuito/ Quintana Roo          </td><td>  0</td><td>  1</td><td>  1</td><td>  0</td></tr>\n",
              "\t<tr><td>Vigésimo Octavo Circuito/ Tlaxcala               </td><td>  0</td><td>  0</td><td>  0</td><td>  0</td></tr>\n",
              "\t<tr><td>Vigésimo Noveno Circuito/ Hidalgo                </td><td>  2</td><td>  2</td><td>  3</td><td>  1</td></tr>\n",
              "\t<tr><td>Trigésimo Circuito/ Aguascalientes               </td><td>  0</td><td>  3</td><td>  3</td><td>  0</td></tr>\n",
              "\t<tr><td>Trigésimo Primer Circuito/ Campeche              </td><td>  0</td><td>  5</td><td>  2</td><td>  3</td></tr>\n",
              "\t<tr><td>Trigésimo Segundo Circuito/ Colima               </td><td>  0</td><td>  0</td><td>  0</td><td>  0</td></tr>\n",
              "\t<tr><td>Total                                            </td><td>103</td><td>882</td><td>752</td><td>233</td></tr>\n",
              "</tbody>\n",
              "</table>\n"
            ],
            "text/latex": "A tabyl: 33 × 5\n\\begin{tabular}{lllll}\n circuito & existencia\\_inicial & ingresos & egresos & Existencia\\_final\\\\\n <chr> & <int> & <int> & <int> & <int>\\\\\n\\hline\n\t Primer Circuito/ Ciudad de México                 &  12 & 165 & 129 &  48\\\\\n\t Segundo Circuito/ México                          &   6 & 118 & 100 &  24\\\\\n\t Tercer Circuito/ Jalisco                          &  11 & 136 & 111 &  36\\\\\n\t Cuarto Circuito/ Nuevo León                       &   3 &  45 &  45 &   3\\\\\n\t Quinto Circuito/ Sonora                           &   3 &   2 &   1 &   4\\\\\n\t Sexto Circuito/ Puebla                            &   2 &  43 &  39 &   6\\\\\n\t Séptimo Circuito/ Veracruz de Ignacio de la Llave &   0 &   3 &   1 &   2\\\\\n\t Octavo Circuito/ Coahuila de Zaragoza             &   6 &  32 &  13 &  25\\\\\n\t Noveno Circuito/ San Luis Potosí                  &   0 &   5 &   5 &   0\\\\\n\t Décimo Circuito/ Tabasco-Veracruz                 &   8 &  11 &  11 &   8\\\\\n\t Decimoprimer Circuito/ Michoacán de Ocampo        &   1 &  18 &  19 &   0\\\\\n\t Decimosegundo Circuito/ Sinaloa                   &  11 &   4 &  10 &   5\\\\\n\t Decimotercer Circuito/ Oaxaca                     &   1 &  12 &  11 &   2\\\\\n\t Decimocuarto Circuito/ Yucatán                    &   4 &  33 &  35 &   2\\\\\n\t Decimoquinto Circuito/ Baja California            &   1 &   9 &   5 &   5\\\\\n\t Decimosexto Circuito/ Guanajuato                  &   9 &  25 &  22 &  12\\\\\n\t Decimoséptimo Circuito/ Chihuahua                 &  10 &  74 &  65 &  19\\\\\n\t Decimoctavo Circuito/ Morelos                     &   1 &   9 &   7 &   3\\\\\n\t Decimonoveno Circuito/ Tamaulipas                 &   2 &  22 &  12 &  12\\\\\n\t Vigésimo Circuito/ Chiapas                        &   2 &   5 &   3 &   4\\\\\n\t Vigésimo Primer Circuito/ Guerrero                &   1 &  10 &   9 &   2\\\\\n\t Vigésimo Segundo Circuito/ Querétaro              &   0 &  46 &  45 &   1\\\\\n\t Vigésimo Tercer Circuito/ Zacatecas               &   0 &   0 &   0 &   0\\\\\n\t Vigésimo Cuarto Circuito/ Nayarit                 &   1 &   5 &   6 &   0\\\\\n\t Vigésimo Quinto Circuito/ Durango                 &   6 &  39 &  39 &   6\\\\\n\t Vigésimo Sexto Circuito/ Baja California Sur      &   0 &   0 &   0 &   0\\\\\n\t Vigésimo Séptimo Circuito/ Quintana Roo           &   0 &   1 &   1 &   0\\\\\n\t Vigésimo Octavo Circuito/ Tlaxcala                &   0 &   0 &   0 &   0\\\\\n\t Vigésimo Noveno Circuito/ Hidalgo                 &   2 &   2 &   3 &   1\\\\\n\t Trigésimo Circuito/ Aguascalientes                &   0 &   3 &   3 &   0\\\\\n\t Trigésimo Primer Circuito/ Campeche               &   0 &   5 &   2 &   3\\\\\n\t Trigésimo Segundo Circuito/ Colima                &   0 &   0 &   0 &   0\\\\\n\t Total                                             & 103 & 882 & 752 & 233\\\\\n\\end{tabular}\n",
            "text/markdown": "\nA tabyl: 33 × 5\n\n| circuito &lt;chr&gt; | existencia_inicial &lt;int&gt; | ingresos &lt;int&gt; | egresos &lt;int&gt; | Existencia_final &lt;int&gt; |\n|---|---|---|---|---|\n| Primer Circuito/ Ciudad de México                 |  12 | 165 | 129 |  48 |\n| Segundo Circuito/ México                          |   6 | 118 | 100 |  24 |\n| Tercer Circuito/ Jalisco                          |  11 | 136 | 111 |  36 |\n| Cuarto Circuito/ Nuevo León                       |   3 |  45 |  45 |   3 |\n| Quinto Circuito/ Sonora                           |   3 |   2 |   1 |   4 |\n| Sexto Circuito/ Puebla                            |   2 |  43 |  39 |   6 |\n| Séptimo Circuito/ Veracruz de Ignacio de la Llave |   0 |   3 |   1 |   2 |\n| Octavo Circuito/ Coahuila de Zaragoza             |   6 |  32 |  13 |  25 |\n| Noveno Circuito/ San Luis Potosí                  |   0 |   5 |   5 |   0 |\n| Décimo Circuito/ Tabasco-Veracruz                 |   8 |  11 |  11 |   8 |\n| Decimoprimer Circuito/ Michoacán de Ocampo        |   1 |  18 |  19 |   0 |\n| Decimosegundo Circuito/ Sinaloa                   |  11 |   4 |  10 |   5 |\n| Decimotercer Circuito/ Oaxaca                     |   1 |  12 |  11 |   2 |\n| Decimocuarto Circuito/ Yucatán                    |   4 |  33 |  35 |   2 |\n| Decimoquinto Circuito/ Baja California            |   1 |   9 |   5 |   5 |\n| Decimosexto Circuito/ Guanajuato                  |   9 |  25 |  22 |  12 |\n| Decimoséptimo Circuito/ Chihuahua                 |  10 |  74 |  65 |  19 |\n| Decimoctavo Circuito/ Morelos                     |   1 |   9 |   7 |   3 |\n| Decimonoveno Circuito/ Tamaulipas                 |   2 |  22 |  12 |  12 |\n| Vigésimo Circuito/ Chiapas                        |   2 |   5 |   3 |   4 |\n| Vigésimo Primer Circuito/ Guerrero                |   1 |  10 |   9 |   2 |\n| Vigésimo Segundo Circuito/ Querétaro              |   0 |  46 |  45 |   1 |\n| Vigésimo Tercer Circuito/ Zacatecas               |   0 |   0 |   0 |   0 |\n| Vigésimo Cuarto Circuito/ Nayarit                 |   1 |   5 |   6 |   0 |\n| Vigésimo Quinto Circuito/ Durango                 |   6 |  39 |  39 |   6 |\n| Vigésimo Sexto Circuito/ Baja California Sur      |   0 |   0 |   0 |   0 |\n| Vigésimo Séptimo Circuito/ Quintana Roo           |   0 |   1 |   1 |   0 |\n| Vigésimo Octavo Circuito/ Tlaxcala                |   0 |   0 |   0 |   0 |\n| Vigésimo Noveno Circuito/ Hidalgo                 |   2 |   2 |   3 |   1 |\n| Trigésimo Circuito/ Aguascalientes                |   0 |   3 |   3 |   0 |\n| Trigésimo Primer Circuito/ Campeche               |   0 |   5 |   2 |   3 |\n| Trigésimo Segundo Circuito/ Colima                |   0 |   0 |   0 |   0 |\n| Total                                             | 103 | 882 | 752 | 233 |\n\n",
            "text/plain": [
              "   circuito                                          existencia_inicial\n",
              "1  Primer Circuito/ Ciudad de México                  12               \n",
              "2  Segundo Circuito/ México                            6               \n",
              "3  Tercer Circuito/ Jalisco                           11               \n",
              "4  Cuarto Circuito/ Nuevo León                         3               \n",
              "5  Quinto Circuito/ Sonora                             3               \n",
              "6  Sexto Circuito/ Puebla                              2               \n",
              "7  Séptimo Circuito/ Veracruz de Ignacio de la Llave   0               \n",
              "8  Octavo Circuito/ Coahuila de Zaragoza               6               \n",
              "9  Noveno Circuito/ San Luis Potosí                    0               \n",
              "10 Décimo Circuito/ Tabasco-Veracruz                   8               \n",
              "11 Decimoprimer Circuito/ Michoacán de Ocampo          1               \n",
              "12 Decimosegundo Circuito/ Sinaloa                    11               \n",
              "13 Decimotercer Circuito/ Oaxaca                       1               \n",
              "14 Decimocuarto Circuito/ Yucatán                      4               \n",
              "15 Decimoquinto Circuito/ Baja California              1               \n",
              "16 Decimosexto Circuito/ Guanajuato                    9               \n",
              "17 Decimoséptimo Circuito/ Chihuahua                  10               \n",
              "18 Decimoctavo Circuito/ Morelos                       1               \n",
              "19 Decimonoveno Circuito/ Tamaulipas                   2               \n",
              "20 Vigésimo Circuito/ Chiapas                          2               \n",
              "21 Vigésimo Primer Circuito/ Guerrero                  1               \n",
              "22 Vigésimo Segundo Circuito/ Querétaro                0               \n",
              "23 Vigésimo Tercer Circuito/ Zacatecas                 0               \n",
              "24 Vigésimo Cuarto Circuito/ Nayarit                   1               \n",
              "25 Vigésimo Quinto Circuito/ Durango                   6               \n",
              "26 Vigésimo Sexto Circuito/ Baja California Sur        0               \n",
              "27 Vigésimo Séptimo Circuito/ Quintana Roo             0               \n",
              "28 Vigésimo Octavo Circuito/ Tlaxcala                  0               \n",
              "29 Vigésimo Noveno Circuito/ Hidalgo                   2               \n",
              "30 Trigésimo Circuito/ Aguascalientes                  0               \n",
              "31 Trigésimo Primer Circuito/ Campeche                 0               \n",
              "32 Trigésimo Segundo Circuito/ Colima                  0               \n",
              "33 Total                                             103               \n",
              "   ingresos egresos Existencia_final\n",
              "1  165      129      48             \n",
              "2  118      100      24             \n",
              "3  136      111      36             \n",
              "4   45       45       3             \n",
              "5    2        1       4             \n",
              "6   43       39       6             \n",
              "7    3        1       2             \n",
              "8   32       13      25             \n",
              "9    5        5       0             \n",
              "10  11       11       8             \n",
              "11  18       19       0             \n",
              "12   4       10       5             \n",
              "13  12       11       2             \n",
              "14  33       35       2             \n",
              "15   9        5       5             \n",
              "16  25       22      12             \n",
              "17  74       65      19             \n",
              "18   9        7       3             \n",
              "19  22       12      12             \n",
              "20   5        3       4             \n",
              "21  10        9       2             \n",
              "22  46       45       1             \n",
              "23   0        0       0             \n",
              "24   5        6       0             \n",
              "25  39       39       6             \n",
              "26   0        0       0             \n",
              "27   1        1       0             \n",
              "28   0        0       0             \n",
              "29   2        3       1             \n",
              "30   3        3       0             \n",
              "31   5        2       3             \n",
              "32   0        0       0             \n",
              "33 882      752     233             "
            ]
          },
          "metadata": {
            "tags": []
          }
        }
      ]
    },
    {
      "cell_type": "code",
      "metadata": {
        "colab": {
          "base_uri": "https://localhost:8080/"
        },
        "id": "OiaVAEcl-mvV",
        "outputId": "9cfad735-a6c7-4448-e35a-73d4629736d5"
      },
      "source": [
        "cubo %>%\n",
        "filter(tp_organo == \"Tribunales Colegiados de Circuito\") %>%\n",
        "filter(tp_asunto %in% c(\"varios\")) %>%\n",
        "mutate(egresos = egresos + egresos_acuerdo) %>% # egresos + egresos por acuerdo?\n",
        "select(circuito, existencia_inicial, ingresos, egresos, Existencia_final) %>%\n",
        "#mutate(circuito = factor(circuito, levels = orden_circuitos))   %>%\n",
        "#mutate(circuito = as.character(circuito)) %>%\n",
        "filter(grepl(\"Ciudad de México\", circuito))\n"
      ],
      "execution_count": null,
      "outputs": [
        {
          "output_type": "display_data",
          "data": {
            "text/html": [
              "<table class=\"dataframe\">\n",
              "<caption>A tibble: 8 × 5</caption>\n",
              "<thead>\n",
              "\t<tr><th scope=col>circuito</th><th scope=col>existencia_inicial</th><th scope=col>ingresos</th><th scope=col>egresos</th><th scope=col>Existencia_final</th></tr>\n",
              "\t<tr><th scope=col>&lt;chr&gt;</th><th scope=col>&lt;int&gt;</th><th scope=col>&lt;int&gt;</th><th scope=col>&lt;int&gt;</th><th scope=col>&lt;int&gt;</th></tr>\n",
              "</thead>\n",
              "<tbody>\n",
              "\t<tr><td>Primer Circuito/ Ciudad de México</td><td>0</td><td>74</td><td> 0</td><td>12</td></tr>\n",
              "\t<tr><td>Primer Circuito/ Ciudad de México</td><td>4</td><td>16</td><td> 1</td><td> 2</td></tr>\n",
              "\t<tr><td>Primer Circuito/ Ciudad de México</td><td>8</td><td>22</td><td> 0</td><td> 7</td></tr>\n",
              "\t<tr><td>Primer Circuito/ Ciudad de México</td><td>0</td><td>53</td><td> 0</td><td>27</td></tr>\n",
              "\t<tr><td>Primer Circuito/ Ciudad de México</td><td>0</td><td> 0</td><td>17</td><td> 0</td></tr>\n",
              "\t<tr><td>Primer Circuito/ Ciudad de México</td><td>0</td><td> 0</td><td>23</td><td> 0</td></tr>\n",
              "\t<tr><td>Primer Circuito/ Ciudad de México</td><td>0</td><td> 0</td><td>62</td><td> 0</td></tr>\n",
              "\t<tr><td>Primer Circuito/ Ciudad de México</td><td>0</td><td> 0</td><td>26</td><td> 0</td></tr>\n",
              "</tbody>\n",
              "</table>\n"
            ],
            "text/latex": "A tibble: 8 × 5\n\\begin{tabular}{lllll}\n circuito & existencia\\_inicial & ingresos & egresos & Existencia\\_final\\\\\n <chr> & <int> & <int> & <int> & <int>\\\\\n\\hline\n\t Primer Circuito/ Ciudad de México & 0 & 74 &  0 & 12\\\\\n\t Primer Circuito/ Ciudad de México & 4 & 16 &  1 &  2\\\\\n\t Primer Circuito/ Ciudad de México & 8 & 22 &  0 &  7\\\\\n\t Primer Circuito/ Ciudad de México & 0 & 53 &  0 & 27\\\\\n\t Primer Circuito/ Ciudad de México & 0 &  0 & 17 &  0\\\\\n\t Primer Circuito/ Ciudad de México & 0 &  0 & 23 &  0\\\\\n\t Primer Circuito/ Ciudad de México & 0 &  0 & 62 &  0\\\\\n\t Primer Circuito/ Ciudad de México & 0 &  0 & 26 &  0\\\\\n\\end{tabular}\n",
            "text/markdown": "\nA tibble: 8 × 5\n\n| circuito &lt;chr&gt; | existencia_inicial &lt;int&gt; | ingresos &lt;int&gt; | egresos &lt;int&gt; | Existencia_final &lt;int&gt; |\n|---|---|---|---|---|\n| Primer Circuito/ Ciudad de México | 0 | 74 |  0 | 12 |\n| Primer Circuito/ Ciudad de México | 4 | 16 |  1 |  2 |\n| Primer Circuito/ Ciudad de México | 8 | 22 |  0 |  7 |\n| Primer Circuito/ Ciudad de México | 0 | 53 |  0 | 27 |\n| Primer Circuito/ Ciudad de México | 0 |  0 | 17 |  0 |\n| Primer Circuito/ Ciudad de México | 0 |  0 | 23 |  0 |\n| Primer Circuito/ Ciudad de México | 0 |  0 | 62 |  0 |\n| Primer Circuito/ Ciudad de México | 0 |  0 | 26 |  0 |\n\n",
            "text/plain": [
              "  circuito                          existencia_inicial ingresos egresos\n",
              "1 Primer Circuito/ Ciudad de México 0                  74        0     \n",
              "2 Primer Circuito/ Ciudad de México 4                  16        1     \n",
              "3 Primer Circuito/ Ciudad de México 8                  22        0     \n",
              "4 Primer Circuito/ Ciudad de México 0                  53        0     \n",
              "5 Primer Circuito/ Ciudad de México 0                   0       17     \n",
              "6 Primer Circuito/ Ciudad de México 0                   0       23     \n",
              "7 Primer Circuito/ Ciudad de México 0                   0       62     \n",
              "8 Primer Circuito/ Ciudad de México 0                   0       26     \n",
              "  Existencia_final\n",
              "1 12              \n",
              "2  2              \n",
              "3  7              \n",
              "4 27              \n",
              "5  0              \n",
              "6  0              \n",
              "7  0              \n",
              "8  0              "
            ]
          },
          "metadata": {
            "tags": []
          }
        }
      ]
    },
    {
      "cell_type": "markdown",
      "metadata": {
        "id": "G0JUjt7FKl1J"
      },
      "source": [
        "### Pregunta 1.4"
      ]
    },
    {
      "cell_type": "code",
      "metadata": {
        "colab": {
          "base_uri": "https://localhost:8080/"
        },
        "id": "RcWEfgpYRDpM",
        "outputId": "37283c91-02c8-4ce4-a774-5e28e78e4567"
      },
      "source": [
        "cubo %>%\n",
        "filter(tp_organo == \"Tribunales Colegiados de Circuito\") %>%\n",
        "filter(tp_asunto == \"amparo directo\") %>%\n",
        "mutate(egresos = egresos + egresos_acuerdo) %>% # egresos + egresos por acuerdo\n",
        "select(materia_asunto, existencia_inicial, ingresos, egresos, Existencia_final) %>%\n",
        "mutate(materia_asunto = factor(materia_asunto, levels = c('Penal', \n",
        "       'Civil', 'Administrativa',  'Trabajo', \n",
        "        'Mercantil'))) %>%\n",
        "group_by(materia_asunto) %>%\n",
        "summarise_all(list(sum)) %>%\n",
        "pivot_longer(-materia_asunto, names_to = \"status\", values_to=\"valor\")%>%\n",
        "pivot_wider(names_from = materia_asunto, values_from = valor)\n"
      ],
      "execution_count": null,
      "outputs": [
        {
          "output_type": "display_data",
          "data": {
            "text/html": [
              "<table class=\"dataframe\">\n",
              "<caption>A tibble: 4 × 5</caption>\n",
              "<thead>\n",
              "\t<tr><th scope=col>status</th><th scope=col>Penal</th><th scope=col>Civil</th><th scope=col>Administrativa</th><th scope=col>Trabajo</th></tr>\n",
              "\t<tr><th scope=col>&lt;chr&gt;</th><th scope=col>&lt;int&gt;</th><th scope=col>&lt;int&gt;</th><th scope=col>&lt;int&gt;</th><th scope=col>&lt;int&gt;</th></tr>\n",
              "</thead>\n",
              "<tbody>\n",
              "\t<tr><td>existencia_inicial</td><td>6172</td><td>21103</td><td>20123</td><td>36206</td></tr>\n",
              "\t<tr><td>ingresos          </td><td>7797</td><td>35326</td><td>23092</td><td>45055</td></tr>\n",
              "\t<tr><td>egresos           </td><td>8115</td><td>37322</td><td>28298</td><td>51406</td></tr>\n",
              "\t<tr><td>Existencia_final  </td><td>5854</td><td>19107</td><td>14940</td><td>29855</td></tr>\n",
              "</tbody>\n",
              "</table>\n"
            ],
            "text/latex": "A tibble: 4 × 5\n\\begin{tabular}{lllll}\n status & Penal & Civil & Administrativa & Trabajo\\\\\n <chr> & <int> & <int> & <int> & <int>\\\\\n\\hline\n\t existencia\\_inicial & 6172 & 21103 & 20123 & 36206\\\\\n\t ingresos           & 7797 & 35326 & 23092 & 45055\\\\\n\t egresos            & 8115 & 37322 & 28298 & 51406\\\\\n\t Existencia\\_final   & 5854 & 19107 & 14940 & 29855\\\\\n\\end{tabular}\n",
            "text/markdown": "\nA tibble: 4 × 5\n\n| status &lt;chr&gt; | Penal &lt;int&gt; | Civil &lt;int&gt; | Administrativa &lt;int&gt; | Trabajo &lt;int&gt; |\n|---|---|---|---|---|\n| existencia_inicial | 6172 | 21103 | 20123 | 36206 |\n| ingresos           | 7797 | 35326 | 23092 | 45055 |\n| egresos            | 8115 | 37322 | 28298 | 51406 |\n| Existencia_final   | 5854 | 19107 | 14940 | 29855 |\n\n",
            "text/plain": [
              "  status             Penal Civil Administrativa Trabajo\n",
              "1 existencia_inicial 6172  21103 20123          36206  \n",
              "2 ingresos           7797  35326 23092          45055  \n",
              "3 egresos            8115  37322 28298          51406  \n",
              "4 Existencia_final   5854  19107 14940          29855  "
            ]
          },
          "metadata": {
            "tags": []
          }
        }
      ]
    },
    {
      "cell_type": "markdown",
      "metadata": {
        "id": "DYP94zRiKfCK"
      },
      "source": [
        "### Pregunta 1.5"
      ]
    },
    {
      "cell_type": "code",
      "metadata": {
        "colab": {
          "base_uri": "https://localhost:8080/"
        },
        "id": "NxXW2BZRSD9i",
        "outputId": "4445c66b-78c5-426c-e91f-4e0d90ff522e"
      },
      "source": [
        "# amparo directo\n",
        "\n",
        "cubo %>%\n",
        "filter(tp_organo == \"Tribunales Colegiados de Circuito\") %>%\n",
        "filter(tp_asunto == \"amparo directo\")  %>%\n",
        "mutate(egresos = egresos + egresos_acuerdo) %>% # egresos + egresos por acuerdo?\n",
        "select(materia_asunto, sentido,  egresos, egresos_acuerdo)  %>%\n",
        "mutate(materia_asunto = factor(materia_asunto, levels = c('Penal', \n",
        "       'Civil', 'Administrativa',  'Trabajo', \n",
        "        'Mercantil'))) %>%\n",
        "mutate(materia_asunto = as.character(materia_asunto))%>%\n",
        "group_by(materia_asunto, sentido) %>%\n",
        "summarise_all(list(sum)) %>%\n",
        "mutate(sentido = case_when(\n",
        "  nchar(sentido)<1 ~ \"Egreso por Acuerdo\",\n",
        "  TRUE ~ sentido\n",
        ")) %>%\n",
        "mutate(egresos = case_when(\n",
        "  sentido == \"Egreso por Acuerdo\" ~ egresos_acuerdo,\n",
        "  TRUE ~ egresos\n",
        ")) %>%\n",
        "select(-egresos_acuerdo)  %>%\n",
        "pivot_wider(materia_asunto, names_from = sentido, values_from = egresos)\n"
      ],
      "execution_count": null,
      "outputs": [
        {
          "output_type": "display_data",
          "data": {
            "text/html": [
              "<table class=\"dataframe\">\n",
              "<caption>A grouped_df: 4 × 7</caption>\n",
              "<thead>\n",
              "\t<tr><th scope=col>materia_asunto</th><th scope=col>Egreso por Acuerdo</th><th scope=col>Ampara</th><th scope=col>Desecha</th><th scope=col>Incompetencia</th><th scope=col>No ampara</th><th scope=col>Sobreseimiento</th></tr>\n",
              "\t<tr><th scope=col>&lt;chr&gt;</th><th scope=col>&lt;int&gt;</th><th scope=col>&lt;int&gt;</th><th scope=col>&lt;int&gt;</th><th scope=col>&lt;int&gt;</th><th scope=col>&lt;int&gt;</th><th scope=col>&lt;int&gt;</th></tr>\n",
              "</thead>\n",
              "<tbody>\n",
              "\t<tr><td>Administrativa</td><td>213</td><td> 7905</td><td>1365</td><td>1069</td><td>16670</td><td>1076</td></tr>\n",
              "\t<tr><td>Civil         </td><td>  1</td><td> 7858</td><td>2345</td><td>5533</td><td>19919</td><td>1666</td></tr>\n",
              "\t<tr><td>Penal         </td><td>  1</td><td> 3594</td><td> 626</td><td> 699</td><td> 2877</td><td> 318</td></tr>\n",
              "\t<tr><td>Trabajo       </td><td> 95</td><td>23678</td><td>2750</td><td>1023</td><td>19932</td><td>3928</td></tr>\n",
              "</tbody>\n",
              "</table>\n"
            ],
            "text/latex": "A grouped\\_df: 4 × 7\n\\begin{tabular}{lllllll}\n materia\\_asunto & Egreso por Acuerdo & Ampara & Desecha & Incompetencia & No ampara & Sobreseimiento\\\\\n <chr> & <int> & <int> & <int> & <int> & <int> & <int>\\\\\n\\hline\n\t Administrativa & 213 &  7905 & 1365 & 1069 & 16670 & 1076\\\\\n\t Civil          &   1 &  7858 & 2345 & 5533 & 19919 & 1666\\\\\n\t Penal          &   1 &  3594 &  626 &  699 &  2877 &  318\\\\\n\t Trabajo        &  95 & 23678 & 2750 & 1023 & 19932 & 3928\\\\\n\\end{tabular}\n",
            "text/markdown": "\nA grouped_df: 4 × 7\n\n| materia_asunto &lt;chr&gt; | Egreso por Acuerdo &lt;int&gt; | Ampara &lt;int&gt; | Desecha &lt;int&gt; | Incompetencia &lt;int&gt; | No ampara &lt;int&gt; | Sobreseimiento &lt;int&gt; |\n|---|---|---|---|---|---|---|\n| Administrativa | 213 |  7905 | 1365 | 1069 | 16670 | 1076 |\n| Civil          |   1 |  7858 | 2345 | 5533 | 19919 | 1666 |\n| Penal          |   1 |  3594 |  626 |  699 |  2877 |  318 |\n| Trabajo        |  95 | 23678 | 2750 | 1023 | 19932 | 3928 |\n\n",
            "text/plain": [
              "  materia_asunto Egreso por Acuerdo Ampara Desecha Incompetencia No ampara\n",
              "1 Administrativa 213                 7905  1365    1069          16670    \n",
              "2 Civil            1                 7858  2345    5533          19919    \n",
              "3 Penal            1                 3594   626     699           2877    \n",
              "4 Trabajo         95                23678  2750    1023          19932    \n",
              "  Sobreseimiento\n",
              "1 1076          \n",
              "2 1666          \n",
              "3  318          \n",
              "4 3928          "
            ]
          },
          "metadata": {
            "tags": []
          }
        }
      ]
    },
    {
      "cell_type": "code",
      "metadata": {
        "colab": {
          "base_uri": "https://localhost:8080/"
        },
        "id": "dOYVOPACSKuV",
        "outputId": "9507fef4-1c06-4a39-bf68-a3c0515e396e"
      },
      "source": [
        "# amparo en revisión\n",
        "\n",
        "#### No se pide por materia por lo que se omitió el grupo materia\n",
        "cubo %>%\n",
        "filter(tp_organo == \"Tribunales Colegiados de Circuito\") %>%\n",
        "filter(tp_asunto == \"amparo en revisión\")  %>%\n",
        "mutate(egresos = egresos + egresos_acuerdo) %>% # egresos + egresos por acuerdo?\n",
        "select(sentido,  egresos, egresos_acuerdo)  %>%\n",
        "group_by(sentido) %>%\n",
        "summarise_all(list(sum)) %>%\n",
        "mutate(sentido = case_when(\n",
        "  nchar(sentido)<1 ~ \"Egreso por Acuerdo\",\n",
        "  TRUE ~ sentido\n",
        ")) %>%\n",
        "mutate(egresos = case_when(\n",
        "  sentido == \"Egreso por Acuerdo\" ~ egresos_acuerdo,\n",
        "  TRUE ~ egresos\n",
        ")) %>%\n",
        "select(-egresos_acuerdo)  %>%\n",
        "pivot_wider(names_from = sentido, values_from = egresos)\n"
      ],
      "execution_count": null,
      "outputs": [
        {
          "output_type": "display_data",
          "data": {
            "text/html": [
              "<table class=\"dataframe\">\n",
              "<caption>A tibble: 1 × 8</caption>\n",
              "<thead>\n",
              "\t<tr><th scope=col>Egreso por Acuerdo</th><th scope=col>Confirma</th><th scope=col>Decreta caducidad</th><th scope=col>Desecha</th><th scope=col>Incompetencia</th><th scope=col>Modifica</th><th scope=col>Revoca o revoca y ordena reposición de procedimiento</th><th scope=col>Sin materia</th></tr>\n",
              "\t<tr><th scope=col>&lt;int&gt;</th><th scope=col>&lt;int&gt;</th><th scope=col>&lt;int&gt;</th><th scope=col>&lt;int&gt;</th><th scope=col>&lt;int&gt;</th><th scope=col>&lt;int&gt;</th><th scope=col>&lt;int&gt;</th><th scope=col>&lt;int&gt;</th></tr>\n",
              "</thead>\n",
              "<tbody>\n",
              "\t<tr><td>243</td><td>38890</td><td>1</td><td>5461</td><td>2190</td><td>5634</td><td>11682</td><td>3522</td></tr>\n",
              "</tbody>\n",
              "</table>\n"
            ],
            "text/latex": "A tibble: 1 × 8\n\\begin{tabular}{llllllll}\n Egreso por Acuerdo & Confirma & Decreta caducidad & Desecha & Incompetencia & Modifica & Revoca o revoca y ordena reposición de procedimiento & Sin materia\\\\\n <int> & <int> & <int> & <int> & <int> & <int> & <int> & <int>\\\\\n\\hline\n\t 243 & 38890 & 1 & 5461 & 2190 & 5634 & 11682 & 3522\\\\\n\\end{tabular}\n",
            "text/markdown": "\nA tibble: 1 × 8\n\n| Egreso por Acuerdo &lt;int&gt; | Confirma &lt;int&gt; | Decreta caducidad &lt;int&gt; | Desecha &lt;int&gt; | Incompetencia &lt;int&gt; | Modifica &lt;int&gt; | Revoca o revoca y ordena reposición de procedimiento &lt;int&gt; | Sin materia &lt;int&gt; |\n|---|---|---|---|---|---|---|---|\n| 243 | 38890 | 1 | 5461 | 2190 | 5634 | 11682 | 3522 |\n\n",
            "text/plain": [
              "  Egreso por Acuerdo Confirma Decreta caducidad Desecha Incompetencia Modifica\n",
              "1 243                38890    1                 5461    2190          5634    \n",
              "  Revoca o revoca y ordena reposición de procedimiento Sin materia\n",
              "1 11682                                                3522       "
            ]
          },
          "metadata": {
            "tags": []
          }
        }
      ]
    },
    {
      "cell_type": "code",
      "metadata": {
        "colab": {
          "base_uri": "https://localhost:8080/"
        },
        "id": "osi_l3B0SOc_",
        "outputId": "3142ab23-143d-49be-f694-a7fefa44afb9"
      },
      "source": [
        "# Conflictos competenciales\n",
        "\n",
        "#### No se pide por materia por lo que se omitió el grupo materia\n",
        "cubo %>%\n",
        "filter(tp_organo == \"Tribunales Colegiados de Circuito\") %>%\n",
        "filter(tp_asunto == \"conflictos competenciales\")  %>%\n",
        "mutate(egresos = egresos + egresos_acuerdo) %>% # egresos + egresos por acuerdo?\n",
        "select(sentido,  egresos, egresos_acuerdo)  %>%\n",
        "group_by(sentido) %>%\n",
        "summarise_all(list(sum)) %>%\n",
        "mutate(sentido = case_when(\n",
        "  nchar(sentido)<1 ~ \"Egreso por Acuerdo\",\n",
        "  TRUE ~ sentido\n",
        ")) %>%\n",
        "mutate(egresos = case_when(\n",
        "  sentido == \"Egreso por Acuerdo\" ~ egresos_acuerdo,\n",
        "  TRUE ~ egresos\n",
        ")) %>%\n",
        "select(-egresos_acuerdo)  %>%\n",
        "pivot_wider(names_from = sentido, values_from = egresos)\n"
      ],
      "execution_count": null,
      "outputs": [
        {
          "output_type": "display_data",
          "data": {
            "text/html": [
              "<table class=\"dataframe\">\n",
              "<caption>A tibble: 1 × 5</caption>\n",
              "<thead>\n",
              "\t<tr><th scope=col>Egreso por Acuerdo</th><th scope=col>Competente el requerido</th><th scope=col>Competente el requirente</th><th scope=col>Competente órgano jurisdiccional diferente</th><th scope=col>Incompetencia</th></tr>\n",
              "\t<tr><th scope=col>&lt;int&gt;</th><th scope=col>&lt;int&gt;</th><th scope=col>&lt;int&gt;</th><th scope=col>&lt;int&gt;</th><th scope=col>&lt;int&gt;</th></tr>\n",
              "</thead>\n",
              "<tbody>\n",
              "\t<tr><td>4</td><td>844</td><td>1165</td><td>92</td><td>185</td></tr>\n",
              "</tbody>\n",
              "</table>\n"
            ],
            "text/latex": "A tibble: 1 × 5\n\\begin{tabular}{lllll}\n Egreso por Acuerdo & Competente el requerido & Competente el requirente & Competente órgano jurisdiccional diferente & Incompetencia\\\\\n <int> & <int> & <int> & <int> & <int>\\\\\n\\hline\n\t 4 & 844 & 1165 & 92 & 185\\\\\n\\end{tabular}\n",
            "text/markdown": "\nA tibble: 1 × 5\n\n| Egreso por Acuerdo &lt;int&gt; | Competente el requerido &lt;int&gt; | Competente el requirente &lt;int&gt; | Competente órgano jurisdiccional diferente &lt;int&gt; | Incompetencia &lt;int&gt; |\n|---|---|---|---|---|\n| 4 | 844 | 1165 | 92 | 185 |\n\n",
            "text/plain": [
              "  Egreso por Acuerdo Competente el requerido Competente el requirente\n",
              "1 4                  844                     1165                    \n",
              "  Competente órgano jurisdiccional diferente Incompetencia\n",
              "1 92                                         185          "
            ]
          },
          "metadata": {
            "tags": []
          }
        }
      ]
    },
    {
      "cell_type": "code",
      "metadata": {
        "colab": {
          "base_uri": "https://localhost:8080/"
        },
        "id": "o1J0BFqLthOA",
        "outputId": "7d036d27-cc87-4cee-bb67-01c7d164a5be"
      },
      "source": [
        "# Impedimentos\n",
        "\n",
        "#### No se pide por materia por lo que se omitió el grupo materia\n",
        "cubo %>%\n",
        "filter(tp_organo == \"Tribunales Colegiados de Circuito\") %>%\n",
        "filter(tp_asunto == \"impedimentos\")  %>%\n",
        "mutate(egresos = egresos + egresos_acuerdo) %>% # egresos + egresos por acuerdo?\n",
        "select(sentido,  egresos, egresos_acuerdo)  %>%\n",
        "group_by(sentido) %>%\n",
        "summarise_all(list(sum)) %>%\n",
        "mutate(sentido = case_when(\n",
        "  nchar(sentido)<1 ~ \"Egreso por Acuerdo\",\n",
        "  TRUE ~ sentido\n",
        ")) %>%\n",
        "mutate(egresos = case_when(\n",
        "  sentido == \"Egreso por Acuerdo\" ~ egresos_acuerdo,\n",
        "  TRUE ~ egresos\n",
        ")) %>%\n",
        "select(-egresos_acuerdo)  %>%\n",
        "pivot_wider(names_from = sentido, values_from = egresos)"
      ],
      "execution_count": null,
      "outputs": [
        {
          "output_type": "display_data",
          "data": {
            "text/html": [
              "<table class=\"dataframe\">\n",
              "<caption>A tibble: 1 × 5</caption>\n",
              "<thead>\n",
              "\t<tr><th scope=col>Egreso por Acuerdo</th><th scope=col>Fundado</th><th scope=col>Incompetencia</th><th scope=col>Infundado</th><th scope=col>Sin materia</th></tr>\n",
              "\t<tr><th scope=col>&lt;int&gt;</th><th scope=col>&lt;int&gt;</th><th scope=col>&lt;int&gt;</th><th scope=col>&lt;int&gt;</th><th scope=col>&lt;int&gt;</th></tr>\n",
              "</thead>\n",
              "<tbody>\n",
              "\t<tr><td>12</td><td>967</td><td>167</td><td>320</td><td>423</td></tr>\n",
              "</tbody>\n",
              "</table>\n"
            ],
            "text/latex": "A tibble: 1 × 5\n\\begin{tabular}{lllll}\n Egreso por Acuerdo & Fundado & Incompetencia & Infundado & Sin materia\\\\\n <int> & <int> & <int> & <int> & <int>\\\\\n\\hline\n\t 12 & 967 & 167 & 320 & 423\\\\\n\\end{tabular}\n",
            "text/markdown": "\nA tibble: 1 × 5\n\n| Egreso por Acuerdo &lt;int&gt; | Fundado &lt;int&gt; | Incompetencia &lt;int&gt; | Infundado &lt;int&gt; | Sin materia &lt;int&gt; |\n|---|---|---|---|---|\n| 12 | 967 | 167 | 320 | 423 |\n\n",
            "text/plain": [
              "  Egreso por Acuerdo Fundado Incompetencia Infundado Sin materia\n",
              "1 12                 967     167           320       423        "
            ]
          },
          "metadata": {
            "tags": []
          }
        }
      ]
    },
    {
      "cell_type": "code",
      "metadata": {
        "colab": {
          "base_uri": "https://localhost:8080/"
        },
        "id": "-vBeaAxC3IoL",
        "outputId": "312666be-a8ea-4484-b2b9-8956b1282a12"
      },
      "source": [
        "# \"revisión contenciosa administrativa\"\n",
        "\n",
        "#### No se pide por materia por lo que se omitió el grupo materia\n",
        "cubo %>%\n",
        "filter(tp_organo == \"Tribunales Colegiados de Circuito\") %>%\n",
        "filter(tp_asunto == \"revisión contenciosa administrativa\")  %>%\n",
        "mutate(egresos = egresos + egresos_acuerdo) %>% # egresos + egresos por acuerdo?\n",
        "select(sentido,  egresos, egresos_acuerdo)  %>%\n",
        "group_by(sentido) %>%\n",
        "summarise_all(list(sum)) %>%\n",
        "mutate(sentido = case_when(\n",
        "  nchar(sentido)<1 ~ \"Egreso por Acuerdo\",\n",
        "  TRUE ~ sentido\n",
        ")) %>%\n",
        "mutate(egresos = case_when(\n",
        "  sentido == \"Egreso por Acuerdo\" ~ egresos_acuerdo,\n",
        "  TRUE ~ egresos\n",
        ")) %>%\n",
        "select(-egresos_acuerdo)  %>%\n",
        "pivot_wider(names_from = sentido, values_from = egresos)"
      ],
      "execution_count": null,
      "outputs": [
        {
          "output_type": "display_data",
          "data": {
            "text/html": [
              "<table class=\"dataframe\">\n",
              "<caption>A tibble: 1 × 9</caption>\n",
              "<thead>\n",
              "\t<tr><th scope=col>Egreso por Acuerdo</th><th scope=col>Confirma</th><th scope=col>Decreta caducidad</th><th scope=col>Desecha</th><th scope=col>Incompetencia</th><th scope=col>Modifica</th><th scope=col>Revoca o revoca y ordena reposición de procedimiento</th><th scope=col>Sin materia</th><th scope=col>Sobreseimiento</th></tr>\n",
              "\t<tr><th scope=col>&lt;int&gt;</th><th scope=col>&lt;int&gt;</th><th scope=col>&lt;int&gt;</th><th scope=col>&lt;int&gt;</th><th scope=col>&lt;int&gt;</th><th scope=col>&lt;int&gt;</th><th scope=col>&lt;int&gt;</th><th scope=col>&lt;int&gt;</th><th scope=col>&lt;int&gt;</th></tr>\n",
              "</thead>\n",
              "<tbody>\n",
              "\t<tr><td>1</td><td>119</td><td>0</td><td>907</td><td>7</td><td>0</td><td>2</td><td>0</td><td>0</td></tr>\n",
              "</tbody>\n",
              "</table>\n"
            ],
            "text/latex": "A tibble: 1 × 9\n\\begin{tabular}{lllllllll}\n Egreso por Acuerdo & Confirma & Decreta caducidad & Desecha & Incompetencia & Modifica & Revoca o revoca y ordena reposición de procedimiento & Sin materia & Sobreseimiento\\\\\n <int> & <int> & <int> & <int> & <int> & <int> & <int> & <int> & <int>\\\\\n\\hline\n\t 1 & 119 & 0 & 907 & 7 & 0 & 2 & 0 & 0\\\\\n\\end{tabular}\n",
            "text/markdown": "\nA tibble: 1 × 9\n\n| Egreso por Acuerdo &lt;int&gt; | Confirma &lt;int&gt; | Decreta caducidad &lt;int&gt; | Desecha &lt;int&gt; | Incompetencia &lt;int&gt; | Modifica &lt;int&gt; | Revoca o revoca y ordena reposición de procedimiento &lt;int&gt; | Sin materia &lt;int&gt; | Sobreseimiento &lt;int&gt; |\n|---|---|---|---|---|---|---|---|---|\n| 1 | 119 | 0 | 907 | 7 | 0 | 2 | 0 | 0 |\n\n",
            "text/plain": [
              "  Egreso por Acuerdo Confirma Decreta caducidad Desecha Incompetencia Modifica\n",
              "1 1                  119      0                 907     7             0       \n",
              "  Revoca o revoca y ordena reposición de procedimiento Sin materia\n",
              "1 2                                                    0          \n",
              "  Sobreseimiento\n",
              "1 0             "
            ]
          },
          "metadata": {
            "tags": []
          }
        }
      ]
    },
    {
      "cell_type": "code",
      "metadata": {
        "colab": {
          "base_uri": "https://localhost:8080/"
        },
        "id": "jrAgrk-p4mVg",
        "outputId": "aae2b965-df3c-4414-d92e-3248323c131c"
      },
      "source": [
        "# Queja\n",
        "\n",
        "#### No se pide por materia por lo que se omitió el grupo materia\n",
        "cubo %>%\n",
        "filter(tp_organo == \"Tribunales Colegiados de Circuito\") %>%\n",
        "filter(tp_asunto == \"queja\")  %>%\n",
        "mutate(egresos = egresos + egresos_acuerdo) %>% # egresos + egresos por acuerdo?\n",
        "select(sentido,  egresos, egresos_acuerdo)  %>%\n",
        "group_by(sentido) %>%\n",
        "summarise_all(list(sum)) %>%\n",
        "mutate(sentido = case_when(\n",
        "  nchar(sentido)<1 ~ \"Egreso por Acuerdo\",\n",
        "  TRUE ~ sentido\n",
        ")) %>%\n",
        "mutate(egresos = case_when(\n",
        "  sentido == \"Egreso por Acuerdo\" ~ egresos_acuerdo,\n",
        "  TRUE ~ egresos\n",
        ")) %>%\n",
        "select(-egresos_acuerdo)  %>%\n",
        "pivot_wider(names_from = sentido, values_from = egresos)"
      ],
      "execution_count": null,
      "outputs": [
        {
          "output_type": "display_data",
          "data": {
            "text/html": [
              "<table class=\"dataframe\">\n",
              "<caption>A tibble: 1 × 6</caption>\n",
              "<thead>\n",
              "\t<tr><th scope=col>Egreso por Acuerdo</th><th scope=col>Desecha</th><th scope=col>Fundado</th><th scope=col>Incompetencia</th><th scope=col>Infundado</th><th scope=col>Sin materia</th></tr>\n",
              "\t<tr><th scope=col>&lt;int&gt;</th><th scope=col>&lt;int&gt;</th><th scope=col>&lt;int&gt;</th><th scope=col>&lt;int&gt;</th><th scope=col>&lt;int&gt;</th><th scope=col>&lt;int&gt;</th></tr>\n",
              "</thead>\n",
              "<tbody>\n",
              "\t<tr><td>84</td><td>7990</td><td>10619</td><td>1549</td><td>17346</td><td>6675</td></tr>\n",
              "</tbody>\n",
              "</table>\n"
            ],
            "text/latex": "A tibble: 1 × 6\n\\begin{tabular}{llllll}\n Egreso por Acuerdo & Desecha & Fundado & Incompetencia & Infundado & Sin materia\\\\\n <int> & <int> & <int> & <int> & <int> & <int>\\\\\n\\hline\n\t 84 & 7990 & 10619 & 1549 & 17346 & 6675\\\\\n\\end{tabular}\n",
            "text/markdown": "\nA tibble: 1 × 6\n\n| Egreso por Acuerdo &lt;int&gt; | Desecha &lt;int&gt; | Fundado &lt;int&gt; | Incompetencia &lt;int&gt; | Infundado &lt;int&gt; | Sin materia &lt;int&gt; |\n|---|---|---|---|---|---|\n| 84 | 7990 | 10619 | 1549 | 17346 | 6675 |\n\n",
            "text/plain": [
              "  Egreso por Acuerdo Desecha Fundado Incompetencia Infundado Sin materia\n",
              "1 84                 7990    10619   1549          17346     6675       "
            ]
          },
          "metadata": {
            "tags": []
          }
        }
      ]
    },
    {
      "cell_type": "code",
      "metadata": {
        "colab": {
          "base_uri": "https://localhost:8080/"
        },
        "id": "KQKV1Ssz5olB",
        "outputId": "c152ef51-0bb4-43f4-c194-ed6aec6845f8"
      },
      "source": [
        "# revisión fiscal\n",
        "\n",
        "#### No se pide por materia por lo que se omitió el grupo materia\n",
        "cubo %>%\n",
        "filter(tp_organo == \"Tribunales Colegiados de Circuito\") %>%\n",
        "filter(tp_asunto == \"revisión fiscal\")  %>%\n",
        "mutate(egresos = egresos + egresos_acuerdo) %>% # egresos + egresos por acuerdo?\n",
        "select(sentido,  egresos, egresos_acuerdo)  %>%\n",
        "group_by(sentido) %>%\n",
        "summarise_all(list(sum)) %>%\n",
        "mutate(sentido = case_when(\n",
        "  nchar(sentido)<1 ~ \"Egreso por Acuerdo\",\n",
        "  TRUE ~ sentido\n",
        ")) %>%\n",
        "mutate(egresos = case_when(\n",
        "  sentido == \"Egreso por Acuerdo\" ~ egresos_acuerdo,\n",
        "  TRUE ~ egresos\n",
        ")) %>%\n",
        "select(-egresos_acuerdo)  %>%\n",
        "pivot_wider(names_from = sentido, values_from = egresos)"
      ],
      "execution_count": null,
      "outputs": [
        {
          "output_type": "display_data",
          "data": {
            "text/html": [
              "<table class=\"dataframe\">\n",
              "<caption>A tibble: 1 × 9</caption>\n",
              "<thead>\n",
              "\t<tr><th scope=col>Egreso por Acuerdo</th><th scope=col>Confirma</th><th scope=col>Decreta caducidad</th><th scope=col>Desecha</th><th scope=col>Incompetencia</th><th scope=col>Modifica</th><th scope=col>Revoca o revoca y ordena reposición de procedimiento</th><th scope=col>Sin materia</th><th scope=col>Sobreseimiento</th></tr>\n",
              "\t<tr><th scope=col>&lt;int&gt;</th><th scope=col>&lt;int&gt;</th><th scope=col>&lt;int&gt;</th><th scope=col>&lt;int&gt;</th><th scope=col>&lt;int&gt;</th><th scope=col>&lt;int&gt;</th><th scope=col>&lt;int&gt;</th><th scope=col>&lt;int&gt;</th><th scope=col>&lt;int&gt;</th></tr>\n",
              "</thead>\n",
              "<tbody>\n",
              "\t<tr><td>28</td><td>4836</td><td>0</td><td>7023</td><td>59</td><td>115</td><td>1003</td><td>190</td><td>14</td></tr>\n",
              "</tbody>\n",
              "</table>\n"
            ],
            "text/latex": "A tibble: 1 × 9\n\\begin{tabular}{lllllllll}\n Egreso por Acuerdo & Confirma & Decreta caducidad & Desecha & Incompetencia & Modifica & Revoca o revoca y ordena reposición de procedimiento & Sin materia & Sobreseimiento\\\\\n <int> & <int> & <int> & <int> & <int> & <int> & <int> & <int> & <int>\\\\\n\\hline\n\t 28 & 4836 & 0 & 7023 & 59 & 115 & 1003 & 190 & 14\\\\\n\\end{tabular}\n",
            "text/markdown": "\nA tibble: 1 × 9\n\n| Egreso por Acuerdo &lt;int&gt; | Confirma &lt;int&gt; | Decreta caducidad &lt;int&gt; | Desecha &lt;int&gt; | Incompetencia &lt;int&gt; | Modifica &lt;int&gt; | Revoca o revoca y ordena reposición de procedimiento &lt;int&gt; | Sin materia &lt;int&gt; | Sobreseimiento &lt;int&gt; |\n|---|---|---|---|---|---|---|---|---|\n| 28 | 4836 | 0 | 7023 | 59 | 115 | 1003 | 190 | 14 |\n\n",
            "text/plain": [
              "  Egreso por Acuerdo Confirma Decreta caducidad Desecha Incompetencia Modifica\n",
              "1 28                 4836     0                 7023    59            115     \n",
              "  Revoca o revoca y ordena reposición de procedimiento Sin materia\n",
              "1 1003                                                 190        \n",
              "  Sobreseimiento\n",
              "1 14            "
            ]
          },
          "metadata": {
            "tags": []
          }
        }
      ]
    },
    {
      "cell_type": "code",
      "metadata": {
        "colab": {
          "base_uri": "https://localhost:8080/"
        },
        "id": "Pifl3d4c5_-x",
        "outputId": "e14cb685-31c8-44df-9155-f96cb8a317e2"
      },
      "source": [
        "# conflictos de acumulación\n",
        "\n",
        "#### No se pide por materia por lo que se omitió el grupo materia\n",
        "cubo %>%\n",
        "filter(tp_organo == \"Tribunales Colegiados de Circuito\") %>%\n",
        "filter(tp_asunto == \"conflictos de acumulación\")  %>%\n",
        "mutate(egresos = egresos + egresos_acuerdo) %>% # egresos + egresos por acuerdo?\n",
        "select(sentido,  egresos, egresos_acuerdo)  %>%\n",
        "group_by(sentido) %>%\n",
        "summarise_all(list(sum)) %>%\n",
        "mutate(sentido = case_when(\n",
        "  nchar(sentido)<1 ~ \"Egreso por Acuerdo\",\n",
        "  TRUE ~ sentido\n",
        ")) %>%\n",
        "mutate(egresos = case_when(\n",
        "  sentido == \"Egreso por Acuerdo\" ~ egresos_acuerdo,\n",
        "  TRUE ~ egresos\n",
        ")) %>%\n",
        "select(-egresos_acuerdo)  %>%\n",
        "pivot_wider(names_from = sentido, values_from = egresos)"
      ],
      "execution_count": null,
      "outputs": [
        {
          "output_type": "display_data",
          "data": {
            "text/html": [
              "<table class=\"dataframe\">\n",
              "<caption>A tibble: 1 × 5</caption>\n",
              "<thead>\n",
              "\t<tr><th scope=col>Egreso por Acuerdo</th><th scope=col>Improcedente</th><th scope=col>Incompetencia</th><th scope=col>Procedente</th><th scope=col>Sin materia</th></tr>\n",
              "\t<tr><th scope=col>&lt;int&gt;</th><th scope=col>&lt;int&gt;</th><th scope=col>&lt;int&gt;</th><th scope=col>&lt;int&gt;</th><th scope=col>&lt;int&gt;</th></tr>\n",
              "</thead>\n",
              "<tbody>\n",
              "\t<tr><td>0</td><td>11</td><td>2</td><td>3</td><td>4</td></tr>\n",
              "</tbody>\n",
              "</table>\n"
            ],
            "text/latex": "A tibble: 1 × 5\n\\begin{tabular}{lllll}\n Egreso por Acuerdo & Improcedente & Incompetencia & Procedente & Sin materia\\\\\n <int> & <int> & <int> & <int> & <int>\\\\\n\\hline\n\t 0 & 11 & 2 & 3 & 4\\\\\n\\end{tabular}\n",
            "text/markdown": "\nA tibble: 1 × 5\n\n| Egreso por Acuerdo &lt;int&gt; | Improcedente &lt;int&gt; | Incompetencia &lt;int&gt; | Procedente &lt;int&gt; | Sin materia &lt;int&gt; |\n|---|---|---|---|---|\n| 0 | 11 | 2 | 3 | 4 |\n\n",
            "text/plain": [
              "  Egreso por Acuerdo Improcedente Incompetencia Procedente Sin materia\n",
              "1 0                  11           2             3          4          "
            ]
          },
          "metadata": {
            "tags": []
          }
        }
      ]
    },
    {
      "cell_type": "code",
      "metadata": {
        "colab": {
          "base_uri": "https://localhost:8080/"
        },
        "id": "WSiAWpRb7Lzm",
        "outputId": "788b97b3-2e00-4553-bd0d-8a4608054d6b"
      },
      "source": [
        "# reclamaciones\n",
        "\n",
        "#### No se pide por materia por lo que se omitió el grupo materia\n",
        "cubo %>%\n",
        "filter(tp_organo == \"Tribunales Colegiados de Circuito\") %>%\n",
        "filter(tp_asunto == \"reclamaciones\")  %>%\n",
        "mutate(egresos = egresos + egresos_acuerdo) %>% # egresos + egresos por acuerdo?\n",
        "select(sentido,  egresos, egresos_acuerdo)  %>%\n",
        "group_by(sentido) %>%\n",
        "summarise_all(list(sum)) %>%\n",
        "mutate(sentido = case_when(\n",
        "  nchar(sentido)<1 ~ \"Egreso por Acuerdo\",\n",
        "  TRUE ~ sentido\n",
        ")) %>%\n",
        "mutate(egresos = case_when(\n",
        "  sentido == \"Egreso por Acuerdo\" ~ egresos_acuerdo,\n",
        "  TRUE ~ egresos\n",
        ")) %>%\n",
        "select(-egresos_acuerdo)  %>%\n",
        "pivot_wider(names_from = sentido, values_from = egresos)"
      ],
      "execution_count": null,
      "outputs": [
        {
          "output_type": "display_data",
          "data": {
            "text/html": [
              "<table class=\"dataframe\">\n",
              "<caption>A tibble: 1 × 6</caption>\n",
              "<thead>\n",
              "\t<tr><th scope=col>Egreso por Acuerdo</th><th scope=col>Desecha</th><th scope=col>Fundado</th><th scope=col>Incompetencia</th><th scope=col>Infundado</th><th scope=col>Sin materia</th></tr>\n",
              "\t<tr><th scope=col>&lt;int&gt;</th><th scope=col>&lt;int&gt;</th><th scope=col>&lt;int&gt;</th><th scope=col>&lt;int&gt;</th><th scope=col>&lt;int&gt;</th><th scope=col>&lt;int&gt;</th></tr>\n",
              "</thead>\n",
              "<tbody>\n",
              "\t<tr><td>0</td><td>841</td><td>665</td><td>15</td><td>2290</td><td>224</td></tr>\n",
              "</tbody>\n",
              "</table>\n"
            ],
            "text/latex": "A tibble: 1 × 6\n\\begin{tabular}{llllll}\n Egreso por Acuerdo & Desecha & Fundado & Incompetencia & Infundado & Sin materia\\\\\n <int> & <int> & <int> & <int> & <int> & <int>\\\\\n\\hline\n\t 0 & 841 & 665 & 15 & 2290 & 224\\\\\n\\end{tabular}\n",
            "text/markdown": "\nA tibble: 1 × 6\n\n| Egreso por Acuerdo &lt;int&gt; | Desecha &lt;int&gt; | Fundado &lt;int&gt; | Incompetencia &lt;int&gt; | Infundado &lt;int&gt; | Sin materia &lt;int&gt; |\n|---|---|---|---|---|---|\n| 0 | 841 | 665 | 15 | 2290 | 224 |\n\n",
            "text/plain": [
              "  Egreso por Acuerdo Desecha Fundado Incompetencia Infundado Sin materia\n",
              "1 0                  841     665     15            2290      224        "
            ]
          },
          "metadata": {
            "tags": []
          }
        }
      ]
    },
    {
      "cell_type": "code",
      "metadata": {
        "colab": {
          "base_uri": "https://localhost:8080/"
        },
        "id": "Crx3Sci77dPs",
        "outputId": "95069eda-6a94-4541-df5c-618fb9989490"
      },
      "source": [
        "# incidentes de inejecución\n",
        "#### No se pide por materia por lo que se omitió el grupo materia\n",
        "cubo %>%\n",
        "filter(tp_organo == \"Tribunales Colegiados de Circuito\") %>%\n",
        "filter(tp_asunto == \"incidentes de inejecución\")  %>%\n",
        "mutate(egresos = egresos + egresos_acuerdo) %>% # egresos + egresos por acuerdo?\n",
        "select(sentido,  egresos, egresos_acuerdo)  %>%\n",
        "group_by(sentido) %>%\n",
        "summarise_all(list(sum)) %>%\n",
        "mutate(sentido = case_when(\n",
        "  nchar(sentido)<1 ~ \"Egreso por Acuerdo\",\n",
        "  TRUE ~ sentido\n",
        ")) %>%\n",
        "mutate(egresos = case_when(\n",
        "  sentido == \"Egreso por Acuerdo\" ~ egresos_acuerdo,\n",
        "  TRUE ~ egresos\n",
        ")) %>%\n",
        "select(-egresos_acuerdo)  %>%\n",
        "pivot_wider(names_from = sentido, values_from = egresos)"
      ],
      "execution_count": null,
      "outputs": [
        {
          "output_type": "display_data",
          "data": {
            "text/html": [
              "<table class=\"dataframe\">\n",
              "<caption>A tibble: 1 × 10</caption>\n",
              "<thead>\n",
              "\t<tr><th scope=col>Egreso por Acuerdo</th><th scope=col>Caducidad</th><th scope=col>Cumplimento sustituto</th><th scope=col>Desecha</th><th scope=col>Dictamen punto XVI</th><th scope=col>Fundado</th><th scope=col>Incompetencia</th><th scope=col>Infundado</th><th scope=col>Revoca o revoca y ordena reposición de procedimiento</th><th scope=col>Sin materia</th></tr>\n",
              "\t<tr><th scope=col>&lt;int&gt;</th><th scope=col>&lt;int&gt;</th><th scope=col>&lt;int&gt;</th><th scope=col>&lt;int&gt;</th><th scope=col>&lt;int&gt;</th><th scope=col>&lt;int&gt;</th><th scope=col>&lt;int&gt;</th><th scope=col>&lt;int&gt;</th><th scope=col>&lt;int&gt;</th><th scope=col>&lt;int&gt;</th></tr>\n",
              "</thead>\n",
              "<tbody>\n",
              "\t<tr><td>0</td><td>0</td><td>1</td><td>145</td><td>6</td><td>236</td><td>79</td><td>237</td><td>311</td><td>331</td></tr>\n",
              "</tbody>\n",
              "</table>\n"
            ],
            "text/latex": "A tibble: 1 × 10\n\\begin{tabular}{llllllllll}\n Egreso por Acuerdo & Caducidad & Cumplimento sustituto & Desecha & Dictamen punto XVI & Fundado & Incompetencia & Infundado & Revoca o revoca y ordena reposición de procedimiento & Sin materia\\\\\n <int> & <int> & <int> & <int> & <int> & <int> & <int> & <int> & <int> & <int>\\\\\n\\hline\n\t 0 & 0 & 1 & 145 & 6 & 236 & 79 & 237 & 311 & 331\\\\\n\\end{tabular}\n",
            "text/markdown": "\nA tibble: 1 × 10\n\n| Egreso por Acuerdo &lt;int&gt; | Caducidad &lt;int&gt; | Cumplimento sustituto &lt;int&gt; | Desecha &lt;int&gt; | Dictamen punto XVI &lt;int&gt; | Fundado &lt;int&gt; | Incompetencia &lt;int&gt; | Infundado &lt;int&gt; | Revoca o revoca y ordena reposición de procedimiento &lt;int&gt; | Sin materia &lt;int&gt; |\n|---|---|---|---|---|---|---|---|---|---|\n| 0 | 0 | 1 | 145 | 6 | 236 | 79 | 237 | 311 | 331 |\n\n",
            "text/plain": [
              "  Egreso por Acuerdo Caducidad Cumplimento sustituto Desecha Dictamen punto XVI\n",
              "1 0                  0         1                     145     6                 \n",
              "  Fundado Incompetencia Infundado\n",
              "1 236     79            237      \n",
              "  Revoca o revoca y ordena reposición de procedimiento Sin materia\n",
              "1 311                                                  331        "
            ]
          },
          "metadata": {
            "tags": []
          }
        }
      ]
    },
    {
      "cell_type": "code",
      "metadata": {
        "colab": {
          "base_uri": "https://localhost:8080/"
        },
        "id": "Eyk3cke28BuJ",
        "outputId": "8d5ab409-962e-4517-b7a4-b1e20d692d29"
      },
      "source": [
        "# denuncia repetición del acto reclamado\n",
        "#### No se pide por materia por lo que se omitió el grupo materia\n",
        "cubo %>%\n",
        "filter(tp_organo == \"Tribunales Colegiados de Circuito\") %>%\n",
        "filter(tp_asunto == \"denuncia repetición del acto reclamado\")  %>%\n",
        "mutate(egresos = egresos + egresos_acuerdo) %>% # egresos + egresos por acuerdo?\n",
        "select(sentido,  egresos, egresos_acuerdo)  %>%\n",
        "group_by(sentido) %>%\n",
        "summarise_all(list(sum)) %>%\n",
        "mutate(sentido = case_when(\n",
        "  nchar(sentido)<1 ~ \"Egreso por Acuerdo\",\n",
        "  TRUE ~ sentido\n",
        ")) %>%\n",
        "mutate(egresos = case_when(\n",
        "  sentido == \"Egreso por Acuerdo\" ~ egresos_acuerdo,\n",
        "  TRUE ~ egresos\n",
        ")) %>%\n",
        "select(-egresos_acuerdo)  %>%\n",
        "pivot_wider(names_from = sentido, values_from = egresos)"
      ],
      "execution_count": null,
      "outputs": [
        {
          "output_type": "display_data",
          "data": {
            "text/html": [
              "<table class=\"dataframe\">\n",
              "<caption>A tibble: 1 × 10</caption>\n",
              "<thead>\n",
              "\t<tr><th scope=col>Egreso por Acuerdo</th><th scope=col>Caducidad</th><th scope=col>Cumplimento sustituto</th><th scope=col>Desecha</th><th scope=col>Dictamen punto XVI</th><th scope=col>Fundado</th><th scope=col>Incompetencia</th><th scope=col>Infundado</th><th scope=col>Revoca o revoca y ordena reposición de procedimiento</th><th scope=col>Sin materia</th></tr>\n",
              "\t<tr><th scope=col>&lt;int&gt;</th><th scope=col>&lt;int&gt;</th><th scope=col>&lt;int&gt;</th><th scope=col>&lt;int&gt;</th><th scope=col>&lt;int&gt;</th><th scope=col>&lt;int&gt;</th><th scope=col>&lt;int&gt;</th><th scope=col>&lt;int&gt;</th><th scope=col>&lt;int&gt;</th><th scope=col>&lt;int&gt;</th></tr>\n",
              "</thead>\n",
              "<tbody>\n",
              "\t<tr><td>0</td><td>0</td><td>0</td><td>21</td><td>0</td><td>18</td><td>4</td><td>80</td><td>1</td><td>44</td></tr>\n",
              "</tbody>\n",
              "</table>\n"
            ],
            "text/latex": "A tibble: 1 × 10\n\\begin{tabular}{llllllllll}\n Egreso por Acuerdo & Caducidad & Cumplimento sustituto & Desecha & Dictamen punto XVI & Fundado & Incompetencia & Infundado & Revoca o revoca y ordena reposición de procedimiento & Sin materia\\\\\n <int> & <int> & <int> & <int> & <int> & <int> & <int> & <int> & <int> & <int>\\\\\n\\hline\n\t 0 & 0 & 0 & 21 & 0 & 18 & 4 & 80 & 1 & 44\\\\\n\\end{tabular}\n",
            "text/markdown": "\nA tibble: 1 × 10\n\n| Egreso por Acuerdo &lt;int&gt; | Caducidad &lt;int&gt; | Cumplimento sustituto &lt;int&gt; | Desecha &lt;int&gt; | Dictamen punto XVI &lt;int&gt; | Fundado &lt;int&gt; | Incompetencia &lt;int&gt; | Infundado &lt;int&gt; | Revoca o revoca y ordena reposición de procedimiento &lt;int&gt; | Sin materia &lt;int&gt; |\n|---|---|---|---|---|---|---|---|---|---|\n| 0 | 0 | 0 | 21 | 0 | 18 | 4 | 80 | 1 | 44 |\n\n",
            "text/plain": [
              "  Egreso por Acuerdo Caducidad Cumplimento sustituto Desecha Dictamen punto XVI\n",
              "1 0                  0         0                     21      0                 \n",
              "  Fundado Incompetencia Infundado\n",
              "1 18      4             80       \n",
              "  Revoca o revoca y ordena reposición de procedimiento Sin materia\n",
              "1 1                                                    44         "
            ]
          },
          "metadata": {
            "tags": []
          }
        }
      ]
    },
    {
      "cell_type": "code",
      "metadata": {
        "colab": {
          "base_uri": "https://localhost:8080/"
        },
        "id": "2DRWOz-C8gsG",
        "outputId": "40b84055-fdbc-493a-fe48-62b08f9de750"
      },
      "source": [
        "# inconformidad\n",
        "#### No se pide por materia por lo que se omitió el grupo materia\n",
        "cubo %>%\n",
        "filter(tp_organo == \"Tribunales Colegiados de Circuito\") %>%\n",
        "filter(tp_asunto == \"inconformidad\")  %>%\n",
        "mutate(egresos = egresos + egresos_acuerdo) %>% # egresos + egresos por acuerdo?\n",
        "select(sentido,  egresos, egresos_acuerdo)  %>%\n",
        "group_by(sentido) %>%\n",
        "summarise_all(list(sum)) %>%\n",
        "mutate(sentido = case_when(\n",
        "  nchar(sentido)<1 ~ \"Egreso por Acuerdo\",\n",
        "  TRUE ~ sentido\n",
        ")) %>%\n",
        "mutate(egresos = case_when(\n",
        "  sentido == \"Egreso por Acuerdo\" ~ egresos_acuerdo,\n",
        "  TRUE ~ egresos\n",
        ")) %>%\n",
        "select(-egresos_acuerdo)  %>%\n",
        "pivot_wider(names_from = sentido, values_from = egresos)"
      ],
      "execution_count": null,
      "outputs": [
        {
          "output_type": "display_data",
          "data": {
            "text/html": [
              "<table class=\"dataframe\">\n",
              "<caption>A tibble: 1 × 6</caption>\n",
              "<thead>\n",
              "\t<tr><th scope=col>Egreso por Acuerdo</th><th scope=col>Desecha</th><th scope=col>Fundado</th><th scope=col>Incompetencia</th><th scope=col>Infundado</th><th scope=col>Sin materia</th></tr>\n",
              "\t<tr><th scope=col>&lt;int&gt;</th><th scope=col>&lt;int&gt;</th><th scope=col>&lt;int&gt;</th><th scope=col>&lt;int&gt;</th><th scope=col>&lt;int&gt;</th><th scope=col>&lt;int&gt;</th></tr>\n",
              "</thead>\n",
              "<tbody>\n",
              "\t<tr><td>2</td><td>561</td><td>1099</td><td>92</td><td>2778</td><td>75</td></tr>\n",
              "</tbody>\n",
              "</table>\n"
            ],
            "text/latex": "A tibble: 1 × 6\n\\begin{tabular}{llllll}\n Egreso por Acuerdo & Desecha & Fundado & Incompetencia & Infundado & Sin materia\\\\\n <int> & <int> & <int> & <int> & <int> & <int>\\\\\n\\hline\n\t 2 & 561 & 1099 & 92 & 2778 & 75\\\\\n\\end{tabular}\n",
            "text/markdown": "\nA tibble: 1 × 6\n\n| Egreso por Acuerdo &lt;int&gt; | Desecha &lt;int&gt; | Fundado &lt;int&gt; | Incompetencia &lt;int&gt; | Infundado &lt;int&gt; | Sin materia &lt;int&gt; |\n|---|---|---|---|---|---|\n| 2 | 561 | 1099 | 92 | 2778 | 75 |\n\n",
            "text/plain": [
              "  Egreso por Acuerdo Desecha Fundado Incompetencia Infundado Sin materia\n",
              "1 2                  561     1099    92            2778      75         "
            ]
          },
          "metadata": {
            "tags": []
          }
        }
      ]
    },
    {
      "cell_type": "code",
      "metadata": {
        "colab": {
          "base_uri": "https://localhost:8080/"
        },
        "id": "_8677BeZ8zOF",
        "outputId": "9af35518-d8de-4014-8a34-331abf3e356f"
      },
      "source": [
        "# incidente de reconocimiento de inocencia\n",
        "#### No se pide por materia por lo que se omitió el grupo materia\n",
        "cubo %>%\n",
        "filter(tp_organo == \"Tribunales Colegiados de Circuito\") %>%\n",
        "filter(tp_asunto %in% c(\"incidente de reconocimiento de inocencia\",\n",
        "                      \"Incidente de reconocimiento de inocencia\"))  %>%\n",
        "mutate(egresos = egresos + egresos_acuerdo) %>% # egresos + egresos por acuerdo?\n",
        "select(sentido,  egresos, egresos_acuerdo)  %>%\n",
        "group_by(sentido) %>%\n",
        "summarise_all(list(sum)) %>%\n",
        "mutate(sentido = case_when(\n",
        "  nchar(sentido)<1 ~ \"Egreso por Acuerdo\",\n",
        "  TRUE ~ sentido\n",
        ")) %>%\n",
        "mutate(egresos = case_when(\n",
        "  sentido == \"Egreso por Acuerdo\" ~ egresos_acuerdo,\n",
        "  TRUE ~ egresos\n",
        ")) %>%\n",
        "select(-egresos_acuerdo)  %>%\n",
        "pivot_wider(names_from = sentido, values_from = egresos)"
      ],
      "execution_count": null,
      "outputs": [
        {
          "output_type": "display_data",
          "data": {
            "text/html": [
              "<table class=\"dataframe\">\n",
              "<caption>A tibble: 1 × 6</caption>\n",
              "<thead>\n",
              "\t<tr><th scope=col>Egreso por Acuerdo</th><th scope=col>Desecha</th><th scope=col>Fundado</th><th scope=col>Incompetencia</th><th scope=col>Infundado</th><th scope=col>Sin materia</th></tr>\n",
              "\t<tr><th scope=col>&lt;int&gt;</th><th scope=col>&lt;int&gt;</th><th scope=col>&lt;int&gt;</th><th scope=col>&lt;int&gt;</th><th scope=col>&lt;int&gt;</th><th scope=col>&lt;int&gt;</th></tr>\n",
              "</thead>\n",
              "<tbody>\n",
              "\t<tr><td>0</td><td>2</td><td>1</td><td>17</td><td>8</td><td>1</td></tr>\n",
              "</tbody>\n",
              "</table>\n"
            ],
            "text/latex": "A tibble: 1 × 6\n\\begin{tabular}{llllll}\n Egreso por Acuerdo & Desecha & Fundado & Incompetencia & Infundado & Sin materia\\\\\n <int> & <int> & <int> & <int> & <int> & <int>\\\\\n\\hline\n\t 0 & 2 & 1 & 17 & 8 & 1\\\\\n\\end{tabular}\n",
            "text/markdown": "\nA tibble: 1 × 6\n\n| Egreso por Acuerdo &lt;int&gt; | Desecha &lt;int&gt; | Fundado &lt;int&gt; | Incompetencia &lt;int&gt; | Infundado &lt;int&gt; | Sin materia &lt;int&gt; |\n|---|---|---|---|---|---|\n| 0 | 2 | 1 | 17 | 8 | 1 |\n\n",
            "text/plain": [
              "  Egreso por Acuerdo Desecha Fundado Incompetencia Infundado Sin materia\n",
              "1 0                  2       1       17            8         1          "
            ]
          },
          "metadata": {
            "tags": []
          }
        }
      ]
    },
    {
      "cell_type": "code",
      "metadata": {
        "colab": {
          "base_uri": "https://localhost:8080/"
        },
        "id": "Y9edpOYU9Gsp",
        "outputId": "4859eab3-61ea-448e-c518-576af16dbc53"
      },
      "source": [
        "# Otros\n",
        "\n",
        "cubo %>%\n",
        "filter(tp_organo == \"Tribunales Colegiados de Circuito\") %>%\n",
        "filter(tp_asunto %in% c(\"varios\")) ->v\n",
        "\n",
        "sum(v$egresos)\n",
        "sum(v$egresos_acuerdo)\n",
        "\n",
        "\n"
      ],
      "execution_count": null,
      "outputs": [
        {
          "output_type": "display_data",
          "data": {
            "text/html": [
              "749"
            ],
            "text/latex": "749",
            "text/markdown": "749",
            "text/plain": [
              "[1] 749"
            ]
          },
          "metadata": {
            "tags": []
          }
        },
        {
          "output_type": "display_data",
          "data": {
            "text/html": [
              "3"
            ],
            "text/latex": "3",
            "text/markdown": "3",
            "text/plain": [
              "[1] 3"
            ]
          },
          "metadata": {
            "tags": []
          }
        }
      ]
    },
    {
      "cell_type": "markdown",
      "metadata": {
        "id": "pdxIQwx_K1rs"
      },
      "source": [
        "## Sección 2: Tribunales Unitarios de Circuito"
      ]
    },
    {
      "cell_type": "markdown",
      "metadata": {
        "id": "CTSLem3bcPqL"
      },
      "source": [
        "### Pregunta 2.1\n"
      ]
    },
    {
      "cell_type": "code",
      "metadata": {
        "colab": {
          "base_uri": "https://localhost:8080/",
          "height": 281
        },
        "id": "GyRB3O9sb2-C",
        "outputId": "22e79a50-fb51-45dd-dd83-a6d448a7ec50"
      },
      "source": [
        "cubo %>%\n",
        "filter(tp_organo == \"Tribunales Unitarios de Circuito\") %>%\n",
        "mutate(egresos = egresos + egresos_acuerdo) %>% # egresos + egresos por acuerdo?\n",
        "select(materia_asunto, existencia_inicial, ingresos, egresos, Existencia_final) %>%\n",
        "mutate(materia_asunto = factor(materia_asunto, levels = c('Penal', \n",
        "       'Civil', 'Administrativa',  'Trabajo', \n",
        "        'Mercantil'))) %>% \n",
        "group_by(materia_asunto) %>%\n",
        "summarise_all(list(sum))%>%\n",
        "filter(!is.na(existencia_inicial))  %>%\n",
        "adorn_totals()"
      ],
      "execution_count": null,
      "outputs": [
        {
          "output_type": "display_data",
          "data": {
            "text/plain": [
              "  materia_asunto existencia_inicial ingresos egresos Existencia_final\n",
              "1 Penal          2242               11449    12033   1657            \n",
              "2 Civil           623                1582     1717    488            \n",
              "3 Administrativa   12                  40       40     12            \n",
              "4 Trabajo           0                   3        3      0            \n",
              "5 Mercantil       889                2319     2734    474            \n",
              "6 Total          3766               15393    16527   2631            "
            ],
            "text/latex": "A tabyl: 6 × 5\n\\begin{tabular}{lllll}\n materia\\_asunto & existencia\\_inicial & ingresos & egresos & Existencia\\_final\\\\\n <chr> & <int> & <int> & <int> & <int>\\\\\n\\hline\n\t Penal          & 2242 & 11449 & 12033 & 1657\\\\\n\t Civil          &  623 &  1582 &  1717 &  488\\\\\n\t Administrativa &   12 &    40 &    40 &   12\\\\\n\t Trabajo        &    0 &     3 &     3 &    0\\\\\n\t Mercantil      &  889 &  2319 &  2734 &  474\\\\\n\t Total          & 3766 & 15393 & 16527 & 2631\\\\\n\\end{tabular}\n",
            "text/markdown": "\nA tabyl: 6 × 5\n\n| materia_asunto &lt;chr&gt; | existencia_inicial &lt;int&gt; | ingresos &lt;int&gt; | egresos &lt;int&gt; | Existencia_final &lt;int&gt; |\n|---|---|---|---|---|\n| Penal          | 2242 | 11449 | 12033 | 1657 |\n| Civil          |  623 |  1582 |  1717 |  488 |\n| Administrativa |   12 |    40 |    40 |   12 |\n| Trabajo        |    0 |     3 |     3 |    0 |\n| Mercantil      |  889 |  2319 |  2734 |  474 |\n| Total          | 3766 | 15393 | 16527 | 2631 |\n\n",
            "text/html": [
              "<table class=\"dataframe\">\n",
              "<caption>A tabyl: 6 × 5</caption>\n",
              "<thead>\n",
              "\t<tr><th scope=col>materia_asunto</th><th scope=col>existencia_inicial</th><th scope=col>ingresos</th><th scope=col>egresos</th><th scope=col>Existencia_final</th></tr>\n",
              "\t<tr><th scope=col>&lt;chr&gt;</th><th scope=col>&lt;int&gt;</th><th scope=col>&lt;int&gt;</th><th scope=col>&lt;int&gt;</th><th scope=col>&lt;int&gt;</th></tr>\n",
              "</thead>\n",
              "<tbody>\n",
              "\t<tr><td>Penal         </td><td>2242</td><td>11449</td><td>12033</td><td>1657</td></tr>\n",
              "\t<tr><td>Civil         </td><td> 623</td><td> 1582</td><td> 1717</td><td> 488</td></tr>\n",
              "\t<tr><td>Administrativa</td><td>  12</td><td>   40</td><td>   40</td><td>  12</td></tr>\n",
              "\t<tr><td>Trabajo       </td><td>   0</td><td>    3</td><td>    3</td><td>   0</td></tr>\n",
              "\t<tr><td>Mercantil     </td><td> 889</td><td> 2319</td><td> 2734</td><td> 474</td></tr>\n",
              "\t<tr><td>Total         </td><td>3766</td><td>15393</td><td>16527</td><td>2631</td></tr>\n",
              "</tbody>\n",
              "</table>\n"
            ]
          },
          "metadata": {
            "tags": []
          }
        }
      ]
    },
    {
      "cell_type": "markdown",
      "metadata": {
        "id": "iLnvqKX6c0ru"
      },
      "source": [
        "### Pregunta 2.2\n"
      ]
    },
    {
      "cell_type": "code",
      "metadata": {
        "colab": {
          "base_uri": "https://localhost:8080/",
          "height": 557
        },
        "id": "RMAI5qDNkQkN",
        "outputId": "310dd101-a6e8-4077-89f6-167804faf4a7"
      },
      "source": [
        "cubo %>%\n",
        "filter(tp_organo == \"Tribunales Unitarios de Circuito\") %>%\n",
        "mutate(egresos = egresos + egresos_acuerdo) %>% # egresos + egresos por acuerdo?\n",
        "group_by(tp_procedimiento) %>%\n",
        "summarise(ingresos = sum(ingresos)) %>%\n",
        "arrange(-ingresos)"
      ],
      "execution_count": null,
      "outputs": [
        {
          "output_type": "display_data",
          "data": {
            "text/plain": [
              "   tp_procedimiento            ingresos\n",
              "1  Apelación                   10363   \n",
              "2                               2976   \n",
              "3  Queja                        1116   \n",
              "4  Competencia entre jueces      412   \n",
              "5  Otro                          300   \n",
              "6  Impedimento                   119   \n",
              "7  Denegada Apelación             64   \n",
              "8  Reconocimiento de inocencia    39   \n",
              "9  Anulación de sentencia          3   \n",
              "10 Conflicto de Acumulación        1   \n",
              "11 Anulación de Sentencia          0   \n",
              "12 Conflicto de acumulación        0   \n",
              "13 Conflicto De Acumulación        0   \n",
              "14 Denegada apelación              0   \n",
              "15 Reconocimiento de Inocencia     0   "
            ],
            "text/latex": "A tibble: 15 × 2\n\\begin{tabular}{ll}\n tp\\_procedimiento & ingresos\\\\\n <chr> & <int>\\\\\n\\hline\n\t Apelación                   & 10363\\\\\n\t                             &  2976\\\\\n\t Queja                       &  1116\\\\\n\t Competencia entre jueces    &   412\\\\\n\t Otro                        &   300\\\\\n\t Impedimento                 &   119\\\\\n\t Denegada Apelación          &    64\\\\\n\t Reconocimiento de inocencia &    39\\\\\n\t Anulación de sentencia      &     3\\\\\n\t Conflicto de Acumulación    &     1\\\\\n\t Anulación de Sentencia      &     0\\\\\n\t Conflicto de acumulación    &     0\\\\\n\t Conflicto De Acumulación    &     0\\\\\n\t Denegada apelación          &     0\\\\\n\t Reconocimiento de Inocencia &     0\\\\\n\\end{tabular}\n",
            "text/markdown": "\nA tibble: 15 × 2\n\n| tp_procedimiento &lt;chr&gt; | ingresos &lt;int&gt; |\n|---|---|\n| Apelación                   | 10363 |\n| <!----> |  2976 |\n| Queja                       |  1116 |\n| Competencia entre jueces    |   412 |\n| Otro                        |   300 |\n| Impedimento                 |   119 |\n| Denegada Apelación          |    64 |\n| Reconocimiento de inocencia |    39 |\n| Anulación de sentencia      |     3 |\n| Conflicto de Acumulación    |     1 |\n| Anulación de Sentencia      |     0 |\n| Conflicto de acumulación    |     0 |\n| Conflicto De Acumulación    |     0 |\n| Denegada apelación          |     0 |\n| Reconocimiento de Inocencia |     0 |\n\n",
            "text/html": [
              "<table class=\"dataframe\">\n",
              "<caption>A tibble: 15 × 2</caption>\n",
              "<thead>\n",
              "\t<tr><th scope=col>tp_procedimiento</th><th scope=col>ingresos</th></tr>\n",
              "\t<tr><th scope=col>&lt;chr&gt;</th><th scope=col>&lt;int&gt;</th></tr>\n",
              "</thead>\n",
              "<tbody>\n",
              "\t<tr><td>Apelación                  </td><td>10363</td></tr>\n",
              "\t<tr><td>                           </td><td> 2976</td></tr>\n",
              "\t<tr><td>Queja                      </td><td> 1116</td></tr>\n",
              "\t<tr><td>Competencia entre jueces   </td><td>  412</td></tr>\n",
              "\t<tr><td>Otro                       </td><td>  300</td></tr>\n",
              "\t<tr><td>Impedimento                </td><td>  119</td></tr>\n",
              "\t<tr><td>Denegada Apelación         </td><td>   64</td></tr>\n",
              "\t<tr><td>Reconocimiento de inocencia</td><td>   39</td></tr>\n",
              "\t<tr><td>Anulación de sentencia     </td><td>    3</td></tr>\n",
              "\t<tr><td>Conflicto de Acumulación   </td><td>    1</td></tr>\n",
              "\t<tr><td>Anulación de Sentencia     </td><td>    0</td></tr>\n",
              "\t<tr><td>Conflicto de acumulación   </td><td>    0</td></tr>\n",
              "\t<tr><td>Conflicto De Acumulación   </td><td>    0</td></tr>\n",
              "\t<tr><td>Denegada apelación         </td><td>    0</td></tr>\n",
              "\t<tr><td>Reconocimiento de Inocencia</td><td>    0</td></tr>\n",
              "</tbody>\n",
              "</table>\n"
            ]
          },
          "metadata": {
            "tags": []
          }
        }
      ]
    },
    {
      "cell_type": "code",
      "metadata": {
        "id": "5easRV0hYP0V"
      },
      "source": [
        "tuc <-  \n",
        "  cubo %>%\n",
        "    filter(tp_organo == \"Tribunales Unitarios de Circuito\")"
      ],
      "execution_count": null,
      "outputs": []
    },
    {
      "cell_type": "code",
      "metadata": {
        "colab": {
          "base_uri": "https://localhost:8080/",
          "height": 1000
        },
        "id": "h1-geNzVPhsB",
        "outputId": "915bef3d-fe64-4145-f51c-8bf8eefaf601"
      },
      "source": [
        "lapply(unique(tuc$tp_asunto), function(i){\n",
        "  \n",
        "  tuc %>%\n",
        "    mutate(egresos = egresos + egresos_acuerdo) %>%\n",
        "    filter(tp_asunto == i) %>%\n",
        "    group_by(tp_procedimiento, tp_asunto) %>%\n",
        "    summarise(existencia_inicial = sum(existencia_inicial),\n",
        "              ingresos = sum(ingresos),\n",
        "              egresos = sum(egresos),\n",
        "              existencia_final = sum(Existencia_final)) \n",
        "})\n",
        "\n"
      ],
      "execution_count": null,
      "outputs": [
        {
          "output_type": "stream",
          "text": [
            "`summarise()` has grouped output by 'tp_procedimiento'. You can override using the `.groups` argument.\n",
            "\n",
            "`summarise()` has grouped output by 'tp_procedimiento'. You can override using the `.groups` argument.\n",
            "\n",
            "`summarise()` has grouped output by 'tp_procedimiento'. You can override using the `.groups` argument.\n",
            "\n",
            "`summarise()` has grouped output by 'tp_procedimiento'. You can override using the `.groups` argument.\n",
            "\n",
            "`summarise()` has grouped output by 'tp_procedimiento'. You can override using the `.groups` argument.\n",
            "\n"
          ],
          "name": "stderr"
        },
        {
          "output_type": "display_data",
          "data": {
            "text/plain": [
              "[[1]]\n",
              "\u001b[90m# A tibble: 1 x 6\u001b[39m\n",
              "\u001b[90m# Groups:   tp_procedimiento [1]\u001b[39m\n",
              "  tp_procedimiento tp_asunto  existencia_inic… ingresos egresos existencia_final\n",
              "  \u001b[3m\u001b[90m<chr>\u001b[39m\u001b[23m            \u001b[3m\u001b[90m<chr>\u001b[39m\u001b[23m                 \u001b[3m\u001b[90m<int>\u001b[39m\u001b[23m    \u001b[3m\u001b[90m<int>\u001b[39m\u001b[23m   \u001b[3m\u001b[90m<int>\u001b[39m\u001b[23m            \u001b[3m\u001b[90m<int>\u001b[39m\u001b[23m\n",
              "\u001b[90m1\u001b[39m \u001b[90m\"\u001b[39m\u001b[90m\"\u001b[39m               amparo in…              847     \u001b[4m2\u001b[24m976    \u001b[4m3\u001b[24m138              684\n",
              "\n",
              "[[2]]\n",
              "\u001b[90m# A tibble: 9 x 6\u001b[39m\n",
              "\u001b[90m# Groups:   tp_procedimiento [9]\u001b[39m\n",
              "  tp_procedimiento  tp_asunto existencia_inic… ingresos egresos existencia_final\n",
              "  \u001b[3m\u001b[90m<chr>\u001b[39m\u001b[23m             \u001b[3m\u001b[90m<chr>\u001b[39m\u001b[23m                \u001b[3m\u001b[90m<int>\u001b[39m\u001b[23m    \u001b[3m\u001b[90m<int>\u001b[39m\u001b[23m   \u001b[3m\u001b[90m<int>\u001b[39m\u001b[23m            \u001b[3m\u001b[90m<int>\u001b[39m\u001b[23m\n",
              "\u001b[90m1\u001b[39m Apelación         procesos…             \u001b[4m1\u001b[24m597     \u001b[4m7\u001b[24m640    \u001b[4m8\u001b[24m090             \u001b[4m1\u001b[24m147\n",
              "\u001b[90m2\u001b[39m Competencia entr… procesos…               39      343     350               32\n",
              "\u001b[90m3\u001b[39m Conflicto de acu… procesos…                0        0       0                0\n",
              "\u001b[90m4\u001b[39m Conflicto De Acu… procesos…                0        0       0                0\n",
              "\u001b[90m5\u001b[39m Denegada apelaci… procesos…                0        0      33                0\n",
              "\u001b[90m6\u001b[39m Denegada Apelaci… procesos…                1       35       0                3\n",
              "\u001b[90m7\u001b[39m Impedimento       procesos…                3       71      71                3\n",
              "\u001b[90m8\u001b[39m Otro              procesos…                8       67      62               13\n",
              "\u001b[90m9\u001b[39m Queja             procesos…               33     \u001b[4m1\u001b[24m116    \u001b[4m1\u001b[24m127               22\n",
              "\n",
              "[[3]]\n",
              "\u001b[90m# A tibble: 3 x 6\u001b[39m\n",
              "\u001b[90m# Groups:   tp_procedimiento [3]\u001b[39m\n",
              "  tp_procedimiento  tp_asunto existencia_inic… ingresos egresos existencia_final\n",
              "  \u001b[3m\u001b[90m<chr>\u001b[39m\u001b[23m             \u001b[3m\u001b[90m<chr>\u001b[39m\u001b[23m                \u001b[3m\u001b[90m<int>\u001b[39m\u001b[23m    \u001b[3m\u001b[90m<int>\u001b[39m\u001b[23m   \u001b[3m\u001b[90m<int>\u001b[39m\u001b[23m            \u001b[3m\u001b[90m<int>\u001b[39m\u001b[23m\n",
              "\u001b[90m1\u001b[39m Anulación de sen… reconoci…                0        3       0                0\n",
              "\u001b[90m2\u001b[39m Anulación de Sen… reconoci…                0        0       0                0\n",
              "\u001b[90m3\u001b[39m Reconocimiento d… reconoci…                2       39       0                8\n",
              "\n",
              "[[4]]\n",
              "\u001b[90m# A tibble: 9 x 6\u001b[39m\n",
              "\u001b[90m# Groups:   tp_procedimiento [9]\u001b[39m\n",
              "  tp_procedimiento  tp_asunto existencia_inic… ingresos egresos existencia_final\n",
              "  \u001b[3m\u001b[90m<chr>\u001b[39m\u001b[23m             \u001b[3m\u001b[90m<chr>\u001b[39m\u001b[23m                \u001b[3m\u001b[90m<int>\u001b[39m\u001b[23m    \u001b[3m\u001b[90m<int>\u001b[39m\u001b[23m   \u001b[3m\u001b[90m<int>\u001b[39m\u001b[23m            \u001b[3m\u001b[90m<int>\u001b[39m\u001b[23m\n",
              "\u001b[90m1\u001b[39m Apelación         procesos…             \u001b[4m1\u001b[24m170     \u001b[4m2\u001b[24m723    \u001b[4m3\u001b[24m253              640\n",
              "\u001b[90m2\u001b[39m Competencia entr… procesos…               27       69      81               15\n",
              "\u001b[90m3\u001b[39m Conflicto de acu… procesos…                0        0       2                0\n",
              "\u001b[90m4\u001b[39m Conflicto de Acu… procesos…                1        1       0                0\n",
              "\u001b[90m5\u001b[39m Denegada apelaci… procesos…                0        0      23                0\n",
              "\u001b[90m6\u001b[39m Denegada Apelaci… procesos…                2       29       0                8\n",
              "\u001b[90m7\u001b[39m Impedimento       procesos…                2       48      43                7\n",
              "\u001b[90m8\u001b[39m Otro              procesos…               34      233     218               49\n",
              "\u001b[90m9\u001b[39m Queja             procesos…                0        0       0                0\n",
              "\n",
              "[[5]]\n",
              "\u001b[90m# A tibble: 2 x 6\u001b[39m\n",
              "\u001b[90m# Groups:   tp_procedimiento [2]\u001b[39m\n",
              "  tp_procedimiento  tp_asunto existencia_inic… ingresos egresos existencia_final\n",
              "  \u001b[3m\u001b[90m<chr>\u001b[39m\u001b[23m             \u001b[3m\u001b[90m<chr>\u001b[39m\u001b[23m                \u001b[3m\u001b[90m<int>\u001b[39m\u001b[23m    \u001b[3m\u001b[90m<int>\u001b[39m\u001b[23m   \u001b[3m\u001b[90m<int>\u001b[39m\u001b[23m            \u001b[3m\u001b[90m<int>\u001b[39m\u001b[23m\n",
              "\u001b[90m1\u001b[39m Anulación de Sen… Reconoci…                0        0       3                0\n",
              "\u001b[90m2\u001b[39m Reconocimiento d… Reconoci…                0        0      33                0\n"
            ],
            "text/latex": "\\begin{enumerate}\n\\item A grouped\\_df: 1 × 6\n\\begin{tabular}{llllll}\n tp\\_procedimiento & tp\\_asunto & existencia\\_inicial & ingresos & egresos & existencia\\_final\\\\\n <chr> & <chr> & <int> & <int> & <int> & <int>\\\\\n\\hline\n\t  & amparo indirecto & 847 & 2976 & 3138 & 684\\\\\n\\end{tabular}\n\n\\item A grouped\\_df: 9 × 6\n\\begin{tabular}{llllll}\n tp\\_procedimiento & tp\\_asunto & existencia\\_inicial & ingresos & egresos & existencia\\_final\\\\\n <chr> & <chr> & <int> & <int> & <int> & <int>\\\\\n\\hline\n\t Apelación                & procesos federales penales en segunda instancia & 1597 & 7640 & 8090 & 1147\\\\\n\t Competencia entre jueces & procesos federales penales en segunda instancia &   39 &  343 &  350 &   32\\\\\n\t Conflicto de acumulación & procesos federales penales en segunda instancia &    0 &    0 &    0 &    0\\\\\n\t Conflicto De Acumulación & procesos federales penales en segunda instancia &    0 &    0 &    0 &    0\\\\\n\t Denegada apelación       & procesos federales penales en segunda instancia &    0 &    0 &   33 &    0\\\\\n\t Denegada Apelación       & procesos federales penales en segunda instancia &    1 &   35 &    0 &    3\\\\\n\t Impedimento              & procesos federales penales en segunda instancia &    3 &   71 &   71 &    3\\\\\n\t Otro                     & procesos federales penales en segunda instancia &    8 &   67 &   62 &   13\\\\\n\t Queja                    & procesos federales penales en segunda instancia &   33 & 1116 & 1127 &   22\\\\\n\\end{tabular}\n\n\\item A grouped\\_df: 3 × 6\n\\begin{tabular}{llllll}\n tp\\_procedimiento & tp\\_asunto & existencia\\_inicial & ingresos & egresos & existencia\\_final\\\\\n <chr> & <chr> & <int> & <int> & <int> & <int>\\\\\n\\hline\n\t Anulación de sentencia      & reconocimiento de inocencia y anulación de sentencia & 0 &  3 & 0 & 0\\\\\n\t Anulación de Sentencia      & reconocimiento de inocencia y anulación de sentencia & 0 &  0 & 0 & 0\\\\\n\t Reconocimiento de inocencia & reconocimiento de inocencia y anulación de sentencia & 2 & 39 & 0 & 8\\\\\n\\end{tabular}\n\n\\item A grouped\\_df: 9 × 6\n\\begin{tabular}{llllll}\n tp\\_procedimiento & tp\\_asunto & existencia\\_inicial & ingresos & egresos & existencia\\_final\\\\\n <chr> & <chr> & <int> & <int> & <int> & <int>\\\\\n\\hline\n\t Apelación                & procesos federales administrativos y civiles en segunda instancia & 1170 & 2723 & 3253 & 640\\\\\n\t Competencia entre jueces & procesos federales administrativos y civiles en segunda instancia &   27 &   69 &   81 &  15\\\\\n\t Conflicto de acumulación & procesos federales administrativos y civiles en segunda instancia &    0 &    0 &    2 &   0\\\\\n\t Conflicto de Acumulación & procesos federales administrativos y civiles en segunda instancia &    1 &    1 &    0 &   0\\\\\n\t Denegada apelación       & procesos federales administrativos y civiles en segunda instancia &    0 &    0 &   23 &   0\\\\\n\t Denegada Apelación       & procesos federales administrativos y civiles en segunda instancia &    2 &   29 &    0 &   8\\\\\n\t Impedimento              & procesos federales administrativos y civiles en segunda instancia &    2 &   48 &   43 &   7\\\\\n\t Otro                     & procesos federales administrativos y civiles en segunda instancia &   34 &  233 &  218 &  49\\\\\n\t Queja                    & procesos federales administrativos y civiles en segunda instancia &    0 &    0 &    0 &   0\\\\\n\\end{tabular}\n\n\\item A grouped\\_df: 2 × 6\n\\begin{tabular}{llllll}\n tp\\_procedimiento & tp\\_asunto & existencia\\_inicial & ingresos & egresos & existencia\\_final\\\\\n <chr> & <chr> & <int> & <int> & <int> & <int>\\\\\n\\hline\n\t Anulación de Sentencia      & Reconocimiento de inocencia y anulación de sentencia & 0 & 0 &  3 & 0\\\\\n\t Reconocimiento de Inocencia & Reconocimiento de inocencia y anulación de sentencia & 0 & 0 & 33 & 0\\\\\n\\end{tabular}\n\n\\end{enumerate}\n",
            "text/markdown": "1. \nA grouped_df: 1 × 6\n\n| tp_procedimiento &lt;chr&gt; | tp_asunto &lt;chr&gt; | existencia_inicial &lt;int&gt; | ingresos &lt;int&gt; | egresos &lt;int&gt; | existencia_final &lt;int&gt; |\n|---|---|---|---|---|---|\n| <!----> | amparo indirecto | 847 | 2976 | 3138 | 684 |\n\n\n2. \nA grouped_df: 9 × 6\n\n| tp_procedimiento &lt;chr&gt; | tp_asunto &lt;chr&gt; | existencia_inicial &lt;int&gt; | ingresos &lt;int&gt; | egresos &lt;int&gt; | existencia_final &lt;int&gt; |\n|---|---|---|---|---|---|\n| Apelación                | procesos federales penales en segunda instancia | 1597 | 7640 | 8090 | 1147 |\n| Competencia entre jueces | procesos federales penales en segunda instancia |   39 |  343 |  350 |   32 |\n| Conflicto de acumulación | procesos federales penales en segunda instancia |    0 |    0 |    0 |    0 |\n| Conflicto De Acumulación | procesos federales penales en segunda instancia |    0 |    0 |    0 |    0 |\n| Denegada apelación       | procesos federales penales en segunda instancia |    0 |    0 |   33 |    0 |\n| Denegada Apelación       | procesos federales penales en segunda instancia |    1 |   35 |    0 |    3 |\n| Impedimento              | procesos federales penales en segunda instancia |    3 |   71 |   71 |    3 |\n| Otro                     | procesos federales penales en segunda instancia |    8 |   67 |   62 |   13 |\n| Queja                    | procesos federales penales en segunda instancia |   33 | 1116 | 1127 |   22 |\n\n\n3. \nA grouped_df: 3 × 6\n\n| tp_procedimiento &lt;chr&gt; | tp_asunto &lt;chr&gt; | existencia_inicial &lt;int&gt; | ingresos &lt;int&gt; | egresos &lt;int&gt; | existencia_final &lt;int&gt; |\n|---|---|---|---|---|---|\n| Anulación de sentencia      | reconocimiento de inocencia y anulación de sentencia | 0 |  3 | 0 | 0 |\n| Anulación de Sentencia      | reconocimiento de inocencia y anulación de sentencia | 0 |  0 | 0 | 0 |\n| Reconocimiento de inocencia | reconocimiento de inocencia y anulación de sentencia | 2 | 39 | 0 | 8 |\n\n\n4. \nA grouped_df: 9 × 6\n\n| tp_procedimiento &lt;chr&gt; | tp_asunto &lt;chr&gt; | existencia_inicial &lt;int&gt; | ingresos &lt;int&gt; | egresos &lt;int&gt; | existencia_final &lt;int&gt; |\n|---|---|---|---|---|---|\n| Apelación                | procesos federales administrativos y civiles en segunda instancia | 1170 | 2723 | 3253 | 640 |\n| Competencia entre jueces | procesos federales administrativos y civiles en segunda instancia |   27 |   69 |   81 |  15 |\n| Conflicto de acumulación | procesos federales administrativos y civiles en segunda instancia |    0 |    0 |    2 |   0 |\n| Conflicto de Acumulación | procesos federales administrativos y civiles en segunda instancia |    1 |    1 |    0 |   0 |\n| Denegada apelación       | procesos federales administrativos y civiles en segunda instancia |    0 |    0 |   23 |   0 |\n| Denegada Apelación       | procesos federales administrativos y civiles en segunda instancia |    2 |   29 |    0 |   8 |\n| Impedimento              | procesos federales administrativos y civiles en segunda instancia |    2 |   48 |   43 |   7 |\n| Otro                     | procesos federales administrativos y civiles en segunda instancia |   34 |  233 |  218 |  49 |\n| Queja                    | procesos federales administrativos y civiles en segunda instancia |    0 |    0 |    0 |   0 |\n\n\n5. \nA grouped_df: 2 × 6\n\n| tp_procedimiento &lt;chr&gt; | tp_asunto &lt;chr&gt; | existencia_inicial &lt;int&gt; | ingresos &lt;int&gt; | egresos &lt;int&gt; | existencia_final &lt;int&gt; |\n|---|---|---|---|---|---|\n| Anulación de Sentencia      | Reconocimiento de inocencia y anulación de sentencia | 0 | 0 |  3 | 0 |\n| Reconocimiento de Inocencia | Reconocimiento de inocencia y anulación de sentencia | 0 | 0 | 33 | 0 |\n\n\n\n\n",
            "text/html": [
              "<ol>\n",
              "\t<li><table class=\"dataframe\">\n",
              "<caption>A grouped_df: 1 × 6</caption>\n",
              "<thead>\n",
              "\t<tr><th scope=col>tp_procedimiento</th><th scope=col>tp_asunto</th><th scope=col>existencia_inicial</th><th scope=col>ingresos</th><th scope=col>egresos</th><th scope=col>existencia_final</th></tr>\n",
              "\t<tr><th scope=col>&lt;chr&gt;</th><th scope=col>&lt;chr&gt;</th><th scope=col>&lt;int&gt;</th><th scope=col>&lt;int&gt;</th><th scope=col>&lt;int&gt;</th><th scope=col>&lt;int&gt;</th></tr>\n",
              "</thead>\n",
              "<tbody>\n",
              "\t<tr><td></td><td>amparo indirecto</td><td>847</td><td>2976</td><td>3138</td><td>684</td></tr>\n",
              "</tbody>\n",
              "</table>\n",
              "</li>\n",
              "\t<li><table class=\"dataframe\">\n",
              "<caption>A grouped_df: 9 × 6</caption>\n",
              "<thead>\n",
              "\t<tr><th scope=col>tp_procedimiento</th><th scope=col>tp_asunto</th><th scope=col>existencia_inicial</th><th scope=col>ingresos</th><th scope=col>egresos</th><th scope=col>existencia_final</th></tr>\n",
              "\t<tr><th scope=col>&lt;chr&gt;</th><th scope=col>&lt;chr&gt;</th><th scope=col>&lt;int&gt;</th><th scope=col>&lt;int&gt;</th><th scope=col>&lt;int&gt;</th><th scope=col>&lt;int&gt;</th></tr>\n",
              "</thead>\n",
              "<tbody>\n",
              "\t<tr><td>Apelación               </td><td>procesos federales penales en segunda instancia</td><td>1597</td><td>7640</td><td>8090</td><td>1147</td></tr>\n",
              "\t<tr><td>Competencia entre jueces</td><td>procesos federales penales en segunda instancia</td><td>  39</td><td> 343</td><td> 350</td><td>  32</td></tr>\n",
              "\t<tr><td>Conflicto de acumulación</td><td>procesos federales penales en segunda instancia</td><td>   0</td><td>   0</td><td>   0</td><td>   0</td></tr>\n",
              "\t<tr><td>Conflicto De Acumulación</td><td>procesos federales penales en segunda instancia</td><td>   0</td><td>   0</td><td>   0</td><td>   0</td></tr>\n",
              "\t<tr><td>Denegada apelación      </td><td>procesos federales penales en segunda instancia</td><td>   0</td><td>   0</td><td>  33</td><td>   0</td></tr>\n",
              "\t<tr><td>Denegada Apelación      </td><td>procesos federales penales en segunda instancia</td><td>   1</td><td>  35</td><td>   0</td><td>   3</td></tr>\n",
              "\t<tr><td>Impedimento             </td><td>procesos federales penales en segunda instancia</td><td>   3</td><td>  71</td><td>  71</td><td>   3</td></tr>\n",
              "\t<tr><td>Otro                    </td><td>procesos federales penales en segunda instancia</td><td>   8</td><td>  67</td><td>  62</td><td>  13</td></tr>\n",
              "\t<tr><td>Queja                   </td><td>procesos federales penales en segunda instancia</td><td>  33</td><td>1116</td><td>1127</td><td>  22</td></tr>\n",
              "</tbody>\n",
              "</table>\n",
              "</li>\n",
              "\t<li><table class=\"dataframe\">\n",
              "<caption>A grouped_df: 3 × 6</caption>\n",
              "<thead>\n",
              "\t<tr><th scope=col>tp_procedimiento</th><th scope=col>tp_asunto</th><th scope=col>existencia_inicial</th><th scope=col>ingresos</th><th scope=col>egresos</th><th scope=col>existencia_final</th></tr>\n",
              "\t<tr><th scope=col>&lt;chr&gt;</th><th scope=col>&lt;chr&gt;</th><th scope=col>&lt;int&gt;</th><th scope=col>&lt;int&gt;</th><th scope=col>&lt;int&gt;</th><th scope=col>&lt;int&gt;</th></tr>\n",
              "</thead>\n",
              "<tbody>\n",
              "\t<tr><td>Anulación de sentencia     </td><td>reconocimiento de inocencia y anulación de sentencia</td><td>0</td><td> 3</td><td>0</td><td>0</td></tr>\n",
              "\t<tr><td>Anulación de Sentencia     </td><td>reconocimiento de inocencia y anulación de sentencia</td><td>0</td><td> 0</td><td>0</td><td>0</td></tr>\n",
              "\t<tr><td>Reconocimiento de inocencia</td><td>reconocimiento de inocencia y anulación de sentencia</td><td>2</td><td>39</td><td>0</td><td>8</td></tr>\n",
              "</tbody>\n",
              "</table>\n",
              "</li>\n",
              "\t<li><table class=\"dataframe\">\n",
              "<caption>A grouped_df: 9 × 6</caption>\n",
              "<thead>\n",
              "\t<tr><th scope=col>tp_procedimiento</th><th scope=col>tp_asunto</th><th scope=col>existencia_inicial</th><th scope=col>ingresos</th><th scope=col>egresos</th><th scope=col>existencia_final</th></tr>\n",
              "\t<tr><th scope=col>&lt;chr&gt;</th><th scope=col>&lt;chr&gt;</th><th scope=col>&lt;int&gt;</th><th scope=col>&lt;int&gt;</th><th scope=col>&lt;int&gt;</th><th scope=col>&lt;int&gt;</th></tr>\n",
              "</thead>\n",
              "<tbody>\n",
              "\t<tr><td>Apelación               </td><td>procesos federales administrativos y civiles en segunda instancia</td><td>1170</td><td>2723</td><td>3253</td><td>640</td></tr>\n",
              "\t<tr><td>Competencia entre jueces</td><td>procesos federales administrativos y civiles en segunda instancia</td><td>  27</td><td>  69</td><td>  81</td><td> 15</td></tr>\n",
              "\t<tr><td>Conflicto de acumulación</td><td>procesos federales administrativos y civiles en segunda instancia</td><td>   0</td><td>   0</td><td>   2</td><td>  0</td></tr>\n",
              "\t<tr><td>Conflicto de Acumulación</td><td>procesos federales administrativos y civiles en segunda instancia</td><td>   1</td><td>   1</td><td>   0</td><td>  0</td></tr>\n",
              "\t<tr><td>Denegada apelación      </td><td>procesos federales administrativos y civiles en segunda instancia</td><td>   0</td><td>   0</td><td>  23</td><td>  0</td></tr>\n",
              "\t<tr><td>Denegada Apelación      </td><td>procesos federales administrativos y civiles en segunda instancia</td><td>   2</td><td>  29</td><td>   0</td><td>  8</td></tr>\n",
              "\t<tr><td>Impedimento             </td><td>procesos federales administrativos y civiles en segunda instancia</td><td>   2</td><td>  48</td><td>  43</td><td>  7</td></tr>\n",
              "\t<tr><td>Otro                    </td><td>procesos federales administrativos y civiles en segunda instancia</td><td>  34</td><td> 233</td><td> 218</td><td> 49</td></tr>\n",
              "\t<tr><td>Queja                   </td><td>procesos federales administrativos y civiles en segunda instancia</td><td>   0</td><td>   0</td><td>   0</td><td>  0</td></tr>\n",
              "</tbody>\n",
              "</table>\n",
              "</li>\n",
              "\t<li><table class=\"dataframe\">\n",
              "<caption>A grouped_df: 2 × 6</caption>\n",
              "<thead>\n",
              "\t<tr><th scope=col>tp_procedimiento</th><th scope=col>tp_asunto</th><th scope=col>existencia_inicial</th><th scope=col>ingresos</th><th scope=col>egresos</th><th scope=col>existencia_final</th></tr>\n",
              "\t<tr><th scope=col>&lt;chr&gt;</th><th scope=col>&lt;chr&gt;</th><th scope=col>&lt;int&gt;</th><th scope=col>&lt;int&gt;</th><th scope=col>&lt;int&gt;</th><th scope=col>&lt;int&gt;</th></tr>\n",
              "</thead>\n",
              "<tbody>\n",
              "\t<tr><td>Anulación de Sentencia     </td><td>Reconocimiento de inocencia y anulación de sentencia</td><td>0</td><td>0</td><td> 3</td><td>0</td></tr>\n",
              "\t<tr><td>Reconocimiento de Inocencia</td><td>Reconocimiento de inocencia y anulación de sentencia</td><td>0</td><td>0</td><td>33</td><td>0</td></tr>\n",
              "</tbody>\n",
              "</table>\n",
              "</li>\n",
              "</ol>\n"
            ]
          },
          "metadata": {
            "tags": []
          }
        }
      ]
    },
    {
      "cell_type": "markdown",
      "metadata": {
        "id": "zgRTiFfac5uO"
      },
      "source": [
        "### Pregunta 2.3\n"
      ]
    },
    {
      "cell_type": "code",
      "metadata": {
        "colab": {
          "base_uri": "https://localhost:8080/",
          "height": 1000
        },
        "id": "qu_3_kfiiif4",
        "outputId": "38d3523d-1186-4aad-eda2-4957eebf3fd0"
      },
      "source": [
        "# Otros\n",
        " \n",
        "cubo %>%\n",
        "filter(tp_organo == \"Tribunales Unitarios de Circuito\") %>%\n",
        "filter(grepl(\"inocencia\", tp_asunto)) %>%\n",
        "mutate(egresos = egresos + egresos_acuerdo) %>% # egresos + egresos por acuerdo?\n",
        "select(circuito,  existencia_inicial, ingresos, egresos, Existencia_final) %>%\n",
        "mutate(circuito = factor(circuito, levels = orden_circuitos)) %>%\n",
        "group_by(circuito) %>%\n",
        "summarise_all(list(sum))%>%\n",
        "filter(!is.na(existencia_inicial))  %>%\n",
        "adorn_totals()"
      ],
      "execution_count": null,
      "outputs": [
        {
          "output_type": "display_data",
          "data": {
            "text/plain": [
              "   circuito                                          existencia_inicial\n",
              "1  Primer Circuito/ Ciudad de México                 2                 \n",
              "2  Segundo Circuito/ México                          0                 \n",
              "3  Tercer Circuito/ Jalisco                          0                 \n",
              "4  Cuarto Circuito/ Nuevo León                       0                 \n",
              "5  Quinto Circuito/ Sonora                           0                 \n",
              "6  Sexto Circuito/ Puebla                            0                 \n",
              "7  Séptimo Circuito/ Veracruz de Ignacio de la Llave 0                 \n",
              "8  Octavo Circuito/ Coahuila de Zaragoza             0                 \n",
              "9  Noveno Circuito/ San Luis Potosí                  0                 \n",
              "10 Décimo Circuito/ Tabasco-Veracruz                 0                 \n",
              "11 Decimoprimer Circuito/ Michoacán de Ocampo        0                 \n",
              "12 Decimosegundo Circuito/ Sinaloa                   0                 \n",
              "13 Decimotercer Circuito/ Oaxaca                     0                 \n",
              "14 Decimocuarto Circuito/ Yucatán                    0                 \n",
              "15 Decimoquinto Circuito/ Baja California            0                 \n",
              "16 Decimosexto Circuito/ Guanajuato                  0                 \n",
              "17 Decimoséptimo Circuito/ Chihuahua                 0                 \n",
              "18 Decimoctavo Circuito/ Morelos                     0                 \n",
              "19 Decimonoveno Circuito/ Tamaulipas                 0                 \n",
              "20 Vigésimo Circuito/ Chiapas                        0                 \n",
              "21 Vigésimo Primer Circuito/ Guerrero                0                 \n",
              "22 Vigésimo Segundo Circuito/ Querétaro              0                 \n",
              "23 Vigésimo Tercer Circuito/ Zacatecas               0                 \n",
              "24 Vigésimo Cuarto Circuito/ Nayarit                 0                 \n",
              "25 Vigésimo Quinto Circuito/ Durango                 0                 \n",
              "26 Vigésimo Sexto Circuito/ Baja California Sur      0                 \n",
              "27 Vigésimo Séptimo Circuito/ Quintana Roo           0                 \n",
              "28 Vigésimo Octavo Circuito/ Tlaxcala                0                 \n",
              "29 Vigésimo Noveno Circuito/ Hidalgo                 0                 \n",
              "30 Trigésimo Circuito/ Aguascalientes                0                 \n",
              "31 Trigésimo Primer Circuito/ Campeche               0                 \n",
              "32 Trigésimo Segundo Circuito/ Colima                0                 \n",
              "33 Total                                             2                 \n",
              "   ingresos egresos Existencia_final\n",
              "1   1        3      0               \n",
              "2   8        7      1               \n",
              "3  10        9      1               \n",
              "4   5        4      1               \n",
              "5   0        0      0               \n",
              "6   1        0      1               \n",
              "7   0        0      0               \n",
              "8   0        0      0               \n",
              "9   2        2      0               \n",
              "10  0        0      0               \n",
              "11  0        0      0               \n",
              "12  1        1      0               \n",
              "13  0        0      0               \n",
              "14  0        0      0               \n",
              "15  2        2      0               \n",
              "16  0        0      0               \n",
              "17  1        0      1               \n",
              "18  1        1      0               \n",
              "19  1        0      1               \n",
              "20  0        0      0               \n",
              "21  5        5      0               \n",
              "22  0        0      0               \n",
              "23  0        0      0               \n",
              "24  2        0      2               \n",
              "25  0        0      0               \n",
              "26  0        0      0               \n",
              "27  0        0      0               \n",
              "28  0        0      0               \n",
              "29  0        0      0               \n",
              "30  0        0      0               \n",
              "31  2        2      0               \n",
              "32  0        0      0               \n",
              "33 42       36      8               "
            ],
            "text/latex": "A tabyl: 33 × 5\n\\begin{tabular}{lllll}\n circuito & existencia\\_inicial & ingresos & egresos & Existencia\\_final\\\\\n <chr> & <int> & <int> & <int> & <int>\\\\\n\\hline\n\t Primer Circuito/ Ciudad de México                 & 2 &  1 &  3 & 0\\\\\n\t Segundo Circuito/ México                          & 0 &  8 &  7 & 1\\\\\n\t Tercer Circuito/ Jalisco                          & 0 & 10 &  9 & 1\\\\\n\t Cuarto Circuito/ Nuevo León                       & 0 &  5 &  4 & 1\\\\\n\t Quinto Circuito/ Sonora                           & 0 &  0 &  0 & 0\\\\\n\t Sexto Circuito/ Puebla                            & 0 &  1 &  0 & 1\\\\\n\t Séptimo Circuito/ Veracruz de Ignacio de la Llave & 0 &  0 &  0 & 0\\\\\n\t Octavo Circuito/ Coahuila de Zaragoza             & 0 &  0 &  0 & 0\\\\\n\t Noveno Circuito/ San Luis Potosí                  & 0 &  2 &  2 & 0\\\\\n\t Décimo Circuito/ Tabasco-Veracruz                 & 0 &  0 &  0 & 0\\\\\n\t Decimoprimer Circuito/ Michoacán de Ocampo        & 0 &  0 &  0 & 0\\\\\n\t Decimosegundo Circuito/ Sinaloa                   & 0 &  1 &  1 & 0\\\\\n\t Decimotercer Circuito/ Oaxaca                     & 0 &  0 &  0 & 0\\\\\n\t Decimocuarto Circuito/ Yucatán                    & 0 &  0 &  0 & 0\\\\\n\t Decimoquinto Circuito/ Baja California            & 0 &  2 &  2 & 0\\\\\n\t Decimosexto Circuito/ Guanajuato                  & 0 &  0 &  0 & 0\\\\\n\t Decimoséptimo Circuito/ Chihuahua                 & 0 &  1 &  0 & 1\\\\\n\t Decimoctavo Circuito/ Morelos                     & 0 &  1 &  1 & 0\\\\\n\t Decimonoveno Circuito/ Tamaulipas                 & 0 &  1 &  0 & 1\\\\\n\t Vigésimo Circuito/ Chiapas                        & 0 &  0 &  0 & 0\\\\\n\t Vigésimo Primer Circuito/ Guerrero                & 0 &  5 &  5 & 0\\\\\n\t Vigésimo Segundo Circuito/ Querétaro              & 0 &  0 &  0 & 0\\\\\n\t Vigésimo Tercer Circuito/ Zacatecas               & 0 &  0 &  0 & 0\\\\\n\t Vigésimo Cuarto Circuito/ Nayarit                 & 0 &  2 &  0 & 2\\\\\n\t Vigésimo Quinto Circuito/ Durango                 & 0 &  0 &  0 & 0\\\\\n\t Vigésimo Sexto Circuito/ Baja California Sur      & 0 &  0 &  0 & 0\\\\\n\t Vigésimo Séptimo Circuito/ Quintana Roo           & 0 &  0 &  0 & 0\\\\\n\t Vigésimo Octavo Circuito/ Tlaxcala                & 0 &  0 &  0 & 0\\\\\n\t Vigésimo Noveno Circuito/ Hidalgo                 & 0 &  0 &  0 & 0\\\\\n\t Trigésimo Circuito/ Aguascalientes                & 0 &  0 &  0 & 0\\\\\n\t Trigésimo Primer Circuito/ Campeche               & 0 &  2 &  2 & 0\\\\\n\t Trigésimo Segundo Circuito/ Colima                & 0 &  0 &  0 & 0\\\\\n\t Total                                             & 2 & 42 & 36 & 8\\\\\n\\end{tabular}\n",
            "text/markdown": "\nA tabyl: 33 × 5\n\n| circuito &lt;chr&gt; | existencia_inicial &lt;int&gt; | ingresos &lt;int&gt; | egresos &lt;int&gt; | Existencia_final &lt;int&gt; |\n|---|---|---|---|---|\n| Primer Circuito/ Ciudad de México                 | 2 |  1 |  3 | 0 |\n| Segundo Circuito/ México                          | 0 |  8 |  7 | 1 |\n| Tercer Circuito/ Jalisco                          | 0 | 10 |  9 | 1 |\n| Cuarto Circuito/ Nuevo León                       | 0 |  5 |  4 | 1 |\n| Quinto Circuito/ Sonora                           | 0 |  0 |  0 | 0 |\n| Sexto Circuito/ Puebla                            | 0 |  1 |  0 | 1 |\n| Séptimo Circuito/ Veracruz de Ignacio de la Llave | 0 |  0 |  0 | 0 |\n| Octavo Circuito/ Coahuila de Zaragoza             | 0 |  0 |  0 | 0 |\n| Noveno Circuito/ San Luis Potosí                  | 0 |  2 |  2 | 0 |\n| Décimo Circuito/ Tabasco-Veracruz                 | 0 |  0 |  0 | 0 |\n| Decimoprimer Circuito/ Michoacán de Ocampo        | 0 |  0 |  0 | 0 |\n| Decimosegundo Circuito/ Sinaloa                   | 0 |  1 |  1 | 0 |\n| Decimotercer Circuito/ Oaxaca                     | 0 |  0 |  0 | 0 |\n| Decimocuarto Circuito/ Yucatán                    | 0 |  0 |  0 | 0 |\n| Decimoquinto Circuito/ Baja California            | 0 |  2 |  2 | 0 |\n| Decimosexto Circuito/ Guanajuato                  | 0 |  0 |  0 | 0 |\n| Decimoséptimo Circuito/ Chihuahua                 | 0 |  1 |  0 | 1 |\n| Decimoctavo Circuito/ Morelos                     | 0 |  1 |  1 | 0 |\n| Decimonoveno Circuito/ Tamaulipas                 | 0 |  1 |  0 | 1 |\n| Vigésimo Circuito/ Chiapas                        | 0 |  0 |  0 | 0 |\n| Vigésimo Primer Circuito/ Guerrero                | 0 |  5 |  5 | 0 |\n| Vigésimo Segundo Circuito/ Querétaro              | 0 |  0 |  0 | 0 |\n| Vigésimo Tercer Circuito/ Zacatecas               | 0 |  0 |  0 | 0 |\n| Vigésimo Cuarto Circuito/ Nayarit                 | 0 |  2 |  0 | 2 |\n| Vigésimo Quinto Circuito/ Durango                 | 0 |  0 |  0 | 0 |\n| Vigésimo Sexto Circuito/ Baja California Sur      | 0 |  0 |  0 | 0 |\n| Vigésimo Séptimo Circuito/ Quintana Roo           | 0 |  0 |  0 | 0 |\n| Vigésimo Octavo Circuito/ Tlaxcala                | 0 |  0 |  0 | 0 |\n| Vigésimo Noveno Circuito/ Hidalgo                 | 0 |  0 |  0 | 0 |\n| Trigésimo Circuito/ Aguascalientes                | 0 |  0 |  0 | 0 |\n| Trigésimo Primer Circuito/ Campeche               | 0 |  2 |  2 | 0 |\n| Trigésimo Segundo Circuito/ Colima                | 0 |  0 |  0 | 0 |\n| Total                                             | 2 | 42 | 36 | 8 |\n\n",
            "text/html": [
              "<table class=\"dataframe\">\n",
              "<caption>A tabyl: 33 × 5</caption>\n",
              "<thead>\n",
              "\t<tr><th scope=col>circuito</th><th scope=col>existencia_inicial</th><th scope=col>ingresos</th><th scope=col>egresos</th><th scope=col>Existencia_final</th></tr>\n",
              "\t<tr><th scope=col>&lt;chr&gt;</th><th scope=col>&lt;int&gt;</th><th scope=col>&lt;int&gt;</th><th scope=col>&lt;int&gt;</th><th scope=col>&lt;int&gt;</th></tr>\n",
              "</thead>\n",
              "<tbody>\n",
              "\t<tr><td>Primer Circuito/ Ciudad de México                </td><td>2</td><td> 1</td><td> 3</td><td>0</td></tr>\n",
              "\t<tr><td>Segundo Circuito/ México                         </td><td>0</td><td> 8</td><td> 7</td><td>1</td></tr>\n",
              "\t<tr><td>Tercer Circuito/ Jalisco                         </td><td>0</td><td>10</td><td> 9</td><td>1</td></tr>\n",
              "\t<tr><td>Cuarto Circuito/ Nuevo León                      </td><td>0</td><td> 5</td><td> 4</td><td>1</td></tr>\n",
              "\t<tr><td>Quinto Circuito/ Sonora                          </td><td>0</td><td> 0</td><td> 0</td><td>0</td></tr>\n",
              "\t<tr><td>Sexto Circuito/ Puebla                           </td><td>0</td><td> 1</td><td> 0</td><td>1</td></tr>\n",
              "\t<tr><td>Séptimo Circuito/ Veracruz de Ignacio de la Llave</td><td>0</td><td> 0</td><td> 0</td><td>0</td></tr>\n",
              "\t<tr><td>Octavo Circuito/ Coahuila de Zaragoza            </td><td>0</td><td> 0</td><td> 0</td><td>0</td></tr>\n",
              "\t<tr><td>Noveno Circuito/ San Luis Potosí                 </td><td>0</td><td> 2</td><td> 2</td><td>0</td></tr>\n",
              "\t<tr><td>Décimo Circuito/ Tabasco-Veracruz                </td><td>0</td><td> 0</td><td> 0</td><td>0</td></tr>\n",
              "\t<tr><td>Decimoprimer Circuito/ Michoacán de Ocampo       </td><td>0</td><td> 0</td><td> 0</td><td>0</td></tr>\n",
              "\t<tr><td>Decimosegundo Circuito/ Sinaloa                  </td><td>0</td><td> 1</td><td> 1</td><td>0</td></tr>\n",
              "\t<tr><td>Decimotercer Circuito/ Oaxaca                    </td><td>0</td><td> 0</td><td> 0</td><td>0</td></tr>\n",
              "\t<tr><td>Decimocuarto Circuito/ Yucatán                   </td><td>0</td><td> 0</td><td> 0</td><td>0</td></tr>\n",
              "\t<tr><td>Decimoquinto Circuito/ Baja California           </td><td>0</td><td> 2</td><td> 2</td><td>0</td></tr>\n",
              "\t<tr><td>Decimosexto Circuito/ Guanajuato                 </td><td>0</td><td> 0</td><td> 0</td><td>0</td></tr>\n",
              "\t<tr><td>Decimoséptimo Circuito/ Chihuahua                </td><td>0</td><td> 1</td><td> 0</td><td>1</td></tr>\n",
              "\t<tr><td>Decimoctavo Circuito/ Morelos                    </td><td>0</td><td> 1</td><td> 1</td><td>0</td></tr>\n",
              "\t<tr><td>Decimonoveno Circuito/ Tamaulipas                </td><td>0</td><td> 1</td><td> 0</td><td>1</td></tr>\n",
              "\t<tr><td>Vigésimo Circuito/ Chiapas                       </td><td>0</td><td> 0</td><td> 0</td><td>0</td></tr>\n",
              "\t<tr><td>Vigésimo Primer Circuito/ Guerrero               </td><td>0</td><td> 5</td><td> 5</td><td>0</td></tr>\n",
              "\t<tr><td>Vigésimo Segundo Circuito/ Querétaro             </td><td>0</td><td> 0</td><td> 0</td><td>0</td></tr>\n",
              "\t<tr><td>Vigésimo Tercer Circuito/ Zacatecas              </td><td>0</td><td> 0</td><td> 0</td><td>0</td></tr>\n",
              "\t<tr><td>Vigésimo Cuarto Circuito/ Nayarit                </td><td>0</td><td> 2</td><td> 0</td><td>2</td></tr>\n",
              "\t<tr><td>Vigésimo Quinto Circuito/ Durango                </td><td>0</td><td> 0</td><td> 0</td><td>0</td></tr>\n",
              "\t<tr><td>Vigésimo Sexto Circuito/ Baja California Sur     </td><td>0</td><td> 0</td><td> 0</td><td>0</td></tr>\n",
              "\t<tr><td>Vigésimo Séptimo Circuito/ Quintana Roo          </td><td>0</td><td> 0</td><td> 0</td><td>0</td></tr>\n",
              "\t<tr><td>Vigésimo Octavo Circuito/ Tlaxcala               </td><td>0</td><td> 0</td><td> 0</td><td>0</td></tr>\n",
              "\t<tr><td>Vigésimo Noveno Circuito/ Hidalgo                </td><td>0</td><td> 0</td><td> 0</td><td>0</td></tr>\n",
              "\t<tr><td>Trigésimo Circuito/ Aguascalientes               </td><td>0</td><td> 0</td><td> 0</td><td>0</td></tr>\n",
              "\t<tr><td>Trigésimo Primer Circuito/ Campeche              </td><td>0</td><td> 2</td><td> 2</td><td>0</td></tr>\n",
              "\t<tr><td>Trigésimo Segundo Circuito/ Colima               </td><td>0</td><td> 0</td><td> 0</td><td>0</td></tr>\n",
              "\t<tr><td>Total                                            </td><td>2</td><td>42</td><td>36</td><td>8</td></tr>\n",
              "</tbody>\n",
              "</table>\n"
            ]
          },
          "metadata": {
            "tags": []
          }
        }
      ]
    },
    {
      "cell_type": "code",
      "metadata": {
        "colab": {
          "base_uri": "https://localhost:8080/",
          "height": 1000
        },
        "id": "uOXBiFWpc9lv",
        "outputId": "ea202ed7-c949-4cf4-ec06-e0fbbb8dcfb9"
      },
      "source": [
        "# Amparo indirecto\n",
        " \n",
        "cubo %>%\n",
        "filter(tp_organo == \"Tribunales Unitarios de Circuito\") %>%\n",
        "filter(tp_asunto == \"amparo indirecto\") %>%\n",
        "mutate(egresos = egresos + egresos_acuerdo) %>% # egresos + egresos por acuerdo?\n",
        "select(circuito,  existencia_inicial, ingresos, egresos, Existencia_final) %>%\n",
        "mutate(circuito = factor(circuito, levels = orden_circuitos)) %>%\n",
        "group_by(circuito) %>%\n",
        "summarise_all(list(sum))%>%\n",
        "filter(!is.na(existencia_inicial))  %>%\n",
        "adorn_totals()"
      ],
      "execution_count": null,
      "outputs": [
        {
          "output_type": "display_data",
          "data": {
            "text/plain": [
              "   circuito                                          existencia_inicial\n",
              "1  Primer Circuito/ Ciudad de México                 229               \n",
              "2  Segundo Circuito/ México                          113               \n",
              "3  Tercer Circuito/ Jalisco                           52               \n",
              "4  Cuarto Circuito/ Nuevo León                        18               \n",
              "5  Quinto Circuito/ Sonora                            10               \n",
              "6  Sexto Circuito/ Puebla                             53               \n",
              "7  Séptimo Circuito/ Veracruz de Ignacio de la Llave  34               \n",
              "8  Octavo Circuito/ Coahuila de Zaragoza              10               \n",
              "9  Noveno Circuito/ San Luis Potosí                    0               \n",
              "10 Décimo Circuito/ Tabasco-Veracruz                  18               \n",
              "11 Decimoprimer Circuito/ Michoacán de Ocampo         16               \n",
              "12 Decimosegundo Circuito/ Sinaloa                    35               \n",
              "13 Decimotercer Circuito/ Oaxaca                      26               \n",
              "14 Decimocuarto Circuito/ Yucatán                      6               \n",
              "15 Decimoquinto Circuito/ Baja California             34               \n",
              "16 Decimosexto Circuito/ Guanajuato                   19               \n",
              "17 Decimoséptimo Circuito/ Chihuahua                  17               \n",
              "18 Decimoctavo Circuito/ Morelos                       2               \n",
              "19 Decimonoveno Circuito/ Tamaulipas                  49               \n",
              "20 Vigésimo Circuito/ Chiapas                          9               \n",
              "21 Vigésimo Primer Circuito/ Guerrero                 45               \n",
              "22 Vigésimo Segundo Circuito/ Querétaro                0               \n",
              "23 Vigésimo Tercer Circuito/ Zacatecas                14               \n",
              "24 Vigésimo Cuarto Circuito/ Nayarit                   6               \n",
              "25 Vigésimo Quinto Circuito/ Durango                   0               \n",
              "26 Vigésimo Sexto Circuito/ Baja California Sur        0               \n",
              "27 Vigésimo Séptimo Circuito/ Quintana Roo            18               \n",
              "28 Vigésimo Octavo Circuito/ Tlaxcala                  0               \n",
              "29 Vigésimo Noveno Circuito/ Hidalgo                   0               \n",
              "30 Trigésimo Circuito/ Aguascalientes                  6               \n",
              "31 Trigésimo Primer Circuito/ Campeche                 8               \n",
              "32 Trigésimo Segundo Circuito/ Colima                  0               \n",
              "33 Total                                             847               \n",
              "   ingresos egresos Existencia_final\n",
              "1   761      810    179             \n",
              "2   360      371    102             \n",
              "3   214      223     43             \n",
              "4    62       70     10             \n",
              "5    72       70     12             \n",
              "6    78       96     35             \n",
              "7    73       81     26             \n",
              "8    94       87     17             \n",
              "9     3        3      0             \n",
              "10   37       46      9             \n",
              "11  101      101     16             \n",
              "12  139      121     53             \n",
              "13   72       83     15             \n",
              "14   53       53      6             \n",
              "15  120      129     25             \n",
              "16  124      127     16             \n",
              "17   61       68     10             \n",
              "18   29       29      2             \n",
              "19  164      176     37             \n",
              "20   25       29      5             \n",
              "21   71       99     17             \n",
              "22    7        7      0             \n",
              "23   26       36      4             \n",
              "24   28       26      8             \n",
              "25    4        4      0             \n",
              "26   26       26      0             \n",
              "27   56       57     17             \n",
              "28    5        4      1             \n",
              "29    0        0      0             \n",
              "30   66       63      9             \n",
              "31   40       38     10             \n",
              "32    5        5      0             \n",
              "33 2976     3138    684             "
            ],
            "text/latex": "A tabyl: 33 × 5\n\\begin{tabular}{lllll}\n circuito & existencia\\_inicial & ingresos & egresos & Existencia\\_final\\\\\n <chr> & <int> & <int> & <int> & <int>\\\\\n\\hline\n\t Primer Circuito/ Ciudad de México                 & 229 &  761 &  810 & 179\\\\\n\t Segundo Circuito/ México                          & 113 &  360 &  371 & 102\\\\\n\t Tercer Circuito/ Jalisco                          &  52 &  214 &  223 &  43\\\\\n\t Cuarto Circuito/ Nuevo León                       &  18 &   62 &   70 &  10\\\\\n\t Quinto Circuito/ Sonora                           &  10 &   72 &   70 &  12\\\\\n\t Sexto Circuito/ Puebla                            &  53 &   78 &   96 &  35\\\\\n\t Séptimo Circuito/ Veracruz de Ignacio de la Llave &  34 &   73 &   81 &  26\\\\\n\t Octavo Circuito/ Coahuila de Zaragoza             &  10 &   94 &   87 &  17\\\\\n\t Noveno Circuito/ San Luis Potosí                  &   0 &    3 &    3 &   0\\\\\n\t Décimo Circuito/ Tabasco-Veracruz                 &  18 &   37 &   46 &   9\\\\\n\t Decimoprimer Circuito/ Michoacán de Ocampo        &  16 &  101 &  101 &  16\\\\\n\t Decimosegundo Circuito/ Sinaloa                   &  35 &  139 &  121 &  53\\\\\n\t Decimotercer Circuito/ Oaxaca                     &  26 &   72 &   83 &  15\\\\\n\t Decimocuarto Circuito/ Yucatán                    &   6 &   53 &   53 &   6\\\\\n\t Decimoquinto Circuito/ Baja California            &  34 &  120 &  129 &  25\\\\\n\t Decimosexto Circuito/ Guanajuato                  &  19 &  124 &  127 &  16\\\\\n\t Decimoséptimo Circuito/ Chihuahua                 &  17 &   61 &   68 &  10\\\\\n\t Decimoctavo Circuito/ Morelos                     &   2 &   29 &   29 &   2\\\\\n\t Decimonoveno Circuito/ Tamaulipas                 &  49 &  164 &  176 &  37\\\\\n\t Vigésimo Circuito/ Chiapas                        &   9 &   25 &   29 &   5\\\\\n\t Vigésimo Primer Circuito/ Guerrero                &  45 &   71 &   99 &  17\\\\\n\t Vigésimo Segundo Circuito/ Querétaro              &   0 &    7 &    7 &   0\\\\\n\t Vigésimo Tercer Circuito/ Zacatecas               &  14 &   26 &   36 &   4\\\\\n\t Vigésimo Cuarto Circuito/ Nayarit                 &   6 &   28 &   26 &   8\\\\\n\t Vigésimo Quinto Circuito/ Durango                 &   0 &    4 &    4 &   0\\\\\n\t Vigésimo Sexto Circuito/ Baja California Sur      &   0 &   26 &   26 &   0\\\\\n\t Vigésimo Séptimo Circuito/ Quintana Roo           &  18 &   56 &   57 &  17\\\\\n\t Vigésimo Octavo Circuito/ Tlaxcala                &   0 &    5 &    4 &   1\\\\\n\t Vigésimo Noveno Circuito/ Hidalgo                 &   0 &    0 &    0 &   0\\\\\n\t Trigésimo Circuito/ Aguascalientes                &   6 &   66 &   63 &   9\\\\\n\t Trigésimo Primer Circuito/ Campeche               &   8 &   40 &   38 &  10\\\\\n\t Trigésimo Segundo Circuito/ Colima                &   0 &    5 &    5 &   0\\\\\n\t Total                                             & 847 & 2976 & 3138 & 684\\\\\n\\end{tabular}\n",
            "text/markdown": "\nA tabyl: 33 × 5\n\n| circuito &lt;chr&gt; | existencia_inicial &lt;int&gt; | ingresos &lt;int&gt; | egresos &lt;int&gt; | Existencia_final &lt;int&gt; |\n|---|---|---|---|---|\n| Primer Circuito/ Ciudad de México                 | 229 |  761 |  810 | 179 |\n| Segundo Circuito/ México                          | 113 |  360 |  371 | 102 |\n| Tercer Circuito/ Jalisco                          |  52 |  214 |  223 |  43 |\n| Cuarto Circuito/ Nuevo León                       |  18 |   62 |   70 |  10 |\n| Quinto Circuito/ Sonora                           |  10 |   72 |   70 |  12 |\n| Sexto Circuito/ Puebla                            |  53 |   78 |   96 |  35 |\n| Séptimo Circuito/ Veracruz de Ignacio de la Llave |  34 |   73 |   81 |  26 |\n| Octavo Circuito/ Coahuila de Zaragoza             |  10 |   94 |   87 |  17 |\n| Noveno Circuito/ San Luis Potosí                  |   0 |    3 |    3 |   0 |\n| Décimo Circuito/ Tabasco-Veracruz                 |  18 |   37 |   46 |   9 |\n| Decimoprimer Circuito/ Michoacán de Ocampo        |  16 |  101 |  101 |  16 |\n| Decimosegundo Circuito/ Sinaloa                   |  35 |  139 |  121 |  53 |\n| Decimotercer Circuito/ Oaxaca                     |  26 |   72 |   83 |  15 |\n| Decimocuarto Circuito/ Yucatán                    |   6 |   53 |   53 |   6 |\n| Decimoquinto Circuito/ Baja California            |  34 |  120 |  129 |  25 |\n| Decimosexto Circuito/ Guanajuato                  |  19 |  124 |  127 |  16 |\n| Decimoséptimo Circuito/ Chihuahua                 |  17 |   61 |   68 |  10 |\n| Decimoctavo Circuito/ Morelos                     |   2 |   29 |   29 |   2 |\n| Decimonoveno Circuito/ Tamaulipas                 |  49 |  164 |  176 |  37 |\n| Vigésimo Circuito/ Chiapas                        |   9 |   25 |   29 |   5 |\n| Vigésimo Primer Circuito/ Guerrero                |  45 |   71 |   99 |  17 |\n| Vigésimo Segundo Circuito/ Querétaro              |   0 |    7 |    7 |   0 |\n| Vigésimo Tercer Circuito/ Zacatecas               |  14 |   26 |   36 |   4 |\n| Vigésimo Cuarto Circuito/ Nayarit                 |   6 |   28 |   26 |   8 |\n| Vigésimo Quinto Circuito/ Durango                 |   0 |    4 |    4 |   0 |\n| Vigésimo Sexto Circuito/ Baja California Sur      |   0 |   26 |   26 |   0 |\n| Vigésimo Séptimo Circuito/ Quintana Roo           |  18 |   56 |   57 |  17 |\n| Vigésimo Octavo Circuito/ Tlaxcala                |   0 |    5 |    4 |   1 |\n| Vigésimo Noveno Circuito/ Hidalgo                 |   0 |    0 |    0 |   0 |\n| Trigésimo Circuito/ Aguascalientes                |   6 |   66 |   63 |   9 |\n| Trigésimo Primer Circuito/ Campeche               |   8 |   40 |   38 |  10 |\n| Trigésimo Segundo Circuito/ Colima                |   0 |    5 |    5 |   0 |\n| Total                                             | 847 | 2976 | 3138 | 684 |\n\n",
            "text/html": [
              "<table class=\"dataframe\">\n",
              "<caption>A tabyl: 33 × 5</caption>\n",
              "<thead>\n",
              "\t<tr><th scope=col>circuito</th><th scope=col>existencia_inicial</th><th scope=col>ingresos</th><th scope=col>egresos</th><th scope=col>Existencia_final</th></tr>\n",
              "\t<tr><th scope=col>&lt;chr&gt;</th><th scope=col>&lt;int&gt;</th><th scope=col>&lt;int&gt;</th><th scope=col>&lt;int&gt;</th><th scope=col>&lt;int&gt;</th></tr>\n",
              "</thead>\n",
              "<tbody>\n",
              "\t<tr><td>Primer Circuito/ Ciudad de México                </td><td>229</td><td> 761</td><td> 810</td><td>179</td></tr>\n",
              "\t<tr><td>Segundo Circuito/ México                         </td><td>113</td><td> 360</td><td> 371</td><td>102</td></tr>\n",
              "\t<tr><td>Tercer Circuito/ Jalisco                         </td><td> 52</td><td> 214</td><td> 223</td><td> 43</td></tr>\n",
              "\t<tr><td>Cuarto Circuito/ Nuevo León                      </td><td> 18</td><td>  62</td><td>  70</td><td> 10</td></tr>\n",
              "\t<tr><td>Quinto Circuito/ Sonora                          </td><td> 10</td><td>  72</td><td>  70</td><td> 12</td></tr>\n",
              "\t<tr><td>Sexto Circuito/ Puebla                           </td><td> 53</td><td>  78</td><td>  96</td><td> 35</td></tr>\n",
              "\t<tr><td>Séptimo Circuito/ Veracruz de Ignacio de la Llave</td><td> 34</td><td>  73</td><td>  81</td><td> 26</td></tr>\n",
              "\t<tr><td>Octavo Circuito/ Coahuila de Zaragoza            </td><td> 10</td><td>  94</td><td>  87</td><td> 17</td></tr>\n",
              "\t<tr><td>Noveno Circuito/ San Luis Potosí                 </td><td>  0</td><td>   3</td><td>   3</td><td>  0</td></tr>\n",
              "\t<tr><td>Décimo Circuito/ Tabasco-Veracruz                </td><td> 18</td><td>  37</td><td>  46</td><td>  9</td></tr>\n",
              "\t<tr><td>Decimoprimer Circuito/ Michoacán de Ocampo       </td><td> 16</td><td> 101</td><td> 101</td><td> 16</td></tr>\n",
              "\t<tr><td>Decimosegundo Circuito/ Sinaloa                  </td><td> 35</td><td> 139</td><td> 121</td><td> 53</td></tr>\n",
              "\t<tr><td>Decimotercer Circuito/ Oaxaca                    </td><td> 26</td><td>  72</td><td>  83</td><td> 15</td></tr>\n",
              "\t<tr><td>Decimocuarto Circuito/ Yucatán                   </td><td>  6</td><td>  53</td><td>  53</td><td>  6</td></tr>\n",
              "\t<tr><td>Decimoquinto Circuito/ Baja California           </td><td> 34</td><td> 120</td><td> 129</td><td> 25</td></tr>\n",
              "\t<tr><td>Decimosexto Circuito/ Guanajuato                 </td><td> 19</td><td> 124</td><td> 127</td><td> 16</td></tr>\n",
              "\t<tr><td>Decimoséptimo Circuito/ Chihuahua                </td><td> 17</td><td>  61</td><td>  68</td><td> 10</td></tr>\n",
              "\t<tr><td>Decimoctavo Circuito/ Morelos                    </td><td>  2</td><td>  29</td><td>  29</td><td>  2</td></tr>\n",
              "\t<tr><td>Decimonoveno Circuito/ Tamaulipas                </td><td> 49</td><td> 164</td><td> 176</td><td> 37</td></tr>\n",
              "\t<tr><td>Vigésimo Circuito/ Chiapas                       </td><td>  9</td><td>  25</td><td>  29</td><td>  5</td></tr>\n",
              "\t<tr><td>Vigésimo Primer Circuito/ Guerrero               </td><td> 45</td><td>  71</td><td>  99</td><td> 17</td></tr>\n",
              "\t<tr><td>Vigésimo Segundo Circuito/ Querétaro             </td><td>  0</td><td>   7</td><td>   7</td><td>  0</td></tr>\n",
              "\t<tr><td>Vigésimo Tercer Circuito/ Zacatecas              </td><td> 14</td><td>  26</td><td>  36</td><td>  4</td></tr>\n",
              "\t<tr><td>Vigésimo Cuarto Circuito/ Nayarit                </td><td>  6</td><td>  28</td><td>  26</td><td>  8</td></tr>\n",
              "\t<tr><td>Vigésimo Quinto Circuito/ Durango                </td><td>  0</td><td>   4</td><td>   4</td><td>  0</td></tr>\n",
              "\t<tr><td>Vigésimo Sexto Circuito/ Baja California Sur     </td><td>  0</td><td>  26</td><td>  26</td><td>  0</td></tr>\n",
              "\t<tr><td>Vigésimo Séptimo Circuito/ Quintana Roo          </td><td> 18</td><td>  56</td><td>  57</td><td> 17</td></tr>\n",
              "\t<tr><td>Vigésimo Octavo Circuito/ Tlaxcala               </td><td>  0</td><td>   5</td><td>   4</td><td>  1</td></tr>\n",
              "\t<tr><td>Vigésimo Noveno Circuito/ Hidalgo                </td><td>  0</td><td>   0</td><td>   0</td><td>  0</td></tr>\n",
              "\t<tr><td>Trigésimo Circuito/ Aguascalientes               </td><td>  6</td><td>  66</td><td>  63</td><td>  9</td></tr>\n",
              "\t<tr><td>Trigésimo Primer Circuito/ Campeche              </td><td>  8</td><td>  40</td><td>  38</td><td> 10</td></tr>\n",
              "\t<tr><td>Trigésimo Segundo Circuito/ Colima               </td><td>  0</td><td>   5</td><td>   5</td><td>  0</td></tr>\n",
              "\t<tr><td>Total                                            </td><td>847</td><td>2976</td><td>3138</td><td>684</td></tr>\n",
              "</tbody>\n",
              "</table>\n"
            ]
          },
          "metadata": {
            "tags": []
          }
        }
      ]
    },
    {
      "cell_type": "code",
      "metadata": {
        "colab": {
          "base_uri": "https://localhost:8080/",
          "height": 1000
        },
        "id": "TgMHo9iqf4aw",
        "outputId": "751a0f21-864a-454b-c7cf-5a3ae60b279f"
      },
      "source": [
        "#procesos federales penales en segunda instancia\n",
        "cubo %>%\n",
        "filter(tp_organo == \"Tribunales Unitarios de Circuito\") %>%\n",
        "filter(tp_asunto == \"procesos federales penales en segunda instancia\") %>%\n",
        "mutate(egresos = egresos + egresos_acuerdo) %>% # egresos + egresos por acuerdo?\n",
        "select(circuito,  existencia_inicial, ingresos, egresos, Existencia_final) %>%\n",
        "mutate(circuito = factor(circuito, levels = orden_circuitos)) %>%\n",
        "group_by(circuito) %>%\n",
        "summarise_all(list(sum))%>%\n",
        "filter(!is.na(existencia_inicial))  %>%\n",
        "adorn_totals()"
      ],
      "execution_count": null,
      "outputs": [
        {
          "output_type": "display_data",
          "data": {
            "text/plain": [
              "   circuito                                          existencia_inicial\n",
              "1  Primer Circuito/ Ciudad de México                  219              \n",
              "2  Segundo Circuito/ México                           290              \n",
              "3  Tercer Circuito/ Jalisco                            90              \n",
              "4  Cuarto Circuito/ Nuevo León                         72              \n",
              "5  Quinto Circuito/ Sonora                             53              \n",
              "6  Sexto Circuito/ Puebla                              53              \n",
              "7  Séptimo Circuito/ Veracruz de Ignacio de la Llave   32              \n",
              "8  Octavo Circuito/ Coahuila de Zaragoza               38              \n",
              "9  Noveno Circuito/ San Luis Potosí                    22              \n",
              "10 Décimo Circuito/ Tabasco-Veracruz                   22              \n",
              "11 Decimoprimer Circuito/ Michoacán de Ocampo          33              \n",
              "12 Decimosegundo Circuito/ Sinaloa                     42              \n",
              "13 Decimotercer Circuito/ Oaxaca                       40              \n",
              "14 Decimocuarto Circuito/ Yucatán                       6              \n",
              "15 Decimoquinto Circuito/ Baja California              46              \n",
              "16 Decimosexto Circuito/ Guanajuato                    50              \n",
              "17 Decimoséptimo Circuito/ Chihuahua                   55              \n",
              "18 Decimoctavo Circuito/ Morelos                       23              \n",
              "19 Decimonoveno Circuito/ Tamaulipas                  246              \n",
              "20 Vigésimo Circuito/ Chiapas                          20              \n",
              "21 Vigésimo Primer Circuito/ Guerrero                  84              \n",
              "22 Vigésimo Segundo Circuito/ Querétaro                13              \n",
              "23 Vigésimo Tercer Circuito/ Zacatecas                 24              \n",
              "24 Vigésimo Cuarto Circuito/ Nayarit                   16              \n",
              "25 Vigésimo Quinto Circuito/ Durango                    7              \n",
              "26 Vigésimo Sexto Circuito/ Baja California Sur         8              \n",
              "27 Vigésimo Séptimo Circuito/ Quintana Roo             30              \n",
              "28 Vigésimo Octavo Circuito/ Tlaxcala                   9              \n",
              "29 Vigésimo Noveno Circuito/ Hidalgo                   13              \n",
              "30 Trigésimo Circuito/ Aguascalientes                   6              \n",
              "31 Trigésimo Primer Circuito/ Campeche                 13              \n",
              "32 Trigésimo Segundo Circuito/ Colima                   6              \n",
              "33 Total                                             1681              \n",
              "   ingresos egresos Existencia_final\n",
              "1  1317     1368     168            \n",
              "2  1203     1273     220            \n",
              "3   619      635      74            \n",
              "4   300      346      26            \n",
              "5   387      411      29            \n",
              "6   239      223      69            \n",
              "7   201      197      36            \n",
              "8   235      249      24            \n",
              "9   104      113      13            \n",
              "10  118      125      15            \n",
              "11  324      323      34            \n",
              "12  336      364      14            \n",
              "13  183      195      28            \n",
              "14   60       57       9            \n",
              "15  542      568      20            \n",
              "16  561      566      45            \n",
              "17  285      312      28            \n",
              "18  156      165      14            \n",
              "19  649      720     175            \n",
              "20  189      195      14            \n",
              "21  273      311      46            \n",
              "22  106      113       6            \n",
              "23   96      112       8            \n",
              "24  137      117      36            \n",
              "25   62       64       5            \n",
              "26   99      104       3            \n",
              "27   93      100      23            \n",
              "28   79       77      11            \n",
              "29   76       82       7            \n",
              "30   89       89       6            \n",
              "31   66       70       9            \n",
              "32   88       89       5            \n",
              "33 9272     9733    1220            "
            ],
            "text/latex": "A tabyl: 33 × 5\n\\begin{tabular}{lllll}\n circuito & existencia\\_inicial & ingresos & egresos & Existencia\\_final\\\\\n <chr> & <int> & <int> & <int> & <int>\\\\\n\\hline\n\t Primer Circuito/ Ciudad de México                 &  219 & 1317 & 1368 &  168\\\\\n\t Segundo Circuito/ México                          &  290 & 1203 & 1273 &  220\\\\\n\t Tercer Circuito/ Jalisco                          &   90 &  619 &  635 &   74\\\\\n\t Cuarto Circuito/ Nuevo León                       &   72 &  300 &  346 &   26\\\\\n\t Quinto Circuito/ Sonora                           &   53 &  387 &  411 &   29\\\\\n\t Sexto Circuito/ Puebla                            &   53 &  239 &  223 &   69\\\\\n\t Séptimo Circuito/ Veracruz de Ignacio de la Llave &   32 &  201 &  197 &   36\\\\\n\t Octavo Circuito/ Coahuila de Zaragoza             &   38 &  235 &  249 &   24\\\\\n\t Noveno Circuito/ San Luis Potosí                  &   22 &  104 &  113 &   13\\\\\n\t Décimo Circuito/ Tabasco-Veracruz                 &   22 &  118 &  125 &   15\\\\\n\t Decimoprimer Circuito/ Michoacán de Ocampo        &   33 &  324 &  323 &   34\\\\\n\t Decimosegundo Circuito/ Sinaloa                   &   42 &  336 &  364 &   14\\\\\n\t Decimotercer Circuito/ Oaxaca                     &   40 &  183 &  195 &   28\\\\\n\t Decimocuarto Circuito/ Yucatán                    &    6 &   60 &   57 &    9\\\\\n\t Decimoquinto Circuito/ Baja California            &   46 &  542 &  568 &   20\\\\\n\t Decimosexto Circuito/ Guanajuato                  &   50 &  561 &  566 &   45\\\\\n\t Decimoséptimo Circuito/ Chihuahua                 &   55 &  285 &  312 &   28\\\\\n\t Decimoctavo Circuito/ Morelos                     &   23 &  156 &  165 &   14\\\\\n\t Decimonoveno Circuito/ Tamaulipas                 &  246 &  649 &  720 &  175\\\\\n\t Vigésimo Circuito/ Chiapas                        &   20 &  189 &  195 &   14\\\\\n\t Vigésimo Primer Circuito/ Guerrero                &   84 &  273 &  311 &   46\\\\\n\t Vigésimo Segundo Circuito/ Querétaro              &   13 &  106 &  113 &    6\\\\\n\t Vigésimo Tercer Circuito/ Zacatecas               &   24 &   96 &  112 &    8\\\\\n\t Vigésimo Cuarto Circuito/ Nayarit                 &   16 &  137 &  117 &   36\\\\\n\t Vigésimo Quinto Circuito/ Durango                 &    7 &   62 &   64 &    5\\\\\n\t Vigésimo Sexto Circuito/ Baja California Sur      &    8 &   99 &  104 &    3\\\\\n\t Vigésimo Séptimo Circuito/ Quintana Roo           &   30 &   93 &  100 &   23\\\\\n\t Vigésimo Octavo Circuito/ Tlaxcala                &    9 &   79 &   77 &   11\\\\\n\t Vigésimo Noveno Circuito/ Hidalgo                 &   13 &   76 &   82 &    7\\\\\n\t Trigésimo Circuito/ Aguascalientes                &    6 &   89 &   89 &    6\\\\\n\t Trigésimo Primer Circuito/ Campeche               &   13 &   66 &   70 &    9\\\\\n\t Trigésimo Segundo Circuito/ Colima                &    6 &   88 &   89 &    5\\\\\n\t Total                                             & 1681 & 9272 & 9733 & 1220\\\\\n\\end{tabular}\n",
            "text/markdown": "\nA tabyl: 33 × 5\n\n| circuito &lt;chr&gt; | existencia_inicial &lt;int&gt; | ingresos &lt;int&gt; | egresos &lt;int&gt; | Existencia_final &lt;int&gt; |\n|---|---|---|---|---|\n| Primer Circuito/ Ciudad de México                 |  219 | 1317 | 1368 |  168 |\n| Segundo Circuito/ México                          |  290 | 1203 | 1273 |  220 |\n| Tercer Circuito/ Jalisco                          |   90 |  619 |  635 |   74 |\n| Cuarto Circuito/ Nuevo León                       |   72 |  300 |  346 |   26 |\n| Quinto Circuito/ Sonora                           |   53 |  387 |  411 |   29 |\n| Sexto Circuito/ Puebla                            |   53 |  239 |  223 |   69 |\n| Séptimo Circuito/ Veracruz de Ignacio de la Llave |   32 |  201 |  197 |   36 |\n| Octavo Circuito/ Coahuila de Zaragoza             |   38 |  235 |  249 |   24 |\n| Noveno Circuito/ San Luis Potosí                  |   22 |  104 |  113 |   13 |\n| Décimo Circuito/ Tabasco-Veracruz                 |   22 |  118 |  125 |   15 |\n| Decimoprimer Circuito/ Michoacán de Ocampo        |   33 |  324 |  323 |   34 |\n| Decimosegundo Circuito/ Sinaloa                   |   42 |  336 |  364 |   14 |\n| Decimotercer Circuito/ Oaxaca                     |   40 |  183 |  195 |   28 |\n| Decimocuarto Circuito/ Yucatán                    |    6 |   60 |   57 |    9 |\n| Decimoquinto Circuito/ Baja California            |   46 |  542 |  568 |   20 |\n| Decimosexto Circuito/ Guanajuato                  |   50 |  561 |  566 |   45 |\n| Decimoséptimo Circuito/ Chihuahua                 |   55 |  285 |  312 |   28 |\n| Decimoctavo Circuito/ Morelos                     |   23 |  156 |  165 |   14 |\n| Decimonoveno Circuito/ Tamaulipas                 |  246 |  649 |  720 |  175 |\n| Vigésimo Circuito/ Chiapas                        |   20 |  189 |  195 |   14 |\n| Vigésimo Primer Circuito/ Guerrero                |   84 |  273 |  311 |   46 |\n| Vigésimo Segundo Circuito/ Querétaro              |   13 |  106 |  113 |    6 |\n| Vigésimo Tercer Circuito/ Zacatecas               |   24 |   96 |  112 |    8 |\n| Vigésimo Cuarto Circuito/ Nayarit                 |   16 |  137 |  117 |   36 |\n| Vigésimo Quinto Circuito/ Durango                 |    7 |   62 |   64 |    5 |\n| Vigésimo Sexto Circuito/ Baja California Sur      |    8 |   99 |  104 |    3 |\n| Vigésimo Séptimo Circuito/ Quintana Roo           |   30 |   93 |  100 |   23 |\n| Vigésimo Octavo Circuito/ Tlaxcala                |    9 |   79 |   77 |   11 |\n| Vigésimo Noveno Circuito/ Hidalgo                 |   13 |   76 |   82 |    7 |\n| Trigésimo Circuito/ Aguascalientes                |    6 |   89 |   89 |    6 |\n| Trigésimo Primer Circuito/ Campeche               |   13 |   66 |   70 |    9 |\n| Trigésimo Segundo Circuito/ Colima                |    6 |   88 |   89 |    5 |\n| Total                                             | 1681 | 9272 | 9733 | 1220 |\n\n",
            "text/html": [
              "<table class=\"dataframe\">\n",
              "<caption>A tabyl: 33 × 5</caption>\n",
              "<thead>\n",
              "\t<tr><th scope=col>circuito</th><th scope=col>existencia_inicial</th><th scope=col>ingresos</th><th scope=col>egresos</th><th scope=col>Existencia_final</th></tr>\n",
              "\t<tr><th scope=col>&lt;chr&gt;</th><th scope=col>&lt;int&gt;</th><th scope=col>&lt;int&gt;</th><th scope=col>&lt;int&gt;</th><th scope=col>&lt;int&gt;</th></tr>\n",
              "</thead>\n",
              "<tbody>\n",
              "\t<tr><td>Primer Circuito/ Ciudad de México                </td><td> 219</td><td>1317</td><td>1368</td><td> 168</td></tr>\n",
              "\t<tr><td>Segundo Circuito/ México                         </td><td> 290</td><td>1203</td><td>1273</td><td> 220</td></tr>\n",
              "\t<tr><td>Tercer Circuito/ Jalisco                         </td><td>  90</td><td> 619</td><td> 635</td><td>  74</td></tr>\n",
              "\t<tr><td>Cuarto Circuito/ Nuevo León                      </td><td>  72</td><td> 300</td><td> 346</td><td>  26</td></tr>\n",
              "\t<tr><td>Quinto Circuito/ Sonora                          </td><td>  53</td><td> 387</td><td> 411</td><td>  29</td></tr>\n",
              "\t<tr><td>Sexto Circuito/ Puebla                           </td><td>  53</td><td> 239</td><td> 223</td><td>  69</td></tr>\n",
              "\t<tr><td>Séptimo Circuito/ Veracruz de Ignacio de la Llave</td><td>  32</td><td> 201</td><td> 197</td><td>  36</td></tr>\n",
              "\t<tr><td>Octavo Circuito/ Coahuila de Zaragoza            </td><td>  38</td><td> 235</td><td> 249</td><td>  24</td></tr>\n",
              "\t<tr><td>Noveno Circuito/ San Luis Potosí                 </td><td>  22</td><td> 104</td><td> 113</td><td>  13</td></tr>\n",
              "\t<tr><td>Décimo Circuito/ Tabasco-Veracruz                </td><td>  22</td><td> 118</td><td> 125</td><td>  15</td></tr>\n",
              "\t<tr><td>Decimoprimer Circuito/ Michoacán de Ocampo       </td><td>  33</td><td> 324</td><td> 323</td><td>  34</td></tr>\n",
              "\t<tr><td>Decimosegundo Circuito/ Sinaloa                  </td><td>  42</td><td> 336</td><td> 364</td><td>  14</td></tr>\n",
              "\t<tr><td>Decimotercer Circuito/ Oaxaca                    </td><td>  40</td><td> 183</td><td> 195</td><td>  28</td></tr>\n",
              "\t<tr><td>Decimocuarto Circuito/ Yucatán                   </td><td>   6</td><td>  60</td><td>  57</td><td>   9</td></tr>\n",
              "\t<tr><td>Decimoquinto Circuito/ Baja California           </td><td>  46</td><td> 542</td><td> 568</td><td>  20</td></tr>\n",
              "\t<tr><td>Decimosexto Circuito/ Guanajuato                 </td><td>  50</td><td> 561</td><td> 566</td><td>  45</td></tr>\n",
              "\t<tr><td>Decimoséptimo Circuito/ Chihuahua                </td><td>  55</td><td> 285</td><td> 312</td><td>  28</td></tr>\n",
              "\t<tr><td>Decimoctavo Circuito/ Morelos                    </td><td>  23</td><td> 156</td><td> 165</td><td>  14</td></tr>\n",
              "\t<tr><td>Decimonoveno Circuito/ Tamaulipas                </td><td> 246</td><td> 649</td><td> 720</td><td> 175</td></tr>\n",
              "\t<tr><td>Vigésimo Circuito/ Chiapas                       </td><td>  20</td><td> 189</td><td> 195</td><td>  14</td></tr>\n",
              "\t<tr><td>Vigésimo Primer Circuito/ Guerrero               </td><td>  84</td><td> 273</td><td> 311</td><td>  46</td></tr>\n",
              "\t<tr><td>Vigésimo Segundo Circuito/ Querétaro             </td><td>  13</td><td> 106</td><td> 113</td><td>   6</td></tr>\n",
              "\t<tr><td>Vigésimo Tercer Circuito/ Zacatecas              </td><td>  24</td><td>  96</td><td> 112</td><td>   8</td></tr>\n",
              "\t<tr><td>Vigésimo Cuarto Circuito/ Nayarit                </td><td>  16</td><td> 137</td><td> 117</td><td>  36</td></tr>\n",
              "\t<tr><td>Vigésimo Quinto Circuito/ Durango                </td><td>   7</td><td>  62</td><td>  64</td><td>   5</td></tr>\n",
              "\t<tr><td>Vigésimo Sexto Circuito/ Baja California Sur     </td><td>   8</td><td>  99</td><td> 104</td><td>   3</td></tr>\n",
              "\t<tr><td>Vigésimo Séptimo Circuito/ Quintana Roo          </td><td>  30</td><td>  93</td><td> 100</td><td>  23</td></tr>\n",
              "\t<tr><td>Vigésimo Octavo Circuito/ Tlaxcala               </td><td>   9</td><td>  79</td><td>  77</td><td>  11</td></tr>\n",
              "\t<tr><td>Vigésimo Noveno Circuito/ Hidalgo                </td><td>  13</td><td>  76</td><td>  82</td><td>   7</td></tr>\n",
              "\t<tr><td>Trigésimo Circuito/ Aguascalientes               </td><td>   6</td><td>  89</td><td>  89</td><td>   6</td></tr>\n",
              "\t<tr><td>Trigésimo Primer Circuito/ Campeche              </td><td>  13</td><td>  66</td><td>  70</td><td>   9</td></tr>\n",
              "\t<tr><td>Trigésimo Segundo Circuito/ Colima               </td><td>   6</td><td>  88</td><td>  89</td><td>   5</td></tr>\n",
              "\t<tr><td>Total                                            </td><td>1681</td><td>9272</td><td>9733</td><td>1220</td></tr>\n",
              "</tbody>\n",
              "</table>\n"
            ]
          },
          "metadata": {
            "tags": []
          }
        }
      ]
    },
    {
      "cell_type": "code",
      "metadata": {
        "colab": {
          "base_uri": "https://localhost:8080/",
          "height": 1000
        },
        "id": "IbJ8kEicwuHw",
        "outputId": "fe70f4d3-dd02-4426-dbb7-bc7de3b5b421"
      },
      "source": [
        "#procesos federales penales en segunda instancia\n",
        "# Apelación\n",
        "cubo %>%\n",
        "filter(tp_organo == \"Tribunales Unitarios de Circuito\") %>%\n",
        "filter(tp_asunto == \"procesos federales penales en segunda instancia\") %>%\n",
        "filter(tp_procedimiento == \"Apelación\") %>%\n",
        "mutate(egresos = egresos + egresos_acuerdo) %>% # egresos + egresos por acuerdo?\n",
        "select(circuito,  existencia_inicial, ingresos, egresos, Existencia_final) %>%\n",
        "mutate(circuito = factor(circuito, levels = orden_circuitos)) %>%\n",
        "group_by(circuito) %>%\n",
        "summarise_all(list(sum))%>%\n",
        "filter(!is.na(existencia_inicial))  %>%\n",
        "adorn_totals()"
      ],
      "execution_count": null,
      "outputs": [
        {
          "output_type": "display_data",
          "data": {
            "text/plain": [
              "   circuito                                          existencia_inicial\n",
              "1  Primer Circuito/ Ciudad de México                  218              \n",
              "2  Segundo Circuito/ México                           278              \n",
              "3  Tercer Circuito/ Jalisco                            83              \n",
              "4  Cuarto Circuito/ Nuevo León                         70              \n",
              "5  Quinto Circuito/ Sonora                             45              \n",
              "6  Sexto Circuito/ Puebla                              52              \n",
              "7  Séptimo Circuito/ Veracruz de Ignacio de la Llave   27              \n",
              "8  Octavo Circuito/ Coahuila de Zaragoza               28              \n",
              "9  Noveno Circuito/ San Luis Potosí                    22              \n",
              "10 Décimo Circuito/ Tabasco-Veracruz                   21              \n",
              "11 Decimoprimer Circuito/ Michoacán de Ocampo          32              \n",
              "12 Decimosegundo Circuito/ Sinaloa                     40              \n",
              "13 Decimotercer Circuito/ Oaxaca                       37              \n",
              "14 Decimocuarto Circuito/ Yucatán                       6              \n",
              "15 Decimoquinto Circuito/ Baja California              41              \n",
              "16 Decimosexto Circuito/ Guanajuato                    48              \n",
              "17 Decimoséptimo Circuito/ Chihuahua                   55              \n",
              "18 Decimoctavo Circuito/ Morelos                       22              \n",
              "19 Decimonoveno Circuito/ Tamaulipas                  234              \n",
              "20 Vigésimo Circuito/ Chiapas                          20              \n",
              "21 Vigésimo Primer Circuito/ Guerrero                  75              \n",
              "22 Vigésimo Segundo Circuito/ Querétaro                13              \n",
              "23 Vigésimo Tercer Circuito/ Zacatecas                 23              \n",
              "24 Vigésimo Cuarto Circuito/ Nayarit                   16              \n",
              "25 Vigésimo Quinto Circuito/ Durango                    7              \n",
              "26 Vigésimo Sexto Circuito/ Baja California Sur         8              \n",
              "27 Vigésimo Séptimo Circuito/ Quintana Roo             29              \n",
              "28 Vigésimo Octavo Circuito/ Tlaxcala                   9              \n",
              "29 Vigésimo Noveno Circuito/ Hidalgo                   13              \n",
              "30 Trigésimo Circuito/ Aguascalientes                   6              \n",
              "31 Trigésimo Primer Circuito/ Campeche                 13              \n",
              "32 Trigésimo Segundo Circuito/ Colima                   6              \n",
              "33 Total                                             1597              \n",
              "   ingresos egresos Existencia_final\n",
              "1  1270     1322     166            \n",
              "2   711      778     211            \n",
              "3   491      517      57            \n",
              "4   274      318      26            \n",
              "5   333      352      26            \n",
              "6   179      164      67            \n",
              "7   163      156      34            \n",
              "8   117      135      10            \n",
              "9    95      105      12            \n",
              "10   91       97      15            \n",
              "11  301      299      34            \n",
              "12  241      268      13            \n",
              "13  139      148      28            \n",
              "14   57       54       9            \n",
              "15  500      522      19            \n",
              "16  512      516      44            \n",
              "17  250      277      28            \n",
              "18  104      114      12            \n",
              "19  570      633     171            \n",
              "20  180      187      13            \n",
              "21  202      236      41            \n",
              "22   94      101       6            \n",
              "23   92      107       8            \n",
              "24   98       81      33            \n",
              "25   54       56       5            \n",
              "26   69       74       3            \n",
              "27   85       93      21            \n",
              "28   67       68       8            \n",
              "29   70       76       7            \n",
              "30   87       87       6            \n",
              "31   60       64       9            \n",
              "32   84       85       5            \n",
              "33 7640     8090    1147            "
            ],
            "text/latex": "A tabyl: 33 × 5\n\\begin{tabular}{lllll}\n circuito & existencia\\_inicial & ingresos & egresos & Existencia\\_final\\\\\n <chr> & <int> & <int> & <int> & <int>\\\\\n\\hline\n\t Primer Circuito/ Ciudad de México                 &  218 & 1270 & 1322 &  166\\\\\n\t Segundo Circuito/ México                          &  278 &  711 &  778 &  211\\\\\n\t Tercer Circuito/ Jalisco                          &   83 &  491 &  517 &   57\\\\\n\t Cuarto Circuito/ Nuevo León                       &   70 &  274 &  318 &   26\\\\\n\t Quinto Circuito/ Sonora                           &   45 &  333 &  352 &   26\\\\\n\t Sexto Circuito/ Puebla                            &   52 &  179 &  164 &   67\\\\\n\t Séptimo Circuito/ Veracruz de Ignacio de la Llave &   27 &  163 &  156 &   34\\\\\n\t Octavo Circuito/ Coahuila de Zaragoza             &   28 &  117 &  135 &   10\\\\\n\t Noveno Circuito/ San Luis Potosí                  &   22 &   95 &  105 &   12\\\\\n\t Décimo Circuito/ Tabasco-Veracruz                 &   21 &   91 &   97 &   15\\\\\n\t Decimoprimer Circuito/ Michoacán de Ocampo        &   32 &  301 &  299 &   34\\\\\n\t Decimosegundo Circuito/ Sinaloa                   &   40 &  241 &  268 &   13\\\\\n\t Decimotercer Circuito/ Oaxaca                     &   37 &  139 &  148 &   28\\\\\n\t Decimocuarto Circuito/ Yucatán                    &    6 &   57 &   54 &    9\\\\\n\t Decimoquinto Circuito/ Baja California            &   41 &  500 &  522 &   19\\\\\n\t Decimosexto Circuito/ Guanajuato                  &   48 &  512 &  516 &   44\\\\\n\t Decimoséptimo Circuito/ Chihuahua                 &   55 &  250 &  277 &   28\\\\\n\t Decimoctavo Circuito/ Morelos                     &   22 &  104 &  114 &   12\\\\\n\t Decimonoveno Circuito/ Tamaulipas                 &  234 &  570 &  633 &  171\\\\\n\t Vigésimo Circuito/ Chiapas                        &   20 &  180 &  187 &   13\\\\\n\t Vigésimo Primer Circuito/ Guerrero                &   75 &  202 &  236 &   41\\\\\n\t Vigésimo Segundo Circuito/ Querétaro              &   13 &   94 &  101 &    6\\\\\n\t Vigésimo Tercer Circuito/ Zacatecas               &   23 &   92 &  107 &    8\\\\\n\t Vigésimo Cuarto Circuito/ Nayarit                 &   16 &   98 &   81 &   33\\\\\n\t Vigésimo Quinto Circuito/ Durango                 &    7 &   54 &   56 &    5\\\\\n\t Vigésimo Sexto Circuito/ Baja California Sur      &    8 &   69 &   74 &    3\\\\\n\t Vigésimo Séptimo Circuito/ Quintana Roo           &   29 &   85 &   93 &   21\\\\\n\t Vigésimo Octavo Circuito/ Tlaxcala                &    9 &   67 &   68 &    8\\\\\n\t Vigésimo Noveno Circuito/ Hidalgo                 &   13 &   70 &   76 &    7\\\\\n\t Trigésimo Circuito/ Aguascalientes                &    6 &   87 &   87 &    6\\\\\n\t Trigésimo Primer Circuito/ Campeche               &   13 &   60 &   64 &    9\\\\\n\t Trigésimo Segundo Circuito/ Colima                &    6 &   84 &   85 &    5\\\\\n\t Total                                             & 1597 & 7640 & 8090 & 1147\\\\\n\\end{tabular}\n",
            "text/markdown": "\nA tabyl: 33 × 5\n\n| circuito &lt;chr&gt; | existencia_inicial &lt;int&gt; | ingresos &lt;int&gt; | egresos &lt;int&gt; | Existencia_final &lt;int&gt; |\n|---|---|---|---|---|\n| Primer Circuito/ Ciudad de México                 |  218 | 1270 | 1322 |  166 |\n| Segundo Circuito/ México                          |  278 |  711 |  778 |  211 |\n| Tercer Circuito/ Jalisco                          |   83 |  491 |  517 |   57 |\n| Cuarto Circuito/ Nuevo León                       |   70 |  274 |  318 |   26 |\n| Quinto Circuito/ Sonora                           |   45 |  333 |  352 |   26 |\n| Sexto Circuito/ Puebla                            |   52 |  179 |  164 |   67 |\n| Séptimo Circuito/ Veracruz de Ignacio de la Llave |   27 |  163 |  156 |   34 |\n| Octavo Circuito/ Coahuila de Zaragoza             |   28 |  117 |  135 |   10 |\n| Noveno Circuito/ San Luis Potosí                  |   22 |   95 |  105 |   12 |\n| Décimo Circuito/ Tabasco-Veracruz                 |   21 |   91 |   97 |   15 |\n| Decimoprimer Circuito/ Michoacán de Ocampo        |   32 |  301 |  299 |   34 |\n| Decimosegundo Circuito/ Sinaloa                   |   40 |  241 |  268 |   13 |\n| Decimotercer Circuito/ Oaxaca                     |   37 |  139 |  148 |   28 |\n| Decimocuarto Circuito/ Yucatán                    |    6 |   57 |   54 |    9 |\n| Decimoquinto Circuito/ Baja California            |   41 |  500 |  522 |   19 |\n| Decimosexto Circuito/ Guanajuato                  |   48 |  512 |  516 |   44 |\n| Decimoséptimo Circuito/ Chihuahua                 |   55 |  250 |  277 |   28 |\n| Decimoctavo Circuito/ Morelos                     |   22 |  104 |  114 |   12 |\n| Decimonoveno Circuito/ Tamaulipas                 |  234 |  570 |  633 |  171 |\n| Vigésimo Circuito/ Chiapas                        |   20 |  180 |  187 |   13 |\n| Vigésimo Primer Circuito/ Guerrero                |   75 |  202 |  236 |   41 |\n| Vigésimo Segundo Circuito/ Querétaro              |   13 |   94 |  101 |    6 |\n| Vigésimo Tercer Circuito/ Zacatecas               |   23 |   92 |  107 |    8 |\n| Vigésimo Cuarto Circuito/ Nayarit                 |   16 |   98 |   81 |   33 |\n| Vigésimo Quinto Circuito/ Durango                 |    7 |   54 |   56 |    5 |\n| Vigésimo Sexto Circuito/ Baja California Sur      |    8 |   69 |   74 |    3 |\n| Vigésimo Séptimo Circuito/ Quintana Roo           |   29 |   85 |   93 |   21 |\n| Vigésimo Octavo Circuito/ Tlaxcala                |    9 |   67 |   68 |    8 |\n| Vigésimo Noveno Circuito/ Hidalgo                 |   13 |   70 |   76 |    7 |\n| Trigésimo Circuito/ Aguascalientes                |    6 |   87 |   87 |    6 |\n| Trigésimo Primer Circuito/ Campeche               |   13 |   60 |   64 |    9 |\n| Trigésimo Segundo Circuito/ Colima                |    6 |   84 |   85 |    5 |\n| Total                                             | 1597 | 7640 | 8090 | 1147 |\n\n",
            "text/html": [
              "<table class=\"dataframe\">\n",
              "<caption>A tabyl: 33 × 5</caption>\n",
              "<thead>\n",
              "\t<tr><th scope=col>circuito</th><th scope=col>existencia_inicial</th><th scope=col>ingresos</th><th scope=col>egresos</th><th scope=col>Existencia_final</th></tr>\n",
              "\t<tr><th scope=col>&lt;chr&gt;</th><th scope=col>&lt;int&gt;</th><th scope=col>&lt;int&gt;</th><th scope=col>&lt;int&gt;</th><th scope=col>&lt;int&gt;</th></tr>\n",
              "</thead>\n",
              "<tbody>\n",
              "\t<tr><td>Primer Circuito/ Ciudad de México                </td><td> 218</td><td>1270</td><td>1322</td><td> 166</td></tr>\n",
              "\t<tr><td>Segundo Circuito/ México                         </td><td> 278</td><td> 711</td><td> 778</td><td> 211</td></tr>\n",
              "\t<tr><td>Tercer Circuito/ Jalisco                         </td><td>  83</td><td> 491</td><td> 517</td><td>  57</td></tr>\n",
              "\t<tr><td>Cuarto Circuito/ Nuevo León                      </td><td>  70</td><td> 274</td><td> 318</td><td>  26</td></tr>\n",
              "\t<tr><td>Quinto Circuito/ Sonora                          </td><td>  45</td><td> 333</td><td> 352</td><td>  26</td></tr>\n",
              "\t<tr><td>Sexto Circuito/ Puebla                           </td><td>  52</td><td> 179</td><td> 164</td><td>  67</td></tr>\n",
              "\t<tr><td>Séptimo Circuito/ Veracruz de Ignacio de la Llave</td><td>  27</td><td> 163</td><td> 156</td><td>  34</td></tr>\n",
              "\t<tr><td>Octavo Circuito/ Coahuila de Zaragoza            </td><td>  28</td><td> 117</td><td> 135</td><td>  10</td></tr>\n",
              "\t<tr><td>Noveno Circuito/ San Luis Potosí                 </td><td>  22</td><td>  95</td><td> 105</td><td>  12</td></tr>\n",
              "\t<tr><td>Décimo Circuito/ Tabasco-Veracruz                </td><td>  21</td><td>  91</td><td>  97</td><td>  15</td></tr>\n",
              "\t<tr><td>Decimoprimer Circuito/ Michoacán de Ocampo       </td><td>  32</td><td> 301</td><td> 299</td><td>  34</td></tr>\n",
              "\t<tr><td>Decimosegundo Circuito/ Sinaloa                  </td><td>  40</td><td> 241</td><td> 268</td><td>  13</td></tr>\n",
              "\t<tr><td>Decimotercer Circuito/ Oaxaca                    </td><td>  37</td><td> 139</td><td> 148</td><td>  28</td></tr>\n",
              "\t<tr><td>Decimocuarto Circuito/ Yucatán                   </td><td>   6</td><td>  57</td><td>  54</td><td>   9</td></tr>\n",
              "\t<tr><td>Decimoquinto Circuito/ Baja California           </td><td>  41</td><td> 500</td><td> 522</td><td>  19</td></tr>\n",
              "\t<tr><td>Decimosexto Circuito/ Guanajuato                 </td><td>  48</td><td> 512</td><td> 516</td><td>  44</td></tr>\n",
              "\t<tr><td>Decimoséptimo Circuito/ Chihuahua                </td><td>  55</td><td> 250</td><td> 277</td><td>  28</td></tr>\n",
              "\t<tr><td>Decimoctavo Circuito/ Morelos                    </td><td>  22</td><td> 104</td><td> 114</td><td>  12</td></tr>\n",
              "\t<tr><td>Decimonoveno Circuito/ Tamaulipas                </td><td> 234</td><td> 570</td><td> 633</td><td> 171</td></tr>\n",
              "\t<tr><td>Vigésimo Circuito/ Chiapas                       </td><td>  20</td><td> 180</td><td> 187</td><td>  13</td></tr>\n",
              "\t<tr><td>Vigésimo Primer Circuito/ Guerrero               </td><td>  75</td><td> 202</td><td> 236</td><td>  41</td></tr>\n",
              "\t<tr><td>Vigésimo Segundo Circuito/ Querétaro             </td><td>  13</td><td>  94</td><td> 101</td><td>   6</td></tr>\n",
              "\t<tr><td>Vigésimo Tercer Circuito/ Zacatecas              </td><td>  23</td><td>  92</td><td> 107</td><td>   8</td></tr>\n",
              "\t<tr><td>Vigésimo Cuarto Circuito/ Nayarit                </td><td>  16</td><td>  98</td><td>  81</td><td>  33</td></tr>\n",
              "\t<tr><td>Vigésimo Quinto Circuito/ Durango                </td><td>   7</td><td>  54</td><td>  56</td><td>   5</td></tr>\n",
              "\t<tr><td>Vigésimo Sexto Circuito/ Baja California Sur     </td><td>   8</td><td>  69</td><td>  74</td><td>   3</td></tr>\n",
              "\t<tr><td>Vigésimo Séptimo Circuito/ Quintana Roo          </td><td>  29</td><td>  85</td><td>  93</td><td>  21</td></tr>\n",
              "\t<tr><td>Vigésimo Octavo Circuito/ Tlaxcala               </td><td>   9</td><td>  67</td><td>  68</td><td>   8</td></tr>\n",
              "\t<tr><td>Vigésimo Noveno Circuito/ Hidalgo                </td><td>  13</td><td>  70</td><td>  76</td><td>   7</td></tr>\n",
              "\t<tr><td>Trigésimo Circuito/ Aguascalientes               </td><td>   6</td><td>  87</td><td>  87</td><td>   6</td></tr>\n",
              "\t<tr><td>Trigésimo Primer Circuito/ Campeche              </td><td>  13</td><td>  60</td><td>  64</td><td>   9</td></tr>\n",
              "\t<tr><td>Trigésimo Segundo Circuito/ Colima               </td><td>   6</td><td>  84</td><td>  85</td><td>   5</td></tr>\n",
              "\t<tr><td>Total                                            </td><td>1597</td><td>7640</td><td>8090</td><td>1147</td></tr>\n",
              "</tbody>\n",
              "</table>\n"
            ]
          },
          "metadata": {
            "tags": []
          }
        }
      ]
    },
    {
      "cell_type": "code",
      "metadata": {
        "colab": {
          "base_uri": "https://localhost:8080/",
          "height": 1000
        },
        "id": "GMZ_9KJAzW4Z",
        "outputId": "0b2ea888-a5a3-405c-cf79-2d9f5f966b84"
      },
      "source": [
        "#procesos federales penales en segunda instancia\n",
        "#Denegada apelación\n",
        "cubo %>%\n",
        "filter(tp_organo == \"Tribunales Unitarios de Circuito\") %>%\n",
        "filter(tp_asunto == \"procesos federales penales en segunda instancia\") %>%\n",
        "filter(tp_procedimiento == \"Denegada Apelación\" | tp_procedimiento == \"Denegada apelación\") %>%\n",
        "mutate(egresos = egresos + egresos_acuerdo) %>% # egresos + egresos por acuerdo?\n",
        "select(circuito,  existencia_inicial, ingresos, egresos, Existencia_final) %>%\n",
        "mutate(circuito = factor(circuito, levels = orden_circuitos)) %>%\n",
        "group_by(circuito) %>%\n",
        "summarise_all(list(sum))%>%\n",
        "filter(!is.na(existencia_inicial))  %>%\n",
        "adorn_totals()"
      ],
      "execution_count": null,
      "outputs": [
        {
          "output_type": "display_data",
          "data": {
            "text/plain": [
              "   circuito                                          existencia_inicial\n",
              "1  Primer Circuito/ Ciudad de México                 0                 \n",
              "2  Segundo Circuito/ México                          0                 \n",
              "3  Tercer Circuito/ Jalisco                          0                 \n",
              "4  Cuarto Circuito/ Nuevo León                       0                 \n",
              "5  Quinto Circuito/ Sonora                           0                 \n",
              "6  Sexto Circuito/ Puebla                            0                 \n",
              "7  Séptimo Circuito/ Veracruz de Ignacio de la Llave 0                 \n",
              "8  Octavo Circuito/ Coahuila de Zaragoza             0                 \n",
              "9  Noveno Circuito/ San Luis Potosí                  0                 \n",
              "10 Décimo Circuito/ Tabasco-Veracruz                 0                 \n",
              "11 Decimoprimer Circuito/ Michoacán de Ocampo        0                 \n",
              "12 Decimosegundo Circuito/ Sinaloa                   0                 \n",
              "13 Decimotercer Circuito/ Oaxaca                     0                 \n",
              "14 Decimocuarto Circuito/ Yucatán                    0                 \n",
              "15 Decimoquinto Circuito/ Baja California            0                 \n",
              "16 Decimosexto Circuito/ Guanajuato                  0                 \n",
              "17 Decimoséptimo Circuito/ Chihuahua                 0                 \n",
              "18 Decimoctavo Circuito/ Morelos                     0                 \n",
              "19 Decimonoveno Circuito/ Tamaulipas                 1                 \n",
              "20 Vigésimo Circuito/ Chiapas                        0                 \n",
              "21 Vigésimo Primer Circuito/ Guerrero                0                 \n",
              "22 Vigésimo Segundo Circuito/ Querétaro              0                 \n",
              "23 Vigésimo Tercer Circuito/ Zacatecas               0                 \n",
              "24 Vigésimo Cuarto Circuito/ Nayarit                 0                 \n",
              "25 Vigésimo Quinto Circuito/ Durango                 0                 \n",
              "26 Vigésimo Sexto Circuito/ Baja California Sur      0                 \n",
              "27 Vigésimo Séptimo Circuito/ Quintana Roo           0                 \n",
              "28 Vigésimo Octavo Circuito/ Tlaxcala                0                 \n",
              "29 Vigésimo Noveno Circuito/ Hidalgo                 0                 \n",
              "30 Trigésimo Circuito/ Aguascalientes                0                 \n",
              "31 Trigésimo Primer Circuito/ Campeche               0                 \n",
              "32 Trigésimo Segundo Circuito/ Colima                0                 \n",
              "33 Total                                             1                 \n",
              "   ingresos egresos Existencia_final\n",
              "1   9        9      0               \n",
              "2  11        8      3               \n",
              "3   3        3      0               \n",
              "4   0        0      0               \n",
              "5   0        0      0               \n",
              "6   0        0      0               \n",
              "7   1        1      0               \n",
              "8   1        1      0               \n",
              "9   0        0      0               \n",
              "10  0        0      0               \n",
              "11  0        0      0               \n",
              "12  0        0      0               \n",
              "13  0        0      0               \n",
              "14  0        0      0               \n",
              "15  0        0      0               \n",
              "16  1        1      0               \n",
              "17  0        0      0               \n",
              "18  3        3      0               \n",
              "19  3        4      0               \n",
              "20  0        0      0               \n",
              "21  1        1      0               \n",
              "22  0        0      0               \n",
              "23  0        0      0               \n",
              "24  0        0      0               \n",
              "25  0        0      0               \n",
              "26  1        1      0               \n",
              "27  0        0      0               \n",
              "28  0        0      0               \n",
              "29  0        0      0               \n",
              "30  0        0      0               \n",
              "31  1        1      0               \n",
              "32  0        0      0               \n",
              "33 35       33      3               "
            ],
            "text/latex": "A tabyl: 33 × 5\n\\begin{tabular}{lllll}\n circuito & existencia\\_inicial & ingresos & egresos & Existencia\\_final\\\\\n <chr> & <int> & <int> & <int> & <int>\\\\\n\\hline\n\t Primer Circuito/ Ciudad de México                 & 0 &  9 &  9 & 0\\\\\n\t Segundo Circuito/ México                          & 0 & 11 &  8 & 3\\\\\n\t Tercer Circuito/ Jalisco                          & 0 &  3 &  3 & 0\\\\\n\t Cuarto Circuito/ Nuevo León                       & 0 &  0 &  0 & 0\\\\\n\t Quinto Circuito/ Sonora                           & 0 &  0 &  0 & 0\\\\\n\t Sexto Circuito/ Puebla                            & 0 &  0 &  0 & 0\\\\\n\t Séptimo Circuito/ Veracruz de Ignacio de la Llave & 0 &  1 &  1 & 0\\\\\n\t Octavo Circuito/ Coahuila de Zaragoza             & 0 &  1 &  1 & 0\\\\\n\t Noveno Circuito/ San Luis Potosí                  & 0 &  0 &  0 & 0\\\\\n\t Décimo Circuito/ Tabasco-Veracruz                 & 0 &  0 &  0 & 0\\\\\n\t Decimoprimer Circuito/ Michoacán de Ocampo        & 0 &  0 &  0 & 0\\\\\n\t Decimosegundo Circuito/ Sinaloa                   & 0 &  0 &  0 & 0\\\\\n\t Decimotercer Circuito/ Oaxaca                     & 0 &  0 &  0 & 0\\\\\n\t Decimocuarto Circuito/ Yucatán                    & 0 &  0 &  0 & 0\\\\\n\t Decimoquinto Circuito/ Baja California            & 0 &  0 &  0 & 0\\\\\n\t Decimosexto Circuito/ Guanajuato                  & 0 &  1 &  1 & 0\\\\\n\t Decimoséptimo Circuito/ Chihuahua                 & 0 &  0 &  0 & 0\\\\\n\t Decimoctavo Circuito/ Morelos                     & 0 &  3 &  3 & 0\\\\\n\t Decimonoveno Circuito/ Tamaulipas                 & 1 &  3 &  4 & 0\\\\\n\t Vigésimo Circuito/ Chiapas                        & 0 &  0 &  0 & 0\\\\\n\t Vigésimo Primer Circuito/ Guerrero                & 0 &  1 &  1 & 0\\\\\n\t Vigésimo Segundo Circuito/ Querétaro              & 0 &  0 &  0 & 0\\\\\n\t Vigésimo Tercer Circuito/ Zacatecas               & 0 &  0 &  0 & 0\\\\\n\t Vigésimo Cuarto Circuito/ Nayarit                 & 0 &  0 &  0 & 0\\\\\n\t Vigésimo Quinto Circuito/ Durango                 & 0 &  0 &  0 & 0\\\\\n\t Vigésimo Sexto Circuito/ Baja California Sur      & 0 &  1 &  1 & 0\\\\\n\t Vigésimo Séptimo Circuito/ Quintana Roo           & 0 &  0 &  0 & 0\\\\\n\t Vigésimo Octavo Circuito/ Tlaxcala                & 0 &  0 &  0 & 0\\\\\n\t Vigésimo Noveno Circuito/ Hidalgo                 & 0 &  0 &  0 & 0\\\\\n\t Trigésimo Circuito/ Aguascalientes                & 0 &  0 &  0 & 0\\\\\n\t Trigésimo Primer Circuito/ Campeche               & 0 &  1 &  1 & 0\\\\\n\t Trigésimo Segundo Circuito/ Colima                & 0 &  0 &  0 & 0\\\\\n\t Total                                             & 1 & 35 & 33 & 3\\\\\n\\end{tabular}\n",
            "text/markdown": "\nA tabyl: 33 × 5\n\n| circuito &lt;chr&gt; | existencia_inicial &lt;int&gt; | ingresos &lt;int&gt; | egresos &lt;int&gt; | Existencia_final &lt;int&gt; |\n|---|---|---|---|---|\n| Primer Circuito/ Ciudad de México                 | 0 |  9 |  9 | 0 |\n| Segundo Circuito/ México                          | 0 | 11 |  8 | 3 |\n| Tercer Circuito/ Jalisco                          | 0 |  3 |  3 | 0 |\n| Cuarto Circuito/ Nuevo León                       | 0 |  0 |  0 | 0 |\n| Quinto Circuito/ Sonora                           | 0 |  0 |  0 | 0 |\n| Sexto Circuito/ Puebla                            | 0 |  0 |  0 | 0 |\n| Séptimo Circuito/ Veracruz de Ignacio de la Llave | 0 |  1 |  1 | 0 |\n| Octavo Circuito/ Coahuila de Zaragoza             | 0 |  1 |  1 | 0 |\n| Noveno Circuito/ San Luis Potosí                  | 0 |  0 |  0 | 0 |\n| Décimo Circuito/ Tabasco-Veracruz                 | 0 |  0 |  0 | 0 |\n| Decimoprimer Circuito/ Michoacán de Ocampo        | 0 |  0 |  0 | 0 |\n| Decimosegundo Circuito/ Sinaloa                   | 0 |  0 |  0 | 0 |\n| Decimotercer Circuito/ Oaxaca                     | 0 |  0 |  0 | 0 |\n| Decimocuarto Circuito/ Yucatán                    | 0 |  0 |  0 | 0 |\n| Decimoquinto Circuito/ Baja California            | 0 |  0 |  0 | 0 |\n| Decimosexto Circuito/ Guanajuato                  | 0 |  1 |  1 | 0 |\n| Decimoséptimo Circuito/ Chihuahua                 | 0 |  0 |  0 | 0 |\n| Decimoctavo Circuito/ Morelos                     | 0 |  3 |  3 | 0 |\n| Decimonoveno Circuito/ Tamaulipas                 | 1 |  3 |  4 | 0 |\n| Vigésimo Circuito/ Chiapas                        | 0 |  0 |  0 | 0 |\n| Vigésimo Primer Circuito/ Guerrero                | 0 |  1 |  1 | 0 |\n| Vigésimo Segundo Circuito/ Querétaro              | 0 |  0 |  0 | 0 |\n| Vigésimo Tercer Circuito/ Zacatecas               | 0 |  0 |  0 | 0 |\n| Vigésimo Cuarto Circuito/ Nayarit                 | 0 |  0 |  0 | 0 |\n| Vigésimo Quinto Circuito/ Durango                 | 0 |  0 |  0 | 0 |\n| Vigésimo Sexto Circuito/ Baja California Sur      | 0 |  1 |  1 | 0 |\n| Vigésimo Séptimo Circuito/ Quintana Roo           | 0 |  0 |  0 | 0 |\n| Vigésimo Octavo Circuito/ Tlaxcala                | 0 |  0 |  0 | 0 |\n| Vigésimo Noveno Circuito/ Hidalgo                 | 0 |  0 |  0 | 0 |\n| Trigésimo Circuito/ Aguascalientes                | 0 |  0 |  0 | 0 |\n| Trigésimo Primer Circuito/ Campeche               | 0 |  1 |  1 | 0 |\n| Trigésimo Segundo Circuito/ Colima                | 0 |  0 |  0 | 0 |\n| Total                                             | 1 | 35 | 33 | 3 |\n\n",
            "text/html": [
              "<table class=\"dataframe\">\n",
              "<caption>A tabyl: 33 × 5</caption>\n",
              "<thead>\n",
              "\t<tr><th scope=col>circuito</th><th scope=col>existencia_inicial</th><th scope=col>ingresos</th><th scope=col>egresos</th><th scope=col>Existencia_final</th></tr>\n",
              "\t<tr><th scope=col>&lt;chr&gt;</th><th scope=col>&lt;int&gt;</th><th scope=col>&lt;int&gt;</th><th scope=col>&lt;int&gt;</th><th scope=col>&lt;int&gt;</th></tr>\n",
              "</thead>\n",
              "<tbody>\n",
              "\t<tr><td>Primer Circuito/ Ciudad de México                </td><td>0</td><td> 9</td><td> 9</td><td>0</td></tr>\n",
              "\t<tr><td>Segundo Circuito/ México                         </td><td>0</td><td>11</td><td> 8</td><td>3</td></tr>\n",
              "\t<tr><td>Tercer Circuito/ Jalisco                         </td><td>0</td><td> 3</td><td> 3</td><td>0</td></tr>\n",
              "\t<tr><td>Cuarto Circuito/ Nuevo León                      </td><td>0</td><td> 0</td><td> 0</td><td>0</td></tr>\n",
              "\t<tr><td>Quinto Circuito/ Sonora                          </td><td>0</td><td> 0</td><td> 0</td><td>0</td></tr>\n",
              "\t<tr><td>Sexto Circuito/ Puebla                           </td><td>0</td><td> 0</td><td> 0</td><td>0</td></tr>\n",
              "\t<tr><td>Séptimo Circuito/ Veracruz de Ignacio de la Llave</td><td>0</td><td> 1</td><td> 1</td><td>0</td></tr>\n",
              "\t<tr><td>Octavo Circuito/ Coahuila de Zaragoza            </td><td>0</td><td> 1</td><td> 1</td><td>0</td></tr>\n",
              "\t<tr><td>Noveno Circuito/ San Luis Potosí                 </td><td>0</td><td> 0</td><td> 0</td><td>0</td></tr>\n",
              "\t<tr><td>Décimo Circuito/ Tabasco-Veracruz                </td><td>0</td><td> 0</td><td> 0</td><td>0</td></tr>\n",
              "\t<tr><td>Decimoprimer Circuito/ Michoacán de Ocampo       </td><td>0</td><td> 0</td><td> 0</td><td>0</td></tr>\n",
              "\t<tr><td>Decimosegundo Circuito/ Sinaloa                  </td><td>0</td><td> 0</td><td> 0</td><td>0</td></tr>\n",
              "\t<tr><td>Decimotercer Circuito/ Oaxaca                    </td><td>0</td><td> 0</td><td> 0</td><td>0</td></tr>\n",
              "\t<tr><td>Decimocuarto Circuito/ Yucatán                   </td><td>0</td><td> 0</td><td> 0</td><td>0</td></tr>\n",
              "\t<tr><td>Decimoquinto Circuito/ Baja California           </td><td>0</td><td> 0</td><td> 0</td><td>0</td></tr>\n",
              "\t<tr><td>Decimosexto Circuito/ Guanajuato                 </td><td>0</td><td> 1</td><td> 1</td><td>0</td></tr>\n",
              "\t<tr><td>Decimoséptimo Circuito/ Chihuahua                </td><td>0</td><td> 0</td><td> 0</td><td>0</td></tr>\n",
              "\t<tr><td>Decimoctavo Circuito/ Morelos                    </td><td>0</td><td> 3</td><td> 3</td><td>0</td></tr>\n",
              "\t<tr><td>Decimonoveno Circuito/ Tamaulipas                </td><td>1</td><td> 3</td><td> 4</td><td>0</td></tr>\n",
              "\t<tr><td>Vigésimo Circuito/ Chiapas                       </td><td>0</td><td> 0</td><td> 0</td><td>0</td></tr>\n",
              "\t<tr><td>Vigésimo Primer Circuito/ Guerrero               </td><td>0</td><td> 1</td><td> 1</td><td>0</td></tr>\n",
              "\t<tr><td>Vigésimo Segundo Circuito/ Querétaro             </td><td>0</td><td> 0</td><td> 0</td><td>0</td></tr>\n",
              "\t<tr><td>Vigésimo Tercer Circuito/ Zacatecas              </td><td>0</td><td> 0</td><td> 0</td><td>0</td></tr>\n",
              "\t<tr><td>Vigésimo Cuarto Circuito/ Nayarit                </td><td>0</td><td> 0</td><td> 0</td><td>0</td></tr>\n",
              "\t<tr><td>Vigésimo Quinto Circuito/ Durango                </td><td>0</td><td> 0</td><td> 0</td><td>0</td></tr>\n",
              "\t<tr><td>Vigésimo Sexto Circuito/ Baja California Sur     </td><td>0</td><td> 1</td><td> 1</td><td>0</td></tr>\n",
              "\t<tr><td>Vigésimo Séptimo Circuito/ Quintana Roo          </td><td>0</td><td> 0</td><td> 0</td><td>0</td></tr>\n",
              "\t<tr><td>Vigésimo Octavo Circuito/ Tlaxcala               </td><td>0</td><td> 0</td><td> 0</td><td>0</td></tr>\n",
              "\t<tr><td>Vigésimo Noveno Circuito/ Hidalgo                </td><td>0</td><td> 0</td><td> 0</td><td>0</td></tr>\n",
              "\t<tr><td>Trigésimo Circuito/ Aguascalientes               </td><td>0</td><td> 0</td><td> 0</td><td>0</td></tr>\n",
              "\t<tr><td>Trigésimo Primer Circuito/ Campeche              </td><td>0</td><td> 1</td><td> 1</td><td>0</td></tr>\n",
              "\t<tr><td>Trigésimo Segundo Circuito/ Colima               </td><td>0</td><td> 0</td><td> 0</td><td>0</td></tr>\n",
              "\t<tr><td>Total                                            </td><td>1</td><td>35</td><td>33</td><td>3</td></tr>\n",
              "</tbody>\n",
              "</table>\n"
            ]
          },
          "metadata": {
            "tags": []
          }
        }
      ]
    },
    {
      "cell_type": "code",
      "metadata": {
        "colab": {
          "base_uri": "https://localhost:8080/",
          "height": 1000
        },
        "id": "wKXNaGun01Wj",
        "outputId": "76838d99-9021-43be-84a2-2db7add91c87"
      },
      "source": [
        "#procesos federales penales en segunda instancia\n",
        "#Impedimento\n",
        "cubo %>%\n",
        "filter(tp_organo == \"Tribunales Unitarios de Circuito\") %>%\n",
        "filter(tp_asunto == \"procesos federales penales en segunda instancia\") %>%\n",
        "filter(tp_procedimiento == \"Impedimento\") %>%\n",
        "mutate(egresos = egresos + egresos_acuerdo) %>% # egresos + egresos por acuerdo?\n",
        "select(circuito,  existencia_inicial, ingresos, egresos, Existencia_final) %>%\n",
        "mutate(circuito = factor(circuito, levels = orden_circuitos)) %>%\n",
        "group_by(circuito) %>%\n",
        "summarise_all(list(sum))%>%\n",
        "filter(!is.na(existencia_inicial))  %>%\n",
        "adorn_totals()"
      ],
      "execution_count": null,
      "outputs": [
        {
          "output_type": "display_data",
          "data": {
            "text/plain": [
              "   circuito                                          existencia_inicial\n",
              "1  Primer Circuito/ Ciudad de México                 0                 \n",
              "2  Segundo Circuito/ México                          0                 \n",
              "3  Tercer Circuito/ Jalisco                          0                 \n",
              "4  Cuarto Circuito/ Nuevo León                       0                 \n",
              "5  Quinto Circuito/ Sonora                           0                 \n",
              "6  Sexto Circuito/ Puebla                            0                 \n",
              "7  Séptimo Circuito/ Veracruz de Ignacio de la Llave 0                 \n",
              "8  Octavo Circuito/ Coahuila de Zaragoza             0                 \n",
              "9  Noveno Circuito/ San Luis Potosí                  0                 \n",
              "10 Décimo Circuito/ Tabasco-Veracruz                 0                 \n",
              "11 Decimoprimer Circuito/ Michoacán de Ocampo        0                 \n",
              "12 Decimosegundo Circuito/ Sinaloa                   0                 \n",
              "13 Decimotercer Circuito/ Oaxaca                     0                 \n",
              "14 Decimocuarto Circuito/ Yucatán                    0                 \n",
              "15 Decimoquinto Circuito/ Baja California            0                 \n",
              "16 Decimosexto Circuito/ Guanajuato                  0                 \n",
              "17 Decimoséptimo Circuito/ Chihuahua                 0                 \n",
              "18 Decimoctavo Circuito/ Morelos                     0                 \n",
              "19 Decimonoveno Circuito/ Tamaulipas                 3                 \n",
              "20 Vigésimo Circuito/ Chiapas                        0                 \n",
              "21 Vigésimo Primer Circuito/ Guerrero                0                 \n",
              "22 Vigésimo Segundo Circuito/ Querétaro              0                 \n",
              "23 Vigésimo Tercer Circuito/ Zacatecas               0                 \n",
              "24 Vigésimo Cuarto Circuito/ Nayarit                 0                 \n",
              "25 Vigésimo Quinto Circuito/ Durango                 0                 \n",
              "26 Vigésimo Sexto Circuito/ Baja California Sur      0                 \n",
              "27 Vigésimo Séptimo Circuito/ Quintana Roo           0                 \n",
              "28 Vigésimo Octavo Circuito/ Tlaxcala                0                 \n",
              "29 Vigésimo Noveno Circuito/ Hidalgo                 0                 \n",
              "30 Trigésimo Circuito/ Aguascalientes                0                 \n",
              "31 Trigésimo Primer Circuito/ Campeche               0                 \n",
              "32 Trigésimo Segundo Circuito/ Colima                0                 \n",
              "33 Total                                             3                 \n",
              "   ingresos egresos Existencia_final\n",
              "1   3        3      0               \n",
              "2   3        3      0               \n",
              "3   1        1      0               \n",
              "4   1        1      0               \n",
              "5  18       17      1               \n",
              "6   1        1      0               \n",
              "7   4        4      0               \n",
              "8   2        2      0               \n",
              "9   1        1      0               \n",
              "10  3        3      0               \n",
              "11  5        5      0               \n",
              "12  2        2      0               \n",
              "13  1        1      0               \n",
              "14  0        0      0               \n",
              "15  5        5      0               \n",
              "16  0        0      0               \n",
              "17  2        2      0               \n",
              "18  0        0      0               \n",
              "19  7        9      1               \n",
              "20  1        1      0               \n",
              "21  0        0      0               \n",
              "22  4        4      0               \n",
              "23  0        0      0               \n",
              "24  0        0      0               \n",
              "25  0        0      0               \n",
              "26  1        1      0               \n",
              "27  2        1      1               \n",
              "28  1        1      0               \n",
              "29  0        0      0               \n",
              "30  0        0      0               \n",
              "31  0        0      0               \n",
              "32  3        3      0               \n",
              "33 71       71      3               "
            ],
            "text/latex": "A tabyl: 33 × 5\n\\begin{tabular}{lllll}\n circuito & existencia\\_inicial & ingresos & egresos & Existencia\\_final\\\\\n <chr> & <int> & <int> & <int> & <int>\\\\\n\\hline\n\t Primer Circuito/ Ciudad de México                 & 0 &  3 &  3 & 0\\\\\n\t Segundo Circuito/ México                          & 0 &  3 &  3 & 0\\\\\n\t Tercer Circuito/ Jalisco                          & 0 &  1 &  1 & 0\\\\\n\t Cuarto Circuito/ Nuevo León                       & 0 &  1 &  1 & 0\\\\\n\t Quinto Circuito/ Sonora                           & 0 & 18 & 17 & 1\\\\\n\t Sexto Circuito/ Puebla                            & 0 &  1 &  1 & 0\\\\\n\t Séptimo Circuito/ Veracruz de Ignacio de la Llave & 0 &  4 &  4 & 0\\\\\n\t Octavo Circuito/ Coahuila de Zaragoza             & 0 &  2 &  2 & 0\\\\\n\t Noveno Circuito/ San Luis Potosí                  & 0 &  1 &  1 & 0\\\\\n\t Décimo Circuito/ Tabasco-Veracruz                 & 0 &  3 &  3 & 0\\\\\n\t Decimoprimer Circuito/ Michoacán de Ocampo        & 0 &  5 &  5 & 0\\\\\n\t Decimosegundo Circuito/ Sinaloa                   & 0 &  2 &  2 & 0\\\\\n\t Decimotercer Circuito/ Oaxaca                     & 0 &  1 &  1 & 0\\\\\n\t Decimocuarto Circuito/ Yucatán                    & 0 &  0 &  0 & 0\\\\\n\t Decimoquinto Circuito/ Baja California            & 0 &  5 &  5 & 0\\\\\n\t Decimosexto Circuito/ Guanajuato                  & 0 &  0 &  0 & 0\\\\\n\t Decimoséptimo Circuito/ Chihuahua                 & 0 &  2 &  2 & 0\\\\\n\t Decimoctavo Circuito/ Morelos                     & 0 &  0 &  0 & 0\\\\\n\t Decimonoveno Circuito/ Tamaulipas                 & 3 &  7 &  9 & 1\\\\\n\t Vigésimo Circuito/ Chiapas                        & 0 &  1 &  1 & 0\\\\\n\t Vigésimo Primer Circuito/ Guerrero                & 0 &  0 &  0 & 0\\\\\n\t Vigésimo Segundo Circuito/ Querétaro              & 0 &  4 &  4 & 0\\\\\n\t Vigésimo Tercer Circuito/ Zacatecas               & 0 &  0 &  0 & 0\\\\\n\t Vigésimo Cuarto Circuito/ Nayarit                 & 0 &  0 &  0 & 0\\\\\n\t Vigésimo Quinto Circuito/ Durango                 & 0 &  0 &  0 & 0\\\\\n\t Vigésimo Sexto Circuito/ Baja California Sur      & 0 &  1 &  1 & 0\\\\\n\t Vigésimo Séptimo Circuito/ Quintana Roo           & 0 &  2 &  1 & 1\\\\\n\t Vigésimo Octavo Circuito/ Tlaxcala                & 0 &  1 &  1 & 0\\\\\n\t Vigésimo Noveno Circuito/ Hidalgo                 & 0 &  0 &  0 & 0\\\\\n\t Trigésimo Circuito/ Aguascalientes                & 0 &  0 &  0 & 0\\\\\n\t Trigésimo Primer Circuito/ Campeche               & 0 &  0 &  0 & 0\\\\\n\t Trigésimo Segundo Circuito/ Colima                & 0 &  3 &  3 & 0\\\\\n\t Total                                             & 3 & 71 & 71 & 3\\\\\n\\end{tabular}\n",
            "text/markdown": "\nA tabyl: 33 × 5\n\n| circuito &lt;chr&gt; | existencia_inicial &lt;int&gt; | ingresos &lt;int&gt; | egresos &lt;int&gt; | Existencia_final &lt;int&gt; |\n|---|---|---|---|---|\n| Primer Circuito/ Ciudad de México                 | 0 |  3 |  3 | 0 |\n| Segundo Circuito/ México                          | 0 |  3 |  3 | 0 |\n| Tercer Circuito/ Jalisco                          | 0 |  1 |  1 | 0 |\n| Cuarto Circuito/ Nuevo León                       | 0 |  1 |  1 | 0 |\n| Quinto Circuito/ Sonora                           | 0 | 18 | 17 | 1 |\n| Sexto Circuito/ Puebla                            | 0 |  1 |  1 | 0 |\n| Séptimo Circuito/ Veracruz de Ignacio de la Llave | 0 |  4 |  4 | 0 |\n| Octavo Circuito/ Coahuila de Zaragoza             | 0 |  2 |  2 | 0 |\n| Noveno Circuito/ San Luis Potosí                  | 0 |  1 |  1 | 0 |\n| Décimo Circuito/ Tabasco-Veracruz                 | 0 |  3 |  3 | 0 |\n| Decimoprimer Circuito/ Michoacán de Ocampo        | 0 |  5 |  5 | 0 |\n| Decimosegundo Circuito/ Sinaloa                   | 0 |  2 |  2 | 0 |\n| Decimotercer Circuito/ Oaxaca                     | 0 |  1 |  1 | 0 |\n| Decimocuarto Circuito/ Yucatán                    | 0 |  0 |  0 | 0 |\n| Decimoquinto Circuito/ Baja California            | 0 |  5 |  5 | 0 |\n| Decimosexto Circuito/ Guanajuato                  | 0 |  0 |  0 | 0 |\n| Decimoséptimo Circuito/ Chihuahua                 | 0 |  2 |  2 | 0 |\n| Decimoctavo Circuito/ Morelos                     | 0 |  0 |  0 | 0 |\n| Decimonoveno Circuito/ Tamaulipas                 | 3 |  7 |  9 | 1 |\n| Vigésimo Circuito/ Chiapas                        | 0 |  1 |  1 | 0 |\n| Vigésimo Primer Circuito/ Guerrero                | 0 |  0 |  0 | 0 |\n| Vigésimo Segundo Circuito/ Querétaro              | 0 |  4 |  4 | 0 |\n| Vigésimo Tercer Circuito/ Zacatecas               | 0 |  0 |  0 | 0 |\n| Vigésimo Cuarto Circuito/ Nayarit                 | 0 |  0 |  0 | 0 |\n| Vigésimo Quinto Circuito/ Durango                 | 0 |  0 |  0 | 0 |\n| Vigésimo Sexto Circuito/ Baja California Sur      | 0 |  1 |  1 | 0 |\n| Vigésimo Séptimo Circuito/ Quintana Roo           | 0 |  2 |  1 | 1 |\n| Vigésimo Octavo Circuito/ Tlaxcala                | 0 |  1 |  1 | 0 |\n| Vigésimo Noveno Circuito/ Hidalgo                 | 0 |  0 |  0 | 0 |\n| Trigésimo Circuito/ Aguascalientes                | 0 |  0 |  0 | 0 |\n| Trigésimo Primer Circuito/ Campeche               | 0 |  0 |  0 | 0 |\n| Trigésimo Segundo Circuito/ Colima                | 0 |  3 |  3 | 0 |\n| Total                                             | 3 | 71 | 71 | 3 |\n\n",
            "text/html": [
              "<table class=\"dataframe\">\n",
              "<caption>A tabyl: 33 × 5</caption>\n",
              "<thead>\n",
              "\t<tr><th scope=col>circuito</th><th scope=col>existencia_inicial</th><th scope=col>ingresos</th><th scope=col>egresos</th><th scope=col>Existencia_final</th></tr>\n",
              "\t<tr><th scope=col>&lt;chr&gt;</th><th scope=col>&lt;int&gt;</th><th scope=col>&lt;int&gt;</th><th scope=col>&lt;int&gt;</th><th scope=col>&lt;int&gt;</th></tr>\n",
              "</thead>\n",
              "<tbody>\n",
              "\t<tr><td>Primer Circuito/ Ciudad de México                </td><td>0</td><td> 3</td><td> 3</td><td>0</td></tr>\n",
              "\t<tr><td>Segundo Circuito/ México                         </td><td>0</td><td> 3</td><td> 3</td><td>0</td></tr>\n",
              "\t<tr><td>Tercer Circuito/ Jalisco                         </td><td>0</td><td> 1</td><td> 1</td><td>0</td></tr>\n",
              "\t<tr><td>Cuarto Circuito/ Nuevo León                      </td><td>0</td><td> 1</td><td> 1</td><td>0</td></tr>\n",
              "\t<tr><td>Quinto Circuito/ Sonora                          </td><td>0</td><td>18</td><td>17</td><td>1</td></tr>\n",
              "\t<tr><td>Sexto Circuito/ Puebla                           </td><td>0</td><td> 1</td><td> 1</td><td>0</td></tr>\n",
              "\t<tr><td>Séptimo Circuito/ Veracruz de Ignacio de la Llave</td><td>0</td><td> 4</td><td> 4</td><td>0</td></tr>\n",
              "\t<tr><td>Octavo Circuito/ Coahuila de Zaragoza            </td><td>0</td><td> 2</td><td> 2</td><td>0</td></tr>\n",
              "\t<tr><td>Noveno Circuito/ San Luis Potosí                 </td><td>0</td><td> 1</td><td> 1</td><td>0</td></tr>\n",
              "\t<tr><td>Décimo Circuito/ Tabasco-Veracruz                </td><td>0</td><td> 3</td><td> 3</td><td>0</td></tr>\n",
              "\t<tr><td>Decimoprimer Circuito/ Michoacán de Ocampo       </td><td>0</td><td> 5</td><td> 5</td><td>0</td></tr>\n",
              "\t<tr><td>Decimosegundo Circuito/ Sinaloa                  </td><td>0</td><td> 2</td><td> 2</td><td>0</td></tr>\n",
              "\t<tr><td>Decimotercer Circuito/ Oaxaca                    </td><td>0</td><td> 1</td><td> 1</td><td>0</td></tr>\n",
              "\t<tr><td>Decimocuarto Circuito/ Yucatán                   </td><td>0</td><td> 0</td><td> 0</td><td>0</td></tr>\n",
              "\t<tr><td>Decimoquinto Circuito/ Baja California           </td><td>0</td><td> 5</td><td> 5</td><td>0</td></tr>\n",
              "\t<tr><td>Decimosexto Circuito/ Guanajuato                 </td><td>0</td><td> 0</td><td> 0</td><td>0</td></tr>\n",
              "\t<tr><td>Decimoséptimo Circuito/ Chihuahua                </td><td>0</td><td> 2</td><td> 2</td><td>0</td></tr>\n",
              "\t<tr><td>Decimoctavo Circuito/ Morelos                    </td><td>0</td><td> 0</td><td> 0</td><td>0</td></tr>\n",
              "\t<tr><td>Decimonoveno Circuito/ Tamaulipas                </td><td>3</td><td> 7</td><td> 9</td><td>1</td></tr>\n",
              "\t<tr><td>Vigésimo Circuito/ Chiapas                       </td><td>0</td><td> 1</td><td> 1</td><td>0</td></tr>\n",
              "\t<tr><td>Vigésimo Primer Circuito/ Guerrero               </td><td>0</td><td> 0</td><td> 0</td><td>0</td></tr>\n",
              "\t<tr><td>Vigésimo Segundo Circuito/ Querétaro             </td><td>0</td><td> 4</td><td> 4</td><td>0</td></tr>\n",
              "\t<tr><td>Vigésimo Tercer Circuito/ Zacatecas              </td><td>0</td><td> 0</td><td> 0</td><td>0</td></tr>\n",
              "\t<tr><td>Vigésimo Cuarto Circuito/ Nayarit                </td><td>0</td><td> 0</td><td> 0</td><td>0</td></tr>\n",
              "\t<tr><td>Vigésimo Quinto Circuito/ Durango                </td><td>0</td><td> 0</td><td> 0</td><td>0</td></tr>\n",
              "\t<tr><td>Vigésimo Sexto Circuito/ Baja California Sur     </td><td>0</td><td> 1</td><td> 1</td><td>0</td></tr>\n",
              "\t<tr><td>Vigésimo Séptimo Circuito/ Quintana Roo          </td><td>0</td><td> 2</td><td> 1</td><td>1</td></tr>\n",
              "\t<tr><td>Vigésimo Octavo Circuito/ Tlaxcala               </td><td>0</td><td> 1</td><td> 1</td><td>0</td></tr>\n",
              "\t<tr><td>Vigésimo Noveno Circuito/ Hidalgo                </td><td>0</td><td> 0</td><td> 0</td><td>0</td></tr>\n",
              "\t<tr><td>Trigésimo Circuito/ Aguascalientes               </td><td>0</td><td> 0</td><td> 0</td><td>0</td></tr>\n",
              "\t<tr><td>Trigésimo Primer Circuito/ Campeche              </td><td>0</td><td> 0</td><td> 0</td><td>0</td></tr>\n",
              "\t<tr><td>Trigésimo Segundo Circuito/ Colima               </td><td>0</td><td> 3</td><td> 3</td><td>0</td></tr>\n",
              "\t<tr><td>Total                                            </td><td>3</td><td>71</td><td>71</td><td>3</td></tr>\n",
              "</tbody>\n",
              "</table>\n"
            ]
          },
          "metadata": {
            "tags": []
          }
        }
      ]
    },
    {
      "cell_type": "code",
      "metadata": {
        "colab": {
          "base_uri": "https://localhost:8080/",
          "height": 1000
        },
        "id": "3Hq3Hgvo0cYd",
        "outputId": "1f8d0dae-d937-471e-875a-c5854d630fc2"
      },
      "source": [
        "#procesos federales penales en segunda instancia\n",
        "#Queja\n",
        "cubo %>%\n",
        "filter(tp_organo == \"Tribunales Unitarios de Circuito\") %>%\n",
        "filter(tp_asunto == \"procesos federales penales en segunda instancia\") %>%\n",
        "filter(tp_procedimiento == \"Queja\") %>%\n",
        "mutate(egresos = egresos + egresos_acuerdo) %>% # egresos + egresos por acuerdo?\n",
        "select(circuito,  existencia_inicial, ingresos, egresos, Existencia_final) %>%\n",
        "mutate(circuito = factor(circuito, levels = orden_circuitos)) %>%\n",
        "group_by(circuito) %>%\n",
        "summarise_all(list(sum))%>%\n",
        "filter(!is.na(existencia_inicial))  %>%\n",
        "adorn_totals()"
      ],
      "execution_count": null,
      "outputs": [
        {
          "output_type": "display_data",
          "data": {
            "text/plain": [
              "   circuito                                          existencia_inicial\n",
              "1  Primer Circuito/ Ciudad de México                  1                \n",
              "2  Segundo Circuito/ México                           2                \n",
              "3  Tercer Circuito/ Jalisco                           2                \n",
              "4  Cuarto Circuito/ Nuevo León                        0                \n",
              "5  Quinto Circuito/ Sonora                            5                \n",
              "6  Sexto Circuito/ Puebla                             0                \n",
              "7  Séptimo Circuito/ Veracruz de Ignacio de la Llave  1                \n",
              "8  Octavo Circuito/ Coahuila de Zaragoza              2                \n",
              "9  Noveno Circuito/ San Luis Potosí                   0                \n",
              "10 Décimo Circuito/ Tabasco-Veracruz                  0                \n",
              "11 Decimoprimer Circuito/ Michoacán de Ocampo         1                \n",
              "12 Decimosegundo Circuito/ Sinaloa                    2                \n",
              "13 Decimotercer Circuito/ Oaxaca                      0                \n",
              "14 Decimocuarto Circuito/ Yucatán                     0                \n",
              "15 Decimoquinto Circuito/ Baja California             1                \n",
              "16 Decimosexto Circuito/ Guanajuato                   2                \n",
              "17 Decimoséptimo Circuito/ Chihuahua                  0                \n",
              "18 Decimoctavo Circuito/ Morelos                      1                \n",
              "19 Decimonoveno Circuito/ Tamaulipas                  3                \n",
              "20 Vigésimo Circuito/ Chiapas                         0                \n",
              "21 Vigésimo Primer Circuito/ Guerrero                 8                \n",
              "22 Vigésimo Segundo Circuito/ Querétaro               0                \n",
              "23 Vigésimo Tercer Circuito/ Zacatecas                1                \n",
              "24 Vigésimo Cuarto Circuito/ Nayarit                  0                \n",
              "25 Vigésimo Quinto Circuito/ Durango                  0                \n",
              "26 Vigésimo Sexto Circuito/ Baja California Sur       0                \n",
              "27 Vigésimo Séptimo Circuito/ Quintana Roo            1                \n",
              "28 Vigésimo Octavo Circuito/ Tlaxcala                 0                \n",
              "29 Vigésimo Noveno Circuito/ Hidalgo                  0                \n",
              "30 Trigésimo Circuito/ Aguascalientes                 0                \n",
              "31 Trigésimo Primer Circuito/ Campeche                0                \n",
              "32 Trigésimo Segundo Circuito/ Colima                 0                \n",
              "33 Total                                             33                \n",
              "   ingresos egresos Existencia_final\n",
              "1    20       20     1              \n",
              "2   391      389     4              \n",
              "3    54       55     1              \n",
              "4    19       19     0              \n",
              "5    29       32     2              \n",
              "6    52       52     0              \n",
              "7    24       24     1              \n",
              "8    31       32     1              \n",
              "9     5        5     0              \n",
              "10   23       23     0              \n",
              "11   18       19     0              \n",
              "12   91       92     1              \n",
              "13   29       29     0              \n",
              "14    2        2     0              \n",
              "15   19       20     0              \n",
              "16   43       44     1              \n",
              "17    8        8     0              \n",
              "18   43       42     2              \n",
              "19   64       66     1              \n",
              "20    8        7     1              \n",
              "21   56       62     2              \n",
              "22    7        7     0              \n",
              "23    4        5     0              \n",
              "24   20       18     2              \n",
              "25    7        7     0              \n",
              "26   28       28     0              \n",
              "27    6        6     1              \n",
              "28    6        5     1              \n",
              "29    4        4     0              \n",
              "30    1        1     0              \n",
              "31    4        4     0              \n",
              "32    0        0     0              \n",
              "33 1116     1127    22              "
            ],
            "text/latex": "A tabyl: 33 × 5\n\\begin{tabular}{lllll}\n circuito & existencia\\_inicial & ingresos & egresos & Existencia\\_final\\\\\n <chr> & <int> & <int> & <int> & <int>\\\\\n\\hline\n\t Primer Circuito/ Ciudad de México                 &  1 &   20 &   20 &  1\\\\\n\t Segundo Circuito/ México                          &  2 &  391 &  389 &  4\\\\\n\t Tercer Circuito/ Jalisco                          &  2 &   54 &   55 &  1\\\\\n\t Cuarto Circuito/ Nuevo León                       &  0 &   19 &   19 &  0\\\\\n\t Quinto Circuito/ Sonora                           &  5 &   29 &   32 &  2\\\\\n\t Sexto Circuito/ Puebla                            &  0 &   52 &   52 &  0\\\\\n\t Séptimo Circuito/ Veracruz de Ignacio de la Llave &  1 &   24 &   24 &  1\\\\\n\t Octavo Circuito/ Coahuila de Zaragoza             &  2 &   31 &   32 &  1\\\\\n\t Noveno Circuito/ San Luis Potosí                  &  0 &    5 &    5 &  0\\\\\n\t Décimo Circuito/ Tabasco-Veracruz                 &  0 &   23 &   23 &  0\\\\\n\t Decimoprimer Circuito/ Michoacán de Ocampo        &  1 &   18 &   19 &  0\\\\\n\t Decimosegundo Circuito/ Sinaloa                   &  2 &   91 &   92 &  1\\\\\n\t Decimotercer Circuito/ Oaxaca                     &  0 &   29 &   29 &  0\\\\\n\t Decimocuarto Circuito/ Yucatán                    &  0 &    2 &    2 &  0\\\\\n\t Decimoquinto Circuito/ Baja California            &  1 &   19 &   20 &  0\\\\\n\t Decimosexto Circuito/ Guanajuato                  &  2 &   43 &   44 &  1\\\\\n\t Decimoséptimo Circuito/ Chihuahua                 &  0 &    8 &    8 &  0\\\\\n\t Decimoctavo Circuito/ Morelos                     &  1 &   43 &   42 &  2\\\\\n\t Decimonoveno Circuito/ Tamaulipas                 &  3 &   64 &   66 &  1\\\\\n\t Vigésimo Circuito/ Chiapas                        &  0 &    8 &    7 &  1\\\\\n\t Vigésimo Primer Circuito/ Guerrero                &  8 &   56 &   62 &  2\\\\\n\t Vigésimo Segundo Circuito/ Querétaro              &  0 &    7 &    7 &  0\\\\\n\t Vigésimo Tercer Circuito/ Zacatecas               &  1 &    4 &    5 &  0\\\\\n\t Vigésimo Cuarto Circuito/ Nayarit                 &  0 &   20 &   18 &  2\\\\\n\t Vigésimo Quinto Circuito/ Durango                 &  0 &    7 &    7 &  0\\\\\n\t Vigésimo Sexto Circuito/ Baja California Sur      &  0 &   28 &   28 &  0\\\\\n\t Vigésimo Séptimo Circuito/ Quintana Roo           &  1 &    6 &    6 &  1\\\\\n\t Vigésimo Octavo Circuito/ Tlaxcala                &  0 &    6 &    5 &  1\\\\\n\t Vigésimo Noveno Circuito/ Hidalgo                 &  0 &    4 &    4 &  0\\\\\n\t Trigésimo Circuito/ Aguascalientes                &  0 &    1 &    1 &  0\\\\\n\t Trigésimo Primer Circuito/ Campeche               &  0 &    4 &    4 &  0\\\\\n\t Trigésimo Segundo Circuito/ Colima                &  0 &    0 &    0 &  0\\\\\n\t Total                                             & 33 & 1116 & 1127 & 22\\\\\n\\end{tabular}\n",
            "text/markdown": "\nA tabyl: 33 × 5\n\n| circuito &lt;chr&gt; | existencia_inicial &lt;int&gt; | ingresos &lt;int&gt; | egresos &lt;int&gt; | Existencia_final &lt;int&gt; |\n|---|---|---|---|---|\n| Primer Circuito/ Ciudad de México                 |  1 |   20 |   20 |  1 |\n| Segundo Circuito/ México                          |  2 |  391 |  389 |  4 |\n| Tercer Circuito/ Jalisco                          |  2 |   54 |   55 |  1 |\n| Cuarto Circuito/ Nuevo León                       |  0 |   19 |   19 |  0 |\n| Quinto Circuito/ Sonora                           |  5 |   29 |   32 |  2 |\n| Sexto Circuito/ Puebla                            |  0 |   52 |   52 |  0 |\n| Séptimo Circuito/ Veracruz de Ignacio de la Llave |  1 |   24 |   24 |  1 |\n| Octavo Circuito/ Coahuila de Zaragoza             |  2 |   31 |   32 |  1 |\n| Noveno Circuito/ San Luis Potosí                  |  0 |    5 |    5 |  0 |\n| Décimo Circuito/ Tabasco-Veracruz                 |  0 |   23 |   23 |  0 |\n| Decimoprimer Circuito/ Michoacán de Ocampo        |  1 |   18 |   19 |  0 |\n| Decimosegundo Circuito/ Sinaloa                   |  2 |   91 |   92 |  1 |\n| Decimotercer Circuito/ Oaxaca                     |  0 |   29 |   29 |  0 |\n| Decimocuarto Circuito/ Yucatán                    |  0 |    2 |    2 |  0 |\n| Decimoquinto Circuito/ Baja California            |  1 |   19 |   20 |  0 |\n| Decimosexto Circuito/ Guanajuato                  |  2 |   43 |   44 |  1 |\n| Decimoséptimo Circuito/ Chihuahua                 |  0 |    8 |    8 |  0 |\n| Decimoctavo Circuito/ Morelos                     |  1 |   43 |   42 |  2 |\n| Decimonoveno Circuito/ Tamaulipas                 |  3 |   64 |   66 |  1 |\n| Vigésimo Circuito/ Chiapas                        |  0 |    8 |    7 |  1 |\n| Vigésimo Primer Circuito/ Guerrero                |  8 |   56 |   62 |  2 |\n| Vigésimo Segundo Circuito/ Querétaro              |  0 |    7 |    7 |  0 |\n| Vigésimo Tercer Circuito/ Zacatecas               |  1 |    4 |    5 |  0 |\n| Vigésimo Cuarto Circuito/ Nayarit                 |  0 |   20 |   18 |  2 |\n| Vigésimo Quinto Circuito/ Durango                 |  0 |    7 |    7 |  0 |\n| Vigésimo Sexto Circuito/ Baja California Sur      |  0 |   28 |   28 |  0 |\n| Vigésimo Séptimo Circuito/ Quintana Roo           |  1 |    6 |    6 |  1 |\n| Vigésimo Octavo Circuito/ Tlaxcala                |  0 |    6 |    5 |  1 |\n| Vigésimo Noveno Circuito/ Hidalgo                 |  0 |    4 |    4 |  0 |\n| Trigésimo Circuito/ Aguascalientes                |  0 |    1 |    1 |  0 |\n| Trigésimo Primer Circuito/ Campeche               |  0 |    4 |    4 |  0 |\n| Trigésimo Segundo Circuito/ Colima                |  0 |    0 |    0 |  0 |\n| Total                                             | 33 | 1116 | 1127 | 22 |\n\n",
            "text/html": [
              "<table class=\"dataframe\">\n",
              "<caption>A tabyl: 33 × 5</caption>\n",
              "<thead>\n",
              "\t<tr><th scope=col>circuito</th><th scope=col>existencia_inicial</th><th scope=col>ingresos</th><th scope=col>egresos</th><th scope=col>Existencia_final</th></tr>\n",
              "\t<tr><th scope=col>&lt;chr&gt;</th><th scope=col>&lt;int&gt;</th><th scope=col>&lt;int&gt;</th><th scope=col>&lt;int&gt;</th><th scope=col>&lt;int&gt;</th></tr>\n",
              "</thead>\n",
              "<tbody>\n",
              "\t<tr><td>Primer Circuito/ Ciudad de México                </td><td> 1</td><td>  20</td><td>  20</td><td> 1</td></tr>\n",
              "\t<tr><td>Segundo Circuito/ México                         </td><td> 2</td><td> 391</td><td> 389</td><td> 4</td></tr>\n",
              "\t<tr><td>Tercer Circuito/ Jalisco                         </td><td> 2</td><td>  54</td><td>  55</td><td> 1</td></tr>\n",
              "\t<tr><td>Cuarto Circuito/ Nuevo León                      </td><td> 0</td><td>  19</td><td>  19</td><td> 0</td></tr>\n",
              "\t<tr><td>Quinto Circuito/ Sonora                          </td><td> 5</td><td>  29</td><td>  32</td><td> 2</td></tr>\n",
              "\t<tr><td>Sexto Circuito/ Puebla                           </td><td> 0</td><td>  52</td><td>  52</td><td> 0</td></tr>\n",
              "\t<tr><td>Séptimo Circuito/ Veracruz de Ignacio de la Llave</td><td> 1</td><td>  24</td><td>  24</td><td> 1</td></tr>\n",
              "\t<tr><td>Octavo Circuito/ Coahuila de Zaragoza            </td><td> 2</td><td>  31</td><td>  32</td><td> 1</td></tr>\n",
              "\t<tr><td>Noveno Circuito/ San Luis Potosí                 </td><td> 0</td><td>   5</td><td>   5</td><td> 0</td></tr>\n",
              "\t<tr><td>Décimo Circuito/ Tabasco-Veracruz                </td><td> 0</td><td>  23</td><td>  23</td><td> 0</td></tr>\n",
              "\t<tr><td>Decimoprimer Circuito/ Michoacán de Ocampo       </td><td> 1</td><td>  18</td><td>  19</td><td> 0</td></tr>\n",
              "\t<tr><td>Decimosegundo Circuito/ Sinaloa                  </td><td> 2</td><td>  91</td><td>  92</td><td> 1</td></tr>\n",
              "\t<tr><td>Decimotercer Circuito/ Oaxaca                    </td><td> 0</td><td>  29</td><td>  29</td><td> 0</td></tr>\n",
              "\t<tr><td>Decimocuarto Circuito/ Yucatán                   </td><td> 0</td><td>   2</td><td>   2</td><td> 0</td></tr>\n",
              "\t<tr><td>Decimoquinto Circuito/ Baja California           </td><td> 1</td><td>  19</td><td>  20</td><td> 0</td></tr>\n",
              "\t<tr><td>Decimosexto Circuito/ Guanajuato                 </td><td> 2</td><td>  43</td><td>  44</td><td> 1</td></tr>\n",
              "\t<tr><td>Decimoséptimo Circuito/ Chihuahua                </td><td> 0</td><td>   8</td><td>   8</td><td> 0</td></tr>\n",
              "\t<tr><td>Decimoctavo Circuito/ Morelos                    </td><td> 1</td><td>  43</td><td>  42</td><td> 2</td></tr>\n",
              "\t<tr><td>Decimonoveno Circuito/ Tamaulipas                </td><td> 3</td><td>  64</td><td>  66</td><td> 1</td></tr>\n",
              "\t<tr><td>Vigésimo Circuito/ Chiapas                       </td><td> 0</td><td>   8</td><td>   7</td><td> 1</td></tr>\n",
              "\t<tr><td>Vigésimo Primer Circuito/ Guerrero               </td><td> 8</td><td>  56</td><td>  62</td><td> 2</td></tr>\n",
              "\t<tr><td>Vigésimo Segundo Circuito/ Querétaro             </td><td> 0</td><td>   7</td><td>   7</td><td> 0</td></tr>\n",
              "\t<tr><td>Vigésimo Tercer Circuito/ Zacatecas              </td><td> 1</td><td>   4</td><td>   5</td><td> 0</td></tr>\n",
              "\t<tr><td>Vigésimo Cuarto Circuito/ Nayarit                </td><td> 0</td><td>  20</td><td>  18</td><td> 2</td></tr>\n",
              "\t<tr><td>Vigésimo Quinto Circuito/ Durango                </td><td> 0</td><td>   7</td><td>   7</td><td> 0</td></tr>\n",
              "\t<tr><td>Vigésimo Sexto Circuito/ Baja California Sur     </td><td> 0</td><td>  28</td><td>  28</td><td> 0</td></tr>\n",
              "\t<tr><td>Vigésimo Séptimo Circuito/ Quintana Roo          </td><td> 1</td><td>   6</td><td>   6</td><td> 1</td></tr>\n",
              "\t<tr><td>Vigésimo Octavo Circuito/ Tlaxcala               </td><td> 0</td><td>   6</td><td>   5</td><td> 1</td></tr>\n",
              "\t<tr><td>Vigésimo Noveno Circuito/ Hidalgo                </td><td> 0</td><td>   4</td><td>   4</td><td> 0</td></tr>\n",
              "\t<tr><td>Trigésimo Circuito/ Aguascalientes               </td><td> 0</td><td>   1</td><td>   1</td><td> 0</td></tr>\n",
              "\t<tr><td>Trigésimo Primer Circuito/ Campeche              </td><td> 0</td><td>   4</td><td>   4</td><td> 0</td></tr>\n",
              "\t<tr><td>Trigésimo Segundo Circuito/ Colima               </td><td> 0</td><td>   0</td><td>   0</td><td> 0</td></tr>\n",
              "\t<tr><td>Total                                            </td><td>33</td><td>1116</td><td>1127</td><td>22</td></tr>\n",
              "</tbody>\n",
              "</table>\n"
            ]
          },
          "metadata": {
            "tags": []
          }
        }
      ]
    },
    {
      "cell_type": "code",
      "metadata": {
        "colab": {
          "base_uri": "https://localhost:8080/",
          "height": 1000
        },
        "id": "ipJdHuPD1SfY",
        "outputId": "92b3f34e-c300-4fbf-c25d-3ca13fed1018"
      },
      "source": [
        "#procesos federales penales en segunda instancia\n",
        "#Competencia entre jueces\n",
        "cubo %>%\n",
        "filter(tp_organo == \"Tribunales Unitarios de Circuito\") %>%\n",
        "filter(tp_asunto == \"procesos federales penales en segunda instancia\") %>%\n",
        "filter(tp_procedimiento == \"Competencia entre jueces\") %>%\n",
        "mutate(egresos = egresos + egresos_acuerdo) %>% # egresos + egresos por acuerdo?\n",
        "select(circuito,  existencia_inicial, ingresos, egresos, Existencia_final) %>%\n",
        "mutate(circuito = factor(circuito, levels = orden_circuitos)) %>%\n",
        "group_by(circuito) %>%\n",
        "summarise_all(list(sum))%>%\n",
        "filter(!is.na(existencia_inicial))  %>%\n",
        "adorn_totals()"
      ],
      "execution_count": null,
      "outputs": [
        {
          "output_type": "display_data",
          "data": {
            "text/plain": [
              "   circuito                                          existencia_inicial\n",
              "1  Primer Circuito/ Ciudad de México                  0                \n",
              "2  Segundo Circuito/ México                          10                \n",
              "3  Tercer Circuito/ Jalisco                           5                \n",
              "4  Cuarto Circuito/ Nuevo León                        2                \n",
              "5  Quinto Circuito/ Sonora                            3                \n",
              "6  Sexto Circuito/ Puebla                             1                \n",
              "7  Séptimo Circuito/ Veracruz de Ignacio de la Llave  4                \n",
              "8  Octavo Circuito/ Coahuila de Zaragoza              0                \n",
              "9  Noveno Circuito/ San Luis Potosí                   0                \n",
              "10 Décimo Circuito/ Tabasco-Veracruz                  1                \n",
              "11 Decimoprimer Circuito/ Michoacán de Ocampo         0                \n",
              "12 Decimosegundo Circuito/ Sinaloa                    0                \n",
              "13 Decimotercer Circuito/ Oaxaca                      3                \n",
              "14 Decimocuarto Circuito/ Yucatán                     0                \n",
              "15 Decimoquinto Circuito/ Baja California             4                \n",
              "16 Decimosexto Circuito/ Guanajuato                   0                \n",
              "17 Decimoséptimo Circuito/ Chihuahua                  0                \n",
              "18 Decimoctavo Circuito/ Morelos                      0                \n",
              "19 Decimonoveno Circuito/ Tamaulipas                  5                \n",
              "20 Vigésimo Circuito/ Chiapas                         0                \n",
              "21 Vigésimo Primer Circuito/ Guerrero                 1                \n",
              "22 Vigésimo Segundo Circuito/ Querétaro               0                \n",
              "23 Vigésimo Tercer Circuito/ Zacatecas                0                \n",
              "24 Vigésimo Cuarto Circuito/ Nayarit                  0                \n",
              "25 Vigésimo Quinto Circuito/ Durango                  0                \n",
              "26 Vigésimo Sexto Circuito/ Baja California Sur       0                \n",
              "27 Vigésimo Séptimo Circuito/ Quintana Roo            0                \n",
              "28 Vigésimo Octavo Circuito/ Tlaxcala                 0                \n",
              "29 Vigésimo Noveno Circuito/ Hidalgo                  0                \n",
              "30 Trigésimo Circuito/ Aguascalientes                 0                \n",
              "31 Trigésimo Primer Circuito/ Campeche                0                \n",
              "32 Trigésimo Segundo Circuito/ Colima                 0                \n",
              "33 Total                                             39                \n",
              "   ingresos egresos Existencia_final\n",
              "1   15       14      1              \n",
              "2   87       95      2              \n",
              "3   70       59     16              \n",
              "4    6        8      0              \n",
              "5    7       10      0              \n",
              "6    7        6      2              \n",
              "7    9       12      1              \n",
              "8   17       17      0              \n",
              "9    3        2      1              \n",
              "10   1        2      0              \n",
              "11   0        0      0              \n",
              "12   2        2      0              \n",
              "13  14       17      0              \n",
              "14   1        1      0              \n",
              "15  18       21      1              \n",
              "16   5        5      0              \n",
              "17  25       25      0              \n",
              "18   6        6      0              \n",
              "19   5        8      2              \n",
              "20   0        0      0              \n",
              "21  14       12      3              \n",
              "22   1        1      0              \n",
              "23   0        0      0              \n",
              "24  19       18      1              \n",
              "25   1        1      0              \n",
              "26   0        0      0              \n",
              "27   0        0      0              \n",
              "28   5        3      2              \n",
              "29   2        2      0              \n",
              "30   1        1      0              \n",
              "31   1        1      0              \n",
              "32   1        1      0              \n",
              "33 343      350     32              "
            ],
            "text/latex": "A tabyl: 33 × 5\n\\begin{tabular}{lllll}\n circuito & existencia\\_inicial & ingresos & egresos & Existencia\\_final\\\\\n <chr> & <int> & <int> & <int> & <int>\\\\\n\\hline\n\t Primer Circuito/ Ciudad de México                 &  0 &  15 &  14 &  1\\\\\n\t Segundo Circuito/ México                          & 10 &  87 &  95 &  2\\\\\n\t Tercer Circuito/ Jalisco                          &  5 &  70 &  59 & 16\\\\\n\t Cuarto Circuito/ Nuevo León                       &  2 &   6 &   8 &  0\\\\\n\t Quinto Circuito/ Sonora                           &  3 &   7 &  10 &  0\\\\\n\t Sexto Circuito/ Puebla                            &  1 &   7 &   6 &  2\\\\\n\t Séptimo Circuito/ Veracruz de Ignacio de la Llave &  4 &   9 &  12 &  1\\\\\n\t Octavo Circuito/ Coahuila de Zaragoza             &  0 &  17 &  17 &  0\\\\\n\t Noveno Circuito/ San Luis Potosí                  &  0 &   3 &   2 &  1\\\\\n\t Décimo Circuito/ Tabasco-Veracruz                 &  1 &   1 &   2 &  0\\\\\n\t Decimoprimer Circuito/ Michoacán de Ocampo        &  0 &   0 &   0 &  0\\\\\n\t Decimosegundo Circuito/ Sinaloa                   &  0 &   2 &   2 &  0\\\\\n\t Decimotercer Circuito/ Oaxaca                     &  3 &  14 &  17 &  0\\\\\n\t Decimocuarto Circuito/ Yucatán                    &  0 &   1 &   1 &  0\\\\\n\t Decimoquinto Circuito/ Baja California            &  4 &  18 &  21 &  1\\\\\n\t Decimosexto Circuito/ Guanajuato                  &  0 &   5 &   5 &  0\\\\\n\t Decimoséptimo Circuito/ Chihuahua                 &  0 &  25 &  25 &  0\\\\\n\t Decimoctavo Circuito/ Morelos                     &  0 &   6 &   6 &  0\\\\\n\t Decimonoveno Circuito/ Tamaulipas                 &  5 &   5 &   8 &  2\\\\\n\t Vigésimo Circuito/ Chiapas                        &  0 &   0 &   0 &  0\\\\\n\t Vigésimo Primer Circuito/ Guerrero                &  1 &  14 &  12 &  3\\\\\n\t Vigésimo Segundo Circuito/ Querétaro              &  0 &   1 &   1 &  0\\\\\n\t Vigésimo Tercer Circuito/ Zacatecas               &  0 &   0 &   0 &  0\\\\\n\t Vigésimo Cuarto Circuito/ Nayarit                 &  0 &  19 &  18 &  1\\\\\n\t Vigésimo Quinto Circuito/ Durango                 &  0 &   1 &   1 &  0\\\\\n\t Vigésimo Sexto Circuito/ Baja California Sur      &  0 &   0 &   0 &  0\\\\\n\t Vigésimo Séptimo Circuito/ Quintana Roo           &  0 &   0 &   0 &  0\\\\\n\t Vigésimo Octavo Circuito/ Tlaxcala                &  0 &   5 &   3 &  2\\\\\n\t Vigésimo Noveno Circuito/ Hidalgo                 &  0 &   2 &   2 &  0\\\\\n\t Trigésimo Circuito/ Aguascalientes                &  0 &   1 &   1 &  0\\\\\n\t Trigésimo Primer Circuito/ Campeche               &  0 &   1 &   1 &  0\\\\\n\t Trigésimo Segundo Circuito/ Colima                &  0 &   1 &   1 &  0\\\\\n\t Total                                             & 39 & 343 & 350 & 32\\\\\n\\end{tabular}\n",
            "text/markdown": "\nA tabyl: 33 × 5\n\n| circuito &lt;chr&gt; | existencia_inicial &lt;int&gt; | ingresos &lt;int&gt; | egresos &lt;int&gt; | Existencia_final &lt;int&gt; |\n|---|---|---|---|---|\n| Primer Circuito/ Ciudad de México                 |  0 |  15 |  14 |  1 |\n| Segundo Circuito/ México                          | 10 |  87 |  95 |  2 |\n| Tercer Circuito/ Jalisco                          |  5 |  70 |  59 | 16 |\n| Cuarto Circuito/ Nuevo León                       |  2 |   6 |   8 |  0 |\n| Quinto Circuito/ Sonora                           |  3 |   7 |  10 |  0 |\n| Sexto Circuito/ Puebla                            |  1 |   7 |   6 |  2 |\n| Séptimo Circuito/ Veracruz de Ignacio de la Llave |  4 |   9 |  12 |  1 |\n| Octavo Circuito/ Coahuila de Zaragoza             |  0 |  17 |  17 |  0 |\n| Noveno Circuito/ San Luis Potosí                  |  0 |   3 |   2 |  1 |\n| Décimo Circuito/ Tabasco-Veracruz                 |  1 |   1 |   2 |  0 |\n| Decimoprimer Circuito/ Michoacán de Ocampo        |  0 |   0 |   0 |  0 |\n| Decimosegundo Circuito/ Sinaloa                   |  0 |   2 |   2 |  0 |\n| Decimotercer Circuito/ Oaxaca                     |  3 |  14 |  17 |  0 |\n| Decimocuarto Circuito/ Yucatán                    |  0 |   1 |   1 |  0 |\n| Decimoquinto Circuito/ Baja California            |  4 |  18 |  21 |  1 |\n| Decimosexto Circuito/ Guanajuato                  |  0 |   5 |   5 |  0 |\n| Decimoséptimo Circuito/ Chihuahua                 |  0 |  25 |  25 |  0 |\n| Decimoctavo Circuito/ Morelos                     |  0 |   6 |   6 |  0 |\n| Decimonoveno Circuito/ Tamaulipas                 |  5 |   5 |   8 |  2 |\n| Vigésimo Circuito/ Chiapas                        |  0 |   0 |   0 |  0 |\n| Vigésimo Primer Circuito/ Guerrero                |  1 |  14 |  12 |  3 |\n| Vigésimo Segundo Circuito/ Querétaro              |  0 |   1 |   1 |  0 |\n| Vigésimo Tercer Circuito/ Zacatecas               |  0 |   0 |   0 |  0 |\n| Vigésimo Cuarto Circuito/ Nayarit                 |  0 |  19 |  18 |  1 |\n| Vigésimo Quinto Circuito/ Durango                 |  0 |   1 |   1 |  0 |\n| Vigésimo Sexto Circuito/ Baja California Sur      |  0 |   0 |   0 |  0 |\n| Vigésimo Séptimo Circuito/ Quintana Roo           |  0 |   0 |   0 |  0 |\n| Vigésimo Octavo Circuito/ Tlaxcala                |  0 |   5 |   3 |  2 |\n| Vigésimo Noveno Circuito/ Hidalgo                 |  0 |   2 |   2 |  0 |\n| Trigésimo Circuito/ Aguascalientes                |  0 |   1 |   1 |  0 |\n| Trigésimo Primer Circuito/ Campeche               |  0 |   1 |   1 |  0 |\n| Trigésimo Segundo Circuito/ Colima                |  0 |   1 |   1 |  0 |\n| Total                                             | 39 | 343 | 350 | 32 |\n\n",
            "text/html": [
              "<table class=\"dataframe\">\n",
              "<caption>A tabyl: 33 × 5</caption>\n",
              "<thead>\n",
              "\t<tr><th scope=col>circuito</th><th scope=col>existencia_inicial</th><th scope=col>ingresos</th><th scope=col>egresos</th><th scope=col>Existencia_final</th></tr>\n",
              "\t<tr><th scope=col>&lt;chr&gt;</th><th scope=col>&lt;int&gt;</th><th scope=col>&lt;int&gt;</th><th scope=col>&lt;int&gt;</th><th scope=col>&lt;int&gt;</th></tr>\n",
              "</thead>\n",
              "<tbody>\n",
              "\t<tr><td>Primer Circuito/ Ciudad de México                </td><td> 0</td><td> 15</td><td> 14</td><td> 1</td></tr>\n",
              "\t<tr><td>Segundo Circuito/ México                         </td><td>10</td><td> 87</td><td> 95</td><td> 2</td></tr>\n",
              "\t<tr><td>Tercer Circuito/ Jalisco                         </td><td> 5</td><td> 70</td><td> 59</td><td>16</td></tr>\n",
              "\t<tr><td>Cuarto Circuito/ Nuevo León                      </td><td> 2</td><td>  6</td><td>  8</td><td> 0</td></tr>\n",
              "\t<tr><td>Quinto Circuito/ Sonora                          </td><td> 3</td><td>  7</td><td> 10</td><td> 0</td></tr>\n",
              "\t<tr><td>Sexto Circuito/ Puebla                           </td><td> 1</td><td>  7</td><td>  6</td><td> 2</td></tr>\n",
              "\t<tr><td>Séptimo Circuito/ Veracruz de Ignacio de la Llave</td><td> 4</td><td>  9</td><td> 12</td><td> 1</td></tr>\n",
              "\t<tr><td>Octavo Circuito/ Coahuila de Zaragoza            </td><td> 0</td><td> 17</td><td> 17</td><td> 0</td></tr>\n",
              "\t<tr><td>Noveno Circuito/ San Luis Potosí                 </td><td> 0</td><td>  3</td><td>  2</td><td> 1</td></tr>\n",
              "\t<tr><td>Décimo Circuito/ Tabasco-Veracruz                </td><td> 1</td><td>  1</td><td>  2</td><td> 0</td></tr>\n",
              "\t<tr><td>Decimoprimer Circuito/ Michoacán de Ocampo       </td><td> 0</td><td>  0</td><td>  0</td><td> 0</td></tr>\n",
              "\t<tr><td>Decimosegundo Circuito/ Sinaloa                  </td><td> 0</td><td>  2</td><td>  2</td><td> 0</td></tr>\n",
              "\t<tr><td>Decimotercer Circuito/ Oaxaca                    </td><td> 3</td><td> 14</td><td> 17</td><td> 0</td></tr>\n",
              "\t<tr><td>Decimocuarto Circuito/ Yucatán                   </td><td> 0</td><td>  1</td><td>  1</td><td> 0</td></tr>\n",
              "\t<tr><td>Decimoquinto Circuito/ Baja California           </td><td> 4</td><td> 18</td><td> 21</td><td> 1</td></tr>\n",
              "\t<tr><td>Decimosexto Circuito/ Guanajuato                 </td><td> 0</td><td>  5</td><td>  5</td><td> 0</td></tr>\n",
              "\t<tr><td>Decimoséptimo Circuito/ Chihuahua                </td><td> 0</td><td> 25</td><td> 25</td><td> 0</td></tr>\n",
              "\t<tr><td>Decimoctavo Circuito/ Morelos                    </td><td> 0</td><td>  6</td><td>  6</td><td> 0</td></tr>\n",
              "\t<tr><td>Decimonoveno Circuito/ Tamaulipas                </td><td> 5</td><td>  5</td><td>  8</td><td> 2</td></tr>\n",
              "\t<tr><td>Vigésimo Circuito/ Chiapas                       </td><td> 0</td><td>  0</td><td>  0</td><td> 0</td></tr>\n",
              "\t<tr><td>Vigésimo Primer Circuito/ Guerrero               </td><td> 1</td><td> 14</td><td> 12</td><td> 3</td></tr>\n",
              "\t<tr><td>Vigésimo Segundo Circuito/ Querétaro             </td><td> 0</td><td>  1</td><td>  1</td><td> 0</td></tr>\n",
              "\t<tr><td>Vigésimo Tercer Circuito/ Zacatecas              </td><td> 0</td><td>  0</td><td>  0</td><td> 0</td></tr>\n",
              "\t<tr><td>Vigésimo Cuarto Circuito/ Nayarit                </td><td> 0</td><td> 19</td><td> 18</td><td> 1</td></tr>\n",
              "\t<tr><td>Vigésimo Quinto Circuito/ Durango                </td><td> 0</td><td>  1</td><td>  1</td><td> 0</td></tr>\n",
              "\t<tr><td>Vigésimo Sexto Circuito/ Baja California Sur     </td><td> 0</td><td>  0</td><td>  0</td><td> 0</td></tr>\n",
              "\t<tr><td>Vigésimo Séptimo Circuito/ Quintana Roo          </td><td> 0</td><td>  0</td><td>  0</td><td> 0</td></tr>\n",
              "\t<tr><td>Vigésimo Octavo Circuito/ Tlaxcala               </td><td> 0</td><td>  5</td><td>  3</td><td> 2</td></tr>\n",
              "\t<tr><td>Vigésimo Noveno Circuito/ Hidalgo                </td><td> 0</td><td>  2</td><td>  2</td><td> 0</td></tr>\n",
              "\t<tr><td>Trigésimo Circuito/ Aguascalientes               </td><td> 0</td><td>  1</td><td>  1</td><td> 0</td></tr>\n",
              "\t<tr><td>Trigésimo Primer Circuito/ Campeche              </td><td> 0</td><td>  1</td><td>  1</td><td> 0</td></tr>\n",
              "\t<tr><td>Trigésimo Segundo Circuito/ Colima               </td><td> 0</td><td>  1</td><td>  1</td><td> 0</td></tr>\n",
              "\t<tr><td>Total                                            </td><td>39</td><td>343</td><td>350</td><td>32</td></tr>\n",
              "</tbody>\n",
              "</table>\n"
            ]
          },
          "metadata": {
            "tags": []
          }
        }
      ]
    },
    {
      "cell_type": "code",
      "metadata": {
        "colab": {
          "base_uri": "https://localhost:8080/",
          "height": 1000
        },
        "id": "0DRqgUQ-365Q",
        "outputId": "f6c38429-0193-4eb1-b4b1-f3866cd47dac"
      },
      "source": [
        "#procesos federales penales en segunda instancia\n",
        "#Conflicto de Acumulación\n",
        "\n",
        "cubo %>%\n",
        "filter(tp_organo == \"Tribunales Unitarios de Circuito\") %>%\n",
        "filter(tp_asunto == \"procesos federales penales en segunda instancia\") %>%\n",
        "filter(tp_procedimiento == \"Conflicto de Acumulación\" | tp_procedimiento ==\"Conflicto de acumulación\" | tp_procedimiento ==\"Conflicto De acumulación\") %>%\n",
        "mutate(egresos = egresos + egresos_acuerdo) %>% # egresos + egresos por acuerdo?\n",
        "select(circuito,  existencia_inicial, ingresos, egresos, Existencia_final) %>%\n",
        "mutate(circuito = factor(circuito, levels = orden_circuitos)) %>%\n",
        "group_by(circuito) %>%\n",
        "summarise_all(list(sum))%>%\n",
        "filter(!is.na(existencia_inicial))  %>%\n",
        "adorn_totals()"
      ],
      "execution_count": null,
      "outputs": [
        {
          "output_type": "display_data",
          "data": {
            "text/plain": [
              "   circuito                                          existencia_inicial\n",
              "1  Primer Circuito/ Ciudad de México                 0                 \n",
              "2  Segundo Circuito/ México                          0                 \n",
              "3  Tercer Circuito/ Jalisco                          0                 \n",
              "4  Cuarto Circuito/ Nuevo León                       0                 \n",
              "5  Quinto Circuito/ Sonora                           0                 \n",
              "6  Sexto Circuito/ Puebla                            0                 \n",
              "7  Séptimo Circuito/ Veracruz de Ignacio de la Llave 0                 \n",
              "8  Octavo Circuito/ Coahuila de Zaragoza             0                 \n",
              "9  Noveno Circuito/ San Luis Potosí                  0                 \n",
              "10 Décimo Circuito/ Tabasco-Veracruz                 0                 \n",
              "11 Decimoprimer Circuito/ Michoacán de Ocampo        0                 \n",
              "12 Decimosegundo Circuito/ Sinaloa                   0                 \n",
              "13 Decimotercer Circuito/ Oaxaca                     0                 \n",
              "14 Decimocuarto Circuito/ Yucatán                    0                 \n",
              "15 Decimoquinto Circuito/ Baja California            0                 \n",
              "16 Decimosexto Circuito/ Guanajuato                  0                 \n",
              "17 Decimoséptimo Circuito/ Chihuahua                 0                 \n",
              "18 Decimoctavo Circuito/ Morelos                     0                 \n",
              "19 Decimonoveno Circuito/ Tamaulipas                 0                 \n",
              "20 Vigésimo Circuito/ Chiapas                        0                 \n",
              "21 Vigésimo Primer Circuito/ Guerrero                0                 \n",
              "22 Vigésimo Segundo Circuito/ Querétaro              0                 \n",
              "23 Vigésimo Tercer Circuito/ Zacatecas               0                 \n",
              "24 Vigésimo Cuarto Circuito/ Nayarit                 0                 \n",
              "25 Vigésimo Quinto Circuito/ Durango                 0                 \n",
              "26 Vigésimo Sexto Circuito/ Baja California Sur      0                 \n",
              "27 Vigésimo Séptimo Circuito/ Quintana Roo           0                 \n",
              "28 Vigésimo Octavo Circuito/ Tlaxcala                0                 \n",
              "29 Vigésimo Noveno Circuito/ Hidalgo                 0                 \n",
              "30 Trigésimo Circuito/ Aguascalientes                0                 \n",
              "31 Trigésimo Primer Circuito/ Campeche               0                 \n",
              "32 Trigésimo Segundo Circuito/ Colima                0                 \n",
              "33 Total                                             0                 \n",
              "   ingresos egresos Existencia_final\n",
              "1  0        0       0               \n",
              "2  0        0       0               \n",
              "3  0        0       0               \n",
              "4  0        0       0               \n",
              "5  0        0       0               \n",
              "6  0        0       0               \n",
              "7  0        0       0               \n",
              "8  0        0       0               \n",
              "9  0        0       0               \n",
              "10 0        0       0               \n",
              "11 0        0       0               \n",
              "12 0        0       0               \n",
              "13 0        0       0               \n",
              "14 0        0       0               \n",
              "15 0        0       0               \n",
              "16 0        0       0               \n",
              "17 0        0       0               \n",
              "18 0        0       0               \n",
              "19 0        0       0               \n",
              "20 0        0       0               \n",
              "21 0        0       0               \n",
              "22 0        0       0               \n",
              "23 0        0       0               \n",
              "24 0        0       0               \n",
              "25 0        0       0               \n",
              "26 0        0       0               \n",
              "27 0        0       0               \n",
              "28 0        0       0               \n",
              "29 0        0       0               \n",
              "30 0        0       0               \n",
              "31 0        0       0               \n",
              "32 0        0       0               \n",
              "33 0        0       0               "
            ],
            "text/latex": "A tabyl: 33 × 5\n\\begin{tabular}{lllll}\n circuito & existencia\\_inicial & ingresos & egresos & Existencia\\_final\\\\\n <chr> & <int> & <int> & <int> & <int>\\\\\n\\hline\n\t Primer Circuito/ Ciudad de México                 & 0 & 0 & 0 & 0\\\\\n\t Segundo Circuito/ México                          & 0 & 0 & 0 & 0\\\\\n\t Tercer Circuito/ Jalisco                          & 0 & 0 & 0 & 0\\\\\n\t Cuarto Circuito/ Nuevo León                       & 0 & 0 & 0 & 0\\\\\n\t Quinto Circuito/ Sonora                           & 0 & 0 & 0 & 0\\\\\n\t Sexto Circuito/ Puebla                            & 0 & 0 & 0 & 0\\\\\n\t Séptimo Circuito/ Veracruz de Ignacio de la Llave & 0 & 0 & 0 & 0\\\\\n\t Octavo Circuito/ Coahuila de Zaragoza             & 0 & 0 & 0 & 0\\\\\n\t Noveno Circuito/ San Luis Potosí                  & 0 & 0 & 0 & 0\\\\\n\t Décimo Circuito/ Tabasco-Veracruz                 & 0 & 0 & 0 & 0\\\\\n\t Decimoprimer Circuito/ Michoacán de Ocampo        & 0 & 0 & 0 & 0\\\\\n\t Decimosegundo Circuito/ Sinaloa                   & 0 & 0 & 0 & 0\\\\\n\t Decimotercer Circuito/ Oaxaca                     & 0 & 0 & 0 & 0\\\\\n\t Decimocuarto Circuito/ Yucatán                    & 0 & 0 & 0 & 0\\\\\n\t Decimoquinto Circuito/ Baja California            & 0 & 0 & 0 & 0\\\\\n\t Decimosexto Circuito/ Guanajuato                  & 0 & 0 & 0 & 0\\\\\n\t Decimoséptimo Circuito/ Chihuahua                 & 0 & 0 & 0 & 0\\\\\n\t Decimoctavo Circuito/ Morelos                     & 0 & 0 & 0 & 0\\\\\n\t Decimonoveno Circuito/ Tamaulipas                 & 0 & 0 & 0 & 0\\\\\n\t Vigésimo Circuito/ Chiapas                        & 0 & 0 & 0 & 0\\\\\n\t Vigésimo Primer Circuito/ Guerrero                & 0 & 0 & 0 & 0\\\\\n\t Vigésimo Segundo Circuito/ Querétaro              & 0 & 0 & 0 & 0\\\\\n\t Vigésimo Tercer Circuito/ Zacatecas               & 0 & 0 & 0 & 0\\\\\n\t Vigésimo Cuarto Circuito/ Nayarit                 & 0 & 0 & 0 & 0\\\\\n\t Vigésimo Quinto Circuito/ Durango                 & 0 & 0 & 0 & 0\\\\\n\t Vigésimo Sexto Circuito/ Baja California Sur      & 0 & 0 & 0 & 0\\\\\n\t Vigésimo Séptimo Circuito/ Quintana Roo           & 0 & 0 & 0 & 0\\\\\n\t Vigésimo Octavo Circuito/ Tlaxcala                & 0 & 0 & 0 & 0\\\\\n\t Vigésimo Noveno Circuito/ Hidalgo                 & 0 & 0 & 0 & 0\\\\\n\t Trigésimo Circuito/ Aguascalientes                & 0 & 0 & 0 & 0\\\\\n\t Trigésimo Primer Circuito/ Campeche               & 0 & 0 & 0 & 0\\\\\n\t Trigésimo Segundo Circuito/ Colima                & 0 & 0 & 0 & 0\\\\\n\t Total                                             & 0 & 0 & 0 & 0\\\\\n\\end{tabular}\n",
            "text/markdown": "\nA tabyl: 33 × 5\n\n| circuito &lt;chr&gt; | existencia_inicial &lt;int&gt; | ingresos &lt;int&gt; | egresos &lt;int&gt; | Existencia_final &lt;int&gt; |\n|---|---|---|---|---|\n| Primer Circuito/ Ciudad de México                 | 0 | 0 | 0 | 0 |\n| Segundo Circuito/ México                          | 0 | 0 | 0 | 0 |\n| Tercer Circuito/ Jalisco                          | 0 | 0 | 0 | 0 |\n| Cuarto Circuito/ Nuevo León                       | 0 | 0 | 0 | 0 |\n| Quinto Circuito/ Sonora                           | 0 | 0 | 0 | 0 |\n| Sexto Circuito/ Puebla                            | 0 | 0 | 0 | 0 |\n| Séptimo Circuito/ Veracruz de Ignacio de la Llave | 0 | 0 | 0 | 0 |\n| Octavo Circuito/ Coahuila de Zaragoza             | 0 | 0 | 0 | 0 |\n| Noveno Circuito/ San Luis Potosí                  | 0 | 0 | 0 | 0 |\n| Décimo Circuito/ Tabasco-Veracruz                 | 0 | 0 | 0 | 0 |\n| Decimoprimer Circuito/ Michoacán de Ocampo        | 0 | 0 | 0 | 0 |\n| Decimosegundo Circuito/ Sinaloa                   | 0 | 0 | 0 | 0 |\n| Decimotercer Circuito/ Oaxaca                     | 0 | 0 | 0 | 0 |\n| Decimocuarto Circuito/ Yucatán                    | 0 | 0 | 0 | 0 |\n| Decimoquinto Circuito/ Baja California            | 0 | 0 | 0 | 0 |\n| Decimosexto Circuito/ Guanajuato                  | 0 | 0 | 0 | 0 |\n| Decimoséptimo Circuito/ Chihuahua                 | 0 | 0 | 0 | 0 |\n| Decimoctavo Circuito/ Morelos                     | 0 | 0 | 0 | 0 |\n| Decimonoveno Circuito/ Tamaulipas                 | 0 | 0 | 0 | 0 |\n| Vigésimo Circuito/ Chiapas                        | 0 | 0 | 0 | 0 |\n| Vigésimo Primer Circuito/ Guerrero                | 0 | 0 | 0 | 0 |\n| Vigésimo Segundo Circuito/ Querétaro              | 0 | 0 | 0 | 0 |\n| Vigésimo Tercer Circuito/ Zacatecas               | 0 | 0 | 0 | 0 |\n| Vigésimo Cuarto Circuito/ Nayarit                 | 0 | 0 | 0 | 0 |\n| Vigésimo Quinto Circuito/ Durango                 | 0 | 0 | 0 | 0 |\n| Vigésimo Sexto Circuito/ Baja California Sur      | 0 | 0 | 0 | 0 |\n| Vigésimo Séptimo Circuito/ Quintana Roo           | 0 | 0 | 0 | 0 |\n| Vigésimo Octavo Circuito/ Tlaxcala                | 0 | 0 | 0 | 0 |\n| Vigésimo Noveno Circuito/ Hidalgo                 | 0 | 0 | 0 | 0 |\n| Trigésimo Circuito/ Aguascalientes                | 0 | 0 | 0 | 0 |\n| Trigésimo Primer Circuito/ Campeche               | 0 | 0 | 0 | 0 |\n| Trigésimo Segundo Circuito/ Colima                | 0 | 0 | 0 | 0 |\n| Total                                             | 0 | 0 | 0 | 0 |\n\n",
            "text/html": [
              "<table class=\"dataframe\">\n",
              "<caption>A tabyl: 33 × 5</caption>\n",
              "<thead>\n",
              "\t<tr><th scope=col>circuito</th><th scope=col>existencia_inicial</th><th scope=col>ingresos</th><th scope=col>egresos</th><th scope=col>Existencia_final</th></tr>\n",
              "\t<tr><th scope=col>&lt;chr&gt;</th><th scope=col>&lt;int&gt;</th><th scope=col>&lt;int&gt;</th><th scope=col>&lt;int&gt;</th><th scope=col>&lt;int&gt;</th></tr>\n",
              "</thead>\n",
              "<tbody>\n",
              "\t<tr><td>Primer Circuito/ Ciudad de México                </td><td>0</td><td>0</td><td>0</td><td>0</td></tr>\n",
              "\t<tr><td>Segundo Circuito/ México                         </td><td>0</td><td>0</td><td>0</td><td>0</td></tr>\n",
              "\t<tr><td>Tercer Circuito/ Jalisco                         </td><td>0</td><td>0</td><td>0</td><td>0</td></tr>\n",
              "\t<tr><td>Cuarto Circuito/ Nuevo León                      </td><td>0</td><td>0</td><td>0</td><td>0</td></tr>\n",
              "\t<tr><td>Quinto Circuito/ Sonora                          </td><td>0</td><td>0</td><td>0</td><td>0</td></tr>\n",
              "\t<tr><td>Sexto Circuito/ Puebla                           </td><td>0</td><td>0</td><td>0</td><td>0</td></tr>\n",
              "\t<tr><td>Séptimo Circuito/ Veracruz de Ignacio de la Llave</td><td>0</td><td>0</td><td>0</td><td>0</td></tr>\n",
              "\t<tr><td>Octavo Circuito/ Coahuila de Zaragoza            </td><td>0</td><td>0</td><td>0</td><td>0</td></tr>\n",
              "\t<tr><td>Noveno Circuito/ San Luis Potosí                 </td><td>0</td><td>0</td><td>0</td><td>0</td></tr>\n",
              "\t<tr><td>Décimo Circuito/ Tabasco-Veracruz                </td><td>0</td><td>0</td><td>0</td><td>0</td></tr>\n",
              "\t<tr><td>Decimoprimer Circuito/ Michoacán de Ocampo       </td><td>0</td><td>0</td><td>0</td><td>0</td></tr>\n",
              "\t<tr><td>Decimosegundo Circuito/ Sinaloa                  </td><td>0</td><td>0</td><td>0</td><td>0</td></tr>\n",
              "\t<tr><td>Decimotercer Circuito/ Oaxaca                    </td><td>0</td><td>0</td><td>0</td><td>0</td></tr>\n",
              "\t<tr><td>Decimocuarto Circuito/ Yucatán                   </td><td>0</td><td>0</td><td>0</td><td>0</td></tr>\n",
              "\t<tr><td>Decimoquinto Circuito/ Baja California           </td><td>0</td><td>0</td><td>0</td><td>0</td></tr>\n",
              "\t<tr><td>Decimosexto Circuito/ Guanajuato                 </td><td>0</td><td>0</td><td>0</td><td>0</td></tr>\n",
              "\t<tr><td>Decimoséptimo Circuito/ Chihuahua                </td><td>0</td><td>0</td><td>0</td><td>0</td></tr>\n",
              "\t<tr><td>Decimoctavo Circuito/ Morelos                    </td><td>0</td><td>0</td><td>0</td><td>0</td></tr>\n",
              "\t<tr><td>Decimonoveno Circuito/ Tamaulipas                </td><td>0</td><td>0</td><td>0</td><td>0</td></tr>\n",
              "\t<tr><td>Vigésimo Circuito/ Chiapas                       </td><td>0</td><td>0</td><td>0</td><td>0</td></tr>\n",
              "\t<tr><td>Vigésimo Primer Circuito/ Guerrero               </td><td>0</td><td>0</td><td>0</td><td>0</td></tr>\n",
              "\t<tr><td>Vigésimo Segundo Circuito/ Querétaro             </td><td>0</td><td>0</td><td>0</td><td>0</td></tr>\n",
              "\t<tr><td>Vigésimo Tercer Circuito/ Zacatecas              </td><td>0</td><td>0</td><td>0</td><td>0</td></tr>\n",
              "\t<tr><td>Vigésimo Cuarto Circuito/ Nayarit                </td><td>0</td><td>0</td><td>0</td><td>0</td></tr>\n",
              "\t<tr><td>Vigésimo Quinto Circuito/ Durango                </td><td>0</td><td>0</td><td>0</td><td>0</td></tr>\n",
              "\t<tr><td>Vigésimo Sexto Circuito/ Baja California Sur     </td><td>0</td><td>0</td><td>0</td><td>0</td></tr>\n",
              "\t<tr><td>Vigésimo Séptimo Circuito/ Quintana Roo          </td><td>0</td><td>0</td><td>0</td><td>0</td></tr>\n",
              "\t<tr><td>Vigésimo Octavo Circuito/ Tlaxcala               </td><td>0</td><td>0</td><td>0</td><td>0</td></tr>\n",
              "\t<tr><td>Vigésimo Noveno Circuito/ Hidalgo                </td><td>0</td><td>0</td><td>0</td><td>0</td></tr>\n",
              "\t<tr><td>Trigésimo Circuito/ Aguascalientes               </td><td>0</td><td>0</td><td>0</td><td>0</td></tr>\n",
              "\t<tr><td>Trigésimo Primer Circuito/ Campeche              </td><td>0</td><td>0</td><td>0</td><td>0</td></tr>\n",
              "\t<tr><td>Trigésimo Segundo Circuito/ Colima               </td><td>0</td><td>0</td><td>0</td><td>0</td></tr>\n",
              "\t<tr><td>Total                                            </td><td>0</td><td>0</td><td>0</td><td>0</td></tr>\n",
              "</tbody>\n",
              "</table>\n"
            ]
          },
          "metadata": {
            "tags": []
          }
        }
      ]
    },
    {
      "cell_type": "code",
      "metadata": {
        "colab": {
          "base_uri": "https://localhost:8080/",
          "height": 1000
        },
        "id": "vbNe16q05nlD",
        "outputId": "f3a734ef-f7aa-4234-aab1-213c227291c0"
      },
      "source": [
        "#procesos federales penales en segunda instancia\n",
        "#Otro\n",
        "cubo %>%\n",
        "filter(tp_organo == \"Tribunales Unitarios de Circuito\") %>%\n",
        "filter(tp_asunto == \"procesos federales penales en segunda instancia\") %>%\n",
        "filter(tp_procedimiento == \"Otro\") %>%\n",
        "mutate(egresos = egresos + egresos_acuerdo) %>% # egresos + egresos por acuerdo?\n",
        "select(circuito,  existencia_inicial, ingresos, egresos, Existencia_final) %>%\n",
        "mutate(circuito = factor(circuito, levels = orden_circuitos)) %>%\n",
        "group_by(circuito) %>%\n",
        "summarise_all(list(sum))%>%\n",
        "filter(!is.na(existencia_inicial))  %>%\n",
        "adorn_totals()"
      ],
      "execution_count": null,
      "outputs": [
        {
          "output_type": "display_data",
          "data": {
            "text/plain": [
              "   circuito                                          existencia_inicial\n",
              "1  Primer Circuito/ Ciudad de México                 0                 \n",
              "2  Segundo Circuito/ México                          0                 \n",
              "3  Tercer Circuito/ Jalisco                          0                 \n",
              "4  Cuarto Circuito/ Nuevo León                       0                 \n",
              "5  Quinto Circuito/ Sonora                           0                 \n",
              "6  Sexto Circuito/ Puebla                            0                 \n",
              "7  Séptimo Circuito/ Veracruz de Ignacio de la Llave 0                 \n",
              "8  Octavo Circuito/ Coahuila de Zaragoza             8                 \n",
              "9  Noveno Circuito/ San Luis Potosí                  0                 \n",
              "10 Décimo Circuito/ Tabasco-Veracruz                 0                 \n",
              "11 Decimoprimer Circuito/ Michoacán de Ocampo        0                 \n",
              "12 Decimosegundo Circuito/ Sinaloa                   0                 \n",
              "13 Decimotercer Circuito/ Oaxaca                     0                 \n",
              "14 Decimocuarto Circuito/ Yucatán                    0                 \n",
              "15 Decimoquinto Circuito/ Baja California            0                 \n",
              "16 Decimosexto Circuito/ Guanajuato                  0                 \n",
              "17 Decimoséptimo Circuito/ Chihuahua                 0                 \n",
              "18 Decimoctavo Circuito/ Morelos                     0                 \n",
              "19 Decimonoveno Circuito/ Tamaulipas                 0                 \n",
              "20 Vigésimo Circuito/ Chiapas                        0                 \n",
              "21 Vigésimo Primer Circuito/ Guerrero                0                 \n",
              "22 Vigésimo Segundo Circuito/ Querétaro              0                 \n",
              "23 Vigésimo Tercer Circuito/ Zacatecas               0                 \n",
              "24 Vigésimo Cuarto Circuito/ Nayarit                 0                 \n",
              "25 Vigésimo Quinto Circuito/ Durango                 0                 \n",
              "26 Vigésimo Sexto Circuito/ Baja California Sur      0                 \n",
              "27 Vigésimo Séptimo Circuito/ Quintana Roo           0                 \n",
              "28 Vigésimo Octavo Circuito/ Tlaxcala                0                 \n",
              "29 Vigésimo Noveno Circuito/ Hidalgo                 0                 \n",
              "30 Trigésimo Circuito/ Aguascalientes                0                 \n",
              "31 Trigésimo Primer Circuito/ Campeche               0                 \n",
              "32 Trigésimo Segundo Circuito/ Colima                0                 \n",
              "33 Total                                             8                 \n",
              "   ingresos egresos Existencia_final\n",
              "1   0        0       0              \n",
              "2   0        0       0              \n",
              "3   0        0       0              \n",
              "4   0        0       0              \n",
              "5   0        0       0              \n",
              "6   0        0       0              \n",
              "7   0        0       0              \n",
              "8  67       62      13              \n",
              "9   0        0       0              \n",
              "10  0        0       0              \n",
              "11  0        0       0              \n",
              "12  0        0       0              \n",
              "13  0        0       0              \n",
              "14  0        0       0              \n",
              "15  0        0       0              \n",
              "16  0        0       0              \n",
              "17  0        0       0              \n",
              "18  0        0       0              \n",
              "19  0        0       0              \n",
              "20  0        0       0              \n",
              "21  0        0       0              \n",
              "22  0        0       0              \n",
              "23  0        0       0              \n",
              "24  0        0       0              \n",
              "25  0        0       0              \n",
              "26  0        0       0              \n",
              "27  0        0       0              \n",
              "28  0        0       0              \n",
              "29  0        0       0              \n",
              "30  0        0       0              \n",
              "31  0        0       0              \n",
              "32  0        0       0              \n",
              "33 67       62      13              "
            ],
            "text/latex": "A tabyl: 33 × 5\n\\begin{tabular}{lllll}\n circuito & existencia\\_inicial & ingresos & egresos & Existencia\\_final\\\\\n <chr> & <int> & <int> & <int> & <int>\\\\\n\\hline\n\t Primer Circuito/ Ciudad de México                 & 0 &  0 &  0 &  0\\\\\n\t Segundo Circuito/ México                          & 0 &  0 &  0 &  0\\\\\n\t Tercer Circuito/ Jalisco                          & 0 &  0 &  0 &  0\\\\\n\t Cuarto Circuito/ Nuevo León                       & 0 &  0 &  0 &  0\\\\\n\t Quinto Circuito/ Sonora                           & 0 &  0 &  0 &  0\\\\\n\t Sexto Circuito/ Puebla                            & 0 &  0 &  0 &  0\\\\\n\t Séptimo Circuito/ Veracruz de Ignacio de la Llave & 0 &  0 &  0 &  0\\\\\n\t Octavo Circuito/ Coahuila de Zaragoza             & 8 & 67 & 62 & 13\\\\\n\t Noveno Circuito/ San Luis Potosí                  & 0 &  0 &  0 &  0\\\\\n\t Décimo Circuito/ Tabasco-Veracruz                 & 0 &  0 &  0 &  0\\\\\n\t Decimoprimer Circuito/ Michoacán de Ocampo        & 0 &  0 &  0 &  0\\\\\n\t Decimosegundo Circuito/ Sinaloa                   & 0 &  0 &  0 &  0\\\\\n\t Decimotercer Circuito/ Oaxaca                     & 0 &  0 &  0 &  0\\\\\n\t Decimocuarto Circuito/ Yucatán                    & 0 &  0 &  0 &  0\\\\\n\t Decimoquinto Circuito/ Baja California            & 0 &  0 &  0 &  0\\\\\n\t Decimosexto Circuito/ Guanajuato                  & 0 &  0 &  0 &  0\\\\\n\t Decimoséptimo Circuito/ Chihuahua                 & 0 &  0 &  0 &  0\\\\\n\t Decimoctavo Circuito/ Morelos                     & 0 &  0 &  0 &  0\\\\\n\t Decimonoveno Circuito/ Tamaulipas                 & 0 &  0 &  0 &  0\\\\\n\t Vigésimo Circuito/ Chiapas                        & 0 &  0 &  0 &  0\\\\\n\t Vigésimo Primer Circuito/ Guerrero                & 0 &  0 &  0 &  0\\\\\n\t Vigésimo Segundo Circuito/ Querétaro              & 0 &  0 &  0 &  0\\\\\n\t Vigésimo Tercer Circuito/ Zacatecas               & 0 &  0 &  0 &  0\\\\\n\t Vigésimo Cuarto Circuito/ Nayarit                 & 0 &  0 &  0 &  0\\\\\n\t Vigésimo Quinto Circuito/ Durango                 & 0 &  0 &  0 &  0\\\\\n\t Vigésimo Sexto Circuito/ Baja California Sur      & 0 &  0 &  0 &  0\\\\\n\t Vigésimo Séptimo Circuito/ Quintana Roo           & 0 &  0 &  0 &  0\\\\\n\t Vigésimo Octavo Circuito/ Tlaxcala                & 0 &  0 &  0 &  0\\\\\n\t Vigésimo Noveno Circuito/ Hidalgo                 & 0 &  0 &  0 &  0\\\\\n\t Trigésimo Circuito/ Aguascalientes                & 0 &  0 &  0 &  0\\\\\n\t Trigésimo Primer Circuito/ Campeche               & 0 &  0 &  0 &  0\\\\\n\t Trigésimo Segundo Circuito/ Colima                & 0 &  0 &  0 &  0\\\\\n\t Total                                             & 8 & 67 & 62 & 13\\\\\n\\end{tabular}\n",
            "text/markdown": "\nA tabyl: 33 × 5\n\n| circuito &lt;chr&gt; | existencia_inicial &lt;int&gt; | ingresos &lt;int&gt; | egresos &lt;int&gt; | Existencia_final &lt;int&gt; |\n|---|---|---|---|---|\n| Primer Circuito/ Ciudad de México                 | 0 |  0 |  0 |  0 |\n| Segundo Circuito/ México                          | 0 |  0 |  0 |  0 |\n| Tercer Circuito/ Jalisco                          | 0 |  0 |  0 |  0 |\n| Cuarto Circuito/ Nuevo León                       | 0 |  0 |  0 |  0 |\n| Quinto Circuito/ Sonora                           | 0 |  0 |  0 |  0 |\n| Sexto Circuito/ Puebla                            | 0 |  0 |  0 |  0 |\n| Séptimo Circuito/ Veracruz de Ignacio de la Llave | 0 |  0 |  0 |  0 |\n| Octavo Circuito/ Coahuila de Zaragoza             | 8 | 67 | 62 | 13 |\n| Noveno Circuito/ San Luis Potosí                  | 0 |  0 |  0 |  0 |\n| Décimo Circuito/ Tabasco-Veracruz                 | 0 |  0 |  0 |  0 |\n| Decimoprimer Circuito/ Michoacán de Ocampo        | 0 |  0 |  0 |  0 |\n| Decimosegundo Circuito/ Sinaloa                   | 0 |  0 |  0 |  0 |\n| Decimotercer Circuito/ Oaxaca                     | 0 |  0 |  0 |  0 |\n| Decimocuarto Circuito/ Yucatán                    | 0 |  0 |  0 |  0 |\n| Decimoquinto Circuito/ Baja California            | 0 |  0 |  0 |  0 |\n| Decimosexto Circuito/ Guanajuato                  | 0 |  0 |  0 |  0 |\n| Decimoséptimo Circuito/ Chihuahua                 | 0 |  0 |  0 |  0 |\n| Decimoctavo Circuito/ Morelos                     | 0 |  0 |  0 |  0 |\n| Decimonoveno Circuito/ Tamaulipas                 | 0 |  0 |  0 |  0 |\n| Vigésimo Circuito/ Chiapas                        | 0 |  0 |  0 |  0 |\n| Vigésimo Primer Circuito/ Guerrero                | 0 |  0 |  0 |  0 |\n| Vigésimo Segundo Circuito/ Querétaro              | 0 |  0 |  0 |  0 |\n| Vigésimo Tercer Circuito/ Zacatecas               | 0 |  0 |  0 |  0 |\n| Vigésimo Cuarto Circuito/ Nayarit                 | 0 |  0 |  0 |  0 |\n| Vigésimo Quinto Circuito/ Durango                 | 0 |  0 |  0 |  0 |\n| Vigésimo Sexto Circuito/ Baja California Sur      | 0 |  0 |  0 |  0 |\n| Vigésimo Séptimo Circuito/ Quintana Roo           | 0 |  0 |  0 |  0 |\n| Vigésimo Octavo Circuito/ Tlaxcala                | 0 |  0 |  0 |  0 |\n| Vigésimo Noveno Circuito/ Hidalgo                 | 0 |  0 |  0 |  0 |\n| Trigésimo Circuito/ Aguascalientes                | 0 |  0 |  0 |  0 |\n| Trigésimo Primer Circuito/ Campeche               | 0 |  0 |  0 |  0 |\n| Trigésimo Segundo Circuito/ Colima                | 0 |  0 |  0 |  0 |\n| Total                                             | 8 | 67 | 62 | 13 |\n\n",
            "text/html": [
              "<table class=\"dataframe\">\n",
              "<caption>A tabyl: 33 × 5</caption>\n",
              "<thead>\n",
              "\t<tr><th scope=col>circuito</th><th scope=col>existencia_inicial</th><th scope=col>ingresos</th><th scope=col>egresos</th><th scope=col>Existencia_final</th></tr>\n",
              "\t<tr><th scope=col>&lt;chr&gt;</th><th scope=col>&lt;int&gt;</th><th scope=col>&lt;int&gt;</th><th scope=col>&lt;int&gt;</th><th scope=col>&lt;int&gt;</th></tr>\n",
              "</thead>\n",
              "<tbody>\n",
              "\t<tr><td>Primer Circuito/ Ciudad de México                </td><td>0</td><td> 0</td><td> 0</td><td> 0</td></tr>\n",
              "\t<tr><td>Segundo Circuito/ México                         </td><td>0</td><td> 0</td><td> 0</td><td> 0</td></tr>\n",
              "\t<tr><td>Tercer Circuito/ Jalisco                         </td><td>0</td><td> 0</td><td> 0</td><td> 0</td></tr>\n",
              "\t<tr><td>Cuarto Circuito/ Nuevo León                      </td><td>0</td><td> 0</td><td> 0</td><td> 0</td></tr>\n",
              "\t<tr><td>Quinto Circuito/ Sonora                          </td><td>0</td><td> 0</td><td> 0</td><td> 0</td></tr>\n",
              "\t<tr><td>Sexto Circuito/ Puebla                           </td><td>0</td><td> 0</td><td> 0</td><td> 0</td></tr>\n",
              "\t<tr><td>Séptimo Circuito/ Veracruz de Ignacio de la Llave</td><td>0</td><td> 0</td><td> 0</td><td> 0</td></tr>\n",
              "\t<tr><td>Octavo Circuito/ Coahuila de Zaragoza            </td><td>8</td><td>67</td><td>62</td><td>13</td></tr>\n",
              "\t<tr><td>Noveno Circuito/ San Luis Potosí                 </td><td>0</td><td> 0</td><td> 0</td><td> 0</td></tr>\n",
              "\t<tr><td>Décimo Circuito/ Tabasco-Veracruz                </td><td>0</td><td> 0</td><td> 0</td><td> 0</td></tr>\n",
              "\t<tr><td>Decimoprimer Circuito/ Michoacán de Ocampo       </td><td>0</td><td> 0</td><td> 0</td><td> 0</td></tr>\n",
              "\t<tr><td>Decimosegundo Circuito/ Sinaloa                  </td><td>0</td><td> 0</td><td> 0</td><td> 0</td></tr>\n",
              "\t<tr><td>Decimotercer Circuito/ Oaxaca                    </td><td>0</td><td> 0</td><td> 0</td><td> 0</td></tr>\n",
              "\t<tr><td>Decimocuarto Circuito/ Yucatán                   </td><td>0</td><td> 0</td><td> 0</td><td> 0</td></tr>\n",
              "\t<tr><td>Decimoquinto Circuito/ Baja California           </td><td>0</td><td> 0</td><td> 0</td><td> 0</td></tr>\n",
              "\t<tr><td>Decimosexto Circuito/ Guanajuato                 </td><td>0</td><td> 0</td><td> 0</td><td> 0</td></tr>\n",
              "\t<tr><td>Decimoséptimo Circuito/ Chihuahua                </td><td>0</td><td> 0</td><td> 0</td><td> 0</td></tr>\n",
              "\t<tr><td>Decimoctavo Circuito/ Morelos                    </td><td>0</td><td> 0</td><td> 0</td><td> 0</td></tr>\n",
              "\t<tr><td>Decimonoveno Circuito/ Tamaulipas                </td><td>0</td><td> 0</td><td> 0</td><td> 0</td></tr>\n",
              "\t<tr><td>Vigésimo Circuito/ Chiapas                       </td><td>0</td><td> 0</td><td> 0</td><td> 0</td></tr>\n",
              "\t<tr><td>Vigésimo Primer Circuito/ Guerrero               </td><td>0</td><td> 0</td><td> 0</td><td> 0</td></tr>\n",
              "\t<tr><td>Vigésimo Segundo Circuito/ Querétaro             </td><td>0</td><td> 0</td><td> 0</td><td> 0</td></tr>\n",
              "\t<tr><td>Vigésimo Tercer Circuito/ Zacatecas              </td><td>0</td><td> 0</td><td> 0</td><td> 0</td></tr>\n",
              "\t<tr><td>Vigésimo Cuarto Circuito/ Nayarit                </td><td>0</td><td> 0</td><td> 0</td><td> 0</td></tr>\n",
              "\t<tr><td>Vigésimo Quinto Circuito/ Durango                </td><td>0</td><td> 0</td><td> 0</td><td> 0</td></tr>\n",
              "\t<tr><td>Vigésimo Sexto Circuito/ Baja California Sur     </td><td>0</td><td> 0</td><td> 0</td><td> 0</td></tr>\n",
              "\t<tr><td>Vigésimo Séptimo Circuito/ Quintana Roo          </td><td>0</td><td> 0</td><td> 0</td><td> 0</td></tr>\n",
              "\t<tr><td>Vigésimo Octavo Circuito/ Tlaxcala               </td><td>0</td><td> 0</td><td> 0</td><td> 0</td></tr>\n",
              "\t<tr><td>Vigésimo Noveno Circuito/ Hidalgo                </td><td>0</td><td> 0</td><td> 0</td><td> 0</td></tr>\n",
              "\t<tr><td>Trigésimo Circuito/ Aguascalientes               </td><td>0</td><td> 0</td><td> 0</td><td> 0</td></tr>\n",
              "\t<tr><td>Trigésimo Primer Circuito/ Campeche              </td><td>0</td><td> 0</td><td> 0</td><td> 0</td></tr>\n",
              "\t<tr><td>Trigésimo Segundo Circuito/ Colima               </td><td>0</td><td> 0</td><td> 0</td><td> 0</td></tr>\n",
              "\t<tr><td>Total                                            </td><td>8</td><td>67</td><td>62</td><td>13</td></tr>\n",
              "</tbody>\n",
              "</table>\n"
            ]
          },
          "metadata": {
            "tags": []
          }
        }
      ]
    },
    {
      "cell_type": "code",
      "metadata": {
        "id": "E5jEDyoc4RqO"
      },
      "source": [
        ""
      ],
      "execution_count": null,
      "outputs": []
    },
    {
      "cell_type": "code",
      "metadata": {
        "colab": {
          "base_uri": "https://localhost:8080/",
          "height": 1000
        },
        "id": "C6PXARFZj_I1",
        "outputId": "8c9f4540-d1c8-45ea-84b5-1afd696b8e78"
      },
      "source": [
        "#procesos federales administrativos y civiles en segunda instancia\n",
        "\n",
        "cubo %>%\n",
        "filter(tp_organo == \"Tribunales Unitarios de Circuito\") %>%\n",
        "filter(tp_asunto == \"procesos federales administrativos y civiles en segunda instancia\") %>%\n",
        "mutate(egresos = egresos + egresos_acuerdo) %>% # egresos + egresos por acuerdo?\n",
        "select(circuito,  existencia_inicial, ingresos, egresos, Existencia_final) %>%\n",
        "mutate(circuito = factor(circuito, levels = orden_circuitos)) %>%\n",
        "group_by(circuito) %>%\n",
        "summarise_all(list(sum))%>%\n",
        "filter(!is.na(existencia_inicial))  %>%\n",
        "adorn_totals()"
      ],
      "execution_count": null,
      "outputs": [
        {
          "output_type": "display_data",
          "data": {
            "text/plain": [
              "   circuito                                          existencia_inicial\n",
              "1  Primer Circuito/ Ciudad de México                  785              \n",
              "2  Segundo Circuito/ México                            21              \n",
              "3  Tercer Circuito/ Jalisco                            27              \n",
              "4  Cuarto Circuito/ Nuevo León                         13              \n",
              "5  Quinto Circuito/ Sonora                              5              \n",
              "6  Sexto Circuito/ Puebla                              81              \n",
              "7  Séptimo Circuito/ Veracruz de Ignacio de la Llave   35              \n",
              "8  Octavo Circuito/ Coahuila de Zaragoza               25              \n",
              "9  Noveno Circuito/ San Luis Potosí                    18              \n",
              "10 Décimo Circuito/ Tabasco-Veracruz                   28              \n",
              "11 Decimoprimer Circuito/ Michoacán de Ocampo          15              \n",
              "12 Decimosegundo Circuito/ Sinaloa                     19              \n",
              "13 Decimotercer Circuito/ Oaxaca                        9              \n",
              "14 Decimocuarto Circuito/ Yucatán                       7              \n",
              "15 Decimoquinto Circuito/ Baja California              12              \n",
              "16 Decimosexto Circuito/ Guanajuato                    19              \n",
              "17 Decimoséptimo Circuito/ Chihuahua                   12              \n",
              "18 Decimoctavo Circuito/ Morelos                        9              \n",
              "19 Decimonoveno Circuito/ Tamaulipas                   14              \n",
              "20 Vigésimo Circuito/ Chiapas                           6              \n",
              "21 Vigésimo Primer Circuito/ Guerrero                  22              \n",
              "22 Vigésimo Segundo Circuito/ Querétaro                 3              \n",
              "23 Vigésimo Tercer Circuito/ Zacatecas                  1              \n",
              "24 Vigésimo Cuarto Circuito/ Nayarit                    1              \n",
              "25 Vigésimo Quinto Circuito/ Durango                    2              \n",
              "26 Vigésimo Sexto Circuito/ Baja California Sur         5              \n",
              "27 Vigésimo Séptimo Circuito/ Quintana Roo             19              \n",
              "28 Vigésimo Octavo Circuito/ Tlaxcala                   0              \n",
              "29 Vigésimo Noveno Circuito/ Hidalgo                    9              \n",
              "30 Trigésimo Circuito/ Aguascalientes                   1              \n",
              "31 Trigésimo Primer Circuito/ Campeche                  8              \n",
              "32 Trigésimo Segundo Circuito/ Colima                   5              \n",
              "33 Total                                             1236              \n",
              "   ingresos egresos Existencia_final\n",
              "1  1387     1767    405             \n",
              "2   141      144     18             \n",
              "3   140      132     35             \n",
              "4    68       70     11             \n",
              "5    52       48      9             \n",
              "6   168      188     61             \n",
              "7   115      129     21             \n",
              "8    75       89     11             \n",
              "9    61       69     10             \n",
              "10   81       91     18             \n",
              "11   56       59     12             \n",
              "12   54       60     13             \n",
              "13   39       39      9             \n",
              "14   71       76      2             \n",
              "15   70       69     13             \n",
              "16   39       55      3             \n",
              "17   34       39      7             \n",
              "18   53       56      6             \n",
              "19   29       35      8             \n",
              "20   42       45      3             \n",
              "21   86       97     11             \n",
              "22   26       26      3             \n",
              "23    2        2      1             \n",
              "24   15       11      5             \n",
              "25    8        8      2             \n",
              "26   20       19      6             \n",
              "27   87      100      6             \n",
              "28   15       11      4             \n",
              "29   21       25      5             \n",
              "30    7        8      0             \n",
              "31   29       37      0             \n",
              "32   12       16      1             \n",
              "33 3103     3620    719             "
            ],
            "text/latex": "A tabyl: 33 × 5\n\\begin{tabular}{lllll}\n circuito & existencia\\_inicial & ingresos & egresos & Existencia\\_final\\\\\n <chr> & <int> & <int> & <int> & <int>\\\\\n\\hline\n\t Primer Circuito/ Ciudad de México                 &  785 & 1387 & 1767 & 405\\\\\n\t Segundo Circuito/ México                          &   21 &  141 &  144 &  18\\\\\n\t Tercer Circuito/ Jalisco                          &   27 &  140 &  132 &  35\\\\\n\t Cuarto Circuito/ Nuevo León                       &   13 &   68 &   70 &  11\\\\\n\t Quinto Circuito/ Sonora                           &    5 &   52 &   48 &   9\\\\\n\t Sexto Circuito/ Puebla                            &   81 &  168 &  188 &  61\\\\\n\t Séptimo Circuito/ Veracruz de Ignacio de la Llave &   35 &  115 &  129 &  21\\\\\n\t Octavo Circuito/ Coahuila de Zaragoza             &   25 &   75 &   89 &  11\\\\\n\t Noveno Circuito/ San Luis Potosí                  &   18 &   61 &   69 &  10\\\\\n\t Décimo Circuito/ Tabasco-Veracruz                 &   28 &   81 &   91 &  18\\\\\n\t Decimoprimer Circuito/ Michoacán de Ocampo        &   15 &   56 &   59 &  12\\\\\n\t Decimosegundo Circuito/ Sinaloa                   &   19 &   54 &   60 &  13\\\\\n\t Decimotercer Circuito/ Oaxaca                     &    9 &   39 &   39 &   9\\\\\n\t Decimocuarto Circuito/ Yucatán                    &    7 &   71 &   76 &   2\\\\\n\t Decimoquinto Circuito/ Baja California            &   12 &   70 &   69 &  13\\\\\n\t Decimosexto Circuito/ Guanajuato                  &   19 &   39 &   55 &   3\\\\\n\t Decimoséptimo Circuito/ Chihuahua                 &   12 &   34 &   39 &   7\\\\\n\t Decimoctavo Circuito/ Morelos                     &    9 &   53 &   56 &   6\\\\\n\t Decimonoveno Circuito/ Tamaulipas                 &   14 &   29 &   35 &   8\\\\\n\t Vigésimo Circuito/ Chiapas                        &    6 &   42 &   45 &   3\\\\\n\t Vigésimo Primer Circuito/ Guerrero                &   22 &   86 &   97 &  11\\\\\n\t Vigésimo Segundo Circuito/ Querétaro              &    3 &   26 &   26 &   3\\\\\n\t Vigésimo Tercer Circuito/ Zacatecas               &    1 &    2 &    2 &   1\\\\\n\t Vigésimo Cuarto Circuito/ Nayarit                 &    1 &   15 &   11 &   5\\\\\n\t Vigésimo Quinto Circuito/ Durango                 &    2 &    8 &    8 &   2\\\\\n\t Vigésimo Sexto Circuito/ Baja California Sur      &    5 &   20 &   19 &   6\\\\\n\t Vigésimo Séptimo Circuito/ Quintana Roo           &   19 &   87 &  100 &   6\\\\\n\t Vigésimo Octavo Circuito/ Tlaxcala                &    0 &   15 &   11 &   4\\\\\n\t Vigésimo Noveno Circuito/ Hidalgo                 &    9 &   21 &   25 &   5\\\\\n\t Trigésimo Circuito/ Aguascalientes                &    1 &    7 &    8 &   0\\\\\n\t Trigésimo Primer Circuito/ Campeche               &    8 &   29 &   37 &   0\\\\\n\t Trigésimo Segundo Circuito/ Colima                &    5 &   12 &   16 &   1\\\\\n\t Total                                             & 1236 & 3103 & 3620 & 719\\\\\n\\end{tabular}\n",
            "text/markdown": "\nA tabyl: 33 × 5\n\n| circuito &lt;chr&gt; | existencia_inicial &lt;int&gt; | ingresos &lt;int&gt; | egresos &lt;int&gt; | Existencia_final &lt;int&gt; |\n|---|---|---|---|---|\n| Primer Circuito/ Ciudad de México                 |  785 | 1387 | 1767 | 405 |\n| Segundo Circuito/ México                          |   21 |  141 |  144 |  18 |\n| Tercer Circuito/ Jalisco                          |   27 |  140 |  132 |  35 |\n| Cuarto Circuito/ Nuevo León                       |   13 |   68 |   70 |  11 |\n| Quinto Circuito/ Sonora                           |    5 |   52 |   48 |   9 |\n| Sexto Circuito/ Puebla                            |   81 |  168 |  188 |  61 |\n| Séptimo Circuito/ Veracruz de Ignacio de la Llave |   35 |  115 |  129 |  21 |\n| Octavo Circuito/ Coahuila de Zaragoza             |   25 |   75 |   89 |  11 |\n| Noveno Circuito/ San Luis Potosí                  |   18 |   61 |   69 |  10 |\n| Décimo Circuito/ Tabasco-Veracruz                 |   28 |   81 |   91 |  18 |\n| Decimoprimer Circuito/ Michoacán de Ocampo        |   15 |   56 |   59 |  12 |\n| Decimosegundo Circuito/ Sinaloa                   |   19 |   54 |   60 |  13 |\n| Decimotercer Circuito/ Oaxaca                     |    9 |   39 |   39 |   9 |\n| Decimocuarto Circuito/ Yucatán                    |    7 |   71 |   76 |   2 |\n| Decimoquinto Circuito/ Baja California            |   12 |   70 |   69 |  13 |\n| Decimosexto Circuito/ Guanajuato                  |   19 |   39 |   55 |   3 |\n| Decimoséptimo Circuito/ Chihuahua                 |   12 |   34 |   39 |   7 |\n| Decimoctavo Circuito/ Morelos                     |    9 |   53 |   56 |   6 |\n| Decimonoveno Circuito/ Tamaulipas                 |   14 |   29 |   35 |   8 |\n| Vigésimo Circuito/ Chiapas                        |    6 |   42 |   45 |   3 |\n| Vigésimo Primer Circuito/ Guerrero                |   22 |   86 |   97 |  11 |\n| Vigésimo Segundo Circuito/ Querétaro              |    3 |   26 |   26 |   3 |\n| Vigésimo Tercer Circuito/ Zacatecas               |    1 |    2 |    2 |   1 |\n| Vigésimo Cuarto Circuito/ Nayarit                 |    1 |   15 |   11 |   5 |\n| Vigésimo Quinto Circuito/ Durango                 |    2 |    8 |    8 |   2 |\n| Vigésimo Sexto Circuito/ Baja California Sur      |    5 |   20 |   19 |   6 |\n| Vigésimo Séptimo Circuito/ Quintana Roo           |   19 |   87 |  100 |   6 |\n| Vigésimo Octavo Circuito/ Tlaxcala                |    0 |   15 |   11 |   4 |\n| Vigésimo Noveno Circuito/ Hidalgo                 |    9 |   21 |   25 |   5 |\n| Trigésimo Circuito/ Aguascalientes                |    1 |    7 |    8 |   0 |\n| Trigésimo Primer Circuito/ Campeche               |    8 |   29 |   37 |   0 |\n| Trigésimo Segundo Circuito/ Colima                |    5 |   12 |   16 |   1 |\n| Total                                             | 1236 | 3103 | 3620 | 719 |\n\n",
            "text/html": [
              "<table class=\"dataframe\">\n",
              "<caption>A tabyl: 33 × 5</caption>\n",
              "<thead>\n",
              "\t<tr><th scope=col>circuito</th><th scope=col>existencia_inicial</th><th scope=col>ingresos</th><th scope=col>egresos</th><th scope=col>Existencia_final</th></tr>\n",
              "\t<tr><th scope=col>&lt;chr&gt;</th><th scope=col>&lt;int&gt;</th><th scope=col>&lt;int&gt;</th><th scope=col>&lt;int&gt;</th><th scope=col>&lt;int&gt;</th></tr>\n",
              "</thead>\n",
              "<tbody>\n",
              "\t<tr><td>Primer Circuito/ Ciudad de México                </td><td> 785</td><td>1387</td><td>1767</td><td>405</td></tr>\n",
              "\t<tr><td>Segundo Circuito/ México                         </td><td>  21</td><td> 141</td><td> 144</td><td> 18</td></tr>\n",
              "\t<tr><td>Tercer Circuito/ Jalisco                         </td><td>  27</td><td> 140</td><td> 132</td><td> 35</td></tr>\n",
              "\t<tr><td>Cuarto Circuito/ Nuevo León                      </td><td>  13</td><td>  68</td><td>  70</td><td> 11</td></tr>\n",
              "\t<tr><td>Quinto Circuito/ Sonora                          </td><td>   5</td><td>  52</td><td>  48</td><td>  9</td></tr>\n",
              "\t<tr><td>Sexto Circuito/ Puebla                           </td><td>  81</td><td> 168</td><td> 188</td><td> 61</td></tr>\n",
              "\t<tr><td>Séptimo Circuito/ Veracruz de Ignacio de la Llave</td><td>  35</td><td> 115</td><td> 129</td><td> 21</td></tr>\n",
              "\t<tr><td>Octavo Circuito/ Coahuila de Zaragoza            </td><td>  25</td><td>  75</td><td>  89</td><td> 11</td></tr>\n",
              "\t<tr><td>Noveno Circuito/ San Luis Potosí                 </td><td>  18</td><td>  61</td><td>  69</td><td> 10</td></tr>\n",
              "\t<tr><td>Décimo Circuito/ Tabasco-Veracruz                </td><td>  28</td><td>  81</td><td>  91</td><td> 18</td></tr>\n",
              "\t<tr><td>Decimoprimer Circuito/ Michoacán de Ocampo       </td><td>  15</td><td>  56</td><td>  59</td><td> 12</td></tr>\n",
              "\t<tr><td>Decimosegundo Circuito/ Sinaloa                  </td><td>  19</td><td>  54</td><td>  60</td><td> 13</td></tr>\n",
              "\t<tr><td>Decimotercer Circuito/ Oaxaca                    </td><td>   9</td><td>  39</td><td>  39</td><td>  9</td></tr>\n",
              "\t<tr><td>Decimocuarto Circuito/ Yucatán                   </td><td>   7</td><td>  71</td><td>  76</td><td>  2</td></tr>\n",
              "\t<tr><td>Decimoquinto Circuito/ Baja California           </td><td>  12</td><td>  70</td><td>  69</td><td> 13</td></tr>\n",
              "\t<tr><td>Decimosexto Circuito/ Guanajuato                 </td><td>  19</td><td>  39</td><td>  55</td><td>  3</td></tr>\n",
              "\t<tr><td>Decimoséptimo Circuito/ Chihuahua                </td><td>  12</td><td>  34</td><td>  39</td><td>  7</td></tr>\n",
              "\t<tr><td>Decimoctavo Circuito/ Morelos                    </td><td>   9</td><td>  53</td><td>  56</td><td>  6</td></tr>\n",
              "\t<tr><td>Decimonoveno Circuito/ Tamaulipas                </td><td>  14</td><td>  29</td><td>  35</td><td>  8</td></tr>\n",
              "\t<tr><td>Vigésimo Circuito/ Chiapas                       </td><td>   6</td><td>  42</td><td>  45</td><td>  3</td></tr>\n",
              "\t<tr><td>Vigésimo Primer Circuito/ Guerrero               </td><td>  22</td><td>  86</td><td>  97</td><td> 11</td></tr>\n",
              "\t<tr><td>Vigésimo Segundo Circuito/ Querétaro             </td><td>   3</td><td>  26</td><td>  26</td><td>  3</td></tr>\n",
              "\t<tr><td>Vigésimo Tercer Circuito/ Zacatecas              </td><td>   1</td><td>   2</td><td>   2</td><td>  1</td></tr>\n",
              "\t<tr><td>Vigésimo Cuarto Circuito/ Nayarit                </td><td>   1</td><td>  15</td><td>  11</td><td>  5</td></tr>\n",
              "\t<tr><td>Vigésimo Quinto Circuito/ Durango                </td><td>   2</td><td>   8</td><td>   8</td><td>  2</td></tr>\n",
              "\t<tr><td>Vigésimo Sexto Circuito/ Baja California Sur     </td><td>   5</td><td>  20</td><td>  19</td><td>  6</td></tr>\n",
              "\t<tr><td>Vigésimo Séptimo Circuito/ Quintana Roo          </td><td>  19</td><td>  87</td><td> 100</td><td>  6</td></tr>\n",
              "\t<tr><td>Vigésimo Octavo Circuito/ Tlaxcala               </td><td>   0</td><td>  15</td><td>  11</td><td>  4</td></tr>\n",
              "\t<tr><td>Vigésimo Noveno Circuito/ Hidalgo                </td><td>   9</td><td>  21</td><td>  25</td><td>  5</td></tr>\n",
              "\t<tr><td>Trigésimo Circuito/ Aguascalientes               </td><td>   1</td><td>   7</td><td>   8</td><td>  0</td></tr>\n",
              "\t<tr><td>Trigésimo Primer Circuito/ Campeche              </td><td>   8</td><td>  29</td><td>  37</td><td>  0</td></tr>\n",
              "\t<tr><td>Trigésimo Segundo Circuito/ Colima               </td><td>   5</td><td>  12</td><td>  16</td><td>  1</td></tr>\n",
              "\t<tr><td>Total                                            </td><td>1236</td><td>3103</td><td>3620</td><td>719</td></tr>\n",
              "</tbody>\n",
              "</table>\n"
            ]
          },
          "metadata": {
            "tags": []
          }
        }
      ]
    },
    {
      "cell_type": "code",
      "metadata": {
        "colab": {
          "base_uri": "https://localhost:8080/",
          "height": 1000
        },
        "id": "ta8a90RalI04",
        "outputId": "5011e738-f8ce-472c-d703-5532593ccb95"
      },
      "source": [
        "#procesos federales administrativos y civiles en segunda instancia\n",
        "#Apelación\n",
        "\n",
        "cubo %>%\n",
        "filter(tp_organo == \"Tribunales Unitarios de Circuito\") %>%\n",
        "filter(tp_asunto == \"procesos federales administrativos y civiles en segunda instancia\") %>%\n",
        "filter(tp_procedimiento == \"Apelación\") %>%\n",
        "mutate(egresos = egresos + egresos_acuerdo) %>% # egresos + egresos por acuerdo?\n",
        "select(circuito,  existencia_inicial, ingresos, egresos, Existencia_final) %>%\n",
        "mutate(circuito = factor(circuito, levels = orden_circuitos)) %>%\n",
        "group_by(circuito) %>%\n",
        "summarise_all(list(sum))%>%\n",
        "filter(!is.na(existencia_inicial))  %>%\n",
        "adorn_totals()"
      ],
      "execution_count": null,
      "outputs": [
        {
          "output_type": "display_data",
          "data": {
            "text/plain": [
              "   circuito                                          existencia_inicial\n",
              "1  Primer Circuito/ Ciudad de México                  768              \n",
              "2  Segundo Circuito/ México                            19              \n",
              "3  Tercer Circuito/ Jalisco                            25              \n",
              "4  Cuarto Circuito/ Nuevo León                         12              \n",
              "5  Quinto Circuito/ Sonora                              5              \n",
              "6  Sexto Circuito/ Puebla                              65              \n",
              "7  Séptimo Circuito/ Veracruz de Ignacio de la Llave   26              \n",
              "8  Octavo Circuito/ Coahuila de Zaragoza               24              \n",
              "9  Noveno Circuito/ San Luis Potosí                    15              \n",
              "10 Décimo Circuito/ Tabasco-Veracruz                   25              \n",
              "11 Decimoprimer Circuito/ Michoacán de Ocampo          15              \n",
              "12 Decimosegundo Circuito/ Sinaloa                     18              \n",
              "13 Decimotercer Circuito/ Oaxaca                        9              \n",
              "14 Decimocuarto Circuito/ Yucatán                       7              \n",
              "15 Decimoquinto Circuito/ Baja California              12              \n",
              "16 Decimosexto Circuito/ Guanajuato                    19              \n",
              "17 Decimoséptimo Circuito/ Chihuahua                   11              \n",
              "18 Decimoctavo Circuito/ Morelos                        9              \n",
              "19 Decimonoveno Circuito/ Tamaulipas                   13              \n",
              "20 Vigésimo Circuito/ Chiapas                           6              \n",
              "21 Vigésimo Primer Circuito/ Guerrero                  20              \n",
              "22 Vigésimo Segundo Circuito/ Querétaro                 3              \n",
              "23 Vigésimo Tercer Circuito/ Zacatecas                  1              \n",
              "24 Vigésimo Cuarto Circuito/ Nayarit                    1              \n",
              "25 Vigésimo Quinto Circuito/ Durango                    2              \n",
              "26 Vigésimo Sexto Circuito/ Baja California Sur         5              \n",
              "27 Vigésimo Séptimo Circuito/ Quintana Roo             18              \n",
              "28 Vigésimo Octavo Circuito/ Tlaxcala                   0              \n",
              "29 Vigésimo Noveno Circuito/ Hidalgo                    8              \n",
              "30 Trigésimo Circuito/ Aguascalientes                   0              \n",
              "31 Trigésimo Primer Circuito/ Campeche                  5              \n",
              "32 Trigésimo Segundo Circuito/ Colima                   4              \n",
              "33 Total                                             1170              \n",
              "   ingresos egresos Existencia_final\n",
              "1  1300     1689    379             \n",
              "2   110      114     15             \n",
              "3   124      117     32             \n",
              "4    56       61      7             \n",
              "5    45       41      9             \n",
              "6   129      150     44             \n",
              "7    81       92     15             \n",
              "8    62       76     10             \n",
              "9    45       54      6             \n",
              "10   67       78     14             \n",
              "11   51       56     10             \n",
              "12   50       55     13             \n",
              "13   30       33      6             \n",
              "14   61       66      2             \n",
              "15   61       60     13             \n",
              "16   37       53      3             \n",
              "17   30       34      7             \n",
              "18   43       46      6             \n",
              "19   28       33      8             \n",
              "20   29       33      2             \n",
              "21   73       83     10             \n",
              "22   23       23      3             \n",
              "23    1        2      0             \n",
              "24   13        9      5             \n",
              "25    8        8      2             \n",
              "26   19       18      6             \n",
              "27   75       88      5             \n",
              "28   12        9      3             \n",
              "29   17       21      4             \n",
              "30    7        7      0             \n",
              "31   27       32      0             \n",
              "32    9       12      1             \n",
              "33 2723     3253    640             "
            ],
            "text/latex": "A tabyl: 33 × 5\n\\begin{tabular}{lllll}\n circuito & existencia\\_inicial & ingresos & egresos & Existencia\\_final\\\\\n <chr> & <int> & <int> & <int> & <int>\\\\\n\\hline\n\t Primer Circuito/ Ciudad de México                 &  768 & 1300 & 1689 & 379\\\\\n\t Segundo Circuito/ México                          &   19 &  110 &  114 &  15\\\\\n\t Tercer Circuito/ Jalisco                          &   25 &  124 &  117 &  32\\\\\n\t Cuarto Circuito/ Nuevo León                       &   12 &   56 &   61 &   7\\\\\n\t Quinto Circuito/ Sonora                           &    5 &   45 &   41 &   9\\\\\n\t Sexto Circuito/ Puebla                            &   65 &  129 &  150 &  44\\\\\n\t Séptimo Circuito/ Veracruz de Ignacio de la Llave &   26 &   81 &   92 &  15\\\\\n\t Octavo Circuito/ Coahuila de Zaragoza             &   24 &   62 &   76 &  10\\\\\n\t Noveno Circuito/ San Luis Potosí                  &   15 &   45 &   54 &   6\\\\\n\t Décimo Circuito/ Tabasco-Veracruz                 &   25 &   67 &   78 &  14\\\\\n\t Decimoprimer Circuito/ Michoacán de Ocampo        &   15 &   51 &   56 &  10\\\\\n\t Decimosegundo Circuito/ Sinaloa                   &   18 &   50 &   55 &  13\\\\\n\t Decimotercer Circuito/ Oaxaca                     &    9 &   30 &   33 &   6\\\\\n\t Decimocuarto Circuito/ Yucatán                    &    7 &   61 &   66 &   2\\\\\n\t Decimoquinto Circuito/ Baja California            &   12 &   61 &   60 &  13\\\\\n\t Decimosexto Circuito/ Guanajuato                  &   19 &   37 &   53 &   3\\\\\n\t Decimoséptimo Circuito/ Chihuahua                 &   11 &   30 &   34 &   7\\\\\n\t Decimoctavo Circuito/ Morelos                     &    9 &   43 &   46 &   6\\\\\n\t Decimonoveno Circuito/ Tamaulipas                 &   13 &   28 &   33 &   8\\\\\n\t Vigésimo Circuito/ Chiapas                        &    6 &   29 &   33 &   2\\\\\n\t Vigésimo Primer Circuito/ Guerrero                &   20 &   73 &   83 &  10\\\\\n\t Vigésimo Segundo Circuito/ Querétaro              &    3 &   23 &   23 &   3\\\\\n\t Vigésimo Tercer Circuito/ Zacatecas               &    1 &    1 &    2 &   0\\\\\n\t Vigésimo Cuarto Circuito/ Nayarit                 &    1 &   13 &    9 &   5\\\\\n\t Vigésimo Quinto Circuito/ Durango                 &    2 &    8 &    8 &   2\\\\\n\t Vigésimo Sexto Circuito/ Baja California Sur      &    5 &   19 &   18 &   6\\\\\n\t Vigésimo Séptimo Circuito/ Quintana Roo           &   18 &   75 &   88 &   5\\\\\n\t Vigésimo Octavo Circuito/ Tlaxcala                &    0 &   12 &    9 &   3\\\\\n\t Vigésimo Noveno Circuito/ Hidalgo                 &    8 &   17 &   21 &   4\\\\\n\t Trigésimo Circuito/ Aguascalientes                &    0 &    7 &    7 &   0\\\\\n\t Trigésimo Primer Circuito/ Campeche               &    5 &   27 &   32 &   0\\\\\n\t Trigésimo Segundo Circuito/ Colima                &    4 &    9 &   12 &   1\\\\\n\t Total                                             & 1170 & 2723 & 3253 & 640\\\\\n\\end{tabular}\n",
            "text/markdown": "\nA tabyl: 33 × 5\n\n| circuito &lt;chr&gt; | existencia_inicial &lt;int&gt; | ingresos &lt;int&gt; | egresos &lt;int&gt; | Existencia_final &lt;int&gt; |\n|---|---|---|---|---|\n| Primer Circuito/ Ciudad de México                 |  768 | 1300 | 1689 | 379 |\n| Segundo Circuito/ México                          |   19 |  110 |  114 |  15 |\n| Tercer Circuito/ Jalisco                          |   25 |  124 |  117 |  32 |\n| Cuarto Circuito/ Nuevo León                       |   12 |   56 |   61 |   7 |\n| Quinto Circuito/ Sonora                           |    5 |   45 |   41 |   9 |\n| Sexto Circuito/ Puebla                            |   65 |  129 |  150 |  44 |\n| Séptimo Circuito/ Veracruz de Ignacio de la Llave |   26 |   81 |   92 |  15 |\n| Octavo Circuito/ Coahuila de Zaragoza             |   24 |   62 |   76 |  10 |\n| Noveno Circuito/ San Luis Potosí                  |   15 |   45 |   54 |   6 |\n| Décimo Circuito/ Tabasco-Veracruz                 |   25 |   67 |   78 |  14 |\n| Decimoprimer Circuito/ Michoacán de Ocampo        |   15 |   51 |   56 |  10 |\n| Decimosegundo Circuito/ Sinaloa                   |   18 |   50 |   55 |  13 |\n| Decimotercer Circuito/ Oaxaca                     |    9 |   30 |   33 |   6 |\n| Decimocuarto Circuito/ Yucatán                    |    7 |   61 |   66 |   2 |\n| Decimoquinto Circuito/ Baja California            |   12 |   61 |   60 |  13 |\n| Decimosexto Circuito/ Guanajuato                  |   19 |   37 |   53 |   3 |\n| Decimoséptimo Circuito/ Chihuahua                 |   11 |   30 |   34 |   7 |\n| Decimoctavo Circuito/ Morelos                     |    9 |   43 |   46 |   6 |\n| Decimonoveno Circuito/ Tamaulipas                 |   13 |   28 |   33 |   8 |\n| Vigésimo Circuito/ Chiapas                        |    6 |   29 |   33 |   2 |\n| Vigésimo Primer Circuito/ Guerrero                |   20 |   73 |   83 |  10 |\n| Vigésimo Segundo Circuito/ Querétaro              |    3 |   23 |   23 |   3 |\n| Vigésimo Tercer Circuito/ Zacatecas               |    1 |    1 |    2 |   0 |\n| Vigésimo Cuarto Circuito/ Nayarit                 |    1 |   13 |    9 |   5 |\n| Vigésimo Quinto Circuito/ Durango                 |    2 |    8 |    8 |   2 |\n| Vigésimo Sexto Circuito/ Baja California Sur      |    5 |   19 |   18 |   6 |\n| Vigésimo Séptimo Circuito/ Quintana Roo           |   18 |   75 |   88 |   5 |\n| Vigésimo Octavo Circuito/ Tlaxcala                |    0 |   12 |    9 |   3 |\n| Vigésimo Noveno Circuito/ Hidalgo                 |    8 |   17 |   21 |   4 |\n| Trigésimo Circuito/ Aguascalientes                |    0 |    7 |    7 |   0 |\n| Trigésimo Primer Circuito/ Campeche               |    5 |   27 |   32 |   0 |\n| Trigésimo Segundo Circuito/ Colima                |    4 |    9 |   12 |   1 |\n| Total                                             | 1170 | 2723 | 3253 | 640 |\n\n",
            "text/html": [
              "<table class=\"dataframe\">\n",
              "<caption>A tabyl: 33 × 5</caption>\n",
              "<thead>\n",
              "\t<tr><th scope=col>circuito</th><th scope=col>existencia_inicial</th><th scope=col>ingresos</th><th scope=col>egresos</th><th scope=col>Existencia_final</th></tr>\n",
              "\t<tr><th scope=col>&lt;chr&gt;</th><th scope=col>&lt;int&gt;</th><th scope=col>&lt;int&gt;</th><th scope=col>&lt;int&gt;</th><th scope=col>&lt;int&gt;</th></tr>\n",
              "</thead>\n",
              "<tbody>\n",
              "\t<tr><td>Primer Circuito/ Ciudad de México                </td><td> 768</td><td>1300</td><td>1689</td><td>379</td></tr>\n",
              "\t<tr><td>Segundo Circuito/ México                         </td><td>  19</td><td> 110</td><td> 114</td><td> 15</td></tr>\n",
              "\t<tr><td>Tercer Circuito/ Jalisco                         </td><td>  25</td><td> 124</td><td> 117</td><td> 32</td></tr>\n",
              "\t<tr><td>Cuarto Circuito/ Nuevo León                      </td><td>  12</td><td>  56</td><td>  61</td><td>  7</td></tr>\n",
              "\t<tr><td>Quinto Circuito/ Sonora                          </td><td>   5</td><td>  45</td><td>  41</td><td>  9</td></tr>\n",
              "\t<tr><td>Sexto Circuito/ Puebla                           </td><td>  65</td><td> 129</td><td> 150</td><td> 44</td></tr>\n",
              "\t<tr><td>Séptimo Circuito/ Veracruz de Ignacio de la Llave</td><td>  26</td><td>  81</td><td>  92</td><td> 15</td></tr>\n",
              "\t<tr><td>Octavo Circuito/ Coahuila de Zaragoza            </td><td>  24</td><td>  62</td><td>  76</td><td> 10</td></tr>\n",
              "\t<tr><td>Noveno Circuito/ San Luis Potosí                 </td><td>  15</td><td>  45</td><td>  54</td><td>  6</td></tr>\n",
              "\t<tr><td>Décimo Circuito/ Tabasco-Veracruz                </td><td>  25</td><td>  67</td><td>  78</td><td> 14</td></tr>\n",
              "\t<tr><td>Decimoprimer Circuito/ Michoacán de Ocampo       </td><td>  15</td><td>  51</td><td>  56</td><td> 10</td></tr>\n",
              "\t<tr><td>Decimosegundo Circuito/ Sinaloa                  </td><td>  18</td><td>  50</td><td>  55</td><td> 13</td></tr>\n",
              "\t<tr><td>Decimotercer Circuito/ Oaxaca                    </td><td>   9</td><td>  30</td><td>  33</td><td>  6</td></tr>\n",
              "\t<tr><td>Decimocuarto Circuito/ Yucatán                   </td><td>   7</td><td>  61</td><td>  66</td><td>  2</td></tr>\n",
              "\t<tr><td>Decimoquinto Circuito/ Baja California           </td><td>  12</td><td>  61</td><td>  60</td><td> 13</td></tr>\n",
              "\t<tr><td>Decimosexto Circuito/ Guanajuato                 </td><td>  19</td><td>  37</td><td>  53</td><td>  3</td></tr>\n",
              "\t<tr><td>Decimoséptimo Circuito/ Chihuahua                </td><td>  11</td><td>  30</td><td>  34</td><td>  7</td></tr>\n",
              "\t<tr><td>Decimoctavo Circuito/ Morelos                    </td><td>   9</td><td>  43</td><td>  46</td><td>  6</td></tr>\n",
              "\t<tr><td>Decimonoveno Circuito/ Tamaulipas                </td><td>  13</td><td>  28</td><td>  33</td><td>  8</td></tr>\n",
              "\t<tr><td>Vigésimo Circuito/ Chiapas                       </td><td>   6</td><td>  29</td><td>  33</td><td>  2</td></tr>\n",
              "\t<tr><td>Vigésimo Primer Circuito/ Guerrero               </td><td>  20</td><td>  73</td><td>  83</td><td> 10</td></tr>\n",
              "\t<tr><td>Vigésimo Segundo Circuito/ Querétaro             </td><td>   3</td><td>  23</td><td>  23</td><td>  3</td></tr>\n",
              "\t<tr><td>Vigésimo Tercer Circuito/ Zacatecas              </td><td>   1</td><td>   1</td><td>   2</td><td>  0</td></tr>\n",
              "\t<tr><td>Vigésimo Cuarto Circuito/ Nayarit                </td><td>   1</td><td>  13</td><td>   9</td><td>  5</td></tr>\n",
              "\t<tr><td>Vigésimo Quinto Circuito/ Durango                </td><td>   2</td><td>   8</td><td>   8</td><td>  2</td></tr>\n",
              "\t<tr><td>Vigésimo Sexto Circuito/ Baja California Sur     </td><td>   5</td><td>  19</td><td>  18</td><td>  6</td></tr>\n",
              "\t<tr><td>Vigésimo Séptimo Circuito/ Quintana Roo          </td><td>  18</td><td>  75</td><td>  88</td><td>  5</td></tr>\n",
              "\t<tr><td>Vigésimo Octavo Circuito/ Tlaxcala               </td><td>   0</td><td>  12</td><td>   9</td><td>  3</td></tr>\n",
              "\t<tr><td>Vigésimo Noveno Circuito/ Hidalgo                </td><td>   8</td><td>  17</td><td>  21</td><td>  4</td></tr>\n",
              "\t<tr><td>Trigésimo Circuito/ Aguascalientes               </td><td>   0</td><td>   7</td><td>   7</td><td>  0</td></tr>\n",
              "\t<tr><td>Trigésimo Primer Circuito/ Campeche              </td><td>   5</td><td>  27</td><td>  32</td><td>  0</td></tr>\n",
              "\t<tr><td>Trigésimo Segundo Circuito/ Colima               </td><td>   4</td><td>   9</td><td>  12</td><td>  1</td></tr>\n",
              "\t<tr><td>Total                                            </td><td>1170</td><td>2723</td><td>3253</td><td>640</td></tr>\n",
              "</tbody>\n",
              "</table>\n"
            ]
          },
          "metadata": {
            "tags": []
          }
        }
      ]
    },
    {
      "cell_type": "code",
      "metadata": {
        "colab": {
          "base_uri": "https://localhost:8080/",
          "height": 1000
        },
        "id": "jI4BPHWr9Tj3",
        "outputId": "6df588c1-6de6-4908-86aa-88ced9331460"
      },
      "source": [
        "#procesos federales administrativos y civiles en segunda instancia\n",
        "#Denegada apelación\n",
        "cubo %>%\n",
        "filter(tp_organo == \"Tribunales Unitarios de Circuito\") %>%\n",
        "filter(tp_asunto == \"procesos federales administrativos y civiles en segunda instancia\") %>%\n",
        "filter(tp_procedimiento == \"Denegada Apelación\" | tp_procedimiento ==\"Denegada apelación\" ) %>%\n",
        "mutate(egresos = egresos + egresos_acuerdo) %>% # egresos + egresos por acuerdo?\n",
        "select(circuito,  existencia_inicial, ingresos, egresos, Existencia_final) %>%\n",
        "mutate(circuito = factor(circuito, levels = orden_circuitos)) %>%\n",
        "group_by(circuito) %>%\n",
        "summarise_all(list(sum))%>%\n",
        "filter(!is.na(existencia_inicial))  %>%\n",
        "adorn_totals()"
      ],
      "execution_count": null,
      "outputs": [
        {
          "output_type": "display_data",
          "data": {
            "text/plain": [
              "   circuito                                          existencia_inicial\n",
              "1  Primer Circuito/ Ciudad de México                 0                 \n",
              "2  Segundo Circuito/ México                          1                 \n",
              "3  Tercer Circuito/ Jalisco                          0                 \n",
              "4  Cuarto Circuito/ Nuevo León                       0                 \n",
              "5  Quinto Circuito/ Sonora                           0                 \n",
              "6  Sexto Circuito/ Puebla                            0                 \n",
              "7  Séptimo Circuito/ Veracruz de Ignacio de la Llave 1                 \n",
              "8  Octavo Circuito/ Coahuila de Zaragoza             0                 \n",
              "9  Noveno Circuito/ San Luis Potosí                  0                 \n",
              "10 Décimo Circuito/ Tabasco-Veracruz                 0                 \n",
              "11 Decimoprimer Circuito/ Michoacán de Ocampo        0                 \n",
              "12 Decimosegundo Circuito/ Sinaloa                   0                 \n",
              "13 Decimotercer Circuito/ Oaxaca                     0                 \n",
              "14 Decimocuarto Circuito/ Yucatán                    0                 \n",
              "15 Decimoquinto Circuito/ Baja California            0                 \n",
              "16 Decimosexto Circuito/ Guanajuato                  0                 \n",
              "17 Decimoséptimo Circuito/ Chihuahua                 0                 \n",
              "18 Decimoctavo Circuito/ Morelos                     0                 \n",
              "19 Decimonoveno Circuito/ Tamaulipas                 0                 \n",
              "20 Vigésimo Circuito/ Chiapas                        0                 \n",
              "21 Vigésimo Primer Circuito/ Guerrero                0                 \n",
              "22 Vigésimo Segundo Circuito/ Querétaro              0                 \n",
              "23 Vigésimo Tercer Circuito/ Zacatecas               0                 \n",
              "24 Vigésimo Cuarto Circuito/ Nayarit                 0                 \n",
              "25 Vigésimo Quinto Circuito/ Durango                 0                 \n",
              "26 Vigésimo Sexto Circuito/ Baja California Sur      0                 \n",
              "27 Vigésimo Séptimo Circuito/ Quintana Roo           0                 \n",
              "28 Vigésimo Octavo Circuito/ Tlaxcala                0                 \n",
              "29 Vigésimo Noveno Circuito/ Hidalgo                 0                 \n",
              "30 Trigésimo Circuito/ Aguascalientes                0                 \n",
              "31 Trigésimo Primer Circuito/ Campeche               0                 \n",
              "32 Trigésimo Segundo Circuito/ Colima                0                 \n",
              "33 Total                                             2                 \n",
              "   ingresos egresos Existencia_final\n",
              "1  17       10      7               \n",
              "2   1        2      0               \n",
              "3   1        1      0               \n",
              "4   2        2      0               \n",
              "5   1        1      0               \n",
              "6   0        0      0               \n",
              "7   1        1      1               \n",
              "8   2        2      0               \n",
              "9   0        0      0               \n",
              "10  0        0      0               \n",
              "11  0        0      0               \n",
              "12  1        1      0               \n",
              "13  0        0      0               \n",
              "14  0        0      0               \n",
              "15  0        0      0               \n",
              "16  0        0      0               \n",
              "17  1        1      0               \n",
              "18  1        1      0               \n",
              "19  0        0      0               \n",
              "20  0        0      0               \n",
              "21  0        0      0               \n",
              "22  1        1      0               \n",
              "23  0        0      0               \n",
              "24  0        0      0               \n",
              "25  0        0      0               \n",
              "26  0        0      0               \n",
              "27  0        0      0               \n",
              "28  0        0      0               \n",
              "29  0        0      0               \n",
              "30  0        0      0               \n",
              "31  0        0      0               \n",
              "32  0        0      0               \n",
              "33 29       23      8               "
            ],
            "text/latex": "A tabyl: 33 × 5\n\\begin{tabular}{lllll}\n circuito & existencia\\_inicial & ingresos & egresos & Existencia\\_final\\\\\n <chr> & <int> & <int> & <int> & <int>\\\\\n\\hline\n\t Primer Circuito/ Ciudad de México                 & 0 & 17 & 10 & 7\\\\\n\t Segundo Circuito/ México                          & 1 &  1 &  2 & 0\\\\\n\t Tercer Circuito/ Jalisco                          & 0 &  1 &  1 & 0\\\\\n\t Cuarto Circuito/ Nuevo León                       & 0 &  2 &  2 & 0\\\\\n\t Quinto Circuito/ Sonora                           & 0 &  1 &  1 & 0\\\\\n\t Sexto Circuito/ Puebla                            & 0 &  0 &  0 & 0\\\\\n\t Séptimo Circuito/ Veracruz de Ignacio de la Llave & 1 &  1 &  1 & 1\\\\\n\t Octavo Circuito/ Coahuila de Zaragoza             & 0 &  2 &  2 & 0\\\\\n\t Noveno Circuito/ San Luis Potosí                  & 0 &  0 &  0 & 0\\\\\n\t Décimo Circuito/ Tabasco-Veracruz                 & 0 &  0 &  0 & 0\\\\\n\t Decimoprimer Circuito/ Michoacán de Ocampo        & 0 &  0 &  0 & 0\\\\\n\t Decimosegundo Circuito/ Sinaloa                   & 0 &  1 &  1 & 0\\\\\n\t Decimotercer Circuito/ Oaxaca                     & 0 &  0 &  0 & 0\\\\\n\t Decimocuarto Circuito/ Yucatán                    & 0 &  0 &  0 & 0\\\\\n\t Decimoquinto Circuito/ Baja California            & 0 &  0 &  0 & 0\\\\\n\t Decimosexto Circuito/ Guanajuato                  & 0 &  0 &  0 & 0\\\\\n\t Decimoséptimo Circuito/ Chihuahua                 & 0 &  1 &  1 & 0\\\\\n\t Decimoctavo Circuito/ Morelos                     & 0 &  1 &  1 & 0\\\\\n\t Decimonoveno Circuito/ Tamaulipas                 & 0 &  0 &  0 & 0\\\\\n\t Vigésimo Circuito/ Chiapas                        & 0 &  0 &  0 & 0\\\\\n\t Vigésimo Primer Circuito/ Guerrero                & 0 &  0 &  0 & 0\\\\\n\t Vigésimo Segundo Circuito/ Querétaro              & 0 &  1 &  1 & 0\\\\\n\t Vigésimo Tercer Circuito/ Zacatecas               & 0 &  0 &  0 & 0\\\\\n\t Vigésimo Cuarto Circuito/ Nayarit                 & 0 &  0 &  0 & 0\\\\\n\t Vigésimo Quinto Circuito/ Durango                 & 0 &  0 &  0 & 0\\\\\n\t Vigésimo Sexto Circuito/ Baja California Sur      & 0 &  0 &  0 & 0\\\\\n\t Vigésimo Séptimo Circuito/ Quintana Roo           & 0 &  0 &  0 & 0\\\\\n\t Vigésimo Octavo Circuito/ Tlaxcala                & 0 &  0 &  0 & 0\\\\\n\t Vigésimo Noveno Circuito/ Hidalgo                 & 0 &  0 &  0 & 0\\\\\n\t Trigésimo Circuito/ Aguascalientes                & 0 &  0 &  0 & 0\\\\\n\t Trigésimo Primer Circuito/ Campeche               & 0 &  0 &  0 & 0\\\\\n\t Trigésimo Segundo Circuito/ Colima                & 0 &  0 &  0 & 0\\\\\n\t Total                                             & 2 & 29 & 23 & 8\\\\\n\\end{tabular}\n",
            "text/markdown": "\nA tabyl: 33 × 5\n\n| circuito &lt;chr&gt; | existencia_inicial &lt;int&gt; | ingresos &lt;int&gt; | egresos &lt;int&gt; | Existencia_final &lt;int&gt; |\n|---|---|---|---|---|\n| Primer Circuito/ Ciudad de México                 | 0 | 17 | 10 | 7 |\n| Segundo Circuito/ México                          | 1 |  1 |  2 | 0 |\n| Tercer Circuito/ Jalisco                          | 0 |  1 |  1 | 0 |\n| Cuarto Circuito/ Nuevo León                       | 0 |  2 |  2 | 0 |\n| Quinto Circuito/ Sonora                           | 0 |  1 |  1 | 0 |\n| Sexto Circuito/ Puebla                            | 0 |  0 |  0 | 0 |\n| Séptimo Circuito/ Veracruz de Ignacio de la Llave | 1 |  1 |  1 | 1 |\n| Octavo Circuito/ Coahuila de Zaragoza             | 0 |  2 |  2 | 0 |\n| Noveno Circuito/ San Luis Potosí                  | 0 |  0 |  0 | 0 |\n| Décimo Circuito/ Tabasco-Veracruz                 | 0 |  0 |  0 | 0 |\n| Decimoprimer Circuito/ Michoacán de Ocampo        | 0 |  0 |  0 | 0 |\n| Decimosegundo Circuito/ Sinaloa                   | 0 |  1 |  1 | 0 |\n| Decimotercer Circuito/ Oaxaca                     | 0 |  0 |  0 | 0 |\n| Decimocuarto Circuito/ Yucatán                    | 0 |  0 |  0 | 0 |\n| Decimoquinto Circuito/ Baja California            | 0 |  0 |  0 | 0 |\n| Decimosexto Circuito/ Guanajuato                  | 0 |  0 |  0 | 0 |\n| Decimoséptimo Circuito/ Chihuahua                 | 0 |  1 |  1 | 0 |\n| Decimoctavo Circuito/ Morelos                     | 0 |  1 |  1 | 0 |\n| Decimonoveno Circuito/ Tamaulipas                 | 0 |  0 |  0 | 0 |\n| Vigésimo Circuito/ Chiapas                        | 0 |  0 |  0 | 0 |\n| Vigésimo Primer Circuito/ Guerrero                | 0 |  0 |  0 | 0 |\n| Vigésimo Segundo Circuito/ Querétaro              | 0 |  1 |  1 | 0 |\n| Vigésimo Tercer Circuito/ Zacatecas               | 0 |  0 |  0 | 0 |\n| Vigésimo Cuarto Circuito/ Nayarit                 | 0 |  0 |  0 | 0 |\n| Vigésimo Quinto Circuito/ Durango                 | 0 |  0 |  0 | 0 |\n| Vigésimo Sexto Circuito/ Baja California Sur      | 0 |  0 |  0 | 0 |\n| Vigésimo Séptimo Circuito/ Quintana Roo           | 0 |  0 |  0 | 0 |\n| Vigésimo Octavo Circuito/ Tlaxcala                | 0 |  0 |  0 | 0 |\n| Vigésimo Noveno Circuito/ Hidalgo                 | 0 |  0 |  0 | 0 |\n| Trigésimo Circuito/ Aguascalientes                | 0 |  0 |  0 | 0 |\n| Trigésimo Primer Circuito/ Campeche               | 0 |  0 |  0 | 0 |\n| Trigésimo Segundo Circuito/ Colima                | 0 |  0 |  0 | 0 |\n| Total                                             | 2 | 29 | 23 | 8 |\n\n",
            "text/html": [
              "<table class=\"dataframe\">\n",
              "<caption>A tabyl: 33 × 5</caption>\n",
              "<thead>\n",
              "\t<tr><th scope=col>circuito</th><th scope=col>existencia_inicial</th><th scope=col>ingresos</th><th scope=col>egresos</th><th scope=col>Existencia_final</th></tr>\n",
              "\t<tr><th scope=col>&lt;chr&gt;</th><th scope=col>&lt;int&gt;</th><th scope=col>&lt;int&gt;</th><th scope=col>&lt;int&gt;</th><th scope=col>&lt;int&gt;</th></tr>\n",
              "</thead>\n",
              "<tbody>\n",
              "\t<tr><td>Primer Circuito/ Ciudad de México                </td><td>0</td><td>17</td><td>10</td><td>7</td></tr>\n",
              "\t<tr><td>Segundo Circuito/ México                         </td><td>1</td><td> 1</td><td> 2</td><td>0</td></tr>\n",
              "\t<tr><td>Tercer Circuito/ Jalisco                         </td><td>0</td><td> 1</td><td> 1</td><td>0</td></tr>\n",
              "\t<tr><td>Cuarto Circuito/ Nuevo León                      </td><td>0</td><td> 2</td><td> 2</td><td>0</td></tr>\n",
              "\t<tr><td>Quinto Circuito/ Sonora                          </td><td>0</td><td> 1</td><td> 1</td><td>0</td></tr>\n",
              "\t<tr><td>Sexto Circuito/ Puebla                           </td><td>0</td><td> 0</td><td> 0</td><td>0</td></tr>\n",
              "\t<tr><td>Séptimo Circuito/ Veracruz de Ignacio de la Llave</td><td>1</td><td> 1</td><td> 1</td><td>1</td></tr>\n",
              "\t<tr><td>Octavo Circuito/ Coahuila de Zaragoza            </td><td>0</td><td> 2</td><td> 2</td><td>0</td></tr>\n",
              "\t<tr><td>Noveno Circuito/ San Luis Potosí                 </td><td>0</td><td> 0</td><td> 0</td><td>0</td></tr>\n",
              "\t<tr><td>Décimo Circuito/ Tabasco-Veracruz                </td><td>0</td><td> 0</td><td> 0</td><td>0</td></tr>\n",
              "\t<tr><td>Decimoprimer Circuito/ Michoacán de Ocampo       </td><td>0</td><td> 0</td><td> 0</td><td>0</td></tr>\n",
              "\t<tr><td>Decimosegundo Circuito/ Sinaloa                  </td><td>0</td><td> 1</td><td> 1</td><td>0</td></tr>\n",
              "\t<tr><td>Decimotercer Circuito/ Oaxaca                    </td><td>0</td><td> 0</td><td> 0</td><td>0</td></tr>\n",
              "\t<tr><td>Decimocuarto Circuito/ Yucatán                   </td><td>0</td><td> 0</td><td> 0</td><td>0</td></tr>\n",
              "\t<tr><td>Decimoquinto Circuito/ Baja California           </td><td>0</td><td> 0</td><td> 0</td><td>0</td></tr>\n",
              "\t<tr><td>Decimosexto Circuito/ Guanajuato                 </td><td>0</td><td> 0</td><td> 0</td><td>0</td></tr>\n",
              "\t<tr><td>Decimoséptimo Circuito/ Chihuahua                </td><td>0</td><td> 1</td><td> 1</td><td>0</td></tr>\n",
              "\t<tr><td>Decimoctavo Circuito/ Morelos                    </td><td>0</td><td> 1</td><td> 1</td><td>0</td></tr>\n",
              "\t<tr><td>Decimonoveno Circuito/ Tamaulipas                </td><td>0</td><td> 0</td><td> 0</td><td>0</td></tr>\n",
              "\t<tr><td>Vigésimo Circuito/ Chiapas                       </td><td>0</td><td> 0</td><td> 0</td><td>0</td></tr>\n",
              "\t<tr><td>Vigésimo Primer Circuito/ Guerrero               </td><td>0</td><td> 0</td><td> 0</td><td>0</td></tr>\n",
              "\t<tr><td>Vigésimo Segundo Circuito/ Querétaro             </td><td>0</td><td> 1</td><td> 1</td><td>0</td></tr>\n",
              "\t<tr><td>Vigésimo Tercer Circuito/ Zacatecas              </td><td>0</td><td> 0</td><td> 0</td><td>0</td></tr>\n",
              "\t<tr><td>Vigésimo Cuarto Circuito/ Nayarit                </td><td>0</td><td> 0</td><td> 0</td><td>0</td></tr>\n",
              "\t<tr><td>Vigésimo Quinto Circuito/ Durango                </td><td>0</td><td> 0</td><td> 0</td><td>0</td></tr>\n",
              "\t<tr><td>Vigésimo Sexto Circuito/ Baja California Sur     </td><td>0</td><td> 0</td><td> 0</td><td>0</td></tr>\n",
              "\t<tr><td>Vigésimo Séptimo Circuito/ Quintana Roo          </td><td>0</td><td> 0</td><td> 0</td><td>0</td></tr>\n",
              "\t<tr><td>Vigésimo Octavo Circuito/ Tlaxcala               </td><td>0</td><td> 0</td><td> 0</td><td>0</td></tr>\n",
              "\t<tr><td>Vigésimo Noveno Circuito/ Hidalgo                </td><td>0</td><td> 0</td><td> 0</td><td>0</td></tr>\n",
              "\t<tr><td>Trigésimo Circuito/ Aguascalientes               </td><td>0</td><td> 0</td><td> 0</td><td>0</td></tr>\n",
              "\t<tr><td>Trigésimo Primer Circuito/ Campeche              </td><td>0</td><td> 0</td><td> 0</td><td>0</td></tr>\n",
              "\t<tr><td>Trigésimo Segundo Circuito/ Colima               </td><td>0</td><td> 0</td><td> 0</td><td>0</td></tr>\n",
              "\t<tr><td>Total                                            </td><td>2</td><td>29</td><td>23</td><td>8</td></tr>\n",
              "</tbody>\n",
              "</table>\n"
            ]
          },
          "metadata": {
            "tags": []
          }
        }
      ]
    },
    {
      "cell_type": "code",
      "metadata": {
        "colab": {
          "base_uri": "https://localhost:8080/",
          "height": 1000
        },
        "id": "j2h4BiPp9eQm",
        "outputId": "5201dfc0-e0bb-4be4-f5cc-2f86fca75d56"
      },
      "source": [
        "#procesos federales administrativos y civiles en segunda instancia\n",
        "#Impedimento\n",
        "cubo %>%\n",
        "filter(tp_organo == \"Tribunales Unitarios de Circuito\") %>%\n",
        "filter(tp_asunto == \"procesos federales administrativos y civiles en segunda instancia\") %>%\n",
        "filter(tp_procedimiento == \"Impedimento\") %>%\n",
        "mutate(egresos = egresos + egresos_acuerdo) %>% # egresos + egresos por acuerdo?\n",
        "select(circuito,  existencia_inicial, ingresos, egresos, Existencia_final) %>%\n",
        "mutate(circuito = factor(circuito, levels = orden_circuitos)) %>%\n",
        "group_by(circuito) %>%\n",
        "summarise_all(list(sum))%>%\n",
        "filter(!is.na(existencia_inicial))  %>%\n",
        "adorn_totals()"
      ],
      "execution_count": null,
      "outputs": [
        {
          "output_type": "display_data",
          "data": {
            "text/plain": [
              "   circuito                                          existencia_inicial\n",
              "1  Primer Circuito/ Ciudad de México                 0                 \n",
              "2  Segundo Circuito/ México                          0                 \n",
              "3  Tercer Circuito/ Jalisco                          0                 \n",
              "4  Cuarto Circuito/ Nuevo León                       0                 \n",
              "5  Quinto Circuito/ Sonora                           0                 \n",
              "6  Sexto Circuito/ Puebla                            0                 \n",
              "7  Séptimo Circuito/ Veracruz de Ignacio de la Llave 1                 \n",
              "8  Octavo Circuito/ Coahuila de Zaragoza             0                 \n",
              "9  Noveno Circuito/ San Luis Potosí                  0                 \n",
              "10 Décimo Circuito/ Tabasco-Veracruz                 0                 \n",
              "11 Decimoprimer Circuito/ Michoacán de Ocampo        0                 \n",
              "12 Decimosegundo Circuito/ Sinaloa                   0                 \n",
              "13 Decimotercer Circuito/ Oaxaca                     0                 \n",
              "14 Decimocuarto Circuito/ Yucatán                    0                 \n",
              "15 Decimoquinto Circuito/ Baja California            0                 \n",
              "16 Decimosexto Circuito/ Guanajuato                  0                 \n",
              "17 Decimoséptimo Circuito/ Chihuahua                 0                 \n",
              "18 Decimoctavo Circuito/ Morelos                     0                 \n",
              "19 Decimonoveno Circuito/ Tamaulipas                 0                 \n",
              "20 Vigésimo Circuito/ Chiapas                        0                 \n",
              "21 Vigésimo Primer Circuito/ Guerrero                1                 \n",
              "22 Vigésimo Segundo Circuito/ Querétaro              0                 \n",
              "23 Vigésimo Tercer Circuito/ Zacatecas               0                 \n",
              "24 Vigésimo Cuarto Circuito/ Nayarit                 0                 \n",
              "25 Vigésimo Quinto Circuito/ Durango                 0                 \n",
              "26 Vigésimo Sexto Circuito/ Baja California Sur      0                 \n",
              "27 Vigésimo Séptimo Circuito/ Quintana Roo           0                 \n",
              "28 Vigésimo Octavo Circuito/ Tlaxcala                0                 \n",
              "29 Vigésimo Noveno Circuito/ Hidalgo                 0                 \n",
              "30 Trigésimo Circuito/ Aguascalientes                0                 \n",
              "31 Trigésimo Primer Circuito/ Campeche               0                 \n",
              "32 Trigésimo Segundo Circuito/ Colima                0                 \n",
              "33 Total                                             2                 \n",
              "   ingresos egresos Existencia_final\n",
              "1  13       10      3               \n",
              "2   2        2      0               \n",
              "3   9        8      1               \n",
              "4   2        1      1               \n",
              "5   2        2      0               \n",
              "6   0        0      0               \n",
              "7   4        4      1               \n",
              "8   1        0      1               \n",
              "9   3        3      0               \n",
              "10  1        1      0               \n",
              "11  2        2      0               \n",
              "12  0        0      0               \n",
              "13  1        1      0               \n",
              "14  0        0      0               \n",
              "15  1        1      0               \n",
              "16  0        0      0               \n",
              "17  1        1      0               \n",
              "18  1        1      0               \n",
              "19  0        0      0               \n",
              "20  0        0      0               \n",
              "21  4        5      0               \n",
              "22  0        0      0               \n",
              "23  0        0      0               \n",
              "24  0        0      0               \n",
              "25  0        0      0               \n",
              "26  0        0      0               \n",
              "27  0        0      0               \n",
              "28  0        0      0               \n",
              "29  1        1      0               \n",
              "30  0        0      0               \n",
              "31  0        0      0               \n",
              "32  0        0      0               \n",
              "33 48       43      7               "
            ],
            "text/latex": "A tabyl: 33 × 5\n\\begin{tabular}{lllll}\n circuito & existencia\\_inicial & ingresos & egresos & Existencia\\_final\\\\\n <chr> & <int> & <int> & <int> & <int>\\\\\n\\hline\n\t Primer Circuito/ Ciudad de México                 & 0 & 13 & 10 & 3\\\\\n\t Segundo Circuito/ México                          & 0 &  2 &  2 & 0\\\\\n\t Tercer Circuito/ Jalisco                          & 0 &  9 &  8 & 1\\\\\n\t Cuarto Circuito/ Nuevo León                       & 0 &  2 &  1 & 1\\\\\n\t Quinto Circuito/ Sonora                           & 0 &  2 &  2 & 0\\\\\n\t Sexto Circuito/ Puebla                            & 0 &  0 &  0 & 0\\\\\n\t Séptimo Circuito/ Veracruz de Ignacio de la Llave & 1 &  4 &  4 & 1\\\\\n\t Octavo Circuito/ Coahuila de Zaragoza             & 0 &  1 &  0 & 1\\\\\n\t Noveno Circuito/ San Luis Potosí                  & 0 &  3 &  3 & 0\\\\\n\t Décimo Circuito/ Tabasco-Veracruz                 & 0 &  1 &  1 & 0\\\\\n\t Decimoprimer Circuito/ Michoacán de Ocampo        & 0 &  2 &  2 & 0\\\\\n\t Decimosegundo Circuito/ Sinaloa                   & 0 &  0 &  0 & 0\\\\\n\t Decimotercer Circuito/ Oaxaca                     & 0 &  1 &  1 & 0\\\\\n\t Decimocuarto Circuito/ Yucatán                    & 0 &  0 &  0 & 0\\\\\n\t Decimoquinto Circuito/ Baja California            & 0 &  1 &  1 & 0\\\\\n\t Decimosexto Circuito/ Guanajuato                  & 0 &  0 &  0 & 0\\\\\n\t Decimoséptimo Circuito/ Chihuahua                 & 0 &  1 &  1 & 0\\\\\n\t Decimoctavo Circuito/ Morelos                     & 0 &  1 &  1 & 0\\\\\n\t Decimonoveno Circuito/ Tamaulipas                 & 0 &  0 &  0 & 0\\\\\n\t Vigésimo Circuito/ Chiapas                        & 0 &  0 &  0 & 0\\\\\n\t Vigésimo Primer Circuito/ Guerrero                & 1 &  4 &  5 & 0\\\\\n\t Vigésimo Segundo Circuito/ Querétaro              & 0 &  0 &  0 & 0\\\\\n\t Vigésimo Tercer Circuito/ Zacatecas               & 0 &  0 &  0 & 0\\\\\n\t Vigésimo Cuarto Circuito/ Nayarit                 & 0 &  0 &  0 & 0\\\\\n\t Vigésimo Quinto Circuito/ Durango                 & 0 &  0 &  0 & 0\\\\\n\t Vigésimo Sexto Circuito/ Baja California Sur      & 0 &  0 &  0 & 0\\\\\n\t Vigésimo Séptimo Circuito/ Quintana Roo           & 0 &  0 &  0 & 0\\\\\n\t Vigésimo Octavo Circuito/ Tlaxcala                & 0 &  0 &  0 & 0\\\\\n\t Vigésimo Noveno Circuito/ Hidalgo                 & 0 &  1 &  1 & 0\\\\\n\t Trigésimo Circuito/ Aguascalientes                & 0 &  0 &  0 & 0\\\\\n\t Trigésimo Primer Circuito/ Campeche               & 0 &  0 &  0 & 0\\\\\n\t Trigésimo Segundo Circuito/ Colima                & 0 &  0 &  0 & 0\\\\\n\t Total                                             & 2 & 48 & 43 & 7\\\\\n\\end{tabular}\n",
            "text/markdown": "\nA tabyl: 33 × 5\n\n| circuito &lt;chr&gt; | existencia_inicial &lt;int&gt; | ingresos &lt;int&gt; | egresos &lt;int&gt; | Existencia_final &lt;int&gt; |\n|---|---|---|---|---|\n| Primer Circuito/ Ciudad de México                 | 0 | 13 | 10 | 3 |\n| Segundo Circuito/ México                          | 0 |  2 |  2 | 0 |\n| Tercer Circuito/ Jalisco                          | 0 |  9 |  8 | 1 |\n| Cuarto Circuito/ Nuevo León                       | 0 |  2 |  1 | 1 |\n| Quinto Circuito/ Sonora                           | 0 |  2 |  2 | 0 |\n| Sexto Circuito/ Puebla                            | 0 |  0 |  0 | 0 |\n| Séptimo Circuito/ Veracruz de Ignacio de la Llave | 1 |  4 |  4 | 1 |\n| Octavo Circuito/ Coahuila de Zaragoza             | 0 |  1 |  0 | 1 |\n| Noveno Circuito/ San Luis Potosí                  | 0 |  3 |  3 | 0 |\n| Décimo Circuito/ Tabasco-Veracruz                 | 0 |  1 |  1 | 0 |\n| Decimoprimer Circuito/ Michoacán de Ocampo        | 0 |  2 |  2 | 0 |\n| Decimosegundo Circuito/ Sinaloa                   | 0 |  0 |  0 | 0 |\n| Decimotercer Circuito/ Oaxaca                     | 0 |  1 |  1 | 0 |\n| Decimocuarto Circuito/ Yucatán                    | 0 |  0 |  0 | 0 |\n| Decimoquinto Circuito/ Baja California            | 0 |  1 |  1 | 0 |\n| Decimosexto Circuito/ Guanajuato                  | 0 |  0 |  0 | 0 |\n| Decimoséptimo Circuito/ Chihuahua                 | 0 |  1 |  1 | 0 |\n| Decimoctavo Circuito/ Morelos                     | 0 |  1 |  1 | 0 |\n| Decimonoveno Circuito/ Tamaulipas                 | 0 |  0 |  0 | 0 |\n| Vigésimo Circuito/ Chiapas                        | 0 |  0 |  0 | 0 |\n| Vigésimo Primer Circuito/ Guerrero                | 1 |  4 |  5 | 0 |\n| Vigésimo Segundo Circuito/ Querétaro              | 0 |  0 |  0 | 0 |\n| Vigésimo Tercer Circuito/ Zacatecas               | 0 |  0 |  0 | 0 |\n| Vigésimo Cuarto Circuito/ Nayarit                 | 0 |  0 |  0 | 0 |\n| Vigésimo Quinto Circuito/ Durango                 | 0 |  0 |  0 | 0 |\n| Vigésimo Sexto Circuito/ Baja California Sur      | 0 |  0 |  0 | 0 |\n| Vigésimo Séptimo Circuito/ Quintana Roo           | 0 |  0 |  0 | 0 |\n| Vigésimo Octavo Circuito/ Tlaxcala                | 0 |  0 |  0 | 0 |\n| Vigésimo Noveno Circuito/ Hidalgo                 | 0 |  1 |  1 | 0 |\n| Trigésimo Circuito/ Aguascalientes                | 0 |  0 |  0 | 0 |\n| Trigésimo Primer Circuito/ Campeche               | 0 |  0 |  0 | 0 |\n| Trigésimo Segundo Circuito/ Colima                | 0 |  0 |  0 | 0 |\n| Total                                             | 2 | 48 | 43 | 7 |\n\n",
            "text/html": [
              "<table class=\"dataframe\">\n",
              "<caption>A tabyl: 33 × 5</caption>\n",
              "<thead>\n",
              "\t<tr><th scope=col>circuito</th><th scope=col>existencia_inicial</th><th scope=col>ingresos</th><th scope=col>egresos</th><th scope=col>Existencia_final</th></tr>\n",
              "\t<tr><th scope=col>&lt;chr&gt;</th><th scope=col>&lt;int&gt;</th><th scope=col>&lt;int&gt;</th><th scope=col>&lt;int&gt;</th><th scope=col>&lt;int&gt;</th></tr>\n",
              "</thead>\n",
              "<tbody>\n",
              "\t<tr><td>Primer Circuito/ Ciudad de México                </td><td>0</td><td>13</td><td>10</td><td>3</td></tr>\n",
              "\t<tr><td>Segundo Circuito/ México                         </td><td>0</td><td> 2</td><td> 2</td><td>0</td></tr>\n",
              "\t<tr><td>Tercer Circuito/ Jalisco                         </td><td>0</td><td> 9</td><td> 8</td><td>1</td></tr>\n",
              "\t<tr><td>Cuarto Circuito/ Nuevo León                      </td><td>0</td><td> 2</td><td> 1</td><td>1</td></tr>\n",
              "\t<tr><td>Quinto Circuito/ Sonora                          </td><td>0</td><td> 2</td><td> 2</td><td>0</td></tr>\n",
              "\t<tr><td>Sexto Circuito/ Puebla                           </td><td>0</td><td> 0</td><td> 0</td><td>0</td></tr>\n",
              "\t<tr><td>Séptimo Circuito/ Veracruz de Ignacio de la Llave</td><td>1</td><td> 4</td><td> 4</td><td>1</td></tr>\n",
              "\t<tr><td>Octavo Circuito/ Coahuila de Zaragoza            </td><td>0</td><td> 1</td><td> 0</td><td>1</td></tr>\n",
              "\t<tr><td>Noveno Circuito/ San Luis Potosí                 </td><td>0</td><td> 3</td><td> 3</td><td>0</td></tr>\n",
              "\t<tr><td>Décimo Circuito/ Tabasco-Veracruz                </td><td>0</td><td> 1</td><td> 1</td><td>0</td></tr>\n",
              "\t<tr><td>Decimoprimer Circuito/ Michoacán de Ocampo       </td><td>0</td><td> 2</td><td> 2</td><td>0</td></tr>\n",
              "\t<tr><td>Decimosegundo Circuito/ Sinaloa                  </td><td>0</td><td> 0</td><td> 0</td><td>0</td></tr>\n",
              "\t<tr><td>Decimotercer Circuito/ Oaxaca                    </td><td>0</td><td> 1</td><td> 1</td><td>0</td></tr>\n",
              "\t<tr><td>Decimocuarto Circuito/ Yucatán                   </td><td>0</td><td> 0</td><td> 0</td><td>0</td></tr>\n",
              "\t<tr><td>Decimoquinto Circuito/ Baja California           </td><td>0</td><td> 1</td><td> 1</td><td>0</td></tr>\n",
              "\t<tr><td>Decimosexto Circuito/ Guanajuato                 </td><td>0</td><td> 0</td><td> 0</td><td>0</td></tr>\n",
              "\t<tr><td>Decimoséptimo Circuito/ Chihuahua                </td><td>0</td><td> 1</td><td> 1</td><td>0</td></tr>\n",
              "\t<tr><td>Decimoctavo Circuito/ Morelos                    </td><td>0</td><td> 1</td><td> 1</td><td>0</td></tr>\n",
              "\t<tr><td>Decimonoveno Circuito/ Tamaulipas                </td><td>0</td><td> 0</td><td> 0</td><td>0</td></tr>\n",
              "\t<tr><td>Vigésimo Circuito/ Chiapas                       </td><td>0</td><td> 0</td><td> 0</td><td>0</td></tr>\n",
              "\t<tr><td>Vigésimo Primer Circuito/ Guerrero               </td><td>1</td><td> 4</td><td> 5</td><td>0</td></tr>\n",
              "\t<tr><td>Vigésimo Segundo Circuito/ Querétaro             </td><td>0</td><td> 0</td><td> 0</td><td>0</td></tr>\n",
              "\t<tr><td>Vigésimo Tercer Circuito/ Zacatecas              </td><td>0</td><td> 0</td><td> 0</td><td>0</td></tr>\n",
              "\t<tr><td>Vigésimo Cuarto Circuito/ Nayarit                </td><td>0</td><td> 0</td><td> 0</td><td>0</td></tr>\n",
              "\t<tr><td>Vigésimo Quinto Circuito/ Durango                </td><td>0</td><td> 0</td><td> 0</td><td>0</td></tr>\n",
              "\t<tr><td>Vigésimo Sexto Circuito/ Baja California Sur     </td><td>0</td><td> 0</td><td> 0</td><td>0</td></tr>\n",
              "\t<tr><td>Vigésimo Séptimo Circuito/ Quintana Roo          </td><td>0</td><td> 0</td><td> 0</td><td>0</td></tr>\n",
              "\t<tr><td>Vigésimo Octavo Circuito/ Tlaxcala               </td><td>0</td><td> 0</td><td> 0</td><td>0</td></tr>\n",
              "\t<tr><td>Vigésimo Noveno Circuito/ Hidalgo                </td><td>0</td><td> 1</td><td> 1</td><td>0</td></tr>\n",
              "\t<tr><td>Trigésimo Circuito/ Aguascalientes               </td><td>0</td><td> 0</td><td> 0</td><td>0</td></tr>\n",
              "\t<tr><td>Trigésimo Primer Circuito/ Campeche              </td><td>0</td><td> 0</td><td> 0</td><td>0</td></tr>\n",
              "\t<tr><td>Trigésimo Segundo Circuito/ Colima               </td><td>0</td><td> 0</td><td> 0</td><td>0</td></tr>\n",
              "\t<tr><td>Total                                            </td><td>2</td><td>48</td><td>43</td><td>7</td></tr>\n",
              "</tbody>\n",
              "</table>\n"
            ]
          },
          "metadata": {
            "tags": []
          }
        }
      ]
    },
    {
      "cell_type": "code",
      "metadata": {
        "colab": {
          "base_uri": "https://localhost:8080/",
          "height": 1000
        },
        "id": "5g6DMnQ49ya7",
        "outputId": "0f0c9172-e1e3-4651-cc2c-34baffa17c63"
      },
      "source": [
        "#procesos federales administrativos y civiles en segunda instancia\n",
        "#Queja\n",
        "cubo %>%\n",
        "filter(tp_organo == \"Tribunales Unitarios de Circuito\") %>%\n",
        "filter(tp_asunto == \"procesos federales administrativos y civiles en segunda instancia\") %>%\n",
        "filter(tp_procedimiento == \"Queja\") %>%\n",
        "mutate(egresos = egresos + egresos_acuerdo) %>% # egresos + egresos por acuerdo?\n",
        "select(circuito,  existencia_inicial, ingresos, egresos, Existencia_final) %>%\n",
        "mutate(circuito = factor(circuito, levels = orden_circuitos)) %>%\n",
        "group_by(circuito) %>%\n",
        "summarise_all(list(sum))%>%\n",
        "filter(!is.na(existencia_inicial))  %>%\n",
        "adorn_totals()"
      ],
      "execution_count": null,
      "outputs": [
        {
          "output_type": "display_data",
          "data": {
            "text/plain": [
              "   circuito                                          existencia_inicial\n",
              "1  Primer Circuito/ Ciudad de México                 0                 \n",
              "2  Segundo Circuito/ México                          0                 \n",
              "3  Tercer Circuito/ Jalisco                          0                 \n",
              "4  Cuarto Circuito/ Nuevo León                       0                 \n",
              "5  Quinto Circuito/ Sonora                           0                 \n",
              "6  Sexto Circuito/ Puebla                            0                 \n",
              "7  Séptimo Circuito/ Veracruz de Ignacio de la Llave 0                 \n",
              "8  Octavo Circuito/ Coahuila de Zaragoza             0                 \n",
              "9  Noveno Circuito/ San Luis Potosí                  0                 \n",
              "10 Décimo Circuito/ Tabasco-Veracruz                 0                 \n",
              "11 Decimoprimer Circuito/ Michoacán de Ocampo        0                 \n",
              "12 Decimosegundo Circuito/ Sinaloa                   0                 \n",
              "13 Decimotercer Circuito/ Oaxaca                     0                 \n",
              "14 Decimocuarto Circuito/ Yucatán                    0                 \n",
              "15 Decimoquinto Circuito/ Baja California            0                 \n",
              "16 Decimosexto Circuito/ Guanajuato                  0                 \n",
              "17 Decimoséptimo Circuito/ Chihuahua                 0                 \n",
              "18 Decimoctavo Circuito/ Morelos                     0                 \n",
              "19 Decimonoveno Circuito/ Tamaulipas                 0                 \n",
              "20 Vigésimo Circuito/ Chiapas                        0                 \n",
              "21 Vigésimo Primer Circuito/ Guerrero                0                 \n",
              "22 Vigésimo Segundo Circuito/ Querétaro              0                 \n",
              "23 Vigésimo Tercer Circuito/ Zacatecas               0                 \n",
              "24 Vigésimo Cuarto Circuito/ Nayarit                 0                 \n",
              "25 Vigésimo Quinto Circuito/ Durango                 0                 \n",
              "26 Vigésimo Sexto Circuito/ Baja California Sur      0                 \n",
              "27 Vigésimo Séptimo Circuito/ Quintana Roo           0                 \n",
              "28 Vigésimo Octavo Circuito/ Tlaxcala                0                 \n",
              "29 Vigésimo Noveno Circuito/ Hidalgo                 0                 \n",
              "30 Trigésimo Circuito/ Aguascalientes                0                 \n",
              "31 Trigésimo Primer Circuito/ Campeche               0                 \n",
              "32 Trigésimo Segundo Circuito/ Colima                0                 \n",
              "33 Total                                             0                 \n",
              "   ingresos egresos Existencia_final\n",
              "1  0        0       0               \n",
              "2  0        0       0               \n",
              "3  0        0       0               \n",
              "4  0        0       0               \n",
              "5  0        0       0               \n",
              "6  0        0       0               \n",
              "7  0        0       0               \n",
              "8  0        0       0               \n",
              "9  0        0       0               \n",
              "10 0        0       0               \n",
              "11 0        0       0               \n",
              "12 0        0       0               \n",
              "13 0        0       0               \n",
              "14 0        0       0               \n",
              "15 0        0       0               \n",
              "16 0        0       0               \n",
              "17 0        0       0               \n",
              "18 0        0       0               \n",
              "19 0        0       0               \n",
              "20 0        0       0               \n",
              "21 0        0       0               \n",
              "22 0        0       0               \n",
              "23 0        0       0               \n",
              "24 0        0       0               \n",
              "25 0        0       0               \n",
              "26 0        0       0               \n",
              "27 0        0       0               \n",
              "28 0        0       0               \n",
              "29 0        0       0               \n",
              "30 0        0       0               \n",
              "31 0        0       0               \n",
              "32 0        0       0               \n",
              "33 0        0       0               "
            ],
            "text/latex": "A tabyl: 33 × 5\n\\begin{tabular}{lllll}\n circuito & existencia\\_inicial & ingresos & egresos & Existencia\\_final\\\\\n <chr> & <int> & <int> & <int> & <int>\\\\\n\\hline\n\t Primer Circuito/ Ciudad de México                 & 0 & 0 & 0 & 0\\\\\n\t Segundo Circuito/ México                          & 0 & 0 & 0 & 0\\\\\n\t Tercer Circuito/ Jalisco                          & 0 & 0 & 0 & 0\\\\\n\t Cuarto Circuito/ Nuevo León                       & 0 & 0 & 0 & 0\\\\\n\t Quinto Circuito/ Sonora                           & 0 & 0 & 0 & 0\\\\\n\t Sexto Circuito/ Puebla                            & 0 & 0 & 0 & 0\\\\\n\t Séptimo Circuito/ Veracruz de Ignacio de la Llave & 0 & 0 & 0 & 0\\\\\n\t Octavo Circuito/ Coahuila de Zaragoza             & 0 & 0 & 0 & 0\\\\\n\t Noveno Circuito/ San Luis Potosí                  & 0 & 0 & 0 & 0\\\\\n\t Décimo Circuito/ Tabasco-Veracruz                 & 0 & 0 & 0 & 0\\\\\n\t Decimoprimer Circuito/ Michoacán de Ocampo        & 0 & 0 & 0 & 0\\\\\n\t Decimosegundo Circuito/ Sinaloa                   & 0 & 0 & 0 & 0\\\\\n\t Decimotercer Circuito/ Oaxaca                     & 0 & 0 & 0 & 0\\\\\n\t Decimocuarto Circuito/ Yucatán                    & 0 & 0 & 0 & 0\\\\\n\t Decimoquinto Circuito/ Baja California            & 0 & 0 & 0 & 0\\\\\n\t Decimosexto Circuito/ Guanajuato                  & 0 & 0 & 0 & 0\\\\\n\t Decimoséptimo Circuito/ Chihuahua                 & 0 & 0 & 0 & 0\\\\\n\t Decimoctavo Circuito/ Morelos                     & 0 & 0 & 0 & 0\\\\\n\t Decimonoveno Circuito/ Tamaulipas                 & 0 & 0 & 0 & 0\\\\\n\t Vigésimo Circuito/ Chiapas                        & 0 & 0 & 0 & 0\\\\\n\t Vigésimo Primer Circuito/ Guerrero                & 0 & 0 & 0 & 0\\\\\n\t Vigésimo Segundo Circuito/ Querétaro              & 0 & 0 & 0 & 0\\\\\n\t Vigésimo Tercer Circuito/ Zacatecas               & 0 & 0 & 0 & 0\\\\\n\t Vigésimo Cuarto Circuito/ Nayarit                 & 0 & 0 & 0 & 0\\\\\n\t Vigésimo Quinto Circuito/ Durango                 & 0 & 0 & 0 & 0\\\\\n\t Vigésimo Sexto Circuito/ Baja California Sur      & 0 & 0 & 0 & 0\\\\\n\t Vigésimo Séptimo Circuito/ Quintana Roo           & 0 & 0 & 0 & 0\\\\\n\t Vigésimo Octavo Circuito/ Tlaxcala                & 0 & 0 & 0 & 0\\\\\n\t Vigésimo Noveno Circuito/ Hidalgo                 & 0 & 0 & 0 & 0\\\\\n\t Trigésimo Circuito/ Aguascalientes                & 0 & 0 & 0 & 0\\\\\n\t Trigésimo Primer Circuito/ Campeche               & 0 & 0 & 0 & 0\\\\\n\t Trigésimo Segundo Circuito/ Colima                & 0 & 0 & 0 & 0\\\\\n\t Total                                             & 0 & 0 & 0 & 0\\\\\n\\end{tabular}\n",
            "text/markdown": "\nA tabyl: 33 × 5\n\n| circuito &lt;chr&gt; | existencia_inicial &lt;int&gt; | ingresos &lt;int&gt; | egresos &lt;int&gt; | Existencia_final &lt;int&gt; |\n|---|---|---|---|---|\n| Primer Circuito/ Ciudad de México                 | 0 | 0 | 0 | 0 |\n| Segundo Circuito/ México                          | 0 | 0 | 0 | 0 |\n| Tercer Circuito/ Jalisco                          | 0 | 0 | 0 | 0 |\n| Cuarto Circuito/ Nuevo León                       | 0 | 0 | 0 | 0 |\n| Quinto Circuito/ Sonora                           | 0 | 0 | 0 | 0 |\n| Sexto Circuito/ Puebla                            | 0 | 0 | 0 | 0 |\n| Séptimo Circuito/ Veracruz de Ignacio de la Llave | 0 | 0 | 0 | 0 |\n| Octavo Circuito/ Coahuila de Zaragoza             | 0 | 0 | 0 | 0 |\n| Noveno Circuito/ San Luis Potosí                  | 0 | 0 | 0 | 0 |\n| Décimo Circuito/ Tabasco-Veracruz                 | 0 | 0 | 0 | 0 |\n| Decimoprimer Circuito/ Michoacán de Ocampo        | 0 | 0 | 0 | 0 |\n| Decimosegundo Circuito/ Sinaloa                   | 0 | 0 | 0 | 0 |\n| Decimotercer Circuito/ Oaxaca                     | 0 | 0 | 0 | 0 |\n| Decimocuarto Circuito/ Yucatán                    | 0 | 0 | 0 | 0 |\n| Decimoquinto Circuito/ Baja California            | 0 | 0 | 0 | 0 |\n| Decimosexto Circuito/ Guanajuato                  | 0 | 0 | 0 | 0 |\n| Decimoséptimo Circuito/ Chihuahua                 | 0 | 0 | 0 | 0 |\n| Decimoctavo Circuito/ Morelos                     | 0 | 0 | 0 | 0 |\n| Decimonoveno Circuito/ Tamaulipas                 | 0 | 0 | 0 | 0 |\n| Vigésimo Circuito/ Chiapas                        | 0 | 0 | 0 | 0 |\n| Vigésimo Primer Circuito/ Guerrero                | 0 | 0 | 0 | 0 |\n| Vigésimo Segundo Circuito/ Querétaro              | 0 | 0 | 0 | 0 |\n| Vigésimo Tercer Circuito/ Zacatecas               | 0 | 0 | 0 | 0 |\n| Vigésimo Cuarto Circuito/ Nayarit                 | 0 | 0 | 0 | 0 |\n| Vigésimo Quinto Circuito/ Durango                 | 0 | 0 | 0 | 0 |\n| Vigésimo Sexto Circuito/ Baja California Sur      | 0 | 0 | 0 | 0 |\n| Vigésimo Séptimo Circuito/ Quintana Roo           | 0 | 0 | 0 | 0 |\n| Vigésimo Octavo Circuito/ Tlaxcala                | 0 | 0 | 0 | 0 |\n| Vigésimo Noveno Circuito/ Hidalgo                 | 0 | 0 | 0 | 0 |\n| Trigésimo Circuito/ Aguascalientes                | 0 | 0 | 0 | 0 |\n| Trigésimo Primer Circuito/ Campeche               | 0 | 0 | 0 | 0 |\n| Trigésimo Segundo Circuito/ Colima                | 0 | 0 | 0 | 0 |\n| Total                                             | 0 | 0 | 0 | 0 |\n\n",
            "text/html": [
              "<table class=\"dataframe\">\n",
              "<caption>A tabyl: 33 × 5</caption>\n",
              "<thead>\n",
              "\t<tr><th scope=col>circuito</th><th scope=col>existencia_inicial</th><th scope=col>ingresos</th><th scope=col>egresos</th><th scope=col>Existencia_final</th></tr>\n",
              "\t<tr><th scope=col>&lt;chr&gt;</th><th scope=col>&lt;int&gt;</th><th scope=col>&lt;int&gt;</th><th scope=col>&lt;int&gt;</th><th scope=col>&lt;int&gt;</th></tr>\n",
              "</thead>\n",
              "<tbody>\n",
              "\t<tr><td>Primer Circuito/ Ciudad de México                </td><td>0</td><td>0</td><td>0</td><td>0</td></tr>\n",
              "\t<tr><td>Segundo Circuito/ México                         </td><td>0</td><td>0</td><td>0</td><td>0</td></tr>\n",
              "\t<tr><td>Tercer Circuito/ Jalisco                         </td><td>0</td><td>0</td><td>0</td><td>0</td></tr>\n",
              "\t<tr><td>Cuarto Circuito/ Nuevo León                      </td><td>0</td><td>0</td><td>0</td><td>0</td></tr>\n",
              "\t<tr><td>Quinto Circuito/ Sonora                          </td><td>0</td><td>0</td><td>0</td><td>0</td></tr>\n",
              "\t<tr><td>Sexto Circuito/ Puebla                           </td><td>0</td><td>0</td><td>0</td><td>0</td></tr>\n",
              "\t<tr><td>Séptimo Circuito/ Veracruz de Ignacio de la Llave</td><td>0</td><td>0</td><td>0</td><td>0</td></tr>\n",
              "\t<tr><td>Octavo Circuito/ Coahuila de Zaragoza            </td><td>0</td><td>0</td><td>0</td><td>0</td></tr>\n",
              "\t<tr><td>Noveno Circuito/ San Luis Potosí                 </td><td>0</td><td>0</td><td>0</td><td>0</td></tr>\n",
              "\t<tr><td>Décimo Circuito/ Tabasco-Veracruz                </td><td>0</td><td>0</td><td>0</td><td>0</td></tr>\n",
              "\t<tr><td>Decimoprimer Circuito/ Michoacán de Ocampo       </td><td>0</td><td>0</td><td>0</td><td>0</td></tr>\n",
              "\t<tr><td>Decimosegundo Circuito/ Sinaloa                  </td><td>0</td><td>0</td><td>0</td><td>0</td></tr>\n",
              "\t<tr><td>Decimotercer Circuito/ Oaxaca                    </td><td>0</td><td>0</td><td>0</td><td>0</td></tr>\n",
              "\t<tr><td>Decimocuarto Circuito/ Yucatán                   </td><td>0</td><td>0</td><td>0</td><td>0</td></tr>\n",
              "\t<tr><td>Decimoquinto Circuito/ Baja California           </td><td>0</td><td>0</td><td>0</td><td>0</td></tr>\n",
              "\t<tr><td>Decimosexto Circuito/ Guanajuato                 </td><td>0</td><td>0</td><td>0</td><td>0</td></tr>\n",
              "\t<tr><td>Decimoséptimo Circuito/ Chihuahua                </td><td>0</td><td>0</td><td>0</td><td>0</td></tr>\n",
              "\t<tr><td>Decimoctavo Circuito/ Morelos                    </td><td>0</td><td>0</td><td>0</td><td>0</td></tr>\n",
              "\t<tr><td>Decimonoveno Circuito/ Tamaulipas                </td><td>0</td><td>0</td><td>0</td><td>0</td></tr>\n",
              "\t<tr><td>Vigésimo Circuito/ Chiapas                       </td><td>0</td><td>0</td><td>0</td><td>0</td></tr>\n",
              "\t<tr><td>Vigésimo Primer Circuito/ Guerrero               </td><td>0</td><td>0</td><td>0</td><td>0</td></tr>\n",
              "\t<tr><td>Vigésimo Segundo Circuito/ Querétaro             </td><td>0</td><td>0</td><td>0</td><td>0</td></tr>\n",
              "\t<tr><td>Vigésimo Tercer Circuito/ Zacatecas              </td><td>0</td><td>0</td><td>0</td><td>0</td></tr>\n",
              "\t<tr><td>Vigésimo Cuarto Circuito/ Nayarit                </td><td>0</td><td>0</td><td>0</td><td>0</td></tr>\n",
              "\t<tr><td>Vigésimo Quinto Circuito/ Durango                </td><td>0</td><td>0</td><td>0</td><td>0</td></tr>\n",
              "\t<tr><td>Vigésimo Sexto Circuito/ Baja California Sur     </td><td>0</td><td>0</td><td>0</td><td>0</td></tr>\n",
              "\t<tr><td>Vigésimo Séptimo Circuito/ Quintana Roo          </td><td>0</td><td>0</td><td>0</td><td>0</td></tr>\n",
              "\t<tr><td>Vigésimo Octavo Circuito/ Tlaxcala               </td><td>0</td><td>0</td><td>0</td><td>0</td></tr>\n",
              "\t<tr><td>Vigésimo Noveno Circuito/ Hidalgo                </td><td>0</td><td>0</td><td>0</td><td>0</td></tr>\n",
              "\t<tr><td>Trigésimo Circuito/ Aguascalientes               </td><td>0</td><td>0</td><td>0</td><td>0</td></tr>\n",
              "\t<tr><td>Trigésimo Primer Circuito/ Campeche              </td><td>0</td><td>0</td><td>0</td><td>0</td></tr>\n",
              "\t<tr><td>Trigésimo Segundo Circuito/ Colima               </td><td>0</td><td>0</td><td>0</td><td>0</td></tr>\n",
              "\t<tr><td>Total                                            </td><td>0</td><td>0</td><td>0</td><td>0</td></tr>\n",
              "</tbody>\n",
              "</table>\n"
            ]
          },
          "metadata": {
            "tags": []
          }
        }
      ]
    },
    {
      "cell_type": "code",
      "metadata": {
        "colab": {
          "base_uri": "https://localhost:8080/",
          "height": 1000
        },
        "id": "dM5TjqPs91CZ",
        "outputId": "f5de63e5-da8b-4af0-e468-0afea321193e"
      },
      "source": [
        "#procesos federales administrativos y civiles en segunda instancia\n",
        "#Competencia entre jueces\n",
        "cubo %>%\n",
        "filter(tp_organo == \"Tribunales Unitarios de Circuito\") %>%\n",
        "filter(tp_asunto == \"procesos federales administrativos y civiles en segunda instancia\") %>%\n",
        "filter(tp_procedimiento == \"Competencia entre jueces\") %>%\n",
        "mutate(egresos = egresos + egresos_acuerdo) %>% # egresos + egresos por acuerdo?\n",
        "select(circuito,  existencia_inicial, ingresos, egresos, Existencia_final) %>%\n",
        "mutate(circuito = factor(circuito, levels = orden_circuitos)) %>%\n",
        "group_by(circuito) %>%\n",
        "summarise_all(list(sum))%>%\n",
        "filter(!is.na(existencia_inicial))  %>%\n",
        "adorn_totals()"
      ],
      "execution_count": null,
      "outputs": [
        {
          "output_type": "display_data",
          "data": {
            "text/plain": [
              "   circuito                                          existencia_inicial\n",
              "1  Primer Circuito/ Ciudad de México                  7                \n",
              "2  Segundo Circuito/ México                           0                \n",
              "3  Tercer Circuito/ Jalisco                           0                \n",
              "4  Cuarto Circuito/ Nuevo León                        0                \n",
              "5  Quinto Circuito/ Sonora                            0                \n",
              "6  Sexto Circuito/ Puebla                            10                \n",
              "7  Séptimo Circuito/ Veracruz de Ignacio de la Llave  6                \n",
              "8  Octavo Circuito/ Coahuila de Zaragoza              0                \n",
              "9  Noveno Circuito/ San Luis Potosí                   3                \n",
              "10 Décimo Circuito/ Tabasco-Veracruz                  0                \n",
              "11 Decimoprimer Circuito/ Michoacán de Ocampo         0                \n",
              "12 Decimosegundo Circuito/ Sinaloa                    0                \n",
              "13 Decimotercer Circuito/ Oaxaca                      0                \n",
              "14 Decimocuarto Circuito/ Yucatán                     0                \n",
              "15 Decimoquinto Circuito/ Baja California             0                \n",
              "16 Decimosexto Circuito/ Guanajuato                   0                \n",
              "17 Decimoséptimo Circuito/ Chihuahua                  0                \n",
              "18 Decimoctavo Circuito/ Morelos                      0                \n",
              "19 Decimonoveno Circuito/ Tamaulipas                  0                \n",
              "20 Vigésimo Circuito/ Chiapas                         0                \n",
              "21 Vigésimo Primer Circuito/ Guerrero                 0                \n",
              "22 Vigésimo Segundo Circuito/ Querétaro               0                \n",
              "23 Vigésimo Tercer Circuito/ Zacatecas                0                \n",
              "24 Vigésimo Cuarto Circuito/ Nayarit                  0                \n",
              "25 Vigésimo Quinto Circuito/ Durango                  0                \n",
              "26 Vigésimo Sexto Circuito/ Baja California Sur       0                \n",
              "27 Vigésimo Séptimo Circuito/ Quintana Roo            0                \n",
              "28 Vigésimo Octavo Circuito/ Tlaxcala                 0                \n",
              "29 Vigésimo Noveno Circuito/ Hidalgo                  0                \n",
              "30 Trigésimo Circuito/ Aguascalientes                 1                \n",
              "31 Trigésimo Primer Circuito/ Campeche                0                \n",
              "32 Trigésimo Segundo Circuito/ Colima                 0                \n",
              "33 Total                                             27                \n",
              "   ingresos egresos Existencia_final\n",
              "1  21       24       4              \n",
              "2   0        0       0              \n",
              "3   2        2       0              \n",
              "4   0        0       0              \n",
              "5   0        0       0              \n",
              "6  16       20       6              \n",
              "7   9       15       0              \n",
              "8   2        2       0              \n",
              "9   2        4       1              \n",
              "10  1        0       1              \n",
              "11  0        0       0              \n",
              "12  1        1       0              \n",
              "13  0        0       0              \n",
              "14  0        0       0              \n",
              "15  3        3       0              \n",
              "16  1        1       0              \n",
              "17  0        0       0              \n",
              "18  0        0       0              \n",
              "19  0        0       0              \n",
              "20  1        0       1              \n",
              "21  6        5       1              \n",
              "22  0        0       0              \n",
              "23  0        0       0              \n",
              "24  2        2       0              \n",
              "25  0        0       0              \n",
              "26  0        0       0              \n",
              "27  2        1       1              \n",
              "28  0        0       0              \n",
              "29  0        0       0              \n",
              "30  0        1       0              \n",
              "31  0        0       0              \n",
              "32  0        0       0              \n",
              "33 69       81      15              "
            ],
            "text/latex": "A tabyl: 33 × 5\n\\begin{tabular}{lllll}\n circuito & existencia\\_inicial & ingresos & egresos & Existencia\\_final\\\\\n <chr> & <int> & <int> & <int> & <int>\\\\\n\\hline\n\t Primer Circuito/ Ciudad de México                 &  7 & 21 & 24 &  4\\\\\n\t Segundo Circuito/ México                          &  0 &  0 &  0 &  0\\\\\n\t Tercer Circuito/ Jalisco                          &  0 &  2 &  2 &  0\\\\\n\t Cuarto Circuito/ Nuevo León                       &  0 &  0 &  0 &  0\\\\\n\t Quinto Circuito/ Sonora                           &  0 &  0 &  0 &  0\\\\\n\t Sexto Circuito/ Puebla                            & 10 & 16 & 20 &  6\\\\\n\t Séptimo Circuito/ Veracruz de Ignacio de la Llave &  6 &  9 & 15 &  0\\\\\n\t Octavo Circuito/ Coahuila de Zaragoza             &  0 &  2 &  2 &  0\\\\\n\t Noveno Circuito/ San Luis Potosí                  &  3 &  2 &  4 &  1\\\\\n\t Décimo Circuito/ Tabasco-Veracruz                 &  0 &  1 &  0 &  1\\\\\n\t Decimoprimer Circuito/ Michoacán de Ocampo        &  0 &  0 &  0 &  0\\\\\n\t Decimosegundo Circuito/ Sinaloa                   &  0 &  1 &  1 &  0\\\\\n\t Decimotercer Circuito/ Oaxaca                     &  0 &  0 &  0 &  0\\\\\n\t Decimocuarto Circuito/ Yucatán                    &  0 &  0 &  0 &  0\\\\\n\t Decimoquinto Circuito/ Baja California            &  0 &  3 &  3 &  0\\\\\n\t Decimosexto Circuito/ Guanajuato                  &  0 &  1 &  1 &  0\\\\\n\t Decimoséptimo Circuito/ Chihuahua                 &  0 &  0 &  0 &  0\\\\\n\t Decimoctavo Circuito/ Morelos                     &  0 &  0 &  0 &  0\\\\\n\t Decimonoveno Circuito/ Tamaulipas                 &  0 &  0 &  0 &  0\\\\\n\t Vigésimo Circuito/ Chiapas                        &  0 &  1 &  0 &  1\\\\\n\t Vigésimo Primer Circuito/ Guerrero                &  0 &  6 &  5 &  1\\\\\n\t Vigésimo Segundo Circuito/ Querétaro              &  0 &  0 &  0 &  0\\\\\n\t Vigésimo Tercer Circuito/ Zacatecas               &  0 &  0 &  0 &  0\\\\\n\t Vigésimo Cuarto Circuito/ Nayarit                 &  0 &  2 &  2 &  0\\\\\n\t Vigésimo Quinto Circuito/ Durango                 &  0 &  0 &  0 &  0\\\\\n\t Vigésimo Sexto Circuito/ Baja California Sur      &  0 &  0 &  0 &  0\\\\\n\t Vigésimo Séptimo Circuito/ Quintana Roo           &  0 &  2 &  1 &  1\\\\\n\t Vigésimo Octavo Circuito/ Tlaxcala                &  0 &  0 &  0 &  0\\\\\n\t Vigésimo Noveno Circuito/ Hidalgo                 &  0 &  0 &  0 &  0\\\\\n\t Trigésimo Circuito/ Aguascalientes                &  1 &  0 &  1 &  0\\\\\n\t Trigésimo Primer Circuito/ Campeche               &  0 &  0 &  0 &  0\\\\\n\t Trigésimo Segundo Circuito/ Colima                &  0 &  0 &  0 &  0\\\\\n\t Total                                             & 27 & 69 & 81 & 15\\\\\n\\end{tabular}\n",
            "text/markdown": "\nA tabyl: 33 × 5\n\n| circuito &lt;chr&gt; | existencia_inicial &lt;int&gt; | ingresos &lt;int&gt; | egresos &lt;int&gt; | Existencia_final &lt;int&gt; |\n|---|---|---|---|---|\n| Primer Circuito/ Ciudad de México                 |  7 | 21 | 24 |  4 |\n| Segundo Circuito/ México                          |  0 |  0 |  0 |  0 |\n| Tercer Circuito/ Jalisco                          |  0 |  2 |  2 |  0 |\n| Cuarto Circuito/ Nuevo León                       |  0 |  0 |  0 |  0 |\n| Quinto Circuito/ Sonora                           |  0 |  0 |  0 |  0 |\n| Sexto Circuito/ Puebla                            | 10 | 16 | 20 |  6 |\n| Séptimo Circuito/ Veracruz de Ignacio de la Llave |  6 |  9 | 15 |  0 |\n| Octavo Circuito/ Coahuila de Zaragoza             |  0 |  2 |  2 |  0 |\n| Noveno Circuito/ San Luis Potosí                  |  3 |  2 |  4 |  1 |\n| Décimo Circuito/ Tabasco-Veracruz                 |  0 |  1 |  0 |  1 |\n| Decimoprimer Circuito/ Michoacán de Ocampo        |  0 |  0 |  0 |  0 |\n| Decimosegundo Circuito/ Sinaloa                   |  0 |  1 |  1 |  0 |\n| Decimotercer Circuito/ Oaxaca                     |  0 |  0 |  0 |  0 |\n| Decimocuarto Circuito/ Yucatán                    |  0 |  0 |  0 |  0 |\n| Decimoquinto Circuito/ Baja California            |  0 |  3 |  3 |  0 |\n| Decimosexto Circuito/ Guanajuato                  |  0 |  1 |  1 |  0 |\n| Decimoséptimo Circuito/ Chihuahua                 |  0 |  0 |  0 |  0 |\n| Decimoctavo Circuito/ Morelos                     |  0 |  0 |  0 |  0 |\n| Decimonoveno Circuito/ Tamaulipas                 |  0 |  0 |  0 |  0 |\n| Vigésimo Circuito/ Chiapas                        |  0 |  1 |  0 |  1 |\n| Vigésimo Primer Circuito/ Guerrero                |  0 |  6 |  5 |  1 |\n| Vigésimo Segundo Circuito/ Querétaro              |  0 |  0 |  0 |  0 |\n| Vigésimo Tercer Circuito/ Zacatecas               |  0 |  0 |  0 |  0 |\n| Vigésimo Cuarto Circuito/ Nayarit                 |  0 |  2 |  2 |  0 |\n| Vigésimo Quinto Circuito/ Durango                 |  0 |  0 |  0 |  0 |\n| Vigésimo Sexto Circuito/ Baja California Sur      |  0 |  0 |  0 |  0 |\n| Vigésimo Séptimo Circuito/ Quintana Roo           |  0 |  2 |  1 |  1 |\n| Vigésimo Octavo Circuito/ Tlaxcala                |  0 |  0 |  0 |  0 |\n| Vigésimo Noveno Circuito/ Hidalgo                 |  0 |  0 |  0 |  0 |\n| Trigésimo Circuito/ Aguascalientes                |  1 |  0 |  1 |  0 |\n| Trigésimo Primer Circuito/ Campeche               |  0 |  0 |  0 |  0 |\n| Trigésimo Segundo Circuito/ Colima                |  0 |  0 |  0 |  0 |\n| Total                                             | 27 | 69 | 81 | 15 |\n\n",
            "text/html": [
              "<table class=\"dataframe\">\n",
              "<caption>A tabyl: 33 × 5</caption>\n",
              "<thead>\n",
              "\t<tr><th scope=col>circuito</th><th scope=col>existencia_inicial</th><th scope=col>ingresos</th><th scope=col>egresos</th><th scope=col>Existencia_final</th></tr>\n",
              "\t<tr><th scope=col>&lt;chr&gt;</th><th scope=col>&lt;int&gt;</th><th scope=col>&lt;int&gt;</th><th scope=col>&lt;int&gt;</th><th scope=col>&lt;int&gt;</th></tr>\n",
              "</thead>\n",
              "<tbody>\n",
              "\t<tr><td>Primer Circuito/ Ciudad de México                </td><td> 7</td><td>21</td><td>24</td><td> 4</td></tr>\n",
              "\t<tr><td>Segundo Circuito/ México                         </td><td> 0</td><td> 0</td><td> 0</td><td> 0</td></tr>\n",
              "\t<tr><td>Tercer Circuito/ Jalisco                         </td><td> 0</td><td> 2</td><td> 2</td><td> 0</td></tr>\n",
              "\t<tr><td>Cuarto Circuito/ Nuevo León                      </td><td> 0</td><td> 0</td><td> 0</td><td> 0</td></tr>\n",
              "\t<tr><td>Quinto Circuito/ Sonora                          </td><td> 0</td><td> 0</td><td> 0</td><td> 0</td></tr>\n",
              "\t<tr><td>Sexto Circuito/ Puebla                           </td><td>10</td><td>16</td><td>20</td><td> 6</td></tr>\n",
              "\t<tr><td>Séptimo Circuito/ Veracruz de Ignacio de la Llave</td><td> 6</td><td> 9</td><td>15</td><td> 0</td></tr>\n",
              "\t<tr><td>Octavo Circuito/ Coahuila de Zaragoza            </td><td> 0</td><td> 2</td><td> 2</td><td> 0</td></tr>\n",
              "\t<tr><td>Noveno Circuito/ San Luis Potosí                 </td><td> 3</td><td> 2</td><td> 4</td><td> 1</td></tr>\n",
              "\t<tr><td>Décimo Circuito/ Tabasco-Veracruz                </td><td> 0</td><td> 1</td><td> 0</td><td> 1</td></tr>\n",
              "\t<tr><td>Decimoprimer Circuito/ Michoacán de Ocampo       </td><td> 0</td><td> 0</td><td> 0</td><td> 0</td></tr>\n",
              "\t<tr><td>Decimosegundo Circuito/ Sinaloa                  </td><td> 0</td><td> 1</td><td> 1</td><td> 0</td></tr>\n",
              "\t<tr><td>Decimotercer Circuito/ Oaxaca                    </td><td> 0</td><td> 0</td><td> 0</td><td> 0</td></tr>\n",
              "\t<tr><td>Decimocuarto Circuito/ Yucatán                   </td><td> 0</td><td> 0</td><td> 0</td><td> 0</td></tr>\n",
              "\t<tr><td>Decimoquinto Circuito/ Baja California           </td><td> 0</td><td> 3</td><td> 3</td><td> 0</td></tr>\n",
              "\t<tr><td>Decimosexto Circuito/ Guanajuato                 </td><td> 0</td><td> 1</td><td> 1</td><td> 0</td></tr>\n",
              "\t<tr><td>Decimoséptimo Circuito/ Chihuahua                </td><td> 0</td><td> 0</td><td> 0</td><td> 0</td></tr>\n",
              "\t<tr><td>Decimoctavo Circuito/ Morelos                    </td><td> 0</td><td> 0</td><td> 0</td><td> 0</td></tr>\n",
              "\t<tr><td>Decimonoveno Circuito/ Tamaulipas                </td><td> 0</td><td> 0</td><td> 0</td><td> 0</td></tr>\n",
              "\t<tr><td>Vigésimo Circuito/ Chiapas                       </td><td> 0</td><td> 1</td><td> 0</td><td> 1</td></tr>\n",
              "\t<tr><td>Vigésimo Primer Circuito/ Guerrero               </td><td> 0</td><td> 6</td><td> 5</td><td> 1</td></tr>\n",
              "\t<tr><td>Vigésimo Segundo Circuito/ Querétaro             </td><td> 0</td><td> 0</td><td> 0</td><td> 0</td></tr>\n",
              "\t<tr><td>Vigésimo Tercer Circuito/ Zacatecas              </td><td> 0</td><td> 0</td><td> 0</td><td> 0</td></tr>\n",
              "\t<tr><td>Vigésimo Cuarto Circuito/ Nayarit                </td><td> 0</td><td> 2</td><td> 2</td><td> 0</td></tr>\n",
              "\t<tr><td>Vigésimo Quinto Circuito/ Durango                </td><td> 0</td><td> 0</td><td> 0</td><td> 0</td></tr>\n",
              "\t<tr><td>Vigésimo Sexto Circuito/ Baja California Sur     </td><td> 0</td><td> 0</td><td> 0</td><td> 0</td></tr>\n",
              "\t<tr><td>Vigésimo Séptimo Circuito/ Quintana Roo          </td><td> 0</td><td> 2</td><td> 1</td><td> 1</td></tr>\n",
              "\t<tr><td>Vigésimo Octavo Circuito/ Tlaxcala               </td><td> 0</td><td> 0</td><td> 0</td><td> 0</td></tr>\n",
              "\t<tr><td>Vigésimo Noveno Circuito/ Hidalgo                </td><td> 0</td><td> 0</td><td> 0</td><td> 0</td></tr>\n",
              "\t<tr><td>Trigésimo Circuito/ Aguascalientes               </td><td> 1</td><td> 0</td><td> 1</td><td> 0</td></tr>\n",
              "\t<tr><td>Trigésimo Primer Circuito/ Campeche              </td><td> 0</td><td> 0</td><td> 0</td><td> 0</td></tr>\n",
              "\t<tr><td>Trigésimo Segundo Circuito/ Colima               </td><td> 0</td><td> 0</td><td> 0</td><td> 0</td></tr>\n",
              "\t<tr><td>Total                                            </td><td>27</td><td>69</td><td>81</td><td>15</td></tr>\n",
              "</tbody>\n",
              "</table>\n"
            ]
          },
          "metadata": {
            "tags": []
          }
        }
      ]
    },
    {
      "cell_type": "code",
      "metadata": {
        "colab": {
          "base_uri": "https://localhost:8080/",
          "height": 1000
        },
        "id": "cr5tZDMI99Iv",
        "outputId": "f3fac6ec-9d4c-4d8e-9e4a-cd229e752297"
      },
      "source": [
        "#procesos federales administrativos y civiles en segunda instancia\n",
        "#Conflicto de acumulación\n",
        "cubo %>%\n",
        "filter(tp_organo == \"Tribunales Unitarios de Circuito\") %>%\n",
        "filter(tp_asunto == \"procesos federales administrativos y civiles en segunda instancia\") %>%\n",
        "filter(tp_procedimiento == \"Conflicto de Acumulación\" | tp_procedimiento ==\"Conflicto de acumulación\" | tp_procedimiento ==\"Conflicto De acumulación\") %>%\n",
        "mutate(egresos = egresos + egresos_acuerdo) %>% # egresos + egresos por acuerdo?\n",
        "select(circuito,  existencia_inicial, ingresos, egresos, Existencia_final) %>%\n",
        "mutate(circuito = factor(circuito, levels = orden_circuitos)) %>%\n",
        "group_by(circuito) %>%\n",
        "summarise_all(list(sum))%>%\n",
        "filter(!is.na(existencia_inicial))  %>%\n",
        "adorn_totals()"
      ],
      "execution_count": null,
      "outputs": [
        {
          "output_type": "display_data",
          "data": {
            "text/plain": [
              "   circuito                                          existencia_inicial\n",
              "1  Primer Circuito/ Ciudad de México                 1                 \n",
              "2  Segundo Circuito/ México                          0                 \n",
              "3  Tercer Circuito/ Jalisco                          0                 \n",
              "4  Cuarto Circuito/ Nuevo León                       0                 \n",
              "5  Quinto Circuito/ Sonora                           0                 \n",
              "6  Sexto Circuito/ Puebla                            0                 \n",
              "7  Séptimo Circuito/ Veracruz de Ignacio de la Llave 0                 \n",
              "8  Octavo Circuito/ Coahuila de Zaragoza             0                 \n",
              "9  Noveno Circuito/ San Luis Potosí                  0                 \n",
              "10 Décimo Circuito/ Tabasco-Veracruz                 0                 \n",
              "11 Decimoprimer Circuito/ Michoacán de Ocampo        0                 \n",
              "12 Decimosegundo Circuito/ Sinaloa                   0                 \n",
              "13 Decimotercer Circuito/ Oaxaca                     0                 \n",
              "14 Decimocuarto Circuito/ Yucatán                    0                 \n",
              "15 Decimoquinto Circuito/ Baja California            0                 \n",
              "16 Decimosexto Circuito/ Guanajuato                  0                 \n",
              "17 Decimoséptimo Circuito/ Chihuahua                 0                 \n",
              "18 Decimoctavo Circuito/ Morelos                     0                 \n",
              "19 Decimonoveno Circuito/ Tamaulipas                 0                 \n",
              "20 Vigésimo Circuito/ Chiapas                        0                 \n",
              "21 Vigésimo Primer Circuito/ Guerrero                0                 \n",
              "22 Vigésimo Segundo Circuito/ Querétaro              0                 \n",
              "23 Vigésimo Tercer Circuito/ Zacatecas               0                 \n",
              "24 Vigésimo Cuarto Circuito/ Nayarit                 0                 \n",
              "25 Vigésimo Quinto Circuito/ Durango                 0                 \n",
              "26 Vigésimo Sexto Circuito/ Baja California Sur      0                 \n",
              "27 Vigésimo Séptimo Circuito/ Quintana Roo           0                 \n",
              "28 Vigésimo Octavo Circuito/ Tlaxcala                0                 \n",
              "29 Vigésimo Noveno Circuito/ Hidalgo                 0                 \n",
              "30 Trigésimo Circuito/ Aguascalientes                0                 \n",
              "31 Trigésimo Primer Circuito/ Campeche               0                 \n",
              "32 Trigésimo Segundo Circuito/ Colima                0                 \n",
              "33 Total                                             1                 \n",
              "   ingresos egresos Existencia_final\n",
              "1  0        1       0               \n",
              "2  0        0       0               \n",
              "3  0        0       0               \n",
              "4  0        0       0               \n",
              "5  0        0       0               \n",
              "6  0        0       0               \n",
              "7  0        0       0               \n",
              "8  0        0       0               \n",
              "9  0        0       0               \n",
              "10 0        0       0               \n",
              "11 0        0       0               \n",
              "12 0        0       0               \n",
              "13 0        0       0               \n",
              "14 0        0       0               \n",
              "15 0        0       0               \n",
              "16 0        0       0               \n",
              "17 0        0       0               \n",
              "18 0        0       0               \n",
              "19 0        0       0               \n",
              "20 0        0       0               \n",
              "21 1        1       0               \n",
              "22 0        0       0               \n",
              "23 0        0       0               \n",
              "24 0        0       0               \n",
              "25 0        0       0               \n",
              "26 0        0       0               \n",
              "27 0        0       0               \n",
              "28 0        0       0               \n",
              "29 0        0       0               \n",
              "30 0        0       0               \n",
              "31 0        0       0               \n",
              "32 0        0       0               \n",
              "33 1        2       0               "
            ],
            "text/latex": "A tabyl: 33 × 5\n\\begin{tabular}{lllll}\n circuito & existencia\\_inicial & ingresos & egresos & Existencia\\_final\\\\\n <chr> & <int> & <int> & <int> & <int>\\\\\n\\hline\n\t Primer Circuito/ Ciudad de México                 & 1 & 0 & 1 & 0\\\\\n\t Segundo Circuito/ México                          & 0 & 0 & 0 & 0\\\\\n\t Tercer Circuito/ Jalisco                          & 0 & 0 & 0 & 0\\\\\n\t Cuarto Circuito/ Nuevo León                       & 0 & 0 & 0 & 0\\\\\n\t Quinto Circuito/ Sonora                           & 0 & 0 & 0 & 0\\\\\n\t Sexto Circuito/ Puebla                            & 0 & 0 & 0 & 0\\\\\n\t Séptimo Circuito/ Veracruz de Ignacio de la Llave & 0 & 0 & 0 & 0\\\\\n\t Octavo Circuito/ Coahuila de Zaragoza             & 0 & 0 & 0 & 0\\\\\n\t Noveno Circuito/ San Luis Potosí                  & 0 & 0 & 0 & 0\\\\\n\t Décimo Circuito/ Tabasco-Veracruz                 & 0 & 0 & 0 & 0\\\\\n\t Decimoprimer Circuito/ Michoacán de Ocampo        & 0 & 0 & 0 & 0\\\\\n\t Decimosegundo Circuito/ Sinaloa                   & 0 & 0 & 0 & 0\\\\\n\t Decimotercer Circuito/ Oaxaca                     & 0 & 0 & 0 & 0\\\\\n\t Decimocuarto Circuito/ Yucatán                    & 0 & 0 & 0 & 0\\\\\n\t Decimoquinto Circuito/ Baja California            & 0 & 0 & 0 & 0\\\\\n\t Decimosexto Circuito/ Guanajuato                  & 0 & 0 & 0 & 0\\\\\n\t Decimoséptimo Circuito/ Chihuahua                 & 0 & 0 & 0 & 0\\\\\n\t Decimoctavo Circuito/ Morelos                     & 0 & 0 & 0 & 0\\\\\n\t Decimonoveno Circuito/ Tamaulipas                 & 0 & 0 & 0 & 0\\\\\n\t Vigésimo Circuito/ Chiapas                        & 0 & 0 & 0 & 0\\\\\n\t Vigésimo Primer Circuito/ Guerrero                & 0 & 1 & 1 & 0\\\\\n\t Vigésimo Segundo Circuito/ Querétaro              & 0 & 0 & 0 & 0\\\\\n\t Vigésimo Tercer Circuito/ Zacatecas               & 0 & 0 & 0 & 0\\\\\n\t Vigésimo Cuarto Circuito/ Nayarit                 & 0 & 0 & 0 & 0\\\\\n\t Vigésimo Quinto Circuito/ Durango                 & 0 & 0 & 0 & 0\\\\\n\t Vigésimo Sexto Circuito/ Baja California Sur      & 0 & 0 & 0 & 0\\\\\n\t Vigésimo Séptimo Circuito/ Quintana Roo           & 0 & 0 & 0 & 0\\\\\n\t Vigésimo Octavo Circuito/ Tlaxcala                & 0 & 0 & 0 & 0\\\\\n\t Vigésimo Noveno Circuito/ Hidalgo                 & 0 & 0 & 0 & 0\\\\\n\t Trigésimo Circuito/ Aguascalientes                & 0 & 0 & 0 & 0\\\\\n\t Trigésimo Primer Circuito/ Campeche               & 0 & 0 & 0 & 0\\\\\n\t Trigésimo Segundo Circuito/ Colima                & 0 & 0 & 0 & 0\\\\\n\t Total                                             & 1 & 1 & 2 & 0\\\\\n\\end{tabular}\n",
            "text/markdown": "\nA tabyl: 33 × 5\n\n| circuito &lt;chr&gt; | existencia_inicial &lt;int&gt; | ingresos &lt;int&gt; | egresos &lt;int&gt; | Existencia_final &lt;int&gt; |\n|---|---|---|---|---|\n| Primer Circuito/ Ciudad de México                 | 1 | 0 | 1 | 0 |\n| Segundo Circuito/ México                          | 0 | 0 | 0 | 0 |\n| Tercer Circuito/ Jalisco                          | 0 | 0 | 0 | 0 |\n| Cuarto Circuito/ Nuevo León                       | 0 | 0 | 0 | 0 |\n| Quinto Circuito/ Sonora                           | 0 | 0 | 0 | 0 |\n| Sexto Circuito/ Puebla                            | 0 | 0 | 0 | 0 |\n| Séptimo Circuito/ Veracruz de Ignacio de la Llave | 0 | 0 | 0 | 0 |\n| Octavo Circuito/ Coahuila de Zaragoza             | 0 | 0 | 0 | 0 |\n| Noveno Circuito/ San Luis Potosí                  | 0 | 0 | 0 | 0 |\n| Décimo Circuito/ Tabasco-Veracruz                 | 0 | 0 | 0 | 0 |\n| Decimoprimer Circuito/ Michoacán de Ocampo        | 0 | 0 | 0 | 0 |\n| Decimosegundo Circuito/ Sinaloa                   | 0 | 0 | 0 | 0 |\n| Decimotercer Circuito/ Oaxaca                     | 0 | 0 | 0 | 0 |\n| Decimocuarto Circuito/ Yucatán                    | 0 | 0 | 0 | 0 |\n| Decimoquinto Circuito/ Baja California            | 0 | 0 | 0 | 0 |\n| Decimosexto Circuito/ Guanajuato                  | 0 | 0 | 0 | 0 |\n| Decimoséptimo Circuito/ Chihuahua                 | 0 | 0 | 0 | 0 |\n| Decimoctavo Circuito/ Morelos                     | 0 | 0 | 0 | 0 |\n| Decimonoveno Circuito/ Tamaulipas                 | 0 | 0 | 0 | 0 |\n| Vigésimo Circuito/ Chiapas                        | 0 | 0 | 0 | 0 |\n| Vigésimo Primer Circuito/ Guerrero                | 0 | 1 | 1 | 0 |\n| Vigésimo Segundo Circuito/ Querétaro              | 0 | 0 | 0 | 0 |\n| Vigésimo Tercer Circuito/ Zacatecas               | 0 | 0 | 0 | 0 |\n| Vigésimo Cuarto Circuito/ Nayarit                 | 0 | 0 | 0 | 0 |\n| Vigésimo Quinto Circuito/ Durango                 | 0 | 0 | 0 | 0 |\n| Vigésimo Sexto Circuito/ Baja California Sur      | 0 | 0 | 0 | 0 |\n| Vigésimo Séptimo Circuito/ Quintana Roo           | 0 | 0 | 0 | 0 |\n| Vigésimo Octavo Circuito/ Tlaxcala                | 0 | 0 | 0 | 0 |\n| Vigésimo Noveno Circuito/ Hidalgo                 | 0 | 0 | 0 | 0 |\n| Trigésimo Circuito/ Aguascalientes                | 0 | 0 | 0 | 0 |\n| Trigésimo Primer Circuito/ Campeche               | 0 | 0 | 0 | 0 |\n| Trigésimo Segundo Circuito/ Colima                | 0 | 0 | 0 | 0 |\n| Total                                             | 1 | 1 | 2 | 0 |\n\n",
            "text/html": [
              "<table class=\"dataframe\">\n",
              "<caption>A tabyl: 33 × 5</caption>\n",
              "<thead>\n",
              "\t<tr><th scope=col>circuito</th><th scope=col>existencia_inicial</th><th scope=col>ingresos</th><th scope=col>egresos</th><th scope=col>Existencia_final</th></tr>\n",
              "\t<tr><th scope=col>&lt;chr&gt;</th><th scope=col>&lt;int&gt;</th><th scope=col>&lt;int&gt;</th><th scope=col>&lt;int&gt;</th><th scope=col>&lt;int&gt;</th></tr>\n",
              "</thead>\n",
              "<tbody>\n",
              "\t<tr><td>Primer Circuito/ Ciudad de México                </td><td>1</td><td>0</td><td>1</td><td>0</td></tr>\n",
              "\t<tr><td>Segundo Circuito/ México                         </td><td>0</td><td>0</td><td>0</td><td>0</td></tr>\n",
              "\t<tr><td>Tercer Circuito/ Jalisco                         </td><td>0</td><td>0</td><td>0</td><td>0</td></tr>\n",
              "\t<tr><td>Cuarto Circuito/ Nuevo León                      </td><td>0</td><td>0</td><td>0</td><td>0</td></tr>\n",
              "\t<tr><td>Quinto Circuito/ Sonora                          </td><td>0</td><td>0</td><td>0</td><td>0</td></tr>\n",
              "\t<tr><td>Sexto Circuito/ Puebla                           </td><td>0</td><td>0</td><td>0</td><td>0</td></tr>\n",
              "\t<tr><td>Séptimo Circuito/ Veracruz de Ignacio de la Llave</td><td>0</td><td>0</td><td>0</td><td>0</td></tr>\n",
              "\t<tr><td>Octavo Circuito/ Coahuila de Zaragoza            </td><td>0</td><td>0</td><td>0</td><td>0</td></tr>\n",
              "\t<tr><td>Noveno Circuito/ San Luis Potosí                 </td><td>0</td><td>0</td><td>0</td><td>0</td></tr>\n",
              "\t<tr><td>Décimo Circuito/ Tabasco-Veracruz                </td><td>0</td><td>0</td><td>0</td><td>0</td></tr>\n",
              "\t<tr><td>Decimoprimer Circuito/ Michoacán de Ocampo       </td><td>0</td><td>0</td><td>0</td><td>0</td></tr>\n",
              "\t<tr><td>Decimosegundo Circuito/ Sinaloa                  </td><td>0</td><td>0</td><td>0</td><td>0</td></tr>\n",
              "\t<tr><td>Decimotercer Circuito/ Oaxaca                    </td><td>0</td><td>0</td><td>0</td><td>0</td></tr>\n",
              "\t<tr><td>Decimocuarto Circuito/ Yucatán                   </td><td>0</td><td>0</td><td>0</td><td>0</td></tr>\n",
              "\t<tr><td>Decimoquinto Circuito/ Baja California           </td><td>0</td><td>0</td><td>0</td><td>0</td></tr>\n",
              "\t<tr><td>Decimosexto Circuito/ Guanajuato                 </td><td>0</td><td>0</td><td>0</td><td>0</td></tr>\n",
              "\t<tr><td>Decimoséptimo Circuito/ Chihuahua                </td><td>0</td><td>0</td><td>0</td><td>0</td></tr>\n",
              "\t<tr><td>Decimoctavo Circuito/ Morelos                    </td><td>0</td><td>0</td><td>0</td><td>0</td></tr>\n",
              "\t<tr><td>Decimonoveno Circuito/ Tamaulipas                </td><td>0</td><td>0</td><td>0</td><td>0</td></tr>\n",
              "\t<tr><td>Vigésimo Circuito/ Chiapas                       </td><td>0</td><td>0</td><td>0</td><td>0</td></tr>\n",
              "\t<tr><td>Vigésimo Primer Circuito/ Guerrero               </td><td>0</td><td>1</td><td>1</td><td>0</td></tr>\n",
              "\t<tr><td>Vigésimo Segundo Circuito/ Querétaro             </td><td>0</td><td>0</td><td>0</td><td>0</td></tr>\n",
              "\t<tr><td>Vigésimo Tercer Circuito/ Zacatecas              </td><td>0</td><td>0</td><td>0</td><td>0</td></tr>\n",
              "\t<tr><td>Vigésimo Cuarto Circuito/ Nayarit                </td><td>0</td><td>0</td><td>0</td><td>0</td></tr>\n",
              "\t<tr><td>Vigésimo Quinto Circuito/ Durango                </td><td>0</td><td>0</td><td>0</td><td>0</td></tr>\n",
              "\t<tr><td>Vigésimo Sexto Circuito/ Baja California Sur     </td><td>0</td><td>0</td><td>0</td><td>0</td></tr>\n",
              "\t<tr><td>Vigésimo Séptimo Circuito/ Quintana Roo          </td><td>0</td><td>0</td><td>0</td><td>0</td></tr>\n",
              "\t<tr><td>Vigésimo Octavo Circuito/ Tlaxcala               </td><td>0</td><td>0</td><td>0</td><td>0</td></tr>\n",
              "\t<tr><td>Vigésimo Noveno Circuito/ Hidalgo                </td><td>0</td><td>0</td><td>0</td><td>0</td></tr>\n",
              "\t<tr><td>Trigésimo Circuito/ Aguascalientes               </td><td>0</td><td>0</td><td>0</td><td>0</td></tr>\n",
              "\t<tr><td>Trigésimo Primer Circuito/ Campeche              </td><td>0</td><td>0</td><td>0</td><td>0</td></tr>\n",
              "\t<tr><td>Trigésimo Segundo Circuito/ Colima               </td><td>0</td><td>0</td><td>0</td><td>0</td></tr>\n",
              "\t<tr><td>Total                                            </td><td>1</td><td>1</td><td>2</td><td>0</td></tr>\n",
              "</tbody>\n",
              "</table>\n"
            ]
          },
          "metadata": {
            "tags": []
          }
        }
      ]
    },
    {
      "cell_type": "code",
      "metadata": {
        "id": "qwhjAGPl9-G4",
        "colab": {
          "base_uri": "https://localhost:8080/",
          "height": 1000
        },
        "outputId": "8d0c20e2-52ef-4ad2-ea3b-af91c991fd02"
      },
      "source": [
        "#procesos federales administrativos y civiles en segunda instancia\n",
        "#Otro\n",
        "cubo %>%\n",
        "filter(tp_organo == \"Tribunales Unitarios de Circuito\") %>%\n",
        "filter(tp_asunto == \"procesos federales administrativos y civiles en segunda instancia\") %>%\n",
        "filter(tp_procedimiento == \"Otro\") %>%\n",
        "mutate(egresos = egresos + egresos_acuerdo) %>% # egresos + egresos por acuerdo?\n",
        "select(circuito,  existencia_inicial, ingresos, egresos, Existencia_final) %>%\n",
        "mutate(circuito = factor(circuito, levels = orden_circuitos)) %>%\n",
        "group_by(circuito) %>%\n",
        "summarise_all(list(sum))%>%\n",
        "filter(!is.na(existencia_inicial))  %>%\n",
        "adorn_totals()"
      ],
      "execution_count": null,
      "outputs": [
        {
          "output_type": "display_data",
          "data": {
            "text/plain": [
              "   circuito                                          existencia_inicial\n",
              "1  Primer Circuito/ Ciudad de México                  9                \n",
              "2  Segundo Circuito/ México                           1                \n",
              "3  Tercer Circuito/ Jalisco                           2                \n",
              "4  Cuarto Circuito/ Nuevo León                        1                \n",
              "5  Quinto Circuito/ Sonora                            0                \n",
              "6  Sexto Circuito/ Puebla                             6                \n",
              "7  Séptimo Circuito/ Veracruz de Ignacio de la Llave  1                \n",
              "8  Octavo Circuito/ Coahuila de Zaragoza              1                \n",
              "9  Noveno Circuito/ San Luis Potosí                   0                \n",
              "10 Décimo Circuito/ Tabasco-Veracruz                  3                \n",
              "11 Decimoprimer Circuito/ Michoacán de Ocampo         0                \n",
              "12 Decimosegundo Circuito/ Sinaloa                    1                \n",
              "13 Decimotercer Circuito/ Oaxaca                      0                \n",
              "14 Decimocuarto Circuito/ Yucatán                     0                \n",
              "15 Decimoquinto Circuito/ Baja California             0                \n",
              "16 Decimosexto Circuito/ Guanajuato                   0                \n",
              "17 Decimoséptimo Circuito/ Chihuahua                  1                \n",
              "18 Decimoctavo Circuito/ Morelos                      0                \n",
              "19 Decimonoveno Circuito/ Tamaulipas                  1                \n",
              "20 Vigésimo Circuito/ Chiapas                         0                \n",
              "21 Vigésimo Primer Circuito/ Guerrero                 1                \n",
              "22 Vigésimo Segundo Circuito/ Querétaro               0                \n",
              "23 Vigésimo Tercer Circuito/ Zacatecas                0                \n",
              "24 Vigésimo Cuarto Circuito/ Nayarit                  0                \n",
              "25 Vigésimo Quinto Circuito/ Durango                  0                \n",
              "26 Vigésimo Sexto Circuito/ Baja California Sur       0                \n",
              "27 Vigésimo Séptimo Circuito/ Quintana Roo            1                \n",
              "28 Vigésimo Octavo Circuito/ Tlaxcala                 0                \n",
              "29 Vigésimo Noveno Circuito/ Hidalgo                  1                \n",
              "30 Trigésimo Circuito/ Aguascalientes                 0                \n",
              "31 Trigésimo Primer Circuito/ Campeche                3                \n",
              "32 Trigésimo Segundo Circuito/ Colima                 1                \n",
              "33 Total                                             34                \n",
              "   ingresos egresos Existencia_final\n",
              "1   36       33     12              \n",
              "2   28       26      3              \n",
              "3    4        4      2              \n",
              "4    8        6      3              \n",
              "5    4        4      0              \n",
              "6   23       18     11              \n",
              "7   20       17      4              \n",
              "8    8        9      0              \n",
              "9   11        8      3              \n",
              "10  12       12      3              \n",
              "11   3        1      2              \n",
              "12   2        3      0              \n",
              "13   8        5      3              \n",
              "14  10       10      0              \n",
              "15   5        5      0              \n",
              "16   1        1      0              \n",
              "17   2        3      0              \n",
              "18   8        8      0              \n",
              "19   1        2      0              \n",
              "20  12       12      0              \n",
              "21   2        3      0              \n",
              "22   2        2      0              \n",
              "23   1        0      1              \n",
              "24   0        0      0              \n",
              "25   0        0      0              \n",
              "26   1        1      0              \n",
              "27  10       11      0              \n",
              "28   3        2      1              \n",
              "29   3        3      1              \n",
              "30   0        0      0              \n",
              "31   2        5      0              \n",
              "32   3        4      0              \n",
              "33 233      218     49              "
            ],
            "text/latex": "A tabyl: 33 × 5\n\\begin{tabular}{lllll}\n circuito & existencia\\_inicial & ingresos & egresos & Existencia\\_final\\\\\n <chr> & <int> & <int> & <int> & <int>\\\\\n\\hline\n\t Primer Circuito/ Ciudad de México                 &  9 &  36 &  33 & 12\\\\\n\t Segundo Circuito/ México                          &  1 &  28 &  26 &  3\\\\\n\t Tercer Circuito/ Jalisco                          &  2 &   4 &   4 &  2\\\\\n\t Cuarto Circuito/ Nuevo León                       &  1 &   8 &   6 &  3\\\\\n\t Quinto Circuito/ Sonora                           &  0 &   4 &   4 &  0\\\\\n\t Sexto Circuito/ Puebla                            &  6 &  23 &  18 & 11\\\\\n\t Séptimo Circuito/ Veracruz de Ignacio de la Llave &  1 &  20 &  17 &  4\\\\\n\t Octavo Circuito/ Coahuila de Zaragoza             &  1 &   8 &   9 &  0\\\\\n\t Noveno Circuito/ San Luis Potosí                  &  0 &  11 &   8 &  3\\\\\n\t Décimo Circuito/ Tabasco-Veracruz                 &  3 &  12 &  12 &  3\\\\\n\t Decimoprimer Circuito/ Michoacán de Ocampo        &  0 &   3 &   1 &  2\\\\\n\t Decimosegundo Circuito/ Sinaloa                   &  1 &   2 &   3 &  0\\\\\n\t Decimotercer Circuito/ Oaxaca                     &  0 &   8 &   5 &  3\\\\\n\t Decimocuarto Circuito/ Yucatán                    &  0 &  10 &  10 &  0\\\\\n\t Decimoquinto Circuito/ Baja California            &  0 &   5 &   5 &  0\\\\\n\t Decimosexto Circuito/ Guanajuato                  &  0 &   1 &   1 &  0\\\\\n\t Decimoséptimo Circuito/ Chihuahua                 &  1 &   2 &   3 &  0\\\\\n\t Decimoctavo Circuito/ Morelos                     &  0 &   8 &   8 &  0\\\\\n\t Decimonoveno Circuito/ Tamaulipas                 &  1 &   1 &   2 &  0\\\\\n\t Vigésimo Circuito/ Chiapas                        &  0 &  12 &  12 &  0\\\\\n\t Vigésimo Primer Circuito/ Guerrero                &  1 &   2 &   3 &  0\\\\\n\t Vigésimo Segundo Circuito/ Querétaro              &  0 &   2 &   2 &  0\\\\\n\t Vigésimo Tercer Circuito/ Zacatecas               &  0 &   1 &   0 &  1\\\\\n\t Vigésimo Cuarto Circuito/ Nayarit                 &  0 &   0 &   0 &  0\\\\\n\t Vigésimo Quinto Circuito/ Durango                 &  0 &   0 &   0 &  0\\\\\n\t Vigésimo Sexto Circuito/ Baja California Sur      &  0 &   1 &   1 &  0\\\\\n\t Vigésimo Séptimo Circuito/ Quintana Roo           &  1 &  10 &  11 &  0\\\\\n\t Vigésimo Octavo Circuito/ Tlaxcala                &  0 &   3 &   2 &  1\\\\\n\t Vigésimo Noveno Circuito/ Hidalgo                 &  1 &   3 &   3 &  1\\\\\n\t Trigésimo Circuito/ Aguascalientes                &  0 &   0 &   0 &  0\\\\\n\t Trigésimo Primer Circuito/ Campeche               &  3 &   2 &   5 &  0\\\\\n\t Trigésimo Segundo Circuito/ Colima                &  1 &   3 &   4 &  0\\\\\n\t Total                                             & 34 & 233 & 218 & 49\\\\\n\\end{tabular}\n",
            "text/markdown": "\nA tabyl: 33 × 5\n\n| circuito &lt;chr&gt; | existencia_inicial &lt;int&gt; | ingresos &lt;int&gt; | egresos &lt;int&gt; | Existencia_final &lt;int&gt; |\n|---|---|---|---|---|\n| Primer Circuito/ Ciudad de México                 |  9 |  36 |  33 | 12 |\n| Segundo Circuito/ México                          |  1 |  28 |  26 |  3 |\n| Tercer Circuito/ Jalisco                          |  2 |   4 |   4 |  2 |\n| Cuarto Circuito/ Nuevo León                       |  1 |   8 |   6 |  3 |\n| Quinto Circuito/ Sonora                           |  0 |   4 |   4 |  0 |\n| Sexto Circuito/ Puebla                            |  6 |  23 |  18 | 11 |\n| Séptimo Circuito/ Veracruz de Ignacio de la Llave |  1 |  20 |  17 |  4 |\n| Octavo Circuito/ Coahuila de Zaragoza             |  1 |   8 |   9 |  0 |\n| Noveno Circuito/ San Luis Potosí                  |  0 |  11 |   8 |  3 |\n| Décimo Circuito/ Tabasco-Veracruz                 |  3 |  12 |  12 |  3 |\n| Decimoprimer Circuito/ Michoacán de Ocampo        |  0 |   3 |   1 |  2 |\n| Decimosegundo Circuito/ Sinaloa                   |  1 |   2 |   3 |  0 |\n| Decimotercer Circuito/ Oaxaca                     |  0 |   8 |   5 |  3 |\n| Decimocuarto Circuito/ Yucatán                    |  0 |  10 |  10 |  0 |\n| Decimoquinto Circuito/ Baja California            |  0 |   5 |   5 |  0 |\n| Decimosexto Circuito/ Guanajuato                  |  0 |   1 |   1 |  0 |\n| Decimoséptimo Circuito/ Chihuahua                 |  1 |   2 |   3 |  0 |\n| Decimoctavo Circuito/ Morelos                     |  0 |   8 |   8 |  0 |\n| Decimonoveno Circuito/ Tamaulipas                 |  1 |   1 |   2 |  0 |\n| Vigésimo Circuito/ Chiapas                        |  0 |  12 |  12 |  0 |\n| Vigésimo Primer Circuito/ Guerrero                |  1 |   2 |   3 |  0 |\n| Vigésimo Segundo Circuito/ Querétaro              |  0 |   2 |   2 |  0 |\n| Vigésimo Tercer Circuito/ Zacatecas               |  0 |   1 |   0 |  1 |\n| Vigésimo Cuarto Circuito/ Nayarit                 |  0 |   0 |   0 |  0 |\n| Vigésimo Quinto Circuito/ Durango                 |  0 |   0 |   0 |  0 |\n| Vigésimo Sexto Circuito/ Baja California Sur      |  0 |   1 |   1 |  0 |\n| Vigésimo Séptimo Circuito/ Quintana Roo           |  1 |  10 |  11 |  0 |\n| Vigésimo Octavo Circuito/ Tlaxcala                |  0 |   3 |   2 |  1 |\n| Vigésimo Noveno Circuito/ Hidalgo                 |  1 |   3 |   3 |  1 |\n| Trigésimo Circuito/ Aguascalientes                |  0 |   0 |   0 |  0 |\n| Trigésimo Primer Circuito/ Campeche               |  3 |   2 |   5 |  0 |\n| Trigésimo Segundo Circuito/ Colima                |  1 |   3 |   4 |  0 |\n| Total                                             | 34 | 233 | 218 | 49 |\n\n",
            "text/html": [
              "<table class=\"dataframe\">\n",
              "<caption>A tabyl: 33 × 5</caption>\n",
              "<thead>\n",
              "\t<tr><th scope=col>circuito</th><th scope=col>existencia_inicial</th><th scope=col>ingresos</th><th scope=col>egresos</th><th scope=col>Existencia_final</th></tr>\n",
              "\t<tr><th scope=col>&lt;chr&gt;</th><th scope=col>&lt;int&gt;</th><th scope=col>&lt;int&gt;</th><th scope=col>&lt;int&gt;</th><th scope=col>&lt;int&gt;</th></tr>\n",
              "</thead>\n",
              "<tbody>\n",
              "\t<tr><td>Primer Circuito/ Ciudad de México                </td><td> 9</td><td> 36</td><td> 33</td><td>12</td></tr>\n",
              "\t<tr><td>Segundo Circuito/ México                         </td><td> 1</td><td> 28</td><td> 26</td><td> 3</td></tr>\n",
              "\t<tr><td>Tercer Circuito/ Jalisco                         </td><td> 2</td><td>  4</td><td>  4</td><td> 2</td></tr>\n",
              "\t<tr><td>Cuarto Circuito/ Nuevo León                      </td><td> 1</td><td>  8</td><td>  6</td><td> 3</td></tr>\n",
              "\t<tr><td>Quinto Circuito/ Sonora                          </td><td> 0</td><td>  4</td><td>  4</td><td> 0</td></tr>\n",
              "\t<tr><td>Sexto Circuito/ Puebla                           </td><td> 6</td><td> 23</td><td> 18</td><td>11</td></tr>\n",
              "\t<tr><td>Séptimo Circuito/ Veracruz de Ignacio de la Llave</td><td> 1</td><td> 20</td><td> 17</td><td> 4</td></tr>\n",
              "\t<tr><td>Octavo Circuito/ Coahuila de Zaragoza            </td><td> 1</td><td>  8</td><td>  9</td><td> 0</td></tr>\n",
              "\t<tr><td>Noveno Circuito/ San Luis Potosí                 </td><td> 0</td><td> 11</td><td>  8</td><td> 3</td></tr>\n",
              "\t<tr><td>Décimo Circuito/ Tabasco-Veracruz                </td><td> 3</td><td> 12</td><td> 12</td><td> 3</td></tr>\n",
              "\t<tr><td>Decimoprimer Circuito/ Michoacán de Ocampo       </td><td> 0</td><td>  3</td><td>  1</td><td> 2</td></tr>\n",
              "\t<tr><td>Decimosegundo Circuito/ Sinaloa                  </td><td> 1</td><td>  2</td><td>  3</td><td> 0</td></tr>\n",
              "\t<tr><td>Decimotercer Circuito/ Oaxaca                    </td><td> 0</td><td>  8</td><td>  5</td><td> 3</td></tr>\n",
              "\t<tr><td>Decimocuarto Circuito/ Yucatán                   </td><td> 0</td><td> 10</td><td> 10</td><td> 0</td></tr>\n",
              "\t<tr><td>Decimoquinto Circuito/ Baja California           </td><td> 0</td><td>  5</td><td>  5</td><td> 0</td></tr>\n",
              "\t<tr><td>Decimosexto Circuito/ Guanajuato                 </td><td> 0</td><td>  1</td><td>  1</td><td> 0</td></tr>\n",
              "\t<tr><td>Decimoséptimo Circuito/ Chihuahua                </td><td> 1</td><td>  2</td><td>  3</td><td> 0</td></tr>\n",
              "\t<tr><td>Decimoctavo Circuito/ Morelos                    </td><td> 0</td><td>  8</td><td>  8</td><td> 0</td></tr>\n",
              "\t<tr><td>Decimonoveno Circuito/ Tamaulipas                </td><td> 1</td><td>  1</td><td>  2</td><td> 0</td></tr>\n",
              "\t<tr><td>Vigésimo Circuito/ Chiapas                       </td><td> 0</td><td> 12</td><td> 12</td><td> 0</td></tr>\n",
              "\t<tr><td>Vigésimo Primer Circuito/ Guerrero               </td><td> 1</td><td>  2</td><td>  3</td><td> 0</td></tr>\n",
              "\t<tr><td>Vigésimo Segundo Circuito/ Querétaro             </td><td> 0</td><td>  2</td><td>  2</td><td> 0</td></tr>\n",
              "\t<tr><td>Vigésimo Tercer Circuito/ Zacatecas              </td><td> 0</td><td>  1</td><td>  0</td><td> 1</td></tr>\n",
              "\t<tr><td>Vigésimo Cuarto Circuito/ Nayarit                </td><td> 0</td><td>  0</td><td>  0</td><td> 0</td></tr>\n",
              "\t<tr><td>Vigésimo Quinto Circuito/ Durango                </td><td> 0</td><td>  0</td><td>  0</td><td> 0</td></tr>\n",
              "\t<tr><td>Vigésimo Sexto Circuito/ Baja California Sur     </td><td> 0</td><td>  1</td><td>  1</td><td> 0</td></tr>\n",
              "\t<tr><td>Vigésimo Séptimo Circuito/ Quintana Roo          </td><td> 1</td><td> 10</td><td> 11</td><td> 0</td></tr>\n",
              "\t<tr><td>Vigésimo Octavo Circuito/ Tlaxcala               </td><td> 0</td><td>  3</td><td>  2</td><td> 1</td></tr>\n",
              "\t<tr><td>Vigésimo Noveno Circuito/ Hidalgo                </td><td> 1</td><td>  3</td><td>  3</td><td> 1</td></tr>\n",
              "\t<tr><td>Trigésimo Circuito/ Aguascalientes               </td><td> 0</td><td>  0</td><td>  0</td><td> 0</td></tr>\n",
              "\t<tr><td>Trigésimo Primer Circuito/ Campeche              </td><td> 3</td><td>  2</td><td>  5</td><td> 0</td></tr>\n",
              "\t<tr><td>Trigésimo Segundo Circuito/ Colima               </td><td> 1</td><td>  3</td><td>  4</td><td> 0</td></tr>\n",
              "\t<tr><td>Total                                            </td><td>34</td><td>233</td><td>218</td><td>49</td></tr>\n",
              "</tbody>\n",
              "</table>\n"
            ]
          },
          "metadata": {
            "tags": []
          }
        }
      ]
    },
    {
      "cell_type": "code",
      "metadata": {
        "id": "mDv9Lww9xdvK"
      },
      "source": [
        "#ERROR PARA CALCULAR TIPO DE ASUNTO \"OTROS\"\n",
        "\n",
        "#Otros\n",
        "cubo %>%\n",
        "  filter(tp_organo == \"Tribunales Unitarios de Circuito\") %>%\n",
        "  filter(!tp_asunto %in% c(\"amparo indirecto\",\"procesos federales penales en segunda instancia\",\n",
        "  \"procesos federales administrativos y civiles en segunda instancia\")) %>%\n",
        "mutate(egresos = egresos + egresos_acuerdo) %>% # egresos + egresos por acuerdo?\n",
        "select(circuito, existencia_inicial, ingresos, egresos, Existencia_final)%>%\n",
        "mutate(circuito = factor(circuito, levels = orden_circuitos)) %>%\n",
        "group_by(circuito)%>%\n",
        "summarise_all(list(sum))%>%\n",
        "filter(!is.na(existencia_inicial))%>%\n",
        "adorn_totals()\n"
      ],
      "execution_count": null,
      "outputs": []
    },
    {
      "cell_type": "code",
      "metadata": {
        "colab": {
          "base_uri": "https://localhost:8080/",
          "height": 1000
        },
        "id": "iX3aX7U7NOdL",
        "outputId": "e9ac59f9-8d53-4ca5-8f44-615bbbdb5a48"
      },
      "source": [
        "cubo %>%\n",
        "  filter(tp_organo == \"Tribunales Unitarios de Circuito\") "
      ],
      "execution_count": null,
      "outputs": [
        {
          "output_type": "display_data",
          "data": {
            "text/plain": [
              "     Periodo circuito                                         \n",
              "1    2020    Primer Circuito/ Ciudad de México                \n",
              "2    2020    Segundo Circuito/ México                         \n",
              "3    2020    Tercer Circuito/ Jalisco                         \n",
              "4    2020    Cuarto Circuito/ Nuevo León                      \n",
              "5    2020    Quinto Circuito/ Sonora                          \n",
              "6    2020    Sexto Circuito/ Puebla                           \n",
              "7    2020    Séptimo Circuito/ Veracruz de Ignacio de la Llave\n",
              "8    2020    Octavo Circuito/ Coahuila de Zaragoza            \n",
              "9    2020    Noveno Circuito/ San Luis Potosí                 \n",
              "10   2020    Décimo Circuito/ Tabasco-Veracruz                \n",
              "11   2020    Decimoprimer Circuito/ Michoacán de Ocampo       \n",
              "12   2020    Decimosegundo Circuito/ Sinaloa                  \n",
              "13   2020    Decimotercer Circuito/ Oaxaca                    \n",
              "14   2020    Decimocuarto Circuito/ Yucatán                   \n",
              "15   2020    Decimoquinto Circuito/ Baja California           \n",
              "16   2020    Decimosexto Circuito/ Guanajuato                 \n",
              "17   2020    Decimoséptimo Circuito/ Chihuahua                \n",
              "18   2020    Decimoctavo Circuito/ Morelos                    \n",
              "19   2020    Decimonoveno Circuito/ Tamaulipas                \n",
              "20   2020    Vigésimo Circuito/ Chiapas                       \n",
              "21   2020    Vigésimo Primer Circuito/ Guerrero               \n",
              "22   2020    Vigésimo Segundo Circuito/ Querétaro             \n",
              "23   2020    Vigésimo Tercer Circuito/ Zacatecas              \n",
              "24   2020    Vigésimo Cuarto Circuito/ Nayarit                \n",
              "25   2020    Vigésimo Quinto Circuito/ Durango                \n",
              "26   2020    Vigésimo Sexto Circuito/ Baja California Sur     \n",
              "27   2020    Vigésimo Séptimo Circuito/ Quintana Roo          \n",
              "28   2020    Vigésimo Octavo Circuito/ Tlaxcala               \n",
              "29   2020    Vigésimo Noveno Circuito/ Hidalgo                \n",
              "30   2020    Trigésimo Circuito/ Aguascalientes               \n",
              "⋮    ⋮       ⋮                                                \n",
              "5656 2020    Vigésimo Quinto Circuito/ Durango                \n",
              "5657 2020    Vigésimo Quinto Circuito/ Durango                \n",
              "5658 2020    Vigésimo Sexto Circuito/ Baja California Sur     \n",
              "5659 2020    Vigésimo Sexto Circuito/ Baja California Sur     \n",
              "5660 2020    Vigésimo Sexto Circuito/ Baja California Sur     \n",
              "5661 2020    Vigésimo Sexto Circuito/ Baja California Sur     \n",
              "5662 2020    Vigésimo Séptimo Circuito/ Quintana Roo          \n",
              "5663 2020    Vigésimo Séptimo Circuito/ Quintana Roo          \n",
              "5664 2020    Vigésimo Séptimo Circuito/ Quintana Roo          \n",
              "5665 2020    Vigésimo Séptimo Circuito/ Quintana Roo          \n",
              "5666 2020    Vigésimo Octavo Circuito/ Tlaxcala               \n",
              "5667 2020    Vigésimo Octavo Circuito/ Tlaxcala               \n",
              "5668 2020    Vigésimo Octavo Circuito/ Tlaxcala               \n",
              "5669 2020    Vigésimo Octavo Circuito/ Tlaxcala               \n",
              "5670 2020    Vigésimo Noveno Circuito/ Hidalgo                \n",
              "5671 2020    Vigésimo Noveno Circuito/ Hidalgo                \n",
              "5672 2020    Vigésimo Noveno Circuito/ Hidalgo                \n",
              "5673 2020    Vigésimo Noveno Circuito/ Hidalgo                \n",
              "5674 2020    Trigésimo Circuito/ Aguascalientes               \n",
              "5675 2020    Trigésimo Circuito/ Aguascalientes               \n",
              "5676 2020    Trigésimo Circuito/ Aguascalientes               \n",
              "5677 2020    Trigésimo Circuito/ Aguascalientes               \n",
              "5678 2020    Trigésimo Primer Circuito/ Campeche              \n",
              "5679 2020    Trigésimo Primer Circuito/ Campeche              \n",
              "5680 2020    Trigésimo Primer Circuito/ Campeche              \n",
              "5681 2020    Trigésimo Primer Circuito/ Campeche              \n",
              "5682 2020    Trigésimo Segundo Circuito/ Colima               \n",
              "5683 2020    Trigésimo Segundo Circuito/ Colima               \n",
              "5684 2020    Trigésimo Segundo Circuito/ Colima               \n",
              "5685 2020    Trigésimo Segundo Circuito/ Colima               \n",
              "     tp_organo                        materia_asunto\n",
              "1    Tribunales Unitarios de Circuito Penal         \n",
              "2    Tribunales Unitarios de Circuito Penal         \n",
              "3    Tribunales Unitarios de Circuito Penal         \n",
              "4    Tribunales Unitarios de Circuito Penal         \n",
              "5    Tribunales Unitarios de Circuito Penal         \n",
              "6    Tribunales Unitarios de Circuito Penal         \n",
              "7    Tribunales Unitarios de Circuito Penal         \n",
              "8    Tribunales Unitarios de Circuito Penal         \n",
              "9    Tribunales Unitarios de Circuito Penal         \n",
              "10   Tribunales Unitarios de Circuito Penal         \n",
              "11   Tribunales Unitarios de Circuito Penal         \n",
              "12   Tribunales Unitarios de Circuito Penal         \n",
              "13   Tribunales Unitarios de Circuito Penal         \n",
              "14   Tribunales Unitarios de Circuito Penal         \n",
              "15   Tribunales Unitarios de Circuito Penal         \n",
              "16   Tribunales Unitarios de Circuito Penal         \n",
              "17   Tribunales Unitarios de Circuito Penal         \n",
              "18   Tribunales Unitarios de Circuito Penal         \n",
              "19   Tribunales Unitarios de Circuito Penal         \n",
              "20   Tribunales Unitarios de Circuito Penal         \n",
              "21   Tribunales Unitarios de Circuito Penal         \n",
              "22   Tribunales Unitarios de Circuito Penal         \n",
              "23   Tribunales Unitarios de Circuito Penal         \n",
              "24   Tribunales Unitarios de Circuito Penal         \n",
              "25   Tribunales Unitarios de Circuito Penal         \n",
              "26   Tribunales Unitarios de Circuito Penal         \n",
              "27   Tribunales Unitarios de Circuito Penal         \n",
              "28   Tribunales Unitarios de Circuito Penal         \n",
              "29   Tribunales Unitarios de Circuito Penal         \n",
              "30   Tribunales Unitarios de Circuito Penal         \n",
              "⋮    ⋮                                ⋮             \n",
              "5656 Tribunales Unitarios de Circuito Civil         \n",
              "5657 Tribunales Unitarios de Circuito Mercantil     \n",
              "5658 Tribunales Unitarios de Circuito Penal         \n",
              "5659 Tribunales Unitarios de Circuito Administrativa\n",
              "5660 Tribunales Unitarios de Circuito Civil         \n",
              "5661 Tribunales Unitarios de Circuito Mercantil     \n",
              "5662 Tribunales Unitarios de Circuito Penal         \n",
              "5663 Tribunales Unitarios de Circuito Administrativa\n",
              "5664 Tribunales Unitarios de Circuito Civil         \n",
              "5665 Tribunales Unitarios de Circuito Mercantil     \n",
              "5666 Tribunales Unitarios de Circuito Penal         \n",
              "5667 Tribunales Unitarios de Circuito Administrativa\n",
              "5668 Tribunales Unitarios de Circuito Civil         \n",
              "5669 Tribunales Unitarios de Circuito Mercantil     \n",
              "5670 Tribunales Unitarios de Circuito Penal         \n",
              "5671 Tribunales Unitarios de Circuito Administrativa\n",
              "5672 Tribunales Unitarios de Circuito Civil         \n",
              "5673 Tribunales Unitarios de Circuito Mercantil     \n",
              "5674 Tribunales Unitarios de Circuito Penal         \n",
              "5675 Tribunales Unitarios de Circuito Administrativa\n",
              "5676 Tribunales Unitarios de Circuito Civil         \n",
              "5677 Tribunales Unitarios de Circuito Mercantil     \n",
              "5678 Tribunales Unitarios de Circuito Penal         \n",
              "5679 Tribunales Unitarios de Circuito Administrativa\n",
              "5680 Tribunales Unitarios de Circuito Civil         \n",
              "5681 Tribunales Unitarios de Circuito Mercantil     \n",
              "5682 Tribunales Unitarios de Circuito Penal         \n",
              "5683 Tribunales Unitarios de Circuito Administrativa\n",
              "5684 Tribunales Unitarios de Circuito Civil         \n",
              "5685 Tribunales Unitarios de Circuito Mercantil     \n",
              "     tp_asunto                                                        \n",
              "1    amparo indirecto                                                 \n",
              "2    amparo indirecto                                                 \n",
              "3    amparo indirecto                                                 \n",
              "4    amparo indirecto                                                 \n",
              "5    amparo indirecto                                                 \n",
              "6    amparo indirecto                                                 \n",
              "7    amparo indirecto                                                 \n",
              "8    amparo indirecto                                                 \n",
              "9    amparo indirecto                                                 \n",
              "10   amparo indirecto                                                 \n",
              "11   amparo indirecto                                                 \n",
              "12   amparo indirecto                                                 \n",
              "13   amparo indirecto                                                 \n",
              "14   amparo indirecto                                                 \n",
              "15   amparo indirecto                                                 \n",
              "16   amparo indirecto                                                 \n",
              "17   amparo indirecto                                                 \n",
              "18   amparo indirecto                                                 \n",
              "19   amparo indirecto                                                 \n",
              "20   amparo indirecto                                                 \n",
              "21   amparo indirecto                                                 \n",
              "22   amparo indirecto                                                 \n",
              "23   amparo indirecto                                                 \n",
              "24   amparo indirecto                                                 \n",
              "25   amparo indirecto                                                 \n",
              "26   amparo indirecto                                                 \n",
              "27   amparo indirecto                                                 \n",
              "28   amparo indirecto                                                 \n",
              "29   amparo indirecto                                                 \n",
              "30   amparo indirecto                                                 \n",
              "⋮    ⋮                                                                \n",
              "5656 procesos federales administrativos y civiles en segunda instancia\n",
              "5657 procesos federales administrativos y civiles en segunda instancia\n",
              "5658 procesos federales penales en segunda instancia                  \n",
              "5659 procesos federales administrativos y civiles en segunda instancia\n",
              "5660 procesos federales administrativos y civiles en segunda instancia\n",
              "5661 procesos federales administrativos y civiles en segunda instancia\n",
              "5662 procesos federales penales en segunda instancia                  \n",
              "5663 procesos federales administrativos y civiles en segunda instancia\n",
              "5664 procesos federales administrativos y civiles en segunda instancia\n",
              "5665 procesos federales administrativos y civiles en segunda instancia\n",
              "5666 procesos federales penales en segunda instancia                  \n",
              "5667 procesos federales administrativos y civiles en segunda instancia\n",
              "5668 procesos federales administrativos y civiles en segunda instancia\n",
              "5669 procesos federales administrativos y civiles en segunda instancia\n",
              "5670 procesos federales penales en segunda instancia                  \n",
              "5671 procesos federales administrativos y civiles en segunda instancia\n",
              "5672 procesos federales administrativos y civiles en segunda instancia\n",
              "5673 procesos federales administrativos y civiles en segunda instancia\n",
              "5674 procesos federales penales en segunda instancia                  \n",
              "5675 procesos federales administrativos y civiles en segunda instancia\n",
              "5676 procesos federales administrativos y civiles en segunda instancia\n",
              "5677 procesos federales administrativos y civiles en segunda instancia\n",
              "5678 procesos federales penales en segunda instancia                  \n",
              "5679 procesos federales administrativos y civiles en segunda instancia\n",
              "5680 procesos federales administrativos y civiles en segunda instancia\n",
              "5681 procesos federales administrativos y civiles en segunda instancia\n",
              "5682 procesos federales penales en segunda instancia                  \n",
              "5683 procesos federales administrativos y civiles en segunda instancia\n",
              "5684 procesos federales administrativos y civiles en segunda instancia\n",
              "5685 procesos federales administrativos y civiles en segunda instancia\n",
              "     tp_procedimiento sentido_RE sentido existencia_inicial ingresos\n",
              "1                                         89                429     \n",
              "2                                        104                312     \n",
              "3                                         31                175     \n",
              "4                                         12                 32     \n",
              "5                                          7                 59     \n",
              "6                                         29                 41     \n",
              "7                                         26                 40     \n",
              "8                                          5                 70     \n",
              "9                                          0                  3     \n",
              "10                                         9                 15     \n",
              "11                                        12                 94     \n",
              "12                                        23                 97     \n",
              "13                                        20                 64     \n",
              "14                                         3                 29     \n",
              "15                                        30                105     \n",
              "16                                        16                105     \n",
              "17                                        15                 52     \n",
              "18                                         1                 12     \n",
              "19                                        46                147     \n",
              "20                                         7                 18     \n",
              "21                                        32                 41     \n",
              "22                                         0                  3     \n",
              "23                                        13                 26     \n",
              "24                                         5                 25     \n",
              "25                                         0                  4     \n",
              "26                                         0                 26     \n",
              "27                                        13                 31     \n",
              "28                                         0                  4     \n",
              "29                                         0                  0     \n",
              "30                                         6                 53     \n",
              "⋮    ⋮                ⋮          ⋮       ⋮                  ⋮       \n",
              "5656 Otro             OTRO       Otro    0                  0       \n",
              "5657 Otro             OTRO       Otro    0                  0       \n",
              "5658 Otro             OTRO       Otro    0                  0       \n",
              "5659 Otro             OTRO       Otro    0                  0       \n",
              "5660 Otro             OTRO       Otro    0                  0       \n",
              "5661 Otro             OTRO       Otro    0                  0       \n",
              "5662 Otro             OTRO       Otro    0                  0       \n",
              "5663 Otro             OTRO       Otro    0                  0       \n",
              "5664 Otro             OTRO       Otro    0                  0       \n",
              "5665 Otro             OTRO       Otro    0                  0       \n",
              "5666 Otro             OTRO       Otro    0                  0       \n",
              "5667 Otro             OTRO       Otro    0                  0       \n",
              "5668 Otro             OTRO       Otro    0                  0       \n",
              "5669 Otro             OTRO       Otro    0                  0       \n",
              "5670 Otro             OTRO       Otro    0                  0       \n",
              "5671 Otro             OTRO       Otro    0                  0       \n",
              "5672 Otro             OTRO       Otro    0                  0       \n",
              "5673 Otro             OTRO       Otro    0                  0       \n",
              "5674 Otro             OTRO       Otro    0                  0       \n",
              "5675 Otro             OTRO       Otro    0                  0       \n",
              "5676 Otro             OTRO       Otro    0                  0       \n",
              "5677 Otro             OTRO       Otro    0                  0       \n",
              "5678 Otro             OTRO       Otro    0                  0       \n",
              "5679 Otro             OTRO       Otro    0                  0       \n",
              "5680 Otro             OTRO       Otro    0                  0       \n",
              "5681 Otro             OTRO       Otro    0                  0       \n",
              "5682 Otro             OTRO       Otro    0                  0       \n",
              "5683 Otro             OTRO       Otro    0                  0       \n",
              "5684 Otro             OTRO       Otro    0                  0       \n",
              "5685 Otro             OTRO       Otro    0                  0       \n",
              "     ingresos_nuevos reingresos ingresos_acuerdo ingresos_arch_prov egresos\n",
              "1    406             23         0                0                  0      \n",
              "2    294             18         0                0                  0      \n",
              "3    173              2         0                0                  0      \n",
              "4     31              1         0                0                  0      \n",
              "5     58              1         0                0                  0      \n",
              "6     41              0         0                0                  0      \n",
              "7     39              1         0                0                  0      \n",
              "8     69              1         0                0                  0      \n",
              "9      2              1         0                0                  0      \n",
              "10    14              1         0                0                  0      \n",
              "11    90              4         0                0                  0      \n",
              "12    95              2         0                0                  0      \n",
              "13    63              1         0                0                  0      \n",
              "14    28              1         0                0                  0      \n",
              "15    99              6         0                0                  0      \n",
              "16   102              3         0                0                  0      \n",
              "17    51              1         0                0                  0      \n",
              "18    12              0         0                0                  0      \n",
              "19   144              3         0                0                  0      \n",
              "20    18              0         0                0                  0      \n",
              "21    39              2         0                0                  0      \n",
              "22     3              0         0                0                  0      \n",
              "23    25              1         0                0                  0      \n",
              "24    23              2         0                0                  0      \n",
              "25     4              0         0                0                  0      \n",
              "26    26              0         0                0                  0      \n",
              "27    31              0         0                0                  0      \n",
              "28     4              0         0                0                  0      \n",
              "29     0              0         0                0                  0      \n",
              "30    52              1         0                0                  0      \n",
              "⋮    ⋮               ⋮          ⋮                ⋮                  ⋮      \n",
              "5656 0               0          0                0                   0     \n",
              "5657 0               0          0                0                   0     \n",
              "5658 0               0          0                0                   0     \n",
              "5659 0               0          0                0                   0     \n",
              "5660 0               0          0                0                   0     \n",
              "5661 0               0          0                0                   1     \n",
              "5662 0               0          0                0                   0     \n",
              "5663 0               0          0                0                   0     \n",
              "5664 0               0          0                0                   0     \n",
              "5665 0               0          0                0                  11     \n",
              "5666 0               0          0                0                   0     \n",
              "5667 0               0          0                0                   0     \n",
              "5668 0               0          0                0                   0     \n",
              "5669 0               0          0                0                   2     \n",
              "5670 0               0          0                0                   0     \n",
              "5671 0               0          0                0                   0     \n",
              "5672 0               0          0                0                   0     \n",
              "5673 0               0          0                0                   3     \n",
              "5674 0               0          0                0                   0     \n",
              "5675 0               0          0                0                   0     \n",
              "5676 0               0          0                0                   0     \n",
              "5677 0               0          0                0                   0     \n",
              "5678 0               0          0                0                   0     \n",
              "5679 0               0          0                0                   0     \n",
              "5680 0               0          0                0                   0     \n",
              "5681 0               0          0                0                   5     \n",
              "5682 0               0          0                0                   0     \n",
              "5683 0               0          0                0                   0     \n",
              "5684 0               0          0                0                   0     \n",
              "5685 0               0          0                0                   4     \n",
              "     egresos_acuerdo Existencia_final\n",
              "1    0               60              \n",
              "2    2               90              \n",
              "3    0               27              \n",
              "4    0                8              \n",
              "5    0                7              \n",
              "6    0               21              \n",
              "7    0               10              \n",
              "8    0               11              \n",
              "9    0                0              \n",
              "10   0                6              \n",
              "11   0               15              \n",
              "12   0               37              \n",
              "13   0               12              \n",
              "14   0                5              \n",
              "15   0               22              \n",
              "16   0               11              \n",
              "17   0                6              \n",
              "18   0                1              \n",
              "19   0               33              \n",
              "20   0                3              \n",
              "21   0               11              \n",
              "22   0                0              \n",
              "23   0                4              \n",
              "24   0                6              \n",
              "25   0                0              \n",
              "26   0                0              \n",
              "27   0               13              \n",
              "28   0                1              \n",
              "29   0                0              \n",
              "30   0                6              \n",
              "⋮    ⋮               ⋮               \n",
              "5656 0               0               \n",
              "5657 0               0               \n",
              "5658 0               0               \n",
              "5659 0               0               \n",
              "5660 0               0               \n",
              "5661 0               0               \n",
              "5662 0               0               \n",
              "5663 0               0               \n",
              "5664 0               0               \n",
              "5665 0               0               \n",
              "5666 0               0               \n",
              "5667 0               0               \n",
              "5668 0               0               \n",
              "5669 0               0               \n",
              "5670 0               0               \n",
              "5671 0               0               \n",
              "5672 0               0               \n",
              "5673 0               0               \n",
              "5674 0               0               \n",
              "5675 0               0               \n",
              "5676 0               0               \n",
              "5677 0               0               \n",
              "5678 0               0               \n",
              "5679 0               0               \n",
              "5680 0               0               \n",
              "5681 0               0               \n",
              "5682 0               0               \n",
              "5683 0               0               \n",
              "5684 0               0               \n",
              "5685 0               0               "
            ],
            "text/latex": "A tibble: 5685 × 17\n\\begin{tabular}{lllllllllllllllll}\n Periodo & circuito & tp\\_organo & materia\\_asunto & tp\\_asunto & tp\\_procedimiento & sentido\\_RE & sentido & existencia\\_inicial & ingresos & ingresos\\_nuevos & reingresos & ingresos\\_acuerdo & ingresos\\_arch\\_prov & egresos & egresos\\_acuerdo & Existencia\\_final\\\\\n <int> & <chr> & <chr> & <chr> & <chr> & <chr> & <chr> & <chr> & <int> & <int> & <int> & <int> & <int> & <int> & <int> & <int> & <int>\\\\\n\\hline\n\t 2020 & Primer Circuito/ Ciudad de México                 & Tribunales Unitarios de Circuito & Penal & amparo indirecto &  &  &  &  89 & 429 & 406 & 23 & 0 & 0 & 0 & 0 & 60\\\\\n\t 2020 & Segundo Circuito/ México                          & Tribunales Unitarios de Circuito & Penal & amparo indirecto &  &  &  & 104 & 312 & 294 & 18 & 0 & 0 & 0 & 2 & 90\\\\\n\t 2020 & Tercer Circuito/ Jalisco                          & Tribunales Unitarios de Circuito & Penal & amparo indirecto &  &  &  &  31 & 175 & 173 &  2 & 0 & 0 & 0 & 0 & 27\\\\\n\t 2020 & Cuarto Circuito/ Nuevo León                       & Tribunales Unitarios de Circuito & Penal & amparo indirecto &  &  &  &  12 &  32 &  31 &  1 & 0 & 0 & 0 & 0 &  8\\\\\n\t 2020 & Quinto Circuito/ Sonora                           & Tribunales Unitarios de Circuito & Penal & amparo indirecto &  &  &  &   7 &  59 &  58 &  1 & 0 & 0 & 0 & 0 &  7\\\\\n\t 2020 & Sexto Circuito/ Puebla                            & Tribunales Unitarios de Circuito & Penal & amparo indirecto &  &  &  &  29 &  41 &  41 &  0 & 0 & 0 & 0 & 0 & 21\\\\\n\t 2020 & Séptimo Circuito/ Veracruz de Ignacio de la Llave & Tribunales Unitarios de Circuito & Penal & amparo indirecto &  &  &  &  26 &  40 &  39 &  1 & 0 & 0 & 0 & 0 & 10\\\\\n\t 2020 & Octavo Circuito/ Coahuila de Zaragoza             & Tribunales Unitarios de Circuito & Penal & amparo indirecto &  &  &  &   5 &  70 &  69 &  1 & 0 & 0 & 0 & 0 & 11\\\\\n\t 2020 & Noveno Circuito/ San Luis Potosí                  & Tribunales Unitarios de Circuito & Penal & amparo indirecto &  &  &  &   0 &   3 &   2 &  1 & 0 & 0 & 0 & 0 &  0\\\\\n\t 2020 & Décimo Circuito/ Tabasco-Veracruz                 & Tribunales Unitarios de Circuito & Penal & amparo indirecto &  &  &  &   9 &  15 &  14 &  1 & 0 & 0 & 0 & 0 &  6\\\\\n\t 2020 & Decimoprimer Circuito/ Michoacán de Ocampo        & Tribunales Unitarios de Circuito & Penal & amparo indirecto &  &  &  &  12 &  94 &  90 &  4 & 0 & 0 & 0 & 0 & 15\\\\\n\t 2020 & Decimosegundo Circuito/ Sinaloa                   & Tribunales Unitarios de Circuito & Penal & amparo indirecto &  &  &  &  23 &  97 &  95 &  2 & 0 & 0 & 0 & 0 & 37\\\\\n\t 2020 & Decimotercer Circuito/ Oaxaca                     & Tribunales Unitarios de Circuito & Penal & amparo indirecto &  &  &  &  20 &  64 &  63 &  1 & 0 & 0 & 0 & 0 & 12\\\\\n\t 2020 & Decimocuarto Circuito/ Yucatán                    & Tribunales Unitarios de Circuito & Penal & amparo indirecto &  &  &  &   3 &  29 &  28 &  1 & 0 & 0 & 0 & 0 &  5\\\\\n\t 2020 & Decimoquinto Circuito/ Baja California            & Tribunales Unitarios de Circuito & Penal & amparo indirecto &  &  &  &  30 & 105 &  99 &  6 & 0 & 0 & 0 & 0 & 22\\\\\n\t 2020 & Decimosexto Circuito/ Guanajuato                  & Tribunales Unitarios de Circuito & Penal & amparo indirecto &  &  &  &  16 & 105 & 102 &  3 & 0 & 0 & 0 & 0 & 11\\\\\n\t 2020 & Decimoséptimo Circuito/ Chihuahua                 & Tribunales Unitarios de Circuito & Penal & amparo indirecto &  &  &  &  15 &  52 &  51 &  1 & 0 & 0 & 0 & 0 &  6\\\\\n\t 2020 & Decimoctavo Circuito/ Morelos                     & Tribunales Unitarios de Circuito & Penal & amparo indirecto &  &  &  &   1 &  12 &  12 &  0 & 0 & 0 & 0 & 0 &  1\\\\\n\t 2020 & Decimonoveno Circuito/ Tamaulipas                 & Tribunales Unitarios de Circuito & Penal & amparo indirecto &  &  &  &  46 & 147 & 144 &  3 & 0 & 0 & 0 & 0 & 33\\\\\n\t 2020 & Vigésimo Circuito/ Chiapas                        & Tribunales Unitarios de Circuito & Penal & amparo indirecto &  &  &  &   7 &  18 &  18 &  0 & 0 & 0 & 0 & 0 &  3\\\\\n\t 2020 & Vigésimo Primer Circuito/ Guerrero                & Tribunales Unitarios de Circuito & Penal & amparo indirecto &  &  &  &  32 &  41 &  39 &  2 & 0 & 0 & 0 & 0 & 11\\\\\n\t 2020 & Vigésimo Segundo Circuito/ Querétaro              & Tribunales Unitarios de Circuito & Penal & amparo indirecto &  &  &  &   0 &   3 &   3 &  0 & 0 & 0 & 0 & 0 &  0\\\\\n\t 2020 & Vigésimo Tercer Circuito/ Zacatecas               & Tribunales Unitarios de Circuito & Penal & amparo indirecto &  &  &  &  13 &  26 &  25 &  1 & 0 & 0 & 0 & 0 &  4\\\\\n\t 2020 & Vigésimo Cuarto Circuito/ Nayarit                 & Tribunales Unitarios de Circuito & Penal & amparo indirecto &  &  &  &   5 &  25 &  23 &  2 & 0 & 0 & 0 & 0 &  6\\\\\n\t 2020 & Vigésimo Quinto Circuito/ Durango                 & Tribunales Unitarios de Circuito & Penal & amparo indirecto &  &  &  &   0 &   4 &   4 &  0 & 0 & 0 & 0 & 0 &  0\\\\\n\t 2020 & Vigésimo Sexto Circuito/ Baja California Sur      & Tribunales Unitarios de Circuito & Penal & amparo indirecto &  &  &  &   0 &  26 &  26 &  0 & 0 & 0 & 0 & 0 &  0\\\\\n\t 2020 & Vigésimo Séptimo Circuito/ Quintana Roo           & Tribunales Unitarios de Circuito & Penal & amparo indirecto &  &  &  &  13 &  31 &  31 &  0 & 0 & 0 & 0 & 0 & 13\\\\\n\t 2020 & Vigésimo Octavo Circuito/ Tlaxcala                & Tribunales Unitarios de Circuito & Penal & amparo indirecto &  &  &  &   0 &   4 &   4 &  0 & 0 & 0 & 0 & 0 &  1\\\\\n\t 2020 & Vigésimo Noveno Circuito/ Hidalgo                 & Tribunales Unitarios de Circuito & Penal & amparo indirecto &  &  &  &   0 &   0 &   0 &  0 & 0 & 0 & 0 & 0 &  0\\\\\n\t 2020 & Trigésimo Circuito/ Aguascalientes                & Tribunales Unitarios de Circuito & Penal & amparo indirecto &  &  &  &   6 &  53 &  52 &  1 & 0 & 0 & 0 & 0 &  6\\\\\n\t ⋮ & ⋮ & ⋮ & ⋮ & ⋮ & ⋮ & ⋮ & ⋮ & ⋮ & ⋮ & ⋮ & ⋮ & ⋮ & ⋮ & ⋮ & ⋮ & ⋮\\\\\n\t 2020 & Vigésimo Quinto Circuito/ Durango            & Tribunales Unitarios de Circuito & Civil          & procesos federales administrativos y civiles en segunda instancia & Otro & OTRO & Otro & 0 & 0 & 0 & 0 & 0 & 0 &  0 & 0 & 0\\\\\n\t 2020 & Vigésimo Quinto Circuito/ Durango            & Tribunales Unitarios de Circuito & Mercantil      & procesos federales administrativos y civiles en segunda instancia & Otro & OTRO & Otro & 0 & 0 & 0 & 0 & 0 & 0 &  0 & 0 & 0\\\\\n\t 2020 & Vigésimo Sexto Circuito/ Baja California Sur & Tribunales Unitarios de Circuito & Penal          & procesos federales penales en segunda instancia                   & Otro & OTRO & Otro & 0 & 0 & 0 & 0 & 0 & 0 &  0 & 0 & 0\\\\\n\t 2020 & Vigésimo Sexto Circuito/ Baja California Sur & Tribunales Unitarios de Circuito & Administrativa & procesos federales administrativos y civiles en segunda instancia & Otro & OTRO & Otro & 0 & 0 & 0 & 0 & 0 & 0 &  0 & 0 & 0\\\\\n\t 2020 & Vigésimo Sexto Circuito/ Baja California Sur & Tribunales Unitarios de Circuito & Civil          & procesos federales administrativos y civiles en segunda instancia & Otro & OTRO & Otro & 0 & 0 & 0 & 0 & 0 & 0 &  0 & 0 & 0\\\\\n\t 2020 & Vigésimo Sexto Circuito/ Baja California Sur & Tribunales Unitarios de Circuito & Mercantil      & procesos federales administrativos y civiles en segunda instancia & Otro & OTRO & Otro & 0 & 0 & 0 & 0 & 0 & 0 &  1 & 0 & 0\\\\\n\t 2020 & Vigésimo Séptimo Circuito/ Quintana Roo      & Tribunales Unitarios de Circuito & Penal          & procesos federales penales en segunda instancia                   & Otro & OTRO & Otro & 0 & 0 & 0 & 0 & 0 & 0 &  0 & 0 & 0\\\\\n\t 2020 & Vigésimo Séptimo Circuito/ Quintana Roo      & Tribunales Unitarios de Circuito & Administrativa & procesos federales administrativos y civiles en segunda instancia & Otro & OTRO & Otro & 0 & 0 & 0 & 0 & 0 & 0 &  0 & 0 & 0\\\\\n\t 2020 & Vigésimo Séptimo Circuito/ Quintana Roo      & Tribunales Unitarios de Circuito & Civil          & procesos federales administrativos y civiles en segunda instancia & Otro & OTRO & Otro & 0 & 0 & 0 & 0 & 0 & 0 &  0 & 0 & 0\\\\\n\t 2020 & Vigésimo Séptimo Circuito/ Quintana Roo      & Tribunales Unitarios de Circuito & Mercantil      & procesos federales administrativos y civiles en segunda instancia & Otro & OTRO & Otro & 0 & 0 & 0 & 0 & 0 & 0 & 11 & 0 & 0\\\\\n\t 2020 & Vigésimo Octavo Circuito/ Tlaxcala           & Tribunales Unitarios de Circuito & Penal          & procesos federales penales en segunda instancia                   & Otro & OTRO & Otro & 0 & 0 & 0 & 0 & 0 & 0 &  0 & 0 & 0\\\\\n\t 2020 & Vigésimo Octavo Circuito/ Tlaxcala           & Tribunales Unitarios de Circuito & Administrativa & procesos federales administrativos y civiles en segunda instancia & Otro & OTRO & Otro & 0 & 0 & 0 & 0 & 0 & 0 &  0 & 0 & 0\\\\\n\t 2020 & Vigésimo Octavo Circuito/ Tlaxcala           & Tribunales Unitarios de Circuito & Civil          & procesos federales administrativos y civiles en segunda instancia & Otro & OTRO & Otro & 0 & 0 & 0 & 0 & 0 & 0 &  0 & 0 & 0\\\\\n\t 2020 & Vigésimo Octavo Circuito/ Tlaxcala           & Tribunales Unitarios de Circuito & Mercantil      & procesos federales administrativos y civiles en segunda instancia & Otro & OTRO & Otro & 0 & 0 & 0 & 0 & 0 & 0 &  2 & 0 & 0\\\\\n\t 2020 & Vigésimo Noveno Circuito/ Hidalgo            & Tribunales Unitarios de Circuito & Penal          & procesos federales penales en segunda instancia                   & Otro & OTRO & Otro & 0 & 0 & 0 & 0 & 0 & 0 &  0 & 0 & 0\\\\\n\t 2020 & Vigésimo Noveno Circuito/ Hidalgo            & Tribunales Unitarios de Circuito & Administrativa & procesos federales administrativos y civiles en segunda instancia & Otro & OTRO & Otro & 0 & 0 & 0 & 0 & 0 & 0 &  0 & 0 & 0\\\\\n\t 2020 & Vigésimo Noveno Circuito/ Hidalgo            & Tribunales Unitarios de Circuito & Civil          & procesos federales administrativos y civiles en segunda instancia & Otro & OTRO & Otro & 0 & 0 & 0 & 0 & 0 & 0 &  0 & 0 & 0\\\\\n\t 2020 & Vigésimo Noveno Circuito/ Hidalgo            & Tribunales Unitarios de Circuito & Mercantil      & procesos federales administrativos y civiles en segunda instancia & Otro & OTRO & Otro & 0 & 0 & 0 & 0 & 0 & 0 &  3 & 0 & 0\\\\\n\t 2020 & Trigésimo Circuito/ Aguascalientes           & Tribunales Unitarios de Circuito & Penal          & procesos federales penales en segunda instancia                   & Otro & OTRO & Otro & 0 & 0 & 0 & 0 & 0 & 0 &  0 & 0 & 0\\\\\n\t 2020 & Trigésimo Circuito/ Aguascalientes           & Tribunales Unitarios de Circuito & Administrativa & procesos federales administrativos y civiles en segunda instancia & Otro & OTRO & Otro & 0 & 0 & 0 & 0 & 0 & 0 &  0 & 0 & 0\\\\\n\t 2020 & Trigésimo Circuito/ Aguascalientes           & Tribunales Unitarios de Circuito & Civil          & procesos federales administrativos y civiles en segunda instancia & Otro & OTRO & Otro & 0 & 0 & 0 & 0 & 0 & 0 &  0 & 0 & 0\\\\\n\t 2020 & Trigésimo Circuito/ Aguascalientes           & Tribunales Unitarios de Circuito & Mercantil      & procesos federales administrativos y civiles en segunda instancia & Otro & OTRO & Otro & 0 & 0 & 0 & 0 & 0 & 0 &  0 & 0 & 0\\\\\n\t 2020 & Trigésimo Primer Circuito/ Campeche          & Tribunales Unitarios de Circuito & Penal          & procesos federales penales en segunda instancia                   & Otro & OTRO & Otro & 0 & 0 & 0 & 0 & 0 & 0 &  0 & 0 & 0\\\\\n\t 2020 & Trigésimo Primer Circuito/ Campeche          & Tribunales Unitarios de Circuito & Administrativa & procesos federales administrativos y civiles en segunda instancia & Otro & OTRO & Otro & 0 & 0 & 0 & 0 & 0 & 0 &  0 & 0 & 0\\\\\n\t 2020 & Trigésimo Primer Circuito/ Campeche          & Tribunales Unitarios de Circuito & Civil          & procesos federales administrativos y civiles en segunda instancia & Otro & OTRO & Otro & 0 & 0 & 0 & 0 & 0 & 0 &  0 & 0 & 0\\\\\n\t 2020 & Trigésimo Primer Circuito/ Campeche          & Tribunales Unitarios de Circuito & Mercantil      & procesos federales administrativos y civiles en segunda instancia & Otro & OTRO & Otro & 0 & 0 & 0 & 0 & 0 & 0 &  5 & 0 & 0\\\\\n\t 2020 & Trigésimo Segundo Circuito/ Colima           & Tribunales Unitarios de Circuito & Penal          & procesos federales penales en segunda instancia                   & Otro & OTRO & Otro & 0 & 0 & 0 & 0 & 0 & 0 &  0 & 0 & 0\\\\\n\t 2020 & Trigésimo Segundo Circuito/ Colima           & Tribunales Unitarios de Circuito & Administrativa & procesos federales administrativos y civiles en segunda instancia & Otro & OTRO & Otro & 0 & 0 & 0 & 0 & 0 & 0 &  0 & 0 & 0\\\\\n\t 2020 & Trigésimo Segundo Circuito/ Colima           & Tribunales Unitarios de Circuito & Civil          & procesos federales administrativos y civiles en segunda instancia & Otro & OTRO & Otro & 0 & 0 & 0 & 0 & 0 & 0 &  0 & 0 & 0\\\\\n\t 2020 & Trigésimo Segundo Circuito/ Colima           & Tribunales Unitarios de Circuito & Mercantil      & procesos federales administrativos y civiles en segunda instancia & Otro & OTRO & Otro & 0 & 0 & 0 & 0 & 0 & 0 &  4 & 0 & 0\\\\\n\\end{tabular}\n",
            "text/markdown": "\nA tibble: 5685 × 17\n\n| Periodo &lt;int&gt; | circuito &lt;chr&gt; | tp_organo &lt;chr&gt; | materia_asunto &lt;chr&gt; | tp_asunto &lt;chr&gt; | tp_procedimiento &lt;chr&gt; | sentido_RE &lt;chr&gt; | sentido &lt;chr&gt; | existencia_inicial &lt;int&gt; | ingresos &lt;int&gt; | ingresos_nuevos &lt;int&gt; | reingresos &lt;int&gt; | ingresos_acuerdo &lt;int&gt; | ingresos_arch_prov &lt;int&gt; | egresos &lt;int&gt; | egresos_acuerdo &lt;int&gt; | Existencia_final &lt;int&gt; |\n|---|---|---|---|---|---|---|---|---|---|---|---|---|---|---|---|---|\n| 2020 | Primer Circuito/ Ciudad de México                 | Tribunales Unitarios de Circuito | Penal | amparo indirecto | <!----> | <!----> | <!----> |  89 | 429 | 406 | 23 | 0 | 0 | 0 | 0 | 60 |\n| 2020 | Segundo Circuito/ México                          | Tribunales Unitarios de Circuito | Penal | amparo indirecto | <!----> | <!----> | <!----> | 104 | 312 | 294 | 18 | 0 | 0 | 0 | 2 | 90 |\n| 2020 | Tercer Circuito/ Jalisco                          | Tribunales Unitarios de Circuito | Penal | amparo indirecto | <!----> | <!----> | <!----> |  31 | 175 | 173 |  2 | 0 | 0 | 0 | 0 | 27 |\n| 2020 | Cuarto Circuito/ Nuevo León                       | Tribunales Unitarios de Circuito | Penal | amparo indirecto | <!----> | <!----> | <!----> |  12 |  32 |  31 |  1 | 0 | 0 | 0 | 0 |  8 |\n| 2020 | Quinto Circuito/ Sonora                           | Tribunales Unitarios de Circuito | Penal | amparo indirecto | <!----> | <!----> | <!----> |   7 |  59 |  58 |  1 | 0 | 0 | 0 | 0 |  7 |\n| 2020 | Sexto Circuito/ Puebla                            | Tribunales Unitarios de Circuito | Penal | amparo indirecto | <!----> | <!----> | <!----> |  29 |  41 |  41 |  0 | 0 | 0 | 0 | 0 | 21 |\n| 2020 | Séptimo Circuito/ Veracruz de Ignacio de la Llave | Tribunales Unitarios de Circuito | Penal | amparo indirecto | <!----> | <!----> | <!----> |  26 |  40 |  39 |  1 | 0 | 0 | 0 | 0 | 10 |\n| 2020 | Octavo Circuito/ Coahuila de Zaragoza             | Tribunales Unitarios de Circuito | Penal | amparo indirecto | <!----> | <!----> | <!----> |   5 |  70 |  69 |  1 | 0 | 0 | 0 | 0 | 11 |\n| 2020 | Noveno Circuito/ San Luis Potosí                  | Tribunales Unitarios de Circuito | Penal | amparo indirecto | <!----> | <!----> | <!----> |   0 |   3 |   2 |  1 | 0 | 0 | 0 | 0 |  0 |\n| 2020 | Décimo Circuito/ Tabasco-Veracruz                 | Tribunales Unitarios de Circuito | Penal | amparo indirecto | <!----> | <!----> | <!----> |   9 |  15 |  14 |  1 | 0 | 0 | 0 | 0 |  6 |\n| 2020 | Decimoprimer Circuito/ Michoacán de Ocampo        | Tribunales Unitarios de Circuito | Penal | amparo indirecto | <!----> | <!----> | <!----> |  12 |  94 |  90 |  4 | 0 | 0 | 0 | 0 | 15 |\n| 2020 | Decimosegundo Circuito/ Sinaloa                   | Tribunales Unitarios de Circuito | Penal | amparo indirecto | <!----> | <!----> | <!----> |  23 |  97 |  95 |  2 | 0 | 0 | 0 | 0 | 37 |\n| 2020 | Decimotercer Circuito/ Oaxaca                     | Tribunales Unitarios de Circuito | Penal | amparo indirecto | <!----> | <!----> | <!----> |  20 |  64 |  63 |  1 | 0 | 0 | 0 | 0 | 12 |\n| 2020 | Decimocuarto Circuito/ Yucatán                    | Tribunales Unitarios de Circuito | Penal | amparo indirecto | <!----> | <!----> | <!----> |   3 |  29 |  28 |  1 | 0 | 0 | 0 | 0 |  5 |\n| 2020 | Decimoquinto Circuito/ Baja California            | Tribunales Unitarios de Circuito | Penal | amparo indirecto | <!----> | <!----> | <!----> |  30 | 105 |  99 |  6 | 0 | 0 | 0 | 0 | 22 |\n| 2020 | Decimosexto Circuito/ Guanajuato                  | Tribunales Unitarios de Circuito | Penal | amparo indirecto | <!----> | <!----> | <!----> |  16 | 105 | 102 |  3 | 0 | 0 | 0 | 0 | 11 |\n| 2020 | Decimoséptimo Circuito/ Chihuahua                 | Tribunales Unitarios de Circuito | Penal | amparo indirecto | <!----> | <!----> | <!----> |  15 |  52 |  51 |  1 | 0 | 0 | 0 | 0 |  6 |\n| 2020 | Decimoctavo Circuito/ Morelos                     | Tribunales Unitarios de Circuito | Penal | amparo indirecto | <!----> | <!----> | <!----> |   1 |  12 |  12 |  0 | 0 | 0 | 0 | 0 |  1 |\n| 2020 | Decimonoveno Circuito/ Tamaulipas                 | Tribunales Unitarios de Circuito | Penal | amparo indirecto | <!----> | <!----> | <!----> |  46 | 147 | 144 |  3 | 0 | 0 | 0 | 0 | 33 |\n| 2020 | Vigésimo Circuito/ Chiapas                        | Tribunales Unitarios de Circuito | Penal | amparo indirecto | <!----> | <!----> | <!----> |   7 |  18 |  18 |  0 | 0 | 0 | 0 | 0 |  3 |\n| 2020 | Vigésimo Primer Circuito/ Guerrero                | Tribunales Unitarios de Circuito | Penal | amparo indirecto | <!----> | <!----> | <!----> |  32 |  41 |  39 |  2 | 0 | 0 | 0 | 0 | 11 |\n| 2020 | Vigésimo Segundo Circuito/ Querétaro              | Tribunales Unitarios de Circuito | Penal | amparo indirecto | <!----> | <!----> | <!----> |   0 |   3 |   3 |  0 | 0 | 0 | 0 | 0 |  0 |\n| 2020 | Vigésimo Tercer Circuito/ Zacatecas               | Tribunales Unitarios de Circuito | Penal | amparo indirecto | <!----> | <!----> | <!----> |  13 |  26 |  25 |  1 | 0 | 0 | 0 | 0 |  4 |\n| 2020 | Vigésimo Cuarto Circuito/ Nayarit                 | Tribunales Unitarios de Circuito | Penal | amparo indirecto | <!----> | <!----> | <!----> |   5 |  25 |  23 |  2 | 0 | 0 | 0 | 0 |  6 |\n| 2020 | Vigésimo Quinto Circuito/ Durango                 | Tribunales Unitarios de Circuito | Penal | amparo indirecto | <!----> | <!----> | <!----> |   0 |   4 |   4 |  0 | 0 | 0 | 0 | 0 |  0 |\n| 2020 | Vigésimo Sexto Circuito/ Baja California Sur      | Tribunales Unitarios de Circuito | Penal | amparo indirecto | <!----> | <!----> | <!----> |   0 |  26 |  26 |  0 | 0 | 0 | 0 | 0 |  0 |\n| 2020 | Vigésimo Séptimo Circuito/ Quintana Roo           | Tribunales Unitarios de Circuito | Penal | amparo indirecto | <!----> | <!----> | <!----> |  13 |  31 |  31 |  0 | 0 | 0 | 0 | 0 | 13 |\n| 2020 | Vigésimo Octavo Circuito/ Tlaxcala                | Tribunales Unitarios de Circuito | Penal | amparo indirecto | <!----> | <!----> | <!----> |   0 |   4 |   4 |  0 | 0 | 0 | 0 | 0 |  1 |\n| 2020 | Vigésimo Noveno Circuito/ Hidalgo                 | Tribunales Unitarios de Circuito | Penal | amparo indirecto | <!----> | <!----> | <!----> |   0 |   0 |   0 |  0 | 0 | 0 | 0 | 0 |  0 |\n| 2020 | Trigésimo Circuito/ Aguascalientes                | Tribunales Unitarios de Circuito | Penal | amparo indirecto | <!----> | <!----> | <!----> |   6 |  53 |  52 |  1 | 0 | 0 | 0 | 0 |  6 |\n| ⋮ | ⋮ | ⋮ | ⋮ | ⋮ | ⋮ | ⋮ | ⋮ | ⋮ | ⋮ | ⋮ | ⋮ | ⋮ | ⋮ | ⋮ | ⋮ | ⋮ |\n| 2020 | Vigésimo Quinto Circuito/ Durango            | Tribunales Unitarios de Circuito | Civil          | procesos federales administrativos y civiles en segunda instancia | Otro | OTRO | Otro | 0 | 0 | 0 | 0 | 0 | 0 |  0 | 0 | 0 |\n| 2020 | Vigésimo Quinto Circuito/ Durango            | Tribunales Unitarios de Circuito | Mercantil      | procesos federales administrativos y civiles en segunda instancia | Otro | OTRO | Otro | 0 | 0 | 0 | 0 | 0 | 0 |  0 | 0 | 0 |\n| 2020 | Vigésimo Sexto Circuito/ Baja California Sur | Tribunales Unitarios de Circuito | Penal          | procesos federales penales en segunda instancia                   | Otro | OTRO | Otro | 0 | 0 | 0 | 0 | 0 | 0 |  0 | 0 | 0 |\n| 2020 | Vigésimo Sexto Circuito/ Baja California Sur | Tribunales Unitarios de Circuito | Administrativa | procesos federales administrativos y civiles en segunda instancia | Otro | OTRO | Otro | 0 | 0 | 0 | 0 | 0 | 0 |  0 | 0 | 0 |\n| 2020 | Vigésimo Sexto Circuito/ Baja California Sur | Tribunales Unitarios de Circuito | Civil          | procesos federales administrativos y civiles en segunda instancia | Otro | OTRO | Otro | 0 | 0 | 0 | 0 | 0 | 0 |  0 | 0 | 0 |\n| 2020 | Vigésimo Sexto Circuito/ Baja California Sur | Tribunales Unitarios de Circuito | Mercantil      | procesos federales administrativos y civiles en segunda instancia | Otro | OTRO | Otro | 0 | 0 | 0 | 0 | 0 | 0 |  1 | 0 | 0 |\n| 2020 | Vigésimo Séptimo Circuito/ Quintana Roo      | Tribunales Unitarios de Circuito | Penal          | procesos federales penales en segunda instancia                   | Otro | OTRO | Otro | 0 | 0 | 0 | 0 | 0 | 0 |  0 | 0 | 0 |\n| 2020 | Vigésimo Séptimo Circuito/ Quintana Roo      | Tribunales Unitarios de Circuito | Administrativa | procesos federales administrativos y civiles en segunda instancia | Otro | OTRO | Otro | 0 | 0 | 0 | 0 | 0 | 0 |  0 | 0 | 0 |\n| 2020 | Vigésimo Séptimo Circuito/ Quintana Roo      | Tribunales Unitarios de Circuito | Civil          | procesos federales administrativos y civiles en segunda instancia | Otro | OTRO | Otro | 0 | 0 | 0 | 0 | 0 | 0 |  0 | 0 | 0 |\n| 2020 | Vigésimo Séptimo Circuito/ Quintana Roo      | Tribunales Unitarios de Circuito | Mercantil      | procesos federales administrativos y civiles en segunda instancia | Otro | OTRO | Otro | 0 | 0 | 0 | 0 | 0 | 0 | 11 | 0 | 0 |\n| 2020 | Vigésimo Octavo Circuito/ Tlaxcala           | Tribunales Unitarios de Circuito | Penal          | procesos federales penales en segunda instancia                   | Otro | OTRO | Otro | 0 | 0 | 0 | 0 | 0 | 0 |  0 | 0 | 0 |\n| 2020 | Vigésimo Octavo Circuito/ Tlaxcala           | Tribunales Unitarios de Circuito | Administrativa | procesos federales administrativos y civiles en segunda instancia | Otro | OTRO | Otro | 0 | 0 | 0 | 0 | 0 | 0 |  0 | 0 | 0 |\n| 2020 | Vigésimo Octavo Circuito/ Tlaxcala           | Tribunales Unitarios de Circuito | Civil          | procesos federales administrativos y civiles en segunda instancia | Otro | OTRO | Otro | 0 | 0 | 0 | 0 | 0 | 0 |  0 | 0 | 0 |\n| 2020 | Vigésimo Octavo Circuito/ Tlaxcala           | Tribunales Unitarios de Circuito | Mercantil      | procesos federales administrativos y civiles en segunda instancia | Otro | OTRO | Otro | 0 | 0 | 0 | 0 | 0 | 0 |  2 | 0 | 0 |\n| 2020 | Vigésimo Noveno Circuito/ Hidalgo            | Tribunales Unitarios de Circuito | Penal          | procesos federales penales en segunda instancia                   | Otro | OTRO | Otro | 0 | 0 | 0 | 0 | 0 | 0 |  0 | 0 | 0 |\n| 2020 | Vigésimo Noveno Circuito/ Hidalgo            | Tribunales Unitarios de Circuito | Administrativa | procesos federales administrativos y civiles en segunda instancia | Otro | OTRO | Otro | 0 | 0 | 0 | 0 | 0 | 0 |  0 | 0 | 0 |\n| 2020 | Vigésimo Noveno Circuito/ Hidalgo            | Tribunales Unitarios de Circuito | Civil          | procesos federales administrativos y civiles en segunda instancia | Otro | OTRO | Otro | 0 | 0 | 0 | 0 | 0 | 0 |  0 | 0 | 0 |\n| 2020 | Vigésimo Noveno Circuito/ Hidalgo            | Tribunales Unitarios de Circuito | Mercantil      | procesos federales administrativos y civiles en segunda instancia | Otro | OTRO | Otro | 0 | 0 | 0 | 0 | 0 | 0 |  3 | 0 | 0 |\n| 2020 | Trigésimo Circuito/ Aguascalientes           | Tribunales Unitarios de Circuito | Penal          | procesos federales penales en segunda instancia                   | Otro | OTRO | Otro | 0 | 0 | 0 | 0 | 0 | 0 |  0 | 0 | 0 |\n| 2020 | Trigésimo Circuito/ Aguascalientes           | Tribunales Unitarios de Circuito | Administrativa | procesos federales administrativos y civiles en segunda instancia | Otro | OTRO | Otro | 0 | 0 | 0 | 0 | 0 | 0 |  0 | 0 | 0 |\n| 2020 | Trigésimo Circuito/ Aguascalientes           | Tribunales Unitarios de Circuito | Civil          | procesos federales administrativos y civiles en segunda instancia | Otro | OTRO | Otro | 0 | 0 | 0 | 0 | 0 | 0 |  0 | 0 | 0 |\n| 2020 | Trigésimo Circuito/ Aguascalientes           | Tribunales Unitarios de Circuito | Mercantil      | procesos federales administrativos y civiles en segunda instancia | Otro | OTRO | Otro | 0 | 0 | 0 | 0 | 0 | 0 |  0 | 0 | 0 |\n| 2020 | Trigésimo Primer Circuito/ Campeche          | Tribunales Unitarios de Circuito | Penal          | procesos federales penales en segunda instancia                   | Otro | OTRO | Otro | 0 | 0 | 0 | 0 | 0 | 0 |  0 | 0 | 0 |\n| 2020 | Trigésimo Primer Circuito/ Campeche          | Tribunales Unitarios de Circuito | Administrativa | procesos federales administrativos y civiles en segunda instancia | Otro | OTRO | Otro | 0 | 0 | 0 | 0 | 0 | 0 |  0 | 0 | 0 |\n| 2020 | Trigésimo Primer Circuito/ Campeche          | Tribunales Unitarios de Circuito | Civil          | procesos federales administrativos y civiles en segunda instancia | Otro | OTRO | Otro | 0 | 0 | 0 | 0 | 0 | 0 |  0 | 0 | 0 |\n| 2020 | Trigésimo Primer Circuito/ Campeche          | Tribunales Unitarios de Circuito | Mercantil      | procesos federales administrativos y civiles en segunda instancia | Otro | OTRO | Otro | 0 | 0 | 0 | 0 | 0 | 0 |  5 | 0 | 0 |\n| 2020 | Trigésimo Segundo Circuito/ Colima           | Tribunales Unitarios de Circuito | Penal          | procesos federales penales en segunda instancia                   | Otro | OTRO | Otro | 0 | 0 | 0 | 0 | 0 | 0 |  0 | 0 | 0 |\n| 2020 | Trigésimo Segundo Circuito/ Colima           | Tribunales Unitarios de Circuito | Administrativa | procesos federales administrativos y civiles en segunda instancia | Otro | OTRO | Otro | 0 | 0 | 0 | 0 | 0 | 0 |  0 | 0 | 0 |\n| 2020 | Trigésimo Segundo Circuito/ Colima           | Tribunales Unitarios de Circuito | Civil          | procesos federales administrativos y civiles en segunda instancia | Otro | OTRO | Otro | 0 | 0 | 0 | 0 | 0 | 0 |  0 | 0 | 0 |\n| 2020 | Trigésimo Segundo Circuito/ Colima           | Tribunales Unitarios de Circuito | Mercantil      | procesos federales administrativos y civiles en segunda instancia | Otro | OTRO | Otro | 0 | 0 | 0 | 0 | 0 | 0 |  4 | 0 | 0 |\n\n",
            "text/html": [
              "<table class=\"dataframe\">\n",
              "<caption>A tibble: 5685 × 17</caption>\n",
              "<thead>\n",
              "\t<tr><th scope=col>Periodo</th><th scope=col>circuito</th><th scope=col>tp_organo</th><th scope=col>materia_asunto</th><th scope=col>tp_asunto</th><th scope=col>tp_procedimiento</th><th scope=col>sentido_RE</th><th scope=col>sentido</th><th scope=col>existencia_inicial</th><th scope=col>ingresos</th><th scope=col>ingresos_nuevos</th><th scope=col>reingresos</th><th scope=col>ingresos_acuerdo</th><th scope=col>ingresos_arch_prov</th><th scope=col>egresos</th><th scope=col>egresos_acuerdo</th><th scope=col>Existencia_final</th></tr>\n",
              "\t<tr><th scope=col>&lt;int&gt;</th><th scope=col>&lt;chr&gt;</th><th scope=col>&lt;chr&gt;</th><th scope=col>&lt;chr&gt;</th><th scope=col>&lt;chr&gt;</th><th scope=col>&lt;chr&gt;</th><th scope=col>&lt;chr&gt;</th><th scope=col>&lt;chr&gt;</th><th scope=col>&lt;int&gt;</th><th scope=col>&lt;int&gt;</th><th scope=col>&lt;int&gt;</th><th scope=col>&lt;int&gt;</th><th scope=col>&lt;int&gt;</th><th scope=col>&lt;int&gt;</th><th scope=col>&lt;int&gt;</th><th scope=col>&lt;int&gt;</th><th scope=col>&lt;int&gt;</th></tr>\n",
              "</thead>\n",
              "<tbody>\n",
              "\t<tr><td>2020</td><td>Primer Circuito/ Ciudad de México                </td><td>Tribunales Unitarios de Circuito</td><td>Penal</td><td>amparo indirecto</td><td></td><td></td><td></td><td> 89</td><td>429</td><td>406</td><td>23</td><td>0</td><td>0</td><td>0</td><td>0</td><td>60</td></tr>\n",
              "\t<tr><td>2020</td><td>Segundo Circuito/ México                         </td><td>Tribunales Unitarios de Circuito</td><td>Penal</td><td>amparo indirecto</td><td></td><td></td><td></td><td>104</td><td>312</td><td>294</td><td>18</td><td>0</td><td>0</td><td>0</td><td>2</td><td>90</td></tr>\n",
              "\t<tr><td>2020</td><td>Tercer Circuito/ Jalisco                         </td><td>Tribunales Unitarios de Circuito</td><td>Penal</td><td>amparo indirecto</td><td></td><td></td><td></td><td> 31</td><td>175</td><td>173</td><td> 2</td><td>0</td><td>0</td><td>0</td><td>0</td><td>27</td></tr>\n",
              "\t<tr><td>2020</td><td>Cuarto Circuito/ Nuevo León                      </td><td>Tribunales Unitarios de Circuito</td><td>Penal</td><td>amparo indirecto</td><td></td><td></td><td></td><td> 12</td><td> 32</td><td> 31</td><td> 1</td><td>0</td><td>0</td><td>0</td><td>0</td><td> 8</td></tr>\n",
              "\t<tr><td>2020</td><td>Quinto Circuito/ Sonora                          </td><td>Tribunales Unitarios de Circuito</td><td>Penal</td><td>amparo indirecto</td><td></td><td></td><td></td><td>  7</td><td> 59</td><td> 58</td><td> 1</td><td>0</td><td>0</td><td>0</td><td>0</td><td> 7</td></tr>\n",
              "\t<tr><td>2020</td><td>Sexto Circuito/ Puebla                           </td><td>Tribunales Unitarios de Circuito</td><td>Penal</td><td>amparo indirecto</td><td></td><td></td><td></td><td> 29</td><td> 41</td><td> 41</td><td> 0</td><td>0</td><td>0</td><td>0</td><td>0</td><td>21</td></tr>\n",
              "\t<tr><td>2020</td><td>Séptimo Circuito/ Veracruz de Ignacio de la Llave</td><td>Tribunales Unitarios de Circuito</td><td>Penal</td><td>amparo indirecto</td><td></td><td></td><td></td><td> 26</td><td> 40</td><td> 39</td><td> 1</td><td>0</td><td>0</td><td>0</td><td>0</td><td>10</td></tr>\n",
              "\t<tr><td>2020</td><td>Octavo Circuito/ Coahuila de Zaragoza            </td><td>Tribunales Unitarios de Circuito</td><td>Penal</td><td>amparo indirecto</td><td></td><td></td><td></td><td>  5</td><td> 70</td><td> 69</td><td> 1</td><td>0</td><td>0</td><td>0</td><td>0</td><td>11</td></tr>\n",
              "\t<tr><td>2020</td><td>Noveno Circuito/ San Luis Potosí                 </td><td>Tribunales Unitarios de Circuito</td><td>Penal</td><td>amparo indirecto</td><td></td><td></td><td></td><td>  0</td><td>  3</td><td>  2</td><td> 1</td><td>0</td><td>0</td><td>0</td><td>0</td><td> 0</td></tr>\n",
              "\t<tr><td>2020</td><td>Décimo Circuito/ Tabasco-Veracruz                </td><td>Tribunales Unitarios de Circuito</td><td>Penal</td><td>amparo indirecto</td><td></td><td></td><td></td><td>  9</td><td> 15</td><td> 14</td><td> 1</td><td>0</td><td>0</td><td>0</td><td>0</td><td> 6</td></tr>\n",
              "\t<tr><td>2020</td><td>Decimoprimer Circuito/ Michoacán de Ocampo       </td><td>Tribunales Unitarios de Circuito</td><td>Penal</td><td>amparo indirecto</td><td></td><td></td><td></td><td> 12</td><td> 94</td><td> 90</td><td> 4</td><td>0</td><td>0</td><td>0</td><td>0</td><td>15</td></tr>\n",
              "\t<tr><td>2020</td><td>Decimosegundo Circuito/ Sinaloa                  </td><td>Tribunales Unitarios de Circuito</td><td>Penal</td><td>amparo indirecto</td><td></td><td></td><td></td><td> 23</td><td> 97</td><td> 95</td><td> 2</td><td>0</td><td>0</td><td>0</td><td>0</td><td>37</td></tr>\n",
              "\t<tr><td>2020</td><td>Decimotercer Circuito/ Oaxaca                    </td><td>Tribunales Unitarios de Circuito</td><td>Penal</td><td>amparo indirecto</td><td></td><td></td><td></td><td> 20</td><td> 64</td><td> 63</td><td> 1</td><td>0</td><td>0</td><td>0</td><td>0</td><td>12</td></tr>\n",
              "\t<tr><td>2020</td><td>Decimocuarto Circuito/ Yucatán                   </td><td>Tribunales Unitarios de Circuito</td><td>Penal</td><td>amparo indirecto</td><td></td><td></td><td></td><td>  3</td><td> 29</td><td> 28</td><td> 1</td><td>0</td><td>0</td><td>0</td><td>0</td><td> 5</td></tr>\n",
              "\t<tr><td>2020</td><td>Decimoquinto Circuito/ Baja California           </td><td>Tribunales Unitarios de Circuito</td><td>Penal</td><td>amparo indirecto</td><td></td><td></td><td></td><td> 30</td><td>105</td><td> 99</td><td> 6</td><td>0</td><td>0</td><td>0</td><td>0</td><td>22</td></tr>\n",
              "\t<tr><td>2020</td><td>Decimosexto Circuito/ Guanajuato                 </td><td>Tribunales Unitarios de Circuito</td><td>Penal</td><td>amparo indirecto</td><td></td><td></td><td></td><td> 16</td><td>105</td><td>102</td><td> 3</td><td>0</td><td>0</td><td>0</td><td>0</td><td>11</td></tr>\n",
              "\t<tr><td>2020</td><td>Decimoséptimo Circuito/ Chihuahua                </td><td>Tribunales Unitarios de Circuito</td><td>Penal</td><td>amparo indirecto</td><td></td><td></td><td></td><td> 15</td><td> 52</td><td> 51</td><td> 1</td><td>0</td><td>0</td><td>0</td><td>0</td><td> 6</td></tr>\n",
              "\t<tr><td>2020</td><td>Decimoctavo Circuito/ Morelos                    </td><td>Tribunales Unitarios de Circuito</td><td>Penal</td><td>amparo indirecto</td><td></td><td></td><td></td><td>  1</td><td> 12</td><td> 12</td><td> 0</td><td>0</td><td>0</td><td>0</td><td>0</td><td> 1</td></tr>\n",
              "\t<tr><td>2020</td><td>Decimonoveno Circuito/ Tamaulipas                </td><td>Tribunales Unitarios de Circuito</td><td>Penal</td><td>amparo indirecto</td><td></td><td></td><td></td><td> 46</td><td>147</td><td>144</td><td> 3</td><td>0</td><td>0</td><td>0</td><td>0</td><td>33</td></tr>\n",
              "\t<tr><td>2020</td><td>Vigésimo Circuito/ Chiapas                       </td><td>Tribunales Unitarios de Circuito</td><td>Penal</td><td>amparo indirecto</td><td></td><td></td><td></td><td>  7</td><td> 18</td><td> 18</td><td> 0</td><td>0</td><td>0</td><td>0</td><td>0</td><td> 3</td></tr>\n",
              "\t<tr><td>2020</td><td>Vigésimo Primer Circuito/ Guerrero               </td><td>Tribunales Unitarios de Circuito</td><td>Penal</td><td>amparo indirecto</td><td></td><td></td><td></td><td> 32</td><td> 41</td><td> 39</td><td> 2</td><td>0</td><td>0</td><td>0</td><td>0</td><td>11</td></tr>\n",
              "\t<tr><td>2020</td><td>Vigésimo Segundo Circuito/ Querétaro             </td><td>Tribunales Unitarios de Circuito</td><td>Penal</td><td>amparo indirecto</td><td></td><td></td><td></td><td>  0</td><td>  3</td><td>  3</td><td> 0</td><td>0</td><td>0</td><td>0</td><td>0</td><td> 0</td></tr>\n",
              "\t<tr><td>2020</td><td>Vigésimo Tercer Circuito/ Zacatecas              </td><td>Tribunales Unitarios de Circuito</td><td>Penal</td><td>amparo indirecto</td><td></td><td></td><td></td><td> 13</td><td> 26</td><td> 25</td><td> 1</td><td>0</td><td>0</td><td>0</td><td>0</td><td> 4</td></tr>\n",
              "\t<tr><td>2020</td><td>Vigésimo Cuarto Circuito/ Nayarit                </td><td>Tribunales Unitarios de Circuito</td><td>Penal</td><td>amparo indirecto</td><td></td><td></td><td></td><td>  5</td><td> 25</td><td> 23</td><td> 2</td><td>0</td><td>0</td><td>0</td><td>0</td><td> 6</td></tr>\n",
              "\t<tr><td>2020</td><td>Vigésimo Quinto Circuito/ Durango                </td><td>Tribunales Unitarios de Circuito</td><td>Penal</td><td>amparo indirecto</td><td></td><td></td><td></td><td>  0</td><td>  4</td><td>  4</td><td> 0</td><td>0</td><td>0</td><td>0</td><td>0</td><td> 0</td></tr>\n",
              "\t<tr><td>2020</td><td>Vigésimo Sexto Circuito/ Baja California Sur     </td><td>Tribunales Unitarios de Circuito</td><td>Penal</td><td>amparo indirecto</td><td></td><td></td><td></td><td>  0</td><td> 26</td><td> 26</td><td> 0</td><td>0</td><td>0</td><td>0</td><td>0</td><td> 0</td></tr>\n",
              "\t<tr><td>2020</td><td>Vigésimo Séptimo Circuito/ Quintana Roo          </td><td>Tribunales Unitarios de Circuito</td><td>Penal</td><td>amparo indirecto</td><td></td><td></td><td></td><td> 13</td><td> 31</td><td> 31</td><td> 0</td><td>0</td><td>0</td><td>0</td><td>0</td><td>13</td></tr>\n",
              "\t<tr><td>2020</td><td>Vigésimo Octavo Circuito/ Tlaxcala               </td><td>Tribunales Unitarios de Circuito</td><td>Penal</td><td>amparo indirecto</td><td></td><td></td><td></td><td>  0</td><td>  4</td><td>  4</td><td> 0</td><td>0</td><td>0</td><td>0</td><td>0</td><td> 1</td></tr>\n",
              "\t<tr><td>2020</td><td>Vigésimo Noveno Circuito/ Hidalgo                </td><td>Tribunales Unitarios de Circuito</td><td>Penal</td><td>amparo indirecto</td><td></td><td></td><td></td><td>  0</td><td>  0</td><td>  0</td><td> 0</td><td>0</td><td>0</td><td>0</td><td>0</td><td> 0</td></tr>\n",
              "\t<tr><td>2020</td><td>Trigésimo Circuito/ Aguascalientes               </td><td>Tribunales Unitarios de Circuito</td><td>Penal</td><td>amparo indirecto</td><td></td><td></td><td></td><td>  6</td><td> 53</td><td> 52</td><td> 1</td><td>0</td><td>0</td><td>0</td><td>0</td><td> 6</td></tr>\n",
              "\t<tr><td>⋮</td><td>⋮</td><td>⋮</td><td>⋮</td><td>⋮</td><td>⋮</td><td>⋮</td><td>⋮</td><td>⋮</td><td>⋮</td><td>⋮</td><td>⋮</td><td>⋮</td><td>⋮</td><td>⋮</td><td>⋮</td><td>⋮</td></tr>\n",
              "\t<tr><td>2020</td><td>Vigésimo Quinto Circuito/ Durango           </td><td>Tribunales Unitarios de Circuito</td><td>Civil         </td><td>procesos federales administrativos y civiles en segunda instancia</td><td>Otro</td><td>OTRO</td><td>Otro</td><td>0</td><td>0</td><td>0</td><td>0</td><td>0</td><td>0</td><td> 0</td><td>0</td><td>0</td></tr>\n",
              "\t<tr><td>2020</td><td>Vigésimo Quinto Circuito/ Durango           </td><td>Tribunales Unitarios de Circuito</td><td>Mercantil     </td><td>procesos federales administrativos y civiles en segunda instancia</td><td>Otro</td><td>OTRO</td><td>Otro</td><td>0</td><td>0</td><td>0</td><td>0</td><td>0</td><td>0</td><td> 0</td><td>0</td><td>0</td></tr>\n",
              "\t<tr><td>2020</td><td>Vigésimo Sexto Circuito/ Baja California Sur</td><td>Tribunales Unitarios de Circuito</td><td>Penal         </td><td>procesos federales penales en segunda instancia                  </td><td>Otro</td><td>OTRO</td><td>Otro</td><td>0</td><td>0</td><td>0</td><td>0</td><td>0</td><td>0</td><td> 0</td><td>0</td><td>0</td></tr>\n",
              "\t<tr><td>2020</td><td>Vigésimo Sexto Circuito/ Baja California Sur</td><td>Tribunales Unitarios de Circuito</td><td>Administrativa</td><td>procesos federales administrativos y civiles en segunda instancia</td><td>Otro</td><td>OTRO</td><td>Otro</td><td>0</td><td>0</td><td>0</td><td>0</td><td>0</td><td>0</td><td> 0</td><td>0</td><td>0</td></tr>\n",
              "\t<tr><td>2020</td><td>Vigésimo Sexto Circuito/ Baja California Sur</td><td>Tribunales Unitarios de Circuito</td><td>Civil         </td><td>procesos federales administrativos y civiles en segunda instancia</td><td>Otro</td><td>OTRO</td><td>Otro</td><td>0</td><td>0</td><td>0</td><td>0</td><td>0</td><td>0</td><td> 0</td><td>0</td><td>0</td></tr>\n",
              "\t<tr><td>2020</td><td>Vigésimo Sexto Circuito/ Baja California Sur</td><td>Tribunales Unitarios de Circuito</td><td>Mercantil     </td><td>procesos federales administrativos y civiles en segunda instancia</td><td>Otro</td><td>OTRO</td><td>Otro</td><td>0</td><td>0</td><td>0</td><td>0</td><td>0</td><td>0</td><td> 1</td><td>0</td><td>0</td></tr>\n",
              "\t<tr><td>2020</td><td>Vigésimo Séptimo Circuito/ Quintana Roo     </td><td>Tribunales Unitarios de Circuito</td><td>Penal         </td><td>procesos federales penales en segunda instancia                  </td><td>Otro</td><td>OTRO</td><td>Otro</td><td>0</td><td>0</td><td>0</td><td>0</td><td>0</td><td>0</td><td> 0</td><td>0</td><td>0</td></tr>\n",
              "\t<tr><td>2020</td><td>Vigésimo Séptimo Circuito/ Quintana Roo     </td><td>Tribunales Unitarios de Circuito</td><td>Administrativa</td><td>procesos federales administrativos y civiles en segunda instancia</td><td>Otro</td><td>OTRO</td><td>Otro</td><td>0</td><td>0</td><td>0</td><td>0</td><td>0</td><td>0</td><td> 0</td><td>0</td><td>0</td></tr>\n",
              "\t<tr><td>2020</td><td>Vigésimo Séptimo Circuito/ Quintana Roo     </td><td>Tribunales Unitarios de Circuito</td><td>Civil         </td><td>procesos federales administrativos y civiles en segunda instancia</td><td>Otro</td><td>OTRO</td><td>Otro</td><td>0</td><td>0</td><td>0</td><td>0</td><td>0</td><td>0</td><td> 0</td><td>0</td><td>0</td></tr>\n",
              "\t<tr><td>2020</td><td>Vigésimo Séptimo Circuito/ Quintana Roo     </td><td>Tribunales Unitarios de Circuito</td><td>Mercantil     </td><td>procesos federales administrativos y civiles en segunda instancia</td><td>Otro</td><td>OTRO</td><td>Otro</td><td>0</td><td>0</td><td>0</td><td>0</td><td>0</td><td>0</td><td>11</td><td>0</td><td>0</td></tr>\n",
              "\t<tr><td>2020</td><td>Vigésimo Octavo Circuito/ Tlaxcala          </td><td>Tribunales Unitarios de Circuito</td><td>Penal         </td><td>procesos federales penales en segunda instancia                  </td><td>Otro</td><td>OTRO</td><td>Otro</td><td>0</td><td>0</td><td>0</td><td>0</td><td>0</td><td>0</td><td> 0</td><td>0</td><td>0</td></tr>\n",
              "\t<tr><td>2020</td><td>Vigésimo Octavo Circuito/ Tlaxcala          </td><td>Tribunales Unitarios de Circuito</td><td>Administrativa</td><td>procesos federales administrativos y civiles en segunda instancia</td><td>Otro</td><td>OTRO</td><td>Otro</td><td>0</td><td>0</td><td>0</td><td>0</td><td>0</td><td>0</td><td> 0</td><td>0</td><td>0</td></tr>\n",
              "\t<tr><td>2020</td><td>Vigésimo Octavo Circuito/ Tlaxcala          </td><td>Tribunales Unitarios de Circuito</td><td>Civil         </td><td>procesos federales administrativos y civiles en segunda instancia</td><td>Otro</td><td>OTRO</td><td>Otro</td><td>0</td><td>0</td><td>0</td><td>0</td><td>0</td><td>0</td><td> 0</td><td>0</td><td>0</td></tr>\n",
              "\t<tr><td>2020</td><td>Vigésimo Octavo Circuito/ Tlaxcala          </td><td>Tribunales Unitarios de Circuito</td><td>Mercantil     </td><td>procesos federales administrativos y civiles en segunda instancia</td><td>Otro</td><td>OTRO</td><td>Otro</td><td>0</td><td>0</td><td>0</td><td>0</td><td>0</td><td>0</td><td> 2</td><td>0</td><td>0</td></tr>\n",
              "\t<tr><td>2020</td><td>Vigésimo Noveno Circuito/ Hidalgo           </td><td>Tribunales Unitarios de Circuito</td><td>Penal         </td><td>procesos federales penales en segunda instancia                  </td><td>Otro</td><td>OTRO</td><td>Otro</td><td>0</td><td>0</td><td>0</td><td>0</td><td>0</td><td>0</td><td> 0</td><td>0</td><td>0</td></tr>\n",
              "\t<tr><td>2020</td><td>Vigésimo Noveno Circuito/ Hidalgo           </td><td>Tribunales Unitarios de Circuito</td><td>Administrativa</td><td>procesos federales administrativos y civiles en segunda instancia</td><td>Otro</td><td>OTRO</td><td>Otro</td><td>0</td><td>0</td><td>0</td><td>0</td><td>0</td><td>0</td><td> 0</td><td>0</td><td>0</td></tr>\n",
              "\t<tr><td>2020</td><td>Vigésimo Noveno Circuito/ Hidalgo           </td><td>Tribunales Unitarios de Circuito</td><td>Civil         </td><td>procesos federales administrativos y civiles en segunda instancia</td><td>Otro</td><td>OTRO</td><td>Otro</td><td>0</td><td>0</td><td>0</td><td>0</td><td>0</td><td>0</td><td> 0</td><td>0</td><td>0</td></tr>\n",
              "\t<tr><td>2020</td><td>Vigésimo Noveno Circuito/ Hidalgo           </td><td>Tribunales Unitarios de Circuito</td><td>Mercantil     </td><td>procesos federales administrativos y civiles en segunda instancia</td><td>Otro</td><td>OTRO</td><td>Otro</td><td>0</td><td>0</td><td>0</td><td>0</td><td>0</td><td>0</td><td> 3</td><td>0</td><td>0</td></tr>\n",
              "\t<tr><td>2020</td><td>Trigésimo Circuito/ Aguascalientes          </td><td>Tribunales Unitarios de Circuito</td><td>Penal         </td><td>procesos federales penales en segunda instancia                  </td><td>Otro</td><td>OTRO</td><td>Otro</td><td>0</td><td>0</td><td>0</td><td>0</td><td>0</td><td>0</td><td> 0</td><td>0</td><td>0</td></tr>\n",
              "\t<tr><td>2020</td><td>Trigésimo Circuito/ Aguascalientes          </td><td>Tribunales Unitarios de Circuito</td><td>Administrativa</td><td>procesos federales administrativos y civiles en segunda instancia</td><td>Otro</td><td>OTRO</td><td>Otro</td><td>0</td><td>0</td><td>0</td><td>0</td><td>0</td><td>0</td><td> 0</td><td>0</td><td>0</td></tr>\n",
              "\t<tr><td>2020</td><td>Trigésimo Circuito/ Aguascalientes          </td><td>Tribunales Unitarios de Circuito</td><td>Civil         </td><td>procesos federales administrativos y civiles en segunda instancia</td><td>Otro</td><td>OTRO</td><td>Otro</td><td>0</td><td>0</td><td>0</td><td>0</td><td>0</td><td>0</td><td> 0</td><td>0</td><td>0</td></tr>\n",
              "\t<tr><td>2020</td><td>Trigésimo Circuito/ Aguascalientes          </td><td>Tribunales Unitarios de Circuito</td><td>Mercantil     </td><td>procesos federales administrativos y civiles en segunda instancia</td><td>Otro</td><td>OTRO</td><td>Otro</td><td>0</td><td>0</td><td>0</td><td>0</td><td>0</td><td>0</td><td> 0</td><td>0</td><td>0</td></tr>\n",
              "\t<tr><td>2020</td><td>Trigésimo Primer Circuito/ Campeche         </td><td>Tribunales Unitarios de Circuito</td><td>Penal         </td><td>procesos federales penales en segunda instancia                  </td><td>Otro</td><td>OTRO</td><td>Otro</td><td>0</td><td>0</td><td>0</td><td>0</td><td>0</td><td>0</td><td> 0</td><td>0</td><td>0</td></tr>\n",
              "\t<tr><td>2020</td><td>Trigésimo Primer Circuito/ Campeche         </td><td>Tribunales Unitarios de Circuito</td><td>Administrativa</td><td>procesos federales administrativos y civiles en segunda instancia</td><td>Otro</td><td>OTRO</td><td>Otro</td><td>0</td><td>0</td><td>0</td><td>0</td><td>0</td><td>0</td><td> 0</td><td>0</td><td>0</td></tr>\n",
              "\t<tr><td>2020</td><td>Trigésimo Primer Circuito/ Campeche         </td><td>Tribunales Unitarios de Circuito</td><td>Civil         </td><td>procesos federales administrativos y civiles en segunda instancia</td><td>Otro</td><td>OTRO</td><td>Otro</td><td>0</td><td>0</td><td>0</td><td>0</td><td>0</td><td>0</td><td> 0</td><td>0</td><td>0</td></tr>\n",
              "\t<tr><td>2020</td><td>Trigésimo Primer Circuito/ Campeche         </td><td>Tribunales Unitarios de Circuito</td><td>Mercantil     </td><td>procesos federales administrativos y civiles en segunda instancia</td><td>Otro</td><td>OTRO</td><td>Otro</td><td>0</td><td>0</td><td>0</td><td>0</td><td>0</td><td>0</td><td> 5</td><td>0</td><td>0</td></tr>\n",
              "\t<tr><td>2020</td><td>Trigésimo Segundo Circuito/ Colima          </td><td>Tribunales Unitarios de Circuito</td><td>Penal         </td><td>procesos federales penales en segunda instancia                  </td><td>Otro</td><td>OTRO</td><td>Otro</td><td>0</td><td>0</td><td>0</td><td>0</td><td>0</td><td>0</td><td> 0</td><td>0</td><td>0</td></tr>\n",
              "\t<tr><td>2020</td><td>Trigésimo Segundo Circuito/ Colima          </td><td>Tribunales Unitarios de Circuito</td><td>Administrativa</td><td>procesos federales administrativos y civiles en segunda instancia</td><td>Otro</td><td>OTRO</td><td>Otro</td><td>0</td><td>0</td><td>0</td><td>0</td><td>0</td><td>0</td><td> 0</td><td>0</td><td>0</td></tr>\n",
              "\t<tr><td>2020</td><td>Trigésimo Segundo Circuito/ Colima          </td><td>Tribunales Unitarios de Circuito</td><td>Civil         </td><td>procesos federales administrativos y civiles en segunda instancia</td><td>Otro</td><td>OTRO</td><td>Otro</td><td>0</td><td>0</td><td>0</td><td>0</td><td>0</td><td>0</td><td> 0</td><td>0</td><td>0</td></tr>\n",
              "\t<tr><td>2020</td><td>Trigésimo Segundo Circuito/ Colima          </td><td>Tribunales Unitarios de Circuito</td><td>Mercantil     </td><td>procesos federales administrativos y civiles en segunda instancia</td><td>Otro</td><td>OTRO</td><td>Otro</td><td>0</td><td>0</td><td>0</td><td>0</td><td>0</td><td>0</td><td> 4</td><td>0</td><td>0</td></tr>\n",
              "</tbody>\n",
              "</table>\n"
            ]
          },
          "metadata": {
            "tags": []
          }
        }
      ]
    },
    {
      "cell_type": "code",
      "metadata": {
        "colab": {
          "base_uri": "https://localhost:8080/",
          "height": 1000
        },
        "id": "XmReuvN0Rd79",
        "outputId": "ad78a729-1c20-448e-cda2-4bf064b12e13"
      },
      "source": [
        "#procesos federales penales en segunda instancia\n",
        "#otros\n",
        "cubo %>%\n",
        "filter(tp_organo == \"Tribunales Unitarios de Circuito\") %>%\n",
        "filter(tp_asunto == \"procesos federales penales en segunda instancia\") %>%\n",
        "filter(tp_procedimiento == \"Otro\") %>%\n",
        "mutate(egresos = egresos + egresos_acuerdo) %>% # egresos + egresos por acuerdo?\n",
        "select(circuito,  existencia_inicial, ingresos, egresos, Existencia_final) %>%\n",
        "mutate(circuito = factor(circuito, levels = orden_circuitos)) %>%\n",
        "group_by(circuito) %>%\n",
        "summarise_all(list(sum))%>%\n",
        "filter(!is.na(existencia_inicial))  %>%\n",
        "adorn_totals()"
      ],
      "execution_count": null,
      "outputs": [
        {
          "output_type": "display_data",
          "data": {
            "text/plain": [
              "   circuito                                          existencia_inicial\n",
              "1  Primer Circuito/ Ciudad de México                 0                 \n",
              "2  Segundo Circuito/ México                          0                 \n",
              "3  Tercer Circuito/ Jalisco                          0                 \n",
              "4  Cuarto Circuito/ Nuevo León                       0                 \n",
              "5  Quinto Circuito/ Sonora                           0                 \n",
              "6  Sexto Circuito/ Puebla                            0                 \n",
              "7  Séptimo Circuito/ Veracruz de Ignacio de la Llave 0                 \n",
              "8  Octavo Circuito/ Coahuila de Zaragoza             8                 \n",
              "9  Noveno Circuito/ San Luis Potosí                  0                 \n",
              "10 Décimo Circuito/ Tabasco-Veracruz                 0                 \n",
              "11 Decimoprimer Circuito/ Michoacán de Ocampo        0                 \n",
              "12 Decimosegundo Circuito/ Sinaloa                   0                 \n",
              "13 Decimotercer Circuito/ Oaxaca                     0                 \n",
              "14 Decimocuarto Circuito/ Yucatán                    0                 \n",
              "15 Decimoquinto Circuito/ Baja California            0                 \n",
              "16 Decimosexto Circuito/ Guanajuato                  0                 \n",
              "17 Decimoséptimo Circuito/ Chihuahua                 0                 \n",
              "18 Decimoctavo Circuito/ Morelos                     0                 \n",
              "19 Decimonoveno Circuito/ Tamaulipas                 0                 \n",
              "20 Vigésimo Circuito/ Chiapas                        0                 \n",
              "21 Vigésimo Primer Circuito/ Guerrero                0                 \n",
              "22 Vigésimo Segundo Circuito/ Querétaro              0                 \n",
              "23 Vigésimo Tercer Circuito/ Zacatecas               0                 \n",
              "24 Vigésimo Cuarto Circuito/ Nayarit                 0                 \n",
              "25 Vigésimo Quinto Circuito/ Durango                 0                 \n",
              "26 Vigésimo Sexto Circuito/ Baja California Sur      0                 \n",
              "27 Vigésimo Séptimo Circuito/ Quintana Roo           0                 \n",
              "28 Vigésimo Octavo Circuito/ Tlaxcala                0                 \n",
              "29 Vigésimo Noveno Circuito/ Hidalgo                 0                 \n",
              "30 Trigésimo Circuito/ Aguascalientes                0                 \n",
              "31 Trigésimo Primer Circuito/ Campeche               0                 \n",
              "32 Trigésimo Segundo Circuito/ Colima                0                 \n",
              "33 Total                                             8                 \n",
              "   ingresos egresos Existencia_final\n",
              "1   0        0       0              \n",
              "2   0        0       0              \n",
              "3   0        0       0              \n",
              "4   0        0       0              \n",
              "5   0        0       0              \n",
              "6   0        0       0              \n",
              "7   0        0       0              \n",
              "8  67       62      13              \n",
              "9   0        0       0              \n",
              "10  0        0       0              \n",
              "11  0        0       0              \n",
              "12  0        0       0              \n",
              "13  0        0       0              \n",
              "14  0        0       0              \n",
              "15  0        0       0              \n",
              "16  0        0       0              \n",
              "17  0        0       0              \n",
              "18  0        0       0              \n",
              "19  0        0       0              \n",
              "20  0        0       0              \n",
              "21  0        0       0              \n",
              "22  0        0       0              \n",
              "23  0        0       0              \n",
              "24  0        0       0              \n",
              "25  0        0       0              \n",
              "26  0        0       0              \n",
              "27  0        0       0              \n",
              "28  0        0       0              \n",
              "29  0        0       0              \n",
              "30  0        0       0              \n",
              "31  0        0       0              \n",
              "32  0        0       0              \n",
              "33 67       62      13              "
            ],
            "text/latex": "A tabyl: 33 × 5\n\\begin{tabular}{lllll}\n circuito & existencia\\_inicial & ingresos & egresos & Existencia\\_final\\\\\n <chr> & <int> & <int> & <int> & <int>\\\\\n\\hline\n\t Primer Circuito/ Ciudad de México                 & 0 &  0 &  0 &  0\\\\\n\t Segundo Circuito/ México                          & 0 &  0 &  0 &  0\\\\\n\t Tercer Circuito/ Jalisco                          & 0 &  0 &  0 &  0\\\\\n\t Cuarto Circuito/ Nuevo León                       & 0 &  0 &  0 &  0\\\\\n\t Quinto Circuito/ Sonora                           & 0 &  0 &  0 &  0\\\\\n\t Sexto Circuito/ Puebla                            & 0 &  0 &  0 &  0\\\\\n\t Séptimo Circuito/ Veracruz de Ignacio de la Llave & 0 &  0 &  0 &  0\\\\\n\t Octavo Circuito/ Coahuila de Zaragoza             & 8 & 67 & 62 & 13\\\\\n\t Noveno Circuito/ San Luis Potosí                  & 0 &  0 &  0 &  0\\\\\n\t Décimo Circuito/ Tabasco-Veracruz                 & 0 &  0 &  0 &  0\\\\\n\t Decimoprimer Circuito/ Michoacán de Ocampo        & 0 &  0 &  0 &  0\\\\\n\t Decimosegundo Circuito/ Sinaloa                   & 0 &  0 &  0 &  0\\\\\n\t Decimotercer Circuito/ Oaxaca                     & 0 &  0 &  0 &  0\\\\\n\t Decimocuarto Circuito/ Yucatán                    & 0 &  0 &  0 &  0\\\\\n\t Decimoquinto Circuito/ Baja California            & 0 &  0 &  0 &  0\\\\\n\t Decimosexto Circuito/ Guanajuato                  & 0 &  0 &  0 &  0\\\\\n\t Decimoséptimo Circuito/ Chihuahua                 & 0 &  0 &  0 &  0\\\\\n\t Decimoctavo Circuito/ Morelos                     & 0 &  0 &  0 &  0\\\\\n\t Decimonoveno Circuito/ Tamaulipas                 & 0 &  0 &  0 &  0\\\\\n\t Vigésimo Circuito/ Chiapas                        & 0 &  0 &  0 &  0\\\\\n\t Vigésimo Primer Circuito/ Guerrero                & 0 &  0 &  0 &  0\\\\\n\t Vigésimo Segundo Circuito/ Querétaro              & 0 &  0 &  0 &  0\\\\\n\t Vigésimo Tercer Circuito/ Zacatecas               & 0 &  0 &  0 &  0\\\\\n\t Vigésimo Cuarto Circuito/ Nayarit                 & 0 &  0 &  0 &  0\\\\\n\t Vigésimo Quinto Circuito/ Durango                 & 0 &  0 &  0 &  0\\\\\n\t Vigésimo Sexto Circuito/ Baja California Sur      & 0 &  0 &  0 &  0\\\\\n\t Vigésimo Séptimo Circuito/ Quintana Roo           & 0 &  0 &  0 &  0\\\\\n\t Vigésimo Octavo Circuito/ Tlaxcala                & 0 &  0 &  0 &  0\\\\\n\t Vigésimo Noveno Circuito/ Hidalgo                 & 0 &  0 &  0 &  0\\\\\n\t Trigésimo Circuito/ Aguascalientes                & 0 &  0 &  0 &  0\\\\\n\t Trigésimo Primer Circuito/ Campeche               & 0 &  0 &  0 &  0\\\\\n\t Trigésimo Segundo Circuito/ Colima                & 0 &  0 &  0 &  0\\\\\n\t Total                                             & 8 & 67 & 62 & 13\\\\\n\\end{tabular}\n",
            "text/markdown": "\nA tabyl: 33 × 5\n\n| circuito &lt;chr&gt; | existencia_inicial &lt;int&gt; | ingresos &lt;int&gt; | egresos &lt;int&gt; | Existencia_final &lt;int&gt; |\n|---|---|---|---|---|\n| Primer Circuito/ Ciudad de México                 | 0 |  0 |  0 |  0 |\n| Segundo Circuito/ México                          | 0 |  0 |  0 |  0 |\n| Tercer Circuito/ Jalisco                          | 0 |  0 |  0 |  0 |\n| Cuarto Circuito/ Nuevo León                       | 0 |  0 |  0 |  0 |\n| Quinto Circuito/ Sonora                           | 0 |  0 |  0 |  0 |\n| Sexto Circuito/ Puebla                            | 0 |  0 |  0 |  0 |\n| Séptimo Circuito/ Veracruz de Ignacio de la Llave | 0 |  0 |  0 |  0 |\n| Octavo Circuito/ Coahuila de Zaragoza             | 8 | 67 | 62 | 13 |\n| Noveno Circuito/ San Luis Potosí                  | 0 |  0 |  0 |  0 |\n| Décimo Circuito/ Tabasco-Veracruz                 | 0 |  0 |  0 |  0 |\n| Decimoprimer Circuito/ Michoacán de Ocampo        | 0 |  0 |  0 |  0 |\n| Decimosegundo Circuito/ Sinaloa                   | 0 |  0 |  0 |  0 |\n| Decimotercer Circuito/ Oaxaca                     | 0 |  0 |  0 |  0 |\n| Decimocuarto Circuito/ Yucatán                    | 0 |  0 |  0 |  0 |\n| Decimoquinto Circuito/ Baja California            | 0 |  0 |  0 |  0 |\n| Decimosexto Circuito/ Guanajuato                  | 0 |  0 |  0 |  0 |\n| Decimoséptimo Circuito/ Chihuahua                 | 0 |  0 |  0 |  0 |\n| Decimoctavo Circuito/ Morelos                     | 0 |  0 |  0 |  0 |\n| Decimonoveno Circuito/ Tamaulipas                 | 0 |  0 |  0 |  0 |\n| Vigésimo Circuito/ Chiapas                        | 0 |  0 |  0 |  0 |\n| Vigésimo Primer Circuito/ Guerrero                | 0 |  0 |  0 |  0 |\n| Vigésimo Segundo Circuito/ Querétaro              | 0 |  0 |  0 |  0 |\n| Vigésimo Tercer Circuito/ Zacatecas               | 0 |  0 |  0 |  0 |\n| Vigésimo Cuarto Circuito/ Nayarit                 | 0 |  0 |  0 |  0 |\n| Vigésimo Quinto Circuito/ Durango                 | 0 |  0 |  0 |  0 |\n| Vigésimo Sexto Circuito/ Baja California Sur      | 0 |  0 |  0 |  0 |\n| Vigésimo Séptimo Circuito/ Quintana Roo           | 0 |  0 |  0 |  0 |\n| Vigésimo Octavo Circuito/ Tlaxcala                | 0 |  0 |  0 |  0 |\n| Vigésimo Noveno Circuito/ Hidalgo                 | 0 |  0 |  0 |  0 |\n| Trigésimo Circuito/ Aguascalientes                | 0 |  0 |  0 |  0 |\n| Trigésimo Primer Circuito/ Campeche               | 0 |  0 |  0 |  0 |\n| Trigésimo Segundo Circuito/ Colima                | 0 |  0 |  0 |  0 |\n| Total                                             | 8 | 67 | 62 | 13 |\n\n",
            "text/html": [
              "<table class=\"dataframe\">\n",
              "<caption>A tabyl: 33 × 5</caption>\n",
              "<thead>\n",
              "\t<tr><th scope=col>circuito</th><th scope=col>existencia_inicial</th><th scope=col>ingresos</th><th scope=col>egresos</th><th scope=col>Existencia_final</th></tr>\n",
              "\t<tr><th scope=col>&lt;chr&gt;</th><th scope=col>&lt;int&gt;</th><th scope=col>&lt;int&gt;</th><th scope=col>&lt;int&gt;</th><th scope=col>&lt;int&gt;</th></tr>\n",
              "</thead>\n",
              "<tbody>\n",
              "\t<tr><td>Primer Circuito/ Ciudad de México                </td><td>0</td><td> 0</td><td> 0</td><td> 0</td></tr>\n",
              "\t<tr><td>Segundo Circuito/ México                         </td><td>0</td><td> 0</td><td> 0</td><td> 0</td></tr>\n",
              "\t<tr><td>Tercer Circuito/ Jalisco                         </td><td>0</td><td> 0</td><td> 0</td><td> 0</td></tr>\n",
              "\t<tr><td>Cuarto Circuito/ Nuevo León                      </td><td>0</td><td> 0</td><td> 0</td><td> 0</td></tr>\n",
              "\t<tr><td>Quinto Circuito/ Sonora                          </td><td>0</td><td> 0</td><td> 0</td><td> 0</td></tr>\n",
              "\t<tr><td>Sexto Circuito/ Puebla                           </td><td>0</td><td> 0</td><td> 0</td><td> 0</td></tr>\n",
              "\t<tr><td>Séptimo Circuito/ Veracruz de Ignacio de la Llave</td><td>0</td><td> 0</td><td> 0</td><td> 0</td></tr>\n",
              "\t<tr><td>Octavo Circuito/ Coahuila de Zaragoza            </td><td>8</td><td>67</td><td>62</td><td>13</td></tr>\n",
              "\t<tr><td>Noveno Circuito/ San Luis Potosí                 </td><td>0</td><td> 0</td><td> 0</td><td> 0</td></tr>\n",
              "\t<tr><td>Décimo Circuito/ Tabasco-Veracruz                </td><td>0</td><td> 0</td><td> 0</td><td> 0</td></tr>\n",
              "\t<tr><td>Decimoprimer Circuito/ Michoacán de Ocampo       </td><td>0</td><td> 0</td><td> 0</td><td> 0</td></tr>\n",
              "\t<tr><td>Decimosegundo Circuito/ Sinaloa                  </td><td>0</td><td> 0</td><td> 0</td><td> 0</td></tr>\n",
              "\t<tr><td>Decimotercer Circuito/ Oaxaca                    </td><td>0</td><td> 0</td><td> 0</td><td> 0</td></tr>\n",
              "\t<tr><td>Decimocuarto Circuito/ Yucatán                   </td><td>0</td><td> 0</td><td> 0</td><td> 0</td></tr>\n",
              "\t<tr><td>Decimoquinto Circuito/ Baja California           </td><td>0</td><td> 0</td><td> 0</td><td> 0</td></tr>\n",
              "\t<tr><td>Decimosexto Circuito/ Guanajuato                 </td><td>0</td><td> 0</td><td> 0</td><td> 0</td></tr>\n",
              "\t<tr><td>Decimoséptimo Circuito/ Chihuahua                </td><td>0</td><td> 0</td><td> 0</td><td> 0</td></tr>\n",
              "\t<tr><td>Decimoctavo Circuito/ Morelos                    </td><td>0</td><td> 0</td><td> 0</td><td> 0</td></tr>\n",
              "\t<tr><td>Decimonoveno Circuito/ Tamaulipas                </td><td>0</td><td> 0</td><td> 0</td><td> 0</td></tr>\n",
              "\t<tr><td>Vigésimo Circuito/ Chiapas                       </td><td>0</td><td> 0</td><td> 0</td><td> 0</td></tr>\n",
              "\t<tr><td>Vigésimo Primer Circuito/ Guerrero               </td><td>0</td><td> 0</td><td> 0</td><td> 0</td></tr>\n",
              "\t<tr><td>Vigésimo Segundo Circuito/ Querétaro             </td><td>0</td><td> 0</td><td> 0</td><td> 0</td></tr>\n",
              "\t<tr><td>Vigésimo Tercer Circuito/ Zacatecas              </td><td>0</td><td> 0</td><td> 0</td><td> 0</td></tr>\n",
              "\t<tr><td>Vigésimo Cuarto Circuito/ Nayarit                </td><td>0</td><td> 0</td><td> 0</td><td> 0</td></tr>\n",
              "\t<tr><td>Vigésimo Quinto Circuito/ Durango                </td><td>0</td><td> 0</td><td> 0</td><td> 0</td></tr>\n",
              "\t<tr><td>Vigésimo Sexto Circuito/ Baja California Sur     </td><td>0</td><td> 0</td><td> 0</td><td> 0</td></tr>\n",
              "\t<tr><td>Vigésimo Séptimo Circuito/ Quintana Roo          </td><td>0</td><td> 0</td><td> 0</td><td> 0</td></tr>\n",
              "\t<tr><td>Vigésimo Octavo Circuito/ Tlaxcala               </td><td>0</td><td> 0</td><td> 0</td><td> 0</td></tr>\n",
              "\t<tr><td>Vigésimo Noveno Circuito/ Hidalgo                </td><td>0</td><td> 0</td><td> 0</td><td> 0</td></tr>\n",
              "\t<tr><td>Trigésimo Circuito/ Aguascalientes               </td><td>0</td><td> 0</td><td> 0</td><td> 0</td></tr>\n",
              "\t<tr><td>Trigésimo Primer Circuito/ Campeche              </td><td>0</td><td> 0</td><td> 0</td><td> 0</td></tr>\n",
              "\t<tr><td>Trigésimo Segundo Circuito/ Colima               </td><td>0</td><td> 0</td><td> 0</td><td> 0</td></tr>\n",
              "\t<tr><td>Total                                            </td><td>8</td><td>67</td><td>62</td><td>13</td></tr>\n",
              "</tbody>\n",
              "</table>\n"
            ]
          },
          "metadata": {
            "tags": []
          }
        }
      ]
    },
    {
      "cell_type": "markdown",
      "metadata": {
        "id": "Tt5zQ2xRF5G_"
      },
      "source": [
        "### Pregunta 2.4\n"
      ]
    },
    {
      "cell_type": "code",
      "metadata": {
        "id": "AavMoM4LGARH",
        "colab": {
          "base_uri": "https://localhost:8080/",
          "height": 220
        },
        "outputId": "d6221c14-d4f2-4603-9ddd-4dbbd13e8240"
      },
      "source": [
        "cubo %>%\n",
        "filter(tp_organo == \"Tribunales Unitarios de Circuito\") %>%\n",
        "filter(tp_asunto == \"amparo indirecto\") %>%\n",
        "mutate(egresos = egresos + egresos_acuerdo) %>% # egresos + egresos por acuerdo?\n",
        "select(materia_asunto, existencia_inicial, ingresos, egresos, Existencia_final) %>%\n",
        "mutate(materia_asunto = factor(materia_asunto, levels = c('Penal', \n",
        "       'Civil', 'Administrativa',  'Trabajo', \n",
        "        'Mercantil'))) %>%\n",
        "group_by(materia_asunto) %>%\n",
        "summarise_all(list(sum)) %>%\n",
        "pivot_longer(-materia_asunto, names_to = \"status\", values_to=\"valor\")%>%\n",
        "pivot_wider(names_from = materia_asunto, values_from = valor)"
      ],
      "execution_count": null,
      "outputs": [
        {
          "output_type": "display_data",
          "data": {
            "text/plain": [
              "  status             Penal Civil Administrativa Trabajo\n",
              "1 existencia_inicial  559  286    2             0      \n",
              "2 ingresos           2135  818   20             3      \n",
              "3 egresos            2264  852   19             3      \n",
              "4 Existencia_final    429  252    3             0      "
            ],
            "text/latex": "A tibble: 4 × 5\n\\begin{tabular}{lllll}\n status & Penal & Civil & Administrativa & Trabajo\\\\\n <chr> & <int> & <int> & <int> & <int>\\\\\n\\hline\n\t existencia\\_inicial &  559 & 286 &  2 & 0\\\\\n\t ingresos           & 2135 & 818 & 20 & 3\\\\\n\t egresos            & 2264 & 852 & 19 & 3\\\\\n\t Existencia\\_final   &  429 & 252 &  3 & 0\\\\\n\\end{tabular}\n",
            "text/markdown": "\nA tibble: 4 × 5\n\n| status &lt;chr&gt; | Penal &lt;int&gt; | Civil &lt;int&gt; | Administrativa &lt;int&gt; | Trabajo &lt;int&gt; |\n|---|---|---|---|---|\n| existencia_inicial |  559 | 286 |  2 | 0 |\n| ingresos           | 2135 | 818 | 20 | 3 |\n| egresos            | 2264 | 852 | 19 | 3 |\n| Existencia_final   |  429 | 252 |  3 | 0 |\n\n",
            "text/html": [
              "<table class=\"dataframe\">\n",
              "<caption>A tibble: 4 × 5</caption>\n",
              "<thead>\n",
              "\t<tr><th scope=col>status</th><th scope=col>Penal</th><th scope=col>Civil</th><th scope=col>Administrativa</th><th scope=col>Trabajo</th></tr>\n",
              "\t<tr><th scope=col>&lt;chr&gt;</th><th scope=col>&lt;int&gt;</th><th scope=col>&lt;int&gt;</th><th scope=col>&lt;int&gt;</th><th scope=col>&lt;int&gt;</th></tr>\n",
              "</thead>\n",
              "<tbody>\n",
              "\t<tr><td>existencia_inicial</td><td> 559</td><td>286</td><td> 2</td><td>0</td></tr>\n",
              "\t<tr><td>ingresos          </td><td>2135</td><td>818</td><td>20</td><td>3</td></tr>\n",
              "\t<tr><td>egresos           </td><td>2264</td><td>852</td><td>19</td><td>3</td></tr>\n",
              "\t<tr><td>Existencia_final  </td><td> 429</td><td>252</td><td> 3</td><td>0</td></tr>\n",
              "</tbody>\n",
              "</table>\n"
            ]
          },
          "metadata": {
            "tags": []
          }
        }
      ]
    },
    {
      "cell_type": "markdown",
      "metadata": {
        "id": "jDK49UW1GA0z"
      },
      "source": [
        "### Pregunta 2.5"
      ]
    },
    {
      "cell_type": "code",
      "metadata": {
        "id": "6O_SxDFRGB9I",
        "colab": {
          "base_uri": "https://localhost:8080/"
        },
        "outputId": "adaff167-3d25-4f14-87c9-2c57166d4de9"
      },
      "source": [
        "# amparo indirecto\n",
        "\n",
        "cubo %>%\n",
        "filter(tp_organo == \"Tribunales Unitarios de Circuito\") %>%\n",
        "filter(tp_asunto == \"amparo indirecto\")  %>%\n",
        "mutate(egresos = egresos + egresos_acuerdo) %>% # egresos + egresos por acuerdo?\n",
        "select(materia_asunto, sentido,  egresos, egresos_acuerdo)  %>%\n",
        "mutate(materia_asunto = factor(materia_asunto, levels = c('Penal', \n",
        "       'Civil', 'Administrativa',  'Trabajo', \n",
        "        'Mercantil'))) %>%\n",
        "mutate(materia_asunto = as.character(materia_asunto))%>%\n",
        "group_by(materia_asunto, sentido) %>%\n",
        "summarise_all(list(sum)) %>%\n",
        "mutate(sentido = case_when(\n",
        "  nchar(sentido)<1 ~ \"Egreso por Acuerdo\",\n",
        "  TRUE ~ sentido\n",
        ")) %>%\n",
        "mutate(egresos = case_when(\n",
        "  sentido == \"Egreso por Acuerdo\" ~ egresos_acuerdo,\n",
        "  TRUE ~ egresos\n",
        ")) %>%\n",
        "select(-egresos_acuerdo)  %>%\n",
        "pivot_wider(materia_asunto, names_from = sentido, values_from = egresos)\n"
      ],
      "execution_count": null,
      "outputs": [
        {
          "output_type": "display_data",
          "data": {
            "text/plain": [
              "  materia_asunto Egreso por Acuerdo Acumulación Ampara Concede\n",
              "1 Administrativa 0                  0             0           \n",
              "2 Civil          0                  1            98           \n",
              "3 Penal          2                  0           431           \n",
              "4 Trabajo        0                  0             0           \n",
              "  Ampara Concede y niega Ampara Concede y sobreseimiento\n",
              "1  0                      0                             \n",
              "2  7                      6                             \n",
              "3 11                     21                             \n",
              "4  0                      0                             \n",
              "  Ampara Concede, niega y sobreseimiento Desechamiento Impedimento\n",
              "1 0                                        2            1         \n",
              "2 0                                      173           12         \n",
              "3 3                                      213           30         \n",
              "4 0                                        0            0         \n",
              "  Incompetencia No ampara Niega No ampara Niega sobreseimiento No interpuesta\n",
              "1  15             1              0                              0            \n",
              "2 113           282             21                             20            \n",
              "3 338           834             39                             60            \n",
              "4   3             0              0                              0            \n",
              "  Sobreseimiento\n",
              "1   0           \n",
              "2 119           \n",
              "3 282           \n",
              "4   0           "
            ],
            "text/latex": "A grouped\\_df: 4 × 14\n\\begin{tabular}{llllllllllllll}\n materia\\_asunto & Egreso por Acuerdo & Acumulación & Ampara Concede & Ampara Concede y niega & Ampara Concede y sobreseimiento & Ampara Concede, niega y sobreseimiento & Desechamiento & Impedimento & Incompetencia & No ampara Niega & No ampara Niega sobreseimiento & No interpuesta & Sobreseimiento\\\\\n <chr> & <int> & <int> & <int> & <int> & <int> & <int> & <int> & <int> & <int> & <int> & <int> & <int> & <int>\\\\\n\\hline\n\t Administrativa & 0 & 0 &   0 &  0 &  0 & 0 &   2 &  1 &  15 &   1 &  0 &  0 &   0\\\\\n\t Civil          & 0 & 1 &  98 &  7 &  6 & 0 & 173 & 12 & 113 & 282 & 21 & 20 & 119\\\\\n\t Penal          & 2 & 0 & 431 & 11 & 21 & 3 & 213 & 30 & 338 & 834 & 39 & 60 & 282\\\\\n\t Trabajo        & 0 & 0 &   0 &  0 &  0 & 0 &   0 &  0 &   3 &   0 &  0 &  0 &   0\\\\\n\\end{tabular}\n",
            "text/markdown": "\nA grouped_df: 4 × 14\n\n| materia_asunto &lt;chr&gt; | Egreso por Acuerdo &lt;int&gt; | Acumulación &lt;int&gt; | Ampara Concede &lt;int&gt; | Ampara Concede y niega &lt;int&gt; | Ampara Concede y sobreseimiento &lt;int&gt; | Ampara Concede, niega y sobreseimiento &lt;int&gt; | Desechamiento &lt;int&gt; | Impedimento &lt;int&gt; | Incompetencia &lt;int&gt; | No ampara Niega &lt;int&gt; | No ampara Niega sobreseimiento &lt;int&gt; | No interpuesta &lt;int&gt; | Sobreseimiento &lt;int&gt; |\n|---|---|---|---|---|---|---|---|---|---|---|---|---|---|\n| Administrativa | 0 | 0 |   0 |  0 |  0 | 0 |   2 |  1 |  15 |   1 |  0 |  0 |   0 |\n| Civil          | 0 | 1 |  98 |  7 |  6 | 0 | 173 | 12 | 113 | 282 | 21 | 20 | 119 |\n| Penal          | 2 | 0 | 431 | 11 | 21 | 3 | 213 | 30 | 338 | 834 | 39 | 60 | 282 |\n| Trabajo        | 0 | 0 |   0 |  0 |  0 | 0 |   0 |  0 |   3 |   0 |  0 |  0 |   0 |\n\n",
            "text/html": [
              "<table class=\"dataframe\">\n",
              "<caption>A grouped_df: 4 × 14</caption>\n",
              "<thead>\n",
              "\t<tr><th scope=col>materia_asunto</th><th scope=col>Egreso por Acuerdo</th><th scope=col>Acumulación</th><th scope=col>Ampara Concede</th><th scope=col>Ampara Concede y niega</th><th scope=col>Ampara Concede y sobreseimiento</th><th scope=col>Ampara Concede, niega y sobreseimiento</th><th scope=col>Desechamiento</th><th scope=col>Impedimento</th><th scope=col>Incompetencia</th><th scope=col>No ampara Niega</th><th scope=col>No ampara Niega sobreseimiento</th><th scope=col>No interpuesta</th><th scope=col>Sobreseimiento</th></tr>\n",
              "\t<tr><th scope=col>&lt;chr&gt;</th><th scope=col>&lt;int&gt;</th><th scope=col>&lt;int&gt;</th><th scope=col>&lt;int&gt;</th><th scope=col>&lt;int&gt;</th><th scope=col>&lt;int&gt;</th><th scope=col>&lt;int&gt;</th><th scope=col>&lt;int&gt;</th><th scope=col>&lt;int&gt;</th><th scope=col>&lt;int&gt;</th><th scope=col>&lt;int&gt;</th><th scope=col>&lt;int&gt;</th><th scope=col>&lt;int&gt;</th><th scope=col>&lt;int&gt;</th></tr>\n",
              "</thead>\n",
              "<tbody>\n",
              "\t<tr><td>Administrativa</td><td>0</td><td>0</td><td>  0</td><td> 0</td><td> 0</td><td>0</td><td>  2</td><td> 1</td><td> 15</td><td>  1</td><td> 0</td><td> 0</td><td>  0</td></tr>\n",
              "\t<tr><td>Civil         </td><td>0</td><td>1</td><td> 98</td><td> 7</td><td> 6</td><td>0</td><td>173</td><td>12</td><td>113</td><td>282</td><td>21</td><td>20</td><td>119</td></tr>\n",
              "\t<tr><td>Penal         </td><td>2</td><td>0</td><td>431</td><td>11</td><td>21</td><td>3</td><td>213</td><td>30</td><td>338</td><td>834</td><td>39</td><td>60</td><td>282</td></tr>\n",
              "\t<tr><td>Trabajo       </td><td>0</td><td>0</td><td>  0</td><td> 0</td><td> 0</td><td>0</td><td>  0</td><td> 0</td><td>  3</td><td>  0</td><td> 0</td><td> 0</td><td>  0</td></tr>\n",
              "</tbody>\n",
              "</table>\n"
            ]
          },
          "metadata": {
            "tags": []
          }
        }
      ]
    },
    {
      "cell_type": "code",
      "metadata": {
        "id": "UEhLetAVZxB8",
        "colab": {
          "base_uri": "https://localhost:8080/"
        },
        "outputId": "5b39d43a-839d-49ca-b0f1-88cc754f1fdd"
      },
      "source": [
        "#procesos federales penales en segunda instancia\n",
        "#Apelación\n",
        "\n",
        "cubo %>%\n",
        "filter(tp_organo == \"Tribunales Unitarios de Circuito\") %>%\n",
        "filter(tp_asunto == \"procesos federales penales en segunda instancia\")  %>%\n",
        "filter(tp_procedimiento == \"Apelación\") %>%\n",
        "mutate(egresos = egresos + egresos_acuerdo) %>% # egresos + egresos por acuerdo?\n",
        "select(materia_asunto, sentido,  egresos, egresos_acuerdo)  %>%\n",
        "mutate(materia_asunto = as.character(materia_asunto))%>%\n",
        "group_by(materia_asunto, sentido) %>%\n",
        "summarise_all(list(sum)) %>%\n",
        "mutate(sentido = case_when(\n",
        "  nchar(sentido)<1 ~ \"Egreso por Acuerdo\",\n",
        "  TRUE ~ sentido\n",
        ")) %>%\n",
        "mutate(egresos = case_when(\n",
        "  sentido == \"Egreso por Acuerdo\" ~ egresos_acuerdo,\n",
        "  TRUE ~ egresos\n",
        ")) %>%\n",
        "select(-egresos_acuerdo)  %>%\n",
        "pivot_wider(materia_asunto, names_from = sentido, values_from = egresos)"
      ],
      "execution_count": null,
      "outputs": [
        {
          "output_type": "display_data",
          "data": {
            "text/plain": [
              "  materia_asunto Egreso por Acuerdo Confirma Modifica Otro\n",
              "1 Penal          0                  4967     565      1645\n",
              "  Revoca o revoca y ordena reposición de procedimiento\n",
              "1 913                                                 "
            ],
            "text/latex": "A grouped\\_df: 1 × 6\n\\begin{tabular}{llllll}\n materia\\_asunto & Egreso por Acuerdo & Confirma & Modifica & Otro & Revoca o revoca y ordena reposición de procedimiento\\\\\n <chr> & <int> & <int> & <int> & <int> & <int>\\\\\n\\hline\n\t Penal & 0 & 4967 & 565 & 1645 & 913\\\\\n\\end{tabular}\n",
            "text/markdown": "\nA grouped_df: 1 × 6\n\n| materia_asunto &lt;chr&gt; | Egreso por Acuerdo &lt;int&gt; | Confirma &lt;int&gt; | Modifica &lt;int&gt; | Otro &lt;int&gt; | Revoca o revoca y ordena reposición de procedimiento &lt;int&gt; |\n|---|---|---|---|---|---|\n| Penal | 0 | 4967 | 565 | 1645 | 913 |\n\n",
            "text/html": [
              "<table class=\"dataframe\">\n",
              "<caption>A grouped_df: 1 × 6</caption>\n",
              "<thead>\n",
              "\t<tr><th scope=col>materia_asunto</th><th scope=col>Egreso por Acuerdo</th><th scope=col>Confirma</th><th scope=col>Modifica</th><th scope=col>Otro</th><th scope=col>Revoca o revoca y ordena reposición de procedimiento</th></tr>\n",
              "\t<tr><th scope=col>&lt;chr&gt;</th><th scope=col>&lt;int&gt;</th><th scope=col>&lt;int&gt;</th><th scope=col>&lt;int&gt;</th><th scope=col>&lt;int&gt;</th><th scope=col>&lt;int&gt;</th></tr>\n",
              "</thead>\n",
              "<tbody>\n",
              "\t<tr><td>Penal</td><td>0</td><td>4967</td><td>565</td><td>1645</td><td>913</td></tr>\n",
              "</tbody>\n",
              "</table>\n"
            ]
          },
          "metadata": {
            "tags": []
          }
        }
      ]
    },
    {
      "cell_type": "code",
      "metadata": {
        "id": "K-ELrTXVd3CD",
        "colab": {
          "base_uri": "https://localhost:8080/"
        },
        "outputId": "349ba846-d112-4590-a45e-5dd6264e2288"
      },
      "source": [
        "#procesos federales penales en segunda instancia\n",
        "#Denegada apelación\n",
        "cubo %>%\n",
        "filter(tp_organo == \"Tribunales Unitarios de Circuito\") %>%\n",
        "filter(tp_asunto == \"procesos federales penales en segunda instancia\") %>%\n",
        "filter(tp_procedimiento == \"Denegada Apelación\" | tp_procedimiento == \"Denegada apelación\") %>%\n",
        "mutate(egresos = egresos + egresos_acuerdo) %>% # egresos + egresos por acuerdo?\n",
        "select(materia_asunto, sentido,  egresos, egresos_acuerdo)  %>%\n",
        "mutate(materia_asunto = as.character(materia_asunto))%>%\n",
        "group_by(materia_asunto, sentido) %>%\n",
        "summarise_all(list(sum)) %>%\n",
        "mutate(sentido = case_when(\n",
        "  nchar(sentido)<1 ~ \"Egreso por Acuerdo\",\n",
        "  TRUE ~ sentido\n",
        ")) %>%\n",
        "mutate(egresos = case_when(\n",
        "  sentido == \"Egreso por Acuerdo\" ~ egresos_acuerdo,\n",
        "  TRUE ~ egresos\n",
        ")) %>%\n",
        "select(-egresos_acuerdo)  %>%\n",
        "pivot_wider(materia_asunto, names_from = sentido, values_from = egresos)"
      ],
      "execution_count": null,
      "outputs": [
        {
          "output_type": "display_data",
          "data": {
            "text/plain": [
              "  materia_asunto Egreso por Acuerdo Fundado Infundado Otro\n",
              "1 Penal          0                  7       18        8   "
            ],
            "text/latex": "A grouped\\_df: 1 × 5\n\\begin{tabular}{lllll}\n materia\\_asunto & Egreso por Acuerdo & Fundado & Infundado & Otro\\\\\n <chr> & <int> & <int> & <int> & <int>\\\\\n\\hline\n\t Penal & 0 & 7 & 18 & 8\\\\\n\\end{tabular}\n",
            "text/markdown": "\nA grouped_df: 1 × 5\n\n| materia_asunto &lt;chr&gt; | Egreso por Acuerdo &lt;int&gt; | Fundado &lt;int&gt; | Infundado &lt;int&gt; | Otro &lt;int&gt; |\n|---|---|---|---|---|\n| Penal | 0 | 7 | 18 | 8 |\n\n",
            "text/html": [
              "<table class=\"dataframe\">\n",
              "<caption>A grouped_df: 1 × 5</caption>\n",
              "<thead>\n",
              "\t<tr><th scope=col>materia_asunto</th><th scope=col>Egreso por Acuerdo</th><th scope=col>Fundado</th><th scope=col>Infundado</th><th scope=col>Otro</th></tr>\n",
              "\t<tr><th scope=col>&lt;chr&gt;</th><th scope=col>&lt;int&gt;</th><th scope=col>&lt;int&gt;</th><th scope=col>&lt;int&gt;</th><th scope=col>&lt;int&gt;</th></tr>\n",
              "</thead>\n",
              "<tbody>\n",
              "\t<tr><td>Penal</td><td>0</td><td>7</td><td>18</td><td>8</td></tr>\n",
              "</tbody>\n",
              "</table>\n"
            ]
          },
          "metadata": {
            "tags": []
          }
        }
      ]
    },
    {
      "cell_type": "code",
      "metadata": {
        "id": "0ozO7wjCfGak",
        "colab": {
          "base_uri": "https://localhost:8080/"
        },
        "outputId": "102bcb67-9433-4f03-bc67-5f416a59cf07"
      },
      "source": [
        "#procesos federales penales en segunda instancia\n",
        "#Impedimento\n",
        "cubo %>%\n",
        "filter(tp_organo == \"Tribunales Unitarios de Circuito\") %>%\n",
        "filter(tp_asunto == \"procesos federales penales en segunda instancia\") %>%\n",
        "filter(tp_procedimiento == \"Impedimento\") %>%\n",
        "mutate(egresos = egresos + egresos_acuerdo) %>% # egresos + egresos por acuerdo?\n",
        "select(materia_asunto, sentido,  egresos, egresos_acuerdo)  %>%\n",
        "mutate(materia_asunto = as.character(materia_asunto))%>%\n",
        "group_by(materia_asunto, sentido) %>%\n",
        "summarise_all(list(sum)) %>%\n",
        "mutate(sentido = case_when(\n",
        "  nchar(sentido)<1 ~ \"Egreso por Acuerdo\",\n",
        "  TRUE ~ sentido\n",
        ")) %>%\n",
        "mutate(egresos = case_when(\n",
        "  sentido == \"Egreso por Acuerdo\" ~ egresos_acuerdo,\n",
        "  TRUE ~ egresos\n",
        ")) %>%\n",
        "select(-egresos_acuerdo)  %>%\n",
        "pivot_wider(materia_asunto, names_from = sentido, values_from = egresos)"
      ],
      "execution_count": null,
      "outputs": [
        {
          "output_type": "display_data",
          "data": {
            "text/plain": [
              "  materia_asunto Egreso por Acuerdo Fundado Infundado Otro\n",
              "1 Penal          0                  25      25        21  "
            ],
            "text/latex": "A grouped\\_df: 1 × 5\n\\begin{tabular}{lllll}\n materia\\_asunto & Egreso por Acuerdo & Fundado & Infundado & Otro\\\\\n <chr> & <int> & <int> & <int> & <int>\\\\\n\\hline\n\t Penal & 0 & 25 & 25 & 21\\\\\n\\end{tabular}\n",
            "text/markdown": "\nA grouped_df: 1 × 5\n\n| materia_asunto &lt;chr&gt; | Egreso por Acuerdo &lt;int&gt; | Fundado &lt;int&gt; | Infundado &lt;int&gt; | Otro &lt;int&gt; |\n|---|---|---|---|---|\n| Penal | 0 | 25 | 25 | 21 |\n\n",
            "text/html": [
              "<table class=\"dataframe\">\n",
              "<caption>A grouped_df: 1 × 5</caption>\n",
              "<thead>\n",
              "\t<tr><th scope=col>materia_asunto</th><th scope=col>Egreso por Acuerdo</th><th scope=col>Fundado</th><th scope=col>Infundado</th><th scope=col>Otro</th></tr>\n",
              "\t<tr><th scope=col>&lt;chr&gt;</th><th scope=col>&lt;int&gt;</th><th scope=col>&lt;int&gt;</th><th scope=col>&lt;int&gt;</th><th scope=col>&lt;int&gt;</th></tr>\n",
              "</thead>\n",
              "<tbody>\n",
              "\t<tr><td>Penal</td><td>0</td><td>25</td><td>25</td><td>21</td></tr>\n",
              "</tbody>\n",
              "</table>\n"
            ]
          },
          "metadata": {
            "tags": []
          }
        }
      ]
    },
    {
      "cell_type": "code",
      "metadata": {
        "id": "pP8NH9RFfJgX",
        "colab": {
          "base_uri": "https://localhost:8080/"
        },
        "outputId": "3760ea49-4d33-4c60-d7ff-b85890a9a0a5"
      },
      "source": [
        "#procesos federales penales en segunda instancia\n",
        "#Queja\n",
        "cubo %>%\n",
        "filter(tp_organo == \"Tribunales Unitarios de Circuito\") %>%\n",
        "filter(tp_asunto == \"procesos federales penales en segunda instancia\") %>%\n",
        "filter(tp_procedimiento == \"Queja\") %>%\n",
        "mutate(egresos = egresos + egresos_acuerdo) %>% # egresos + egresos por acuerdo?\n",
        "select(materia_asunto, sentido,  egresos, egresos_acuerdo)  %>%\n",
        "mutate(materia_asunto = as.character(materia_asunto))%>%\n",
        "group_by(materia_asunto, sentido) %>%\n",
        "summarise_all(list(sum)) %>%\n",
        "mutate(sentido = case_when(\n",
        "  nchar(sentido)<1 ~ \"Egreso por Acuerdo\",\n",
        "  TRUE ~ sentido\n",
        ")) %>%\n",
        "mutate(egresos = case_when(\n",
        "  sentido == \"Egreso por Acuerdo\" ~ egresos_acuerdo,\n",
        "  TRUE ~ egresos\n",
        ")) %>%\n",
        "select(-egresos_acuerdo)  %>%\n",
        "pivot_wider(materia_asunto, names_from = sentido, values_from = egresos)"
      ],
      "execution_count": null,
      "outputs": [
        {
          "output_type": "display_data",
          "data": {
            "text/plain": [
              "  materia_asunto Egreso por Acuerdo Fundado Infundado Otro\n",
              "1 Penal          0                  23      155       949 "
            ],
            "text/latex": "A grouped\\_df: 1 × 5\n\\begin{tabular}{lllll}\n materia\\_asunto & Egreso por Acuerdo & Fundado & Infundado & Otro\\\\\n <chr> & <int> & <int> & <int> & <int>\\\\\n\\hline\n\t Penal & 0 & 23 & 155 & 949\\\\\n\\end{tabular}\n",
            "text/markdown": "\nA grouped_df: 1 × 5\n\n| materia_asunto &lt;chr&gt; | Egreso por Acuerdo &lt;int&gt; | Fundado &lt;int&gt; | Infundado &lt;int&gt; | Otro &lt;int&gt; |\n|---|---|---|---|---|\n| Penal | 0 | 23 | 155 | 949 |\n\n",
            "text/html": [
              "<table class=\"dataframe\">\n",
              "<caption>A grouped_df: 1 × 5</caption>\n",
              "<thead>\n",
              "\t<tr><th scope=col>materia_asunto</th><th scope=col>Egreso por Acuerdo</th><th scope=col>Fundado</th><th scope=col>Infundado</th><th scope=col>Otro</th></tr>\n",
              "\t<tr><th scope=col>&lt;chr&gt;</th><th scope=col>&lt;int&gt;</th><th scope=col>&lt;int&gt;</th><th scope=col>&lt;int&gt;</th><th scope=col>&lt;int&gt;</th></tr>\n",
              "</thead>\n",
              "<tbody>\n",
              "\t<tr><td>Penal</td><td>0</td><td>23</td><td>155</td><td>949</td></tr>\n",
              "</tbody>\n",
              "</table>\n"
            ]
          },
          "metadata": {
            "tags": []
          }
        }
      ]
    },
    {
      "cell_type": "code",
      "metadata": {
        "id": "f0ivK7JxfKNX",
        "colab": {
          "base_uri": "https://localhost:8080/"
        },
        "outputId": "2ba34773-8a26-4192-9796-1344353fb5ce"
      },
      "source": [
        "#procesos federales penales en segunda instancia\n",
        "#Competencia entre jueces\n",
        "cubo %>%\n",
        "filter(tp_organo == \"Tribunales Unitarios de Circuito\") %>%\n",
        "filter(tp_asunto == \"procesos federales penales en segunda instancia\") %>%\n",
        "filter(tp_procedimiento == \"Competencia entre jueces\") %>%\n",
        "mutate(egresos = egresos + egresos_acuerdo) %>% # egresos + egresos por acuerdo?\n",
        "select(materia_asunto, sentido,  egresos, egresos_acuerdo)  %>%\n",
        "mutate(materia_asunto = as.character(materia_asunto))%>%\n",
        "group_by(materia_asunto, sentido) %>%\n",
        "summarise_all(list(sum)) %>%\n",
        "mutate(sentido = case_when(\n",
        "  nchar(sentido)<1 ~ \"Egreso por Acuerdo\",\n",
        "  TRUE ~ sentido\n",
        ")) %>%\n",
        "mutate(egresos = case_when(\n",
        "  sentido == \"Egreso por Acuerdo\" ~ egresos_acuerdo,\n",
        "  TRUE ~ egresos\n",
        ")) %>%\n",
        "select(-egresos_acuerdo)  %>%\n",
        "pivot_wider(materia_asunto, names_from = sentido, values_from = egresos)"
      ],
      "execution_count": null,
      "outputs": [
        {
          "output_type": "display_data",
          "data": {
            "text/plain": [
              "  materia_asunto Egreso por Acuerdo Competente el requerido\n",
              "1 Penal          0                  160                    \n",
              "  Competente el requirente Competente órgano jurisdiccional diferente Otro\n",
              "1 119                      15                                         30  \n",
              "  TUC declara, no hay conflicto competencial\n",
              "1 26                                        "
            ],
            "text/latex": "A grouped\\_df: 1 × 7\n\\begin{tabular}{lllllll}\n materia\\_asunto & Egreso por Acuerdo & Competente el requerido & Competente el requirente & Competente órgano jurisdiccional diferente & Otro & TUC declara, no hay conflicto competencial\\\\\n <chr> & <int> & <int> & <int> & <int> & <int> & <int>\\\\\n\\hline\n\t Penal & 0 & 160 & 119 & 15 & 30 & 26\\\\\n\\end{tabular}\n",
            "text/markdown": "\nA grouped_df: 1 × 7\n\n| materia_asunto &lt;chr&gt; | Egreso por Acuerdo &lt;int&gt; | Competente el requerido &lt;int&gt; | Competente el requirente &lt;int&gt; | Competente órgano jurisdiccional diferente &lt;int&gt; | Otro &lt;int&gt; | TUC declara, no hay conflicto competencial &lt;int&gt; |\n|---|---|---|---|---|---|---|\n| Penal | 0 | 160 | 119 | 15 | 30 | 26 |\n\n",
            "text/html": [
              "<table class=\"dataframe\">\n",
              "<caption>A grouped_df: 1 × 7</caption>\n",
              "<thead>\n",
              "\t<tr><th scope=col>materia_asunto</th><th scope=col>Egreso por Acuerdo</th><th scope=col>Competente el requerido</th><th scope=col>Competente el requirente</th><th scope=col>Competente órgano jurisdiccional diferente</th><th scope=col>Otro</th><th scope=col>TUC declara, no hay conflicto competencial</th></tr>\n",
              "\t<tr><th scope=col>&lt;chr&gt;</th><th scope=col>&lt;int&gt;</th><th scope=col>&lt;int&gt;</th><th scope=col>&lt;int&gt;</th><th scope=col>&lt;int&gt;</th><th scope=col>&lt;int&gt;</th><th scope=col>&lt;int&gt;</th></tr>\n",
              "</thead>\n",
              "<tbody>\n",
              "\t<tr><td>Penal</td><td>0</td><td>160</td><td>119</td><td>15</td><td>30</td><td>26</td></tr>\n",
              "</tbody>\n",
              "</table>\n"
            ]
          },
          "metadata": {
            "tags": []
          }
        }
      ]
    },
    {
      "cell_type": "code",
      "metadata": {
        "id": "oUR5OF_gfK0L",
        "colab": {
          "base_uri": "https://localhost:8080/"
        },
        "outputId": "553d6bd0-55b6-4c05-e298-41aeace11420"
      },
      "source": [
        "#procesos federales penales en segunda instancia\n",
        "#Conflicto de Acumulación\n",
        "\n",
        "cubo %>%\n",
        "filter(tp_organo == \"Tribunales Unitarios de Circuito\") %>%\n",
        "filter(tp_asunto == \"procesos federales penales en segunda instancia\") %>%\n",
        "filter(tp_procedimiento == \"Conflicto de Acumulación\" | tp_procedimiento ==\"Conflicto de acumulación\" | tp_procedimiento ==\"Conflicto De acumulación\") %>%\n",
        "mutate(egresos = egresos + egresos_acuerdo) %>% # egresos + egresos por acuerdo?\n",
        "select(materia_asunto, sentido,  egresos, egresos_acuerdo)  %>%\n",
        "mutate(materia_asunto = as.character(materia_asunto))%>%\n",
        "group_by(materia_asunto, sentido) %>%\n",
        "summarise_all(list(sum)) %>%\n",
        "mutate(sentido = case_when(\n",
        "  nchar(sentido)<1 ~ \"Egreso por Acuerdo\",\n",
        "  TRUE ~ sentido\n",
        ")) %>%\n",
        "mutate(egresos = case_when(\n",
        "  sentido == \"Egreso por Acuerdo\" ~ egresos_acuerdo,\n",
        "  TRUE ~ egresos\n",
        ")) %>%\n",
        "select(-egresos_acuerdo)  %>%\n",
        "pivot_wider(materia_asunto, names_from = sentido, values_from = egresos)"
      ],
      "execution_count": null,
      "outputs": [
        {
          "output_type": "display_data",
          "data": {
            "text/plain": [
              "  materia_asunto No procede acumulación Otro Procede acumulación\n",
              "1 Penal          0                      0    0                  "
            ],
            "text/latex": "A grouped\\_df: 1 × 4\n\\begin{tabular}{llll}\n materia\\_asunto & No procede acumulación & Otro & Procede acumulación\\\\\n <chr> & <int> & <int> & <int>\\\\\n\\hline\n\t Penal & 0 & 0 & 0\\\\\n\\end{tabular}\n",
            "text/markdown": "\nA grouped_df: 1 × 4\n\n| materia_asunto &lt;chr&gt; | No procede acumulación &lt;int&gt; | Otro &lt;int&gt; | Procede acumulación &lt;int&gt; |\n|---|---|---|---|\n| Penal | 0 | 0 | 0 |\n\n",
            "text/html": [
              "<table class=\"dataframe\">\n",
              "<caption>A grouped_df: 1 × 4</caption>\n",
              "<thead>\n",
              "\t<tr><th scope=col>materia_asunto</th><th scope=col>No procede acumulación</th><th scope=col>Otro</th><th scope=col>Procede acumulación</th></tr>\n",
              "\t<tr><th scope=col>&lt;chr&gt;</th><th scope=col>&lt;int&gt;</th><th scope=col>&lt;int&gt;</th><th scope=col>&lt;int&gt;</th></tr>\n",
              "</thead>\n",
              "<tbody>\n",
              "\t<tr><td>Penal</td><td>0</td><td>0</td><td>0</td></tr>\n",
              "</tbody>\n",
              "</table>\n"
            ]
          },
          "metadata": {
            "tags": []
          }
        }
      ]
    },
    {
      "cell_type": "code",
      "metadata": {
        "id": "xb5yp0kYfLnN",
        "colab": {
          "base_uri": "https://localhost:8080/"
        },
        "outputId": "3c380ad9-91fc-415b-c975-11e411ff9798"
      },
      "source": [
        "#procesos federales penales en segunda instancia\n",
        "#Otro\n",
        "cubo %>%\n",
        "filter(tp_organo == \"Tribunales Unitarios de Circuito\") %>%\n",
        "filter(tp_asunto == \"procesos federales penales en segunda instancia\") %>%\n",
        "filter(tp_procedimiento == \"Otro\") %>%\n",
        "mutate(egresos = egresos + egresos_acuerdo) %>% # egresos + egresos por acuerdo?\n",
        "select(materia_asunto, sentido,  egresos, egresos_acuerdo)  %>%\n",
        "mutate(materia_asunto = as.character(materia_asunto))%>%\n",
        "group_by(materia_asunto, sentido) %>%\n",
        "summarise_all(list(sum)) %>%\n",
        "mutate(sentido = case_when(\n",
        "  nchar(sentido)<1 ~ \"Egreso por Acuerdo\",\n",
        "  TRUE ~ sentido\n",
        ")) %>%\n",
        "mutate(egresos = case_when(\n",
        "  sentido == \"Egreso por Acuerdo\" ~ egresos_acuerdo,\n",
        "  TRUE ~ egresos\n",
        ")) %>%\n",
        "select(-egresos_acuerdo)  %>%\n",
        "pivot_wider(materia_asunto, names_from = sentido, values_from = egresos)"
      ],
      "execution_count": null,
      "outputs": [
        {
          "output_type": "display_data",
          "data": {
            "text/plain": [
              "  materia_asunto Egreso por Acuerdo Otro\n",
              "1 Penal          0                  62  "
            ],
            "text/latex": "A grouped\\_df: 1 × 3\n\\begin{tabular}{lll}\n materia\\_asunto & Egreso por Acuerdo & Otro\\\\\n <chr> & <int> & <int>\\\\\n\\hline\n\t Penal & 0 & 62\\\\\n\\end{tabular}\n",
            "text/markdown": "\nA grouped_df: 1 × 3\n\n| materia_asunto &lt;chr&gt; | Egreso por Acuerdo &lt;int&gt; | Otro &lt;int&gt; |\n|---|---|---|\n| Penal | 0 | 62 |\n\n",
            "text/html": [
              "<table class=\"dataframe\">\n",
              "<caption>A grouped_df: 1 × 3</caption>\n",
              "<thead>\n",
              "\t<tr><th scope=col>materia_asunto</th><th scope=col>Egreso por Acuerdo</th><th scope=col>Otro</th></tr>\n",
              "\t<tr><th scope=col>&lt;chr&gt;</th><th scope=col>&lt;int&gt;</th><th scope=col>&lt;int&gt;</th></tr>\n",
              "</thead>\n",
              "<tbody>\n",
              "\t<tr><td>Penal</td><td>0</td><td>62</td></tr>\n",
              "</tbody>\n",
              "</table>\n"
            ]
          },
          "metadata": {
            "tags": []
          }
        }
      ]
    },
    {
      "cell_type": "code",
      "metadata": {
        "id": "JHA6PU07fMRI",
        "colab": {
          "base_uri": "https://localhost:8080/"
        },
        "outputId": "622f910b-69e5-4657-ac62-bf625b430d6c"
      },
      "source": [
        "#procesos federales administrativos y civiles en segunda instancia\n",
        "#Apelación\n",
        "cubo %>%\n",
        "filter(tp_organo == \"Tribunales Unitarios de Circuito\") %>%\n",
        "filter(tp_asunto == \"procesos federales administrativos y civiles en segunda instancia\") %>%\n",
        "filter(tp_procedimiento == \"Apelación\") %>%\n",
        "mutate(egresos = egresos + egresos_acuerdo) %>% # egresos + egresos por acuerdo?\n",
        "select(sentido,  egresos, egresos_acuerdo)  %>%\n",
        "group_by(sentido) %>%\n",
        "summarise_all(list(sum)) %>%\n",
        "mutate(sentido = case_when(\n",
        "  nchar(sentido)<1 ~ \"Egreso por Acuerdo\",\n",
        "  TRUE ~ sentido\n",
        ")) %>%\n",
        "mutate(egresos = case_when(\n",
        "  sentido == \"Egreso por Acuerdo\" ~ egresos_acuerdo,\n",
        "  TRUE ~ egresos\n",
        ")) %>%\n",
        "select(-egresos_acuerdo)  %>%\n",
        "pivot_wider( names_from = sentido, values_from = egresos)\n",
        "\n"
      ],
      "execution_count": null,
      "outputs": [
        {
          "output_type": "display_data",
          "data": {
            "text/plain": [
              "  Egreso por Acuerdo Confirma Modifica Otro\n",
              "1 2                  1557     294      649 \n",
              "  Revoca o revoca y ordena reposición de procedimiento\n",
              "1 751                                                 "
            ],
            "text/latex": "A tibble: 1 × 5\n\\begin{tabular}{lllll}\n Egreso por Acuerdo & Confirma & Modifica & Otro & Revoca o revoca y ordena reposición de procedimiento\\\\\n <int> & <int> & <int> & <int> & <int>\\\\\n\\hline\n\t 2 & 1557 & 294 & 649 & 751\\\\\n\\end{tabular}\n",
            "text/markdown": "\nA tibble: 1 × 5\n\n| Egreso por Acuerdo &lt;int&gt; | Confirma &lt;int&gt; | Modifica &lt;int&gt; | Otro &lt;int&gt; | Revoca o revoca y ordena reposición de procedimiento &lt;int&gt; |\n|---|---|---|---|---|\n| 2 | 1557 | 294 | 649 | 751 |\n\n",
            "text/html": [
              "<table class=\"dataframe\">\n",
              "<caption>A tibble: 1 × 5</caption>\n",
              "<thead>\n",
              "\t<tr><th scope=col>Egreso por Acuerdo</th><th scope=col>Confirma</th><th scope=col>Modifica</th><th scope=col>Otro</th><th scope=col>Revoca o revoca y ordena reposición de procedimiento</th></tr>\n",
              "\t<tr><th scope=col>&lt;int&gt;</th><th scope=col>&lt;int&gt;</th><th scope=col>&lt;int&gt;</th><th scope=col>&lt;int&gt;</th><th scope=col>&lt;int&gt;</th></tr>\n",
              "</thead>\n",
              "<tbody>\n",
              "\t<tr><td>2</td><td>1557</td><td>294</td><td>649</td><td>751</td></tr>\n",
              "</tbody>\n",
              "</table>\n"
            ]
          },
          "metadata": {
            "tags": []
          }
        }
      ]
    },
    {
      "cell_type": "code",
      "metadata": {
        "id": "_sK9kev4fM5g",
        "colab": {
          "base_uri": "https://localhost:8080/"
        },
        "outputId": "47851af9-c573-45c3-d789-dc6efeba9ec1"
      },
      "source": [
        "#procesos federales administrativos y civiles en segunda instancia\n",
        "#Denegada apelación\n",
        "cubo %>%\n",
        "filter(tp_organo == \"Tribunales Unitarios de Circuito\") %>%\n",
        "filter(tp_asunto == \"procesos federales administrativos y civiles en segunda instancia\") %>%\n",
        "filter(tp_procedimiento == \"Denegada Apelación\" | tp_procedimiento ==\"Denegada apelación\" ) %>%\n",
        "mutate(egresos = egresos + egresos_acuerdo) %>% # egresos + egresos por acuerdo?\n",
        "select(sentido,  egresos, egresos_acuerdo)  %>%\n",
        "group_by(sentido) %>%\n",
        "summarise_all(list(sum)) %>%\n",
        "mutate(sentido = case_when(\n",
        "  nchar(sentido)<1 ~ \"Egreso por Acuerdo\",\n",
        "  TRUE ~ sentido\n",
        ")) %>%\n",
        "mutate(egresos = case_when(\n",
        "  sentido == \"Egreso por Acuerdo\" ~ egresos_acuerdo,\n",
        "  TRUE ~ egresos\n",
        ")) %>%\n",
        "select(-egresos_acuerdo)  %>%\n",
        "pivot_wider( names_from = sentido, values_from = egresos)"
      ],
      "execution_count": null,
      "outputs": [
        {
          "output_type": "display_data",
          "data": {
            "text/plain": [
              "  Egreso por Acuerdo Fundado Infundado Otro\n",
              "1 0                  2       13        8   "
            ],
            "text/latex": "A tibble: 1 × 4\n\\begin{tabular}{llll}\n Egreso por Acuerdo & Fundado & Infundado & Otro\\\\\n <int> & <int> & <int> & <int>\\\\\n\\hline\n\t 0 & 2 & 13 & 8\\\\\n\\end{tabular}\n",
            "text/markdown": "\nA tibble: 1 × 4\n\n| Egreso por Acuerdo &lt;int&gt; | Fundado &lt;int&gt; | Infundado &lt;int&gt; | Otro &lt;int&gt; |\n|---|---|---|---|\n| 0 | 2 | 13 | 8 |\n\n",
            "text/html": [
              "<table class=\"dataframe\">\n",
              "<caption>A tibble: 1 × 4</caption>\n",
              "<thead>\n",
              "\t<tr><th scope=col>Egreso por Acuerdo</th><th scope=col>Fundado</th><th scope=col>Infundado</th><th scope=col>Otro</th></tr>\n",
              "\t<tr><th scope=col>&lt;int&gt;</th><th scope=col>&lt;int&gt;</th><th scope=col>&lt;int&gt;</th><th scope=col>&lt;int&gt;</th></tr>\n",
              "</thead>\n",
              "<tbody>\n",
              "\t<tr><td>0</td><td>2</td><td>13</td><td>8</td></tr>\n",
              "</tbody>\n",
              "</table>\n"
            ]
          },
          "metadata": {
            "tags": []
          }
        }
      ]
    },
    {
      "cell_type": "code",
      "metadata": {
        "id": "znt8av_ufNcX",
        "colab": {
          "base_uri": "https://localhost:8080/"
        },
        "outputId": "9dc71d6c-02cd-4c41-c9f6-a4d4db04b83d"
      },
      "source": [
        "#procesos federales administrativos y civiles en segunda instancia\n",
        "#Impedimento\n",
        "cubo %>%\n",
        "filter(tp_organo == \"Tribunales Unitarios de Circuito\") %>%\n",
        "filter(tp_asunto == \"procesos federales administrativos y civiles en segunda instancia\") %>%\n",
        "filter(tp_procedimiento == \"Impedimento\") %>%\n",
        "mutate(egresos = egresos + egresos_acuerdo) %>% # egresos + egresos por acuerdo?\n",
        "select(sentido,  egresos, egresos_acuerdo)  %>%\n",
        "group_by(sentido) %>%\n",
        "summarise_all(list(sum)) %>%\n",
        "mutate(sentido = case_when(\n",
        "  nchar(sentido)<1 ~ \"Egreso por Acuerdo\",\n",
        "  TRUE ~ sentido\n",
        ")) %>%\n",
        "mutate(egresos = case_when(\n",
        "  sentido == \"Egreso por Acuerdo\" ~ egresos_acuerdo,\n",
        "  TRUE ~ egresos\n",
        ")) %>%\n",
        "select(-egresos_acuerdo)  %>%\n",
        "pivot_wider( names_from = sentido, values_from = egresos)"
      ],
      "execution_count": null,
      "outputs": [
        {
          "output_type": "display_data",
          "data": {
            "text/plain": [
              "  Egreso por Acuerdo Fundado Infundado Otro\n",
              "1 0                  16      11        16  "
            ],
            "text/latex": "A tibble: 1 × 4\n\\begin{tabular}{llll}\n Egreso por Acuerdo & Fundado & Infundado & Otro\\\\\n <int> & <int> & <int> & <int>\\\\\n\\hline\n\t 0 & 16 & 11 & 16\\\\\n\\end{tabular}\n",
            "text/markdown": "\nA tibble: 1 × 4\n\n| Egreso por Acuerdo &lt;int&gt; | Fundado &lt;int&gt; | Infundado &lt;int&gt; | Otro &lt;int&gt; |\n|---|---|---|---|\n| 0 | 16 | 11 | 16 |\n\n",
            "text/html": [
              "<table class=\"dataframe\">\n",
              "<caption>A tibble: 1 × 4</caption>\n",
              "<thead>\n",
              "\t<tr><th scope=col>Egreso por Acuerdo</th><th scope=col>Fundado</th><th scope=col>Infundado</th><th scope=col>Otro</th></tr>\n",
              "\t<tr><th scope=col>&lt;int&gt;</th><th scope=col>&lt;int&gt;</th><th scope=col>&lt;int&gt;</th><th scope=col>&lt;int&gt;</th></tr>\n",
              "</thead>\n",
              "<tbody>\n",
              "\t<tr><td>0</td><td>16</td><td>11</td><td>16</td></tr>\n",
              "</tbody>\n",
              "</table>\n"
            ]
          },
          "metadata": {
            "tags": []
          }
        }
      ]
    },
    {
      "cell_type": "code",
      "metadata": {
        "id": "R3X4jma7fN8E",
        "colab": {
          "base_uri": "https://localhost:8080/"
        },
        "outputId": "3ce1bc51-ef8d-452b-cb71-a86553e86c45"
      },
      "source": [
        "#procesos federales administrativos y civiles en segunda instancia\n",
        "#Queja\n",
        "cubo %>%\n",
        "filter(tp_organo == \"Tribunales Unitarios de Circuito\") %>%\n",
        "filter(tp_asunto == \"procesos federales administrativos y civiles en segunda instancia\") %>%\n",
        "filter(tp_procedimiento == \"Queja\") %>%\t\n",
        "mutate(egresos = egresos + egresos_acuerdo) %>% # egresos + egresos por acuerdo?\n",
        "select(sentido,  egresos, egresos_acuerdo)  %>%\n",
        "group_by(sentido) %>%\n",
        "summarise_all(list(sum)) %>%\n",
        "mutate(sentido = case_when(\n",
        "  nchar(sentido)<1 ~ \"Egreso por Acuerdo\",\n",
        "  TRUE ~ sentido\n",
        ")) %>%\n",
        "mutate(egresos = case_when(\n",
        "  sentido == \"Egreso por Acuerdo\" ~ egresos_acuerdo,\n",
        "  TRUE ~ egresos\n",
        ")) %>%\n",
        "select(-egresos_acuerdo)  %>%\n",
        "pivot_wider(names_from = sentido, values_from = egresos)"
      ],
      "execution_count": null,
      "outputs": [
        {
          "output_type": "display_data",
          "data": {
            "text/plain": [
              "  Egreso por Acuerdo Fundado Infundado Otro\n",
              "1 0                  0       0         0   "
            ],
            "text/latex": "A tibble: 1 × 4\n\\begin{tabular}{llll}\n Egreso por Acuerdo & Fundado & Infundado & Otro\\\\\n <int> & <int> & <int> & <int>\\\\\n\\hline\n\t 0 & 0 & 0 & 0\\\\\n\\end{tabular}\n",
            "text/markdown": "\nA tibble: 1 × 4\n\n| Egreso por Acuerdo &lt;int&gt; | Fundado &lt;int&gt; | Infundado &lt;int&gt; | Otro &lt;int&gt; |\n|---|---|---|---|\n| 0 | 0 | 0 | 0 |\n\n",
            "text/html": [
              "<table class=\"dataframe\">\n",
              "<caption>A tibble: 1 × 4</caption>\n",
              "<thead>\n",
              "\t<tr><th scope=col>Egreso por Acuerdo</th><th scope=col>Fundado</th><th scope=col>Infundado</th><th scope=col>Otro</th></tr>\n",
              "\t<tr><th scope=col>&lt;int&gt;</th><th scope=col>&lt;int&gt;</th><th scope=col>&lt;int&gt;</th><th scope=col>&lt;int&gt;</th></tr>\n",
              "</thead>\n",
              "<tbody>\n",
              "\t<tr><td>0</td><td>0</td><td>0</td><td>0</td></tr>\n",
              "</tbody>\n",
              "</table>\n"
            ]
          },
          "metadata": {
            "tags": []
          }
        }
      ]
    },
    {
      "cell_type": "code",
      "metadata": {
        "id": "M2qQQCnEugzd",
        "colab": {
          "base_uri": "https://localhost:8080/"
        },
        "outputId": "584ae25b-3c37-4a83-deaf-e61c1a423891"
      },
      "source": [
        "#procesos federales administrativos y civiles en segunda instancia\n",
        "#Competencia entre jueces\n",
        "cubo %>%\n",
        "filter(tp_organo == \"Tribunales Unitarios de Circuito\") %>%\n",
        "filter(tp_asunto == \"procesos federales administrativos y civiles en segunda instancia\") %>%\n",
        "filter(tp_procedimiento == \"Competencia entre jueces\") %>%\n",
        "mutate(egresos = egresos + egresos_acuerdo) %>% # egresos + egresos por acuerdo?\n",
        "select(sentido,  egresos, egresos_acuerdo)  %>%\n",
        "group_by(sentido) %>%\n",
        "summarise_all(list(sum)) %>%\n",
        "mutate(sentido = case_when(\n",
        "  nchar(sentido)<1 ~ \"Egreso por Acuerdo\",\n",
        "  TRUE ~ sentido\n",
        ")) %>%\n",
        "mutate(egresos = case_when(\n",
        "  sentido == \"Egreso por Acuerdo\" ~ egresos_acuerdo,\n",
        "  TRUE ~ egresos\n",
        ")) %>%\n",
        "select(-egresos_acuerdo)  %>%\n",
        "pivot_wider(names_from = sentido, values_from = egresos)"
      ],
      "execution_count": null,
      "outputs": [
        {
          "output_type": "display_data",
          "data": {
            "text/plain": [
              "  Egreso por Acuerdo Competente el requerido Competente el requirente\n",
              "1 0                  11                      14                      \n",
              "  Competente órgano jurisdiccional diferente Otro\n",
              "1 1                                          53  \n",
              "  TUC declara, no hay conflicto competencial\n",
              "1 2                                         "
            ],
            "text/latex": "A tibble: 1 × 6\n\\begin{tabular}{llllll}\n Egreso por Acuerdo & Competente el requerido & Competente el requirente & Competente órgano jurisdiccional diferente & Otro & TUC declara, no hay conflicto competencial\\\\\n <int> & <int> & <int> & <int> & <int> & <int>\\\\\n\\hline\n\t 0 & 11 & 14 & 1 & 53 & 2\\\\\n\\end{tabular}\n",
            "text/markdown": "\nA tibble: 1 × 6\n\n| Egreso por Acuerdo &lt;int&gt; | Competente el requerido &lt;int&gt; | Competente el requirente &lt;int&gt; | Competente órgano jurisdiccional diferente &lt;int&gt; | Otro &lt;int&gt; | TUC declara, no hay conflicto competencial &lt;int&gt; |\n|---|---|---|---|---|---|\n| 0 | 11 | 14 | 1 | 53 | 2 |\n\n",
            "text/html": [
              "<table class=\"dataframe\">\n",
              "<caption>A tibble: 1 × 6</caption>\n",
              "<thead>\n",
              "\t<tr><th scope=col>Egreso por Acuerdo</th><th scope=col>Competente el requerido</th><th scope=col>Competente el requirente</th><th scope=col>Competente órgano jurisdiccional diferente</th><th scope=col>Otro</th><th scope=col>TUC declara, no hay conflicto competencial</th></tr>\n",
              "\t<tr><th scope=col>&lt;int&gt;</th><th scope=col>&lt;int&gt;</th><th scope=col>&lt;int&gt;</th><th scope=col>&lt;int&gt;</th><th scope=col>&lt;int&gt;</th><th scope=col>&lt;int&gt;</th></tr>\n",
              "</thead>\n",
              "<tbody>\n",
              "\t<tr><td>0</td><td>11</td><td>14</td><td>1</td><td>53</td><td>2</td></tr>\n",
              "</tbody>\n",
              "</table>\n"
            ]
          },
          "metadata": {
            "tags": []
          }
        }
      ]
    },
    {
      "cell_type": "code",
      "metadata": {
        "id": "PKyAS1m_uhj_",
        "colab": {
          "base_uri": "https://localhost:8080/"
        },
        "outputId": "cfb454bc-559c-4a44-c732-16bda63301aa"
      },
      "source": [
        "#procesos federales administrativos y civiles en segunda instancia\n",
        "#Conflicto de acumulación\n",
        "cubo %>%\n",
        "filter(tp_organo == \"Tribunales Unitarios de Circuito\") %>%\n",
        "filter(tp_asunto == \"procesos federales administrativos y civiles en segunda instancia\") %>%\n",
        "filter(tp_procedimiento == \"Conflicto de Acumulación\" | tp_procedimiento ==\"Conflicto de acumulación\" | tp_procedimiento ==\"Conflicto De acumulación\") %>%\n",
        "mutate(egresos = egresos + egresos_acuerdo) %>% # egresos + egresos por acuerdo?\n",
        "select(sentido,  egresos, egresos_acuerdo)  %>%\n",
        "group_by(sentido) %>%\n",
        "summarise_all(list(sum)) %>%\n",
        "mutate(sentido = case_when(\n",
        "  nchar(sentido)<1 ~ \"Egreso por Acuerdo\",\n",
        "  TRUE ~ sentido\n",
        ")) %>%\n",
        "mutate(egresos = case_when(\n",
        "  sentido == \"Egreso por Acuerdo\" ~ egresos_acuerdo,\n",
        "  TRUE ~ egresos\n",
        ")) %>%\n",
        "select(-egresos_acuerdo)  %>%\n",
        "pivot_wider(names_from = sentido, values_from = egresos)"
      ],
      "execution_count": null,
      "outputs": [
        {
          "output_type": "display_data",
          "data": {
            "text/plain": [
              "  Egreso por Acuerdo No procede acumulación Otro Procede acumulación\n",
              "1 0                  0                      1    1                  "
            ],
            "text/latex": "A tibble: 1 × 4\n\\begin{tabular}{llll}\n Egreso por Acuerdo & No procede acumulación & Otro & Procede acumulación\\\\\n <int> & <int> & <int> & <int>\\\\\n\\hline\n\t 0 & 0 & 1 & 1\\\\\n\\end{tabular}\n",
            "text/markdown": "\nA tibble: 1 × 4\n\n| Egreso por Acuerdo &lt;int&gt; | No procede acumulación &lt;int&gt; | Otro &lt;int&gt; | Procede acumulación &lt;int&gt; |\n|---|---|---|---|\n| 0 | 0 | 1 | 1 |\n\n",
            "text/html": [
              "<table class=\"dataframe\">\n",
              "<caption>A tibble: 1 × 4</caption>\n",
              "<thead>\n",
              "\t<tr><th scope=col>Egreso por Acuerdo</th><th scope=col>No procede acumulación</th><th scope=col>Otro</th><th scope=col>Procede acumulación</th></tr>\n",
              "\t<tr><th scope=col>&lt;int&gt;</th><th scope=col>&lt;int&gt;</th><th scope=col>&lt;int&gt;</th><th scope=col>&lt;int&gt;</th></tr>\n",
              "</thead>\n",
              "<tbody>\n",
              "\t<tr><td>0</td><td>0</td><td>1</td><td>1</td></tr>\n",
              "</tbody>\n",
              "</table>\n"
            ]
          },
          "metadata": {
            "tags": []
          }
        }
      ]
    },
    {
      "cell_type": "code",
      "metadata": {
        "id": "yLZvLYlKuiEj",
        "colab": {
          "base_uri": "https://localhost:8080/"
        },
        "outputId": "fc0ee368-f3a5-4b5a-afc6-feadfcf75527"
      },
      "source": [
        "#procesos federales administrativos y civiles en segunda instancia\n",
        "#Otro\n",
        "cubo %>%\n",
        "filter(tp_organo == \"Tribunales Unitarios de Circuito\") %>%\n",
        "filter(tp_asunto == \"procesos federales administrativos y civiles en segunda instancia\") %>%\n",
        "filter(tp_procedimiento == \"Otro\") %>%\n",
        "mutate(egresos = egresos + egresos_acuerdo) %>% # egresos + egresos por acuerdo?\n",
        "select(sentido,  egresos, egresos_acuerdo)  %>%\n",
        "group_by(sentido) %>%\n",
        "summarise_all(list(sum)) %>%\n",
        "mutate(sentido = case_when(\n",
        "  nchar(sentido)<1 ~ \"Egreso por Acuerdo\",\n",
        "  TRUE ~ sentido\n",
        ")) %>%\n",
        "mutate(egresos = case_when(\n",
        "  sentido == \"Egreso por Acuerdo\" ~ egresos_acuerdo,\n",
        "  TRUE ~ egresos\n",
        ")) %>%\n",
        "select(-egresos_acuerdo)  %>%\n",
        "pivot_wider( names_from = sentido, values_from = egresos)"
      ],
      "execution_count": null,
      "outputs": [
        {
          "output_type": "display_data",
          "data": {
            "text/plain": [
              "  Egreso por Acuerdo Otro\n",
              "1 0                  218 "
            ],
            "text/latex": "A tibble: 1 × 2\n\\begin{tabular}{ll}\n Egreso por Acuerdo & Otro\\\\\n <int> & <int>\\\\\n\\hline\n\t 0 & 218\\\\\n\\end{tabular}\n",
            "text/markdown": "\nA tibble: 1 × 2\n\n| Egreso por Acuerdo &lt;int&gt; | Otro &lt;int&gt; |\n|---|---|\n| 0 | 218 |\n\n",
            "text/html": [
              "<table class=\"dataframe\">\n",
              "<caption>A tibble: 1 × 2</caption>\n",
              "<thead>\n",
              "\t<tr><th scope=col>Egreso por Acuerdo</th><th scope=col>Otro</th></tr>\n",
              "\t<tr><th scope=col>&lt;int&gt;</th><th scope=col>&lt;int&gt;</th></tr>\n",
              "</thead>\n",
              "<tbody>\n",
              "\t<tr><td>0</td><td>218</td></tr>\n",
              "</tbody>\n",
              "</table>\n"
            ]
          },
          "metadata": {
            "tags": []
          }
        }
      ]
    },
    {
      "cell_type": "code",
      "metadata": {
        "id": "-o3YfJn0xczF",
        "colab": {
          "base_uri": "https://localhost:8080/",
          "height": 50
        },
        "outputId": "49f9ecff-7479-4128-b42d-c0a7603a9190"
      },
      "source": [
        "\n",
        "# Otros\n",
        "\n",
        "cubo %>%\n",
        "filter(tp_organo == \"Tribunales Unitarios de Circuito\") %>%\n",
        "filter(grepl(\"inocencia\", tp_asunto)) ->v\n",
        "\n",
        "\n",
        "sum(v$egresos)\n",
        "sum(v$egresos_acuerdo)\n",
        "\n"
      ],
      "execution_count": null,
      "outputs": [
        {
          "output_type": "display_data",
          "data": {
            "text/plain": [
              "[1] 36"
            ],
            "text/latex": "36",
            "text/markdown": "36",
            "text/html": [
              "36"
            ]
          },
          "metadata": {
            "tags": []
          }
        },
        {
          "output_type": "display_data",
          "data": {
            "text/plain": [
              "[1] 0"
            ],
            "text/latex": "0",
            "text/markdown": "0",
            "text/html": [
              "0"
            ]
          },
          "metadata": {
            "tags": []
          }
        }
      ]
    },
    {
      "cell_type": "code",
      "metadata": {
        "id": "et7SSNDbP06J",
        "colab": {
          "base_uri": "https://localhost:8080/"
        },
        "outputId": "b8ff81b1-6660-4bdc-a34e-1f75a8227fac"
      },
      "source": [
        "cubo %>%\n",
        "filter(tp_organo == \"Tribunales Unitarios de Circuito\") %>%\n",
        "distinct(tp_asunto, tp_procedimiento)"
      ],
      "execution_count": null,
      "outputs": [
        {
          "output_type": "display_data",
          "data": {
            "text/plain": [
              "   tp_asunto                                                        \n",
              "1  amparo indirecto                                                 \n",
              "2  procesos federales penales en segunda instancia                  \n",
              "3  procesos federales penales en segunda instancia                  \n",
              "4  procesos federales penales en segunda instancia                  \n",
              "5  procesos federales penales en segunda instancia                  \n",
              "6  procesos federales penales en segunda instancia                  \n",
              "7  procesos federales penales en segunda instancia                  \n",
              "8  procesos federales penales en segunda instancia                  \n",
              "9  reconocimiento de inocencia y anulación de sentencia             \n",
              "10 reconocimiento de inocencia y anulación de sentencia             \n",
              "11 procesos federales administrativos y civiles en segunda instancia\n",
              "12 procesos federales administrativos y civiles en segunda instancia\n",
              "13 procesos federales administrativos y civiles en segunda instancia\n",
              "14 procesos federales administrativos y civiles en segunda instancia\n",
              "15 procesos federales administrativos y civiles en segunda instancia\n",
              "16 procesos federales administrativos y civiles en segunda instancia\n",
              "17 procesos federales administrativos y civiles en segunda instancia\n",
              "18 Reconocimiento de inocencia y anulación de sentencia             \n",
              "19 Reconocimiento de inocencia y anulación de sentencia             \n",
              "20 reconocimiento de inocencia y anulación de sentencia             \n",
              "21 procesos federales penales en segunda instancia                  \n",
              "22 procesos federales administrativos y civiles en segunda instancia\n",
              "23 procesos federales penales en segunda instancia                  \n",
              "24 procesos federales administrativos y civiles en segunda instancia\n",
              "   tp_procedimiento           \n",
              "1                             \n",
              "2  Apelación                  \n",
              "3  Competencia entre jueces   \n",
              "4  Conflicto De Acumulación   \n",
              "5  Denegada Apelación         \n",
              "6  Impedimento                \n",
              "7  Otro                       \n",
              "8  Queja                      \n",
              "9  Anulación de sentencia     \n",
              "10 Reconocimiento de inocencia\n",
              "11 Apelación                  \n",
              "12 Competencia entre jueces   \n",
              "13 Conflicto de Acumulación   \n",
              "14 Denegada Apelación         \n",
              "15 Impedimento                \n",
              "16 Otro                       \n",
              "17 Queja                      \n",
              "18 Anulación de Sentencia     \n",
              "19 Reconocimiento de Inocencia\n",
              "20 Anulación de Sentencia     \n",
              "21 Denegada apelación         \n",
              "22 Denegada apelación         \n",
              "23 Conflicto de acumulación   \n",
              "24 Conflicto de acumulación   "
            ],
            "text/latex": "A tibble: 24 × 2\n\\begin{tabular}{ll}\n tp\\_asunto & tp\\_procedimiento\\\\\n <chr> & <chr>\\\\\n\\hline\n\t amparo indirecto                                                  &                            \\\\\n\t procesos federales penales en segunda instancia                   & Apelación                  \\\\\n\t procesos federales penales en segunda instancia                   & Competencia entre jueces   \\\\\n\t procesos federales penales en segunda instancia                   & Conflicto De Acumulación   \\\\\n\t procesos federales penales en segunda instancia                   & Denegada Apelación         \\\\\n\t procesos federales penales en segunda instancia                   & Impedimento                \\\\\n\t procesos federales penales en segunda instancia                   & Otro                       \\\\\n\t procesos federales penales en segunda instancia                   & Queja                      \\\\\n\t reconocimiento de inocencia y anulación de sentencia              & Anulación de sentencia     \\\\\n\t reconocimiento de inocencia y anulación de sentencia              & Reconocimiento de inocencia\\\\\n\t procesos federales administrativos y civiles en segunda instancia & Apelación                  \\\\\n\t procesos federales administrativos y civiles en segunda instancia & Competencia entre jueces   \\\\\n\t procesos federales administrativos y civiles en segunda instancia & Conflicto de Acumulación   \\\\\n\t procesos federales administrativos y civiles en segunda instancia & Denegada Apelación         \\\\\n\t procesos federales administrativos y civiles en segunda instancia & Impedimento                \\\\\n\t procesos federales administrativos y civiles en segunda instancia & Otro                       \\\\\n\t procesos federales administrativos y civiles en segunda instancia & Queja                      \\\\\n\t Reconocimiento de inocencia y anulación de sentencia              & Anulación de Sentencia     \\\\\n\t Reconocimiento de inocencia y anulación de sentencia              & Reconocimiento de Inocencia\\\\\n\t reconocimiento de inocencia y anulación de sentencia              & Anulación de Sentencia     \\\\\n\t procesos federales penales en segunda instancia                   & Denegada apelación         \\\\\n\t procesos federales administrativos y civiles en segunda instancia & Denegada apelación         \\\\\n\t procesos federales penales en segunda instancia                   & Conflicto de acumulación   \\\\\n\t procesos federales administrativos y civiles en segunda instancia & Conflicto de acumulación   \\\\\n\\end{tabular}\n",
            "text/markdown": "\nA tibble: 24 × 2\n\n| tp_asunto &lt;chr&gt; | tp_procedimiento &lt;chr&gt; |\n|---|---|\n| amparo indirecto                                                  | <!----> |\n| procesos federales penales en segunda instancia                   | Apelación                   |\n| procesos federales penales en segunda instancia                   | Competencia entre jueces    |\n| procesos federales penales en segunda instancia                   | Conflicto De Acumulación    |\n| procesos federales penales en segunda instancia                   | Denegada Apelación          |\n| procesos federales penales en segunda instancia                   | Impedimento                 |\n| procesos federales penales en segunda instancia                   | Otro                        |\n| procesos federales penales en segunda instancia                   | Queja                       |\n| reconocimiento de inocencia y anulación de sentencia              | Anulación de sentencia      |\n| reconocimiento de inocencia y anulación de sentencia              | Reconocimiento de inocencia |\n| procesos federales administrativos y civiles en segunda instancia | Apelación                   |\n| procesos federales administrativos y civiles en segunda instancia | Competencia entre jueces    |\n| procesos federales administrativos y civiles en segunda instancia | Conflicto de Acumulación    |\n| procesos federales administrativos y civiles en segunda instancia | Denegada Apelación          |\n| procesos federales administrativos y civiles en segunda instancia | Impedimento                 |\n| procesos federales administrativos y civiles en segunda instancia | Otro                        |\n| procesos federales administrativos y civiles en segunda instancia | Queja                       |\n| Reconocimiento de inocencia y anulación de sentencia              | Anulación de Sentencia      |\n| Reconocimiento de inocencia y anulación de sentencia              | Reconocimiento de Inocencia |\n| reconocimiento de inocencia y anulación de sentencia              | Anulación de Sentencia      |\n| procesos federales penales en segunda instancia                   | Denegada apelación          |\n| procesos federales administrativos y civiles en segunda instancia | Denegada apelación          |\n| procesos federales penales en segunda instancia                   | Conflicto de acumulación    |\n| procesos federales administrativos y civiles en segunda instancia | Conflicto de acumulación    |\n\n",
            "text/html": [
              "<table class=\"dataframe\">\n",
              "<caption>A tibble: 24 × 2</caption>\n",
              "<thead>\n",
              "\t<tr><th scope=col>tp_asunto</th><th scope=col>tp_procedimiento</th></tr>\n",
              "\t<tr><th scope=col>&lt;chr&gt;</th><th scope=col>&lt;chr&gt;</th></tr>\n",
              "</thead>\n",
              "<tbody>\n",
              "\t<tr><td>amparo indirecto                                                 </td><td>                           </td></tr>\n",
              "\t<tr><td>procesos federales penales en segunda instancia                  </td><td>Apelación                  </td></tr>\n",
              "\t<tr><td>procesos federales penales en segunda instancia                  </td><td>Competencia entre jueces   </td></tr>\n",
              "\t<tr><td>procesos federales penales en segunda instancia                  </td><td>Conflicto De Acumulación   </td></tr>\n",
              "\t<tr><td>procesos federales penales en segunda instancia                  </td><td>Denegada Apelación         </td></tr>\n",
              "\t<tr><td>procesos federales penales en segunda instancia                  </td><td>Impedimento                </td></tr>\n",
              "\t<tr><td>procesos federales penales en segunda instancia                  </td><td>Otro                       </td></tr>\n",
              "\t<tr><td>procesos federales penales en segunda instancia                  </td><td>Queja                      </td></tr>\n",
              "\t<tr><td>reconocimiento de inocencia y anulación de sentencia             </td><td>Anulación de sentencia     </td></tr>\n",
              "\t<tr><td>reconocimiento de inocencia y anulación de sentencia             </td><td>Reconocimiento de inocencia</td></tr>\n",
              "\t<tr><td>procesos federales administrativos y civiles en segunda instancia</td><td>Apelación                  </td></tr>\n",
              "\t<tr><td>procesos federales administrativos y civiles en segunda instancia</td><td>Competencia entre jueces   </td></tr>\n",
              "\t<tr><td>procesos federales administrativos y civiles en segunda instancia</td><td>Conflicto de Acumulación   </td></tr>\n",
              "\t<tr><td>procesos federales administrativos y civiles en segunda instancia</td><td>Denegada Apelación         </td></tr>\n",
              "\t<tr><td>procesos federales administrativos y civiles en segunda instancia</td><td>Impedimento                </td></tr>\n",
              "\t<tr><td>procesos federales administrativos y civiles en segunda instancia</td><td>Otro                       </td></tr>\n",
              "\t<tr><td>procesos federales administrativos y civiles en segunda instancia</td><td>Queja                      </td></tr>\n",
              "\t<tr><td>Reconocimiento de inocencia y anulación de sentencia             </td><td>Anulación de Sentencia     </td></tr>\n",
              "\t<tr><td>Reconocimiento de inocencia y anulación de sentencia             </td><td>Reconocimiento de Inocencia</td></tr>\n",
              "\t<tr><td>reconocimiento de inocencia y anulación de sentencia             </td><td>Anulación de Sentencia     </td></tr>\n",
              "\t<tr><td>procesos federales penales en segunda instancia                  </td><td>Denegada apelación         </td></tr>\n",
              "\t<tr><td>procesos federales administrativos y civiles en segunda instancia</td><td>Denegada apelación         </td></tr>\n",
              "\t<tr><td>procesos federales penales en segunda instancia                  </td><td>Conflicto de acumulación   </td></tr>\n",
              "\t<tr><td>procesos federales administrativos y civiles en segunda instancia</td><td>Conflicto de acumulación   </td></tr>\n",
              "</tbody>\n",
              "</table>\n"
            ]
          },
          "metadata": {
            "tags": []
          }
        }
      ]
    },
    {
      "cell_type": "markdown",
      "metadata": {
        "id": "I6wuzgbVlLyy"
      },
      "source": [
        "## Sección 3: Juzgados de Distrito"
      ]
    },
    {
      "cell_type": "markdown",
      "metadata": {
        "id": "jphUxIbFlgi1"
      },
      "source": [
        "### Pregunta 3.1"
      ]
    },
    {
      "cell_type": "code",
      "metadata": {
        "id": "s5M4jGqIVpvA"
      },
      "source": [
        ""
      ],
      "execution_count": null,
      "outputs": []
    },
    {
      "cell_type": "code",
      "metadata": {
        "id": "tZ9bVycqmHv6"
      },
      "source": [
        "cubo %>%\n",
        "filter(tp_organo == \"Juzgados de Distrito\") %>%\n",
        "filter(!tp_asunto == \"causa penal\") %>%\n",
        "mutate(egresos = egresos + egresos_acuerdo) %>% # egresos + egresos por acuerdo?\n",
        "select(materia_asunto, existencia_inicial, ingresos, egresos, Existencia_final) %>%\n",
        "mutate(materia_asunto = factor(materia_asunto, levels = c('Penal', \n",
        "       'Civil', 'Administrativa',  'Trabajo', \n",
        "        'Mercantil'))) %>% \n",
        "group_by(materia_asunto) %>%\n",
        "summarise_all(list(sum))%>%\n",
        "filter(!is.na(existencia_inicial))  %>%\n",
        "adorn_totals()"
      ],
      "execution_count": null,
      "outputs": []
    },
    {
      "cell_type": "markdown",
      "metadata": {
        "id": "Vg26DnULl6-A"
      },
      "source": [
        "### Pregunta 3.2\n"
      ]
    },
    {
      "cell_type": "markdown",
      "metadata": {
        "id": "oyO7npUll9zG"
      },
      "source": [
        "### Pregunta 3.3"
      ]
    },
    {
      "cell_type": "code",
      "metadata": {
        "id": "7efmIryqgYX8"
      },
      "source": [
        "# Amparo indirecto\n",
        "\n",
        "cubo %>%\n",
        "filter(tp_organo == \"Juzgados de Distrito\") %>%\n",
        "filter(tp_asunto == \"amparo indirecto\") %>%\n",
        "mutate(egresos = egresos + egresos_acuerdo) %>% # egresos + egresos por acuerdo?\n",
        "select(circuito,  existencia_inicial, ingresos, egresos, Existencia_final) %>%\n",
        "mutate(circuito = factor(circuito, levels = orden_circuitos)) %>%\n",
        "group_by(circuito) %>%\n",
        "summarise_all(list(sum))%>%\n",
        "filter(!is.na(existencia_inicial))  %>%\n",
        "adorn_totals()"
      ],
      "execution_count": null,
      "outputs": []
    },
    {
      "cell_type": "code",
      "metadata": {
        "id": "LqaHn0e7hBMQ"
      },
      "source": [
        "# procesos administrativos y civiles\n",
        "\n",
        "cubo %>%\n",
        "filter(tp_organo == \"Juzgados de Distrito\") %>%\n",
        "filter(tp_asunto == \"procesos administrativos y civiles\") %>%\n",
        "mutate(egresos = egresos + egresos_acuerdo) %>% # egresos + egresos por acuerdo?\n",
        "select(circuito,  existencia_inicial, ingresos, egresos, Existencia_final) %>%\n",
        "mutate(circuito = factor(circuito, levels = orden_circuitos)) %>%\n",
        "group_by(circuito) %>%\n",
        "summarise_all(list(sum))%>%\n",
        "filter(!is.na(existencia_inicial))  %>%\n",
        "adorn_totals()"
      ],
      "execution_count": null,
      "outputs": []
    },
    {
      "cell_type": "code",
      "metadata": {
        "id": "a4CSMsirhVz7"
      },
      "source": [
        "\n",
        "# juicio oral mercantil\n",
        "\n",
        "cubo %>%\n",
        "filter(tp_organo == \"Juzgados de Distrito\") %>%\n",
        "filter(tp_asunto == \"juicio oral mercantil\") %>%\n",
        "mutate(egresos = egresos + egresos_acuerdo) %>% # egresos + egresos por acuerdo?\n",
        "select(circuito,  existencia_inicial, ingresos, egresos, Existencia_final) %>%\n",
        "mutate(circuito = factor(circuito, levels = orden_circuitos)) %>%\n",
        "group_by(circuito) %>%\n",
        "summarise_all(list(sum))%>%\n",
        "filter(!is.na(existencia_inicial))  %>%\n",
        "adorn_totals()"
      ],
      "execution_count": null,
      "outputs": []
    },
    {
      "cell_type": "code",
      "metadata": {
        "id": "79IuUL_wh3Kf"
      },
      "source": [
        "\n",
        "# extinción de dominio\n",
        "\n",
        "cubo %>%\n",
        "filter(tp_organo == \"Juzgados de Distrito\") %>%\n",
        "filter(tp_asunto == \"extinción de dominio\") %>%\n",
        "mutate(egresos = egresos + egresos_acuerdo) %>% # egresos + egresos por acuerdo?\n",
        "select(circuito,  existencia_inicial, ingresos, egresos, Existencia_final) %>%\n",
        "mutate(circuito = factor(circuito, levels = orden_circuitos)) %>%\n",
        "group_by(circuito) %>%\n",
        "summarise_all(list(sum))%>%\n",
        "filter(!is.na(existencia_inicial))  %>%\n",
        "adorn_totals()"
      ],
      "execution_count": null,
      "outputs": []
    },
    {
      "cell_type": "code",
      "metadata": {
        "id": "7Drc9zCEixTC"
      },
      "source": [
        "# varios\n",
        "\n",
        "cubo %>%\n",
        "filter(tp_organo == \"Juzgados de Distrito\") %>%\n",
        "filter(tp_asunto == \"varios\") %>%\n",
        "mutate(egresos = egresos + egresos_acuerdo) %>% # egresos + egresos por acuerdo?\n",
        "select(circuito,  existencia_inicial, ingresos, egresos, Existencia_final) %>%\n",
        "mutate(circuito = factor(circuito, levels = orden_circuitos)) %>%\n",
        "group_by(circuito) %>%\n",
        "summarise_all(list(sum))%>%\n",
        "filter(!is.na(existencia_inicial))  %>%\n",
        "adorn_totals()"
      ],
      "execution_count": null,
      "outputs": []
    },
    {
      "cell_type": "markdown",
      "metadata": {
        "id": "3YNtjDDYx3Yo"
      },
      "source": [
        "### Pregunta 3.4"
      ]
    },
    {
      "cell_type": "code",
      "metadata": {
        "id": "CJburQe-x4-4"
      },
      "source": [
        "cubo %>%\n",
        "filter(tp_organo == \"Juzgados de Distrito\") %>%\n",
        "filter(tp_asunto == \"amparo indirecto\") %>%\n",
        "select(materia_asunto, existencia_inicial, ingresos, egresos, Existencia_final) %>%\n",
        "mutate(materia_asunto = factor(materia_asunto, levels = c('Penal', \n",
        "       'Civil', 'Administrativa',  'Trabajo', \n",
        "        'Mercantil'))) %>%\n",
        "group_by(materia_asunto) %>%\n",
        "summarise_all(list(sum)) %>%\n",
        "pivot_longer(-materia_asunto, names_to = \"status\", values_to=\"valor\")%>%\n",
        "pivot_wider(names_from = materia_asunto, values_from = valor)"
      ],
      "execution_count": null,
      "outputs": []
    },
    {
      "cell_type": "markdown",
      "metadata": {
        "id": "mgLy95njyG5G"
      },
      "source": [
        "### Pregunta 3.5"
      ]
    },
    {
      "cell_type": "code",
      "metadata": {
        "id": "V86DybqnyMj3"
      },
      "source": [
        "# amparo indirecto\n",
        "\n",
        "cubo %>%\n",
        "filter(tp_organo == \"Juzgados de Distrito\") %>%\n",
        "filter(tp_asunto == \"amparo indirecto\")  %>%\n",
        "select(materia_asunto, sentido,  egresos, egresos_acuerdo)  %>%\n",
        "mutate(materia_asunto = factor(materia_asunto, levels = c('Penal', \n",
        "       'Civil', 'Administrativa',  'Trabajo', \n",
        "        'Mercantil'))) %>%\n",
        "mutate(materia_asunto = as.character(materia_asunto))%>%\n",
        "group_by(materia_asunto, sentido) %>%\n",
        "summarise_all(list(sum)) %>%\n",
        "mutate(sentido = case_when(\n",
        "  nchar(sentido)<1 ~ \"Egreso por Acuerdo\",\n",
        "  TRUE ~ sentido\n",
        ")) %>%\n",
        "mutate(egresos = case_when(\n",
        "  sentido == \"Egreso por Acuerdo\" ~ egresos_acuerdo,\n",
        "  TRUE ~ egresos\n",
        ")) %>%\n",
        "select(-egresos_acuerdo)  %>%\n",
        "pivot_wider(materia_asunto, names_from = sentido, values_from = egresos)"
      ],
      "execution_count": null,
      "outputs": []
    },
    {
      "cell_type": "code",
      "metadata": {
        "colab": {
          "background_save": true
        },
        "id": "kZUpRfz61Gvb",
        "outputId": "1f2d379a-bebe-4e9e-f5a0-583a5dc9c806"
      },
      "source": [
        "cubo %>%\n",
        "filter(tp_organo == \"Juzgados de Distrito\") %>%\n",
        "filter(tp_asunto == \"procesos administrativos y civiles\") %>%\n",
        "select(materia_asunto, sentido,  egresos, egresos_acuerdo)  %>%\n",
        "mutate(materia_asunto = factor(materia_asunto, levels = c('Penal', \n",
        "       'Civil', 'Administrativa',  'Trabajo', \n",
        "        'Mercantil'))) %>%\n",
        "mutate(materia_asunto = as.character(materia_asunto))%>%\n",
        "group_by(materia_asunto, sentido) %>%\n",
        "summarise_all(list(sum)) %>%\n",
        "mutate(sentido = case_when(\n",
        "  nchar(sentido)<1 ~ \"Egreso por Acuerdo\",\n",
        "  TRUE ~ sentido\n",
        ")) %>%\n",
        "mutate(egresos = case_when(\n",
        "  sentido == \"Egreso por Acuerdo\" ~ egresos_acuerdo,\n",
        "  TRUE ~ egresos\n",
        ")) %>%\n",
        "select(-egresos_acuerdo)  %>%\n",
        "pivot_wider(materia_asunto, names_from = sentido, values_from = egresos)"
      ],
      "execution_count": null,
      "outputs": [
        {
          "output_type": "display_data",
          "data": {
            "text/html": [
              "<table class=\"dataframe\">\n",
              "<caption>A grouped_df: 3 × 14</caption>\n",
              "<thead>\n",
              "\t<tr><th scope=col>materia_asunto</th><th scope=col>Egreso por Acuerdo</th><th scope=col>Absolutoria</th><th scope=col>Acumulación</th><th scope=col>Caducidad</th><th scope=col>Condenatoria</th><th scope=col>Declaratoria</th><th scope=col>Desechamiento</th><th scope=col>Desistimiento</th><th scope=col>Impedimento</th><th scope=col>Incompetencia</th><th scope=col>No interpuesta</th><th scope=col>Otro</th><th scope=col>Sin materia</th></tr>\n",
              "\t<tr><th scope=col>&lt;chr&gt;</th><th scope=col>&lt;int&gt;</th><th scope=col>&lt;int&gt;</th><th scope=col>&lt;int&gt;</th><th scope=col>&lt;int&gt;</th><th scope=col>&lt;int&gt;</th><th scope=col>&lt;int&gt;</th><th scope=col>&lt;int&gt;</th><th scope=col>&lt;int&gt;</th><th scope=col>&lt;int&gt;</th><th scope=col>&lt;int&gt;</th><th scope=col>&lt;int&gt;</th><th scope=col>&lt;int&gt;</th><th scope=col>&lt;int&gt;</th></tr>\n",
              "</thead>\n",
              "<tbody>\n",
              "\t<tr><td>Administrativa</td><td>0</td><td>  4</td><td>0</td><td>   3</td><td>   4</td><td> 5</td><td>  36</td><td>  1</td><td> 0</td><td>  36</td><td>  1</td><td>  1</td><td>0</td></tr>\n",
              "\t<tr><td>Civil         </td><td>1</td><td> 75</td><td>1</td><td> 279</td><td> 173</td><td>77</td><td>1460</td><td> 60</td><td>10</td><td> 493</td><td> 45</td><td>290</td><td>0</td></tr>\n",
              "\t<tr><td>Mercantil     </td><td>0</td><td>332</td><td>6</td><td>2730</td><td>2206</td><td>59</td><td>8844</td><td>729</td><td>13</td><td>1301</td><td>302</td><td>907</td><td>1</td></tr>\n",
              "</tbody>\n",
              "</table>\n"
            ],
            "text/latex": "A grouped\\_df: 3 × 14\n\\begin{tabular}{llllllllllllll}\n materia\\_asunto & Egreso por Acuerdo & Absolutoria & Acumulación & Caducidad & Condenatoria & Declaratoria & Desechamiento & Desistimiento & Impedimento & Incompetencia & No interpuesta & Otro & Sin materia\\\\\n <chr> & <int> & <int> & <int> & <int> & <int> & <int> & <int> & <int> & <int> & <int> & <int> & <int> & <int>\\\\\n\\hline\n\t Administrativa & 0 &   4 & 0 &    3 &    4 &  5 &   36 &   1 &  0 &   36 &   1 &   1 & 0\\\\\n\t Civil          & 1 &  75 & 1 &  279 &  173 & 77 & 1460 &  60 & 10 &  493 &  45 & 290 & 0\\\\\n\t Mercantil      & 0 & 332 & 6 & 2730 & 2206 & 59 & 8844 & 729 & 13 & 1301 & 302 & 907 & 1\\\\\n\\end{tabular}\n",
            "text/markdown": "\nA grouped_df: 3 × 14\n\n| materia_asunto &lt;chr&gt; | Egreso por Acuerdo &lt;int&gt; | Absolutoria &lt;int&gt; | Acumulación &lt;int&gt; | Caducidad &lt;int&gt; | Condenatoria &lt;int&gt; | Declaratoria &lt;int&gt; | Desechamiento &lt;int&gt; | Desistimiento &lt;int&gt; | Impedimento &lt;int&gt; | Incompetencia &lt;int&gt; | No interpuesta &lt;int&gt; | Otro &lt;int&gt; | Sin materia &lt;int&gt; |\n|---|---|---|---|---|---|---|---|---|---|---|---|---|---|\n| Administrativa | 0 |   4 | 0 |    3 |    4 |  5 |   36 |   1 |  0 |   36 |   1 |   1 | 0 |\n| Civil          | 1 |  75 | 1 |  279 |  173 | 77 | 1460 |  60 | 10 |  493 |  45 | 290 | 0 |\n| Mercantil      | 0 | 332 | 6 | 2730 | 2206 | 59 | 8844 | 729 | 13 | 1301 | 302 | 907 | 1 |\n\n",
            "text/plain": [
              "  materia_asunto Egreso por Acuerdo Absolutoria Acumulación Caducidad\n",
              "1 Administrativa 0                    4         0              3     \n",
              "2 Civil          1                   75         1            279     \n",
              "3 Mercantil      0                  332         6           2730     \n",
              "  Condenatoria Declaratoria Desechamiento Desistimiento Impedimento\n",
              "1    4          5             36            1            0         \n",
              "2  173         77           1460           60           10         \n",
              "3 2206         59           8844          729           13         \n",
              "  Incompetencia No interpuesta Otro Sin materia\n",
              "1   36            1              1  0          \n",
              "2  493           45            290  0          \n",
              "3 1301          302            907  1          "
            ]
          },
          "metadata": {
            "tags": []
          }
        }
      ]
    },
    {
      "cell_type": "code",
      "metadata": {
        "colab": {
          "background_save": true
        },
        "id": "scByDJZg1Hac",
        "outputId": "afd4b5fd-3c13-4b48-b1b3-9a5c6095fb5f"
      },
      "source": [
        "# juicio oral mercantil\n",
        "\n",
        "cubo %>%\n",
        "filter(tp_organo == \"Juzgados de Distrito\") %>%\n",
        "filter(tp_asunto == \"juicio oral mercantil\") %>%\n",
        "select(materia_asunto, sentido,  egresos, egresos_acuerdo)  %>%\n",
        "mutate(materia_asunto = factor(materia_asunto, levels = c('Penal', \n",
        "       'Civil', 'Administrativa',  'Trabajo', \n",
        "        'Mercantil'))) %>%\n",
        "mutate(materia_asunto = as.character(materia_asunto))%>%\n",
        "group_by(materia_asunto, sentido) %>%\n",
        "summarise_all(list(sum)) %>%\n",
        "mutate(sentido = case_when(\n",
        "  nchar(sentido)<1 ~ \"Egreso por Acuerdo\",\n",
        "  TRUE ~ sentido\n",
        ")) %>%\n",
        "mutate(egresos = case_when(\n",
        "  sentido == \"Egreso por Acuerdo\" ~ egresos_acuerdo,\n",
        "  TRUE ~ egresos\n",
        ")) %>%\n",
        "select(-egresos_acuerdo)  %>%\n",
        "pivot_wider(materia_asunto, names_from = sentido, values_from = egresos)"
      ],
      "execution_count": null,
      "outputs": [
        {
          "output_type": "display_data",
          "data": {
            "text/html": [
              "<table class=\"dataframe\">\n",
              "<caption>A grouped_df: 1 × 14</caption>\n",
              "<thead>\n",
              "\t<tr><th scope=col>materia_asunto</th><th scope=col>Egreso por Acuerdo</th><th scope=col>Absolutoria</th><th scope=col>Acumulación</th><th scope=col>Caducidad</th><th scope=col>Condenatoria</th><th scope=col>Declaratoria</th><th scope=col>Desechamiento</th><th scope=col>Desistimiento</th><th scope=col>Impedimento</th><th scope=col>Incompetencia</th><th scope=col>No interpuesta</th><th scope=col>Otro</th><th scope=col>Sin materia</th></tr>\n",
              "\t<tr><th scope=col>&lt;chr&gt;</th><th scope=col>&lt;int&gt;</th><th scope=col>&lt;int&gt;</th><th scope=col>&lt;int&gt;</th><th scope=col>&lt;int&gt;</th><th scope=col>&lt;int&gt;</th><th scope=col>&lt;int&gt;</th><th scope=col>&lt;int&gt;</th><th scope=col>&lt;int&gt;</th><th scope=col>&lt;int&gt;</th><th scope=col>&lt;int&gt;</th><th scope=col>&lt;int&gt;</th><th scope=col>&lt;int&gt;</th><th scope=col>&lt;int&gt;</th></tr>\n",
              "</thead>\n",
              "<tbody>\n",
              "\t<tr><td>Mercantil</td><td>1905</td><td>227</td><td>0</td><td>552</td><td>1662</td><td>91</td><td>6605</td><td>406</td><td>13</td><td>225</td><td>4</td><td>601</td><td>1</td></tr>\n",
              "</tbody>\n",
              "</table>\n"
            ],
            "text/latex": "A grouped\\_df: 1 × 14\n\\begin{tabular}{llllllllllllll}\n materia\\_asunto & Egreso por Acuerdo & Absolutoria & Acumulación & Caducidad & Condenatoria & Declaratoria & Desechamiento & Desistimiento & Impedimento & Incompetencia & No interpuesta & Otro & Sin materia\\\\\n <chr> & <int> & <int> & <int> & <int> & <int> & <int> & <int> & <int> & <int> & <int> & <int> & <int> & <int>\\\\\n\\hline\n\t Mercantil & 1905 & 227 & 0 & 552 & 1662 & 91 & 6605 & 406 & 13 & 225 & 4 & 601 & 1\\\\\n\\end{tabular}\n",
            "text/markdown": "\nA grouped_df: 1 × 14\n\n| materia_asunto &lt;chr&gt; | Egreso por Acuerdo &lt;int&gt; | Absolutoria &lt;int&gt; | Acumulación &lt;int&gt; | Caducidad &lt;int&gt; | Condenatoria &lt;int&gt; | Declaratoria &lt;int&gt; | Desechamiento &lt;int&gt; | Desistimiento &lt;int&gt; | Impedimento &lt;int&gt; | Incompetencia &lt;int&gt; | No interpuesta &lt;int&gt; | Otro &lt;int&gt; | Sin materia &lt;int&gt; |\n|---|---|---|---|---|---|---|---|---|---|---|---|---|---|\n| Mercantil | 1905 | 227 | 0 | 552 | 1662 | 91 | 6605 | 406 | 13 | 225 | 4 | 601 | 1 |\n\n",
            "text/plain": [
              "  materia_asunto Egreso por Acuerdo Absolutoria Acumulación Caducidad\n",
              "1 Mercantil      1905               227         0           552      \n",
              "  Condenatoria Declaratoria Desechamiento Desistimiento Impedimento\n",
              "1 1662         91           6605          406           13         \n",
              "  Incompetencia No interpuesta Otro Sin materia\n",
              "1 225           4              601  1          "
            ]
          },
          "metadata": {
            "tags": []
          }
        }
      ]
    }
  ]
}